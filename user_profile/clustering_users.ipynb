{
 "cells": [
  {
   "cell_type": "code",
   "execution_count": 26,
   "metadata": {},
   "outputs": [],
   "source": [
    "import pandas as pd\n",
    "import json \n",
    "import numpy as np\n",
    "from tqdm import tqdm\n",
    "import ast\n",
    "import seaborn as sns\n",
    "from matplotlib import pyplot as plt"
   ]
  },
  {
   "cell_type": "code",
   "execution_count": 27,
   "metadata": {},
   "outputs": [],
   "source": [
    "import kmedoids"
   ]
  },
  {
   "cell_type": "code",
   "execution_count": 28,
   "metadata": {},
   "outputs": [],
   "source": [
    "from scipy.spatial import distance\n",
    "from scipy.special import kl_div"
   ]
  },
  {
   "cell_type": "code",
   "execution_count": 29,
   "metadata": {},
   "outputs": [],
   "source": [
    "categories_interest = pd.read_csv('../categories_distribution_subprofiles_10k.csv', index_col=0)"
   ]
  },
  {
   "cell_type": "code",
   "execution_count": 30,
   "metadata": {},
   "outputs": [
    {
     "data": {
      "text/html": [
       "<div>\n",
       "<style scoped>\n",
       "    .dataframe tbody tr th:only-of-type {\n",
       "        vertical-align: middle;\n",
       "    }\n",
       "\n",
       "    .dataframe tbody tr th {\n",
       "        vertical-align: top;\n",
       "    }\n",
       "\n",
       "    .dataframe thead th {\n",
       "        text-align: right;\n",
       "    }\n",
       "</style>\n",
       "<table border=\"1\" class=\"dataframe\">\n",
       "  <thead>\n",
       "    <tr style=\"text-align: right;\">\n",
       "      <th></th>\n",
       "      <th>0</th>\n",
       "      <th>1</th>\n",
       "      <th>2</th>\n",
       "      <th>3</th>\n",
       "      <th>4</th>\n",
       "      <th>5</th>\n",
       "      <th>6</th>\n",
       "      <th>7</th>\n",
       "      <th>8</th>\n",
       "      <th>9</th>\n",
       "      <th>10</th>\n",
       "      <th>11</th>\n",
       "      <th>12</th>\n",
       "    </tr>\n",
       "  </thead>\n",
       "  <tbody>\n",
       "    <tr>\n",
       "      <th>504290</th>\n",
       "      <td>0.371146</td>\n",
       "      <td>0.000000</td>\n",
       "      <td>0.000000</td>\n",
       "      <td>0.026510</td>\n",
       "      <td>0.073689</td>\n",
       "      <td>0.000000</td>\n",
       "      <td>0.121311</td>\n",
       "      <td>0.362576</td>\n",
       "      <td>0.000000</td>\n",
       "      <td>0.018257</td>\n",
       "      <td>0.000000</td>\n",
       "      <td>0.000000</td>\n",
       "      <td>0.026510</td>\n",
       "    </tr>\n",
       "    <tr>\n",
       "      <th>219624</th>\n",
       "      <td>0.338185</td>\n",
       "      <td>0.024156</td>\n",
       "      <td>0.000000</td>\n",
       "      <td>0.022688</td>\n",
       "      <td>0.048312</td>\n",
       "      <td>0.000000</td>\n",
       "      <td>0.151739</td>\n",
       "      <td>0.286625</td>\n",
       "      <td>0.000000</td>\n",
       "      <td>0.058824</td>\n",
       "      <td>0.048312</td>\n",
       "      <td>0.021158</td>\n",
       "      <td>0.000000</td>\n",
       "    </tr>\n",
       "    <tr>\n",
       "      <th>10420</th>\n",
       "      <td>0.338911</td>\n",
       "      <td>0.000000</td>\n",
       "      <td>0.000000</td>\n",
       "      <td>0.000000</td>\n",
       "      <td>0.217548</td>\n",
       "      <td>0.021182</td>\n",
       "      <td>0.037526</td>\n",
       "      <td>0.042364</td>\n",
       "      <td>0.021182</td>\n",
       "      <td>0.185595</td>\n",
       "      <td>0.081045</td>\n",
       "      <td>0.054647</td>\n",
       "      <td>0.000000</td>\n",
       "    </tr>\n",
       "    <tr>\n",
       "      <th>511303</th>\n",
       "      <td>0.152604</td>\n",
       "      <td>0.000000</td>\n",
       "      <td>0.000000</td>\n",
       "      <td>0.021801</td>\n",
       "      <td>0.078364</td>\n",
       "      <td>0.037012</td>\n",
       "      <td>0.057583</td>\n",
       "      <td>0.238153</td>\n",
       "      <td>0.000000</td>\n",
       "      <td>0.354836</td>\n",
       "      <td>0.020975</td>\n",
       "      <td>0.038672</td>\n",
       "      <td>0.000000</td>\n",
       "    </tr>\n",
       "    <tr>\n",
       "      <th>184564</th>\n",
       "      <td>0.276437</td>\n",
       "      <td>0.000000</td>\n",
       "      <td>0.000000</td>\n",
       "      <td>0.024599</td>\n",
       "      <td>0.079940</td>\n",
       "      <td>0.000000</td>\n",
       "      <td>0.089455</td>\n",
       "      <td>0.154720</td>\n",
       "      <td>0.027644</td>\n",
       "      <td>0.273652</td>\n",
       "      <td>0.027644</td>\n",
       "      <td>0.045911</td>\n",
       "      <td>0.000000</td>\n",
       "    </tr>\n",
       "    <tr>\n",
       "      <th>...</th>\n",
       "      <td>...</td>\n",
       "      <td>...</td>\n",
       "      <td>...</td>\n",
       "      <td>...</td>\n",
       "      <td>...</td>\n",
       "      <td>...</td>\n",
       "      <td>...</td>\n",
       "      <td>...</td>\n",
       "      <td>...</td>\n",
       "      <td>...</td>\n",
       "      <td>...</td>\n",
       "      <td>...</td>\n",
       "      <td>...</td>\n",
       "    </tr>\n",
       "    <tr>\n",
       "      <th>292183</th>\n",
       "      <td>0.282792</td>\n",
       "      <td>0.000000</td>\n",
       "      <td>0.000000</td>\n",
       "      <td>0.000000</td>\n",
       "      <td>0.000000</td>\n",
       "      <td>0.000000</td>\n",
       "      <td>0.054277</td>\n",
       "      <td>0.087007</td>\n",
       "      <td>0.000000</td>\n",
       "      <td>0.393240</td>\n",
       "      <td>0.000000</td>\n",
       "      <td>0.182684</td>\n",
       "      <td>0.000000</td>\n",
       "    </tr>\n",
       "    <tr>\n",
       "      <th>646273</th>\n",
       "      <td>0.476536</td>\n",
       "      <td>0.000000</td>\n",
       "      <td>0.000000</td>\n",
       "      <td>0.000000</td>\n",
       "      <td>0.029783</td>\n",
       "      <td>0.000000</td>\n",
       "      <td>0.110690</td>\n",
       "      <td>0.174696</td>\n",
       "      <td>0.029783</td>\n",
       "      <td>0.128191</td>\n",
       "      <td>0.000000</td>\n",
       "      <td>0.050321</td>\n",
       "      <td>0.000000</td>\n",
       "    </tr>\n",
       "    <tr>\n",
       "      <th>324828</th>\n",
       "      <td>0.174910</td>\n",
       "      <td>0.000000</td>\n",
       "      <td>0.000000</td>\n",
       "      <td>0.000000</td>\n",
       "      <td>0.260469</td>\n",
       "      <td>0.047388</td>\n",
       "      <td>0.012758</td>\n",
       "      <td>0.048996</td>\n",
       "      <td>0.000000</td>\n",
       "      <td>0.349710</td>\n",
       "      <td>0.000000</td>\n",
       "      <td>0.105769</td>\n",
       "      <td>0.000000</td>\n",
       "    </tr>\n",
       "    <tr>\n",
       "      <th>108536</th>\n",
       "      <td>0.378734</td>\n",
       "      <td>0.000000</td>\n",
       "      <td>0.022237</td>\n",
       "      <td>0.000000</td>\n",
       "      <td>0.313166</td>\n",
       "      <td>0.000000</td>\n",
       "      <td>0.075075</td>\n",
       "      <td>0.094684</td>\n",
       "      <td>0.000000</td>\n",
       "      <td>0.055484</td>\n",
       "      <td>0.030366</td>\n",
       "      <td>0.030254</td>\n",
       "      <td>0.000000</td>\n",
       "    </tr>\n",
       "    <tr>\n",
       "      <th>560445</th>\n",
       "      <td>0.169113</td>\n",
       "      <td>0.000000</td>\n",
       "      <td>0.000000</td>\n",
       "      <td>0.000000</td>\n",
       "      <td>0.045098</td>\n",
       "      <td>0.084285</td>\n",
       "      <td>0.017573</td>\n",
       "      <td>0.072477</td>\n",
       "      <td>0.042772</td>\n",
       "      <td>0.524866</td>\n",
       "      <td>0.000000</td>\n",
       "      <td>0.019657</td>\n",
       "      <td>0.024159</td>\n",
       "    </tr>\n",
       "  </tbody>\n",
       "</table>\n",
       "<p>10000 rows × 13 columns</p>\n",
       "</div>"
      ],
      "text/plain": [
       "               0         1         2         3         4         5         6  \\\n",
       "504290  0.371146  0.000000  0.000000  0.026510  0.073689  0.000000  0.121311   \n",
       "219624  0.338185  0.024156  0.000000  0.022688  0.048312  0.000000  0.151739   \n",
       "10420   0.338911  0.000000  0.000000  0.000000  0.217548  0.021182  0.037526   \n",
       "511303  0.152604  0.000000  0.000000  0.021801  0.078364  0.037012  0.057583   \n",
       "184564  0.276437  0.000000  0.000000  0.024599  0.079940  0.000000  0.089455   \n",
       "...          ...       ...       ...       ...       ...       ...       ...   \n",
       "292183  0.282792  0.000000  0.000000  0.000000  0.000000  0.000000  0.054277   \n",
       "646273  0.476536  0.000000  0.000000  0.000000  0.029783  0.000000  0.110690   \n",
       "324828  0.174910  0.000000  0.000000  0.000000  0.260469  0.047388  0.012758   \n",
       "108536  0.378734  0.000000  0.022237  0.000000  0.313166  0.000000  0.075075   \n",
       "560445  0.169113  0.000000  0.000000  0.000000  0.045098  0.084285  0.017573   \n",
       "\n",
       "               7         8         9        10        11        12  \n",
       "504290  0.362576  0.000000  0.018257  0.000000  0.000000  0.026510  \n",
       "219624  0.286625  0.000000  0.058824  0.048312  0.021158  0.000000  \n",
       "10420   0.042364  0.021182  0.185595  0.081045  0.054647  0.000000  \n",
       "511303  0.238153  0.000000  0.354836  0.020975  0.038672  0.000000  \n",
       "184564  0.154720  0.027644  0.273652  0.027644  0.045911  0.000000  \n",
       "...          ...       ...       ...       ...       ...       ...  \n",
       "292183  0.087007  0.000000  0.393240  0.000000  0.182684  0.000000  \n",
       "646273  0.174696  0.029783  0.128191  0.000000  0.050321  0.000000  \n",
       "324828  0.048996  0.000000  0.349710  0.000000  0.105769  0.000000  \n",
       "108536  0.094684  0.000000  0.055484  0.030366  0.030254  0.000000  \n",
       "560445  0.072477  0.042772  0.524866  0.000000  0.019657  0.024159  \n",
       "\n",
       "[10000 rows x 13 columns]"
      ]
     },
     "execution_count": 30,
     "metadata": {},
     "output_type": "execute_result"
    }
   ],
   "source": [
    "categories_interest"
   ]
  },
  {
   "cell_type": "code",
   "execution_count": 31,
   "metadata": {},
   "outputs": [],
   "source": [
    "users_list = categories_interest.index.tolist()"
   ]
  },
  {
   "cell_type": "markdown",
   "metadata": {},
   "source": [
    "# Compute polarization values"
   ]
  },
  {
   "cell_type": "markdown",
   "metadata": {},
   "source": [
    "## Entropy"
   ]
  },
  {
   "cell_type": "code",
   "execution_count": 32,
   "metadata": {},
   "outputs": [],
   "source": [
    "from scipy.stats import entropy"
   ]
  },
  {
   "cell_type": "code",
   "execution_count": 33,
   "metadata": {},
   "outputs": [],
   "source": [
    "u_values = pd.DataFrame(index=users_list)"
   ]
  },
  {
   "cell_type": "code",
   "execution_count": 34,
   "metadata": {},
   "outputs": [],
   "source": [
    "def normalized_entropy(distribution):\n",
    "    return entropy(distribution, base=2)/np.log2(len(distribution))"
   ]
  },
  {
   "cell_type": "code",
   "execution_count": 35,
   "metadata": {},
   "outputs": [
    {
     "name": "stderr",
     "output_type": "stream",
     "text": [
      "100%|██████████| 10000/10000 [00:01<00:00, 8305.28it/s]\n"
     ]
    }
   ],
   "source": [
    "for u in tqdm(users_list):\n",
    "    distrib_user = categories_interest.loc[u].values.tolist()\n",
    "    entropy_value = normalized_entropy(distrib_user)\n",
    "    u_values.loc[u,'entropy'] = entropy_value"
   ]
  },
  {
   "cell_type": "code",
   "execution_count": 36,
   "metadata": {},
   "outputs": [
    {
     "data": {
      "text/html": [
       "<div>\n",
       "<style scoped>\n",
       "    .dataframe tbody tr th:only-of-type {\n",
       "        vertical-align: middle;\n",
       "    }\n",
       "\n",
       "    .dataframe tbody tr th {\n",
       "        vertical-align: top;\n",
       "    }\n",
       "\n",
       "    .dataframe thead th {\n",
       "        text-align: right;\n",
       "    }\n",
       "</style>\n",
       "<table border=\"1\" class=\"dataframe\">\n",
       "  <thead>\n",
       "    <tr style=\"text-align: right;\">\n",
       "      <th></th>\n",
       "      <th>entropy</th>\n",
       "    </tr>\n",
       "  </thead>\n",
       "  <tbody>\n",
       "    <tr>\n",
       "      <th>504290</th>\n",
       "      <td>0.565055</td>\n",
       "    </tr>\n",
       "    <tr>\n",
       "      <th>219624</th>\n",
       "      <td>0.673612</td>\n",
       "    </tr>\n",
       "    <tr>\n",
       "      <th>10420</th>\n",
       "      <td>0.699441</td>\n",
       "    </tr>\n",
       "    <tr>\n",
       "      <th>511303</th>\n",
       "      <td>0.691014</td>\n",
       "    </tr>\n",
       "    <tr>\n",
       "      <th>184564</th>\n",
       "      <td>0.720360</td>\n",
       "    </tr>\n",
       "    <tr>\n",
       "      <th>...</th>\n",
       "      <td>...</td>\n",
       "    </tr>\n",
       "    <tr>\n",
       "      <th>292183</th>\n",
       "      <td>0.547910</td>\n",
       "    </tr>\n",
       "    <tr>\n",
       "      <th>646273</th>\n",
       "      <td>0.594439</td>\n",
       "    </tr>\n",
       "    <tr>\n",
       "      <th>324828</th>\n",
       "      <td>0.627033</td>\n",
       "    </tr>\n",
       "    <tr>\n",
       "      <th>108536</th>\n",
       "      <td>0.626099</td>\n",
       "    </tr>\n",
       "    <tr>\n",
       "      <th>560445</th>\n",
       "      <td>0.604437</td>\n",
       "    </tr>\n",
       "  </tbody>\n",
       "</table>\n",
       "<p>10000 rows × 1 columns</p>\n",
       "</div>"
      ],
      "text/plain": [
       "         entropy\n",
       "504290  0.565055\n",
       "219624  0.673612\n",
       "10420   0.699441\n",
       "511303  0.691014\n",
       "184564  0.720360\n",
       "...          ...\n",
       "292183  0.547910\n",
       "646273  0.594439\n",
       "324828  0.627033\n",
       "108536  0.626099\n",
       "560445  0.604437\n",
       "\n",
       "[10000 rows x 1 columns]"
      ]
     },
     "execution_count": 36,
     "metadata": {},
     "output_type": "execute_result"
    }
   ],
   "source": [
    "u_values"
   ]
  },
  {
   "cell_type": "code",
   "execution_count": 37,
   "metadata": {},
   "outputs": [
    {
     "data": {
      "text/html": [
       "<div>\n",
       "<style scoped>\n",
       "    .dataframe tbody tr th:only-of-type {\n",
       "        vertical-align: middle;\n",
       "    }\n",
       "\n",
       "    .dataframe tbody tr th {\n",
       "        vertical-align: top;\n",
       "    }\n",
       "\n",
       "    .dataframe thead th {\n",
       "        text-align: right;\n",
       "    }\n",
       "</style>\n",
       "<table border=\"1\" class=\"dataframe\">\n",
       "  <thead>\n",
       "    <tr style=\"text-align: right;\">\n",
       "      <th></th>\n",
       "      <th>entropy</th>\n",
       "    </tr>\n",
       "  </thead>\n",
       "  <tbody>\n",
       "    <tr>\n",
       "      <th>count</th>\n",
       "      <td>10000.000000</td>\n",
       "    </tr>\n",
       "    <tr>\n",
       "      <th>mean</th>\n",
       "      <td>0.652867</td>\n",
       "    </tr>\n",
       "    <tr>\n",
       "      <th>std</th>\n",
       "      <td>0.092833</td>\n",
       "    </tr>\n",
       "    <tr>\n",
       "      <th>min</th>\n",
       "      <td>0.106000</td>\n",
       "    </tr>\n",
       "    <tr>\n",
       "      <th>25%</th>\n",
       "      <td>0.600319</td>\n",
       "    </tr>\n",
       "    <tr>\n",
       "      <th>50%</th>\n",
       "      <td>0.664956</td>\n",
       "    </tr>\n",
       "    <tr>\n",
       "      <th>75%</th>\n",
       "      <td>0.718384</td>\n",
       "    </tr>\n",
       "    <tr>\n",
       "      <th>max</th>\n",
       "      <td>0.900946</td>\n",
       "    </tr>\n",
       "  </tbody>\n",
       "</table>\n",
       "</div>"
      ],
      "text/plain": [
       "            entropy\n",
       "count  10000.000000\n",
       "mean       0.652867\n",
       "std        0.092833\n",
       "min        0.106000\n",
       "25%        0.600319\n",
       "50%        0.664956\n",
       "75%        0.718384\n",
       "max        0.900946"
      ]
     },
     "execution_count": 37,
     "metadata": {},
     "output_type": "execute_result"
    }
   ],
   "source": [
    "u_values.describe()"
   ]
  },
  {
   "cell_type": "code",
   "execution_count": 38,
   "metadata": {},
   "outputs": [
    {
     "data": {
      "text/plain": [
       "[]"
      ]
     },
     "execution_count": 38,
     "metadata": {},
     "output_type": "execute_result"
    },
    {
     "data": {
      "image/png": "[encoded data removed]",
      "text/plain": [
       "<Figure size 864x432 with 1 Axes>"
      ]
     },
     "metadata": {
      "needs_background": "light"
     },
     "output_type": "display_data"
    }
   ],
   "source": [
    "plt.figure(figsize=(12,6))\n",
    "plt.boxplot(u_values)\n",
    "plt.plot()"
   ]
  },
  {
   "cell_type": "markdown",
   "metadata": {},
   "source": [
    "## Polarization index $\\rho_u$"
   ]
  },
  {
   "cell_type": "code",
   "execution_count": 39,
   "metadata": {},
   "outputs": [],
   "source": [
    "# for u in tqdm(users_list):\n",
    "#     distrib_user = categories_interest.loc[u].values.tolist()\n",
    "#     value = max(distrib_user)\n",
    "#     u_values.loc[u,'polarization_index'] = value"
   ]
  },
  {
   "cell_type": "markdown",
   "metadata": {},
   "source": [
    "## GRAIL "
   ]
  },
  {
   "cell_type": "code",
   "execution_count": 14,
   "metadata": {},
   "outputs": [],
   "source": [
    "def f_sigmoid_optim(x, a):\n",
    "    return(x**(a)/(x**(a)+(1-x)**(a)))"
   ]
  },
  {
   "cell_type": "code",
   "execution_count": 15,
   "metadata": {},
   "outputs": [],
   "source": [
    "# for u in tqdm(users_list):\n",
    "#     entropy = 1 - u_values.loc[u].entropy\n",
    "#     grail_value = f_sigmoid_optim(entropy, a=2)\n",
    "#     u_values.loc[u,'grail_value_a2'] = grail_value"
   ]
  },
  {
   "cell_type": "code",
   "execution_count": 16,
   "metadata": {},
   "outputs": [],
   "source": [
    "# u_values = u_values[['entropy','polarization_index','grail_value_a2']]"
   ]
  },
  {
   "cell_type": "code",
   "execution_count": 17,
   "metadata": {},
   "outputs": [],
   "source": [
    "# u_values"
   ]
  },
  {
   "cell_type": "markdown",
   "metadata": {},
   "source": [
    "# Clustering"
   ]
  },
  {
   "cell_type": "markdown",
   "metadata": {},
   "source": [
    "## K-Means 1D"
   ]
  },
  {
   "cell_type": "code",
   "execution_count": 18,
   "metadata": {},
   "outputs": [],
   "source": [
    "import kmeans1d"
   ]
  },
  {
   "cell_type": "code",
   "execution_count": 19,
   "metadata": {},
   "outputs": [
    {
     "data": {
      "text/html": [
       "<div>\n",
       "<style scoped>\n",
       "    .dataframe tbody tr th:only-of-type {\n",
       "        vertical-align: middle;\n",
       "    }\n",
       "\n",
       "    .dataframe tbody tr th {\n",
       "        vertical-align: top;\n",
       "    }\n",
       "\n",
       "    .dataframe thead th {\n",
       "        text-align: right;\n",
       "    }\n",
       "</style>\n",
       "<table border=\"1\" class=\"dataframe\">\n",
       "  <thead>\n",
       "    <tr style=\"text-align: right;\">\n",
       "      <th></th>\n",
       "      <th>entropy</th>\n",
       "    </tr>\n",
       "  </thead>\n",
       "  <tbody>\n",
       "    <tr>\n",
       "      <th>504290</th>\n",
       "      <td>0.565055</td>\n",
       "    </tr>\n",
       "    <tr>\n",
       "      <th>219624</th>\n",
       "      <td>0.673612</td>\n",
       "    </tr>\n",
       "    <tr>\n",
       "      <th>10420</th>\n",
       "      <td>0.699441</td>\n",
       "    </tr>\n",
       "    <tr>\n",
       "      <th>511303</th>\n",
       "      <td>0.691014</td>\n",
       "    </tr>\n",
       "    <tr>\n",
       "      <th>184564</th>\n",
       "      <td>0.720360</td>\n",
       "    </tr>\n",
       "    <tr>\n",
       "      <th>...</th>\n",
       "      <td>...</td>\n",
       "    </tr>\n",
       "    <tr>\n",
       "      <th>292183</th>\n",
       "      <td>0.547910</td>\n",
       "    </tr>\n",
       "    <tr>\n",
       "      <th>646273</th>\n",
       "      <td>0.594439</td>\n",
       "    </tr>\n",
       "    <tr>\n",
       "      <th>324828</th>\n",
       "      <td>0.627033</td>\n",
       "    </tr>\n",
       "    <tr>\n",
       "      <th>108536</th>\n",
       "      <td>0.626099</td>\n",
       "    </tr>\n",
       "    <tr>\n",
       "      <th>560445</th>\n",
       "      <td>0.604437</td>\n",
       "    </tr>\n",
       "  </tbody>\n",
       "</table>\n",
       "<p>10000 rows × 1 columns</p>\n",
       "</div>"
      ],
      "text/plain": [
       "         entropy\n",
       "504290  0.565055\n",
       "219624  0.673612\n",
       "10420   0.699441\n",
       "511303  0.691014\n",
       "184564  0.720360\n",
       "...          ...\n",
       "292183  0.547910\n",
       "646273  0.594439\n",
       "324828  0.627033\n",
       "108536  0.626099\n",
       "560445  0.604437\n",
       "\n",
       "[10000 rows x 1 columns]"
      ]
     },
     "execution_count": 19,
     "metadata": {},
     "output_type": "execute_result"
    }
   ],
   "source": [
    "u_values"
   ]
  },
  {
   "cell_type": "code",
   "execution_count": 20,
   "metadata": {},
   "outputs": [],
   "source": [
    "x = u_values['entropy'].tolist()"
   ]
  },
  {
   "cell_type": "code",
   "execution_count": 21,
   "metadata": {},
   "outputs": [],
   "source": [
    "clusters, centroids = kmeans1d.cluster(x, 5)"
   ]
  },
  {
   "cell_type": "code",
   "execution_count": 22,
   "metadata": {},
   "outputs": [],
   "source": [
    "u_values['cluster_1d'] = clusters"
   ]
  },
  {
   "cell_type": "code",
   "execution_count": 23,
   "metadata": {},
   "outputs": [
    {
     "data": {
      "text/plain": [
       "3    3179\n",
       "2    2810\n",
       "4    1836\n",
       "1    1658\n",
       "0     517\n",
       "Name: cluster_1d, dtype: int64"
      ]
     },
     "execution_count": 23,
     "metadata": {},
     "output_type": "execute_result"
    }
   ],
   "source": [
    "u_values['cluster_1d'].value_counts()"
   ]
  },
  {
   "cell_type": "code",
   "execution_count": 24,
   "metadata": {},
   "outputs": [
    {
     "data": {
      "text/plain": [
       "<AxesSubplot:xlabel='entropy', ylabel='Density'>"
      ]
     },
     "execution_count": 24,
     "metadata": {},
     "output_type": "execute_result"
    },
    {
     "data": {
      "image/png": "[encoded data removed]",
      "text/plain": [
       "<Figure size 1080x576 with 1 Axes>"
      ]
     },
     "metadata": {
      "needs_background": "light"
     },
     "output_type": "display_data"
    }
   ],
   "source": [
    "plt.figure(figsize=(15,8))\n",
    "sns.kdeplot(data=u_values, x='entropy', hue='cluster_1d', palette='Set1')"
   ]
  },
  {
   "cell_type": "code",
   "execution_count": 25,
   "metadata": {},
   "outputs": [
    {
     "data": {
      "text/html": [
       "<div>\n",
       "<style scoped>\n",
       "    .dataframe tbody tr th:only-of-type {\n",
       "        vertical-align: middle;\n",
       "    }\n",
       "\n",
       "    .dataframe tbody tr th {\n",
       "        vertical-align: top;\n",
       "    }\n",
       "\n",
       "    .dataframe thead tr th {\n",
       "        text-align: left;\n",
       "    }\n",
       "\n",
       "    .dataframe thead tr:last-of-type th {\n",
       "        text-align: right;\n",
       "    }\n",
       "</style>\n",
       "<table border=\"1\" class=\"dataframe\">\n",
       "  <thead>\n",
       "    <tr>\n",
       "      <th></th>\n",
       "      <th colspan=\"8\" halign=\"left\">entropy</th>\n",
       "    </tr>\n",
       "    <tr>\n",
       "      <th></th>\n",
       "      <th>count</th>\n",
       "      <th>mean</th>\n",
       "      <th>std</th>\n",
       "      <th>min</th>\n",
       "      <th>25%</th>\n",
       "      <th>50%</th>\n",
       "      <th>75%</th>\n",
       "      <th>max</th>\n",
       "    </tr>\n",
       "    <tr>\n",
       "      <th>cluster_1d</th>\n",
       "      <th></th>\n",
       "      <th></th>\n",
       "      <th></th>\n",
       "      <th></th>\n",
       "      <th></th>\n",
       "      <th></th>\n",
       "      <th></th>\n",
       "      <th></th>\n",
       "    </tr>\n",
       "  </thead>\n",
       "  <tbody>\n",
       "    <tr>\n",
       "      <th>0</th>\n",
       "      <td>517.0</td>\n",
       "      <td>0.419610</td>\n",
       "      <td>0.058074</td>\n",
       "      <td>0.106000</td>\n",
       "      <td>0.393826</td>\n",
       "      <td>0.436850</td>\n",
       "      <td>0.462575</td>\n",
       "      <td>0.483207</td>\n",
       "    </tr>\n",
       "    <tr>\n",
       "      <th>1</th>\n",
       "      <td>1658.0</td>\n",
       "      <td>0.547450</td>\n",
       "      <td>0.028650</td>\n",
       "      <td>0.483635</td>\n",
       "      <td>0.525487</td>\n",
       "      <td>0.551567</td>\n",
       "      <td>0.572747</td>\n",
       "      <td>0.589054</td>\n",
       "    </tr>\n",
       "    <tr>\n",
       "      <th>2</th>\n",
       "      <td>2810.0</td>\n",
       "      <td>0.630689</td>\n",
       "      <td>0.021645</td>\n",
       "      <td>0.589081</td>\n",
       "      <td>0.612736</td>\n",
       "      <td>0.632556</td>\n",
       "      <td>0.649491</td>\n",
       "      <td>0.664591</td>\n",
       "    </tr>\n",
       "    <tr>\n",
       "      <th>3</th>\n",
       "      <td>3179.0</td>\n",
       "      <td>0.698580</td>\n",
       "      <td>0.019705</td>\n",
       "      <td>0.664663</td>\n",
       "      <td>0.681623</td>\n",
       "      <td>0.698384</td>\n",
       "      <td>0.715589</td>\n",
       "      <td>0.733537</td>\n",
       "    </tr>\n",
       "    <tr>\n",
       "      <th>4</th>\n",
       "      <td>1836.0</td>\n",
       "      <td>0.768541</td>\n",
       "      <td>0.027363</td>\n",
       "      <td>0.733597</td>\n",
       "      <td>0.746214</td>\n",
       "      <td>0.761919</td>\n",
       "      <td>0.785432</td>\n",
       "      <td>0.900946</td>\n",
       "    </tr>\n",
       "  </tbody>\n",
       "</table>\n",
       "</div>"
      ],
      "text/plain": [
       "           entropy                                                    \\\n",
       "             count      mean       std       min       25%       50%   \n",
       "cluster_1d                                                             \n",
       "0            517.0  0.419610  0.058074  0.106000  0.393826  0.436850   \n",
       "1           1658.0  0.547450  0.028650  0.483635  0.525487  0.551567   \n",
       "2           2810.0  0.630689  0.021645  0.589081  0.612736  0.632556   \n",
       "3           3179.0  0.698580  0.019705  0.664663  0.681623  0.698384   \n",
       "4           1836.0  0.768541  0.027363  0.733597  0.746214  0.761919   \n",
       "\n",
       "                                \n",
       "                 75%       max  \n",
       "cluster_1d                      \n",
       "0           0.462575  0.483207  \n",
       "1           0.572747  0.589054  \n",
       "2           0.649491  0.664591  \n",
       "3           0.715589  0.733537  \n",
       "4           0.785432  0.900946  "
      ]
     },
     "execution_count": 25,
     "metadata": {},
     "output_type": "execute_result"
    }
   ],
   "source": [
    "u_values.groupby('cluster_1d').describe()"
   ]
  },
  {
   "cell_type": "code",
   "execution_count": 26,
   "metadata": {},
   "outputs": [
    {
     "data": {
      "text/plain": [
       "<AxesSubplot:xlabel='cluster_1d', ylabel='entropy'>"
      ]
     },
     "execution_count": 26,
     "metadata": {},
     "output_type": "execute_result"
    },
    {
     "data": {
      "image/png": "[encoded data removed]",
      "text/plain": [
       "<Figure size 1080x576 with 1 Axes>"
      ]
     },
     "metadata": {
      "needs_background": "light"
     },
     "output_type": "display_data"
    }
   ],
   "source": [
    "plt.figure(figsize=(15,8))\n",
    "sns.boxplot(data=u_values, x='cluster_1d', y='entropy', palette='Set1')"
   ]
  },
  {
   "cell_type": "code",
   "execution_count": 27,
   "metadata": {},
   "outputs": [],
   "source": [
    "# u_values[['entropy','grail_value_a2','cluster_1d']].to_csv('clusters_results.csv')"
   ]
  },
  {
   "cell_type": "markdown",
   "metadata": {},
   "source": [
    "## Fixed values"
   ]
  },
  {
   "cell_type": "code",
   "execution_count": 40,
   "metadata": {},
   "outputs": [],
   "source": [
    "u_values['entropy'] = u_values['entropy'].round(2)"
   ]
  },
  {
   "cell_type": "code",
   "execution_count": 41,
   "metadata": {},
   "outputs": [
    {
     "data": {
      "text/html": [
       "<div>\n",
       "<style scoped>\n",
       "    .dataframe tbody tr th:only-of-type {\n",
       "        vertical-align: middle;\n",
       "    }\n",
       "\n",
       "    .dataframe tbody tr th {\n",
       "        vertical-align: top;\n",
       "    }\n",
       "\n",
       "    .dataframe thead th {\n",
       "        text-align: right;\n",
       "    }\n",
       "</style>\n",
       "<table border=\"1\" class=\"dataframe\">\n",
       "  <thead>\n",
       "    <tr style=\"text-align: right;\">\n",
       "      <th></th>\n",
       "      <th>entropy</th>\n",
       "    </tr>\n",
       "  </thead>\n",
       "  <tbody>\n",
       "    <tr>\n",
       "      <th>count</th>\n",
       "      <td>10000.000000</td>\n",
       "    </tr>\n",
       "    <tr>\n",
       "      <th>mean</th>\n",
       "      <td>0.652889</td>\n",
       "    </tr>\n",
       "    <tr>\n",
       "      <th>std</th>\n",
       "      <td>0.092869</td>\n",
       "    </tr>\n",
       "    <tr>\n",
       "      <th>min</th>\n",
       "      <td>0.110000</td>\n",
       "    </tr>\n",
       "    <tr>\n",
       "      <th>25%</th>\n",
       "      <td>0.600000</td>\n",
       "    </tr>\n",
       "    <tr>\n",
       "      <th>50%</th>\n",
       "      <td>0.660000</td>\n",
       "    </tr>\n",
       "    <tr>\n",
       "      <th>75%</th>\n",
       "      <td>0.720000</td>\n",
       "    </tr>\n",
       "    <tr>\n",
       "      <th>max</th>\n",
       "      <td>0.900000</td>\n",
       "    </tr>\n",
       "  </tbody>\n",
       "</table>\n",
       "</div>"
      ],
      "text/plain": [
       "            entropy\n",
       "count  10000.000000\n",
       "mean       0.652889\n",
       "std        0.092869\n",
       "min        0.110000\n",
       "25%        0.600000\n",
       "50%        0.660000\n",
       "75%        0.720000\n",
       "max        0.900000"
      ]
     },
     "execution_count": 41,
     "metadata": {},
     "output_type": "execute_result"
    }
   ],
   "source": [
    "u_values.describe()"
   ]
  },
  {
   "cell_type": "code",
   "execution_count": 42,
   "metadata": {},
   "outputs": [
    {
     "name": "stderr",
     "output_type": "stream",
     "text": [
      "100%|██████████| 10000/10000 [00:01<00:00, 6428.10it/s]\n"
     ]
    }
   ],
   "source": [
    "for u in tqdm(users_list):\n",
    "    if u_values.loc[u, 'entropy'] <= 0.2:\n",
    "        u_values.loc[u, 'cluster_fix'] = 0\n",
    "    elif ((u_values.loc[u, 'entropy'] > 0.2) and (u_values.loc[u,'entropy'] <= 0.3)):\n",
    "        u_values.loc[u,'cluster_fix'] = 1\n",
    "    elif ((u_values.loc[u, 'entropy'] > 0.3) and (u_values.loc[u,'entropy'] <= 0.4)):\n",
    "        u_values.loc[u,'cluster_fix'] = 2\n",
    "    elif ((u_values.loc[u, 'entropy'] > 0.4) and (u_values.loc[u,'entropy'] <= 0.5)):\n",
    "        u_values.loc[u,'cluster_fix'] = 3\n",
    "    elif ((u_values.loc[u, 'entropy'] > 0.5) and (u_values.loc[u,'entropy'] <= 0.6)):\n",
    "        u_values.loc[u,'cluster_fix'] = 4\n",
    "    elif ((u_values.loc[u, 'entropy'] > 0.6) and (u_values.loc[u,'entropy'] <= 0.7)):\n",
    "        u_values.loc[u,'cluster_fix'] = 5\n",
    "    elif ((u_values.loc[u, 'entropy'] > 0.7) and (u_values.loc[u,'entropy'] <= 0.8)):\n",
    "        u_values.loc[u,'cluster_fix'] = 6\n",
    "    elif ((u_values.loc[u, 'entropy'] > 0.8) and (u_values.loc[u,'entropy'] <= 0.9)):\n",
    "        u_values.loc[u,'cluster_fix'] = 7\n",
    "    elif u_values.loc[u, 'entropy'] > 0.9:\n",
    "        u_values.loc[u,'cluster_fix'] = 8     \n",
    "\n",
    "u_values['cluster_fix'] = u_values['cluster_fix'].astype(int)"
   ]
  },
  {
   "cell_type": "code",
   "execution_count": 43,
   "metadata": {},
   "outputs": [
    {
     "data": {
      "text/html": [
       "<div>\n",
       "<style scoped>\n",
       "    .dataframe tbody tr th:only-of-type {\n",
       "        vertical-align: middle;\n",
       "    }\n",
       "\n",
       "    .dataframe tbody tr th {\n",
       "        vertical-align: top;\n",
       "    }\n",
       "\n",
       "    .dataframe thead th {\n",
       "        text-align: right;\n",
       "    }\n",
       "</style>\n",
       "<table border=\"1\" class=\"dataframe\">\n",
       "  <thead>\n",
       "    <tr style=\"text-align: right;\">\n",
       "      <th></th>\n",
       "      <th>entropy</th>\n",
       "      <th>cluster_fix</th>\n",
       "    </tr>\n",
       "  </thead>\n",
       "  <tbody>\n",
       "    <tr>\n",
       "      <th>504290</th>\n",
       "      <td>0.57</td>\n",
       "      <td>4</td>\n",
       "    </tr>\n",
       "    <tr>\n",
       "      <th>219624</th>\n",
       "      <td>0.67</td>\n",
       "      <td>5</td>\n",
       "    </tr>\n",
       "    <tr>\n",
       "      <th>10420</th>\n",
       "      <td>0.70</td>\n",
       "      <td>5</td>\n",
       "    </tr>\n",
       "    <tr>\n",
       "      <th>511303</th>\n",
       "      <td>0.69</td>\n",
       "      <td>5</td>\n",
       "    </tr>\n",
       "    <tr>\n",
       "      <th>184564</th>\n",
       "      <td>0.72</td>\n",
       "      <td>6</td>\n",
       "    </tr>\n",
       "    <tr>\n",
       "      <th>...</th>\n",
       "      <td>...</td>\n",
       "      <td>...</td>\n",
       "    </tr>\n",
       "    <tr>\n",
       "      <th>292183</th>\n",
       "      <td>0.55</td>\n",
       "      <td>4</td>\n",
       "    </tr>\n",
       "    <tr>\n",
       "      <th>646273</th>\n",
       "      <td>0.59</td>\n",
       "      <td>4</td>\n",
       "    </tr>\n",
       "    <tr>\n",
       "      <th>324828</th>\n",
       "      <td>0.63</td>\n",
       "      <td>5</td>\n",
       "    </tr>\n",
       "    <tr>\n",
       "      <th>108536</th>\n",
       "      <td>0.63</td>\n",
       "      <td>5</td>\n",
       "    </tr>\n",
       "    <tr>\n",
       "      <th>560445</th>\n",
       "      <td>0.60</td>\n",
       "      <td>4</td>\n",
       "    </tr>\n",
       "  </tbody>\n",
       "</table>\n",
       "<p>10000 rows × 2 columns</p>\n",
       "</div>"
      ],
      "text/plain": [
       "        entropy  cluster_fix\n",
       "504290     0.57            4\n",
       "219624     0.67            5\n",
       "10420      0.70            5\n",
       "511303     0.69            5\n",
       "184564     0.72            6\n",
       "...         ...          ...\n",
       "292183     0.55            4\n",
       "646273     0.59            4\n",
       "324828     0.63            5\n",
       "108536     0.63            5\n",
       "560445     0.60            4\n",
       "\n",
       "[10000 rows x 2 columns]"
      ]
     },
     "execution_count": 43,
     "metadata": {},
     "output_type": "execute_result"
    }
   ],
   "source": [
    "u_values"
   ]
  },
  {
   "cell_type": "code",
   "execution_count": 44,
   "metadata": {},
   "outputs": [
    {
     "data": {
      "text/plain": [
       "5    4250\n",
       "6    2894\n",
       "4    1964\n",
       "3     525\n",
       "7     207\n",
       "2     133\n",
       "1      24\n",
       "0       3\n",
       "Name: cluster_fix, dtype: int64"
      ]
     },
     "execution_count": 44,
     "metadata": {},
     "output_type": "execute_result"
    }
   ],
   "source": [
    "u_values['cluster_fix'].value_counts()"
   ]
  },
  {
   "cell_type": "code",
   "execution_count": 45,
   "metadata": {},
   "outputs": [
    {
     "data": {
      "text/plain": [
       "<AxesSubplot:xlabel='entropy', ylabel='Density'>"
      ]
     },
     "execution_count": 45,
     "metadata": {},
     "output_type": "execute_result"
    },
    {
     "data": {
      "image/png": "[encoded data removed]",
      "text/plain": [
       "<Figure size 1080x576 with 1 Axes>"
      ]
     },
     "metadata": {
      "needs_background": "light"
     },
     "output_type": "display_data"
    }
   ],
   "source": [
    "plt.figure(figsize=(15,8))\n",
    "sns.kdeplot(data=u_values, x='entropy', hue='cluster_fix', palette='Set1')"
   ]
  },
  {
   "cell_type": "code",
   "execution_count": 46,
   "metadata": {},
   "outputs": [
    {
     "data": {
      "text/html": [
       "<div>\n",
       "<style scoped>\n",
       "    .dataframe tbody tr th:only-of-type {\n",
       "        vertical-align: middle;\n",
       "    }\n",
       "\n",
       "    .dataframe tbody tr th {\n",
       "        vertical-align: top;\n",
       "    }\n",
       "\n",
       "    .dataframe thead th {\n",
       "        text-align: right;\n",
       "    }\n",
       "</style>\n",
       "<table border=\"1\" class=\"dataframe\">\n",
       "  <thead>\n",
       "    <tr style=\"text-align: right;\">\n",
       "      <th></th>\n",
       "      <th>count</th>\n",
       "      <th>mean</th>\n",
       "      <th>std</th>\n",
       "      <th>min</th>\n",
       "      <th>25%</th>\n",
       "      <th>50%</th>\n",
       "      <th>75%</th>\n",
       "      <th>max</th>\n",
       "    </tr>\n",
       "    <tr>\n",
       "      <th>cluster_fix</th>\n",
       "      <th></th>\n",
       "      <th></th>\n",
       "      <th></th>\n",
       "      <th></th>\n",
       "      <th></th>\n",
       "      <th></th>\n",
       "      <th></th>\n",
       "      <th></th>\n",
       "    </tr>\n",
       "  </thead>\n",
       "  <tbody>\n",
       "    <tr>\n",
       "      <th>0</th>\n",
       "      <td>3.0</td>\n",
       "      <td>0.150000</td>\n",
       "      <td>0.045826</td>\n",
       "      <td>0.11</td>\n",
       "      <td>0.125</td>\n",
       "      <td>0.140</td>\n",
       "      <td>0.17</td>\n",
       "      <td>0.2</td>\n",
       "    </tr>\n",
       "    <tr>\n",
       "      <th>1</th>\n",
       "      <td>24.0</td>\n",
       "      <td>0.272083</td>\n",
       "      <td>0.023215</td>\n",
       "      <td>0.22</td>\n",
       "      <td>0.250</td>\n",
       "      <td>0.275</td>\n",
       "      <td>0.29</td>\n",
       "      <td>0.3</td>\n",
       "    </tr>\n",
       "    <tr>\n",
       "      <th>2</th>\n",
       "      <td>133.0</td>\n",
       "      <td>0.368722</td>\n",
       "      <td>0.029009</td>\n",
       "      <td>0.31</td>\n",
       "      <td>0.340</td>\n",
       "      <td>0.380</td>\n",
       "      <td>0.39</td>\n",
       "      <td>0.4</td>\n",
       "    </tr>\n",
       "    <tr>\n",
       "      <th>3</th>\n",
       "      <td>525.0</td>\n",
       "      <td>0.464857</td>\n",
       "      <td>0.027299</td>\n",
       "      <td>0.41</td>\n",
       "      <td>0.440</td>\n",
       "      <td>0.470</td>\n",
       "      <td>0.49</td>\n",
       "      <td>0.5</td>\n",
       "    </tr>\n",
       "    <tr>\n",
       "      <th>4</th>\n",
       "      <td>1964.0</td>\n",
       "      <td>0.563854</td>\n",
       "      <td>0.027810</td>\n",
       "      <td>0.51</td>\n",
       "      <td>0.540</td>\n",
       "      <td>0.570</td>\n",
       "      <td>0.59</td>\n",
       "      <td>0.6</td>\n",
       "    </tr>\n",
       "    <tr>\n",
       "      <th>5</th>\n",
       "      <td>4250.0</td>\n",
       "      <td>0.658854</td>\n",
       "      <td>0.027717</td>\n",
       "      <td>0.61</td>\n",
       "      <td>0.640</td>\n",
       "      <td>0.660</td>\n",
       "      <td>0.68</td>\n",
       "      <td>0.7</td>\n",
       "    </tr>\n",
       "    <tr>\n",
       "      <th>6</th>\n",
       "      <td>2894.0</td>\n",
       "      <td>0.743179</td>\n",
       "      <td>0.026156</td>\n",
       "      <td>0.71</td>\n",
       "      <td>0.720</td>\n",
       "      <td>0.740</td>\n",
       "      <td>0.76</td>\n",
       "      <td>0.8</td>\n",
       "    </tr>\n",
       "    <tr>\n",
       "      <th>7</th>\n",
       "      <td>207.0</td>\n",
       "      <td>0.823768</td>\n",
       "      <td>0.017188</td>\n",
       "      <td>0.81</td>\n",
       "      <td>0.810</td>\n",
       "      <td>0.820</td>\n",
       "      <td>0.83</td>\n",
       "      <td>0.9</td>\n",
       "    </tr>\n",
       "  </tbody>\n",
       "</table>\n",
       "</div>"
      ],
      "text/plain": [
       "              count      mean       std   min    25%    50%   75%  max\n",
       "cluster_fix                                                           \n",
       "0               3.0  0.150000  0.045826  0.11  0.125  0.140  0.17  0.2\n",
       "1              24.0  0.272083  0.023215  0.22  0.250  0.275  0.29  0.3\n",
       "2             133.0  0.368722  0.029009  0.31  0.340  0.380  0.39  0.4\n",
       "3             525.0  0.464857  0.027299  0.41  0.440  0.470  0.49  0.5\n",
       "4            1964.0  0.563854  0.027810  0.51  0.540  0.570  0.59  0.6\n",
       "5            4250.0  0.658854  0.027717  0.61  0.640  0.660  0.68  0.7\n",
       "6            2894.0  0.743179  0.026156  0.71  0.720  0.740  0.76  0.8\n",
       "7             207.0  0.823768  0.017188  0.81  0.810  0.820  0.83  0.9"
      ]
     },
     "execution_count": 46,
     "metadata": {},
     "output_type": "execute_result"
    }
   ],
   "source": [
    "u_values.groupby('cluster_fix')['entropy'].describe()"
   ]
  },
  {
   "cell_type": "code",
   "execution_count": 47,
   "metadata": {},
   "outputs": [
    {
     "data": {
      "text/plain": [
       "<AxesSubplot:xlabel='cluster_fix', ylabel='entropy'>"
      ]
     },
     "execution_count": 47,
     "metadata": {},
     "output_type": "execute_result"
    },
    {
     "data": {
      "image/png": "[encoded data removed]",
      "text/plain": [
       "<Figure size 1080x576 with 1 Axes>"
      ]
     },
     "metadata": {
      "needs_background": "light"
     },
     "output_type": "display_data"
    }
   ],
   "source": [
    "plt.figure(figsize=(15,8))\n",
    "sns.boxplot(data=u_values, x='cluster_fix', y='entropy', palette='Set1')"
   ]
  },
  {
   "cell_type": "code",
   "execution_count": 49,
   "metadata": {},
   "outputs": [],
   "source": [
    "u_values.to_csv('cluster_users.csv')"
   ]
  },
  {
   "cell_type": "markdown",
   "metadata": {},
   "source": [
    "# Evaluation par cluster"
   ]
  },
  {
   "cell_type": "markdown",
   "metadata": {},
   "source": [
    "## Librairies, fonctions et données"
   ]
  },
  {
   "cell_type": "code",
   "execution_count": 34,
   "metadata": {},
   "outputs": [],
   "source": [
    "from clayrs import content_analyzer as ca\n",
    "from clayrs import recsys as rs\n",
    "from clayrs import evaluation as eva"
   ]
  },
  {
   "cell_type": "code",
   "execution_count": 35,
   "metadata": {},
   "outputs": [],
   "source": [
    "from sklearn.metrics.pairwise import cosine_similarity\n",
    "import math"
   ]
  },
  {
   "cell_type": "code",
   "execution_count": 36,
   "metadata": {},
   "outputs": [],
   "source": [
    "def get_performances(train, test):\n",
    "    em = eva.EvalModel(\n",
    "        [train],\n",
    "        [test],\n",
    "        metric_list=[\n",
    "            eva.PrecisionAtK(k=10, sys_average='macro'),\n",
    "            eva.RecallAtK(k=10, sys_average='macro'),\n",
    "            eva.FMeasureAtK(k=10, sys_average='macro'),\n",
    "            eva.MRR(),\n",
    "            eva.NDCGAtK(k=10),\n",
    "            # eva.CatalogCoverage(catalog),\n",
    "            # eva.GiniIndex()\n",
    "        ],    \n",
    "    )\n",
    "    sys_result, users_result = em.fit()\n",
    "    return sys_result, users_result"
   ]
  },
  {
   "cell_type": "code",
   "execution_count": 37,
   "metadata": {},
   "outputs": [],
   "source": [
    "def triangular_matrix(m):\n",
    "    m_tri = m.where(np.triu(np.ones(m.shape),k=1).astype(bool))\n",
    "    return m_tri"
   ]
  },
  {
   "cell_type": "code",
   "execution_count": 38,
   "metadata": {},
   "outputs": [],
   "source": [
    "def ILS(m):\n",
    "    m_tri = triangular_matrix(m).stack().reset_index()\n",
    "    m_tri.columns = ['i','j','similarity']\n",
    "    ils = (m_tri['similarity'].sum())/len(m_tri)\n",
    "    return ils"
   ]
  },
  {
   "cell_type": "code",
   "execution_count": 39,
   "metadata": {},
   "outputs": [],
   "source": [
    "def embeddings_to_df(e):\n",
    "    e_list = e.tolist()\n",
    "    df_e = pd.DataFrame(e_list)\n",
    "    return df_e"
   ]
  },
  {
   "cell_type": "code",
   "execution_count": 40,
   "metadata": {},
   "outputs": [],
   "source": [
    "def compute_ils(recos, similarity_matrix, list_users):\n",
    "    dict_ils = {}\n",
    "    for u in tqdm(list_users):\n",
    "        recos_user = recos[recos['user_id']==u]\n",
    "        news_ids = recos_user['item_id'].tolist()\n",
    "        news_ids.sort()\n",
    "        sim_matrix_user = similarity_matrix[similarity_matrix.index.isin(news_ids)][news_ids]\n",
    "        ils_user = ILS(sim_matrix_user)\n",
    "        dict_key = {u:ils_user}\n",
    "        dict_ils.update(dict_key)\n",
    "    return dict_ils"
   ]
  },
  {
   "cell_type": "code",
   "execution_count": 41,
   "metadata": {},
   "outputs": [],
   "source": [
    "def get_results_categories(initial_results):\n",
    "    results_categories = initial_results.copy()\n",
    "    results_categories = results_categories.rename(columns={'item_id':'NewsID'})\n",
    "    results_categories = results_categories.merge(news[['NewsID','cluster_hdbscan','proba']], on='NewsID').rename(columns={'cluster_hdbscan':'category'})\n",
    "    results_categories['proba'] = results_categories['proba'].replace(0, 1)\n",
    "    return results_categories"
   ]
  },
  {
   "cell_type": "code",
   "execution_count": 42,
   "metadata": {},
   "outputs": [],
   "source": [
    "def compute_dcg(gain_vector):\n",
    "    dcg_value = 0\n",
    "    for i in range(1, len(gain_vector)+1, 1):\n",
    "        val = gain_vector[i-1]/(math.log2(1+i))\n",
    "        dcg_value = dcg_value + val\n",
    "    return dcg_value"
   ]
  },
  {
   "cell_type": "code",
   "execution_count": 43,
   "metadata": {},
   "outputs": [],
   "source": [
    "def alpha_ndcg(recos, list_users, users_interest_df, alpha):\n",
    "    dict_alpha_ndcg = {}\n",
    "    #For each user\n",
    "    for u in tqdm(list_users):\n",
    "        #Get the recommendation list of a specific user\n",
    "        recos_user = recos[recos['user_id']==u].reset_index(drop=True)\n",
    "        if len(recos_user)>=10:\n",
    "            recos_user = recos_user.iloc[:10,:]\n",
    "        #Get the corresponding list of news categories \n",
    "        recos_categories = recos_user['category'].tolist()\n",
    "        \n",
    "        #Initialize the gain vector\n",
    "        gain_vector = []\n",
    "        #Only compute alpha ndcg when there is 10 recos or more\n",
    "\n",
    "        for i in range(1,len(recos_user)+1, 1):\n",
    "            #Get the category\n",
    "            cat = recos_categories[i-1]\n",
    "            #Get the interest of the user for the category\n",
    "            user_interest_cat = users_interest.loc[u,cat]\n",
    "            if i ==1:\n",
    "                r = 0\n",
    "            else:\n",
    "                r = recos_categories[:i-1].count(cat)\n",
    "            #Compute the gain for the k-th reco\n",
    "            value_gain_k = recos_user.loc[i-1,'proba'] *  user_interest_cat * (1-alpha)**(r)\n",
    "            #Update the gain vector\n",
    "            gain_vector.append(value_gain_k)\n",
    "        #Get the optimal gain vector (sorted gain vector in descending order)\n",
    "        optimal_gain_vector = sorted(gain_vector, reverse=True)\n",
    "        #Compute Discounted Cumulative Gain\n",
    "        dcg = compute_dcg(gain_vector)\n",
    "        #Compute Ideal Discounted Cumulative Gain\n",
    "        idcg = compute_dcg(optimal_gain_vector)\n",
    "        #Compute alpha-ndcg\n",
    "        alpha_ndcg = dcg/idcg\n",
    "        \n",
    "        dict_key = {u:alpha_ndcg}\n",
    "        dict_alpha_ndcg.update(dict_key)\n",
    "        # else:\n",
    "        #     dict_key = {u:np.nan}\n",
    "        #     dict_alpha_ndcg.update(dict_key)\n",
    "    return dict_alpha_ndcg        "
   ]
  },
  {
   "cell_type": "code",
   "execution_count": 44,
   "metadata": {},
   "outputs": [],
   "source": [
    "def ndcg_ia(recos, list_users, users_interest_df):\n",
    "    dict_ndcg_ia = {}\n",
    "    for u in tqdm(list_users):\n",
    "        recos_user = recos[recos['user_id']==u].reset_index(drop=True)\n",
    "        if len(recos_user)>=10:\n",
    "            recos_user = recos_user.iloc[:10,:]\n",
    "        recos_categories = recos_user['category'].tolist()\n",
    "        user_interest = pd.DataFrame(users_interest_df.loc[u])\n",
    "        categories_interest = user_interest[user_interest[u]!=0].index.tolist()\n",
    "        # nb_categories_interest = len(categories_interest)        \n",
    "        list_values = []\n",
    "        for c in range(len(categories_interest)):\n",
    "            cat = categories_interest[c]\n",
    "            user_interest_cat = users_interest.loc[u,cat]\n",
    "            gain_vector_c = [1 if i==cat else 0 for i in recos_categories]\n",
    "            optimal_gain_vector_c = sorted(gain_vector_c, reverse=True)\n",
    "            dcg_c = compute_dcg(gain_vector_c)\n",
    "            idcg_c = compute_dcg(optimal_gain_vector_c)\n",
    "            if idcg_c != 0:\n",
    "                ndcg_c = user_interest_cat*(dcg_c/idcg_c)\n",
    "            else:\n",
    "                ndcg_c = 0\n",
    "            list_values.append(ndcg_c)\n",
    "        ndcg_ia = sum(list_values)\n",
    "        dict_key = {u:ndcg_ia}\n",
    "        dict_ndcg_ia.update(dict_key)\n",
    "        # else:\n",
    "        #     dict_key = {u:np.nan}\n",
    "        #     dict_ndcg_ia.update(dict_key)\n",
    "    return dict_ndcg_ia"
   ]
  },
  {
   "cell_type": "code",
   "execution_count": 45,
   "metadata": {},
   "outputs": [],
   "source": [
    "def s_recall(recos, list_users, categories_list, k=10):\n",
    "    dict_srecall = {}\n",
    "    nb_categories = len(categories_list)\n",
    "    for u in tqdm(list_users):\n",
    "        recos_user = recos[recos['user_id']==u].reset_index(drop=True)\n",
    "        recos_categories = recos_user['category'][:k].tolist()\n",
    "        s_recall_user = len(set(recos_categories))/nb_categories\n",
    "        dict_key = {u:s_recall_user}\n",
    "        dict_srecall.update(dict_key)\n",
    "    return dict_srecall"
   ]
  },
  {
   "cell_type": "code",
   "execution_count": 46,
   "metadata": {},
   "outputs": [],
   "source": [
    "behaviors = pd.read_csv('../behaviors_sub_profiles_10k.csv', index_col=0)"
   ]
  },
  {
   "cell_type": "code",
   "execution_count": 47,
   "metadata": {},
   "outputs": [],
   "source": [
    "# News info\n",
    "news = pd.read_csv('../../thematic_clustering/lda_128_large/news_thematic_clustering_large_final.csv', index_col=0)\n",
    "news['cluster_hdbscan'] = news['cluster_hdbscan']+1"
   ]
  },
  {
   "cell_type": "code",
   "execution_count": 48,
   "metadata": {},
   "outputs": [],
   "source": [
    "# Embeddings df\n",
    "embeddings_lda_128 = pd.read_json('../../baseline/news_codified_lda_128/contents.json')\n",
    "embeddings_lda_128['lda_128#0'] = embeddings_lda_128['lda_128#0'].apply(ast.literal_eval)\n",
    "news_embeddings_lda = embeddings_to_df(embeddings_lda_128['lda_128#0'])\n",
    "news_embeddings_lda.index = embeddings_lda_128['content_id']"
   ]
  },
  {
   "cell_type": "code",
   "execution_count": 49,
   "metadata": {},
   "outputs": [],
   "source": [
    "similarity_matrix = pd.DataFrame(cosine_similarity(news_embeddings_lda))\n",
    "similarity_matrix.index = news_embeddings_lda.index.tolist()\n",
    "similarity_matrix.columns = news_embeddings_lda.index.tolist()"
   ]
  },
  {
   "cell_type": "code",
   "execution_count": 50,
   "metadata": {},
   "outputs": [],
   "source": [
    "users_interest = pd.read_csv('../categories_distribution_subprofiles_10k.csv', index_col=0)"
   ]
  },
  {
   "cell_type": "code",
   "execution_count": 51,
   "metadata": {},
   "outputs": [],
   "source": [
    "users_interest.columns = users_interest.columns.astype(int)"
   ]
  },
  {
   "cell_type": "code",
   "execution_count": 53,
   "metadata": {},
   "outputs": [
    {
     "data": {
      "text/plain": [
       "[0, 1, 2, 3, 4, 5, 6, 7, 8, 9, 10, 11, 12]"
      ]
     },
     "execution_count": 53,
     "metadata": {},
     "output_type": "execute_result"
    }
   ],
   "source": [
    "categories_list = users_interest.columns.tolist()\n",
    "categories_list"
   ]
  },
  {
   "cell_type": "markdown",
   "metadata": {},
   "source": [
    "## Resultats par cluster"
   ]
  },
  {
   "cell_type": "markdown",
   "metadata": {},
   "source": [
    "## Clustering K-Means 1D"
   ]
  },
  {
   "cell_type": "code",
   "execution_count": 54,
   "metadata": {},
   "outputs": [],
   "source": [
    "users_c1 = u_values[u_values['cluster_1d']==0].index.tolist()\n",
    "users_c2 = u_values[u_values['cluster_1d']==1].index.tolist()\n",
    "users_c3 = u_values[u_values['cluster_1d']==2].index.tolist()\n",
    "users_c4 = u_values[u_values['cluster_1d']==3].index.tolist()\n",
    "users_c5 = u_values[u_values['cluster_1d']==4].index.tolist()"
   ]
  },
  {
   "cell_type": "code",
   "execution_count": 55,
   "metadata": {},
   "outputs": [],
   "source": [
    "results_a_02 = pd.read_csv('re_ranking_results/re_ranking/div_a_02.csv')\n",
    "results_a_04 = pd.read_csv('re_ranking_results/re_ranking/div_a_04.csv')\n",
    "results_a_06 = pd.read_csv('re_ranking_results/re_ranking/div_a_06.csv')"
   ]
  },
  {
   "cell_type": "code",
   "execution_count": 56,
   "metadata": {},
   "outputs": [],
   "source": [
    "results_a_02 = results_a_02[['user_id_init','item_id','score']].rename(columns={'user_id_init':'user_id'})\n",
    "results_a_04 = results_a_04[['user_id_init','item_id','score']].rename(columns={'user_id_init':'user_id'})\n",
    "results_a_06 = results_a_06[['user_id_init','item_id','score']].rename(columns={'user_id_init':'user_id'})"
   ]
  },
  {
   "cell_type": "code",
   "execution_count": 57,
   "metadata": {},
   "outputs": [],
   "source": [
    "test_set = pd.read_csv('../report_subprofiles_cv_10k/HoldOutPartitioning_test_split0.csv')\n",
    "test_set['user_id_init'] = test_set['user_id'].str.split('-').str[0]\n",
    "test_set = test_set[['user_id_init','item_id','score']].rename(columns={'user_id_init':'user_id'})\n",
    "test_set['user_id'] = test_set['user_id'].astype(int)"
   ]
  },
  {
   "cell_type": "code",
   "execution_count": 58,
   "metadata": {},
   "outputs": [],
   "source": [
    "results_02_c1 = results_a_02[results_a_02['user_id'].isin(users_c1)]\n",
    "results_02_c2 = results_a_02[results_a_02['user_id'].isin(users_c2)]\n",
    "results_02_c3 = results_a_02[results_a_02['user_id'].isin(users_c3)]\n",
    "results_02_c4 = results_a_02[results_a_02['user_id'].isin(users_c4)]\n",
    "results_02_c5 = results_a_02[results_a_02['user_id'].isin(users_c5)]\n",
    "\n",
    "results_04_c1 = results_a_04[results_a_04['user_id'].isin(users_c1)]\n",
    "results_04_c2 = results_a_04[results_a_04['user_id'].isin(users_c2)]\n",
    "results_04_c3 = results_a_04[results_a_04['user_id'].isin(users_c3)]\n",
    "results_04_c4 = results_a_04[results_a_04['user_id'].isin(users_c4)]\n",
    "results_04_c5 = results_a_04[results_a_04['user_id'].isin(users_c5)]\n",
    "\n",
    "results_06_c1 = results_a_06[results_a_06['user_id'].isin(users_c1)]\n",
    "results_06_c2 = results_a_06[results_a_06['user_id'].isin(users_c2)]\n",
    "results_06_c3 = results_a_06[results_a_06['user_id'].isin(users_c3)]\n",
    "results_06_c4 = results_a_06[results_a_06['user_id'].isin(users_c4)]\n",
    "results_06_c5 = results_a_06[results_a_06['user_id'].isin(users_c5)]"
   ]
  },
  {
   "cell_type": "code",
   "execution_count": 59,
   "metadata": {},
   "outputs": [],
   "source": [
    "test = test_set.copy()"
   ]
  },
  {
   "cell_type": "code",
   "execution_count": 50,
   "metadata": {},
   "outputs": [
    {
     "ename": "NameError",
     "evalue": "name 'test' is not defined",
     "output_type": "error",
     "traceback": [
      "\u001b[1;31m---------------------------------------------------------------------------\u001b[0m",
      "\u001b[1;31mNameError\u001b[0m                                 Traceback (most recent call last)",
      "\u001b[1;32mC:\\Users\\CTREUI~1.BID\\AppData\\Local\\Temp/ipykernel_25684/2727171284.py\u001b[0m in \u001b[0;36m<module>\u001b[1;34m\u001b[0m\n\u001b[1;32m----> 1\u001b[1;33m \u001b[0mtest_c1\u001b[0m \u001b[1;33m=\u001b[0m \u001b[0mtest\u001b[0m\u001b[1;33m[\u001b[0m\u001b[0mtest\u001b[0m\u001b[1;33m[\u001b[0m\u001b[1;34m'user_id'\u001b[0m\u001b[1;33m]\u001b[0m\u001b[1;33m.\u001b[0m\u001b[0misin\u001b[0m\u001b[1;33m(\u001b[0m\u001b[0musers_c1\u001b[0m\u001b[1;33m)\u001b[0m\u001b[1;33m]\u001b[0m\u001b[1;33m\u001b[0m\u001b[1;33m\u001b[0m\u001b[0m\n\u001b[0m\u001b[0;32m      2\u001b[0m \u001b[0mtest_c2\u001b[0m \u001b[1;33m=\u001b[0m \u001b[0mtest\u001b[0m\u001b[1;33m[\u001b[0m\u001b[0mtest\u001b[0m\u001b[1;33m[\u001b[0m\u001b[1;34m'user_id'\u001b[0m\u001b[1;33m]\u001b[0m\u001b[1;33m.\u001b[0m\u001b[0misin\u001b[0m\u001b[1;33m(\u001b[0m\u001b[0musers_c2\u001b[0m\u001b[1;33m)\u001b[0m\u001b[1;33m]\u001b[0m\u001b[1;33m\u001b[0m\u001b[1;33m\u001b[0m\u001b[0m\n\u001b[0;32m      3\u001b[0m \u001b[0mtest_c3\u001b[0m \u001b[1;33m=\u001b[0m \u001b[0mtest\u001b[0m\u001b[1;33m[\u001b[0m\u001b[0mtest\u001b[0m\u001b[1;33m[\u001b[0m\u001b[1;34m'user_id'\u001b[0m\u001b[1;33m]\u001b[0m\u001b[1;33m.\u001b[0m\u001b[0misin\u001b[0m\u001b[1;33m(\u001b[0m\u001b[0musers_c3\u001b[0m\u001b[1;33m)\u001b[0m\u001b[1;33m]\u001b[0m\u001b[1;33m\u001b[0m\u001b[1;33m\u001b[0m\u001b[0m\n\u001b[0;32m      4\u001b[0m \u001b[0mtest_c4\u001b[0m \u001b[1;33m=\u001b[0m \u001b[0mtest\u001b[0m\u001b[1;33m[\u001b[0m\u001b[0mtest\u001b[0m\u001b[1;33m[\u001b[0m\u001b[1;34m'user_id'\u001b[0m\u001b[1;33m]\u001b[0m\u001b[1;33m.\u001b[0m\u001b[0misin\u001b[0m\u001b[1;33m(\u001b[0m\u001b[0musers_c4\u001b[0m\u001b[1;33m)\u001b[0m\u001b[1;33m]\u001b[0m\u001b[1;33m\u001b[0m\u001b[1;33m\u001b[0m\u001b[0m\n\u001b[0;32m      5\u001b[0m \u001b[0mtest_c5\u001b[0m \u001b[1;33m=\u001b[0m \u001b[0mtest\u001b[0m\u001b[1;33m[\u001b[0m\u001b[0mtest\u001b[0m\u001b[1;33m[\u001b[0m\u001b[1;34m'user_id'\u001b[0m\u001b[1;33m]\u001b[0m\u001b[1;33m.\u001b[0m\u001b[0misin\u001b[0m\u001b[1;33m(\u001b[0m\u001b[0musers_c5\u001b[0m\u001b[1;33m)\u001b[0m\u001b[1;33m]\u001b[0m\u001b[1;33m\u001b[0m\u001b[1;33m\u001b[0m\u001b[0m\n",
      "\u001b[1;31mNameError\u001b[0m: name 'test' is not defined"
     ]
    }
   ],
   "source": [
    "test_c1 = test[test['user_id'].isin(users_c1)]\n",
    "test_c2 = test[test['user_id'].isin(users_c2)]\n",
    "test_c3 = test[test['user_id'].isin(users_c3)]\n",
    "test_c4 = test[test['user_id'].isin(users_c4)]\n",
    "test_c5 = test[test['user_id'].isin(users_c5)]"
   ]
  },
  {
   "cell_type": "markdown",
   "metadata": {},
   "source": [
    "### Cluster 1"
   ]
  },
  {
   "cell_type": "code",
   "execution_count": 61,
   "metadata": {},
   "outputs": [],
   "source": [
    "div_a_02_c1 = ca.Ratings.from_dataframe(results_02_c1)\n",
    "div_a_04_c1 = ca.Ratings.from_dataframe(results_04_c1)\n",
    "div_a_06_c1 = ca.Ratings.from_dataframe(results_06_c1)\n",
    "\n",
    "\n",
    "test_1 = ca.Ratings.from_dataframe(test_c1)"
   ]
  },
  {
   "cell_type": "code",
   "execution_count": 62,
   "metadata": {},
   "outputs": [
    {
     "name": "stderr",
     "output_type": "stream",
     "text": [
      "\u001b[39mINFO\u001b[0m - Performing evaluation on metrics chosen\n",
      "Performing NDCG@10:  80%|████████  | 4/5 [00:00<00:00]          C:\\Users\\ctreuill.BIDOUILLE\\AppData\\Roaming\\Python\\Python39\\site-packages\\clayrs\\evaluation\\metrics\\ranking_metrics.py:205: RuntimeWarning: invalid value encountered in double_scalars\n",
      "  return actual / ideal\n",
      "Performing NDCG@10:  100%|██████████| 5/5 [00:00<00:00]\n",
      "\u001b[39mINFO\u001b[0m - Performing evaluation on metrics chosen\n",
      "Performing NDCG@10:  80%|████████  | 4/5 [00:00<00:00]          C:\\Users\\ctreuill.BIDOUILLE\\AppData\\Roaming\\Python\\Python39\\site-packages\\clayrs\\evaluation\\metrics\\ranking_metrics.py:205: RuntimeWarning: invalid value encountered in double_scalars\n",
      "  return actual / ideal\n",
      "Performing NDCG@10:  100%|██████████| 5/5 [00:00<00:00]\n",
      "\u001b[39mINFO\u001b[0m - Performing evaluation on metrics chosen\n",
      "Performing NDCG@10:  80%|████████  | 4/5 [00:00<00:00]          C:\\Users\\ctreuill.BIDOUILLE\\AppData\\Roaming\\Python\\Python39\\site-packages\\clayrs\\evaluation\\metrics\\ranking_metrics.py:205: RuntimeWarning: invalid value encountered in double_scalars\n",
      "  return actual / ideal\n",
      "Performing NDCG@10:  100%|██████████| 5/5 [00:00<00:00]\n"
     ]
    }
   ],
   "source": [
    "sys_result_a_02, users_results_a_02 = get_performances(div_a_02_c1, test_1)\n",
    "sys_result_a_04, users_results_a_04 = get_performances(div_a_04_c1, test_1)\n",
    "sys_result_a_06, users_results_a_06 = get_performances(div_a_06_c1, test_1)\n"
   ]
  },
  {
   "cell_type": "code",
   "execution_count": 63,
   "metadata": {},
   "outputs": [],
   "source": [
    "complete_results = pd.concat([sys_result_a_02, sys_result_a_04, sys_result_a_06]).reset_index()\n",
    "complete_results = complete_results[complete_results['user_id']=='sys - fold1']\n",
    "complete_results['user_id']=['0.2','0.4','0.6']\n",
    "complete_results = complete_results.rename(columns={'user_id':'a_value'})\n",
    "complete_results = complete_results.set_index('a_value')"
   ]
  },
  {
   "cell_type": "code",
   "execution_count": 64,
   "metadata": {},
   "outputs": [
    {
     "data": {
      "text/html": [
       "<div>\n",
       "<style scoped>\n",
       "    .dataframe tbody tr th:only-of-type {\n",
       "        vertical-align: middle;\n",
       "    }\n",
       "\n",
       "    .dataframe tbody tr th {\n",
       "        vertical-align: top;\n",
       "    }\n",
       "\n",
       "    .dataframe thead th {\n",
       "        text-align: right;\n",
       "    }\n",
       "</style>\n",
       "<table border=\"1\" class=\"dataframe\">\n",
       "  <thead>\n",
       "    <tr style=\"text-align: right;\">\n",
       "      <th></th>\n",
       "      <th>Precision@10 - macro</th>\n",
       "      <th>Recall@10 - macro</th>\n",
       "      <th>F1@10 - macro</th>\n",
       "      <th>MRR</th>\n",
       "      <th>NDCG@10</th>\n",
       "    </tr>\n",
       "    <tr>\n",
       "      <th>a_value</th>\n",
       "      <th></th>\n",
       "      <th></th>\n",
       "      <th></th>\n",
       "      <th></th>\n",
       "      <th></th>\n",
       "    </tr>\n",
       "  </thead>\n",
       "  <tbody>\n",
       "    <tr>\n",
       "      <th>0.2</th>\n",
       "      <td>0.207174</td>\n",
       "      <td>0.329112</td>\n",
       "      <td>0.235843</td>\n",
       "      <td>0.343458</td>\n",
       "      <td>0.573828</td>\n",
       "    </tr>\n",
       "    <tr>\n",
       "      <th>0.4</th>\n",
       "      <td>0.224312</td>\n",
       "      <td>0.376657</td>\n",
       "      <td>0.261276</td>\n",
       "      <td>0.356267</td>\n",
       "      <td>0.566421</td>\n",
       "    </tr>\n",
       "    <tr>\n",
       "      <th>0.6</th>\n",
       "      <td>0.224199</td>\n",
       "      <td>0.408963</td>\n",
       "      <td>0.269662</td>\n",
       "      <td>0.361932</td>\n",
       "      <td>0.564953</td>\n",
       "    </tr>\n",
       "  </tbody>\n",
       "</table>\n",
       "</div>"
      ],
      "text/plain": [
       "         Precision@10 - macro  Recall@10 - macro  F1@10 - macro       MRR  \\\n",
       "a_value                                                                     \n",
       "0.2                  0.207174           0.329112       0.235843  0.343458   \n",
       "0.4                  0.224312           0.376657       0.261276  0.356267   \n",
       "0.6                  0.224199           0.408963       0.269662  0.361932   \n",
       "\n",
       "          NDCG@10  \n",
       "a_value            \n",
       "0.2      0.573828  \n",
       "0.4      0.566421  \n",
       "0.6      0.564953  "
      ]
     },
     "execution_count": 64,
     "metadata": {},
     "output_type": "execute_result"
    }
   ],
   "source": [
    "complete_results"
   ]
  },
  {
   "cell_type": "code",
   "execution_count": 65,
   "metadata": {},
   "outputs": [],
   "source": [
    "complete_results = complete_results.rename(columns={'Precision@10 - macro':'Precision', 'Recall@10 - macro':'Recall', 'F1@10 - macro':'F1 score'})"
   ]
  },
  {
   "cell_type": "code",
   "execution_count": 66,
   "metadata": {},
   "outputs": [
    {
     "name": "stderr",
     "output_type": "stream",
     "text": [
      "100%|██████████| 517/517 [00:02<00:00, 231.94it/s]\n",
      "100%|██████████| 517/517 [00:02<00:00, 247.75it/s]\n",
      "100%|██████████| 517/517 [00:01<00:00, 284.52it/s]\n"
     ]
    }
   ],
   "source": [
    "dict_ils_a_02 = compute_ils(results_02_c1, similarity_matrix, users_c1)\n",
    "dict_ils_a_04 = compute_ils(results_04_c1, similarity_matrix, users_c1)\n",
    "dict_ils_a_06 = compute_ils(results_06_c1, similarity_matrix, users_c1)"
   ]
  },
  {
   "cell_type": "code",
   "execution_count": 67,
   "metadata": {},
   "outputs": [],
   "source": [
    "complete_results.loc['0.2','ILS'] = np.mean(list(dict_ils_a_02.values()))\n",
    "complete_results.loc['0.4','ILS'] = np.mean(list(dict_ils_a_04.values()))\n",
    "complete_results.loc['0.6','ILS'] = np.mean(list(dict_ils_a_06.values()))"
   ]
  },
  {
   "cell_type": "code",
   "execution_count": 68,
   "metadata": {},
   "outputs": [],
   "source": [
    "results_a_02_categories_c1 = get_results_categories(results_02_c1)\n",
    "results_a_04_categories_c1 = get_results_categories(results_04_c1)\n",
    "results_a_06_categories_c1 = get_results_categories(results_06_c1)"
   ]
  },
  {
   "cell_type": "code",
   "execution_count": 69,
   "metadata": {},
   "outputs": [
    {
     "name": "stderr",
     "output_type": "stream",
     "text": [
      "100%|██████████| 517/517 [00:00<00:00, 2033.02it/s]\n",
      "100%|██████████| 517/517 [00:00<00:00, 2227.00it/s]\n",
      "100%|██████████| 517/517 [00:00<00:00, 2463.17it/s]\n"
     ]
    }
   ],
   "source": [
    "dict_alpha_ndcg_05_a_02 = alpha_ndcg(results_a_02_categories_c1, users_c1, users_interest, alpha=0.5)\n",
    "dict_alpha_ndcg_05_a_04 = alpha_ndcg(results_a_04_categories_c1, users_c1, users_interest, alpha=0.5)\n",
    "dict_alpha_ndcg_05_a_06 = alpha_ndcg(results_a_06_categories_c1, users_c1, users_interest, alpha=0.5)"
   ]
  },
  {
   "cell_type": "code",
   "execution_count": 70,
   "metadata": {},
   "outputs": [],
   "source": [
    "complete_results.loc['0.2','alpha_ndcg'] = np.nanmean(list(dict_alpha_ndcg_05_a_02.values()))\n",
    "complete_results.loc['0.4','alpha_ndcg'] = np.nanmean(list(dict_alpha_ndcg_05_a_04.values()))\n",
    "complete_results.loc['0.6','alpha_ndcg'] = np.nanmean(list(dict_alpha_ndcg_05_a_06.values()))"
   ]
  },
  {
   "cell_type": "code",
   "execution_count": 71,
   "metadata": {},
   "outputs": [
    {
     "name": "stderr",
     "output_type": "stream",
     "text": [
      "100%|██████████| 517/517 [00:00<00:00, 1094.24it/s]\n",
      "100%|██████████| 517/517 [00:00<00:00, 1013.54it/s]\n",
      "100%|██████████| 517/517 [00:00<00:00, 1478.90it/s]\n"
     ]
    }
   ],
   "source": [
    "dict_ndcg_ia_a_02 = ndcg_ia(results_a_02_categories_c1, users_c1, users_interest)\n",
    "dict_ndcg_ia_a_04 = ndcg_ia(results_a_04_categories_c1, users_c1, users_interest)\n",
    "dict_ndcg_ia_a_06 = ndcg_ia(results_a_06_categories_c1, users_c1, users_interest)"
   ]
  },
  {
   "cell_type": "code",
   "execution_count": 72,
   "metadata": {},
   "outputs": [],
   "source": [
    "complete_results.loc['0.2','ndcg_ia'] = np.nanmean(list(dict_ndcg_ia_a_02.values()))\n",
    "complete_results.loc['0.4','ndcg_ia'] = np.nanmean(list(dict_ndcg_ia_a_04.values()))\n",
    "complete_results.loc['0.6','ndcg_ia'] = np.nanmean(list(dict_ndcg_ia_a_06.values()))"
   ]
  },
  {
   "cell_type": "code",
   "execution_count": 73,
   "metadata": {},
   "outputs": [
    {
     "name": "stderr",
     "output_type": "stream",
     "text": [
      "100%|██████████| 517/517 [00:00<00:00, 3522.27it/s]\n",
      "100%|██████████| 517/517 [00:00<00:00, 2773.56it/s]\n",
      "100%|██████████| 517/517 [00:00<00:00, 2894.55it/s]\n"
     ]
    }
   ],
   "source": [
    "dict_srecall_a_02 = s_recall(results_a_02_categories_c1, users_c1, categories_list)\n",
    "dict_srecall_a_04 = s_recall(results_a_04_categories_c1, users_c1, categories_list)\n",
    "dict_srecall_a_06 = s_recall(results_a_06_categories_c1, users_c1, categories_list)"
   ]
  },
  {
   "cell_type": "code",
   "execution_count": 74,
   "metadata": {},
   "outputs": [],
   "source": [
    "complete_results.loc['0.2','s_recall'] = np.nanmean(list(dict_srecall_a_02.values()))\n",
    "complete_results.loc['0.4','s_recall'] = np.nanmean(list(dict_srecall_a_04.values()))\n",
    "complete_results.loc['0.6','s_recall'] = np.nanmean(list(dict_srecall_a_06.values()))"
   ]
  },
  {
   "cell_type": "code",
   "execution_count": 75,
   "metadata": {},
   "outputs": [],
   "source": [
    "complete_results_c1 = complete_results.copy()"
   ]
  },
  {
   "cell_type": "code",
   "execution_count": 76,
   "metadata": {},
   "outputs": [
    {
     "data": {
      "text/html": [
       "<div>\n",
       "<style scoped>\n",
       "    .dataframe tbody tr th:only-of-type {\n",
       "        vertical-align: middle;\n",
       "    }\n",
       "\n",
       "    .dataframe tbody tr th {\n",
       "        vertical-align: top;\n",
       "    }\n",
       "\n",
       "    .dataframe thead th {\n",
       "        text-align: right;\n",
       "    }\n",
       "</style>\n",
       "<table border=\"1\" class=\"dataframe\">\n",
       "  <thead>\n",
       "    <tr style=\"text-align: right;\">\n",
       "      <th></th>\n",
       "      <th>Precision</th>\n",
       "      <th>Recall</th>\n",
       "      <th>F1 score</th>\n",
       "      <th>MRR</th>\n",
       "      <th>NDCG@10</th>\n",
       "      <th>ILS</th>\n",
       "      <th>alpha_ndcg</th>\n",
       "      <th>ndcg_ia</th>\n",
       "      <th>s_recall</th>\n",
       "    </tr>\n",
       "    <tr>\n",
       "      <th>a_value</th>\n",
       "      <th></th>\n",
       "      <th></th>\n",
       "      <th></th>\n",
       "      <th></th>\n",
       "      <th></th>\n",
       "      <th></th>\n",
       "      <th></th>\n",
       "      <th></th>\n",
       "      <th></th>\n",
       "    </tr>\n",
       "  </thead>\n",
       "  <tbody>\n",
       "    <tr>\n",
       "      <th>0.2</th>\n",
       "      <td>0.207174</td>\n",
       "      <td>0.329112</td>\n",
       "      <td>0.235843</td>\n",
       "      <td>0.343458</td>\n",
       "      <td>0.573828</td>\n",
       "      <td>0.546432</td>\n",
       "      <td>0.867730</td>\n",
       "      <td>0.694102</td>\n",
       "      <td>0.362446</td>\n",
       "    </tr>\n",
       "    <tr>\n",
       "      <th>0.4</th>\n",
       "      <td>0.224312</td>\n",
       "      <td>0.376657</td>\n",
       "      <td>0.261276</td>\n",
       "      <td>0.356267</td>\n",
       "      <td>0.566421</td>\n",
       "      <td>0.670926</td>\n",
       "      <td>0.896494</td>\n",
       "      <td>0.709451</td>\n",
       "      <td>0.272578</td>\n",
       "    </tr>\n",
       "    <tr>\n",
       "      <th>0.6</th>\n",
       "      <td>0.224199</td>\n",
       "      <td>0.408963</td>\n",
       "      <td>0.269662</td>\n",
       "      <td>0.361932</td>\n",
       "      <td>0.564953</td>\n",
       "      <td>0.696169</td>\n",
       "      <td>0.904805</td>\n",
       "      <td>0.712338</td>\n",
       "      <td>0.254873</td>\n",
       "    </tr>\n",
       "  </tbody>\n",
       "</table>\n",
       "</div>"
      ],
      "text/plain": [
       "         Precision    Recall  F1 score       MRR   NDCG@10       ILS  \\\n",
       "a_value                                                                \n",
       "0.2       0.207174  0.329112  0.235843  0.343458  0.573828  0.546432   \n",
       "0.4       0.224312  0.376657  0.261276  0.356267  0.566421  0.670926   \n",
       "0.6       0.224199  0.408963  0.269662  0.361932  0.564953  0.696169   \n",
       "\n",
       "         alpha_ndcg   ndcg_ia  s_recall  \n",
       "a_value                                  \n",
       "0.2        0.867730  0.694102  0.362446  \n",
       "0.4        0.896494  0.709451  0.272578  \n",
       "0.6        0.904805  0.712338  0.254873  "
      ]
     },
     "execution_count": 76,
     "metadata": {},
     "output_type": "execute_result"
    }
   ],
   "source": [
    "complete_results_c1"
   ]
  },
  {
   "cell_type": "code",
   "execution_count": 77,
   "metadata": {},
   "outputs": [],
   "source": [
    "complete_results_c1.to_csv('results/clusters/kmeans/results_reranking_kmeans_c1.csv')"
   ]
  },
  {
   "cell_type": "markdown",
   "metadata": {},
   "source": [
    "### Cluster 2"
   ]
  },
  {
   "cell_type": "code",
   "execution_count": 78,
   "metadata": {},
   "outputs": [],
   "source": [
    "div_a_02_c2 = ca.Ratings.from_dataframe(results_02_c2)\n",
    "div_a_04_c2 = ca.Ratings.from_dataframe(results_04_c2)\n",
    "div_a_06_c2 = ca.Ratings.from_dataframe(results_06_c2)\n",
    "\n",
    "\n",
    "test_2 = ca.Ratings.from_dataframe(test_c2)"
   ]
  },
  {
   "cell_type": "code",
   "execution_count": 79,
   "metadata": {},
   "outputs": [
    {
     "name": "stderr",
     "output_type": "stream",
     "text": [
      "\u001b[39mINFO\u001b[0m - Performing evaluation on metrics chosen\n",
      "Performing NDCG@10:  80%|████████  | 4/5 [00:01<00:00]             C:\\Users\\ctreuill.BIDOUILLE\\AppData\\Roaming\\Python\\Python39\\site-packages\\clayrs\\evaluation\\metrics\\ranking_metrics.py:205: RuntimeWarning: invalid value encountered in double_scalars\n",
      "  return actual / ideal\n",
      "Performing NDCG@10:  100%|██████████| 5/5 [00:01<00:00]\n",
      "\u001b[39mINFO\u001b[0m - Performing evaluation on metrics chosen\n",
      "Performing NDCG@10:  80%|████████  | 4/5 [00:01<00:00]             C:\\Users\\ctreuill.BIDOUILLE\\AppData\\Roaming\\Python\\Python39\\site-packages\\clayrs\\evaluation\\metrics\\ranking_metrics.py:205: RuntimeWarning: invalid value encountered in double_scalars\n",
      "  return actual / ideal\n",
      "Performing NDCG@10:  100%|██████████| 5/5 [00:01<00:00]\n",
      "\u001b[39mINFO\u001b[0m - Performing evaluation on metrics chosen\n",
      "Performing NDCG@10:  80%|████████  | 4/5 [00:01<00:00]             C:\\Users\\ctreuill.BIDOUILLE\\AppData\\Roaming\\Python\\Python39\\site-packages\\clayrs\\evaluation\\metrics\\ranking_metrics.py:205: RuntimeWarning: invalid value encountered in double_scalars\n",
      "  return actual / ideal\n",
      "Performing NDCG@10:  100%|██████████| 5/5 [00:01<00:00]\n"
     ]
    }
   ],
   "source": [
    "sys_result_a_02, users_results_a_02 = get_performances(div_a_02_c2, test_2)\n",
    "sys_result_a_04, users_results_a_04 = get_performances(div_a_04_c2, test_2)\n",
    "sys_result_a_06, users_results_a_06 = get_performances(div_a_06_c2, test_2)\n"
   ]
  },
  {
   "cell_type": "code",
   "execution_count": 80,
   "metadata": {},
   "outputs": [],
   "source": [
    "complete_results = pd.concat([sys_result_a_02, sys_result_a_04, sys_result_a_06]).reset_index()\n",
    "complete_results = complete_results[complete_results['user_id']=='sys - fold1']\n",
    "complete_results['user_id']=['0.2','0.4','0.6']\n",
    "complete_results = complete_results.rename(columns={'user_id':'a_value'})\n",
    "complete_results = complete_results.set_index('a_value')"
   ]
  },
  {
   "cell_type": "code",
   "execution_count": 81,
   "metadata": {},
   "outputs": [
    {
     "data": {
      "text/html": [
       "<div>\n",
       "<style scoped>\n",
       "    .dataframe tbody tr th:only-of-type {\n",
       "        vertical-align: middle;\n",
       "    }\n",
       "\n",
       "    .dataframe tbody tr th {\n",
       "        vertical-align: top;\n",
       "    }\n",
       "\n",
       "    .dataframe thead th {\n",
       "        text-align: right;\n",
       "    }\n",
       "</style>\n",
       "<table border=\"1\" class=\"dataframe\">\n",
       "  <thead>\n",
       "    <tr style=\"text-align: right;\">\n",
       "      <th></th>\n",
       "      <th>Precision@10 - macro</th>\n",
       "      <th>Recall@10 - macro</th>\n",
       "      <th>F1@10 - macro</th>\n",
       "      <th>MRR</th>\n",
       "      <th>NDCG@10</th>\n",
       "    </tr>\n",
       "    <tr>\n",
       "      <th>a_value</th>\n",
       "      <th></th>\n",
       "      <th></th>\n",
       "      <th></th>\n",
       "      <th></th>\n",
       "      <th></th>\n",
       "    </tr>\n",
       "  </thead>\n",
       "  <tbody>\n",
       "    <tr>\n",
       "      <th>0.2</th>\n",
       "      <td>0.201642</td>\n",
       "      <td>0.346429</td>\n",
       "      <td>0.232878</td>\n",
       "      <td>0.383389</td>\n",
       "      <td>0.591669</td>\n",
       "    </tr>\n",
       "    <tr>\n",
       "      <th>0.4</th>\n",
       "      <td>0.216837</td>\n",
       "      <td>0.372417</td>\n",
       "      <td>0.250965</td>\n",
       "      <td>0.385700</td>\n",
       "      <td>0.592983</td>\n",
       "    </tr>\n",
       "    <tr>\n",
       "      <th>0.6</th>\n",
       "      <td>0.215624</td>\n",
       "      <td>0.401944</td>\n",
       "      <td>0.257293</td>\n",
       "      <td>0.386424</td>\n",
       "      <td>0.583866</td>\n",
       "    </tr>\n",
       "  </tbody>\n",
       "</table>\n",
       "</div>"
      ],
      "text/plain": [
       "         Precision@10 - macro  Recall@10 - macro  F1@10 - macro       MRR  \\\n",
       "a_value                                                                     \n",
       "0.2                  0.201642           0.346429       0.232878  0.383389   \n",
       "0.4                  0.216837           0.372417       0.250965  0.385700   \n",
       "0.6                  0.215624           0.401944       0.257293  0.386424   \n",
       "\n",
       "          NDCG@10  \n",
       "a_value            \n",
       "0.2      0.591669  \n",
       "0.4      0.592983  \n",
       "0.6      0.583866  "
      ]
     },
     "execution_count": 81,
     "metadata": {},
     "output_type": "execute_result"
    }
   ],
   "source": [
    "complete_results"
   ]
  },
  {
   "cell_type": "code",
   "execution_count": 82,
   "metadata": {},
   "outputs": [],
   "source": [
    "complete_results = complete_results.rename(columns={'Precision@10 - macro':'Precision', 'Recall@10 - macro':'Recall', 'F1@10 - macro':'F1 score'})"
   ]
  },
  {
   "cell_type": "code",
   "execution_count": 83,
   "metadata": {},
   "outputs": [
    {
     "name": "stderr",
     "output_type": "stream",
     "text": [
      "100%|██████████| 1658/1658 [00:06<00:00, 252.00it/s]\n",
      "100%|██████████| 1658/1658 [00:06<00:00, 257.63it/s]\n",
      "100%|██████████| 1658/1658 [00:06<00:00, 271.98it/s]\n"
     ]
    }
   ],
   "source": [
    "dict_ils_a_02 = compute_ils(results_02_c2, similarity_matrix, users_c2)\n",
    "dict_ils_a_04 = compute_ils(results_04_c2, similarity_matrix, users_c2)\n",
    "dict_ils_a_06 = compute_ils(results_06_c2, similarity_matrix, users_c2)"
   ]
  },
  {
   "cell_type": "code",
   "execution_count": 84,
   "metadata": {},
   "outputs": [],
   "source": [
    "complete_results.loc['0.2','ILS'] = np.mean(list(dict_ils_a_02.values()))\n",
    "complete_results.loc['0.4','ILS'] = np.mean(list(dict_ils_a_04.values()))\n",
    "complete_results.loc['0.6','ILS'] = np.mean(list(dict_ils_a_06.values()))"
   ]
  },
  {
   "cell_type": "code",
   "execution_count": 85,
   "metadata": {},
   "outputs": [],
   "source": [
    "results_a_02_categories_c2 = get_results_categories(results_02_c2)\n",
    "results_a_04_categories_c2 = get_results_categories(results_04_c2)\n",
    "results_a_06_categories_c2 = get_results_categories(results_06_c2)"
   ]
  },
  {
   "cell_type": "code",
   "execution_count": 86,
   "metadata": {},
   "outputs": [
    {
     "name": "stderr",
     "output_type": "stream",
     "text": [
      "100%|██████████| 1658/1658 [00:00<00:00, 1676.46it/s]\n",
      "100%|██████████| 1658/1658 [00:00<00:00, 2042.95it/s]\n",
      "100%|██████████| 1658/1658 [00:00<00:00, 1766.84it/s]\n"
     ]
    }
   ],
   "source": [
    "dict_alpha_ndcg_05_a_02 = alpha_ndcg(results_a_02_categories_c2, users_c2, users_interest, alpha=0.5)\n",
    "dict_alpha_ndcg_05_a_04 = alpha_ndcg(results_a_04_categories_c2, users_c2, users_interest, alpha=0.5)\n",
    "dict_alpha_ndcg_05_a_06 = alpha_ndcg(results_a_06_categories_c2, users_c2, users_interest, alpha=0.5)"
   ]
  },
  {
   "cell_type": "code",
   "execution_count": 87,
   "metadata": {},
   "outputs": [],
   "source": [
    "complete_results.loc['0.2','alpha_ndcg'] = np.nanmean(list(dict_alpha_ndcg_05_a_02.values()))\n",
    "complete_results.loc['0.4','alpha_ndcg'] = np.nanmean(list(dict_alpha_ndcg_05_a_04.values()))\n",
    "complete_results.loc['0.6','alpha_ndcg'] = np.nanmean(list(dict_alpha_ndcg_05_a_06.values()))"
   ]
  },
  {
   "cell_type": "code",
   "execution_count": 88,
   "metadata": {},
   "outputs": [
    {
     "name": "stderr",
     "output_type": "stream",
     "text": [
      "100%|██████████| 1658/1658 [00:01<00:00, 1068.24it/s]\n",
      "100%|██████████| 1658/1658 [00:01<00:00, 1223.27it/s]\n",
      "100%|██████████| 1658/1658 [00:01<00:00, 1175.24it/s]\n"
     ]
    }
   ],
   "source": [
    "dict_ndcg_ia_a_02 = ndcg_ia(results_a_02_categories_c2, users_c2, users_interest)\n",
    "dict_ndcg_ia_a_04 = ndcg_ia(results_a_04_categories_c2, users_c2, users_interest)\n",
    "dict_ndcg_ia_a_06 = ndcg_ia(results_a_06_categories_c2, users_c2, users_interest)"
   ]
  },
  {
   "cell_type": "code",
   "execution_count": 89,
   "metadata": {},
   "outputs": [],
   "source": [
    "complete_results.loc['0.2','ndcg_ia'] = np.nanmean(list(dict_ndcg_ia_a_02.values()))\n",
    "complete_results.loc['0.4','ndcg_ia'] = np.nanmean(list(dict_ndcg_ia_a_04.values()))\n",
    "complete_results.loc['0.6','ndcg_ia'] = np.nanmean(list(dict_ndcg_ia_a_06.values()))"
   ]
  },
  {
   "cell_type": "code",
   "execution_count": 90,
   "metadata": {},
   "outputs": [
    {
     "name": "stderr",
     "output_type": "stream",
     "text": [
      "100%|██████████| 1658/1658 [00:00<00:00, 2826.72it/s]\n",
      "100%|██████████| 1658/1658 [00:00<00:00, 3350.74it/s]\n",
      "100%|██████████| 1658/1658 [00:00<00:00, 3619.08it/s]\n"
     ]
    }
   ],
   "source": [
    "dict_srecall_a_02 = s_recall(results_a_02_categories_c2, users_c2, categories_list)\n",
    "dict_srecall_a_04 = s_recall(results_a_04_categories_c2, users_c2, categories_list)\n",
    "dict_srecall_a_06 = s_recall(results_a_06_categories_c2, users_c2, categories_list)"
   ]
  },
  {
   "cell_type": "code",
   "execution_count": 91,
   "metadata": {},
   "outputs": [],
   "source": [
    "complete_results.loc['0.2','s_recall'] = np.nanmean(list(dict_srecall_a_02.values()))\n",
    "complete_results.loc['0.4','s_recall'] = np.nanmean(list(dict_srecall_a_04.values()))\n",
    "complete_results.loc['0.6','s_recall'] = np.nanmean(list(dict_srecall_a_06.values()))"
   ]
  },
  {
   "cell_type": "code",
   "execution_count": 92,
   "metadata": {},
   "outputs": [],
   "source": [
    "complete_results_c2 = complete_results.copy()"
   ]
  },
  {
   "cell_type": "code",
   "execution_count": 93,
   "metadata": {},
   "outputs": [
    {
     "data": {
      "text/html": [
       "<div>\n",
       "<style scoped>\n",
       "    .dataframe tbody tr th:only-of-type {\n",
       "        vertical-align: middle;\n",
       "    }\n",
       "\n",
       "    .dataframe tbody tr th {\n",
       "        vertical-align: top;\n",
       "    }\n",
       "\n",
       "    .dataframe thead th {\n",
       "        text-align: right;\n",
       "    }\n",
       "</style>\n",
       "<table border=\"1\" class=\"dataframe\">\n",
       "  <thead>\n",
       "    <tr style=\"text-align: right;\">\n",
       "      <th></th>\n",
       "      <th>Precision</th>\n",
       "      <th>Recall</th>\n",
       "      <th>F1 score</th>\n",
       "      <th>MRR</th>\n",
       "      <th>NDCG@10</th>\n",
       "      <th>ILS</th>\n",
       "      <th>alpha_ndcg</th>\n",
       "      <th>ndcg_ia</th>\n",
       "      <th>s_recall</th>\n",
       "    </tr>\n",
       "    <tr>\n",
       "      <th>a_value</th>\n",
       "      <th></th>\n",
       "      <th></th>\n",
       "      <th></th>\n",
       "      <th></th>\n",
       "      <th></th>\n",
       "      <th></th>\n",
       "      <th></th>\n",
       "      <th></th>\n",
       "      <th></th>\n",
       "    </tr>\n",
       "  </thead>\n",
       "  <tbody>\n",
       "    <tr>\n",
       "      <th>0.2</th>\n",
       "      <td>0.201642</td>\n",
       "      <td>0.346429</td>\n",
       "      <td>0.232878</td>\n",
       "      <td>0.383389</td>\n",
       "      <td>0.591669</td>\n",
       "      <td>0.434041</td>\n",
       "      <td>0.850649</td>\n",
       "      <td>0.611017</td>\n",
       "      <td>0.447481</td>\n",
       "    </tr>\n",
       "    <tr>\n",
       "      <th>0.4</th>\n",
       "      <td>0.216837</td>\n",
       "      <td>0.372417</td>\n",
       "      <td>0.250965</td>\n",
       "      <td>0.385700</td>\n",
       "      <td>0.592983</td>\n",
       "      <td>0.547742</td>\n",
       "      <td>0.906513</td>\n",
       "      <td>0.630130</td>\n",
       "      <td>0.346989</td>\n",
       "    </tr>\n",
       "    <tr>\n",
       "      <th>0.6</th>\n",
       "      <td>0.215624</td>\n",
       "      <td>0.401944</td>\n",
       "      <td>0.257293</td>\n",
       "      <td>0.386424</td>\n",
       "      <td>0.583866</td>\n",
       "      <td>0.575203</td>\n",
       "      <td>0.911163</td>\n",
       "      <td>0.629525</td>\n",
       "      <td>0.326297</td>\n",
       "    </tr>\n",
       "  </tbody>\n",
       "</table>\n",
       "</div>"
      ],
      "text/plain": [
       "         Precision    Recall  F1 score       MRR   NDCG@10       ILS  \\\n",
       "a_value                                                                \n",
       "0.2       0.201642  0.346429  0.232878  0.383389  0.591669  0.434041   \n",
       "0.4       0.216837  0.372417  0.250965  0.385700  0.592983  0.547742   \n",
       "0.6       0.215624  0.401944  0.257293  0.386424  0.583866  0.575203   \n",
       "\n",
       "         alpha_ndcg   ndcg_ia  s_recall  \n",
       "a_value                                  \n",
       "0.2        0.850649  0.611017  0.447481  \n",
       "0.4        0.906513  0.630130  0.346989  \n",
       "0.6        0.911163  0.629525  0.326297  "
      ]
     },
     "execution_count": 93,
     "metadata": {},
     "output_type": "execute_result"
    }
   ],
   "source": [
    "complete_results_c2"
   ]
  },
  {
   "cell_type": "code",
   "execution_count": 94,
   "metadata": {},
   "outputs": [],
   "source": [
    "complete_results_c2.to_csv('results/clusters/kmeans/results_reranking_kmeans_c2.csv')"
   ]
  },
  {
   "cell_type": "markdown",
   "metadata": {},
   "source": [
    "### Cluster 3"
   ]
  },
  {
   "cell_type": "code",
   "execution_count": 95,
   "metadata": {},
   "outputs": [],
   "source": [
    "div_a_02_c3 = ca.Ratings.from_dataframe(results_02_c3)\n",
    "div_a_04_c3 = ca.Ratings.from_dataframe(results_04_c3)\n",
    "div_a_06_c3 = ca.Ratings.from_dataframe(results_06_c3)\n",
    "\n",
    "\n",
    "test_3 = ca.Ratings.from_dataframe(test_c3)"
   ]
  },
  {
   "cell_type": "code",
   "execution_count": 96,
   "metadata": {},
   "outputs": [
    {
     "name": "stderr",
     "output_type": "stream",
     "text": [
      "\u001b[39mINFO\u001b[0m - Performing evaluation on metrics chosen\n",
      "Performing NDCG@10:  80%|████████  | 4/5 [00:03<00:00]             C:\\Users\\ctreuill.BIDOUILLE\\AppData\\Roaming\\Python\\Python39\\site-packages\\clayrs\\evaluation\\metrics\\ranking_metrics.py:205: RuntimeWarning: invalid value encountered in double_scalars\n",
      "  return actual / ideal\n",
      "Performing NDCG@10:  100%|██████████| 5/5 [00:04<00:00]\n",
      "\u001b[39mINFO\u001b[0m - Performing evaluation on metrics chosen\n",
      "Performing NDCG@10:  80%|████████  | 4/5 [00:03<00:00]             C:\\Users\\ctreuill.BIDOUILLE\\AppData\\Roaming\\Python\\Python39\\site-packages\\clayrs\\evaluation\\metrics\\ranking_metrics.py:205: RuntimeWarning: invalid value encountered in double_scalars\n",
      "  return actual / ideal\n",
      "Performing NDCG@10:  100%|██████████| 5/5 [00:04<00:00]\n",
      "\u001b[39mINFO\u001b[0m - Performing evaluation on metrics chosen\n",
      "Performing NDCG@10:  80%|████████  | 4/5 [00:03<00:00]             C:\\Users\\ctreuill.BIDOUILLE\\AppData\\Roaming\\Python\\Python39\\site-packages\\clayrs\\evaluation\\metrics\\ranking_metrics.py:205: RuntimeWarning: invalid value encountered in double_scalars\n",
      "  return actual / ideal\n",
      "Performing NDCG@10:  100%|██████████| 5/5 [00:04<00:00]\n"
     ]
    }
   ],
   "source": [
    "sys_result_a_02, users_results_a_02 = get_performances(div_a_02_c3, test_3)\n",
    "sys_result_a_04, users_results_a_04 = get_performances(div_a_04_c3, test_3)\n",
    "sys_result_a_06, users_results_a_06 = get_performances(div_a_06_c3, test_3)\n"
   ]
  },
  {
   "cell_type": "code",
   "execution_count": 97,
   "metadata": {},
   "outputs": [],
   "source": [
    "complete_results = pd.concat([sys_result_a_02, sys_result_a_04, sys_result_a_06]).reset_index()\n",
    "complete_results = complete_results[complete_results['user_id']=='sys - fold1']\n",
    "complete_results['user_id']=['0.2','0.4','0.6']\n",
    "complete_results = complete_results.rename(columns={'user_id':'a_value'})\n",
    "complete_results = complete_results.set_index('a_value')"
   ]
  },
  {
   "cell_type": "code",
   "execution_count": 98,
   "metadata": {},
   "outputs": [
    {
     "data": {
      "text/html": [
       "<div>\n",
       "<style scoped>\n",
       "    .dataframe tbody tr th:only-of-type {\n",
       "        vertical-align: middle;\n",
       "    }\n",
       "\n",
       "    .dataframe tbody tr th {\n",
       "        vertical-align: top;\n",
       "    }\n",
       "\n",
       "    .dataframe thead th {\n",
       "        text-align: right;\n",
       "    }\n",
       "</style>\n",
       "<table border=\"1\" class=\"dataframe\">\n",
       "  <thead>\n",
       "    <tr style=\"text-align: right;\">\n",
       "      <th></th>\n",
       "      <th>Precision@10 - macro</th>\n",
       "      <th>Recall@10 - macro</th>\n",
       "      <th>F1@10 - macro</th>\n",
       "      <th>MRR</th>\n",
       "      <th>NDCG@10</th>\n",
       "    </tr>\n",
       "    <tr>\n",
       "      <th>a_value</th>\n",
       "      <th></th>\n",
       "      <th></th>\n",
       "      <th></th>\n",
       "      <th></th>\n",
       "      <th></th>\n",
       "    </tr>\n",
       "  </thead>\n",
       "  <tbody>\n",
       "    <tr>\n",
       "      <th>0.2</th>\n",
       "      <td>0.192868</td>\n",
       "      <td>0.353203</td>\n",
       "      <td>0.230220</td>\n",
       "      <td>0.394221</td>\n",
       "      <td>0.590958</td>\n",
       "    </tr>\n",
       "    <tr>\n",
       "      <th>0.4</th>\n",
       "      <td>0.204697</td>\n",
       "      <td>0.364804</td>\n",
       "      <td>0.243059</td>\n",
       "      <td>0.399196</td>\n",
       "      <td>0.596190</td>\n",
       "    </tr>\n",
       "    <tr>\n",
       "      <th>0.6</th>\n",
       "      <td>0.204875</td>\n",
       "      <td>0.386079</td>\n",
       "      <td>0.248104</td>\n",
       "      <td>0.401223</td>\n",
       "      <td>0.587173</td>\n",
       "    </tr>\n",
       "  </tbody>\n",
       "</table>\n",
       "</div>"
      ],
      "text/plain": [
       "         Precision@10 - macro  Recall@10 - macro  F1@10 - macro       MRR  \\\n",
       "a_value                                                                     \n",
       "0.2                  0.192868           0.353203       0.230220  0.394221   \n",
       "0.4                  0.204697           0.364804       0.243059  0.399196   \n",
       "0.6                  0.204875           0.386079       0.248104  0.401223   \n",
       "\n",
       "          NDCG@10  \n",
       "a_value            \n",
       "0.2      0.590958  \n",
       "0.4      0.596190  \n",
       "0.6      0.587173  "
      ]
     },
     "execution_count": 98,
     "metadata": {},
     "output_type": "execute_result"
    }
   ],
   "source": [
    "complete_results"
   ]
  },
  {
   "cell_type": "code",
   "execution_count": 99,
   "metadata": {},
   "outputs": [],
   "source": [
    "complete_results = complete_results.rename(columns={'Precision@10 - macro':'Precision', 'Recall@10 - macro':'Recall', 'F1@10 - macro':'F1 score'})"
   ]
  },
  {
   "cell_type": "code",
   "execution_count": 100,
   "metadata": {},
   "outputs": [
    {
     "name": "stderr",
     "output_type": "stream",
     "text": [
      "100%|██████████| 2810/2810 [00:10<00:00, 262.24it/s]\n",
      "100%|██████████| 2810/2810 [00:10<00:00, 280.61it/s]\n",
      "100%|██████████| 2810/2810 [00:11<00:00, 247.19it/s]\n"
     ]
    }
   ],
   "source": [
    "dict_ils_a_02 = compute_ils(results_02_c3, similarity_matrix, users_c3)\n",
    "dict_ils_a_04 = compute_ils(results_04_c3, similarity_matrix, users_c3)\n",
    "dict_ils_a_06 = compute_ils(results_06_c3, similarity_matrix, users_c3)"
   ]
  },
  {
   "cell_type": "code",
   "execution_count": 101,
   "metadata": {},
   "outputs": [],
   "source": [
    "complete_results.loc['0.2','ILS'] = np.mean(list(dict_ils_a_02.values()))\n",
    "complete_results.loc['0.4','ILS'] = np.mean(list(dict_ils_a_04.values()))\n",
    "complete_results.loc['0.6','ILS'] = np.mean(list(dict_ils_a_06.values()))"
   ]
  },
  {
   "cell_type": "code",
   "execution_count": 102,
   "metadata": {},
   "outputs": [],
   "source": [
    "results_a_02_categories_c3 = get_results_categories(results_02_c3)\n",
    "results_a_04_categories_c3 = get_results_categories(results_04_c3)\n",
    "results_a_06_categories_c3 = get_results_categories(results_06_c3)"
   ]
  },
  {
   "cell_type": "code",
   "execution_count": 103,
   "metadata": {},
   "outputs": [
    {
     "name": "stderr",
     "output_type": "stream",
     "text": [
      "100%|██████████| 2810/2810 [00:03<00:00, 798.07it/s] \n",
      "100%|██████████| 2810/2810 [00:02<00:00, 985.11it/s] \n",
      "100%|██████████| 2810/2810 [00:02<00:00, 952.54it/s] \n"
     ]
    }
   ],
   "source": [
    "dict_alpha_ndcg_05_a_02 = alpha_ndcg(results_a_02_categories_c3, users_c3, users_interest, alpha=0.5)\n",
    "dict_alpha_ndcg_05_a_04 = alpha_ndcg(results_a_04_categories_c3, users_c3, users_interest, alpha=0.5)\n",
    "dict_alpha_ndcg_05_a_06 = alpha_ndcg(results_a_06_categories_c3, users_c3, users_interest, alpha=0.5)"
   ]
  },
  {
   "cell_type": "code",
   "execution_count": 104,
   "metadata": {},
   "outputs": [],
   "source": [
    "complete_results.loc['0.2','alpha_ndcg'] = np.nanmean(list(dict_alpha_ndcg_05_a_02.values()))\n",
    "complete_results.loc['0.4','alpha_ndcg'] = np.nanmean(list(dict_alpha_ndcg_05_a_04.values()))\n",
    "complete_results.loc['0.6','alpha_ndcg'] = np.nanmean(list(dict_alpha_ndcg_05_a_06.values()))"
   ]
  },
  {
   "cell_type": "code",
   "execution_count": 105,
   "metadata": {},
   "outputs": [
    {
     "name": "stderr",
     "output_type": "stream",
     "text": [
      "100%|██████████| 2810/2810 [00:04<00:00, 599.94it/s]\n",
      "100%|██████████| 2810/2810 [00:02<00:00, 1001.49it/s]\n",
      "100%|██████████| 2810/2810 [00:03<00:00, 933.26it/s] \n"
     ]
    }
   ],
   "source": [
    "dict_ndcg_ia_a_02 = ndcg_ia(results_a_02_categories_c3, users_c3, users_interest)\n",
    "dict_ndcg_ia_a_04 = ndcg_ia(results_a_04_categories_c3, users_c3, users_interest)\n",
    "dict_ndcg_ia_a_06 = ndcg_ia(results_a_06_categories_c3, users_c3, users_interest)"
   ]
  },
  {
   "cell_type": "code",
   "execution_count": 106,
   "metadata": {},
   "outputs": [],
   "source": [
    "complete_results.loc['0.2','ndcg_ia'] = np.nanmean(list(dict_ndcg_ia_a_02.values()))\n",
    "complete_results.loc['0.4','ndcg_ia'] = np.nanmean(list(dict_ndcg_ia_a_04.values()))\n",
    "complete_results.loc['0.6','ndcg_ia'] = np.nanmean(list(dict_ndcg_ia_a_06.values()))"
   ]
  },
  {
   "cell_type": "code",
   "execution_count": 107,
   "metadata": {},
   "outputs": [
    {
     "name": "stderr",
     "output_type": "stream",
     "text": [
      "100%|██████████| 2810/2810 [00:01<00:00, 2398.78it/s]\n",
      "100%|██████████| 2810/2810 [00:01<00:00, 2581.44it/s]\n",
      "100%|██████████| 2810/2810 [00:01<00:00, 2707.50it/s]\n"
     ]
    }
   ],
   "source": [
    "dict_srecall_a_02 = s_recall(results_a_02_categories_c3, users_c3, categories_list)\n",
    "dict_srecall_a_04 = s_recall(results_a_04_categories_c3, users_c3, categories_list)\n",
    "dict_srecall_a_06 = s_recall(results_a_06_categories_c3, users_c3, categories_list)"
   ]
  },
  {
   "cell_type": "code",
   "execution_count": 108,
   "metadata": {},
   "outputs": [],
   "source": [
    "complete_results.loc['0.2','s_recall'] = np.nanmean(list(dict_srecall_a_02.values()))\n",
    "complete_results.loc['0.4','s_recall'] = np.nanmean(list(dict_srecall_a_04.values()))\n",
    "complete_results.loc['0.6','s_recall'] = np.nanmean(list(dict_srecall_a_06.values()))"
   ]
  },
  {
   "cell_type": "code",
   "execution_count": 109,
   "metadata": {},
   "outputs": [],
   "source": [
    "complete_results_c3 = complete_results.copy()"
   ]
  },
  {
   "cell_type": "code",
   "execution_count": 110,
   "metadata": {},
   "outputs": [
    {
     "data": {
      "text/html": [
       "<div>\n",
       "<style scoped>\n",
       "    .dataframe tbody tr th:only-of-type {\n",
       "        vertical-align: middle;\n",
       "    }\n",
       "\n",
       "    .dataframe tbody tr th {\n",
       "        vertical-align: top;\n",
       "    }\n",
       "\n",
       "    .dataframe thead th {\n",
       "        text-align: right;\n",
       "    }\n",
       "</style>\n",
       "<table border=\"1\" class=\"dataframe\">\n",
       "  <thead>\n",
       "    <tr style=\"text-align: right;\">\n",
       "      <th></th>\n",
       "      <th>Precision</th>\n",
       "      <th>Recall</th>\n",
       "      <th>F1 score</th>\n",
       "      <th>MRR</th>\n",
       "      <th>NDCG@10</th>\n",
       "      <th>ILS</th>\n",
       "      <th>alpha_ndcg</th>\n",
       "      <th>ndcg_ia</th>\n",
       "      <th>s_recall</th>\n",
       "    </tr>\n",
       "    <tr>\n",
       "      <th>a_value</th>\n",
       "      <th></th>\n",
       "      <th></th>\n",
       "      <th></th>\n",
       "      <th></th>\n",
       "      <th></th>\n",
       "      <th></th>\n",
       "      <th></th>\n",
       "      <th></th>\n",
       "      <th></th>\n",
       "    </tr>\n",
       "  </thead>\n",
       "  <tbody>\n",
       "    <tr>\n",
       "      <th>0.2</th>\n",
       "      <td>0.192868</td>\n",
       "      <td>0.353203</td>\n",
       "      <td>0.230220</td>\n",
       "      <td>0.394221</td>\n",
       "      <td>0.590958</td>\n",
       "      <td>0.358891</td>\n",
       "      <td>0.838496</td>\n",
       "      <td>0.564500</td>\n",
       "      <td>0.513304</td>\n",
       "    </tr>\n",
       "    <tr>\n",
       "      <th>0.4</th>\n",
       "      <td>0.204697</td>\n",
       "      <td>0.364804</td>\n",
       "      <td>0.243059</td>\n",
       "      <td>0.399196</td>\n",
       "      <td>0.596190</td>\n",
       "      <td>0.455408</td>\n",
       "      <td>0.884491</td>\n",
       "      <td>0.575246</td>\n",
       "      <td>0.402929</td>\n",
       "    </tr>\n",
       "    <tr>\n",
       "      <th>0.6</th>\n",
       "      <td>0.204875</td>\n",
       "      <td>0.386079</td>\n",
       "      <td>0.248104</td>\n",
       "      <td>0.401223</td>\n",
       "      <td>0.587173</td>\n",
       "      <td>0.480026</td>\n",
       "      <td>0.909833</td>\n",
       "      <td>0.579130</td>\n",
       "      <td>0.378538</td>\n",
       "    </tr>\n",
       "  </tbody>\n",
       "</table>\n",
       "</div>"
      ],
      "text/plain": [
       "         Precision    Recall  F1 score       MRR   NDCG@10       ILS  \\\n",
       "a_value                                                                \n",
       "0.2       0.192868  0.353203  0.230220  0.394221  0.590958  0.358891   \n",
       "0.4       0.204697  0.364804  0.243059  0.399196  0.596190  0.455408   \n",
       "0.6       0.204875  0.386079  0.248104  0.401223  0.587173  0.480026   \n",
       "\n",
       "         alpha_ndcg   ndcg_ia  s_recall  \n",
       "a_value                                  \n",
       "0.2        0.838496  0.564500  0.513304  \n",
       "0.4        0.884491  0.575246  0.402929  \n",
       "0.6        0.909833  0.579130  0.378538  "
      ]
     },
     "execution_count": 110,
     "metadata": {},
     "output_type": "execute_result"
    }
   ],
   "source": [
    "complete_results_c3"
   ]
  },
  {
   "cell_type": "code",
   "execution_count": 111,
   "metadata": {},
   "outputs": [],
   "source": [
    "complete_results_c3.to_csv('results/clusters/kmeans/results_reranking_kmeans_c3.csv')"
   ]
  },
  {
   "cell_type": "markdown",
   "metadata": {},
   "source": [
    "### Cluster 4"
   ]
  },
  {
   "cell_type": "code",
   "execution_count": 112,
   "metadata": {},
   "outputs": [],
   "source": [
    "div_a_02_c4 = ca.Ratings.from_dataframe(results_02_c4)\n",
    "div_a_04_c4 = ca.Ratings.from_dataframe(results_04_c4)\n",
    "div_a_06_c4 = ca.Ratings.from_dataframe(results_06_c4)\n",
    "\n",
    "\n",
    "test_4 = ca.Ratings.from_dataframe(test_c4)"
   ]
  },
  {
   "cell_type": "code",
   "execution_count": 113,
   "metadata": {},
   "outputs": [
    {
     "name": "stderr",
     "output_type": "stream",
     "text": [
      "\u001b[39mINFO\u001b[0m - Performing evaluation on metrics chosen\n",
      "Performing NDCG@10:  80%|████████  | 4/5 [00:05<00:01]             C:\\Users\\ctreuill.BIDOUILLE\\AppData\\Roaming\\Python\\Python39\\site-packages\\clayrs\\evaluation\\metrics\\ranking_metrics.py:205: RuntimeWarning: invalid value encountered in double_scalars\n",
      "  return actual / ideal\n",
      "Performing NDCG@10:  100%|██████████| 5/5 [00:07<00:00]\n",
      "\u001b[39mINFO\u001b[0m - Performing evaluation on metrics chosen\n",
      "Performing NDCG@10:  80%|████████  | 4/5 [00:05<00:01]             C:\\Users\\ctreuill.BIDOUILLE\\AppData\\Roaming\\Python\\Python39\\site-packages\\clayrs\\evaluation\\metrics\\ranking_metrics.py:205: RuntimeWarning: invalid value encountered in double_scalars\n",
      "  return actual / ideal\n",
      "Performing NDCG@10:  100%|██████████| 5/5 [00:07<00:00]\n",
      "\u001b[39mINFO\u001b[0m - Performing evaluation on metrics chosen\n",
      "Performing NDCG@10:  80%|████████  | 4/5 [00:06<00:01]             C:\\Users\\ctreuill.BIDOUILLE\\AppData\\Roaming\\Python\\Python39\\site-packages\\clayrs\\evaluation\\metrics\\ranking_metrics.py:205: RuntimeWarning: invalid value encountered in double_scalars\n",
      "  return actual / ideal\n",
      "Performing NDCG@10:  100%|██████████| 5/5 [00:07<00:00]\n"
     ]
    }
   ],
   "source": [
    "sys_result_a_02, users_results_a_02 = get_performances(div_a_02_c4, test_4)\n",
    "sys_result_a_04, users_results_a_04 = get_performances(div_a_04_c4, test_4)\n",
    "sys_result_a_06, users_results_a_06 = get_performances(div_a_06_c4, test_4)\n"
   ]
  },
  {
   "cell_type": "code",
   "execution_count": 114,
   "metadata": {},
   "outputs": [],
   "source": [
    "complete_results = pd.concat([sys_result_a_02, sys_result_a_04, sys_result_a_06]).reset_index()\n",
    "complete_results = complete_results[complete_results['user_id']=='sys - fold1']\n",
    "complete_results['user_id']=['0.2','0.4','0.6']\n",
    "complete_results = complete_results.rename(columns={'user_id':'a_value'})\n",
    "complete_results = complete_results.set_index('a_value')"
   ]
  },
  {
   "cell_type": "code",
   "execution_count": 115,
   "metadata": {},
   "outputs": [
    {
     "data": {
      "text/html": [
       "<div>\n",
       "<style scoped>\n",
       "    .dataframe tbody tr th:only-of-type {\n",
       "        vertical-align: middle;\n",
       "    }\n",
       "\n",
       "    .dataframe tbody tr th {\n",
       "        vertical-align: top;\n",
       "    }\n",
       "\n",
       "    .dataframe thead th {\n",
       "        text-align: right;\n",
       "    }\n",
       "</style>\n",
       "<table border=\"1\" class=\"dataframe\">\n",
       "  <thead>\n",
       "    <tr style=\"text-align: right;\">\n",
       "      <th></th>\n",
       "      <th>Precision@10 - macro</th>\n",
       "      <th>Recall@10 - macro</th>\n",
       "      <th>F1@10 - macro</th>\n",
       "      <th>MRR</th>\n",
       "      <th>NDCG@10</th>\n",
       "    </tr>\n",
       "    <tr>\n",
       "      <th>a_value</th>\n",
       "      <th></th>\n",
       "      <th></th>\n",
       "      <th></th>\n",
       "      <th></th>\n",
       "      <th></th>\n",
       "    </tr>\n",
       "  </thead>\n",
       "  <tbody>\n",
       "    <tr>\n",
       "      <th>0.2</th>\n",
       "      <td>0.197986</td>\n",
       "      <td>0.355611</td>\n",
       "      <td>0.235168</td>\n",
       "      <td>0.386513</td>\n",
       "      <td>0.576659</td>\n",
       "    </tr>\n",
       "    <tr>\n",
       "      <th>0.4</th>\n",
       "      <td>0.203889</td>\n",
       "      <td>0.350612</td>\n",
       "      <td>0.238764</td>\n",
       "      <td>0.381480</td>\n",
       "      <td>0.581146</td>\n",
       "    </tr>\n",
       "    <tr>\n",
       "      <th>0.6</th>\n",
       "      <td>0.201866</td>\n",
       "      <td>0.362011</td>\n",
       "      <td>0.239486</td>\n",
       "      <td>0.379754</td>\n",
       "      <td>0.573805</td>\n",
       "    </tr>\n",
       "  </tbody>\n",
       "</table>\n",
       "</div>"
      ],
      "text/plain": [
       "         Precision@10 - macro  Recall@10 - macro  F1@10 - macro       MRR  \\\n",
       "a_value                                                                     \n",
       "0.2                  0.197986           0.355611       0.235168  0.386513   \n",
       "0.4                  0.203889           0.350612       0.238764  0.381480   \n",
       "0.6                  0.201866           0.362011       0.239486  0.379754   \n",
       "\n",
       "          NDCG@10  \n",
       "a_value            \n",
       "0.2      0.576659  \n",
       "0.4      0.581146  \n",
       "0.6      0.573805  "
      ]
     },
     "execution_count": 115,
     "metadata": {},
     "output_type": "execute_result"
    }
   ],
   "source": [
    "complete_results"
   ]
  },
  {
   "cell_type": "code",
   "execution_count": 116,
   "metadata": {},
   "outputs": [],
   "source": [
    "complete_results = complete_results.rename(columns={'Precision@10 - macro':'Precision', 'Recall@10 - macro':'Recall', 'F1@10 - macro':'F1 score'})"
   ]
  },
  {
   "cell_type": "code",
   "execution_count": 117,
   "metadata": {},
   "outputs": [
    {
     "name": "stderr",
     "output_type": "stream",
     "text": [
      "100%|██████████| 3179/3179 [00:15<00:00, 203.48it/s]\n",
      "100%|██████████| 3179/3179 [00:14<00:00, 222.66it/s]\n",
      "100%|██████████| 3179/3179 [00:13<00:00, 227.67it/s]\n"
     ]
    }
   ],
   "source": [
    "dict_ils_a_02 = compute_ils(results_02_c4, similarity_matrix, users_c4)\n",
    "dict_ils_a_04 = compute_ils(results_04_c4, similarity_matrix, users_c4)\n",
    "dict_ils_a_06 = compute_ils(results_06_c4, similarity_matrix, users_c4)"
   ]
  },
  {
   "cell_type": "code",
   "execution_count": 118,
   "metadata": {},
   "outputs": [],
   "source": [
    "complete_results.loc['0.2','ILS'] = np.mean(list(dict_ils_a_02.values()))\n",
    "complete_results.loc['0.4','ILS'] = np.mean(list(dict_ils_a_04.values()))\n",
    "complete_results.loc['0.6','ILS'] = np.mean(list(dict_ils_a_06.values()))"
   ]
  },
  {
   "cell_type": "code",
   "execution_count": 119,
   "metadata": {},
   "outputs": [],
   "source": [
    "results_a_02_categories_c4 = get_results_categories(results_02_c4)\n",
    "results_a_04_categories_c4 = get_results_categories(results_04_c4)\n",
    "results_a_06_categories_c4 = get_results_categories(results_06_c4)"
   ]
  },
  {
   "cell_type": "code",
   "execution_count": 120,
   "metadata": {},
   "outputs": [
    {
     "name": "stderr",
     "output_type": "stream",
     "text": [
      "100%|██████████| 3179/3179 [00:02<00:00, 1154.97it/s]\n",
      "100%|██████████| 3179/3179 [00:03<00:00, 972.02it/s] \n",
      "100%|██████████| 3179/3179 [00:04<00:00, 753.67it/s]\n"
     ]
    }
   ],
   "source": [
    "dict_alpha_ndcg_05_a_02 = alpha_ndcg(results_a_02_categories_c4, users_c4, users_interest, alpha=0.5)\n",
    "dict_alpha_ndcg_05_a_04 = alpha_ndcg(results_a_04_categories_c4, users_c4, users_interest, alpha=0.5)\n",
    "dict_alpha_ndcg_05_a_06 = alpha_ndcg(results_a_06_categories_c4, users_c4, users_interest, alpha=0.5)"
   ]
  },
  {
   "cell_type": "code",
   "execution_count": 121,
   "metadata": {},
   "outputs": [],
   "source": [
    "complete_results.loc['0.2','alpha_ndcg'] = np.nanmean(list(dict_alpha_ndcg_05_a_02.values()))\n",
    "complete_results.loc['0.4','alpha_ndcg'] = np.nanmean(list(dict_alpha_ndcg_05_a_04.values()))\n",
    "complete_results.loc['0.6','alpha_ndcg'] = np.nanmean(list(dict_alpha_ndcg_05_a_06.values()))"
   ]
  },
  {
   "cell_type": "code",
   "execution_count": 122,
   "metadata": {},
   "outputs": [
    {
     "name": "stderr",
     "output_type": "stream",
     "text": [
      "100%|██████████| 3179/3179 [00:04<00:00, 725.29it/s]\n",
      "100%|██████████| 3179/3179 [00:06<00:00, 502.78it/s]\n",
      "100%|██████████| 3179/3179 [00:05<00:00, 551.78it/s]\n"
     ]
    }
   ],
   "source": [
    "dict_ndcg_ia_a_02 = ndcg_ia(results_a_02_categories_c4, users_c4, users_interest)\n",
    "dict_ndcg_ia_a_04 = ndcg_ia(results_a_04_categories_c4, users_c4, users_interest)\n",
    "dict_ndcg_ia_a_06 = ndcg_ia(results_a_06_categories_c4, users_c4, users_interest)"
   ]
  },
  {
   "cell_type": "code",
   "execution_count": 123,
   "metadata": {},
   "outputs": [],
   "source": [
    "complete_results.loc['0.2','ndcg_ia'] = np.nanmean(list(dict_ndcg_ia_a_02.values()))\n",
    "complete_results.loc['0.4','ndcg_ia'] = np.nanmean(list(dict_ndcg_ia_a_04.values()))\n",
    "complete_results.loc['0.6','ndcg_ia'] = np.nanmean(list(dict_ndcg_ia_a_06.values()))"
   ]
  },
  {
   "cell_type": "code",
   "execution_count": 124,
   "metadata": {},
   "outputs": [
    {
     "name": "stderr",
     "output_type": "stream",
     "text": [
      "100%|██████████| 3179/3179 [00:04<00:00, 782.34it/s]\n",
      "100%|██████████| 3179/3179 [00:03<00:00, 975.12it/s] \n",
      "100%|██████████| 3179/3179 [00:03<00:00, 1010.62it/s]\n"
     ]
    }
   ],
   "source": [
    "dict_srecall_a_02 = s_recall(results_a_02_categories_c4, users_c4, categories_list)\n",
    "dict_srecall_a_04 = s_recall(results_a_04_categories_c4, users_c4, categories_list)\n",
    "dict_srecall_a_06 = s_recall(results_a_06_categories_c4, users_c4, categories_list)"
   ]
  },
  {
   "cell_type": "code",
   "execution_count": 125,
   "metadata": {},
   "outputs": [],
   "source": [
    "complete_results.loc['0.2','s_recall'] = np.nanmean(list(dict_srecall_a_02.values()))\n",
    "complete_results.loc['0.4','s_recall'] = np.nanmean(list(dict_srecall_a_04.values()))\n",
    "complete_results.loc['0.6','s_recall'] = np.nanmean(list(dict_srecall_a_06.values()))"
   ]
  },
  {
   "cell_type": "code",
   "execution_count": 126,
   "metadata": {},
   "outputs": [],
   "source": [
    "complete_results_c4 = complete_results.copy()"
   ]
  },
  {
   "cell_type": "code",
   "execution_count": 127,
   "metadata": {},
   "outputs": [
    {
     "data": {
      "text/html": [
       "<div>\n",
       "<style scoped>\n",
       "    .dataframe tbody tr th:only-of-type {\n",
       "        vertical-align: middle;\n",
       "    }\n",
       "\n",
       "    .dataframe tbody tr th {\n",
       "        vertical-align: top;\n",
       "    }\n",
       "\n",
       "    .dataframe thead th {\n",
       "        text-align: right;\n",
       "    }\n",
       "</style>\n",
       "<table border=\"1\" class=\"dataframe\">\n",
       "  <thead>\n",
       "    <tr style=\"text-align: right;\">\n",
       "      <th></th>\n",
       "      <th>Precision</th>\n",
       "      <th>Recall</th>\n",
       "      <th>F1 score</th>\n",
       "      <th>MRR</th>\n",
       "      <th>NDCG@10</th>\n",
       "      <th>ILS</th>\n",
       "      <th>alpha_ndcg</th>\n",
       "      <th>ndcg_ia</th>\n",
       "      <th>s_recall</th>\n",
       "    </tr>\n",
       "    <tr>\n",
       "      <th>a_value</th>\n",
       "      <th></th>\n",
       "      <th></th>\n",
       "      <th></th>\n",
       "      <th></th>\n",
       "      <th></th>\n",
       "      <th></th>\n",
       "      <th></th>\n",
       "      <th></th>\n",
       "      <th></th>\n",
       "    </tr>\n",
       "  </thead>\n",
       "  <tbody>\n",
       "    <tr>\n",
       "      <th>0.2</th>\n",
       "      <td>0.197986</td>\n",
       "      <td>0.355611</td>\n",
       "      <td>0.235168</td>\n",
       "      <td>0.386513</td>\n",
       "      <td>0.576659</td>\n",
       "      <td>0.305817</td>\n",
       "      <td>0.852992</td>\n",
       "      <td>0.534231</td>\n",
       "      <td>0.576403</td>\n",
       "    </tr>\n",
       "    <tr>\n",
       "      <th>0.4</th>\n",
       "      <td>0.203889</td>\n",
       "      <td>0.350612</td>\n",
       "      <td>0.238764</td>\n",
       "      <td>0.381480</td>\n",
       "      <td>0.581146</td>\n",
       "      <td>0.387316</td>\n",
       "      <td>0.897750</td>\n",
       "      <td>0.542645</td>\n",
       "      <td>0.460038</td>\n",
       "    </tr>\n",
       "    <tr>\n",
       "      <th>0.6</th>\n",
       "      <td>0.201866</td>\n",
       "      <td>0.362011</td>\n",
       "      <td>0.239486</td>\n",
       "      <td>0.379754</td>\n",
       "      <td>0.573805</td>\n",
       "      <td>0.410959</td>\n",
       "      <td>0.910545</td>\n",
       "      <td>0.541801</td>\n",
       "      <td>0.432042</td>\n",
       "    </tr>\n",
       "  </tbody>\n",
       "</table>\n",
       "</div>"
      ],
      "text/plain": [
       "         Precision    Recall  F1 score       MRR   NDCG@10       ILS  \\\n",
       "a_value                                                                \n",
       "0.2       0.197986  0.355611  0.235168  0.386513  0.576659  0.305817   \n",
       "0.4       0.203889  0.350612  0.238764  0.381480  0.581146  0.387316   \n",
       "0.6       0.201866  0.362011  0.239486  0.379754  0.573805  0.410959   \n",
       "\n",
       "         alpha_ndcg   ndcg_ia  s_recall  \n",
       "a_value                                  \n",
       "0.2        0.852992  0.534231  0.576403  \n",
       "0.4        0.897750  0.542645  0.460038  \n",
       "0.6        0.910545  0.541801  0.432042  "
      ]
     },
     "execution_count": 127,
     "metadata": {},
     "output_type": "execute_result"
    }
   ],
   "source": [
    "complete_results_c4"
   ]
  },
  {
   "cell_type": "code",
   "execution_count": 128,
   "metadata": {},
   "outputs": [],
   "source": [
    "complete_results_c4.to_csv('results/clusters/kmeans/results_reranking_kmeans_c4.csv')"
   ]
  },
  {
   "cell_type": "markdown",
   "metadata": {},
   "source": [
    "### Cluster 5"
   ]
  },
  {
   "cell_type": "code",
   "execution_count": 129,
   "metadata": {},
   "outputs": [],
   "source": [
    "div_a_02_c5 = ca.Ratings.from_dataframe(results_02_c5)\n",
    "div_a_04_c5 = ca.Ratings.from_dataframe(results_04_c5)\n",
    "div_a_06_c5 = ca.Ratings.from_dataframe(results_06_c5)\n",
    "\n",
    "\n",
    "test_5 = ca.Ratings.from_dataframe(test_c5)"
   ]
  },
  {
   "cell_type": "code",
   "execution_count": 130,
   "metadata": {},
   "outputs": [
    {
     "name": "stderr",
     "output_type": "stream",
     "text": [
      "\u001b[39mINFO\u001b[0m - Performing evaluation on metrics chosen\n",
      "Performing NDCG@10:  80%|████████  | 4/5 [00:02<00:00]             C:\\Users\\ctreuill.BIDOUILLE\\AppData\\Roaming\\Python\\Python39\\site-packages\\clayrs\\evaluation\\metrics\\ranking_metrics.py:205: RuntimeWarning: invalid value encountered in double_scalars\n",
      "  return actual / ideal\n",
      "Performing NDCG@10:  100%|██████████| 5/5 [00:03<00:00]\n",
      "\u001b[39mINFO\u001b[0m - Performing evaluation on metrics chosen\n",
      "Performing NDCG@10:  80%|████████  | 4/5 [00:03<00:00]             C:\\Users\\ctreuill.BIDOUILLE\\AppData\\Roaming\\Python\\Python39\\site-packages\\clayrs\\evaluation\\metrics\\ranking_metrics.py:205: RuntimeWarning: invalid value encountered in double_scalars\n",
      "  return actual / ideal\n",
      "Performing NDCG@10:  100%|██████████| 5/5 [00:04<00:00]\n",
      "\u001b[39mINFO\u001b[0m - Performing evaluation on metrics chosen\n",
      "Performing NDCG@10:  80%|████████  | 4/5 [00:03<00:00]             C:\\Users\\ctreuill.BIDOUILLE\\AppData\\Roaming\\Python\\Python39\\site-packages\\clayrs\\evaluation\\metrics\\ranking_metrics.py:205: RuntimeWarning: invalid value encountered in double_scalars\n",
      "  return actual / ideal\n",
      "Performing NDCG@10:  100%|██████████| 5/5 [00:03<00:00]\n"
     ]
    }
   ],
   "source": [
    "sys_result_a_02, users_results_a_02 = get_performances(div_a_02_c5, test_5)\n",
    "sys_result_a_04, users_results_a_04 = get_performances(div_a_04_c5, test_5)\n",
    "sys_result_a_06, users_results_a_06 = get_performances(div_a_06_c5, test_5)\n"
   ]
  },
  {
   "cell_type": "code",
   "execution_count": 131,
   "metadata": {},
   "outputs": [],
   "source": [
    "complete_results = pd.concat([sys_result_a_02, sys_result_a_04, sys_result_a_06]).reset_index()\n",
    "complete_results = complete_results[complete_results['user_id']=='sys - fold1']\n",
    "complete_results['user_id']=['0.2','0.4','0.6']\n",
    "complete_results = complete_results.rename(columns={'user_id':'a_value'})\n",
    "complete_results = complete_results.set_index('a_value')"
   ]
  },
  {
   "cell_type": "code",
   "execution_count": 132,
   "metadata": {},
   "outputs": [
    {
     "data": {
      "text/html": [
       "<div>\n",
       "<style scoped>\n",
       "    .dataframe tbody tr th:only-of-type {\n",
       "        vertical-align: middle;\n",
       "    }\n",
       "\n",
       "    .dataframe tbody tr th {\n",
       "        vertical-align: top;\n",
       "    }\n",
       "\n",
       "    .dataframe thead th {\n",
       "        text-align: right;\n",
       "    }\n",
       "</style>\n",
       "<table border=\"1\" class=\"dataframe\">\n",
       "  <thead>\n",
       "    <tr style=\"text-align: right;\">\n",
       "      <th></th>\n",
       "      <th>Precision@10 - macro</th>\n",
       "      <th>Recall@10 - macro</th>\n",
       "      <th>F1@10 - macro</th>\n",
       "      <th>MRR</th>\n",
       "      <th>NDCG@10</th>\n",
       "    </tr>\n",
       "    <tr>\n",
       "      <th>a_value</th>\n",
       "      <th></th>\n",
       "      <th></th>\n",
       "      <th></th>\n",
       "      <th></th>\n",
       "      <th></th>\n",
       "    </tr>\n",
       "  </thead>\n",
       "  <tbody>\n",
       "    <tr>\n",
       "      <th>0.2</th>\n",
       "      <td>0.201839</td>\n",
       "      <td>0.367130</td>\n",
       "      <td>0.243367</td>\n",
       "      <td>0.392840</td>\n",
       "      <td>0.555516</td>\n",
       "    </tr>\n",
       "    <tr>\n",
       "      <th>0.4</th>\n",
       "      <td>0.208681</td>\n",
       "      <td>0.358362</td>\n",
       "      <td>0.246669</td>\n",
       "      <td>0.385413</td>\n",
       "      <td>0.571345</td>\n",
       "    </tr>\n",
       "    <tr>\n",
       "      <th>0.6</th>\n",
       "      <td>0.202559</td>\n",
       "      <td>0.354129</td>\n",
       "      <td>0.240640</td>\n",
       "      <td>0.380765</td>\n",
       "      <td>0.567755</td>\n",
       "    </tr>\n",
       "  </tbody>\n",
       "</table>\n",
       "</div>"
      ],
      "text/plain": [
       "         Precision@10 - macro  Recall@10 - macro  F1@10 - macro       MRR  \\\n",
       "a_value                                                                     \n",
       "0.2                  0.201839           0.367130       0.243367  0.392840   \n",
       "0.4                  0.208681           0.358362       0.246669  0.385413   \n",
       "0.6                  0.202559           0.354129       0.240640  0.380765   \n",
       "\n",
       "          NDCG@10  \n",
       "a_value            \n",
       "0.2      0.555516  \n",
       "0.4      0.571345  \n",
       "0.6      0.567755  "
      ]
     },
     "execution_count": 132,
     "metadata": {},
     "output_type": "execute_result"
    }
   ],
   "source": [
    "complete_results"
   ]
  },
  {
   "cell_type": "code",
   "execution_count": 133,
   "metadata": {},
   "outputs": [],
   "source": [
    "complete_results = complete_results.rename(columns={'Precision@10 - macro':'Precision', 'Recall@10 - macro':'Recall', 'F1@10 - macro':'F1 score'})"
   ]
  },
  {
   "cell_type": "code",
   "execution_count": 134,
   "metadata": {},
   "outputs": [
    {
     "name": "stderr",
     "output_type": "stream",
     "text": [
      "100%|██████████| 1836/1836 [00:13<00:00, 135.75it/s]\n",
      "100%|██████████| 1836/1836 [00:11<00:00, 162.20it/s]\n",
      "100%|██████████| 1836/1836 [00:10<00:00, 175.90it/s]\n"
     ]
    }
   ],
   "source": [
    "dict_ils_a_02 = compute_ils(results_02_c5, similarity_matrix, users_c5)\n",
    "dict_ils_a_04 = compute_ils(results_04_c5, similarity_matrix, users_c5)\n",
    "dict_ils_a_06 = compute_ils(results_06_c5, similarity_matrix, users_c5)"
   ]
  },
  {
   "cell_type": "code",
   "execution_count": 135,
   "metadata": {},
   "outputs": [],
   "source": [
    "complete_results.loc['0.2','ILS'] = np.mean(list(dict_ils_a_02.values()))\n",
    "complete_results.loc['0.4','ILS'] = np.mean(list(dict_ils_a_04.values()))\n",
    "complete_results.loc['0.6','ILS'] = np.mean(list(dict_ils_a_06.values()))"
   ]
  },
  {
   "cell_type": "code",
   "execution_count": 136,
   "metadata": {},
   "outputs": [],
   "source": [
    "results_a_02_categories_c5 = get_results_categories(results_02_c5)\n",
    "results_a_04_categories_c5 = get_results_categories(results_04_c5)\n",
    "results_a_06_categories_c5 = get_results_categories(results_06_c5)"
   ]
  },
  {
   "cell_type": "code",
   "execution_count": 137,
   "metadata": {},
   "outputs": [
    {
     "name": "stderr",
     "output_type": "stream",
     "text": [
      "100%|██████████| 1836/1836 [00:01<00:00, 1009.93it/s]\n",
      "100%|██████████| 1836/1836 [00:02<00:00, 889.09it/s]\n",
      "100%|██████████| 1836/1836 [00:01<00:00, 1049.21it/s]\n"
     ]
    }
   ],
   "source": [
    "dict_alpha_ndcg_05_a_02 = alpha_ndcg(results_a_02_categories_c5, users_c5, users_interest, alpha=0.5)\n",
    "dict_alpha_ndcg_05_a_04 = alpha_ndcg(results_a_04_categories_c5, users_c5, users_interest, alpha=0.5)\n",
    "dict_alpha_ndcg_05_a_06 = alpha_ndcg(results_a_06_categories_c5, users_c5, users_interest, alpha=0.5)"
   ]
  },
  {
   "cell_type": "code",
   "execution_count": 138,
   "metadata": {},
   "outputs": [],
   "source": [
    "complete_results.loc['0.2','alpha_ndcg'] = np.nanmean(list(dict_alpha_ndcg_05_a_02.values()))\n",
    "complete_results.loc['0.4','alpha_ndcg'] = np.nanmean(list(dict_alpha_ndcg_05_a_04.values()))\n",
    "complete_results.loc['0.6','alpha_ndcg'] = np.nanmean(list(dict_alpha_ndcg_05_a_06.values()))"
   ]
  },
  {
   "cell_type": "code",
   "execution_count": 139,
   "metadata": {},
   "outputs": [
    {
     "name": "stderr",
     "output_type": "stream",
     "text": [
      "100%|██████████| 1836/1836 [00:03<00:00, 535.53it/s]\n",
      "100%|██████████| 1836/1836 [00:02<00:00, 703.57it/s]\n",
      "100%|██████████| 1836/1836 [00:01<00:00, 931.00it/s] \n"
     ]
    }
   ],
   "source": [
    "dict_ndcg_ia_a_02 = ndcg_ia(results_a_02_categories_c5, users_c5, users_interest)\n",
    "dict_ndcg_ia_a_04 = ndcg_ia(results_a_04_categories_c5, users_c5, users_interest)\n",
    "dict_ndcg_ia_a_06 = ndcg_ia(results_a_06_categories_c5, users_c5, users_interest)"
   ]
  },
  {
   "cell_type": "code",
   "execution_count": 140,
   "metadata": {},
   "outputs": [],
   "source": [
    "complete_results.loc['0.2','ndcg_ia'] = np.nanmean(list(dict_ndcg_ia_a_02.values()))\n",
    "complete_results.loc['0.4','ndcg_ia'] = np.nanmean(list(dict_ndcg_ia_a_04.values()))\n",
    "complete_results.loc['0.6','ndcg_ia'] = np.nanmean(list(dict_ndcg_ia_a_06.values()))"
   ]
  },
  {
   "cell_type": "code",
   "execution_count": 141,
   "metadata": {},
   "outputs": [
    {
     "name": "stderr",
     "output_type": "stream",
     "text": [
      "100%|██████████| 1836/1836 [00:00<00:00, 2528.11it/s]\n",
      "100%|██████████| 1836/1836 [00:00<00:00, 3308.29it/s]\n",
      "100%|██████████| 1836/1836 [00:00<00:00, 3055.89it/s]\n"
     ]
    }
   ],
   "source": [
    "dict_srecall_a_02 = s_recall(results_a_02_categories_c5, users_c5, categories_list)\n",
    "dict_srecall_a_04 = s_recall(results_a_04_categories_c5, users_c5, categories_list)\n",
    "dict_srecall_a_06 = s_recall(results_a_06_categories_c5, users_c5, categories_list)"
   ]
  },
  {
   "cell_type": "code",
   "execution_count": 142,
   "metadata": {},
   "outputs": [],
   "source": [
    "complete_results.loc['0.2','s_recall'] = np.nanmean(list(dict_srecall_a_02.values()))\n",
    "complete_results.loc['0.4','s_recall'] = np.nanmean(list(dict_srecall_a_04.values()))\n",
    "complete_results.loc['0.6','s_recall'] = np.nanmean(list(dict_srecall_a_06.values()))"
   ]
  },
  {
   "cell_type": "code",
   "execution_count": 143,
   "metadata": {},
   "outputs": [],
   "source": [
    "complete_results_c5 = complete_results.copy()"
   ]
  },
  {
   "cell_type": "code",
   "execution_count": 144,
   "metadata": {},
   "outputs": [
    {
     "data": {
      "text/html": [
       "<div>\n",
       "<style scoped>\n",
       "    .dataframe tbody tr th:only-of-type {\n",
       "        vertical-align: middle;\n",
       "    }\n",
       "\n",
       "    .dataframe tbody tr th {\n",
       "        vertical-align: top;\n",
       "    }\n",
       "\n",
       "    .dataframe thead th {\n",
       "        text-align: right;\n",
       "    }\n",
       "</style>\n",
       "<table border=\"1\" class=\"dataframe\">\n",
       "  <thead>\n",
       "    <tr style=\"text-align: right;\">\n",
       "      <th></th>\n",
       "      <th>Precision</th>\n",
       "      <th>Recall</th>\n",
       "      <th>F1 score</th>\n",
       "      <th>MRR</th>\n",
       "      <th>NDCG@10</th>\n",
       "      <th>ILS</th>\n",
       "      <th>alpha_ndcg</th>\n",
       "      <th>ndcg_ia</th>\n",
       "      <th>s_recall</th>\n",
       "    </tr>\n",
       "    <tr>\n",
       "      <th>a_value</th>\n",
       "      <th></th>\n",
       "      <th></th>\n",
       "      <th></th>\n",
       "      <th></th>\n",
       "      <th></th>\n",
       "      <th></th>\n",
       "      <th></th>\n",
       "      <th></th>\n",
       "      <th></th>\n",
       "    </tr>\n",
       "  </thead>\n",
       "  <tbody>\n",
       "    <tr>\n",
       "      <th>0.2</th>\n",
       "      <td>0.201839</td>\n",
       "      <td>0.367130</td>\n",
       "      <td>0.243367</td>\n",
       "      <td>0.392840</td>\n",
       "      <td>0.555516</td>\n",
       "      <td>0.253359</td>\n",
       "      <td>0.850714</td>\n",
       "      <td>0.499606</td>\n",
       "      <td>0.643623</td>\n",
       "    </tr>\n",
       "    <tr>\n",
       "      <th>0.4</th>\n",
       "      <td>0.208681</td>\n",
       "      <td>0.358362</td>\n",
       "      <td>0.246669</td>\n",
       "      <td>0.385413</td>\n",
       "      <td>0.571345</td>\n",
       "      <td>0.321025</td>\n",
       "      <td>0.890367</td>\n",
       "      <td>0.506606</td>\n",
       "      <td>0.531465</td>\n",
       "    </tr>\n",
       "    <tr>\n",
       "      <th>0.6</th>\n",
       "      <td>0.202559</td>\n",
       "      <td>0.354129</td>\n",
       "      <td>0.240640</td>\n",
       "      <td>0.380765</td>\n",
       "      <td>0.567755</td>\n",
       "      <td>0.342160</td>\n",
       "      <td>0.903530</td>\n",
       "      <td>0.504982</td>\n",
       "      <td>0.500796</td>\n",
       "    </tr>\n",
       "  </tbody>\n",
       "</table>\n",
       "</div>"
      ],
      "text/plain": [
       "         Precision    Recall  F1 score       MRR   NDCG@10       ILS  \\\n",
       "a_value                                                                \n",
       "0.2       0.201839  0.367130  0.243367  0.392840  0.555516  0.253359   \n",
       "0.4       0.208681  0.358362  0.246669  0.385413  0.571345  0.321025   \n",
       "0.6       0.202559  0.354129  0.240640  0.380765  0.567755  0.342160   \n",
       "\n",
       "         alpha_ndcg   ndcg_ia  s_recall  \n",
       "a_value                                  \n",
       "0.2        0.850714  0.499606  0.643623  \n",
       "0.4        0.890367  0.506606  0.531465  \n",
       "0.6        0.903530  0.504982  0.500796  "
      ]
     },
     "execution_count": 144,
     "metadata": {},
     "output_type": "execute_result"
    }
   ],
   "source": [
    "complete_results_c5"
   ]
  },
  {
   "cell_type": "code",
   "execution_count": 145,
   "metadata": {},
   "outputs": [],
   "source": [
    "complete_results_c5.to_csv('results/clusters/kmeans/results_reranking_kmeans_c5.csv')"
   ]
  },
  {
   "cell_type": "markdown",
   "metadata": {},
   "source": [
    "## Clustering fixed"
   ]
  },
  {
   "cell_type": "code",
   "execution_count": 146,
   "metadata": {},
   "outputs": [],
   "source": [
    "users_c1 = u_values[u_values['cluster_fix']==0].index.tolist()\n",
    "users_c2 = u_values[u_values['cluster_fix']==1].index.tolist()\n",
    "users_c3 = u_values[u_values['cluster_fix']==2].index.tolist()\n",
    "users_c4 = u_values[u_values['cluster_fix']==3].index.tolist()\n",
    "users_c5 = u_values[u_values['cluster_fix']==4].index.tolist()"
   ]
  },
  {
   "cell_type": "code",
   "execution_count": 147,
   "metadata": {},
   "outputs": [],
   "source": [
    "results_a_02 = pd.read_csv('re_ranking_results/re_ranking/div_a_02.csv')\n",
    "results_a_04 = pd.read_csv('re_ranking_results/re_ranking/div_a_04.csv')\n",
    "results_a_06 = pd.read_csv('re_ranking_results/re_ranking/div_a_06.csv')"
   ]
  },
  {
   "cell_type": "code",
   "execution_count": 148,
   "metadata": {},
   "outputs": [],
   "source": [
    "results_a_02 = results_a_02[['user_id_init','item_id','score']].rename(columns={'user_id_init':'user_id'})\n",
    "results_a_04 = results_a_04[['user_id_init','item_id','score']].rename(columns={'user_id_init':'user_id'})\n",
    "results_a_06 = results_a_06[['user_id_init','item_id','score']].rename(columns={'user_id_init':'user_id'})"
   ]
  },
  {
   "cell_type": "code",
   "execution_count": 149,
   "metadata": {},
   "outputs": [],
   "source": [
    "test_set = pd.read_csv('../report_subprofiles_cv_10k/HoldOutPartitioning_test_split0.csv')\n",
    "test_set['user_id_init'] = test_set['user_id'].str.split('-').str[0]\n",
    "test_set = test_set[['user_id_init','item_id','score']].rename(columns={'user_id_init':'user_id'})\n",
    "test_set['user_id'] = test_set['user_id'].astype(int)"
   ]
  },
  {
   "cell_type": "code",
   "execution_count": 150,
   "metadata": {},
   "outputs": [],
   "source": [
    "results_02_c1 = results_a_02[results_a_02['user_id'].isin(users_c1)]\n",
    "results_02_c2 = results_a_02[results_a_02['user_id'].isin(users_c2)]\n",
    "results_02_c3 = results_a_02[results_a_02['user_id'].isin(users_c3)]\n",
    "results_02_c4 = results_a_02[results_a_02['user_id'].isin(users_c4)]\n",
    "results_02_c5 = results_a_02[results_a_02['user_id'].isin(users_c5)]\n",
    "\n",
    "results_04_c1 = results_a_04[results_a_04['user_id'].isin(users_c1)]\n",
    "results_04_c2 = results_a_04[results_a_04['user_id'].isin(users_c2)]\n",
    "results_04_c3 = results_a_04[results_a_04['user_id'].isin(users_c3)]\n",
    "results_04_c4 = results_a_04[results_a_04['user_id'].isin(users_c4)]\n",
    "results_04_c5 = results_a_04[results_a_04['user_id'].isin(users_c5)]\n",
    "\n",
    "results_06_c1 = results_a_06[results_a_06['user_id'].isin(users_c1)]\n",
    "results_06_c2 = results_a_06[results_a_06['user_id'].isin(users_c2)]\n",
    "results_06_c3 = results_a_06[results_a_06['user_id'].isin(users_c3)]\n",
    "results_06_c4 = results_a_06[results_a_06['user_id'].isin(users_c4)]\n",
    "results_06_c5 = results_a_06[results_a_06['user_id'].isin(users_c5)]"
   ]
  },
  {
   "cell_type": "code",
   "execution_count": 151,
   "metadata": {},
   "outputs": [],
   "source": [
    "test = test_set.copy()"
   ]
  },
  {
   "cell_type": "code",
   "execution_count": 152,
   "metadata": {},
   "outputs": [],
   "source": [
    "test_c1 = test[test['user_id'].isin(users_c1)]\n",
    "test_c2 = test[test['user_id'].isin(users_c2)]\n",
    "test_c3 = test[test['user_id'].isin(users_c3)]\n",
    "test_c4 = test[test['user_id'].isin(users_c4)]\n",
    "test_c5 = test[test['user_id'].isin(users_c5)]"
   ]
  },
  {
   "cell_type": "markdown",
   "metadata": {},
   "source": [
    "### Cluster 1"
   ]
  },
  {
   "cell_type": "code",
   "execution_count": 153,
   "metadata": {},
   "outputs": [],
   "source": [
    "div_a_02_c1 = ca.Ratings.from_dataframe(results_02_c1)\n",
    "div_a_04_c1 = ca.Ratings.from_dataframe(results_04_c1)\n",
    "div_a_06_c1 = ca.Ratings.from_dataframe(results_06_c1)\n",
    "\n",
    "\n",
    "test_1 = ca.Ratings.from_dataframe(test_c1)"
   ]
  },
  {
   "cell_type": "code",
   "execution_count": 154,
   "metadata": {},
   "outputs": [
    {
     "name": "stderr",
     "output_type": "stream",
     "text": [
      "\u001b[39mINFO\u001b[0m - Performing evaluation on metrics chosen\n",
      "Performing NDCG@10:  0%|          | 0/5 [00:00<?]             C:\\Users\\ctreuill.BIDOUILLE\\AppData\\Roaming\\Python\\Python39\\site-packages\\clayrs\\evaluation\\metrics\\ranking_metrics.py:205: RuntimeWarning: invalid value encountered in double_scalars\n",
      "  return actual / ideal\n",
      "Performing NDCG@10:  100%|██████████| 5/5 [00:00<00:00]\n",
      "\u001b[39mINFO\u001b[0m - Performing evaluation on metrics chosen\n",
      "Performing NDCG@10:  0%|          | 0/5 [00:00<?]             C:\\Users\\ctreuill.BIDOUILLE\\AppData\\Roaming\\Python\\Python39\\site-packages\\clayrs\\evaluation\\metrics\\ranking_metrics.py:205: RuntimeWarning: invalid value encountered in double_scalars\n",
      "  return actual / ideal\n",
      "Performing NDCG@10:  100%|██████████| 5/5 [00:00<00:00]\n",
      "\u001b[39mINFO\u001b[0m - Performing evaluation on metrics chosen\n",
      "Performing NDCG@10:  100%|██████████| 5/5 [00:00<00:00]       \n"
     ]
    }
   ],
   "source": [
    "sys_result_a_02, users_results_a_02 = get_performances(div_a_02_c1, test_1)\n",
    "sys_result_a_04, users_results_a_04 = get_performances(div_a_04_c1, test_1)\n",
    "sys_result_a_06, users_results_a_06 = get_performances(div_a_06_c1, test_1)\n"
   ]
  },
  {
   "cell_type": "code",
   "execution_count": 155,
   "metadata": {},
   "outputs": [],
   "source": [
    "complete_results = pd.concat([sys_result_a_02, sys_result_a_04, sys_result_a_06]).reset_index()\n",
    "complete_results = complete_results[complete_results['user_id']=='sys - fold1']\n",
    "complete_results['user_id']=['0.2','0.4','0.6']\n",
    "complete_results = complete_results.rename(columns={'user_id':'a_value'})\n",
    "complete_results = complete_results.set_index('a_value')"
   ]
  },
  {
   "cell_type": "code",
   "execution_count": 156,
   "metadata": {},
   "outputs": [
    {
     "data": {
      "text/html": [
       "<div>\n",
       "<style scoped>\n",
       "    .dataframe tbody tr th:only-of-type {\n",
       "        vertical-align: middle;\n",
       "    }\n",
       "\n",
       "    .dataframe tbody tr th {\n",
       "        vertical-align: top;\n",
       "    }\n",
       "\n",
       "    .dataframe thead th {\n",
       "        text-align: right;\n",
       "    }\n",
       "</style>\n",
       "<table border=\"1\" class=\"dataframe\">\n",
       "  <thead>\n",
       "    <tr style=\"text-align: right;\">\n",
       "      <th></th>\n",
       "      <th>Precision@10 - macro</th>\n",
       "      <th>Recall@10 - macro</th>\n",
       "      <th>F1@10 - macro</th>\n",
       "      <th>MRR</th>\n",
       "      <th>NDCG@10</th>\n",
       "    </tr>\n",
       "    <tr>\n",
       "      <th>a_value</th>\n",
       "      <th></th>\n",
       "      <th></th>\n",
       "      <th></th>\n",
       "      <th></th>\n",
       "      <th></th>\n",
       "    </tr>\n",
       "  </thead>\n",
       "  <tbody>\n",
       "    <tr>\n",
       "      <th>0.2</th>\n",
       "      <td>0.178571</td>\n",
       "      <td>0.555556</td>\n",
       "      <td>0.269360</td>\n",
       "      <td>0.166667</td>\n",
       "      <td>0.475463</td>\n",
       "    </tr>\n",
       "    <tr>\n",
       "      <th>0.4</th>\n",
       "      <td>0.166667</td>\n",
       "      <td>0.555556</td>\n",
       "      <td>0.254545</td>\n",
       "      <td>0.277778</td>\n",
       "      <td>0.587951</td>\n",
       "    </tr>\n",
       "    <tr>\n",
       "      <th>0.6</th>\n",
       "      <td>0.222222</td>\n",
       "      <td>0.750000</td>\n",
       "      <td>0.339161</td>\n",
       "      <td>0.314815</td>\n",
       "      <td>0.488489</td>\n",
       "    </tr>\n",
       "  </tbody>\n",
       "</table>\n",
       "</div>"
      ],
      "text/plain": [
       "         Precision@10 - macro  Recall@10 - macro  F1@10 - macro       MRR  \\\n",
       "a_value                                                                     \n",
       "0.2                  0.178571           0.555556       0.269360  0.166667   \n",
       "0.4                  0.166667           0.555556       0.254545  0.277778   \n",
       "0.6                  0.222222           0.750000       0.339161  0.314815   \n",
       "\n",
       "          NDCG@10  \n",
       "a_value            \n",
       "0.2      0.475463  \n",
       "0.4      0.587951  \n",
       "0.6      0.488489  "
      ]
     },
     "execution_count": 156,
     "metadata": {},
     "output_type": "execute_result"
    }
   ],
   "source": [
    "complete_results"
   ]
  },
  {
   "cell_type": "code",
   "execution_count": 157,
   "metadata": {},
   "outputs": [],
   "source": [
    "complete_results = complete_results.rename(columns={'Precision@10 - macro':'Precision', 'Recall@10 - macro':'Recall', 'F1@10 - macro':'F1 score'})"
   ]
  },
  {
   "cell_type": "code",
   "execution_count": 158,
   "metadata": {},
   "outputs": [
    {
     "name": "stderr",
     "output_type": "stream",
     "text": [
      "100%|██████████| 3/3 [00:00<00:00, 193.31it/s]\n",
      "100%|██████████| 3/3 [00:00<00:00, 184.14it/s]\n",
      "100%|██████████| 3/3 [00:00<00:00, 157.75it/s]\n"
     ]
    }
   ],
   "source": [
    "dict_ils_a_02 = compute_ils(results_02_c1, similarity_matrix, users_c1)\n",
    "dict_ils_a_04 = compute_ils(results_04_c1, similarity_matrix, users_c1)\n",
    "dict_ils_a_06 = compute_ils(results_06_c1, similarity_matrix, users_c1)"
   ]
  },
  {
   "cell_type": "code",
   "execution_count": 159,
   "metadata": {},
   "outputs": [],
   "source": [
    "complete_results.loc['0.2','ILS'] = np.mean(list(dict_ils_a_02.values()))\n",
    "complete_results.loc['0.4','ILS'] = np.mean(list(dict_ils_a_04.values()))\n",
    "complete_results.loc['0.6','ILS'] = np.mean(list(dict_ils_a_06.values()))"
   ]
  },
  {
   "cell_type": "code",
   "execution_count": 160,
   "metadata": {},
   "outputs": [],
   "source": [
    "results_a_02_categories_c1 = get_results_categories(results_02_c1)\n",
    "results_a_04_categories_c1 = get_results_categories(results_04_c1)\n",
    "results_a_06_categories_c1 = get_results_categories(results_06_c1)"
   ]
  },
  {
   "cell_type": "code",
   "execution_count": 161,
   "metadata": {},
   "outputs": [
    {
     "name": "stderr",
     "output_type": "stream",
     "text": [
      "100%|██████████| 3/3 [00:00<00:00, 901.68it/s]\n",
      "100%|██████████| 3/3 [00:00<00:00, 456.68it/s]\n",
      "100%|██████████| 3/3 [00:00<00:00, 1000.15it/s]\n"
     ]
    }
   ],
   "source": [
    "dict_alpha_ndcg_05_a_02 = alpha_ndcg(results_a_02_categories_c1, users_c1, users_interest, alpha=0.5)\n",
    "dict_alpha_ndcg_05_a_04 = alpha_ndcg(results_a_04_categories_c1, users_c1, users_interest, alpha=0.5)\n",
    "dict_alpha_ndcg_05_a_06 = alpha_ndcg(results_a_06_categories_c1, users_c1, users_interest, alpha=0.5)"
   ]
  },
  {
   "cell_type": "code",
   "execution_count": 162,
   "metadata": {},
   "outputs": [],
   "source": [
    "complete_results.loc['0.2','alpha_ndcg'] = np.nanmean(list(dict_alpha_ndcg_05_a_02.values()))\n",
    "complete_results.loc['0.4','alpha_ndcg'] = np.nanmean(list(dict_alpha_ndcg_05_a_04.values()))\n",
    "complete_results.loc['0.6','alpha_ndcg'] = np.nanmean(list(dict_alpha_ndcg_05_a_06.values()))"
   ]
  },
  {
   "cell_type": "code",
   "execution_count": 163,
   "metadata": {},
   "outputs": [
    {
     "name": "stderr",
     "output_type": "stream",
     "text": [
      "100%|██████████| 3/3 [00:00<00:00, 376.17it/s]\n",
      "100%|██████████| 3/3 [00:00<00:00, 231.54it/s]\n",
      "100%|██████████| 3/3 [00:00<00:00, 406.04it/s]\n"
     ]
    }
   ],
   "source": [
    "dict_ndcg_ia_a_02 = ndcg_ia(results_a_02_categories_c1, users_c1, users_interest)\n",
    "dict_ndcg_ia_a_04 = ndcg_ia(results_a_04_categories_c1, users_c1, users_interest)\n",
    "dict_ndcg_ia_a_06 = ndcg_ia(results_a_06_categories_c1, users_c1, users_interest)"
   ]
  },
  {
   "cell_type": "code",
   "execution_count": 164,
   "metadata": {},
   "outputs": [],
   "source": [
    "complete_results.loc['0.2','ndcg_ia'] = np.nanmean(list(dict_ndcg_ia_a_02.values()))\n",
    "complete_results.loc['0.4','ndcg_ia'] = np.nanmean(list(dict_ndcg_ia_a_04.values()))\n",
    "complete_results.loc['0.6','ndcg_ia'] = np.nanmean(list(dict_ndcg_ia_a_06.values()))"
   ]
  },
  {
   "cell_type": "code",
   "execution_count": 165,
   "metadata": {},
   "outputs": [
    {
     "name": "stderr",
     "output_type": "stream",
     "text": [
      "100%|██████████| 3/3 [00:00<00:00, 542.67it/s]\n",
      "100%|██████████| 3/3 [00:00<00:00, 1068.98it/s]\n",
      "100%|██████████| 3/3 [00:00<00:00, 2749.16it/s]\n"
     ]
    }
   ],
   "source": [
    "dict_srecall_a_02 = s_recall(results_a_02_categories_c1, users_c1, categories_list)\n",
    "dict_srecall_a_04 = s_recall(results_a_04_categories_c1, users_c1, categories_list)\n",
    "dict_srecall_a_06 = s_recall(results_a_06_categories_c1, users_c1, categories_list)"
   ]
  },
  {
   "cell_type": "code",
   "execution_count": 166,
   "metadata": {},
   "outputs": [],
   "source": [
    "complete_results.loc['0.2','s_recall'] = np.nanmean(list(dict_srecall_a_02.values()))\n",
    "complete_results.loc['0.4','s_recall'] = np.nanmean(list(dict_srecall_a_04.values()))\n",
    "complete_results.loc['0.6','s_recall'] = np.nanmean(list(dict_srecall_a_06.values()))"
   ]
  },
  {
   "cell_type": "code",
   "execution_count": 167,
   "metadata": {},
   "outputs": [],
   "source": [
    "complete_results_c1 = complete_results.copy()"
   ]
  },
  {
   "cell_type": "code",
   "execution_count": 168,
   "metadata": {},
   "outputs": [
    {
     "data": {
      "text/html": [
       "<div>\n",
       "<style scoped>\n",
       "    .dataframe tbody tr th:only-of-type {\n",
       "        vertical-align: middle;\n",
       "    }\n",
       "\n",
       "    .dataframe tbody tr th {\n",
       "        vertical-align: top;\n",
       "    }\n",
       "\n",
       "    .dataframe thead th {\n",
       "        text-align: right;\n",
       "    }\n",
       "</style>\n",
       "<table border=\"1\" class=\"dataframe\">\n",
       "  <thead>\n",
       "    <tr style=\"text-align: right;\">\n",
       "      <th></th>\n",
       "      <th>Precision</th>\n",
       "      <th>Recall</th>\n",
       "      <th>F1 score</th>\n",
       "      <th>MRR</th>\n",
       "      <th>NDCG@10</th>\n",
       "      <th>ILS</th>\n",
       "      <th>alpha_ndcg</th>\n",
       "      <th>ndcg_ia</th>\n",
       "      <th>s_recall</th>\n",
       "    </tr>\n",
       "    <tr>\n",
       "      <th>a_value</th>\n",
       "      <th></th>\n",
       "      <th></th>\n",
       "      <th></th>\n",
       "      <th></th>\n",
       "      <th></th>\n",
       "      <th></th>\n",
       "      <th></th>\n",
       "      <th></th>\n",
       "      <th></th>\n",
       "    </tr>\n",
       "  </thead>\n",
       "  <tbody>\n",
       "    <tr>\n",
       "      <th>0.2</th>\n",
       "      <td>0.178571</td>\n",
       "      <td>0.555556</td>\n",
       "      <td>0.269360</td>\n",
       "      <td>0.166667</td>\n",
       "      <td>0.475463</td>\n",
       "      <td>0.766619</td>\n",
       "      <td>0.748571</td>\n",
       "      <td>0.764531</td>\n",
       "      <td>0.205128</td>\n",
       "    </tr>\n",
       "    <tr>\n",
       "      <th>0.4</th>\n",
       "      <td>0.166667</td>\n",
       "      <td>0.555556</td>\n",
       "      <td>0.254545</td>\n",
       "      <td>0.277778</td>\n",
       "      <td>0.587951</td>\n",
       "      <td>0.849411</td>\n",
       "      <td>0.825457</td>\n",
       "      <td>0.837068</td>\n",
       "      <td>0.128205</td>\n",
       "    </tr>\n",
       "    <tr>\n",
       "      <th>0.6</th>\n",
       "      <td>0.222222</td>\n",
       "      <td>0.750000</td>\n",
       "      <td>0.339161</td>\n",
       "      <td>0.314815</td>\n",
       "      <td>0.488489</td>\n",
       "      <td>0.841558</td>\n",
       "      <td>0.825704</td>\n",
       "      <td>0.843831</td>\n",
       "      <td>0.128205</td>\n",
       "    </tr>\n",
       "  </tbody>\n",
       "</table>\n",
       "</div>"
      ],
      "text/plain": [
       "         Precision    Recall  F1 score       MRR   NDCG@10       ILS  \\\n",
       "a_value                                                                \n",
       "0.2       0.178571  0.555556  0.269360  0.166667  0.475463  0.766619   \n",
       "0.4       0.166667  0.555556  0.254545  0.277778  0.587951  0.849411   \n",
       "0.6       0.222222  0.750000  0.339161  0.314815  0.488489  0.841558   \n",
       "\n",
       "         alpha_ndcg   ndcg_ia  s_recall  \n",
       "a_value                                  \n",
       "0.2        0.748571  0.764531  0.205128  \n",
       "0.4        0.825457  0.837068  0.128205  \n",
       "0.6        0.825704  0.843831  0.128205  "
      ]
     },
     "execution_count": 168,
     "metadata": {},
     "output_type": "execute_result"
    }
   ],
   "source": [
    "complete_results_c1"
   ]
  },
  {
   "cell_type": "code",
   "execution_count": 169,
   "metadata": {},
   "outputs": [],
   "source": [
    "complete_results_c1.to_csv('results/clusters/fix/results_reranking_fix_c1.csv')"
   ]
  },
  {
   "cell_type": "markdown",
   "metadata": {},
   "source": [
    "### Cluster 2"
   ]
  },
  {
   "cell_type": "code",
   "execution_count": 170,
   "metadata": {},
   "outputs": [],
   "source": [
    "div_a_02_c2 = ca.Ratings.from_dataframe(results_02_c2)\n",
    "div_a_04_c2 = ca.Ratings.from_dataframe(results_04_c2)\n",
    "div_a_06_c2 = ca.Ratings.from_dataframe(results_06_c2)\n",
    "\n",
    "\n",
    "test_2 = ca.Ratings.from_dataframe(test_c2)"
   ]
  },
  {
   "cell_type": "code",
   "execution_count": 171,
   "metadata": {},
   "outputs": [
    {
     "name": "stderr",
     "output_type": "stream",
     "text": [
      "\u001b[39mINFO\u001b[0m - Performing evaluation on metrics chosen\n",
      "Performing NDCG@10:  60%|██████    | 3/5 [00:00<00:00]        C:\\Users\\ctreuill.BIDOUILLE\\AppData\\Roaming\\Python\\Python39\\site-packages\\clayrs\\evaluation\\metrics\\ranking_metrics.py:205: RuntimeWarning: invalid value encountered in double_scalars\n",
      "  return actual / ideal\n",
      "Performing NDCG@10:  100%|██████████| 5/5 [00:00<00:00]\n",
      "\u001b[39mINFO\u001b[0m - Performing evaluation on metrics chosen\n",
      "Performing NDCG@10:  80%|████████  | 4/5 [00:00<00:00]        C:\\Users\\ctreuill.BIDOUILLE\\AppData\\Roaming\\Python\\Python39\\site-packages\\clayrs\\evaluation\\metrics\\ranking_metrics.py:205: RuntimeWarning: invalid value encountered in double_scalars\n",
      "  return actual / ideal\n",
      "Performing NDCG@10:  100%|██████████| 5/5 [00:00<00:00]\n",
      "\u001b[39mINFO\u001b[0m - Performing evaluation on metrics chosen\n",
      "Performing NDCG@10:  80%|████████  | 4/5 [00:00<00:00]        C:\\Users\\ctreuill.BIDOUILLE\\AppData\\Roaming\\Python\\Python39\\site-packages\\clayrs\\evaluation\\metrics\\ranking_metrics.py:205: RuntimeWarning: invalid value encountered in double_scalars\n",
      "  return actual / ideal\n",
      "Performing NDCG@10:  100%|██████████| 5/5 [00:00<00:00]\n"
     ]
    }
   ],
   "source": [
    "sys_result_a_02, users_results_a_02 = get_performances(div_a_02_c2, test_2)\n",
    "sys_result_a_04, users_results_a_04 = get_performances(div_a_04_c2, test_2)\n",
    "sys_result_a_06, users_results_a_06 = get_performances(div_a_06_c2, test_2)\n"
   ]
  },
  {
   "cell_type": "code",
   "execution_count": 172,
   "metadata": {},
   "outputs": [],
   "source": [
    "complete_results = pd.concat([sys_result_a_02, sys_result_a_04, sys_result_a_06]).reset_index()\n",
    "complete_results = complete_results[complete_results['user_id']=='sys - fold1']\n",
    "complete_results['user_id']=['0.2','0.4','0.6']\n",
    "complete_results = complete_results.rename(columns={'user_id':'a_value'})\n",
    "complete_results = complete_results.set_index('a_value')"
   ]
  },
  {
   "cell_type": "code",
   "execution_count": 173,
   "metadata": {},
   "outputs": [
    {
     "data": {
      "text/html": [
       "<div>\n",
       "<style scoped>\n",
       "    .dataframe tbody tr th:only-of-type {\n",
       "        vertical-align: middle;\n",
       "    }\n",
       "\n",
       "    .dataframe tbody tr th {\n",
       "        vertical-align: top;\n",
       "    }\n",
       "\n",
       "    .dataframe thead th {\n",
       "        text-align: right;\n",
       "    }\n",
       "</style>\n",
       "<table border=\"1\" class=\"dataframe\">\n",
       "  <thead>\n",
       "    <tr style=\"text-align: right;\">\n",
       "      <th></th>\n",
       "      <th>Precision@10 - macro</th>\n",
       "      <th>Recall@10 - macro</th>\n",
       "      <th>F1@10 - macro</th>\n",
       "      <th>MRR</th>\n",
       "      <th>NDCG@10</th>\n",
       "    </tr>\n",
       "    <tr>\n",
       "      <th>a_value</th>\n",
       "      <th></th>\n",
       "      <th></th>\n",
       "      <th></th>\n",
       "      <th></th>\n",
       "      <th></th>\n",
       "    </tr>\n",
       "  </thead>\n",
       "  <tbody>\n",
       "    <tr>\n",
       "      <th>0.2</th>\n",
       "      <td>0.212437</td>\n",
       "      <td>0.335910</td>\n",
       "      <td>0.239921</td>\n",
       "      <td>0.323686</td>\n",
       "      <td>0.565932</td>\n",
       "    </tr>\n",
       "    <tr>\n",
       "      <th>0.4</th>\n",
       "      <td>0.217061</td>\n",
       "      <td>0.378298</td>\n",
       "      <td>0.254303</td>\n",
       "      <td>0.335627</td>\n",
       "      <td>0.559910</td>\n",
       "    </tr>\n",
       "    <tr>\n",
       "      <th>0.6</th>\n",
       "      <td>0.216999</td>\n",
       "      <td>0.407329</td>\n",
       "      <td>0.261611</td>\n",
       "      <td>0.338745</td>\n",
       "      <td>0.563366</td>\n",
       "    </tr>\n",
       "  </tbody>\n",
       "</table>\n",
       "</div>"
      ],
      "text/plain": [
       "         Precision@10 - macro  Recall@10 - macro  F1@10 - macro       MRR  \\\n",
       "a_value                                                                     \n",
       "0.2                  0.212437           0.335910       0.239921  0.323686   \n",
       "0.4                  0.217061           0.378298       0.254303  0.335627   \n",
       "0.6                  0.216999           0.407329       0.261611  0.338745   \n",
       "\n",
       "          NDCG@10  \n",
       "a_value            \n",
       "0.2      0.565932  \n",
       "0.4      0.559910  \n",
       "0.6      0.563366  "
      ]
     },
     "execution_count": 173,
     "metadata": {},
     "output_type": "execute_result"
    }
   ],
   "source": [
    "complete_results"
   ]
  },
  {
   "cell_type": "code",
   "execution_count": 174,
   "metadata": {},
   "outputs": [],
   "source": [
    "complete_results = complete_results.rename(columns={'Precision@10 - macro':'Precision', 'Recall@10 - macro':'Recall', 'F1@10 - macro':'F1 score'})"
   ]
  },
  {
   "cell_type": "code",
   "execution_count": 175,
   "metadata": {},
   "outputs": [
    {
     "name": "stderr",
     "output_type": "stream",
     "text": [
      "100%|██████████| 141/141 [00:00<00:00, 151.53it/s]\n",
      "100%|██████████| 141/141 [00:00<00:00, 182.32it/s]\n",
      "100%|██████████| 141/141 [00:00<00:00, 155.16it/s]\n"
     ]
    }
   ],
   "source": [
    "dict_ils_a_02 = compute_ils(results_02_c2, similarity_matrix, users_c2)\n",
    "dict_ils_a_04 = compute_ils(results_04_c2, similarity_matrix, users_c2)\n",
    "dict_ils_a_06 = compute_ils(results_06_c2, similarity_matrix, users_c2)"
   ]
  },
  {
   "cell_type": "code",
   "execution_count": 176,
   "metadata": {},
   "outputs": [],
   "source": [
    "complete_results.loc['0.2','ILS'] = np.mean(list(dict_ils_a_02.values()))\n",
    "complete_results.loc['0.4','ILS'] = np.mean(list(dict_ils_a_04.values()))\n",
    "complete_results.loc['0.6','ILS'] = np.mean(list(dict_ils_a_06.values()))"
   ]
  },
  {
   "cell_type": "code",
   "execution_count": 177,
   "metadata": {},
   "outputs": [],
   "source": [
    "results_a_02_categories_c2 = get_results_categories(results_02_c2)\n",
    "results_a_04_categories_c2 = get_results_categories(results_04_c2)\n",
    "results_a_06_categories_c2 = get_results_categories(results_06_c2)"
   ]
  },
  {
   "cell_type": "code",
   "execution_count": 178,
   "metadata": {},
   "outputs": [
    {
     "name": "stderr",
     "output_type": "stream",
     "text": [
      "100%|██████████| 141/141 [00:00<00:00, 1179.70it/s]\n",
      "100%|██████████| 141/141 [00:00<00:00, 1259.97it/s]\n",
      "100%|██████████| 141/141 [00:00<00:00, 1116.06it/s]\n"
     ]
    }
   ],
   "source": [
    "dict_alpha_ndcg_05_a_02 = alpha_ndcg(results_a_02_categories_c2, users_c2, users_interest, alpha=0.5)\n",
    "dict_alpha_ndcg_05_a_04 = alpha_ndcg(results_a_04_categories_c2, users_c2, users_interest, alpha=0.5)\n",
    "dict_alpha_ndcg_05_a_06 = alpha_ndcg(results_a_06_categories_c2, users_c2, users_interest, alpha=0.5)"
   ]
  },
  {
   "cell_type": "code",
   "execution_count": 179,
   "metadata": {},
   "outputs": [],
   "source": [
    "complete_results.loc['0.2','alpha_ndcg'] = np.nanmean(list(dict_alpha_ndcg_05_a_02.values()))\n",
    "complete_results.loc['0.4','alpha_ndcg'] = np.nanmean(list(dict_alpha_ndcg_05_a_04.values()))\n",
    "complete_results.loc['0.6','alpha_ndcg'] = np.nanmean(list(dict_alpha_ndcg_05_a_06.values()))"
   ]
  },
  {
   "cell_type": "code",
   "execution_count": 180,
   "metadata": {},
   "outputs": [
    {
     "name": "stderr",
     "output_type": "stream",
     "text": [
      "100%|██████████| 141/141 [00:00<00:00, 767.02it/s]\n",
      "100%|██████████| 141/141 [00:00<00:00, 703.80it/s]\n",
      "100%|██████████| 141/141 [00:00<00:00, 639.89it/s]\n"
     ]
    }
   ],
   "source": [
    "dict_ndcg_ia_a_02 = ndcg_ia(results_a_02_categories_c2, users_c2, users_interest)\n",
    "dict_ndcg_ia_a_04 = ndcg_ia(results_a_04_categories_c2, users_c2, users_interest)\n",
    "dict_ndcg_ia_a_06 = ndcg_ia(results_a_06_categories_c2, users_c2, users_interest)"
   ]
  },
  {
   "cell_type": "code",
   "execution_count": 181,
   "metadata": {},
   "outputs": [],
   "source": [
    "complete_results.loc['0.2','ndcg_ia'] = np.nanmean(list(dict_ndcg_ia_a_02.values()))\n",
    "complete_results.loc['0.4','ndcg_ia'] = np.nanmean(list(dict_ndcg_ia_a_04.values()))\n",
    "complete_results.loc['0.6','ndcg_ia'] = np.nanmean(list(dict_ndcg_ia_a_06.values()))"
   ]
  },
  {
   "cell_type": "code",
   "execution_count": 182,
   "metadata": {},
   "outputs": [
    {
     "name": "stderr",
     "output_type": "stream",
     "text": [
      "100%|██████████| 141/141 [00:00<00:00, 1488.28it/s]\n",
      "100%|██████████| 141/141 [00:00<00:00, 1457.58it/s]\n",
      "100%|██████████| 141/141 [00:00<00:00, 1886.26it/s]\n"
     ]
    }
   ],
   "source": [
    "dict_srecall_a_02 = s_recall(results_a_02_categories_c2, users_c2, categories_list)\n",
    "dict_srecall_a_04 = s_recall(results_a_04_categories_c2, users_c2, categories_list)\n",
    "dict_srecall_a_06 = s_recall(results_a_06_categories_c2, users_c2, categories_list)"
   ]
  },
  {
   "cell_type": "code",
   "execution_count": 183,
   "metadata": {},
   "outputs": [],
   "source": [
    "complete_results.loc['0.2','s_recall'] = np.nanmean(list(dict_srecall_a_02.values()))\n",
    "complete_results.loc['0.4','s_recall'] = np.nanmean(list(dict_srecall_a_04.values()))\n",
    "complete_results.loc['0.6','s_recall'] = np.nanmean(list(dict_srecall_a_06.values()))"
   ]
  },
  {
   "cell_type": "code",
   "execution_count": 184,
   "metadata": {},
   "outputs": [],
   "source": [
    "complete_results_c2 = complete_results.copy()"
   ]
  },
  {
   "cell_type": "code",
   "execution_count": 185,
   "metadata": {},
   "outputs": [
    {
     "data": {
      "text/html": [
       "<div>\n",
       "<style scoped>\n",
       "    .dataframe tbody tr th:only-of-type {\n",
       "        vertical-align: middle;\n",
       "    }\n",
       "\n",
       "    .dataframe tbody tr th {\n",
       "        vertical-align: top;\n",
       "    }\n",
       "\n",
       "    .dataframe thead th {\n",
       "        text-align: right;\n",
       "    }\n",
       "</style>\n",
       "<table border=\"1\" class=\"dataframe\">\n",
       "  <thead>\n",
       "    <tr style=\"text-align: right;\">\n",
       "      <th></th>\n",
       "      <th>Precision</th>\n",
       "      <th>Recall</th>\n",
       "      <th>F1 score</th>\n",
       "      <th>MRR</th>\n",
       "      <th>NDCG@10</th>\n",
       "      <th>ILS</th>\n",
       "      <th>alpha_ndcg</th>\n",
       "      <th>ndcg_ia</th>\n",
       "      <th>s_recall</th>\n",
       "    </tr>\n",
       "    <tr>\n",
       "      <th>a_value</th>\n",
       "      <th></th>\n",
       "      <th></th>\n",
       "      <th></th>\n",
       "      <th></th>\n",
       "      <th></th>\n",
       "      <th></th>\n",
       "      <th></th>\n",
       "      <th></th>\n",
       "      <th></th>\n",
       "    </tr>\n",
       "  </thead>\n",
       "  <tbody>\n",
       "    <tr>\n",
       "      <th>0.2</th>\n",
       "      <td>0.212437</td>\n",
       "      <td>0.335910</td>\n",
       "      <td>0.239921</td>\n",
       "      <td>0.323686</td>\n",
       "      <td>0.565932</td>\n",
       "      <td>0.593304</td>\n",
       "      <td>0.896665</td>\n",
       "      <td>0.746817</td>\n",
       "      <td>0.314785</td>\n",
       "    </tr>\n",
       "    <tr>\n",
       "      <th>0.4</th>\n",
       "      <td>0.217061</td>\n",
       "      <td>0.378298</td>\n",
       "      <td>0.254303</td>\n",
       "      <td>0.335627</td>\n",
       "      <td>0.559910</td>\n",
       "      <td>0.705165</td>\n",
       "      <td>0.935939</td>\n",
       "      <td>0.769971</td>\n",
       "      <td>0.244408</td>\n",
       "    </tr>\n",
       "    <tr>\n",
       "      <th>0.6</th>\n",
       "      <td>0.216999</td>\n",
       "      <td>0.407329</td>\n",
       "      <td>0.261611</td>\n",
       "      <td>0.338745</td>\n",
       "      <td>0.563366</td>\n",
       "      <td>0.735126</td>\n",
       "      <td>0.938841</td>\n",
       "      <td>0.772151</td>\n",
       "      <td>0.230224</td>\n",
       "    </tr>\n",
       "  </tbody>\n",
       "</table>\n",
       "</div>"
      ],
      "text/plain": [
       "         Precision    Recall  F1 score       MRR   NDCG@10       ILS  \\\n",
       "a_value                                                                \n",
       "0.2       0.212437  0.335910  0.239921  0.323686  0.565932  0.593304   \n",
       "0.4       0.217061  0.378298  0.254303  0.335627  0.559910  0.705165   \n",
       "0.6       0.216999  0.407329  0.261611  0.338745  0.563366  0.735126   \n",
       "\n",
       "         alpha_ndcg   ndcg_ia  s_recall  \n",
       "a_value                                  \n",
       "0.2        0.896665  0.746817  0.314785  \n",
       "0.4        0.935939  0.769971  0.244408  \n",
       "0.6        0.938841  0.772151  0.230224  "
      ]
     },
     "execution_count": 185,
     "metadata": {},
     "output_type": "execute_result"
    }
   ],
   "source": [
    "complete_results_c2"
   ]
  },
  {
   "cell_type": "code",
   "execution_count": 186,
   "metadata": {},
   "outputs": [],
   "source": [
    "complete_results_c2.to_csv('results/clusters/fix/results_reranking_fix_c2.csv')"
   ]
  },
  {
   "cell_type": "markdown",
   "metadata": {},
   "source": [
    "### Cluster 3"
   ]
  },
  {
   "cell_type": "code",
   "execution_count": 187,
   "metadata": {},
   "outputs": [],
   "source": [
    "div_a_02_c3 = ca.Ratings.from_dataframe(results_02_c3)\n",
    "div_a_04_c3 = ca.Ratings.from_dataframe(results_04_c3)\n",
    "div_a_06_c3 = ca.Ratings.from_dataframe(results_06_c3)\n",
    "\n",
    "\n",
    "test_3 = ca.Ratings.from_dataframe(test_c3)"
   ]
  },
  {
   "cell_type": "code",
   "execution_count": 188,
   "metadata": {},
   "outputs": [
    {
     "name": "stderr",
     "output_type": "stream",
     "text": [
      "\u001b[39mINFO\u001b[0m - Performing evaluation on metrics chosen\n",
      "Performing NDCG@10:  80%|████████  | 4/5 [00:02<00:00]             C:\\Users\\ctreuill.BIDOUILLE\\AppData\\Roaming\\Python\\Python39\\site-packages\\clayrs\\evaluation\\metrics\\ranking_metrics.py:205: RuntimeWarning: invalid value encountered in double_scalars\n",
      "  return actual / ideal\n",
      "Performing NDCG@10:  100%|██████████| 5/5 [00:03<00:00]\n",
      "\u001b[39mINFO\u001b[0m - Performing evaluation on metrics chosen\n",
      "Performing NDCG@10:  80%|████████  | 4/5 [00:03<00:00]             C:\\Users\\ctreuill.BIDOUILLE\\AppData\\Roaming\\Python\\Python39\\site-packages\\clayrs\\evaluation\\metrics\\ranking_metrics.py:205: RuntimeWarning: invalid value encountered in double_scalars\n",
      "  return actual / ideal\n",
      "Performing NDCG@10:  100%|██████████| 5/5 [00:04<00:00]\n",
      "\u001b[39mINFO\u001b[0m - Performing evaluation on metrics chosen\n",
      "Performing NDCG@10:  80%|████████  | 4/5 [00:02<00:00]             C:\\Users\\ctreuill.BIDOUILLE\\AppData\\Roaming\\Python\\Python39\\site-packages\\clayrs\\evaluation\\metrics\\ranking_metrics.py:205: RuntimeWarning: invalid value encountered in double_scalars\n",
      "  return actual / ideal\n",
      "Performing NDCG@10:  100%|██████████| 5/5 [00:03<00:00]\n"
     ]
    }
   ],
   "source": [
    "sys_result_a_02, users_results_a_02 = get_performances(div_a_02_c3, test_3)\n",
    "sys_result_a_04, users_results_a_04 = get_performances(div_a_04_c3, test_3)\n",
    "sys_result_a_06, users_results_a_06 = get_performances(div_a_06_c3, test_3)\n"
   ]
  },
  {
   "cell_type": "code",
   "execution_count": 189,
   "metadata": {},
   "outputs": [],
   "source": [
    "complete_results = pd.concat([sys_result_a_02, sys_result_a_04, sys_result_a_06]).reset_index()\n",
    "complete_results = complete_results[complete_results['user_id']=='sys - fold1']\n",
    "complete_results['user_id']=['0.2','0.4','0.6']\n",
    "complete_results = complete_results.rename(columns={'user_id':'a_value'})\n",
    "complete_results = complete_results.set_index('a_value')"
   ]
  },
  {
   "cell_type": "code",
   "execution_count": 190,
   "metadata": {},
   "outputs": [
    {
     "data": {
      "text/html": [
       "<div>\n",
       "<style scoped>\n",
       "    .dataframe tbody tr th:only-of-type {\n",
       "        vertical-align: middle;\n",
       "    }\n",
       "\n",
       "    .dataframe tbody tr th {\n",
       "        vertical-align: top;\n",
       "    }\n",
       "\n",
       "    .dataframe thead th {\n",
       "        text-align: right;\n",
       "    }\n",
       "</style>\n",
       "<table border=\"1\" class=\"dataframe\">\n",
       "  <thead>\n",
       "    <tr style=\"text-align: right;\">\n",
       "      <th></th>\n",
       "      <th>Precision@10 - macro</th>\n",
       "      <th>Recall@10 - macro</th>\n",
       "      <th>F1@10 - macro</th>\n",
       "      <th>MRR</th>\n",
       "      <th>NDCG@10</th>\n",
       "    </tr>\n",
       "    <tr>\n",
       "      <th>a_value</th>\n",
       "      <th></th>\n",
       "      <th></th>\n",
       "      <th></th>\n",
       "      <th></th>\n",
       "      <th></th>\n",
       "    </tr>\n",
       "  </thead>\n",
       "  <tbody>\n",
       "    <tr>\n",
       "      <th>0.2</th>\n",
       "      <td>0.199719</td>\n",
       "      <td>0.343430</td>\n",
       "      <td>0.231441</td>\n",
       "      <td>0.378151</td>\n",
       "      <td>0.587559</td>\n",
       "    </tr>\n",
       "    <tr>\n",
       "      <th>0.4</th>\n",
       "      <td>0.216321</td>\n",
       "      <td>0.373183</td>\n",
       "      <td>0.251637</td>\n",
       "      <td>0.383680</td>\n",
       "      <td>0.587560</td>\n",
       "    </tr>\n",
       "    <tr>\n",
       "      <th>0.6</th>\n",
       "      <td>0.215759</td>\n",
       "      <td>0.403013</td>\n",
       "      <td>0.258597</td>\n",
       "      <td>0.385390</td>\n",
       "      <td>0.579298</td>\n",
       "    </tr>\n",
       "  </tbody>\n",
       "</table>\n",
       "</div>"
      ],
      "text/plain": [
       "         Precision@10 - macro  Recall@10 - macro  F1@10 - macro       MRR  \\\n",
       "a_value                                                                     \n",
       "0.2                  0.199719           0.343430       0.231441  0.378151   \n",
       "0.4                  0.216321           0.373183       0.251637  0.383680   \n",
       "0.6                  0.215759           0.403013       0.258597  0.385390   \n",
       "\n",
       "          NDCG@10  \n",
       "a_value            \n",
       "0.2      0.587559  \n",
       "0.4      0.587560  \n",
       "0.6      0.579298  "
      ]
     },
     "execution_count": 190,
     "metadata": {},
     "output_type": "execute_result"
    }
   ],
   "source": [
    "complete_results"
   ]
  },
  {
   "cell_type": "code",
   "execution_count": 191,
   "metadata": {},
   "outputs": [],
   "source": [
    "complete_results = complete_results.rename(columns={'Precision@10 - macro':'Precision', 'Recall@10 - macro':'Recall', 'F1@10 - macro':'F1 score'})"
   ]
  },
  {
   "cell_type": "code",
   "execution_count": 192,
   "metadata": {},
   "outputs": [
    {
     "name": "stderr",
     "output_type": "stream",
     "text": [
      "100%|██████████| 2350/2350 [00:11<00:00, 212.97it/s]\n",
      "100%|██████████| 2350/2350 [00:13<00:00, 176.43it/s]\n",
      "100%|██████████| 2350/2350 [00:13<00:00, 168.21it/s]\n"
     ]
    }
   ],
   "source": [
    "dict_ils_a_02 = compute_ils(results_02_c3, similarity_matrix, users_c3)\n",
    "dict_ils_a_04 = compute_ils(results_04_c3, similarity_matrix, users_c3)\n",
    "dict_ils_a_06 = compute_ils(results_06_c3, similarity_matrix, users_c3)"
   ]
  },
  {
   "cell_type": "code",
   "execution_count": 193,
   "metadata": {},
   "outputs": [],
   "source": [
    "complete_results.loc['0.2','ILS'] = np.mean(list(dict_ils_a_02.values()))\n",
    "complete_results.loc['0.4','ILS'] = np.mean(list(dict_ils_a_04.values()))\n",
    "complete_results.loc['0.6','ILS'] = np.mean(list(dict_ils_a_06.values()))"
   ]
  },
  {
   "cell_type": "code",
   "execution_count": 194,
   "metadata": {},
   "outputs": [],
   "source": [
    "results_a_02_categories_c3 = get_results_categories(results_02_c3)\n",
    "results_a_04_categories_c3 = get_results_categories(results_04_c3)\n",
    "results_a_06_categories_c3 = get_results_categories(results_06_c3)"
   ]
  },
  {
   "cell_type": "code",
   "execution_count": 195,
   "metadata": {},
   "outputs": [
    {
     "name": "stderr",
     "output_type": "stream",
     "text": [
      "100%|██████████| 2350/2350 [00:02<00:00, 842.18it/s] \n",
      "100%|██████████| 2350/2350 [00:02<00:00, 1052.69it/s]\n",
      "100%|██████████| 2350/2350 [00:02<00:00, 1129.25it/s]\n"
     ]
    }
   ],
   "source": [
    "dict_alpha_ndcg_05_a_02 = alpha_ndcg(results_a_02_categories_c3, users_c3, users_interest, alpha=0.5)\n",
    "dict_alpha_ndcg_05_a_04 = alpha_ndcg(results_a_04_categories_c3, users_c3, users_interest, alpha=0.5)\n",
    "dict_alpha_ndcg_05_a_06 = alpha_ndcg(results_a_06_categories_c3, users_c3, users_interest, alpha=0.5)"
   ]
  },
  {
   "cell_type": "code",
   "execution_count": 196,
   "metadata": {},
   "outputs": [],
   "source": [
    "complete_results.loc['0.2','alpha_ndcg'] = np.nanmean(list(dict_alpha_ndcg_05_a_02.values()))\n",
    "complete_results.loc['0.4','alpha_ndcg'] = np.nanmean(list(dict_alpha_ndcg_05_a_04.values()))\n",
    "complete_results.loc['0.6','alpha_ndcg'] = np.nanmean(list(dict_alpha_ndcg_05_a_06.values()))"
   ]
  },
  {
   "cell_type": "code",
   "execution_count": 197,
   "metadata": {},
   "outputs": [
    {
     "name": "stderr",
     "output_type": "stream",
     "text": [
      "100%|██████████| 2350/2350 [00:03<00:00, 643.72it/s]\n",
      "100%|██████████| 2350/2350 [00:03<00:00, 681.64it/s]\n",
      "100%|██████████| 2350/2350 [00:03<00:00, 674.14it/s]\n"
     ]
    }
   ],
   "source": [
    "dict_ndcg_ia_a_02 = ndcg_ia(results_a_02_categories_c3, users_c3, users_interest)\n",
    "dict_ndcg_ia_a_04 = ndcg_ia(results_a_04_categories_c3, users_c3, users_interest)\n",
    "dict_ndcg_ia_a_06 = ndcg_ia(results_a_06_categories_c3, users_c3, users_interest)"
   ]
  },
  {
   "cell_type": "code",
   "execution_count": 198,
   "metadata": {},
   "outputs": [],
   "source": [
    "complete_results.loc['0.2','ndcg_ia'] = np.nanmean(list(dict_ndcg_ia_a_02.values()))\n",
    "complete_results.loc['0.4','ndcg_ia'] = np.nanmean(list(dict_ndcg_ia_a_04.values()))\n",
    "complete_results.loc['0.6','ndcg_ia'] = np.nanmean(list(dict_ndcg_ia_a_06.values()))"
   ]
  },
  {
   "cell_type": "code",
   "execution_count": 199,
   "metadata": {},
   "outputs": [
    {
     "name": "stderr",
     "output_type": "stream",
     "text": [
      "100%|██████████| 2350/2350 [00:01<00:00, 1473.02it/s]\n",
      "100%|██████████| 2350/2350 [00:01<00:00, 1946.99it/s]\n",
      "100%|██████████| 2350/2350 [00:01<00:00, 1876.92it/s]\n"
     ]
    }
   ],
   "source": [
    "dict_srecall_a_02 = s_recall(results_a_02_categories_c3, users_c3, categories_list)\n",
    "dict_srecall_a_04 = s_recall(results_a_04_categories_c3, users_c3, categories_list)\n",
    "dict_srecall_a_06 = s_recall(results_a_06_categories_c3, users_c3, categories_list)"
   ]
  },
  {
   "cell_type": "code",
   "execution_count": 200,
   "metadata": {},
   "outputs": [],
   "source": [
    "complete_results.loc['0.2','s_recall'] = np.nanmean(list(dict_srecall_a_02.values()))\n",
    "complete_results.loc['0.4','s_recall'] = np.nanmean(list(dict_srecall_a_04.values()))\n",
    "complete_results.loc['0.6','s_recall'] = np.nanmean(list(dict_srecall_a_06.values()))"
   ]
  },
  {
   "cell_type": "code",
   "execution_count": 201,
   "metadata": {},
   "outputs": [],
   "source": [
    "complete_results_c3 = complete_results.copy()"
   ]
  },
  {
   "cell_type": "code",
   "execution_count": 202,
   "metadata": {},
   "outputs": [
    {
     "data": {
      "text/html": [
       "<div>\n",
       "<style scoped>\n",
       "    .dataframe tbody tr th:only-of-type {\n",
       "        vertical-align: middle;\n",
       "    }\n",
       "\n",
       "    .dataframe tbody tr th {\n",
       "        vertical-align: top;\n",
       "    }\n",
       "\n",
       "    .dataframe thead th {\n",
       "        text-align: right;\n",
       "    }\n",
       "</style>\n",
       "<table border=\"1\" class=\"dataframe\">\n",
       "  <thead>\n",
       "    <tr style=\"text-align: right;\">\n",
       "      <th></th>\n",
       "      <th>Precision</th>\n",
       "      <th>Recall</th>\n",
       "      <th>F1 score</th>\n",
       "      <th>MRR</th>\n",
       "      <th>NDCG@10</th>\n",
       "      <th>ILS</th>\n",
       "      <th>alpha_ndcg</th>\n",
       "      <th>ndcg_ia</th>\n",
       "      <th>s_recall</th>\n",
       "    </tr>\n",
       "    <tr>\n",
       "      <th>a_value</th>\n",
       "      <th></th>\n",
       "      <th></th>\n",
       "      <th></th>\n",
       "      <th></th>\n",
       "      <th></th>\n",
       "      <th></th>\n",
       "      <th></th>\n",
       "      <th></th>\n",
       "      <th></th>\n",
       "    </tr>\n",
       "  </thead>\n",
       "  <tbody>\n",
       "    <tr>\n",
       "      <th>0.2</th>\n",
       "      <td>0.199719</td>\n",
       "      <td>0.343430</td>\n",
       "      <td>0.231441</td>\n",
       "      <td>0.378151</td>\n",
       "      <td>0.587559</td>\n",
       "      <td>0.442063</td>\n",
       "      <td>0.866202</td>\n",
       "      <td>0.624138</td>\n",
       "      <td>0.442488</td>\n",
       "    </tr>\n",
       "    <tr>\n",
       "      <th>0.4</th>\n",
       "      <td>0.216321</td>\n",
       "      <td>0.373183</td>\n",
       "      <td>0.251637</td>\n",
       "      <td>0.383680</td>\n",
       "      <td>0.587560</td>\n",
       "      <td>0.557307</td>\n",
       "      <td>0.903782</td>\n",
       "      <td>0.635622</td>\n",
       "      <td>0.341080</td>\n",
       "    </tr>\n",
       "    <tr>\n",
       "      <th>0.6</th>\n",
       "      <td>0.215759</td>\n",
       "      <td>0.403013</td>\n",
       "      <td>0.258597</td>\n",
       "      <td>0.385390</td>\n",
       "      <td>0.579298</td>\n",
       "      <td>0.583789</td>\n",
       "      <td>0.908568</td>\n",
       "      <td>0.635430</td>\n",
       "      <td>0.320393</td>\n",
       "    </tr>\n",
       "  </tbody>\n",
       "</table>\n",
       "</div>"
      ],
      "text/plain": [
       "         Precision    Recall  F1 score       MRR   NDCG@10       ILS  \\\n",
       "a_value                                                                \n",
       "0.2       0.199719  0.343430  0.231441  0.378151  0.587559  0.442063   \n",
       "0.4       0.216321  0.373183  0.251637  0.383680  0.587560  0.557307   \n",
       "0.6       0.215759  0.403013  0.258597  0.385390  0.579298  0.583789   \n",
       "\n",
       "         alpha_ndcg   ndcg_ia  s_recall  \n",
       "a_value                                  \n",
       "0.2        0.866202  0.624138  0.442488  \n",
       "0.4        0.903782  0.635622  0.341080  \n",
       "0.6        0.908568  0.635430  0.320393  "
      ]
     },
     "execution_count": 202,
     "metadata": {},
     "output_type": "execute_result"
    }
   ],
   "source": [
    "complete_results_c3"
   ]
  },
  {
   "cell_type": "code",
   "execution_count": 203,
   "metadata": {},
   "outputs": [],
   "source": [
    "complete_results_c3.to_csv('results/clusters/fix/results_reranking_fix_c3.csv')"
   ]
  },
  {
   "cell_type": "markdown",
   "metadata": {},
   "source": [
    "### Cluster 4"
   ]
  },
  {
   "cell_type": "code",
   "execution_count": 204,
   "metadata": {},
   "outputs": [],
   "source": [
    "div_a_02_c4 = ca.Ratings.from_dataframe(results_02_c4)\n",
    "div_a_04_c4 = ca.Ratings.from_dataframe(results_04_c4)\n",
    "div_a_06_c4 = ca.Ratings.from_dataframe(results_06_c4)\n",
    "\n",
    "\n",
    "test_4 = ca.Ratings.from_dataframe(test_c4)"
   ]
  },
  {
   "cell_type": "code",
   "execution_count": 205,
   "metadata": {},
   "outputs": [
    {
     "name": "stderr",
     "output_type": "stream",
     "text": [
      "\u001b[39mINFO\u001b[0m - Performing evaluation on metrics chosen\n",
      "Performing NDCG@10:  80%|████████  | 4/5 [00:45<00:11]             C:\\Users\\ctreuill.BIDOUILLE\\AppData\\Roaming\\Python\\Python39\\site-packages\\clayrs\\evaluation\\metrics\\ranking_metrics.py:205: RuntimeWarning: invalid value encountered in double_scalars\n",
      "  return actual / ideal\n",
      "Performing NDCG@10:  100%|██████████| 5/5 [00:56<00:00]\n",
      "\u001b[39mINFO\u001b[0m - Performing evaluation on metrics chosen\n",
      "Performing NDCG@10:  80%|████████  | 4/5 [00:40<00:10]             C:\\Users\\ctreuill.BIDOUILLE\\AppData\\Roaming\\Python\\Python39\\site-packages\\clayrs\\evaluation\\metrics\\ranking_metrics.py:205: RuntimeWarning: invalid value encountered in double_scalars\n",
      "  return actual / ideal\n",
      "Performing NDCG@10:  100%|██████████| 5/5 [00:49<00:00]\n",
      "\u001b[39mINFO\u001b[0m - Performing evaluation on metrics chosen\n",
      "Performing NDCG@10:  80%|████████  | 4/5 [00:33<00:08]             C:\\Users\\ctreuill.BIDOUILLE\\AppData\\Roaming\\Python\\Python39\\site-packages\\clayrs\\evaluation\\metrics\\ranking_metrics.py:205: RuntimeWarning: invalid value encountered in double_scalars\n",
      "  return actual / ideal\n",
      "Performing NDCG@10:  100%|██████████| 5/5 [00:41<00:00]\n"
     ]
    }
   ],
   "source": [
    "sys_result_a_02, users_results_a_02 = get_performances(div_a_02_c4, test_4)\n",
    "sys_result_a_04, users_results_a_04 = get_performances(div_a_04_c4, test_4)\n",
    "sys_result_a_06, users_results_a_06 = get_performances(div_a_06_c4, test_4)\n"
   ]
  },
  {
   "cell_type": "code",
   "execution_count": 206,
   "metadata": {},
   "outputs": [],
   "source": [
    "complete_results = pd.concat([sys_result_a_02, sys_result_a_04, sys_result_a_06]).reset_index()\n",
    "complete_results = complete_results[complete_results['user_id']=='sys - fold1']\n",
    "complete_results['user_id']=['0.2','0.4','0.6']\n",
    "complete_results = complete_results.rename(columns={'user_id':'a_value'})\n",
    "complete_results = complete_results.set_index('a_value')"
   ]
  },
  {
   "cell_type": "code",
   "execution_count": 207,
   "metadata": {},
   "outputs": [
    {
     "data": {
      "text/html": [
       "<div>\n",
       "<style scoped>\n",
       "    .dataframe tbody tr th:only-of-type {\n",
       "        vertical-align: middle;\n",
       "    }\n",
       "\n",
       "    .dataframe tbody tr th {\n",
       "        vertical-align: top;\n",
       "    }\n",
       "\n",
       "    .dataframe thead th {\n",
       "        text-align: right;\n",
       "    }\n",
       "</style>\n",
       "<table border=\"1\" class=\"dataframe\">\n",
       "  <thead>\n",
       "    <tr style=\"text-align: right;\">\n",
       "      <th></th>\n",
       "      <th>Precision@10 - macro</th>\n",
       "      <th>Recall@10 - macro</th>\n",
       "      <th>F1@10 - macro</th>\n",
       "      <th>MRR</th>\n",
       "      <th>NDCG@10</th>\n",
       "    </tr>\n",
       "    <tr>\n",
       "      <th>a_value</th>\n",
       "      <th></th>\n",
       "      <th></th>\n",
       "      <th></th>\n",
       "      <th></th>\n",
       "      <th></th>\n",
       "    </tr>\n",
       "  </thead>\n",
       "  <tbody>\n",
       "    <tr>\n",
       "      <th>0.2</th>\n",
       "      <td>0.197487</td>\n",
       "      <td>0.358004</td>\n",
       "      <td>0.235788</td>\n",
       "      <td>0.391569</td>\n",
       "      <td>0.578365</td>\n",
       "    </tr>\n",
       "    <tr>\n",
       "      <th>0.4</th>\n",
       "      <td>0.205196</td>\n",
       "      <td>0.356813</td>\n",
       "      <td>0.241889</td>\n",
       "      <td>0.389009</td>\n",
       "      <td>0.585172</td>\n",
       "    </tr>\n",
       "    <tr>\n",
       "      <th>0.6</th>\n",
       "      <td>0.202846</td>\n",
       "      <td>0.367697</td>\n",
       "      <td>0.242395</td>\n",
       "      <td>0.387952</td>\n",
       "      <td>0.578198</td>\n",
       "    </tr>\n",
       "  </tbody>\n",
       "</table>\n",
       "</div>"
      ],
      "text/plain": [
       "         Precision@10 - macro  Recall@10 - macro  F1@10 - macro       MRR  \\\n",
       "a_value                                                                     \n",
       "0.2                  0.197487           0.358004       0.235788  0.391569   \n",
       "0.4                  0.205196           0.356813       0.241889  0.389009   \n",
       "0.6                  0.202846           0.367697       0.242395  0.387952   \n",
       "\n",
       "          NDCG@10  \n",
       "a_value            \n",
       "0.2      0.578365  \n",
       "0.4      0.585172  \n",
       "0.6      0.578198  "
      ]
     },
     "execution_count": 207,
     "metadata": {},
     "output_type": "execute_result"
    }
   ],
   "source": [
    "complete_results"
   ]
  },
  {
   "cell_type": "code",
   "execution_count": 208,
   "metadata": {},
   "outputs": [],
   "source": [
    "complete_results = complete_results.rename(columns={'Precision@10 - macro':'Precision', 'Recall@10 - macro':'Recall', 'F1@10 - macro':'F1 score'})"
   ]
  },
  {
   "cell_type": "code",
   "execution_count": 209,
   "metadata": {},
   "outputs": [
    {
     "name": "stderr",
     "output_type": "stream",
     "text": [
      "100%|██████████| 7255/7255 [00:35<00:00, 203.04it/s]\n",
      "100%|██████████| 7255/7255 [00:38<00:00, 188.16it/s]\n",
      "100%|██████████| 7255/7255 [00:34<00:00, 211.38it/s]\n"
     ]
    }
   ],
   "source": [
    "dict_ils_a_02 = compute_ils(results_02_c4, similarity_matrix, users_c4)\n",
    "dict_ils_a_04 = compute_ils(results_04_c4, similarity_matrix, users_c4)\n",
    "dict_ils_a_06 = compute_ils(results_06_c4, similarity_matrix, users_c4)"
   ]
  },
  {
   "cell_type": "code",
   "execution_count": 210,
   "metadata": {},
   "outputs": [],
   "source": [
    "complete_results.loc['0.2','ILS'] = np.mean(list(dict_ils_a_02.values()))\n",
    "complete_results.loc['0.4','ILS'] = np.mean(list(dict_ils_a_04.values()))\n",
    "complete_results.loc['0.6','ILS'] = np.mean(list(dict_ils_a_06.values()))"
   ]
  },
  {
   "cell_type": "code",
   "execution_count": 211,
   "metadata": {},
   "outputs": [],
   "source": [
    "results_a_02_categories_c4 = get_results_categories(results_02_c4)\n",
    "results_a_04_categories_c4 = get_results_categories(results_04_c4)\n",
    "results_a_06_categories_c4 = get_results_categories(results_06_c4)"
   ]
  },
  {
   "cell_type": "code",
   "execution_count": 212,
   "metadata": {},
   "outputs": [
    {
     "name": "stderr",
     "output_type": "stream",
     "text": [
      "100%|██████████| 7255/7255 [00:05<00:00, 1272.43it/s]\n",
      "100%|██████████| 7255/7255 [00:05<00:00, 1316.20it/s]\n",
      "100%|██████████| 7255/7255 [00:07<00:00, 1020.02it/s]\n"
     ]
    }
   ],
   "source": [
    "dict_alpha_ndcg_05_a_02 = alpha_ndcg(results_a_02_categories_c4, users_c4, users_interest, alpha=0.5)\n",
    "dict_alpha_ndcg_05_a_04 = alpha_ndcg(results_a_04_categories_c4, users_c4, users_interest, alpha=0.5)\n",
    "dict_alpha_ndcg_05_a_06 = alpha_ndcg(results_a_06_categories_c4, users_c4, users_interest, alpha=0.5)"
   ]
  },
  {
   "cell_type": "code",
   "execution_count": 213,
   "metadata": {},
   "outputs": [],
   "source": [
    "complete_results.loc['0.2','alpha_ndcg'] = np.nanmean(list(dict_alpha_ndcg_05_a_02.values()))\n",
    "complete_results.loc['0.4','alpha_ndcg'] = np.nanmean(list(dict_alpha_ndcg_05_a_04.values()))\n",
    "complete_results.loc['0.6','alpha_ndcg'] = np.nanmean(list(dict_alpha_ndcg_05_a_06.values()))"
   ]
  },
  {
   "cell_type": "code",
   "execution_count": 214,
   "metadata": {},
   "outputs": [
    {
     "name": "stderr",
     "output_type": "stream",
     "text": [
      "100%|██████████| 7255/7255 [00:13<00:00, 534.65it/s]\n",
      "100%|██████████| 7255/7255 [00:10<00:00, 663.73it/s]\n",
      "100%|██████████| 7255/7255 [00:11<00:00, 622.92it/s]\n"
     ]
    }
   ],
   "source": [
    "dict_ndcg_ia_a_02 = ndcg_ia(results_a_02_categories_c4, users_c4, users_interest)\n",
    "dict_ndcg_ia_a_04 = ndcg_ia(results_a_04_categories_c4, users_c4, users_interest)\n",
    "dict_ndcg_ia_a_06 = ndcg_ia(results_a_06_categories_c4, users_c4, users_interest)"
   ]
  },
  {
   "cell_type": "code",
   "execution_count": 215,
   "metadata": {},
   "outputs": [],
   "source": [
    "complete_results.loc['0.2','ndcg_ia'] = np.nanmean(list(dict_ndcg_ia_a_02.values()))\n",
    "complete_results.loc['0.4','ndcg_ia'] = np.nanmean(list(dict_ndcg_ia_a_04.values()))\n",
    "complete_results.loc['0.6','ndcg_ia'] = np.nanmean(list(dict_ndcg_ia_a_06.values()))"
   ]
  },
  {
   "cell_type": "code",
   "execution_count": 216,
   "metadata": {},
   "outputs": [
    {
     "name": "stderr",
     "output_type": "stream",
     "text": [
      "100%|██████████| 7255/7255 [00:05<00:00, 1370.86it/s]\n",
      "100%|██████████| 7255/7255 [00:04<00:00, 1790.23it/s]\n",
      "100%|██████████| 7255/7255 [00:05<00:00, 1303.60it/s]\n"
     ]
    }
   ],
   "source": [
    "dict_srecall_a_02 = s_recall(results_a_02_categories_c4, users_c4, categories_list)\n",
    "dict_srecall_a_04 = s_recall(results_a_04_categories_c4, users_c4, categories_list)\n",
    "dict_srecall_a_06 = s_recall(results_a_06_categories_c4, users_c4, categories_list)"
   ]
  },
  {
   "cell_type": "code",
   "execution_count": 217,
   "metadata": {},
   "outputs": [],
   "source": [
    "complete_results.loc['0.2','s_recall'] = np.nanmean(list(dict_srecall_a_02.values()))\n",
    "complete_results.loc['0.4','s_recall'] = np.nanmean(list(dict_srecall_a_04.values()))\n",
    "complete_results.loc['0.6','s_recall'] = np.nanmean(list(dict_srecall_a_06.values()))"
   ]
  },
  {
   "cell_type": "code",
   "execution_count": 218,
   "metadata": {},
   "outputs": [],
   "source": [
    "complete_results_c4 = complete_results.copy()"
   ]
  },
  {
   "cell_type": "code",
   "execution_count": 219,
   "metadata": {},
   "outputs": [
    {
     "data": {
      "text/html": [
       "<div>\n",
       "<style scoped>\n",
       "    .dataframe tbody tr th:only-of-type {\n",
       "        vertical-align: middle;\n",
       "    }\n",
       "\n",
       "    .dataframe tbody tr th {\n",
       "        vertical-align: top;\n",
       "    }\n",
       "\n",
       "    .dataframe thead th {\n",
       "        text-align: right;\n",
       "    }\n",
       "</style>\n",
       "<table border=\"1\" class=\"dataframe\">\n",
       "  <thead>\n",
       "    <tr style=\"text-align: right;\">\n",
       "      <th></th>\n",
       "      <th>Precision</th>\n",
       "      <th>Recall</th>\n",
       "      <th>F1 score</th>\n",
       "      <th>MRR</th>\n",
       "      <th>NDCG@10</th>\n",
       "      <th>ILS</th>\n",
       "      <th>alpha_ndcg</th>\n",
       "      <th>ndcg_ia</th>\n",
       "      <th>s_recall</th>\n",
       "    </tr>\n",
       "    <tr>\n",
       "      <th>a_value</th>\n",
       "      <th></th>\n",
       "      <th></th>\n",
       "      <th></th>\n",
       "      <th></th>\n",
       "      <th></th>\n",
       "      <th></th>\n",
       "      <th></th>\n",
       "      <th></th>\n",
       "      <th></th>\n",
       "    </tr>\n",
       "  </thead>\n",
       "  <tbody>\n",
       "    <tr>\n",
       "      <th>0.2</th>\n",
       "      <td>0.197487</td>\n",
       "      <td>0.358004</td>\n",
       "      <td>0.235788</td>\n",
       "      <td>0.391569</td>\n",
       "      <td>0.578365</td>\n",
       "      <td>0.312560</td>\n",
       "      <td>0.849998</td>\n",
       "      <td>0.536953</td>\n",
       "      <td>0.569019</td>\n",
       "    </tr>\n",
       "    <tr>\n",
       "      <th>0.4</th>\n",
       "      <td>0.205196</td>\n",
       "      <td>0.356813</td>\n",
       "      <td>0.241889</td>\n",
       "      <td>0.389009</td>\n",
       "      <td>0.585172</td>\n",
       "      <td>0.396202</td>\n",
       "      <td>0.895420</td>\n",
       "      <td>0.546509</td>\n",
       "      <td>0.454891</td>\n",
       "    </tr>\n",
       "    <tr>\n",
       "      <th>0.6</th>\n",
       "      <td>0.202846</td>\n",
       "      <td>0.367697</td>\n",
       "      <td>0.242395</td>\n",
       "      <td>0.387952</td>\n",
       "      <td>0.578198</td>\n",
       "      <td>0.419638</td>\n",
       "      <td>0.905922</td>\n",
       "      <td>0.544972</td>\n",
       "      <td>0.427355</td>\n",
       "    </tr>\n",
       "  </tbody>\n",
       "</table>\n",
       "</div>"
      ],
      "text/plain": [
       "         Precision    Recall  F1 score       MRR   NDCG@10       ILS  \\\n",
       "a_value                                                                \n",
       "0.2       0.197487  0.358004  0.235788  0.391569  0.578365  0.312560   \n",
       "0.4       0.205196  0.356813  0.241889  0.389009  0.585172  0.396202   \n",
       "0.6       0.202846  0.367697  0.242395  0.387952  0.578198  0.419638   \n",
       "\n",
       "         alpha_ndcg   ndcg_ia  s_recall  \n",
       "a_value                                  \n",
       "0.2        0.849998  0.536953  0.569019  \n",
       "0.4        0.895420  0.546509  0.454891  \n",
       "0.6        0.905922  0.544972  0.427355  "
      ]
     },
     "execution_count": 219,
     "metadata": {},
     "output_type": "execute_result"
    }
   ],
   "source": [
    "complete_results_c4"
   ]
  },
  {
   "cell_type": "code",
   "execution_count": 220,
   "metadata": {},
   "outputs": [],
   "source": [
    "complete_results_c4.to_csv('results/clusters/fix/results_reranking_fix_c4.csv')"
   ]
  },
  {
   "cell_type": "markdown",
   "metadata": {},
   "source": [
    "### Cluster 5"
   ]
  },
  {
   "cell_type": "code",
   "execution_count": 221,
   "metadata": {},
   "outputs": [],
   "source": [
    "div_a_02_c5 = ca.Ratings.from_dataframe(results_02_c5)\n",
    "div_a_04_c5 = ca.Ratings.from_dataframe(results_04_c5)\n",
    "div_a_06_c5 = ca.Ratings.from_dataframe(results_06_c5)\n",
    "\n",
    "\n",
    "test_5 = ca.Ratings.from_dataframe(test_c5)"
   ]
  },
  {
   "cell_type": "code",
   "execution_count": 222,
   "metadata": {},
   "outputs": [
    {
     "name": "stderr",
     "output_type": "stream",
     "text": [
      "\u001b[39mINFO\u001b[0m - Performing evaluation on metrics chosen\n",
      "Performing NDCG@10:  80%|████████  | 4/5 [00:00<00:00]          C:\\Users\\ctreuill.BIDOUILLE\\AppData\\Roaming\\Python\\Python39\\site-packages\\clayrs\\evaluation\\metrics\\ranking_metrics.py:205: RuntimeWarning: invalid value encountered in double_scalars\n",
      "  return actual / ideal\n",
      "Performing NDCG@10:  100%|██████████| 5/5 [00:00<00:00]\n",
      "\u001b[39mINFO\u001b[0m - Performing evaluation on metrics chosen\n",
      "Performing NDCG@10:  80%|████████  | 4/5 [00:00<00:00]          C:\\Users\\ctreuill.BIDOUILLE\\AppData\\Roaming\\Python\\Python39\\site-packages\\clayrs\\evaluation\\metrics\\ranking_metrics.py:205: RuntimeWarning: invalid value encountered in double_scalars\n",
      "  return actual / ideal\n",
      "Performing NDCG@10:  100%|██████████| 5/5 [00:00<00:00]\n",
      "\u001b[39mINFO\u001b[0m - Performing evaluation on metrics chosen\n",
      "Performing NDCG@10:  80%|████████  | 4/5 [00:00<00:00]          C:\\Users\\ctreuill.BIDOUILLE\\AppData\\Roaming\\Python\\Python39\\site-packages\\clayrs\\evaluation\\metrics\\ranking_metrics.py:205: RuntimeWarning: invalid value encountered in double_scalars\n",
      "  return actual / ideal\n",
      "Performing NDCG@10:  100%|██████████| 5/5 [00:00<00:00]\n"
     ]
    }
   ],
   "source": [
    "sys_result_a_02, users_results_a_02 = get_performances(div_a_02_c5, test_5)\n",
    "sys_result_a_04, users_results_a_04 = get_performances(div_a_04_c5, test_5)\n",
    "sys_result_a_06, users_results_a_06 = get_performances(div_a_06_c5, test_5)\n"
   ]
  },
  {
   "cell_type": "code",
   "execution_count": 223,
   "metadata": {},
   "outputs": [],
   "source": [
    "complete_results = pd.concat([sys_result_a_02, sys_result_a_04, sys_result_a_06]).reset_index()\n",
    "complete_results = complete_results[complete_results['user_id']=='sys - fold1']\n",
    "complete_results['user_id']=['0.2','0.4','0.6']\n",
    "complete_results = complete_results.rename(columns={'user_id':'a_value'})\n",
    "complete_results = complete_results.set_index('a_value')"
   ]
  },
  {
   "cell_type": "code",
   "execution_count": 224,
   "metadata": {},
   "outputs": [
    {
     "data": {
      "text/html": [
       "<div>\n",
       "<style scoped>\n",
       "    .dataframe tbody tr th:only-of-type {\n",
       "        vertical-align: middle;\n",
       "    }\n",
       "\n",
       "    .dataframe tbody tr th {\n",
       "        vertical-align: top;\n",
       "    }\n",
       "\n",
       "    .dataframe thead th {\n",
       "        text-align: right;\n",
       "    }\n",
       "</style>\n",
       "<table border=\"1\" class=\"dataframe\">\n",
       "  <thead>\n",
       "    <tr style=\"text-align: right;\">\n",
       "      <th></th>\n",
       "      <th>Precision@10 - macro</th>\n",
       "      <th>Recall@10 - macro</th>\n",
       "      <th>F1@10 - macro</th>\n",
       "      <th>MRR</th>\n",
       "      <th>NDCG@10</th>\n",
       "    </tr>\n",
       "    <tr>\n",
       "      <th>a_value</th>\n",
       "      <th></th>\n",
       "      <th></th>\n",
       "      <th></th>\n",
       "      <th></th>\n",
       "      <th></th>\n",
       "    </tr>\n",
       "  </thead>\n",
       "  <tbody>\n",
       "    <tr>\n",
       "      <th>0.2</th>\n",
       "      <td>0.202278</td>\n",
       "      <td>0.351223</td>\n",
       "      <td>0.239898</td>\n",
       "      <td>0.379837</td>\n",
       "      <td>0.522297</td>\n",
       "    </tr>\n",
       "    <tr>\n",
       "      <th>0.4</th>\n",
       "      <td>0.214453</td>\n",
       "      <td>0.355289</td>\n",
       "      <td>0.251850</td>\n",
       "      <td>0.373301</td>\n",
       "      <td>0.556487</td>\n",
       "    </tr>\n",
       "    <tr>\n",
       "      <th>0.6</th>\n",
       "      <td>0.210357</td>\n",
       "      <td>0.355961</td>\n",
       "      <td>0.247558</td>\n",
       "      <td>0.368937</td>\n",
       "      <td>0.555500</td>\n",
       "    </tr>\n",
       "  </tbody>\n",
       "</table>\n",
       "</div>"
      ],
      "text/plain": [
       "         Precision@10 - macro  Recall@10 - macro  F1@10 - macro       MRR  \\\n",
       "a_value                                                                     \n",
       "0.2                  0.202278           0.351223       0.239898  0.379837   \n",
       "0.4                  0.214453           0.355289       0.251850  0.373301   \n",
       "0.6                  0.210357           0.355961       0.247558  0.368937   \n",
       "\n",
       "          NDCG@10  \n",
       "a_value            \n",
       "0.2      0.522297  \n",
       "0.4      0.556487  \n",
       "0.6      0.555500  "
      ]
     },
     "execution_count": 224,
     "metadata": {},
     "output_type": "execute_result"
    }
   ],
   "source": [
    "complete_results"
   ]
  },
  {
   "cell_type": "code",
   "execution_count": 225,
   "metadata": {},
   "outputs": [],
   "source": [
    "complete_results = complete_results.rename(columns={'Precision@10 - macro':'Precision', 'Recall@10 - macro':'Recall', 'F1@10 - macro':'F1 score'})"
   ]
  },
  {
   "cell_type": "code",
   "execution_count": 226,
   "metadata": {},
   "outputs": [
    {
     "name": "stderr",
     "output_type": "stream",
     "text": [
      "100%|██████████| 251/251 [00:02<00:00, 124.63it/s]\n",
      "100%|██████████| 251/251 [00:01<00:00, 158.15it/s]\n",
      "100%|██████████| 251/251 [00:01<00:00, 163.12it/s]\n"
     ]
    }
   ],
   "source": [
    "dict_ils_a_02 = compute_ils(results_02_c5, similarity_matrix, users_c5)\n",
    "dict_ils_a_04 = compute_ils(results_04_c5, similarity_matrix, users_c5)\n",
    "dict_ils_a_06 = compute_ils(results_06_c5, similarity_matrix, users_c5)"
   ]
  },
  {
   "cell_type": "code",
   "execution_count": 227,
   "metadata": {},
   "outputs": [],
   "source": [
    "complete_results.loc['0.2','ILS'] = np.mean(list(dict_ils_a_02.values()))\n",
    "complete_results.loc['0.4','ILS'] = np.mean(list(dict_ils_a_04.values()))\n",
    "complete_results.loc['0.6','ILS'] = np.mean(list(dict_ils_a_06.values()))"
   ]
  },
  {
   "cell_type": "code",
   "execution_count": 228,
   "metadata": {},
   "outputs": [],
   "source": [
    "results_a_02_categories_c5 = get_results_categories(results_02_c5)\n",
    "results_a_04_categories_c5 = get_results_categories(results_04_c5)\n",
    "results_a_06_categories_c5 = get_results_categories(results_06_c5)"
   ]
  },
  {
   "cell_type": "code",
   "execution_count": 229,
   "metadata": {},
   "outputs": [
    {
     "name": "stderr",
     "output_type": "stream",
     "text": [
      "100%|██████████| 251/251 [00:00<00:00, 679.46it/s]\n",
      "100%|██████████| 251/251 [00:00<00:00, 690.57it/s]\n",
      "100%|██████████| 251/251 [00:00<00:00, 787.12it/s]\n"
     ]
    }
   ],
   "source": [
    "dict_alpha_ndcg_05_a_02 = alpha_ndcg(results_a_02_categories_c5, users_c5, users_interest, alpha=0.5)\n",
    "dict_alpha_ndcg_05_a_04 = alpha_ndcg(results_a_04_categories_c5, users_c5, users_interest, alpha=0.5)\n",
    "dict_alpha_ndcg_05_a_06 = alpha_ndcg(results_a_06_categories_c5, users_c5, users_interest, alpha=0.5)"
   ]
  },
  {
   "cell_type": "code",
   "execution_count": 230,
   "metadata": {},
   "outputs": [],
   "source": [
    "complete_results.loc['0.2','alpha_ndcg'] = np.nanmean(list(dict_alpha_ndcg_05_a_02.values()))\n",
    "complete_results.loc['0.4','alpha_ndcg'] = np.nanmean(list(dict_alpha_ndcg_05_a_04.values()))\n",
    "complete_results.loc['0.6','alpha_ndcg'] = np.nanmean(list(dict_alpha_ndcg_05_a_06.values()))"
   ]
  },
  {
   "cell_type": "code",
   "execution_count": 231,
   "metadata": {},
   "outputs": [
    {
     "name": "stderr",
     "output_type": "stream",
     "text": [
      "100%|██████████| 251/251 [00:00<00:00, 334.42it/s]\n",
      "100%|██████████| 251/251 [00:00<00:00, 579.46it/s]\n",
      "100%|██████████| 251/251 [00:00<00:00, 583.96it/s]\n"
     ]
    }
   ],
   "source": [
    "dict_ndcg_ia_a_02 = ndcg_ia(results_a_02_categories_c5, users_c5, users_interest)\n",
    "dict_ndcg_ia_a_04 = ndcg_ia(results_a_04_categories_c5, users_c5, users_interest)\n",
    "dict_ndcg_ia_a_06 = ndcg_ia(results_a_06_categories_c5, users_c5, users_interest)"
   ]
  },
  {
   "cell_type": "code",
   "execution_count": 232,
   "metadata": {},
   "outputs": [],
   "source": [
    "complete_results.loc['0.2','ndcg_ia'] = np.nanmean(list(dict_ndcg_ia_a_02.values()))\n",
    "complete_results.loc['0.4','ndcg_ia'] = np.nanmean(list(dict_ndcg_ia_a_04.values()))\n",
    "complete_results.loc['0.6','ndcg_ia'] = np.nanmean(list(dict_ndcg_ia_a_06.values()))"
   ]
  },
  {
   "cell_type": "code",
   "execution_count": 233,
   "metadata": {},
   "outputs": [
    {
     "name": "stderr",
     "output_type": "stream",
     "text": [
      "100%|██████████| 251/251 [00:00<00:00, 1467.85it/s]\n",
      "100%|██████████| 251/251 [00:00<00:00, 1543.26it/s]\n",
      "100%|██████████| 251/251 [00:00<00:00, 1388.45it/s]\n"
     ]
    }
   ],
   "source": [
    "dict_srecall_a_02 = s_recall(results_a_02_categories_c5, users_c5, categories_list)\n",
    "dict_srecall_a_04 = s_recall(results_a_04_categories_c5, users_c5, categories_list)\n",
    "dict_srecall_a_06 = s_recall(results_a_06_categories_c5, users_c5, categories_list)"
   ]
  },
  {
   "cell_type": "code",
   "execution_count": 234,
   "metadata": {},
   "outputs": [],
   "source": [
    "complete_results.loc['0.2','s_recall'] = np.nanmean(list(dict_srecall_a_02.values()))\n",
    "complete_results.loc['0.4','s_recall'] = np.nanmean(list(dict_srecall_a_04.values()))\n",
    "complete_results.loc['0.6','s_recall'] = np.nanmean(list(dict_srecall_a_06.values()))"
   ]
  },
  {
   "cell_type": "code",
   "execution_count": 235,
   "metadata": {},
   "outputs": [],
   "source": [
    "complete_results_c5 = complete_results.copy()"
   ]
  },
  {
   "cell_type": "code",
   "execution_count": 236,
   "metadata": {},
   "outputs": [
    {
     "data": {
      "text/html": [
       "<div>\n",
       "<style scoped>\n",
       "    .dataframe tbody tr th:only-of-type {\n",
       "        vertical-align: middle;\n",
       "    }\n",
       "\n",
       "    .dataframe tbody tr th {\n",
       "        vertical-align: top;\n",
       "    }\n",
       "\n",
       "    .dataframe thead th {\n",
       "        text-align: right;\n",
       "    }\n",
       "</style>\n",
       "<table border=\"1\" class=\"dataframe\">\n",
       "  <thead>\n",
       "    <tr style=\"text-align: right;\">\n",
       "      <th></th>\n",
       "      <th>Precision</th>\n",
       "      <th>Recall</th>\n",
       "      <th>F1 score</th>\n",
       "      <th>MRR</th>\n",
       "      <th>NDCG@10</th>\n",
       "      <th>ILS</th>\n",
       "      <th>alpha_ndcg</th>\n",
       "      <th>ndcg_ia</th>\n",
       "      <th>s_recall</th>\n",
       "    </tr>\n",
       "    <tr>\n",
       "      <th>a_value</th>\n",
       "      <th></th>\n",
       "      <th></th>\n",
       "      <th></th>\n",
       "      <th></th>\n",
       "      <th></th>\n",
       "      <th></th>\n",
       "      <th></th>\n",
       "      <th></th>\n",
       "      <th></th>\n",
       "    </tr>\n",
       "  </thead>\n",
       "  <tbody>\n",
       "    <tr>\n",
       "      <th>0.2</th>\n",
       "      <td>0.202278</td>\n",
       "      <td>0.351223</td>\n",
       "      <td>0.239898</td>\n",
       "      <td>0.379837</td>\n",
       "      <td>0.522297</td>\n",
       "      <td>0.221371</td>\n",
       "      <td>0.810200</td>\n",
       "      <td>0.458110</td>\n",
       "      <td>0.689856</td>\n",
       "    </tr>\n",
       "    <tr>\n",
       "      <th>0.4</th>\n",
       "      <td>0.214453</td>\n",
       "      <td>0.355289</td>\n",
       "      <td>0.251850</td>\n",
       "      <td>0.373301</td>\n",
       "      <td>0.556487</td>\n",
       "      <td>0.276117</td>\n",
       "      <td>0.865629</td>\n",
       "      <td>0.476824</td>\n",
       "      <td>0.595158</td>\n",
       "    </tr>\n",
       "    <tr>\n",
       "      <th>0.6</th>\n",
       "      <td>0.210357</td>\n",
       "      <td>0.355961</td>\n",
       "      <td>0.247558</td>\n",
       "      <td>0.368937</td>\n",
       "      <td>0.555500</td>\n",
       "      <td>0.297082</td>\n",
       "      <td>0.889181</td>\n",
       "      <td>0.479570</td>\n",
       "      <td>0.564511</td>\n",
       "    </tr>\n",
       "  </tbody>\n",
       "</table>\n",
       "</div>"
      ],
      "text/plain": [
       "         Precision    Recall  F1 score       MRR   NDCG@10       ILS  \\\n",
       "a_value                                                                \n",
       "0.2       0.202278  0.351223  0.239898  0.379837  0.522297  0.221371   \n",
       "0.4       0.214453  0.355289  0.251850  0.373301  0.556487  0.276117   \n",
       "0.6       0.210357  0.355961  0.247558  0.368937  0.555500  0.297082   \n",
       "\n",
       "         alpha_ndcg   ndcg_ia  s_recall  \n",
       "a_value                                  \n",
       "0.2        0.810200  0.458110  0.689856  \n",
       "0.4        0.865629  0.476824  0.595158  \n",
       "0.6        0.889181  0.479570  0.564511  "
      ]
     },
     "execution_count": 236,
     "metadata": {},
     "output_type": "execute_result"
    }
   ],
   "source": [
    "complete_results_c5"
   ]
  },
  {
   "cell_type": "code",
   "execution_count": 237,
   "metadata": {},
   "outputs": [],
   "source": [
    "complete_results_c5.to_csv('results/clusters/fix/results_reranking_fix_c5.csv')"
   ]
  }
 ],
 "metadata": {
  "kernelspec": {
   "display_name": "base",
   "language": "python",
   "name": "python3"
  },
  "language_info": {
   "codemirror_mode": {
    "name": "ipython",
    "version": 3
   },
   "file_extension": ".py",
   "mimetype": "text/x-python",
   "name": "python",
   "nbconvert_exporter": "python",
   "pygments_lexer": "ipython3",
   "version": "3.9.7"
  }
 },
 "nbformat": 4,
 "nbformat_minor": 2
}
