{
 "cells": [
  {
   "cell_type": "markdown",
   "metadata": {},
   "source": [
    "# ClayRS experiment on existing news representation\n",
    "\n",
    "**News representation:** LDA embeddings with 128 dimensions (FairUMAP paper 2022)\n",
    "\n",
    "**Algorithms :**\n",
    "* Centroid Vector (Cosine similarity)\n",
    "* Classifiers:\n",
    "    *  GaussianProcess\n",
    "    *  KNN\n",
    "    *  SVC"
   ]
  },
  {
   "cell_type": "code",
   "execution_count": 1,
   "metadata": {},
   "outputs": [],
   "source": [
    "import pandas as pd\n",
    "import json \n",
    "\n",
    "from clayrs import content_analyzer as ca\n",
    "from clayrs import recsys as rs\n",
    "from clayrs import evaluation as eva"
   ]
  },
  {
   "cell_type": "code",
   "execution_count": 2,
   "metadata": {},
   "outputs": [],
   "source": [
    "import ast\n",
    "import numpy as np"
   ]
  },
  {
   "cell_type": "markdown",
   "metadata": {},
   "source": [
    "# Recommender System"
   ]
  },
  {
   "cell_type": "markdown",
   "metadata": {},
   "source": [
    "## Get train/test (temporal)"
   ]
  },
  {
   "cell_type": "code",
   "execution_count": 25,
   "metadata": {},
   "outputs": [
    {
     "name": "stderr",
     "output_type": "stream",
     "text": [
      "Importing ratings:  100%|██████████| 2052051/2052051 [00:08<00:00]\n"
     ]
    }
   ],
   "source": [
    "ratings = ca.Ratings(ca.CSVFile('../data/ratings_10k.csv'))"
   ]
  },
  {
   "cell_type": "code",
   "execution_count": 26,
   "metadata": {},
   "outputs": [
    {
     "name": "stdout",
     "output_type": "stream",
     "text": [
      "        user_id item_id  score\n",
      "0        504290  106909    0.0\n",
      "1        504290  101469    0.0\n",
      "2        504290   95605    0.0\n",
      "3        504290   96061    0.0\n",
      "4        504290  130031    0.0\n",
      "...         ...     ...    ...\n",
      "2052046  339186    1767    0.0\n",
      "2052047  339186  118908    0.0\n",
      "2052048  339186   14612    0.0\n",
      "2052049  339186    9471    0.0\n",
      "2052050  366874   65373    1.0\n",
      "\n",
      "[2052051 rows x 3 columns]\n"
     ]
    }
   ],
   "source": [
    "print(ratings)"
   ]
  },
  {
   "cell_type": "markdown",
   "metadata": {},
   "source": [
    "## Launch experiment"
   ]
  },
  {
   "cell_type": "code",
   "execution_count": 27,
   "metadata": {},
   "outputs": [],
   "source": [
    "catalog = set(ratings.item_id_column)"
   ]
  },
  {
   "cell_type": "code",
   "execution_count": 28,
   "metadata": {},
   "outputs": [
    {
     "data": {
      "text/plain": [
       "18186"
      ]
     },
     "execution_count": 28,
     "metadata": {},
     "output_type": "execute_result"
    }
   ],
   "source": [
    "len(catalog)"
   ]
  },
  {
   "cell_type": "code",
   "execution_count": 34,
   "metadata": {},
   "outputs": [],
   "source": [
    "#Definition of the recommender algorithm\n",
    "cos_algo = rs.CentroidVector(\n",
    "    {'lda_128': 'text_lda'},  \n",
    "    similarity=rs.CosineSimilarity()\n",
    ")"
   ]
  },
  {
   "cell_type": "code",
   "execution_count": 33,
   "metadata": {},
   "outputs": [
    {
     "name": "stderr",
     "output_type": "stream",
     "text": [
      "Performing HoldOutPartitioning:  100%|██████████| 10000/10000 [00:00<00:00]\n",
      "\n",
      "\u001b[39mINFO\u001b[0m - ******* Processing alg CentroidVector *******\n",
      "\u001b[39mINFO\u001b[0m - Don't worry if it looks stuck at first\n",
      "\u001b[39mINFO\u001b[0m - First iterations will stabilize the estimated remaining time\n",
      "Computing fit_rank for user 9999:  100%|██████████| 10000/10000 [02:48<00:00]\n",
      "\u001b[39mINFO\u001b[0m - Performing evaluation on metrics chosen\n",
      "Performing NDCG@10:  67%|██████▋   | 2/3 [01:00<00:29]             C:\\Users\\ctreuill.BIDOUILLE\\AppData\\Roaming\\Python\\Python39\\site-packages\\clayrs\\evaluation\\metrics\\ranking_metrics.py:205: RuntimeWarning: invalid value encountered in double_scalars\n",
      "  return actual / ideal\n",
      "Performing NDCG@10:  100%|██████████| 3/3 [01:25<00:00]\n",
      "\n",
      "\u001b[39mINFO\u001b[0m - Results saved in 'report_baseline_10k_cv_complete_v2/CentroidVector_1'\n"
     ]
    }
   ],
   "source": [
    "rs.ContentBasedExperiment(\n",
    "    ratings,\n",
    "    items_directory='news_codified_lda_128',\n",
    "    partitioning_technique=rs.HoldOutPartitioning(train_set_size=0.75, shuffle=False),\n",
    "    # algorithm_list=[knn_algo],\n",
    "    algorithm_list=[cos_algo],\n",
    "    metric_list=[\n",
    "        eva.PrecisionAtK(k=10, sys_average='macro'),\n",
    "        # eva.RecallAtK(k=10, sys_average='macro'),\n",
    "        eva.FMeasureAtK(k=10, sys_average='macro'),\n",
    "        eva.NDCGAtK(k=10),\n",
    "        # eva.CatalogCoverage(catalog),\n",
    "        # eva.GiniIndex()\n",
    "    ],\n",
    "    report=True,\n",
    "    output_folder='report_baseline_10k_cv_complete',\n",
    "    overwrite_if_exists=True\n",
    ").rank(n_recs=len(catalog), methodology=rs.TestRatingsMethodology(), num_cpus=1)"
   ]
  },
  {
   "cell_type": "code",
   "execution_count": null,
   "metadata": {},
   "outputs": [],
   "source": []
  }
 ],
 "metadata": {
  "kernelspec": {
   "display_name": "base",
   "language": "python",
   "name": "python3"
  },
  "language_info": {
   "codemirror_mode": {
    "name": "ipython",
    "version": 3
   },
   "file_extension": ".py",
   "mimetype": "text/x-python",
   "name": "python",
   "nbconvert_exporter": "python",
   "pygments_lexer": "ipython3",
   "version": "3.9.7"
  }
 },
 "nbformat": 4,
 "nbformat_minor": 2
}
