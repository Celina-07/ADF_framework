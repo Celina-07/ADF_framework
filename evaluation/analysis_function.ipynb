{
 "cells": [
  {
   "cell_type": "code",
   "execution_count": 1,
   "metadata": {},
   "outputs": [],
   "source": [
    "import pandas as pd\n",
    "import json \n",
    "import numpy as np\n",
    "from tqdm import tqdm\n",
    "import ast\n",
    "import seaborn as sns\n",
    "from matplotlib import pyplot as plt"
   ]
  },
  {
   "cell_type": "code",
   "execution_count": 2,
   "metadata": {},
   "outputs": [],
   "source": [
    "from clayrs import content_analyzer as ca\n",
    "from clayrs import recsys as rs\n",
    "from clayrs import evaluation as eva"
   ]
  },
  {
   "cell_type": "code",
   "execution_count": 399,
   "metadata": {},
   "outputs": [],
   "source": [
    "from sklearn.metrics.pairwise import cosine_similarity"
   ]
  },
  {
   "cell_type": "code",
   "execution_count": 4,
   "metadata": {},
   "outputs": [],
   "source": [
    "import math"
   ]
  },
  {
   "cell_type": "code",
   "execution_count": 5,
   "metadata": {},
   "outputs": [],
   "source": [
    "from scipy.special import kl_div"
   ]
  },
  {
   "cell_type": "markdown",
   "metadata": {},
   "source": [
    "# Necessary functions"
   ]
  },
  {
   "cell_type": "code",
   "execution_count": 6,
   "metadata": {},
   "outputs": [],
   "source": [
    "def embeddings_to_df(e):\n",
    "    e_list = e.tolist()\n",
    "    df_e = pd.DataFrame(e_list)\n",
    "    return df_e"
   ]
  },
  {
   "cell_type": "code",
   "execution_count": 7,
   "metadata": {},
   "outputs": [],
   "source": [
    "def get_performances(train, test, k=10):\n",
    "    em = eva.EvalModel(\n",
    "        [train],\n",
    "        [test],\n",
    "        metric_list=[\n",
    "            eva.PrecisionAtK(k, sys_average='macro'),\n",
    "            eva.RecallAtK(k, sys_average='macro'),\n",
    "            eva.FMeasureAtK(k, sys_average='macro'),\n",
    "            eva.MRR(),\n",
    "            eva.NDCGAtK(k),\n",
    "            # eva.CatalogCoverage(catalog),\n",
    "            # eva.GiniIndex()\n",
    "        ],    \n",
    "    )\n",
    "    sys_result, users_result = em.fit()\n",
    "    return sys_result, users_result"
   ]
  },
  {
   "cell_type": "code",
   "execution_count": 8,
   "metadata": {},
   "outputs": [],
   "source": [
    "def triangular_matrix(m):\n",
    "    m_tri = m.where(np.triu(np.ones(m.shape),k=1).astype(bool))\n",
    "    return m_tri"
   ]
  },
  {
   "cell_type": "code",
   "execution_count": 9,
   "metadata": {},
   "outputs": [],
   "source": [
    "def ILS(m):\n",
    "    m_tri = triangular_matrix(m).stack().reset_index()\n",
    "    m_tri.columns = ['i','j','similarity']\n",
    "    ils = (m_tri['similarity'].sum())/len(m_tri)\n",
    "    return ils"
   ]
  },
  {
   "cell_type": "code",
   "execution_count": 10,
   "metadata": {},
   "outputs": [],
   "source": [
    "def compute_ils(recos, similarity_matrix, list_users):\n",
    "    dict_ils = {}\n",
    "    for u in tqdm(list_users):\n",
    "        recos_user = recos[recos['user_id']==u]\n",
    "        news_ids = recos_user['item_id'].tolist()\n",
    "        news_ids.sort()\n",
    "        sim_matrix_user = similarity_matrix[similarity_matrix.index.isin(news_ids)][news_ids]\n",
    "        ils_user = ILS(sim_matrix_user)\n",
    "        dict_key = {u:ils_user}\n",
    "        dict_ils.update(dict_key)\n",
    "    return dict_ils"
   ]
  },
  {
   "cell_type": "code",
   "execution_count": 11,
   "metadata": {},
   "outputs": [],
   "source": [
    "def get_results_categories(initial_results):\n",
    "    results_categories = initial_results.copy()\n",
    "    results_categories = results_categories.rename(columns={'item_id':'NewsID'})\n",
    "    results_categories = results_categories.merge(news[['NewsID','cluster_hdbscan','proba']], on='NewsID').rename(columns={'cluster_hdbscan':'category'})\n",
    "    results_categories['proba'] = results_categories['proba'].replace(0, 1)\n",
    "    return results_categories"
   ]
  },
  {
   "cell_type": "code",
   "execution_count": 421,
   "metadata": {},
   "outputs": [],
   "source": [
    "test = get_results_categories(results_a_0_k20)"
   ]
  },
  {
   "cell_type": "code",
   "execution_count": 432,
   "metadata": {},
   "outputs": [
    {
     "data": {
      "text/html": [
       "<div>\n",
       "<style scoped>\n",
       "    .dataframe tbody tr th:only-of-type {\n",
       "        vertical-align: middle;\n",
       "    }\n",
       "\n",
       "    .dataframe tbody tr th {\n",
       "        vertical-align: top;\n",
       "    }\n",
       "\n",
       "    .dataframe thead th {\n",
       "        text-align: right;\n",
       "    }\n",
       "</style>\n",
       "<table border=\"1\" class=\"dataframe\">\n",
       "  <thead>\n",
       "    <tr style=\"text-align: right;\">\n",
       "      <th></th>\n",
       "      <th>user_id</th>\n",
       "      <th>NewsID</th>\n",
       "      <th>score</th>\n",
       "      <th>category</th>\n",
       "      <th>proba</th>\n",
       "    </tr>\n",
       "  </thead>\n",
       "  <tbody>\n",
       "    <tr>\n",
       "      <th>0</th>\n",
       "      <td>504290</td>\n",
       "      <td>47925</td>\n",
       "      <td>0.902574</td>\n",
       "      <td>0</td>\n",
       "      <td>1.000000</td>\n",
       "    </tr>\n",
       "    <tr>\n",
       "      <th>1</th>\n",
       "      <td>58570</td>\n",
       "      <td>47925</td>\n",
       "      <td>0.712538</td>\n",
       "      <td>0</td>\n",
       "      <td>1.000000</td>\n",
       "    </tr>\n",
       "    <tr>\n",
       "      <th>2</th>\n",
       "      <td>482240</td>\n",
       "      <td>47925</td>\n",
       "      <td>0.717136</td>\n",
       "      <td>0</td>\n",
       "      <td>1.000000</td>\n",
       "    </tr>\n",
       "    <tr>\n",
       "      <th>3</th>\n",
       "      <td>41646</td>\n",
       "      <td>47925</td>\n",
       "      <td>0.511041</td>\n",
       "      <td>0</td>\n",
       "      <td>1.000000</td>\n",
       "    </tr>\n",
       "    <tr>\n",
       "      <th>4</th>\n",
       "      <td>222828</td>\n",
       "      <td>47925</td>\n",
       "      <td>0.811083</td>\n",
       "      <td>0</td>\n",
       "      <td>1.000000</td>\n",
       "    </tr>\n",
       "    <tr>\n",
       "      <th>...</th>\n",
       "      <td>...</td>\n",
       "      <td>...</td>\n",
       "      <td>...</td>\n",
       "      <td>...</td>\n",
       "      <td>...</td>\n",
       "    </tr>\n",
       "    <tr>\n",
       "      <th>236476</th>\n",
       "      <td>61908</td>\n",
       "      <td>114172</td>\n",
       "      <td>0.000000</td>\n",
       "      <td>6</td>\n",
       "      <td>1.000000</td>\n",
       "    </tr>\n",
       "    <tr>\n",
       "      <th>236477</th>\n",
       "      <td>696889</td>\n",
       "      <td>85813</td>\n",
       "      <td>0.000000</td>\n",
       "      <td>11</td>\n",
       "      <td>0.806009</td>\n",
       "    </tr>\n",
       "    <tr>\n",
       "      <th>236478</th>\n",
       "      <td>330007</td>\n",
       "      <td>58354</td>\n",
       "      <td>0.000000</td>\n",
       "      <td>6</td>\n",
       "      <td>1.000000</td>\n",
       "    </tr>\n",
       "    <tr>\n",
       "      <th>236479</th>\n",
       "      <td>596721</td>\n",
       "      <td>58476</td>\n",
       "      <td>0.000000</td>\n",
       "      <td>4</td>\n",
       "      <td>0.876063</td>\n",
       "    </tr>\n",
       "    <tr>\n",
       "      <th>236480</th>\n",
       "      <td>596721</td>\n",
       "      <td>14155</td>\n",
       "      <td>0.000000</td>\n",
       "      <td>6</td>\n",
       "      <td>0.786473</td>\n",
       "    </tr>\n",
       "  </tbody>\n",
       "</table>\n",
       "<p>236481 rows × 5 columns</p>\n",
       "</div>"
      ],
      "text/plain": [
       "        user_id  NewsID     score  category     proba\n",
       "0        504290   47925  0.902574         0  1.000000\n",
       "1         58570   47925  0.712538         0  1.000000\n",
       "2        482240   47925  0.717136         0  1.000000\n",
       "3         41646   47925  0.511041         0  1.000000\n",
       "4        222828   47925  0.811083         0  1.000000\n",
       "...         ...     ...       ...       ...       ...\n",
       "236476    61908  114172  0.000000         6  1.000000\n",
       "236477   696889   85813  0.000000        11  0.806009\n",
       "236478   330007   58354  0.000000         6  1.000000\n",
       "236479   596721   58476  0.000000         4  0.876063\n",
       "236480   596721   14155  0.000000         6  0.786473\n",
       "\n",
       "[236481 rows x 5 columns]"
      ]
     },
     "execution_count": 432,
     "metadata": {},
     "output_type": "execute_result"
    }
   ],
   "source": [
    "test"
   ]
  },
  {
   "cell_type": "code",
   "execution_count": 12,
   "metadata": {},
   "outputs": [],
   "source": [
    "def compute_dcg(gain_vector):\n",
    "    dcg_value = 0\n",
    "    for i in range(1, len(gain_vector)+1, 1):\n",
    "        val = gain_vector[i-1]/(math.log2(1+i))\n",
    "        dcg_value = dcg_value + val\n",
    "    return dcg_value"
   ]
  },
  {
   "cell_type": "code",
   "execution_count": 536,
   "metadata": {},
   "outputs": [],
   "source": [
    "def alpha_ndcg(recos, list_users, users_interest_df, alpha, k=10):\n",
    "    dict_alpha_ndcg = {}\n",
    "    #For each user\n",
    "    for u in tqdm(list_users):\n",
    "        #Get the recommendation list of a specific user\n",
    "        recos_user = recos[recos['user_id']==u].reset_index(drop=True)\n",
    "        if len(recos_user)>=k:\n",
    "            recos_user = recos_user.iloc[:k,:]\n",
    "        #Get the corresponding list of news categories \n",
    "        recos_categories = recos_user['category'].tolist()\n",
    "        \n",
    "        #Initialize the gain vector\n",
    "        gain_vector = []\n",
    "        #Only compute alpha ndcg when there is 10 recos or more\n",
    "\n",
    "        for i in range(1,len(recos_user)+1, 1):\n",
    "            #Get the category\n",
    "            cat = recos_categories[i-1]\n",
    "            #Get the interest of the user for the category\n",
    "            user_interest_cat = users_interest.loc[u,cat]\n",
    "            if i ==1:\n",
    "                r = 0\n",
    "            else:\n",
    "                r = recos_categories[:i-1].count(cat)\n",
    "            #Compute the gain for the k-th reco\n",
    "            # value_gain_k = recos_user.loc[i-1,'proba'] *  user_interest_cat * (1-alpha)**(r)\n",
    "            # value_gain_k =  user_interest_cat * (1-alpha)**(r)\n",
    "            #Update the gain vector\n",
    "            gain_vector.append(value_gain_k)\n",
    "        #Get the optimal gain vector (sorted gain vector in descending order)\n",
    "        optimal_gain_vector = sorted(gain_vector, reverse=True)\n",
    "        #Compute Discounted Cumulative Gain\n",
    "        dcg = compute_dcg(gain_vector)\n",
    "        #Compute Ideal Discounted Cumulative Gain\n",
    "        idcg = compute_dcg(optimal_gain_vector)\n",
    "        #Compute alpha-ndcg\n",
    "        alpha_ndcg = dcg/idcg\n",
    "        \n",
    "        dict_key = {u:alpha_ndcg}\n",
    "        dict_alpha_ndcg.update(dict_key)\n",
    "        # else:\n",
    "        #     dict_key = {u:np.nan}\n",
    "        #     dict_alpha_ndcg.update(dict_key)\n",
    "    return dict_alpha_ndcg        "
   ]
  },
  {
   "cell_type": "code",
   "execution_count": 14,
   "metadata": {},
   "outputs": [],
   "source": [
    "def ndcg_ia(recos, list_users, users_interest_df, k=10):\n",
    "    dict_ndcg_ia = {}\n",
    "    for u in tqdm(list_users):\n",
    "        recos_user = recos[recos['user_id']==u].reset_index(drop=True)\n",
    "        if len(recos_user)>=k:\n",
    "            recos_user = recos_user.iloc[:k,:]\n",
    "        recos_categories = recos_user['category'].tolist()\n",
    "        user_interest = pd.DataFrame(users_interest_df.loc[u])\n",
    "        categories_interest = user_interest[user_interest[u]!=0].index.tolist()\n",
    "        # nb_categories_interest = len(categories_interest)        \n",
    "        list_values = []\n",
    "        for c in range(len(categories_interest)):\n",
    "            cat = categories_interest[c]\n",
    "            user_interest_cat = users_interest.loc[u,cat]\n",
    "            gain_vector_c = [1 if i==cat else 0 for i in recos_categories]\n",
    "            optimal_gain_vector_c = sorted(gain_vector_c, reverse=True)\n",
    "            dcg_c = compute_dcg(gain_vector_c)\n",
    "            idcg_c = compute_dcg(optimal_gain_vector_c)\n",
    "            if idcg_c != 0:\n",
    "                ndcg_c = user_interest_cat*(dcg_c/idcg_c)\n",
    "            else:\n",
    "                ndcg_c = 0\n",
    "            list_values.append(ndcg_c)\n",
    "        ndcg_ia = sum(list_values)\n",
    "        dict_key = {u:ndcg_ia}\n",
    "        dict_ndcg_ia.update(dict_key)\n",
    "        # else:\n",
    "        #     dict_key = {u:np.nan}\n",
    "        #     dict_ndcg_ia.update(dict_key)\n",
    "    return dict_ndcg_ia"
   ]
  },
  {
   "cell_type": "code",
   "execution_count": 445,
   "metadata": {},
   "outputs": [],
   "source": [
    "def s_recall(recos, list_users, categories_list, k):\n",
    "    dict_srecall = {}\n",
    "    nb_categories = len(categories_list)\n",
    "    for u in tqdm(list_users):\n",
    "        recos_user = recos[recos['user_id']==u].reset_index(drop=True)\n",
    "        recos_categories = recos_user['category'].unique().tolist()\n",
    "        s_recall_user = len(set(recos_categories))/nb_categories\n",
    "        dict_key = {u:s_recall_user}\n",
    "        dict_srecall.update(dict_key)\n",
    "    return dict_srecall"
   ]
  },
  {
   "cell_type": "code",
   "execution_count": 137,
   "metadata": {},
   "outputs": [],
   "source": [
    "def calibration_kl(recos, list_users, users_interest_df, categories_list, alpha=0.01):\n",
    "    dict_ckl = {}\n",
    "    for u in tqdm(list_users):\n",
    "        interest_user = users_interest_df.loc[u].values.tolist()\n",
    "        recos_user = recos[recos['user_id']==u].reset_index(drop=True)\n",
    "        distrib_categories = []\n",
    "        for c in categories_list:\n",
    "            prop_cat = len(recos_user[recos_user['category']==c])\n",
    "            distrib_categories.append(prop_cat/len(recos_user))\n",
    "        q_distrib = [(1-alpha)*x + alpha*y for x, y in zip(distrib_categories, interest_user)]\n",
    "        c_kl_user = kl_div(interest_user, q_distrib).sum()\n",
    "        dict_key = {u:c_kl_user}\n",
    "        dict_ckl.update(dict_key)\n",
    "    return dict_ckl"
   ]
  },
  {
   "cell_type": "code",
   "execution_count": 138,
   "metadata": {},
   "outputs": [],
   "source": [
    "from gensim.matutils import hellinger"
   ]
  },
  {
   "cell_type": "code",
   "execution_count": 139,
   "metadata": {},
   "outputs": [],
   "source": [
    "def calibration_hellinger(recos, list_users, users_interest_df, categories_list):\n",
    "    dict_ch = {}\n",
    "    for u in tqdm(list_users):\n",
    "        interest_user = users_interest_df.loc[u].values.tolist()\n",
    "        recos_user = recos[recos['user_id']==u].reset_index(drop=True)\n",
    "        distrib_categories = []\n",
    "        for c in categories_list:\n",
    "            prop_cat = len(recos_user[recos_user['category']==c])\n",
    "            distrib_categories.append(prop_cat/len(recos_user))\n",
    "        c_h_user = hellinger(interest_user, distrib_categories).sum()\n",
    "        dict_key = {u:c_h_user}\n",
    "        dict_ch.update(dict_key)\n",
    "    return dict_ch"
   ]
  },
  {
   "cell_type": "code",
   "execution_count": 234,
   "metadata": {},
   "outputs": [],
   "source": [
    "def homogeneization(distrib, param=0.5):\n",
    "    n = len(distrib)\n",
    "    new_distrib = [((1-param)*p)+(param/n) for p in distrib]\n",
    "    return new_distrib"
   ]
  },
  {
   "cell_type": "code",
   "execution_count": 253,
   "metadata": {},
   "outputs": [],
   "source": [
    "def calibration_hellinger_target(lambda_values, list_users, users_interest_df):\n",
    "    dict_ch = {}\n",
    "    for u in tqdm(list_users):\n",
    "        interest_user = users_interest_df.loc[u].values.tolist()\n",
    "        #get optimal lambda\n",
    "        optimal_lambda = lambda_values.loc[u]['optimal_lambda']\n",
    "        new_proportion = homogeneization(interest_user, param = optimal_lambda)\n",
    "        # recos_user = recos[recos['user_id']==u].reset_index(drop=True)\n",
    "        # distrib_categories = []\n",
    "        # for c in categories_list:\n",
    "        #     prop_cat = len(recos_user[recos_user['category']==c])\n",
    "        #     distrib_categories.append(prop_cat/len(recos_user))\n",
    "        c_h_user = hellinger(interest_user, new_proportion).sum()\n",
    "        dict_key = {u:c_h_user}\n",
    "        dict_ch.update(dict_key)\n",
    "    return dict_ch"
   ]
  },
  {
   "cell_type": "code",
   "execution_count": null,
   "metadata": {},
   "outputs": [],
   "source": [
    "def calibration_hellinger_target(lambda_values, list_users, users_interest_df):\n",
    "    dict_ch = {}\n",
    "    for u in tqdm(list_users):\n",
    "        interest_user = users_interest_df.loc[u].values.tolist()\n",
    "        #get optimal lambda\n",
    "        optimal_lambda = lambda_values.loc[u]['optimal_lambda']\n",
    "        new_proportion = homogeneization(interest_user, param = optimal_lambda)\n",
    "        # recos_user = recos[recos['user_id']==u].reset_index(drop=True)\n",
    "        # distrib_categories = []\n",
    "        # for c in categories_list:\n",
    "        #     prop_cat = len(recos_user[recos_user['category']==c])\n",
    "        #     distrib_categories.append(prop_cat/len(recos_user))\n",
    "        c_h_user = hellinger(interest_user, new_proportion).sum()\n",
    "        dict_key = {u:c_h_user}\n",
    "        dict_ch.update(dict_key)\n",
    "    return dict_ch"
   ]
  },
  {
   "cell_type": "code",
   "execution_count": 551,
   "metadata": {},
   "outputs": [],
   "source": [
    "# def calibration_hellinger_recos_target(recos, lambda_values, list_users, users_interest_df):\n",
    "#     dict_ch = {}\n",
    "#     for u in tqdm(list_users):\n",
    "#         interest_user = users_interest_df.loc[u].values.tolist()\n",
    "#         #get optimal lambda\n",
    "#         optimal_lambda = lambda_values.loc[u]['optimal_lambda']\n",
    "#         new_proportion = homogeneization(interest_user, param = optimal_lambda)\n",
    "#         recos_user = recos[recos['user_id']==u].reset_index(drop=True)\n",
    "#         distrib_categories = []\n",
    "#         for c in categories_list:\n",
    "#             prop_cat = len(recos_user[recos_user['category']==c])\n",
    "#             distrib_categories.append(prop_cat/len(recos_user))\n",
    "#         c_h_user = hellinger(distrib_categories, new_proportion).sum()\n",
    "#         dict_key = {u:c_h_user}\n",
    "#         dict_ch.update(dict_key)\n",
    "#     return dict_ch"
   ]
  },
  {
   "cell_type": "code",
   "execution_count": 249,
   "metadata": {},
   "outputs": [],
   "source": [
    "def get_all_results(results, test_set, users_list, interest, similarity_matrix, categories_list, name_parameters, k=10):\n",
    "    print('Pre-processing...')\n",
    "    results_categories = get_results_categories(results)  \n",
    "    results_ratings = ca.Ratings.from_dataframe(results)\n",
    "    test_ratings = ca.Ratings.from_dataframe(test_set)\n",
    "    print('OK!')\n",
    "    #Accuracy\n",
    "    print('Accuracy metrics...')\n",
    "    sys_results, users_results = get_performances(results_ratings, test_ratings, k=k)\n",
    "    print('OK!')\n",
    "    #Instantiate the dataframe with global results\n",
    "    eval_results_global = sys_results.reset_index().copy()\n",
    "    eval_results_global = eval_results_global[eval_results_global['user_id']=='sys - fold1']\n",
    "    eval_results_global['user_id']=[name_parameters]\n",
    "    eval_results_global = eval_results_global.rename(columns={'user_id':'a_value'})\n",
    "    eval_results_global = eval_results_global.set_index('a_value')\n",
    "    eval_results_global = eval_results_global.rename(columns={'Precision@10 - macro':'Precision', 'Recall@10 - macro':'Recall', 'F1@10 - macro':'F1 score', 'NDCG@10':'NDCG'})\n",
    "\n",
    "    #Instantiate the dataframe with individual results\n",
    "    eval_results_indiv = users_results.copy()\n",
    "    eval_results_indiv.index = eval_results_indiv.index.astype(int)\n",
    "    eval_results_indiv = eval_results_indiv.rename(columns={'Precision@10 - macro':'Precision', 'Recall@10 - macro':'Recall', 'F1@10 - macro':'F1 score', 'NDCG@10':'NDCG'})\n",
    "\n",
    "    print('ILS...')\n",
    "    #ILS\n",
    "    dict_ils = compute_ils(results, similarity_matrix, users_list)\n",
    "    eval_results_global['ILS'] = np.mean(list(dict_ils.values()))\n",
    "    eval_results_indiv['ILS'] = eval_results_indiv.index.map(dict_ils)\n",
    "    print('OK!')    \n",
    "    print('alpha NDCG')\n",
    "    #alpha-NDCG\n",
    "    dict_alpha_ndcg = alpha_ndcg(results_categories, users_list, interest, alpha=0.5, k=k)\n",
    "    eval_results_global['alpha_ndcg'] = np.mean(list(dict_alpha_ndcg.values()))\n",
    "    eval_results_indiv['alpha_ndcg'] = eval_results_indiv.index.map(dict_alpha_ndcg)\n",
    "    print('OK!')\n",
    "    print('NDCG IA')\n",
    "    #NDCG-IA\n",
    "    dict_ndcg_ia = ndcg_ia(results_categories, users_list, interest, k=k)\n",
    "    eval_results_global['ndcg_ia'] = np.mean(list(dict_ndcg_ia.values()))\n",
    "    eval_results_indiv['ndcg_ia'] = eval_results_indiv.index.map(dict_ndcg_ia)\n",
    "    print('OK!')\n",
    "    print('S-Recall')\n",
    "    #S-Recall\n",
    "    dict_srecall = s_recall(results_categories, users_list, categories_list, k=k)\n",
    "    eval_results_global['s_recall'] = np.mean(list(dict_srecall.values()))\n",
    "    eval_results_indiv['s_recall'] = eval_results_indiv.index.map(dict_srecall)\n",
    "    print('OK!')\n",
    "    print('Calibration KL')\n",
    "    #C_KL\n",
    "    dict_ckl = calibration_kl(results_categories, users_list, interest, categories_list, alpha=0.01)\n",
    "    eval_results_global['c_kl'] = np.mean(list(dict_ckl.values()))\n",
    "    eval_results_indiv['c_kl'] = eval_results_indiv.index.map(dict_ckl)\n",
    "    print('OK!')\n",
    "    print('Calibration Hellinger')\n",
    "    #C_KL\n",
    "    dict_ch = calibration_hellinger(results_categories, users_list, interest, categories_list)\n",
    "    eval_results_global['c_hell'] = np.mean(list(dict_ch.values()))\n",
    "    eval_results_indiv['c_hell'] = eval_results_indiv.index.map(dict_ch)\n",
    "    print('OK!')\n",
    "\n",
    "    eval_results_global.columns = ['Precision', 'Recall', 'F1-score', 'MRR', 'NDCG', 'ILS', 'alpha_ndcg', 'ndcg_ia', 's_recall', 'c_kl', 'c_hell']\n",
    "    eval_results_global = eval_results_global.round(3)\n",
    "\n",
    "    eval_results_indiv.columns = ['Precision', 'Recall', 'F1-score', 'NDCG', 'ILS', 'alpha_ndcg', 'ndcg_ia', 's_recall', 'c_kl', 'c_hell']\n",
    "    eval_results_indiv = eval_results_indiv.round(3)\n",
    "    \n",
    "    return eval_results_global, eval_results_indiv"
   ]
  },
  {
   "cell_type": "markdown",
   "metadata": {},
   "source": [
    "# Necessary data"
   ]
  },
  {
   "cell_type": "code",
   "execution_count": 158,
   "metadata": {},
   "outputs": [],
   "source": [
    "results_baseline_k20 = pd.read_csv('../../baseline/report_baseline_10k_cv_k20/CentroidVector_1/rs_rank_split0.csv')\n",
    "test_baseline_k20 = pd.read_csv('../../baseline/report_baseline_10k_cv_k20/HoldOutPartitioning_test_split0.csv')"
   ]
  },
  {
   "cell_type": "code",
   "execution_count": 172,
   "metadata": {},
   "outputs": [],
   "source": [
    "results_a_0_k20 = pd.read_csv('re_ranking_results/re_ranking/base/div_a_0_k20.csv')\n",
    "# results_a_0_k20 = results_a_0_k20[['user_id_init','item_id','score']].rename(columns={'user_id_init':'user_id'})\n",
    "results_a_0_k20 = results_a_0_k20[['user_id','item_id','score']]\n",
    "\n",
    "results_a_01_k20 = pd.read_csv('re_ranking_results/re_ranking/base/div_a_01_k20.csv')\n",
    "# results_a_01_k20 = results_a_01_k20[['user_id_init','item_id','score']].rename(columns={'user_id_init':'user_id'})\n",
    "results_a_01_k20 = results_a_01_k20[['user_id','item_id','score']]\n",
    "\n",
    "results_a_02_k20 = pd.read_csv('re_ranking_results/re_ranking/base/div_a_02_k20.csv')\n",
    "# results_a_02_k20 = results_a_02_k20[['user_id_init','item_id','score']].rename(columns={'user_id_init':'user_id'})\n",
    "results_a_02_k20 = results_a_02_k20[['user_id','item_id','score']]\n",
    "\n",
    "results_a_03_k20 = pd.read_csv('re_ranking_results/re_ranking/base/div_a_03_k20.csv')\n",
    "# results_a_03_k20 = results_a_03_k20[['user_id_init','item_id','score']].rename(columns={'user_id_init':'user_id'})\n",
    "results_a_03_k20 = results_a_03_k20[['user_id','item_id','score']]\n",
    "\n",
    "results_a_04_k20 = pd.read_csv('re_ranking_results/re_ranking/base/div_a_04_k20.csv')\n",
    "# results_a_04_k20 = results_a_04_k20[['user_id_init','item_id','score']].rename(columns={'user_id_init':'user_id'})\n",
    "results_a_04_k20 = results_a_04_k20[['user_id','item_id','score']]\n",
    "\n",
    "results_a_05_k20 = pd.read_csv('re_ranking_results/re_ranking/base/div_a_05_k20.csv')\n",
    "# results_a_05_k20 = results_a_05_k20[['user_id_init','item_id','score']].rename(columns={'user_id_init':'user_id'})\n",
    "results_a_05_k20 = results_a_05_k20[['user_id','item_id','score']]\n",
    "\n",
    "results_a_06_k20 = pd.read_csv('re_ranking_results/re_ranking/base/div_a_06_k20.csv')\n",
    "# results_a_06_k20 = results_a_06_k20[['user_id_init','item_id','score']].rename(columns={'user_id_init':'user_id'})\n",
    "results_a_06_k20 = results_a_06_k20[['user_id','item_id','score']]\n",
    "\n",
    "results_a_07_k20 = pd.read_csv('re_ranking_results/re_ranking/base/div_a_07_k20.csv')\n",
    "# results_a_07_k20 = results_a_07_k20[['user_id_init','item_id','score']].rename(columns={'user_id_init':'user_id'})\n",
    "results_a_07_k20 = results_a_07_k20[['user_id','item_id','score']]\n",
    "\n",
    "results_a_08_k20 = pd.read_csv('re_ranking_results/re_ranking/base/div_a_08_k20.csv')\n",
    "# results_a_08_k20 = results_a_08_k20[['user_id_init','item_id','score']].rename(columns={'user_id_init':'user_id'})\n",
    "results_a_08_k20 = results_a_08_k20[['user_id','item_id','score']]\n",
    "\n",
    "results_a_09_k20 = pd.read_csv('re_ranking_results/re_ranking/base/div_a_09_k20.csv')\n",
    "# results_a_09_k20 = results_a_09_k20[['user_id_init','item_id','score']].rename(columns={'user_id_init':'user_id'})\n",
    "results_a_09_k20 = results_a_09_k20[['user_id','item_id','score']]\n",
    "\n",
    "results_a_1_k20 = pd.read_csv('re_ranking_results/re_ranking/base/div_a_1_k20.csv')\n",
    "# results_a_1_k20 = results_a_1_k20[['user_id_init','item_id','score']].rename(columns={'user_id_init':'user_id'})\n",
    "results_a_1_k20 = results_a_1_k20[['user_id','item_id','score']]"
   ]
  },
  {
   "cell_type": "code",
   "execution_count": 277,
   "metadata": {},
   "outputs": [],
   "source": [
    "entropy_a0 = pd.read_csv('re_ranking_results/ADF/entropy/entropy_a_0_k20.csv', index_col=0)\n",
    "entropy_a01 = pd.read_csv('re_ranking_results/ADF/entropy/entropy_a_01_k20.csv', index_col=0)\n",
    "entropy_a02 = pd.read_csv('re_ranking_results/ADF/entropy/entropy_a_02_k20.csv', index_col=0)\n",
    "entropy_a03 = pd.read_csv('re_ranking_results/ADF/entropy/entropy_a_03_k20.csv', index_col=0)\n",
    "entropy_a04 = pd.read_csv('re_ranking_results/ADF/entropy/entropy_a_04_k20.csv', index_col=0)\n",
    "entropy_a05 = pd.read_csv('re_ranking_results/ADF/entropy/entropy_a_05_k20.csv', index_col=0)\n",
    "entropy_a06 = pd.read_csv('re_ranking_results/ADF/entropy/entropy_a_06_k20.csv', index_col=0)\n",
    "entropy_a07 = pd.read_csv('re_ranking_results/ADF/entropy/entropy_a_07_k20.csv', index_col=0)\n",
    "entropy_a08 = pd.read_csv('re_ranking_results/ADF/entropy/entropy_a_08_k20.csv', index_col=0)\n",
    "entropy_a09 = pd.read_csv('re_ranking_results/ADF/entropy/entropy_a_09_k20.csv', index_col=0)\n",
    "entropy_a1 = pd.read_csv('re_ranking_results/ADF/entropy/entropy_a_1_k20.csv', index_col=0)"
   ]
  },
  {
   "cell_type": "code",
   "execution_count": 174,
   "metadata": {},
   "outputs": [],
   "source": [
    "test_set = pd.read_csv('../../baseline/report_baseline_10k_cv_complete/HoldOutPartitioning_test_split0.csv')"
   ]
  },
  {
   "cell_type": "code",
   "execution_count": 23,
   "metadata": {},
   "outputs": [],
   "source": [
    "# test_set = pd.read_csv('../report_subprofiles_cv_10k/HoldOutPartitioning_test_split0.csv')\n",
    "# test_set['user_id_init'] = test_set['user_id'].str.split('-').str[0]\n",
    "# test_set = test_set[['user_id_init','item_id','score']].rename(columns={'user_id_init':'user_id'})"
   ]
  },
  {
   "cell_type": "code",
   "execution_count": 175,
   "metadata": {},
   "outputs": [],
   "source": [
    "users_list = [int(i) for i in test_set['user_id'].unique().tolist()]"
   ]
  },
  {
   "cell_type": "code",
   "execution_count": 25,
   "metadata": {},
   "outputs": [],
   "source": [
    "# News info\n",
    "news = pd.read_csv('../../thematic_clustering/lda_128_large/news_thematic_clustering_large_final.csv', index_col=0)"
   ]
  },
  {
   "cell_type": "code",
   "execution_count": 26,
   "metadata": {},
   "outputs": [],
   "source": [
    "news['cluster_hdbscan'] = news['cluster_hdbscan']+1"
   ]
  },
  {
   "cell_type": "code",
   "execution_count": 27,
   "metadata": {},
   "outputs": [],
   "source": [
    "# Embeddings df\n",
    "embeddings_lda_128 = pd.read_json('../../baseline/news_codified_lda_128/contents.json')\n",
    "embeddings_lda_128['lda_128#0'] = embeddings_lda_128['lda_128#0'].apply(ast.literal_eval)\n",
    "news_embeddings_lda = embeddings_to_df(embeddings_lda_128['lda_128#0'])\n",
    "news_embeddings_lda.index = embeddings_lda_128['content_id']"
   ]
  },
  {
   "cell_type": "code",
   "execution_count": 28,
   "metadata": {},
   "outputs": [],
   "source": [
    "users_interest = pd.read_csv('../categories_distribution_subprofiles_10k.csv', index_col=0)"
   ]
  },
  {
   "cell_type": "code",
   "execution_count": 29,
   "metadata": {},
   "outputs": [],
   "source": [
    "users_interest.columns = users_interest.columns.astype(int)"
   ]
  },
  {
   "cell_type": "code",
   "execution_count": 30,
   "metadata": {},
   "outputs": [],
   "source": [
    "similarity_matrix = pd.DataFrame(cosine_similarity(news_embeddings_lda))"
   ]
  },
  {
   "cell_type": "code",
   "execution_count": 31,
   "metadata": {},
   "outputs": [],
   "source": [
    "similarity_matrix.index = news_embeddings_lda.index.tolist()\n",
    "similarity_matrix.columns = news_embeddings_lda.index.tolist()"
   ]
  },
  {
   "cell_type": "code",
   "execution_count": 32,
   "metadata": {},
   "outputs": [],
   "source": [
    "categories_list = users_interest.columns.tolist()"
   ]
  },
  {
   "cell_type": "markdown",
   "metadata": {},
   "source": [
    "# BASELINE"
   ]
  },
  {
   "cell_type": "code",
   "execution_count": 141,
   "metadata": {},
   "outputs": [
    {
     "name": "stdout",
     "output_type": "stream",
     "text": [
      "Pre-processing...\n"
     ]
    },
    {
     "name": "stderr",
     "output_type": "stream",
     "text": [
      "\u001b[39mINFO\u001b[0m - Performing evaluation on metrics chosen\n"
     ]
    },
    {
     "name": "stdout",
     "output_type": "stream",
     "text": [
      "OK!\n",
      "Accuracy metrics...\n"
     ]
    },
    {
     "name": "stderr",
     "output_type": "stream",
     "text": [
      "Performing NDCG@20:  80%|████████  | 4/5 [02:16<00:35]             C:\\Users\\ctreuill.BIDOUILLE\\AppData\\Roaming\\Python\\Python39\\site-packages\\clayrs\\evaluation\\metrics\\ranking_metrics.py:205: RuntimeWarning: invalid value encountered in double_scalars\n",
      "  return actual / ideal\n",
      "Performing NDCG@20:  100%|██████████| 5/5 [02:55<00:00]\n"
     ]
    },
    {
     "name": "stdout",
     "output_type": "stream",
     "text": [
      "OK!\n",
      "ILS...\n"
     ]
    },
    {
     "name": "stderr",
     "output_type": "stream",
     "text": [
      "100%|██████████| 10000/10000 [02:05<00:00, 79.56it/s]\n"
     ]
    },
    {
     "name": "stdout",
     "output_type": "stream",
     "text": [
      "OK!\n",
      "alpha NDCG\n"
     ]
    },
    {
     "name": "stderr",
     "output_type": "stream",
     "text": [
      "100%|██████████| 10000/10000 [00:20<00:00, 477.66it/s]\n"
     ]
    },
    {
     "name": "stdout",
     "output_type": "stream",
     "text": [
      "OK!\n",
      "NDCG IA\n"
     ]
    },
    {
     "name": "stderr",
     "output_type": "stream",
     "text": [
      "100%|██████████| 10000/10000 [00:27<00:00, 369.33it/s]\n"
     ]
    },
    {
     "name": "stdout",
     "output_type": "stream",
     "text": [
      "OK!\n",
      "S-Recall\n"
     ]
    },
    {
     "name": "stderr",
     "output_type": "stream",
     "text": [
      "100%|██████████| 10000/10000 [00:10<00:00, 909.19it/s]\n"
     ]
    },
    {
     "name": "stdout",
     "output_type": "stream",
     "text": [
      "OK!\n",
      "Calibration KL\n"
     ]
    },
    {
     "name": "stderr",
     "output_type": "stream",
     "text": [
      "100%|██████████| 10000/10000 [00:59<00:00, 167.93it/s]\n"
     ]
    },
    {
     "name": "stdout",
     "output_type": "stream",
     "text": [
      "OK!\n",
      "Calibration Hellinger\n"
     ]
    },
    {
     "name": "stderr",
     "output_type": "stream",
     "text": [
      "100%|██████████| 10000/10000 [00:49<00:00, 204.05it/s]"
     ]
    },
    {
     "name": "stdout",
     "output_type": "stream",
     "text": [
      "OK!\n"
     ]
    },
    {
     "name": "stderr",
     "output_type": "stream",
     "text": [
      "\n"
     ]
    }
   ],
   "source": [
    "eval_baseline_k20_global, eval_baseline_k20_ind = get_all_results(results_baseline_k20, test_baseline_k20, users_list, users_interest, similarity_matrix, categories_list, 'baseline_k20', k=20)"
   ]
  },
  {
   "cell_type": "code",
   "execution_count": 539,
   "metadata": {},
   "outputs": [],
   "source": [
    "eval_baseline_k20_ind.to_csv('results_perfs/baseline/indiv/ind_baseline.cvs')"
   ]
  },
  {
   "cell_type": "markdown",
   "metadata": {},
   "source": [
    "# All results ADF"
   ]
  },
  {
   "cell_type": "markdown",
   "metadata": {},
   "source": [
    "## Compute performances"
   ]
  },
  {
   "cell_type": "code",
   "execution_count": 450,
   "metadata": {},
   "outputs": [
    {
     "name": "stdout",
     "output_type": "stream",
     "text": [
      "Pre-processing...\n"
     ]
    },
    {
     "name": "stderr",
     "output_type": "stream",
     "text": [
      "\u001b[39mINFO\u001b[0m - Performing evaluation on metrics chosen\n"
     ]
    },
    {
     "name": "stdout",
     "output_type": "stream",
     "text": [
      "OK!\n",
      "Accuracy metrics...\n"
     ]
    },
    {
     "name": "stderr",
     "output_type": "stream",
     "text": [
      "Performing NDCG@20:  80%|████████  | 4/5 [01:23<00:20]             C:\\Users\\ctreuill.BIDOUILLE\\AppData\\Roaming\\Python\\Python39\\site-packages\\clayrs\\evaluation\\metrics\\ranking_metrics.py:205: RuntimeWarning: invalid value encountered in double_scalars\n",
      "  return actual / ideal\n",
      "Performing NDCG@20:  100%|██████████| 5/5 [01:43<00:00]\n"
     ]
    },
    {
     "name": "stdout",
     "output_type": "stream",
     "text": [
      "OK!\n",
      "ILS...\n"
     ]
    },
    {
     "name": "stderr",
     "output_type": "stream",
     "text": [
      "100%|██████████| 10000/10000 [01:40<00:00, 99.56it/s]\n"
     ]
    },
    {
     "name": "stdout",
     "output_type": "stream",
     "text": [
      "OK!\n",
      "alpha NDCG\n"
     ]
    },
    {
     "name": "stderr",
     "output_type": "stream",
     "text": [
      "100%|██████████| 10000/10000 [00:18<00:00, 551.35it/s]\n"
     ]
    },
    {
     "name": "stdout",
     "output_type": "stream",
     "text": [
      "OK!\n",
      "NDCG IA\n"
     ]
    },
    {
     "name": "stderr",
     "output_type": "stream",
     "text": [
      "100%|██████████| 10000/10000 [00:17<00:00, 571.46it/s]\n"
     ]
    },
    {
     "name": "stdout",
     "output_type": "stream",
     "text": [
      "OK!\n",
      "S-Recall\n"
     ]
    },
    {
     "name": "stderr",
     "output_type": "stream",
     "text": [
      "100%|██████████| 10000/10000 [00:07<00:00, 1342.92it/s]\n"
     ]
    },
    {
     "name": "stdout",
     "output_type": "stream",
     "text": [
      "OK!\n",
      "Calibration KL\n"
     ]
    },
    {
     "name": "stderr",
     "output_type": "stream",
     "text": [
      "100%|██████████| 10000/10000 [00:36<00:00, 270.62it/s]\n"
     ]
    },
    {
     "name": "stdout",
     "output_type": "stream",
     "text": [
      "OK!\n",
      "Calibration Hellinger\n"
     ]
    },
    {
     "name": "stderr",
     "output_type": "stream",
     "text": [
      "100%|██████████| 10000/10000 [00:39<00:00, 252.48it/s]\n"
     ]
    },
    {
     "name": "stdout",
     "output_type": "stream",
     "text": [
      "OK!\n",
      "Pre-processing...\n"
     ]
    },
    {
     "name": "stderr",
     "output_type": "stream",
     "text": [
      "\u001b[39mINFO\u001b[0m - Performing evaluation on metrics chosen\n"
     ]
    },
    {
     "name": "stdout",
     "output_type": "stream",
     "text": [
      "OK!\n",
      "Accuracy metrics...\n"
     ]
    },
    {
     "name": "stderr",
     "output_type": "stream",
     "text": [
      "Performing NDCG@20:  80%|████████  | 4/5 [01:06<00:16]             C:\\Users\\ctreuill.BIDOUILLE\\AppData\\Roaming\\Python\\Python39\\site-packages\\clayrs\\evaluation\\metrics\\ranking_metrics.py:205: RuntimeWarning: invalid value encountered in double_scalars\n",
      "  return actual / ideal\n",
      "Performing NDCG@20:  100%|██████████| 5/5 [01:24<00:00]\n"
     ]
    },
    {
     "name": "stdout",
     "output_type": "stream",
     "text": [
      "OK!\n",
      "ILS...\n"
     ]
    },
    {
     "name": "stderr",
     "output_type": "stream",
     "text": [
      "100%|██████████| 10000/10000 [01:14<00:00, 133.48it/s]\n"
     ]
    },
    {
     "name": "stdout",
     "output_type": "stream",
     "text": [
      "OK!\n",
      "alpha NDCG\n"
     ]
    },
    {
     "name": "stderr",
     "output_type": "stream",
     "text": [
      "100%|██████████| 10000/10000 [00:13<00:00, 718.31it/s]\n"
     ]
    },
    {
     "name": "stdout",
     "output_type": "stream",
     "text": [
      "OK!\n",
      "NDCG IA\n"
     ]
    },
    {
     "name": "stderr",
     "output_type": "stream",
     "text": [
      "100%|██████████| 10000/10000 [00:17<00:00, 573.91it/s]\n"
     ]
    },
    {
     "name": "stdout",
     "output_type": "stream",
     "text": [
      "OK!\n",
      "S-Recall\n"
     ]
    },
    {
     "name": "stderr",
     "output_type": "stream",
     "text": [
      "100%|██████████| 10000/10000 [00:06<00:00, 1507.73it/s]\n"
     ]
    },
    {
     "name": "stdout",
     "output_type": "stream",
     "text": [
      "OK!\n",
      "Calibration KL\n"
     ]
    },
    {
     "name": "stderr",
     "output_type": "stream",
     "text": [
      "100%|██████████| 10000/10000 [00:35<00:00, 278.13it/s]\n"
     ]
    },
    {
     "name": "stdout",
     "output_type": "stream",
     "text": [
      "OK!\n",
      "Calibration Hellinger\n"
     ]
    },
    {
     "name": "stderr",
     "output_type": "stream",
     "text": [
      "100%|██████████| 10000/10000 [00:36<00:00, 276.72it/s]\n"
     ]
    },
    {
     "name": "stdout",
     "output_type": "stream",
     "text": [
      "OK!\n",
      "Pre-processing...\n"
     ]
    },
    {
     "name": "stderr",
     "output_type": "stream",
     "text": [
      "\u001b[39mINFO\u001b[0m - Performing evaluation on metrics chosen\n"
     ]
    },
    {
     "name": "stdout",
     "output_type": "stream",
     "text": [
      "OK!\n",
      "Accuracy metrics...\n"
     ]
    },
    {
     "name": "stderr",
     "output_type": "stream",
     "text": [
      "Performing NDCG@20:  80%|████████  | 4/5 [01:06<00:16]             C:\\Users\\ctreuill.BIDOUILLE\\AppData\\Roaming\\Python\\Python39\\site-packages\\clayrs\\evaluation\\metrics\\ranking_metrics.py:205: RuntimeWarning: invalid value encountered in double_scalars\n",
      "  return actual / ideal\n",
      "Performing NDCG@20:  100%|██████████| 5/5 [01:23<00:00]\n"
     ]
    },
    {
     "name": "stdout",
     "output_type": "stream",
     "text": [
      "OK!\n",
      "ILS...\n"
     ]
    },
    {
     "name": "stderr",
     "output_type": "stream",
     "text": [
      "100%|██████████| 10000/10000 [01:12<00:00, 137.98it/s]\n"
     ]
    },
    {
     "name": "stdout",
     "output_type": "stream",
     "text": [
      "OK!\n",
      "alpha NDCG\n"
     ]
    },
    {
     "name": "stderr",
     "output_type": "stream",
     "text": [
      "100%|██████████| 10000/10000 [00:13<00:00, 726.76it/s]\n"
     ]
    },
    {
     "name": "stdout",
     "output_type": "stream",
     "text": [
      "OK!\n",
      "NDCG IA\n"
     ]
    },
    {
     "name": "stderr",
     "output_type": "stream",
     "text": [
      "100%|██████████| 10000/10000 [00:17<00:00, 565.93it/s]\n"
     ]
    },
    {
     "name": "stdout",
     "output_type": "stream",
     "text": [
      "OK!\n",
      "S-Recall\n"
     ]
    },
    {
     "name": "stderr",
     "output_type": "stream",
     "text": [
      "100%|██████████| 10000/10000 [00:08<00:00, 1178.12it/s]\n"
     ]
    },
    {
     "name": "stdout",
     "output_type": "stream",
     "text": [
      "OK!\n",
      "Calibration KL\n"
     ]
    },
    {
     "name": "stderr",
     "output_type": "stream",
     "text": [
      "100%|██████████| 10000/10000 [00:39<00:00, 254.53it/s]\n"
     ]
    },
    {
     "name": "stdout",
     "output_type": "stream",
     "text": [
      "OK!\n",
      "Calibration Hellinger\n"
     ]
    },
    {
     "name": "stderr",
     "output_type": "stream",
     "text": [
      "100%|██████████| 10000/10000 [00:41<00:00, 242.61it/s]\n"
     ]
    },
    {
     "name": "stdout",
     "output_type": "stream",
     "text": [
      "OK!\n",
      "Pre-processing...\n"
     ]
    },
    {
     "name": "stderr",
     "output_type": "stream",
     "text": [
      "\u001b[39mINFO\u001b[0m - Performing evaluation on metrics chosen\n"
     ]
    },
    {
     "name": "stdout",
     "output_type": "stream",
     "text": [
      "OK!\n",
      "Accuracy metrics...\n"
     ]
    },
    {
     "name": "stderr",
     "output_type": "stream",
     "text": [
      "Performing NDCG@20:  80%|████████  | 4/5 [01:16<00:19]             C:\\Users\\ctreuill.BIDOUILLE\\AppData\\Roaming\\Python\\Python39\\site-packages\\clayrs\\evaluation\\metrics\\ranking_metrics.py:205: RuntimeWarning: invalid value encountered in double_scalars\n",
      "  return actual / ideal\n",
      "Performing NDCG@20:  100%|██████████| 5/5 [01:35<00:00]\n"
     ]
    },
    {
     "name": "stdout",
     "output_type": "stream",
     "text": [
      "OK!\n",
      "ILS...\n"
     ]
    },
    {
     "name": "stderr",
     "output_type": "stream",
     "text": [
      "100%|██████████| 10000/10000 [01:36<00:00, 103.53it/s]\n"
     ]
    },
    {
     "name": "stdout",
     "output_type": "stream",
     "text": [
      "OK!\n",
      "alpha NDCG\n"
     ]
    },
    {
     "name": "stderr",
     "output_type": "stream",
     "text": [
      "100%|██████████| 10000/10000 [00:19<00:00, 514.92it/s]\n"
     ]
    },
    {
     "name": "stdout",
     "output_type": "stream",
     "text": [
      "OK!\n",
      "NDCG IA\n"
     ]
    },
    {
     "name": "stderr",
     "output_type": "stream",
     "text": [
      "100%|██████████| 10000/10000 [00:24<00:00, 403.81it/s]\n"
     ]
    },
    {
     "name": "stdout",
     "output_type": "stream",
     "text": [
      "OK!\n",
      "S-Recall\n"
     ]
    },
    {
     "name": "stderr",
     "output_type": "stream",
     "text": [
      "100%|██████████| 10000/10000 [00:10<00:00, 921.00it/s]\n"
     ]
    },
    {
     "name": "stdout",
     "output_type": "stream",
     "text": [
      "OK!\n",
      "Calibration KL\n"
     ]
    },
    {
     "name": "stderr",
     "output_type": "stream",
     "text": [
      "100%|██████████| 10000/10000 [00:52<00:00, 190.09it/s]\n"
     ]
    },
    {
     "name": "stdout",
     "output_type": "stream",
     "text": [
      "OK!\n",
      "Calibration Hellinger\n"
     ]
    },
    {
     "name": "stderr",
     "output_type": "stream",
     "text": [
      "100%|██████████| 10000/10000 [00:53<00:00, 185.35it/s]\n"
     ]
    },
    {
     "name": "stdout",
     "output_type": "stream",
     "text": [
      "OK!\n",
      "Pre-processing...\n"
     ]
    },
    {
     "name": "stderr",
     "output_type": "stream",
     "text": [
      "\u001b[39mINFO\u001b[0m - Performing evaluation on metrics chosen\n"
     ]
    },
    {
     "name": "stdout",
     "output_type": "stream",
     "text": [
      "OK!\n",
      "Accuracy metrics...\n"
     ]
    },
    {
     "name": "stderr",
     "output_type": "stream",
     "text": [
      "Performing NDCG@20:  80%|████████  | 4/5 [01:26<00:21]             C:\\Users\\ctreuill.BIDOUILLE\\AppData\\Roaming\\Python\\Python39\\site-packages\\clayrs\\evaluation\\metrics\\ranking_metrics.py:205: RuntimeWarning: invalid value encountered in double_scalars\n",
      "  return actual / ideal\n",
      "Performing NDCG@20:  100%|██████████| 5/5 [01:47<00:00]\n"
     ]
    },
    {
     "name": "stdout",
     "output_type": "stream",
     "text": [
      "OK!\n",
      "ILS...\n"
     ]
    },
    {
     "name": "stderr",
     "output_type": "stream",
     "text": [
      "100%|██████████| 10000/10000 [01:29<00:00, 112.04it/s]\n"
     ]
    },
    {
     "name": "stdout",
     "output_type": "stream",
     "text": [
      "OK!\n",
      "alpha NDCG\n"
     ]
    },
    {
     "name": "stderr",
     "output_type": "stream",
     "text": [
      "100%|██████████| 10000/10000 [00:17<00:00, 587.03it/s]\n"
     ]
    },
    {
     "name": "stdout",
     "output_type": "stream",
     "text": [
      "OK!\n",
      "NDCG IA\n"
     ]
    },
    {
     "name": "stderr",
     "output_type": "stream",
     "text": [
      "100%|██████████| 10000/10000 [00:22<00:00, 441.60it/s]\n"
     ]
    },
    {
     "name": "stdout",
     "output_type": "stream",
     "text": [
      "OK!\n",
      "S-Recall\n"
     ]
    },
    {
     "name": "stderr",
     "output_type": "stream",
     "text": [
      "100%|██████████| 10000/10000 [00:09<00:00, 1024.28it/s]\n"
     ]
    },
    {
     "name": "stdout",
     "output_type": "stream",
     "text": [
      "OK!\n",
      "Calibration KL\n"
     ]
    },
    {
     "name": "stderr",
     "output_type": "stream",
     "text": [
      "100%|██████████| 10000/10000 [00:53<00:00, 185.59it/s]\n"
     ]
    },
    {
     "name": "stdout",
     "output_type": "stream",
     "text": [
      "OK!\n",
      "Calibration Hellinger\n"
     ]
    },
    {
     "name": "stderr",
     "output_type": "stream",
     "text": [
      "100%|██████████| 10000/10000 [00:52<00:00, 191.34it/s]\n"
     ]
    },
    {
     "name": "stdout",
     "output_type": "stream",
     "text": [
      "OK!\n",
      "Pre-processing...\n"
     ]
    },
    {
     "name": "stderr",
     "output_type": "stream",
     "text": [
      "\u001b[39mINFO\u001b[0m - Performing evaluation on metrics chosen\n"
     ]
    },
    {
     "name": "stdout",
     "output_type": "stream",
     "text": [
      "OK!\n",
      "Accuracy metrics...\n"
     ]
    },
    {
     "name": "stderr",
     "output_type": "stream",
     "text": [
      "Performing NDCG@20:  80%|████████  | 4/5 [01:25<00:21]             C:\\Users\\ctreuill.BIDOUILLE\\AppData\\Roaming\\Python\\Python39\\site-packages\\clayrs\\evaluation\\metrics\\ranking_metrics.py:205: RuntimeWarning: invalid value encountered in double_scalars\n",
      "  return actual / ideal\n",
      "Performing NDCG@20:  100%|██████████| 5/5 [01:47<00:00]\n"
     ]
    },
    {
     "name": "stdout",
     "output_type": "stream",
     "text": [
      "OK!\n",
      "ILS...\n"
     ]
    },
    {
     "name": "stderr",
     "output_type": "stream",
     "text": [
      "100%|██████████| 10000/10000 [01:26<00:00, 115.75it/s]\n"
     ]
    },
    {
     "name": "stdout",
     "output_type": "stream",
     "text": [
      "OK!\n",
      "alpha NDCG\n"
     ]
    },
    {
     "name": "stderr",
     "output_type": "stream",
     "text": [
      "100%|██████████| 10000/10000 [00:17<00:00, 577.66it/s]\n"
     ]
    },
    {
     "name": "stdout",
     "output_type": "stream",
     "text": [
      "OK!\n",
      "NDCG IA\n"
     ]
    },
    {
     "name": "stderr",
     "output_type": "stream",
     "text": [
      "100%|██████████| 10000/10000 [00:22<00:00, 439.11it/s]\n"
     ]
    },
    {
     "name": "stdout",
     "output_type": "stream",
     "text": [
      "OK!\n",
      "S-Recall\n"
     ]
    },
    {
     "name": "stderr",
     "output_type": "stream",
     "text": [
      "100%|██████████| 10000/10000 [00:10<00:00, 973.59it/s]\n"
     ]
    },
    {
     "name": "stdout",
     "output_type": "stream",
     "text": [
      "OK!\n",
      "Calibration KL\n"
     ]
    },
    {
     "name": "stderr",
     "output_type": "stream",
     "text": [
      "100%|██████████| 10000/10000 [00:51<00:00, 193.09it/s]\n"
     ]
    },
    {
     "name": "stdout",
     "output_type": "stream",
     "text": [
      "OK!\n",
      "Calibration Hellinger\n"
     ]
    },
    {
     "name": "stderr",
     "output_type": "stream",
     "text": [
      "100%|██████████| 10000/10000 [00:51<00:00, 192.74it/s]\n"
     ]
    },
    {
     "name": "stdout",
     "output_type": "stream",
     "text": [
      "OK!\n",
      "Pre-processing...\n"
     ]
    },
    {
     "name": "stderr",
     "output_type": "stream",
     "text": [
      "\u001b[39mINFO\u001b[0m - Performing evaluation on metrics chosen\n"
     ]
    },
    {
     "name": "stdout",
     "output_type": "stream",
     "text": [
      "OK!\n",
      "Accuracy metrics...\n"
     ]
    },
    {
     "name": "stderr",
     "output_type": "stream",
     "text": [
      "Performing NDCG@20:  80%|████████  | 4/5 [01:26<00:21]             C:\\Users\\ctreuill.BIDOUILLE\\AppData\\Roaming\\Python\\Python39\\site-packages\\clayrs\\evaluation\\metrics\\ranking_metrics.py:205: RuntimeWarning: invalid value encountered in double_scalars\n",
      "  return actual / ideal\n",
      "Performing NDCG@20:  100%|██████████| 5/5 [01:47<00:00]\n"
     ]
    },
    {
     "name": "stdout",
     "output_type": "stream",
     "text": [
      "OK!\n",
      "ILS...\n"
     ]
    },
    {
     "name": "stderr",
     "output_type": "stream",
     "text": [
      "100%|██████████| 10000/10000 [01:28<00:00, 113.21it/s]\n"
     ]
    },
    {
     "name": "stdout",
     "output_type": "stream",
     "text": [
      "OK!\n",
      "alpha NDCG\n"
     ]
    },
    {
     "name": "stderr",
     "output_type": "stream",
     "text": [
      "100%|██████████| 10000/10000 [00:17<00:00, 566.20it/s]\n"
     ]
    },
    {
     "name": "stdout",
     "output_type": "stream",
     "text": [
      "OK!\n",
      "NDCG IA\n"
     ]
    },
    {
     "name": "stderr",
     "output_type": "stream",
     "text": [
      "100%|██████████| 10000/10000 [00:23<00:00, 421.91it/s]\n"
     ]
    },
    {
     "name": "stdout",
     "output_type": "stream",
     "text": [
      "OK!\n",
      "S-Recall\n"
     ]
    },
    {
     "name": "stderr",
     "output_type": "stream",
     "text": [
      "100%|██████████| 10000/10000 [00:10<00:00, 927.57it/s]\n"
     ]
    },
    {
     "name": "stdout",
     "output_type": "stream",
     "text": [
      "OK!\n",
      "Calibration KL\n"
     ]
    },
    {
     "name": "stderr",
     "output_type": "stream",
     "text": [
      "100%|██████████| 10000/10000 [00:52<00:00, 191.93it/s]\n"
     ]
    },
    {
     "name": "stdout",
     "output_type": "stream",
     "text": [
      "OK!\n",
      "Calibration Hellinger\n"
     ]
    },
    {
     "name": "stderr",
     "output_type": "stream",
     "text": [
      "100%|██████████| 10000/10000 [00:52<00:00, 190.17it/s]\n"
     ]
    },
    {
     "name": "stdout",
     "output_type": "stream",
     "text": [
      "OK!\n",
      "Pre-processing...\n"
     ]
    },
    {
     "name": "stderr",
     "output_type": "stream",
     "text": [
      "\u001b[39mINFO\u001b[0m - Performing evaluation on metrics chosen\n"
     ]
    },
    {
     "name": "stdout",
     "output_type": "stream",
     "text": [
      "OK!\n",
      "Accuracy metrics...\n"
     ]
    },
    {
     "name": "stderr",
     "output_type": "stream",
     "text": [
      "Performing NDCG@20:  80%|████████  | 4/5 [01:27<00:21]             C:\\Users\\ctreuill.BIDOUILLE\\AppData\\Roaming\\Python\\Python39\\site-packages\\clayrs\\evaluation\\metrics\\ranking_metrics.py:205: RuntimeWarning: invalid value encountered in double_scalars\n",
      "  return actual / ideal\n",
      "Performing NDCG@20:  100%|██████████| 5/5 [01:48<00:00]\n"
     ]
    },
    {
     "name": "stdout",
     "output_type": "stream",
     "text": [
      "OK!\n",
      "ILS...\n"
     ]
    },
    {
     "name": "stderr",
     "output_type": "stream",
     "text": [
      "100%|██████████| 10000/10000 [01:27<00:00, 113.94it/s]\n"
     ]
    },
    {
     "name": "stdout",
     "output_type": "stream",
     "text": [
      "OK!\n",
      "alpha NDCG\n"
     ]
    },
    {
     "name": "stderr",
     "output_type": "stream",
     "text": [
      "100%|██████████| 10000/10000 [00:17<00:00, 571.65it/s]\n"
     ]
    },
    {
     "name": "stdout",
     "output_type": "stream",
     "text": [
      "OK!\n",
      "NDCG IA\n"
     ]
    },
    {
     "name": "stderr",
     "output_type": "stream",
     "text": [
      "100%|██████████| 10000/10000 [00:23<00:00, 433.77it/s]\n"
     ]
    },
    {
     "name": "stdout",
     "output_type": "stream",
     "text": [
      "OK!\n",
      "S-Recall\n"
     ]
    },
    {
     "name": "stderr",
     "output_type": "stream",
     "text": [
      "100%|██████████| 10000/10000 [00:10<00:00, 988.39it/s]\n"
     ]
    },
    {
     "name": "stdout",
     "output_type": "stream",
     "text": [
      "OK!\n",
      "Calibration KL\n"
     ]
    },
    {
     "name": "stderr",
     "output_type": "stream",
     "text": [
      "100%|██████████| 10000/10000 [00:52<00:00, 192.02it/s]\n"
     ]
    },
    {
     "name": "stdout",
     "output_type": "stream",
     "text": [
      "OK!\n",
      "Calibration Hellinger\n"
     ]
    },
    {
     "name": "stderr",
     "output_type": "stream",
     "text": [
      "100%|██████████| 10000/10000 [00:52<00:00, 191.56it/s]\n"
     ]
    },
    {
     "name": "stdout",
     "output_type": "stream",
     "text": [
      "OK!\n",
      "Pre-processing...\n"
     ]
    },
    {
     "name": "stderr",
     "output_type": "stream",
     "text": [
      "\u001b[39mINFO\u001b[0m - Performing evaluation on metrics chosen\n"
     ]
    },
    {
     "name": "stdout",
     "output_type": "stream",
     "text": [
      "OK!\n",
      "Accuracy metrics...\n"
     ]
    },
    {
     "name": "stderr",
     "output_type": "stream",
     "text": [
      "Performing NDCG@20:  80%|████████  | 4/5 [01:26<00:21]             C:\\Users\\ctreuill.BIDOUILLE\\AppData\\Roaming\\Python\\Python39\\site-packages\\clayrs\\evaluation\\metrics\\ranking_metrics.py:205: RuntimeWarning: invalid value encountered in double_scalars\n",
      "  return actual / ideal\n",
      "Performing NDCG@20:  100%|██████████| 5/5 [01:48<00:00]\n"
     ]
    },
    {
     "name": "stdout",
     "output_type": "stream",
     "text": [
      "OK!\n",
      "ILS...\n"
     ]
    },
    {
     "name": "stderr",
     "output_type": "stream",
     "text": [
      "100%|██████████| 10000/10000 [01:26<00:00, 115.54it/s]\n"
     ]
    },
    {
     "name": "stdout",
     "output_type": "stream",
     "text": [
      "OK!\n",
      "alpha NDCG\n"
     ]
    },
    {
     "name": "stderr",
     "output_type": "stream",
     "text": [
      "100%|██████████| 10000/10000 [00:17<00:00, 555.91it/s]\n"
     ]
    },
    {
     "name": "stdout",
     "output_type": "stream",
     "text": [
      "OK!\n",
      "NDCG IA\n"
     ]
    },
    {
     "name": "stderr",
     "output_type": "stream",
     "text": [
      "100%|██████████| 10000/10000 [00:23<00:00, 432.04it/s]\n"
     ]
    },
    {
     "name": "stdout",
     "output_type": "stream",
     "text": [
      "OK!\n",
      "S-Recall\n"
     ]
    },
    {
     "name": "stderr",
     "output_type": "stream",
     "text": [
      "100%|██████████| 10000/10000 [00:10<00:00, 990.85it/s]\n"
     ]
    },
    {
     "name": "stdout",
     "output_type": "stream",
     "text": [
      "OK!\n",
      "Calibration KL\n"
     ]
    },
    {
     "name": "stderr",
     "output_type": "stream",
     "text": [
      "100%|██████████| 10000/10000 [00:52<00:00, 190.45it/s]\n"
     ]
    },
    {
     "name": "stdout",
     "output_type": "stream",
     "text": [
      "OK!\n",
      "Calibration Hellinger\n"
     ]
    },
    {
     "name": "stderr",
     "output_type": "stream",
     "text": [
      "100%|██████████| 10000/10000 [00:53<00:00, 187.13it/s]\n"
     ]
    },
    {
     "name": "stdout",
     "output_type": "stream",
     "text": [
      "OK!\n",
      "Pre-processing...\n"
     ]
    },
    {
     "name": "stderr",
     "output_type": "stream",
     "text": [
      "\u001b[39mINFO\u001b[0m - Performing evaluation on metrics chosen\n"
     ]
    },
    {
     "name": "stdout",
     "output_type": "stream",
     "text": [
      "OK!\n",
      "Accuracy metrics...\n"
     ]
    },
    {
     "name": "stderr",
     "output_type": "stream",
     "text": [
      "Performing NDCG@20:  80%|████████  | 4/5 [01:28<00:22]             C:\\Users\\ctreuill.BIDOUILLE\\AppData\\Roaming\\Python\\Python39\\site-packages\\clayrs\\evaluation\\metrics\\ranking_metrics.py:205: RuntimeWarning: invalid value encountered in double_scalars\n",
      "  return actual / ideal\n",
      "Performing NDCG@20:  100%|██████████| 5/5 [01:50<00:00]\n"
     ]
    },
    {
     "name": "stdout",
     "output_type": "stream",
     "text": [
      "OK!\n",
      "ILS...\n"
     ]
    },
    {
     "name": "stderr",
     "output_type": "stream",
     "text": [
      "100%|██████████| 10000/10000 [01:25<00:00, 116.36it/s]\n"
     ]
    },
    {
     "name": "stdout",
     "output_type": "stream",
     "text": [
      "OK!\n",
      "alpha NDCG\n"
     ]
    },
    {
     "name": "stderr",
     "output_type": "stream",
     "text": [
      "100%|██████████| 10000/10000 [00:17<00:00, 583.04it/s]\n"
     ]
    },
    {
     "name": "stdout",
     "output_type": "stream",
     "text": [
      "OK!\n",
      "NDCG IA\n"
     ]
    },
    {
     "name": "stderr",
     "output_type": "stream",
     "text": [
      "100%|██████████| 10000/10000 [00:25<00:00, 390.63it/s]\n"
     ]
    },
    {
     "name": "stdout",
     "output_type": "stream",
     "text": [
      "OK!\n",
      "S-Recall\n"
     ]
    },
    {
     "name": "stderr",
     "output_type": "stream",
     "text": [
      "100%|██████████| 10000/10000 [00:10<00:00, 986.46it/s]\n"
     ]
    },
    {
     "name": "stdout",
     "output_type": "stream",
     "text": [
      "OK!\n",
      "Calibration KL\n"
     ]
    },
    {
     "name": "stderr",
     "output_type": "stream",
     "text": [
      "100%|██████████| 10000/10000 [00:51<00:00, 193.73it/s]\n"
     ]
    },
    {
     "name": "stdout",
     "output_type": "stream",
     "text": [
      "OK!\n",
      "Calibration Hellinger\n"
     ]
    },
    {
     "name": "stderr",
     "output_type": "stream",
     "text": [
      "100%|██████████| 10000/10000 [00:55<00:00, 181.30it/s]\n"
     ]
    },
    {
     "name": "stdout",
     "output_type": "stream",
     "text": [
      "OK!\n",
      "Pre-processing...\n"
     ]
    },
    {
     "name": "stderr",
     "output_type": "stream",
     "text": [
      "\u001b[39mINFO\u001b[0m - Performing evaluation on metrics chosen\n"
     ]
    },
    {
     "name": "stdout",
     "output_type": "stream",
     "text": [
      "OK!\n",
      "Accuracy metrics...\n"
     ]
    },
    {
     "name": "stderr",
     "output_type": "stream",
     "text": [
      "Performing NDCG@20:  80%|████████  | 4/5 [01:26<00:21]             C:\\Users\\ctreuill.BIDOUILLE\\AppData\\Roaming\\Python\\Python39\\site-packages\\clayrs\\evaluation\\metrics\\ranking_metrics.py:205: RuntimeWarning: invalid value encountered in double_scalars\n",
      "  return actual / ideal\n",
      "Performing NDCG@20:  100%|██████████| 5/5 [01:48<00:00]\n"
     ]
    },
    {
     "name": "stdout",
     "output_type": "stream",
     "text": [
      "OK!\n",
      "ILS...\n"
     ]
    },
    {
     "name": "stderr",
     "output_type": "stream",
     "text": [
      "100%|██████████| 10000/10000 [01:26<00:00, 115.35it/s]\n"
     ]
    },
    {
     "name": "stdout",
     "output_type": "stream",
     "text": [
      "OK!\n",
      "alpha NDCG\n"
     ]
    },
    {
     "name": "stderr",
     "output_type": "stream",
     "text": [
      "100%|██████████| 10000/10000 [00:17<00:00, 578.17it/s]\n"
     ]
    },
    {
     "name": "stdout",
     "output_type": "stream",
     "text": [
      "OK!\n",
      "NDCG IA\n"
     ]
    },
    {
     "name": "stderr",
     "output_type": "stream",
     "text": [
      "100%|██████████| 10000/10000 [00:22<00:00, 436.86it/s]\n"
     ]
    },
    {
     "name": "stdout",
     "output_type": "stream",
     "text": [
      "OK!\n",
      "S-Recall\n"
     ]
    },
    {
     "name": "stderr",
     "output_type": "stream",
     "text": [
      "100%|██████████| 10000/10000 [00:10<00:00, 929.09it/s]\n"
     ]
    },
    {
     "name": "stdout",
     "output_type": "stream",
     "text": [
      "OK!\n",
      "Calibration KL\n"
     ]
    },
    {
     "name": "stderr",
     "output_type": "stream",
     "text": [
      "100%|██████████| 10000/10000 [00:51<00:00, 192.83it/s]\n"
     ]
    },
    {
     "name": "stdout",
     "output_type": "stream",
     "text": [
      "OK!\n",
      "Calibration Hellinger\n"
     ]
    },
    {
     "name": "stderr",
     "output_type": "stream",
     "text": [
      "100%|██████████| 10000/10000 [00:52<00:00, 190.90it/s]"
     ]
    },
    {
     "name": "stdout",
     "output_type": "stream",
     "text": [
      "OK!\n"
     ]
    },
    {
     "name": "stderr",
     "output_type": "stream",
     "text": [
      "\n"
     ]
    }
   ],
   "source": [
    "eval_a_0_k20_global, eval_a_0_k20_ind = get_all_results(results_a_0_k20, test_set, users_list, users_interest, similarity_matrix, categories_list, 'a_0_k20', k=20)\n",
    "eval_a_01_k20_global, eval_a_01_k20_ind = get_all_results(results_a_01_k20, test_set, users_list, users_interest, similarity_matrix, categories_list, 'a_01_k20', k=20)\n",
    "eval_a_02_k20_global, eval_a_02_k20_ind = get_all_results(results_a_02_k20, test_set, users_list, users_interest, similarity_matrix, categories_list, 'a_02_k20', k=20)\n",
    "eval_a_03_k20_global, eval_a_03_k20_ind = get_all_results(results_a_03_k20, test_set, users_list, users_interest, similarity_matrix, categories_list, 'a_03_k20', k=20)\n",
    "eval_a_04_k20_global, eval_a_04_k20_ind = get_all_results(results_a_04_k20, test_set, users_list, users_interest, similarity_matrix, categories_list, 'a_04_k20', k=20)\n",
    "eval_a_05_k20_global, eval_a_05_k20_ind = get_all_results(results_a_05_k20, test_set, users_list, users_interest, similarity_matrix, categories_list, 'a_05_k20', k=20)\n",
    "eval_a_06_k20_global, eval_a_06_k20_ind = get_all_results(results_a_06_k20, test_set, users_list, users_interest, similarity_matrix, categories_list, 'a_06_k20', k=20)\n",
    "eval_a_07_k20_global, eval_a_07_k20_ind = get_all_results(results_a_07_k20, test_set, users_list, users_interest, similarity_matrix, categories_list, 'a_07_k20', k=20)\n",
    "eval_a_08_k20_global, eval_a_08_k20_ind = get_all_results(results_a_08_k20, test_set, users_list, users_interest, similarity_matrix, categories_list, 'a_08_k20', k=20)\n",
    "eval_a_09_k20_global, eval_a_09_k20_ind = get_all_results(results_a_09_k20, test_set, users_list, users_interest, similarity_matrix, categories_list, 'a_09_k20', k=20)\n",
    "eval_a_1_k20_global, eval_a_1_k20_ind = get_all_results(results_a_1_k20, test_set, users_list, users_interest, similarity_matrix, categories_list, 'a_1_k20', k=20)"
   ]
  },
  {
   "cell_type": "code",
   "execution_count": 451,
   "metadata": {},
   "outputs": [
    {
     "name": "stderr",
     "output_type": "stream",
     "text": [
      "100%|██████████| 10000/10000 [00:02<00:00, 3841.09it/s]\n",
      "100%|██████████| 10000/10000 [00:02<00:00, 4338.52it/s]\n",
      "100%|██████████| 10000/10000 [00:02<00:00, 4123.14it/s]\n",
      "100%|██████████| 10000/10000 [00:02<00:00, 4415.68it/s]\n",
      "100%|██████████| 10000/10000 [00:02<00:00, 4432.56it/s]\n",
      "100%|██████████| 10000/10000 [00:02<00:00, 4569.72it/s]\n",
      "100%|██████████| 10000/10000 [00:02<00:00, 4853.28it/s]\n",
      "100%|██████████| 10000/10000 [00:01<00:00, 5013.88it/s]\n",
      "100%|██████████| 10000/10000 [00:02<00:00, 4481.98it/s]\n",
      "100%|██████████| 10000/10000 [00:01<00:00, 5013.72it/s]\n",
      "100%|██████████| 10000/10000 [00:02<00:00, 3793.15it/s]\n"
     ]
    }
   ],
   "source": [
    "c_hellinger_a0 = calibration_hellinger_target(entropy_a0, users_list, users_interest)\n",
    "c_hellinger_a01 = calibration_hellinger_target(entropy_a01, users_list, users_interest)\n",
    "c_hellinger_a02 = calibration_hellinger_target(entropy_a02, users_list, users_interest)\n",
    "c_hellinger_a03 = calibration_hellinger_target(entropy_a03, users_list, users_interest)\n",
    "c_hellinger_a04 = calibration_hellinger_target(entropy_a04, users_list, users_interest)\n",
    "c_hellinger_a05 = calibration_hellinger_target(entropy_a05, users_list, users_interest)\n",
    "c_hellinger_a06 = calibration_hellinger_target(entropy_a06, users_list, users_interest)\n",
    "c_hellinger_a07 = calibration_hellinger_target(entropy_a07, users_list, users_interest)\n",
    "c_hellinger_a08 = calibration_hellinger_target(entropy_a08, users_list, users_interest)\n",
    "c_hellinger_a09 = calibration_hellinger_target(entropy_a09, users_list, users_interest)\n",
    "c_hellinger_a1 = calibration_hellinger_target(entropy_a1, users_list, users_interest)"
   ]
  },
  {
   "cell_type": "code",
   "execution_count": 552,
   "metadata": {},
   "outputs": [],
   "source": [
    "# c_hellinger_a0_recos_target = calibration_hellinger_recos_target(get_results_categories(results_a_0_k20), entropy_a0, users_list, users_interest)\n",
    "# c_hellinger_a01_recos_target = calibration_hellinger_recos_target(get_results_categories(results_a_01_k20), entropy_a01, users_list, users_interest)\n",
    "# c_hellinger_a02_recos_target = calibration_hellinger_recos_target(get_results_categories(results_a_02_k20), entropy_a02, users_list, users_interest)\n",
    "# c_hellinger_a03_recos_target = calibration_hellinger_recos_target(get_results_categories(results_a_03_k20), entropy_a03, users_list, users_interest)\n",
    "# c_hellinger_a04_recos_target = calibration_hellinger_recos_target(get_results_categories(results_a_04_k20), entropy_a04, users_list, users_interest)\n",
    "# c_hellinger_a05_recos_target = calibration_hellinger_recos_target(get_results_categories(results_a_05_k20), entropy_a05, users_list, users_interest)\n",
    "# c_hellinger_a06_recos_target = calibration_hellinger_recos_target(get_results_categories(results_a_06_k20), entropy_a06, users_list, users_interest)\n",
    "# c_hellinger_a07_recos_target = calibration_hellinger_recos_target(get_results_categories(results_a_07_k20), entropy_a07, users_list, users_interest)\n",
    "# c_hellinger_a08_recos_target = calibration_hellinger_recos_target(get_results_categories(results_a_08_k20), entropy_a08, users_list, users_interest)\n",
    "# c_hellinger_a09_recos_target = calibration_hellinger_recos_target(get_results_categories(results_a_09_k20), entropy_a09, users_list, users_interest)\n",
    "# c_hellinger_a1_recos_target = calibration_hellinger_recos_target(get_results_categories(results_a_1_k20), entropy_a1, users_list, users_interest)"
   ]
  },
  {
   "cell_type": "code",
   "execution_count": 546,
   "metadata": {},
   "outputs": [],
   "source": [
    "chl_a0 = np.mean(list(c_hellinger_a0_recos_target.values())).round(3)\n",
    "chl_a01 = np.mean(list(c_hellinger_a01_recos_target.values())).round(3)\n",
    "chl_a02 = np.mean(list(c_hellinger_a02_recos_target.values())).round(3)\n",
    "chl_a03 = np.mean(list(c_hellinger_a03_recos_target.values())).round(3)\n",
    "chl_a04 = np.mean(list(c_hellinger_a04_recos_target.values())).round(3)\n",
    "chl_a05 = np.mean(list(c_hellinger_a05_recos_target.values())).round(3)\n",
    "chl_a06 = np.mean(list(c_hellinger_a06_recos_target.values())).round(3)\n",
    "chl_a07 = np.mean(list(c_hellinger_a07_recos_target.values())).round(3)\n",
    "chl_a08 = np.mean(list(c_hellinger_a08_recos_target.values())).round(3)\n",
    "chl_a09 = np.mean(list(c_hellinger_a09_recos_target.values())).round(3)\n",
    "chl_a1 = np.mean(list(c_hellinger_a1_recos_target.values())).round(3)"
   ]
  },
  {
   "cell_type": "code",
   "execution_count": 554,
   "metadata": {},
   "outputs": [],
   "source": [
    "# chl = [chl_a0, chl_a01, chl_a02, chl_a03, chl_a04, chl_a05, chl_a06, chl_a07, chl_a08, chl_a09, chl_a1]"
   ]
  },
  {
   "cell_type": "code",
   "execution_count": 553,
   "metadata": {},
   "outputs": [],
   "source": [
    "chl = [0.141, 0.038, 0.030, 0.016, 0.055, 0.089, 0.110, 0.072, 0.041, 0.003, 0.011]"
   ]
  },
  {
   "cell_type": "code",
   "execution_count": 454,
   "metadata": {},
   "outputs": [],
   "source": [
    "complete_results = pd.concat([eval_a_0_k20_global, eval_a_01_k20_global, eval_a_02_k20_global, eval_a_03_k20_global, eval_a_04_k20_global, eval_a_05_k20_global, eval_a_06_k20_global, eval_a_07_k20_global, eval_a_08_k20_global, eval_a_09_k20_global, eval_a_1_k20_global])"
   ]
  },
  {
   "cell_type": "code",
   "execution_count": 555,
   "metadata": {},
   "outputs": [],
   "source": [
    "complete_results['c_hell_final'] = chl"
   ]
  },
  {
   "cell_type": "code",
   "execution_count": 559,
   "metadata": {},
   "outputs": [],
   "source": [
    "complete_results = complete_results.iloc[::-1] "
   ]
  },
  {
   "cell_type": "code",
   "execution_count": 560,
   "metadata": {},
   "outputs": [],
   "source": [
    "complete_results.index = np.arange(0, 1.1, 0.1)"
   ]
  },
  {
   "cell_type": "code",
   "execution_count": 561,
   "metadata": {},
   "outputs": [
    {
     "data": {
      "text/html": [
       "<div>\n",
       "<style scoped>\n",
       "    .dataframe tbody tr th:only-of-type {\n",
       "        vertical-align: middle;\n",
       "    }\n",
       "\n",
       "    .dataframe tbody tr th {\n",
       "        vertical-align: top;\n",
       "    }\n",
       "\n",
       "    .dataframe thead th {\n",
       "        text-align: right;\n",
       "    }\n",
       "</style>\n",
       "<table border=\"1\" class=\"dataframe\">\n",
       "  <thead>\n",
       "    <tr style=\"text-align: right;\">\n",
       "      <th></th>\n",
       "      <th>Precision</th>\n",
       "      <th>Recall</th>\n",
       "      <th>F1-score</th>\n",
       "      <th>MRR</th>\n",
       "      <th>NDCG</th>\n",
       "      <th>ILS</th>\n",
       "      <th>alpha_ndcg</th>\n",
       "      <th>ndcg_ia</th>\n",
       "      <th>s_recall</th>\n",
       "      <th>c_kl</th>\n",
       "      <th>c_hell</th>\n",
       "      <th>c_hell_target</th>\n",
       "      <th>c_hell_final</th>\n",
       "    </tr>\n",
       "  </thead>\n",
       "  <tbody>\n",
       "    <tr>\n",
       "      <th>0.0</th>\n",
       "      <td>0.227</td>\n",
       "      <td>0.632</td>\n",
       "      <td>0.281</td>\n",
       "      <td>0.424</td>\n",
       "      <td>0.564</td>\n",
       "      <td>0.438</td>\n",
       "      <td>0.875</td>\n",
       "      <td>0.561</td>\n",
       "      <td>0.525</td>\n",
       "      <td>0.138</td>\n",
       "      <td>0.141</td>\n",
       "      <td>0.000</td>\n",
       "      <td>0.011</td>\n",
       "    </tr>\n",
       "    <tr>\n",
       "      <th>0.1</th>\n",
       "      <td>0.225</td>\n",
       "      <td>0.629</td>\n",
       "      <td>0.279</td>\n",
       "      <td>0.424</td>\n",
       "      <td>0.565</td>\n",
       "      <td>0.430</td>\n",
       "      <td>0.872</td>\n",
       "      <td>0.561</td>\n",
       "      <td>0.552</td>\n",
       "      <td>0.111</td>\n",
       "      <td>0.130</td>\n",
       "      <td>0.092</td>\n",
       "      <td>0.003</td>\n",
       "    </tr>\n",
       "    <tr>\n",
       "      <th>0.2</th>\n",
       "      <td>0.225</td>\n",
       "      <td>0.628</td>\n",
       "      <td>0.278</td>\n",
       "      <td>0.423</td>\n",
       "      <td>0.565</td>\n",
       "      <td>0.428</td>\n",
       "      <td>0.870</td>\n",
       "      <td>0.560</td>\n",
       "      <td>0.559</td>\n",
       "      <td>0.106</td>\n",
       "      <td>0.128</td>\n",
       "      <td>0.098</td>\n",
       "      <td>0.041</td>\n",
       "    </tr>\n",
       "    <tr>\n",
       "      <th>0.3</th>\n",
       "      <td>0.222</td>\n",
       "      <td>0.622</td>\n",
       "      <td>0.275</td>\n",
       "      <td>0.423</td>\n",
       "      <td>0.566</td>\n",
       "      <td>0.419</td>\n",
       "      <td>0.865</td>\n",
       "      <td>0.559</td>\n",
       "      <td>0.588</td>\n",
       "      <td>0.084</td>\n",
       "      <td>0.121</td>\n",
       "      <td>0.137</td>\n",
       "      <td>0.072</td>\n",
       "    </tr>\n",
       "    <tr>\n",
       "      <th>0.4</th>\n",
       "      <td>0.220</td>\n",
       "      <td>0.616</td>\n",
       "      <td>0.272</td>\n",
       "      <td>0.422</td>\n",
       "      <td>0.567</td>\n",
       "      <td>0.407</td>\n",
       "      <td>0.866</td>\n",
       "      <td>0.558</td>\n",
       "      <td>0.622</td>\n",
       "      <td>0.066</td>\n",
       "      <td>0.117</td>\n",
       "      <td>0.172</td>\n",
       "      <td>0.110</td>\n",
       "    </tr>\n",
       "    <tr>\n",
       "      <th>0.5</th>\n",
       "      <td>0.217</td>\n",
       "      <td>0.603</td>\n",
       "      <td>0.268</td>\n",
       "      <td>0.421</td>\n",
       "      <td>0.569</td>\n",
       "      <td>0.398</td>\n",
       "      <td>0.861</td>\n",
       "      <td>0.556</td>\n",
       "      <td>0.646</td>\n",
       "      <td>0.061</td>\n",
       "      <td>0.121</td>\n",
       "      <td>0.210</td>\n",
       "      <td>0.089</td>\n",
       "    </tr>\n",
       "    <tr>\n",
       "      <th>0.6</th>\n",
       "      <td>0.215</td>\n",
       "      <td>0.584</td>\n",
       "      <td>0.264</td>\n",
       "      <td>0.420</td>\n",
       "      <td>0.571</td>\n",
       "      <td>0.393</td>\n",
       "      <td>0.857</td>\n",
       "      <td>0.553</td>\n",
       "      <td>0.661</td>\n",
       "      <td>0.073</td>\n",
       "      <td>0.136</td>\n",
       "      <td>0.246</td>\n",
       "      <td>0.055</td>\n",
       "    </tr>\n",
       "    <tr>\n",
       "      <th>0.7</th>\n",
       "      <td>0.176</td>\n",
       "      <td>0.545</td>\n",
       "      <td>0.223</td>\n",
       "      <td>0.405</td>\n",
       "      <td>0.564</td>\n",
       "      <td>0.298</td>\n",
       "      <td>0.800</td>\n",
       "      <td>0.515</td>\n",
       "      <td>1.000</td>\n",
       "      <td>0.314</td>\n",
       "      <td>0.359</td>\n",
       "      <td>0.287</td>\n",
       "      <td>0.016</td>\n",
       "    </tr>\n",
       "    <tr>\n",
       "      <th>0.8</th>\n",
       "      <td>0.171</td>\n",
       "      <td>0.524</td>\n",
       "      <td>0.216</td>\n",
       "      <td>0.403</td>\n",
       "      <td>0.570</td>\n",
       "      <td>0.291</td>\n",
       "      <td>0.785</td>\n",
       "      <td>0.510</td>\n",
       "      <td>1.000</td>\n",
       "      <td>0.341</td>\n",
       "      <td>0.372</td>\n",
       "      <td>0.331</td>\n",
       "      <td>0.030</td>\n",
       "    </tr>\n",
       "    <tr>\n",
       "      <th>0.9</th>\n",
       "      <td>0.162</td>\n",
       "      <td>0.478</td>\n",
       "      <td>0.202</td>\n",
       "      <td>0.398</td>\n",
       "      <td>0.577</td>\n",
       "      <td>0.276</td>\n",
       "      <td>0.768</td>\n",
       "      <td>0.501</td>\n",
       "      <td>1.000</td>\n",
       "      <td>0.393</td>\n",
       "      <td>0.394</td>\n",
       "      <td>0.391</td>\n",
       "      <td>0.038</td>\n",
       "    </tr>\n",
       "    <tr>\n",
       "      <th>1.0</th>\n",
       "      <td>0.123</td>\n",
       "      <td>0.373</td>\n",
       "      <td>0.153</td>\n",
       "      <td>0.374</td>\n",
       "      <td>0.576</td>\n",
       "      <td>0.206</td>\n",
       "      <td>0.674</td>\n",
       "      <td>0.436</td>\n",
       "      <td>1.000</td>\n",
       "      <td>0.820</td>\n",
       "      <td>0.522</td>\n",
       "      <td>0.533</td>\n",
       "      <td>0.141</td>\n",
       "    </tr>\n",
       "  </tbody>\n",
       "</table>\n",
       "</div>"
      ],
      "text/plain": [
       "     Precision  Recall  F1-score    MRR   NDCG    ILS  alpha_ndcg  ndcg_ia  \\\n",
       "0.0      0.227   0.632     0.281  0.424  0.564  0.438       0.875    0.561   \n",
       "0.1      0.225   0.629     0.279  0.424  0.565  0.430       0.872    0.561   \n",
       "0.2      0.225   0.628     0.278  0.423  0.565  0.428       0.870    0.560   \n",
       "0.3      0.222   0.622     0.275  0.423  0.566  0.419       0.865    0.559   \n",
       "0.4      0.220   0.616     0.272  0.422  0.567  0.407       0.866    0.558   \n",
       "0.5      0.217   0.603     0.268  0.421  0.569  0.398       0.861    0.556   \n",
       "0.6      0.215   0.584     0.264  0.420  0.571  0.393       0.857    0.553   \n",
       "0.7      0.176   0.545     0.223  0.405  0.564  0.298       0.800    0.515   \n",
       "0.8      0.171   0.524     0.216  0.403  0.570  0.291       0.785    0.510   \n",
       "0.9      0.162   0.478     0.202  0.398  0.577  0.276       0.768    0.501   \n",
       "1.0      0.123   0.373     0.153  0.374  0.576  0.206       0.674    0.436   \n",
       "\n",
       "     s_recall   c_kl  c_hell  c_hell_target  c_hell_final  \n",
       "0.0     0.525  0.138   0.141          0.000         0.011  \n",
       "0.1     0.552  0.111   0.130          0.092         0.003  \n",
       "0.2     0.559  0.106   0.128          0.098         0.041  \n",
       "0.3     0.588  0.084   0.121          0.137         0.072  \n",
       "0.4     0.622  0.066   0.117          0.172         0.110  \n",
       "0.5     0.646  0.061   0.121          0.210         0.089  \n",
       "0.6     0.661  0.073   0.136          0.246         0.055  \n",
       "0.7     1.000  0.314   0.359          0.287         0.016  \n",
       "0.8     1.000  0.341   0.372          0.331         0.030  \n",
       "0.9     1.000  0.393   0.394          0.391         0.038  \n",
       "1.0     1.000  0.820   0.522          0.533         0.141  "
      ]
     },
     "execution_count": 561,
     "metadata": {},
     "output_type": "execute_result"
    }
   ],
   "source": [
    "complete_results"
   ]
  },
  {
   "cell_type": "code",
   "execution_count": 562,
   "metadata": {},
   "outputs": [],
   "source": [
    "complete_results.to_csv('results_perfs/ADF/global_reranking_nosubprofiles.csv')"
   ]
  },
  {
   "cell_type": "code",
   "execution_count": 232,
   "metadata": {},
   "outputs": [],
   "source": [
    "# a = 0\n",
    "# for i in [eval_a_0_k20_ind, eval_a_01_k20_ind, eval_a_02_k20_ind, eval_a_03_k20_ind, eval_a_04_k20_ind, eval_a_05_k20_ind, eval_a_06_k20_ind, eval_a_07_k20_ind, eval_a_08_k20_ind, eval_a_09_k20_ind, eval_a_1_k20_ind]:\n",
    "#     i = i.round(3)\n",
    "#     path = 'results_perfs/ind_a_0'+str(a)+'.csv'\n",
    "#     i.to_csv(path)\n",
    "#     a = a+1"
   ]
  },
  {
   "cell_type": "markdown",
   "metadata": {},
   "source": [
    "# All results - not personalized diversity"
   ]
  },
  {
   "cell_type": "markdown",
   "metadata": {},
   "source": [
    "## Compute performances"
   ]
  },
  {
   "cell_type": "code",
   "execution_count": 301,
   "metadata": {},
   "outputs": [],
   "source": [
    "test_df = pd.read_csv('re_ranking_results/ADF/re_ranking/base/div_a_0_k20.csv')"
   ]
  },
  {
   "cell_type": "code",
   "execution_count": 303,
   "metadata": {},
   "outputs": [],
   "source": [
    "results_glob_a06 = pd.read_csv('re_ranking_results/global/re_ranking/div_global_0.6_k20.csv')\n",
    "results_glob_a06 = results_glob_a06[['user_id','item_id','score']]\n",
    "\n",
    "results_glob_a07 = pd.read_csv('re_ranking_results/global/re_ranking/div_global_0.7_k20.csv')\n",
    "results_glob_a07 = results_glob_a07[['user_id','item_id','score']]\n",
    "\n",
    "results_glob_a08 = pd.read_csv('re_ranking_results/global/re_ranking/div_global_0.8_k20.csv')\n",
    "results_glob_a08 = results_glob_a08[['user_id','item_id','score']]\n",
    "\n",
    "results_glob_a09 = pd.read_csv('re_ranking_results/global/re_ranking/div_global_0.9_k20.csv')\n",
    "results_glob_a09 = results_glob_a09[['user_id','item_id','score']]\n",
    "\n",
    "results_glob_a1 = pd.read_csv('re_ranking_results/global/re_ranking/div_global_1_k20.csv')\n",
    "results_glob_a1 = results_glob_a1[['user_id','item_id','score']]"
   ]
  },
  {
   "cell_type": "code",
   "execution_count": 304,
   "metadata": {},
   "outputs": [
    {
     "name": "stdout",
     "output_type": "stream",
     "text": [
      "Pre-processing...\n"
     ]
    },
    {
     "name": "stderr",
     "output_type": "stream",
     "text": [
      "\u001b[39mINFO\u001b[0m - Performing evaluation on metrics chosen\n"
     ]
    },
    {
     "name": "stdout",
     "output_type": "stream",
     "text": [
      "OK!\n",
      "Accuracy metrics...\n"
     ]
    },
    {
     "name": "stderr",
     "output_type": "stream",
     "text": [
      "Performing NDCG@20:  80%|████████  | 4/5 [01:33<00:23]             C:\\Users\\ctreuill.BIDOUILLE\\AppData\\Roaming\\Python\\Python39\\site-packages\\clayrs\\evaluation\\metrics\\ranking_metrics.py:205: RuntimeWarning: invalid value encountered in double_scalars\n",
      "  return actual / ideal\n",
      "Performing NDCG@20:  100%|██████████| 5/5 [01:55<00:00]\n"
     ]
    },
    {
     "name": "stdout",
     "output_type": "stream",
     "text": [
      "OK!\n",
      "ILS...\n"
     ]
    },
    {
     "name": "stderr",
     "output_type": "stream",
     "text": [
      "100%|██████████| 10000/10000 [02:56<00:00, 56.57it/s]\n"
     ]
    },
    {
     "name": "stdout",
     "output_type": "stream",
     "text": [
      "OK!\n",
      "alpha NDCG\n"
     ]
    },
    {
     "name": "stderr",
     "output_type": "stream",
     "text": [
      "100%|██████████| 10000/10000 [00:23<00:00, 428.31it/s]\n"
     ]
    },
    {
     "name": "stdout",
     "output_type": "stream",
     "text": [
      "OK!\n",
      "NDCG IA\n"
     ]
    },
    {
     "name": "stderr",
     "output_type": "stream",
     "text": [
      "100%|██████████| 10000/10000 [00:29<00:00, 340.87it/s]\n"
     ]
    },
    {
     "name": "stdout",
     "output_type": "stream",
     "text": [
      "OK!\n",
      "S-Recall\n"
     ]
    },
    {
     "name": "stderr",
     "output_type": "stream",
     "text": [
      "100%|██████████| 10000/10000 [00:12<00:00, 787.20it/s]\n"
     ]
    },
    {
     "name": "stdout",
     "output_type": "stream",
     "text": [
      "OK!\n",
      "Calibration KL\n"
     ]
    },
    {
     "name": "stderr",
     "output_type": "stream",
     "text": [
      "100%|██████████| 10000/10000 [01:03<00:00, 156.97it/s]\n"
     ]
    },
    {
     "name": "stdout",
     "output_type": "stream",
     "text": [
      "OK!\n",
      "Calibration Hellinger\n"
     ]
    },
    {
     "name": "stderr",
     "output_type": "stream",
     "text": [
      "100%|██████████| 10000/10000 [01:02<00:00, 158.78it/s]\n"
     ]
    },
    {
     "name": "stdout",
     "output_type": "stream",
     "text": [
      "OK!\n",
      "Pre-processing...\n"
     ]
    },
    {
     "name": "stderr",
     "output_type": "stream",
     "text": [
      "\u001b[39mINFO\u001b[0m - Performing evaluation on metrics chosen\n"
     ]
    },
    {
     "name": "stdout",
     "output_type": "stream",
     "text": [
      "OK!\n",
      "Accuracy metrics...\n"
     ]
    },
    {
     "name": "stderr",
     "output_type": "stream",
     "text": [
      "Performing NDCG@20:  80%|████████  | 4/5 [01:37<00:24]             C:\\Users\\ctreuill.BIDOUILLE\\AppData\\Roaming\\Python\\Python39\\site-packages\\clayrs\\evaluation\\metrics\\ranking_metrics.py:205: RuntimeWarning: invalid value encountered in double_scalars\n",
      "  return actual / ideal\n",
      "Performing NDCG@20:  100%|██████████| 5/5 [02:04<00:00]\n"
     ]
    },
    {
     "name": "stdout",
     "output_type": "stream",
     "text": [
      "OK!\n",
      "ILS...\n"
     ]
    },
    {
     "name": "stderr",
     "output_type": "stream",
     "text": [
      "100%|██████████| 10000/10000 [01:57<00:00, 85.01it/s]\n"
     ]
    },
    {
     "name": "stdout",
     "output_type": "stream",
     "text": [
      "OK!\n",
      "alpha NDCG\n"
     ]
    },
    {
     "name": "stderr",
     "output_type": "stream",
     "text": [
      "100%|██████████| 10000/10000 [00:21<00:00, 471.06it/s]\n"
     ]
    },
    {
     "name": "stdout",
     "output_type": "stream",
     "text": [
      "OK!\n",
      "NDCG IA\n"
     ]
    },
    {
     "name": "stderr",
     "output_type": "stream",
     "text": [
      "100%|██████████| 10000/10000 [00:28<00:00, 350.64it/s]\n"
     ]
    },
    {
     "name": "stdout",
     "output_type": "stream",
     "text": [
      "OK!\n",
      "S-Recall\n"
     ]
    },
    {
     "name": "stderr",
     "output_type": "stream",
     "text": [
      "100%|██████████| 10000/10000 [00:12<00:00, 803.44it/s]\n"
     ]
    },
    {
     "name": "stdout",
     "output_type": "stream",
     "text": [
      "OK!\n",
      "Calibration KL\n"
     ]
    },
    {
     "name": "stderr",
     "output_type": "stream",
     "text": [
      "100%|██████████| 10000/10000 [01:08<00:00, 146.25it/s]\n"
     ]
    },
    {
     "name": "stdout",
     "output_type": "stream",
     "text": [
      "OK!\n",
      "Calibration Hellinger\n"
     ]
    },
    {
     "name": "stderr",
     "output_type": "stream",
     "text": [
      "100%|██████████| 10000/10000 [00:57<00:00, 173.42it/s]\n"
     ]
    },
    {
     "name": "stdout",
     "output_type": "stream",
     "text": [
      "OK!\n",
      "Pre-processing...\n"
     ]
    },
    {
     "name": "stderr",
     "output_type": "stream",
     "text": [
      "\u001b[39mINFO\u001b[0m - Performing evaluation on metrics chosen\n"
     ]
    },
    {
     "name": "stdout",
     "output_type": "stream",
     "text": [
      "OK!\n",
      "Accuracy metrics...\n"
     ]
    },
    {
     "name": "stderr",
     "output_type": "stream",
     "text": [
      "Performing NDCG@20:  80%|████████  | 4/5 [01:54<00:28]             C:\\Users\\ctreuill.BIDOUILLE\\AppData\\Roaming\\Python\\Python39\\site-packages\\clayrs\\evaluation\\metrics\\ranking_metrics.py:205: RuntimeWarning: invalid value encountered in double_scalars\n",
      "  return actual / ideal\n",
      "Performing NDCG@20:  100%|██████████| 5/5 [02:21<00:00]\n"
     ]
    },
    {
     "name": "stdout",
     "output_type": "stream",
     "text": [
      "OK!\n",
      "ILS...\n"
     ]
    },
    {
     "name": "stderr",
     "output_type": "stream",
     "text": [
      "100%|██████████| 10000/10000 [01:51<00:00, 89.94it/s]\n"
     ]
    },
    {
     "name": "stdout",
     "output_type": "stream",
     "text": [
      "OK!\n",
      "alpha NDCG\n"
     ]
    },
    {
     "name": "stderr",
     "output_type": "stream",
     "text": [
      "100%|██████████| 10000/10000 [00:21<00:00, 462.12it/s]\n"
     ]
    },
    {
     "name": "stdout",
     "output_type": "stream",
     "text": [
      "OK!\n",
      "NDCG IA\n"
     ]
    },
    {
     "name": "stderr",
     "output_type": "stream",
     "text": [
      "100%|██████████| 10000/10000 [00:25<00:00, 395.85it/s]\n"
     ]
    },
    {
     "name": "stdout",
     "output_type": "stream",
     "text": [
      "OK!\n",
      "S-Recall\n"
     ]
    },
    {
     "name": "stderr",
     "output_type": "stream",
     "text": [
      "100%|██████████| 10000/10000 [00:09<00:00, 1011.34it/s]\n"
     ]
    },
    {
     "name": "stdout",
     "output_type": "stream",
     "text": [
      "OK!\n",
      "Calibration KL\n"
     ]
    },
    {
     "name": "stderr",
     "output_type": "stream",
     "text": [
      "100%|██████████| 10000/10000 [01:02<00:00, 159.76it/s]\n"
     ]
    },
    {
     "name": "stdout",
     "output_type": "stream",
     "text": [
      "OK!\n",
      "Calibration Hellinger\n"
     ]
    },
    {
     "name": "stderr",
     "output_type": "stream",
     "text": [
      "100%|██████████| 10000/10000 [01:01<00:00, 161.52it/s]\n"
     ]
    },
    {
     "name": "stdout",
     "output_type": "stream",
     "text": [
      "OK!\n",
      "Pre-processing...\n"
     ]
    },
    {
     "name": "stderr",
     "output_type": "stream",
     "text": [
      "\u001b[39mINFO\u001b[0m - Performing evaluation on metrics chosen\n"
     ]
    },
    {
     "name": "stdout",
     "output_type": "stream",
     "text": [
      "OK!\n",
      "Accuracy metrics...\n"
     ]
    },
    {
     "name": "stderr",
     "output_type": "stream",
     "text": [
      "Performing NDCG@20:  80%|████████  | 4/5 [01:41<00:25]             C:\\Users\\ctreuill.BIDOUILLE\\AppData\\Roaming\\Python\\Python39\\site-packages\\clayrs\\evaluation\\metrics\\ranking_metrics.py:205: RuntimeWarning: invalid value encountered in double_scalars\n",
      "  return actual / ideal\n",
      "Performing NDCG@20:  100%|██████████| 5/5 [02:08<00:00]\n"
     ]
    },
    {
     "name": "stdout",
     "output_type": "stream",
     "text": [
      "OK!\n",
      "ILS...\n"
     ]
    },
    {
     "name": "stderr",
     "output_type": "stream",
     "text": [
      "100%|██████████| 10000/10000 [01:54<00:00, 87.30it/s]\n"
     ]
    },
    {
     "name": "stdout",
     "output_type": "stream",
     "text": [
      "OK!\n",
      "alpha NDCG\n"
     ]
    },
    {
     "name": "stderr",
     "output_type": "stream",
     "text": [
      "100%|██████████| 10000/10000 [00:22<00:00, 449.04it/s]\n"
     ]
    },
    {
     "name": "stdout",
     "output_type": "stream",
     "text": [
      "OK!\n",
      "NDCG IA\n"
     ]
    },
    {
     "name": "stderr",
     "output_type": "stream",
     "text": [
      "100%|██████████| 10000/10000 [00:32<00:00, 304.54it/s]\n"
     ]
    },
    {
     "name": "stdout",
     "output_type": "stream",
     "text": [
      "OK!\n",
      "S-Recall\n"
     ]
    },
    {
     "name": "stderr",
     "output_type": "stream",
     "text": [
      "100%|██████████| 10000/10000 [00:15<00:00, 638.65it/s]\n"
     ]
    },
    {
     "name": "stdout",
     "output_type": "stream",
     "text": [
      "OK!\n",
      "Calibration KL\n"
     ]
    },
    {
     "name": "stderr",
     "output_type": "stream",
     "text": [
      "100%|██████████| 10000/10000 [01:16<00:00, 130.80it/s]\n"
     ]
    },
    {
     "name": "stdout",
     "output_type": "stream",
     "text": [
      "OK!\n",
      "Calibration Hellinger\n"
     ]
    },
    {
     "name": "stderr",
     "output_type": "stream",
     "text": [
      "100%|██████████| 10000/10000 [01:09<00:00, 144.69it/s]\n"
     ]
    },
    {
     "name": "stdout",
     "output_type": "stream",
     "text": [
      "OK!\n",
      "Pre-processing...\n"
     ]
    },
    {
     "name": "stderr",
     "output_type": "stream",
     "text": [
      "\u001b[39mINFO\u001b[0m - Performing evaluation on metrics chosen\n"
     ]
    },
    {
     "name": "stdout",
     "output_type": "stream",
     "text": [
      "OK!\n",
      "Accuracy metrics...\n"
     ]
    },
    {
     "name": "stderr",
     "output_type": "stream",
     "text": [
      "Performing NDCG@20:  80%|████████  | 4/5 [01:50<00:28]             C:\\Users\\ctreuill.BIDOUILLE\\AppData\\Roaming\\Python\\Python39\\site-packages\\clayrs\\evaluation\\metrics\\ranking_metrics.py:205: RuntimeWarning: invalid value encountered in double_scalars\n",
      "  return actual / ideal\n",
      "Performing NDCG@20:  100%|██████████| 5/5 [02:19<00:00]\n"
     ]
    },
    {
     "name": "stdout",
     "output_type": "stream",
     "text": [
      "OK!\n",
      "ILS...\n"
     ]
    },
    {
     "name": "stderr",
     "output_type": "stream",
     "text": [
      "100%|██████████| 10000/10000 [01:54<00:00, 87.64it/s]\n"
     ]
    },
    {
     "name": "stdout",
     "output_type": "stream",
     "text": [
      "OK!\n",
      "alpha NDCG\n"
     ]
    },
    {
     "name": "stderr",
     "output_type": "stream",
     "text": [
      "100%|██████████| 10000/10000 [00:26<00:00, 383.94it/s]\n"
     ]
    },
    {
     "name": "stdout",
     "output_type": "stream",
     "text": [
      "OK!\n",
      "NDCG IA\n"
     ]
    },
    {
     "name": "stderr",
     "output_type": "stream",
     "text": [
      "100%|██████████| 10000/10000 [00:29<00:00, 340.62it/s]\n"
     ]
    },
    {
     "name": "stdout",
     "output_type": "stream",
     "text": [
      "OK!\n",
      "S-Recall\n"
     ]
    },
    {
     "name": "stderr",
     "output_type": "stream",
     "text": [
      "100%|██████████| 10000/10000 [00:11<00:00, 838.24it/s]\n"
     ]
    },
    {
     "name": "stdout",
     "output_type": "stream",
     "text": [
      "OK!\n",
      "Calibration KL\n"
     ]
    },
    {
     "name": "stderr",
     "output_type": "stream",
     "text": [
      "100%|██████████| 10000/10000 [00:59<00:00, 169.09it/s]\n"
     ]
    },
    {
     "name": "stdout",
     "output_type": "stream",
     "text": [
      "OK!\n",
      "Calibration Hellinger\n"
     ]
    },
    {
     "name": "stderr",
     "output_type": "stream",
     "text": [
      "100%|██████████| 10000/10000 [01:01<00:00, 163.31it/s]\n"
     ]
    },
    {
     "name": "stdout",
     "output_type": "stream",
     "text": [
      "OK!\n"
     ]
    }
   ],
   "source": [
    "eval_a_06_k20_nopers, eval_a_06_k20_ind_nopers = get_all_results(results_glob_a06, test_set, users_list, users_interest, similarity_matrix, categories_list, 'a_06_k20_no_pers', k=20)\n",
    "eval_a_07_k20_nopers, eval_a_07_k20_ind_nopers = get_all_results(results_glob_a07, test_set, users_list, users_interest, similarity_matrix, categories_list, 'a_07_k20_no_pers', k=20)\n",
    "eval_a_08_k20_nopers, eval_a_08_k20_ind_nopers = get_all_results(results_glob_a08, test_set, users_list, users_interest, similarity_matrix, categories_list, 'a_08_k20_no_pers', k=20)\n",
    "eval_a_09_k20_nopers, eval_a_09_k20_ind_nopers = get_all_results(results_glob_a09, test_set, users_list, users_interest, similarity_matrix, categories_list, 'a_09_k20_no_pers', k=20)\n",
    "eval_a_1_k20_nopers, eval_a_1_k20_ind_nopers = get_all_results(results_glob_a1, test_set, users_list, users_interest, similarity_matrix, categories_list, 'a_1_k20_no_pers', k=20)"
   ]
  },
  {
   "cell_type": "code",
   "execution_count": 305,
   "metadata": {},
   "outputs": [],
   "source": [
    "complete_results_no_pers = pd.concat([eval_a_06_k20_nopers, eval_a_07_k20_nopers, eval_a_08_k20_nopers, eval_a_09_k20_nopers, eval_a_1_k20_nopers])"
   ]
  },
  {
   "cell_type": "code",
   "execution_count": 306,
   "metadata": {},
   "outputs": [
    {
     "data": {
      "text/html": [
       "<div>\n",
       "<style scoped>\n",
       "    .dataframe tbody tr th:only-of-type {\n",
       "        vertical-align: middle;\n",
       "    }\n",
       "\n",
       "    .dataframe tbody tr th {\n",
       "        vertical-align: top;\n",
       "    }\n",
       "\n",
       "    .dataframe thead th {\n",
       "        text-align: right;\n",
       "    }\n",
       "</style>\n",
       "<table border=\"1\" class=\"dataframe\">\n",
       "  <thead>\n",
       "    <tr style=\"text-align: right;\">\n",
       "      <th></th>\n",
       "      <th>Precision</th>\n",
       "      <th>Recall</th>\n",
       "      <th>F1-score</th>\n",
       "      <th>MRR</th>\n",
       "      <th>NDCG</th>\n",
       "      <th>ILS</th>\n",
       "      <th>alpha_ndcg</th>\n",
       "      <th>ndcg_ia</th>\n",
       "      <th>s_recall</th>\n",
       "      <th>c_kl</th>\n",
       "      <th>c_hell</th>\n",
       "    </tr>\n",
       "    <tr>\n",
       "      <th>a_value</th>\n",
       "      <th></th>\n",
       "      <th></th>\n",
       "      <th></th>\n",
       "      <th></th>\n",
       "      <th></th>\n",
       "      <th></th>\n",
       "      <th></th>\n",
       "      <th></th>\n",
       "      <th></th>\n",
       "      <th></th>\n",
       "      <th></th>\n",
       "    </tr>\n",
       "  </thead>\n",
       "  <tbody>\n",
       "    <tr>\n",
       "      <th>a_06_k20_no_pers</th>\n",
       "      <td>0.226</td>\n",
       "      <td>0.630</td>\n",
       "      <td>0.280</td>\n",
       "      <td>0.424</td>\n",
       "      <td>0.564</td>\n",
       "      <td>0.433</td>\n",
       "      <td>0.873</td>\n",
       "      <td>0.560</td>\n",
       "      <td>0.528</td>\n",
       "      <td>0.131</td>\n",
       "      <td>0.139</td>\n",
       "    </tr>\n",
       "    <tr>\n",
       "      <th>a_07_k20_no_pers</th>\n",
       "      <td>0.223</td>\n",
       "      <td>0.623</td>\n",
       "      <td>0.276</td>\n",
       "      <td>0.422</td>\n",
       "      <td>0.564</td>\n",
       "      <td>0.423</td>\n",
       "      <td>0.874</td>\n",
       "      <td>0.559</td>\n",
       "      <td>0.558</td>\n",
       "      <td>0.114</td>\n",
       "      <td>0.134</td>\n",
       "    </tr>\n",
       "    <tr>\n",
       "      <th>a_08_k20_no_pers</th>\n",
       "      <td>0.211</td>\n",
       "      <td>0.598</td>\n",
       "      <td>0.262</td>\n",
       "      <td>0.418</td>\n",
       "      <td>0.565</td>\n",
       "      <td>0.385</td>\n",
       "      <td>0.858</td>\n",
       "      <td>0.550</td>\n",
       "      <td>0.660</td>\n",
       "      <td>0.115</td>\n",
       "      <td>0.157</td>\n",
       "    </tr>\n",
       "    <tr>\n",
       "      <th>a_09_k20_no_pers</th>\n",
       "      <td>0.175</td>\n",
       "      <td>0.534</td>\n",
       "      <td>0.220</td>\n",
       "      <td>0.405</td>\n",
       "      <td>0.567</td>\n",
       "      <td>0.298</td>\n",
       "      <td>0.809</td>\n",
       "      <td>0.519</td>\n",
       "      <td>0.930</td>\n",
       "      <td>0.316</td>\n",
       "      <td>0.349</td>\n",
       "    </tr>\n",
       "    <tr>\n",
       "      <th>a_1_k20_no_pers</th>\n",
       "      <td>0.123</td>\n",
       "      <td>0.373</td>\n",
       "      <td>0.153</td>\n",
       "      <td>0.374</td>\n",
       "      <td>0.576</td>\n",
       "      <td>0.206</td>\n",
       "      <td>0.676</td>\n",
       "      <td>0.438</td>\n",
       "      <td>0.945</td>\n",
       "      <td>0.820</td>\n",
       "      <td>0.522</td>\n",
       "    </tr>\n",
       "  </tbody>\n",
       "</table>\n",
       "</div>"
      ],
      "text/plain": [
       "                  Precision  Recall  F1-score    MRR   NDCG    ILS  \\\n",
       "a_value                                                              \n",
       "a_06_k20_no_pers      0.226   0.630     0.280  0.424  0.564  0.433   \n",
       "a_07_k20_no_pers      0.223   0.623     0.276  0.422  0.564  0.423   \n",
       "a_08_k20_no_pers      0.211   0.598     0.262  0.418  0.565  0.385   \n",
       "a_09_k20_no_pers      0.175   0.534     0.220  0.405  0.567  0.298   \n",
       "a_1_k20_no_pers       0.123   0.373     0.153  0.374  0.576  0.206   \n",
       "\n",
       "                  alpha_ndcg  ndcg_ia  s_recall   c_kl  c_hell  \n",
       "a_value                                                         \n",
       "a_06_k20_no_pers       0.873    0.560     0.528  0.131   0.139  \n",
       "a_07_k20_no_pers       0.874    0.559     0.558  0.114   0.134  \n",
       "a_08_k20_no_pers       0.858    0.550     0.660  0.115   0.157  \n",
       "a_09_k20_no_pers       0.809    0.519     0.930  0.316   0.349  \n",
       "a_1_k20_no_pers        0.676    0.438     0.945  0.820   0.522  "
      ]
     },
     "execution_count": 306,
     "metadata": {},
     "output_type": "execute_result"
    }
   ],
   "source": [
    "complete_results_no_pers"
   ]
  },
  {
   "cell_type": "code",
   "execution_count": 307,
   "metadata": {},
   "outputs": [],
   "source": [
    "complete_results_no_pers.to_csv('results_perfs/no_pers/complete_results.csv')"
   ]
  },
  {
   "cell_type": "code",
   "execution_count": 351,
   "metadata": {},
   "outputs": [],
   "source": [
    "eval_a_06_k20_ind_nopers.to_csv('results_perfs/no_pers/indiv/ind_h06.csv')\n",
    "eval_a_07_k20_ind_nopers.to_csv('results_perfs/no_pers/indiv/ind_h07.csv')\n",
    "eval_a_08_k20_ind_nopers.to_csv('results_perfs/no_pers/indiv/ind_h08.csv')\n",
    "eval_a_08_k20_ind_nopers.to_csv('results_perfs/no_pers/indiv/ind_h09.csv')\n",
    "eval_a_1_k20_ind_nopers.to_csv('results_perfs/no_pers/indiv/ind_h1.csv')\n"
   ]
  },
  {
   "cell_type": "markdown",
   "metadata": {},
   "source": [
    "# All results - greedy"
   ]
  },
  {
   "cell_type": "markdown",
   "metadata": {},
   "source": [
    "## Compute performances"
   ]
  },
  {
   "cell_type": "code",
   "execution_count": 381,
   "metadata": {},
   "outputs": [],
   "source": [
    "results_greedy_0 = pd.read_csv('re_ranking_results/greedy/greedy_lambda_0.csv')\n",
    "\n",
    "results_greedy_01 = pd.read_csv('re_ranking_results/greedy/greedy_lambda_01.csv')\n",
    "\n",
    "results_greedy_02 = pd.read_csv('re_ranking_results/greedy/greedy_lambda_02.csv')\n",
    "\n",
    "results_greedy_03 = pd.read_csv('re_ranking_results/greedy/greedy_lambda_03.csv')\n",
    "\n",
    "results_greedy_04 = pd.read_csv('re_ranking_results/greedy/greedy_lambda_04.csv')\n",
    "\n",
    "results_greedy_05 = pd.read_csv('re_ranking_results/greedy/greedy_lambda_05.csv')\n",
    "\n",
    "results_greedy_06 = pd.read_csv('re_ranking_results/greedy/greedy_lambda_06.csv')\n",
    "\n",
    "results_greedy_07 = pd.read_csv('re_ranking_results/greedy/greedy_lambda_07.csv')\n",
    "\n",
    "results_greedy_08 = pd.read_csv('re_ranking_results/greedy/greedy_lambda_08.csv')\n",
    "\n",
    "results_greedy_09 = pd.read_csv('re_ranking_results/greedy/greedy_lambda_09.csv')\n",
    "\n",
    "results_greedy_1 = pd.read_csv('re_ranking_results/greedy/greedy_lambda_1.csv')"
   ]
  },
  {
   "cell_type": "code",
   "execution_count": 394,
   "metadata": {},
   "outputs": [
    {
     "name": "stdout",
     "output_type": "stream",
     "text": [
      "Pre-processing...\n"
     ]
    },
    {
     "name": "stderr",
     "output_type": "stream",
     "text": [
      "\u001b[39mINFO\u001b[0m - Performing evaluation on metrics chosen\n"
     ]
    },
    {
     "name": "stdout",
     "output_type": "stream",
     "text": [
      "OK!\n",
      "Accuracy metrics...\n"
     ]
    },
    {
     "name": "stderr",
     "output_type": "stream",
     "text": [
      "Performing NDCG@20:  80%|████████  | 4/5 [01:30<00:21]             C:\\Users\\ctreuill.BIDOUILLE\\AppData\\Roaming\\Python\\Python39\\site-packages\\clayrs\\evaluation\\metrics\\ranking_metrics.py:205: RuntimeWarning: invalid value encountered in double_scalars\n",
      "  return actual / ideal\n",
      "Performing NDCG@20:  100%|██████████| 5/5 [01:50<00:00]\n"
     ]
    },
    {
     "name": "stdout",
     "output_type": "stream",
     "text": [
      "OK!\n",
      "ILS...\n"
     ]
    },
    {
     "name": "stderr",
     "output_type": "stream",
     "text": [
      "100%|██████████| 10000/10000 [01:21<00:00, 123.39it/s]\n"
     ]
    },
    {
     "name": "stdout",
     "output_type": "stream",
     "text": [
      "OK!\n",
      "alpha NDCG\n"
     ]
    },
    {
     "name": "stderr",
     "output_type": "stream",
     "text": [
      "100%|██████████| 10000/10000 [00:16<00:00, 603.69it/s]\n"
     ]
    },
    {
     "name": "stdout",
     "output_type": "stream",
     "text": [
      "OK!\n",
      "NDCG IA\n"
     ]
    },
    {
     "name": "stderr",
     "output_type": "stream",
     "text": [
      "100%|██████████| 10000/10000 [00:21<00:00, 461.28it/s]\n"
     ]
    },
    {
     "name": "stdout",
     "output_type": "stream",
     "text": [
      "OK!\n",
      "S-Recall\n"
     ]
    },
    {
     "name": "stderr",
     "output_type": "stream",
     "text": [
      "100%|██████████| 10000/10000 [00:09<00:00, 1086.98it/s]\n"
     ]
    },
    {
     "name": "stdout",
     "output_type": "stream",
     "text": [
      "OK!\n",
      "Calibration KL\n"
     ]
    },
    {
     "name": "stderr",
     "output_type": "stream",
     "text": [
      "100%|██████████| 10000/10000 [00:46<00:00, 215.84it/s]\n"
     ]
    },
    {
     "name": "stdout",
     "output_type": "stream",
     "text": [
      "OK!\n",
      "Calibration Hellinger\n"
     ]
    },
    {
     "name": "stderr",
     "output_type": "stream",
     "text": [
      "100%|██████████| 10000/10000 [00:46<00:00, 214.75it/s]\n"
     ]
    },
    {
     "name": "stdout",
     "output_type": "stream",
     "text": [
      "OK!\n",
      "Pre-processing...\n"
     ]
    },
    {
     "name": "stderr",
     "output_type": "stream",
     "text": [
      "\u001b[39mINFO\u001b[0m - Performing evaluation on metrics chosen\n"
     ]
    },
    {
     "name": "stdout",
     "output_type": "stream",
     "text": [
      "OK!\n",
      "Accuracy metrics...\n"
     ]
    },
    {
     "name": "stderr",
     "output_type": "stream",
     "text": [
      "Performing NDCG@20:  80%|████████  | 4/5 [01:42<00:25]             C:\\Users\\ctreuill.BIDOUILLE\\AppData\\Roaming\\Python\\Python39\\site-packages\\clayrs\\evaluation\\metrics\\ranking_metrics.py:205: RuntimeWarning: invalid value encountered in double_scalars\n",
      "  return actual / ideal\n",
      "Performing NDCG@20:  100%|██████████| 5/5 [02:21<00:00]\n"
     ]
    },
    {
     "name": "stdout",
     "output_type": "stream",
     "text": [
      "OK!\n",
      "ILS...\n"
     ]
    },
    {
     "name": "stderr",
     "output_type": "stream",
     "text": [
      "100%|██████████| 10000/10000 [02:23<00:00, 69.50it/s]\n"
     ]
    },
    {
     "name": "stdout",
     "output_type": "stream",
     "text": [
      "OK!\n",
      "alpha NDCG\n"
     ]
    },
    {
     "name": "stderr",
     "output_type": "stream",
     "text": [
      "100%|██████████| 10000/10000 [00:34<00:00, 286.89it/s]\n"
     ]
    },
    {
     "name": "stdout",
     "output_type": "stream",
     "text": [
      "OK!\n",
      "NDCG IA\n"
     ]
    },
    {
     "name": "stderr",
     "output_type": "stream",
     "text": [
      "100%|██████████| 10000/10000 [00:43<00:00, 228.06it/s]\n"
     ]
    },
    {
     "name": "stdout",
     "output_type": "stream",
     "text": [
      "OK!\n",
      "S-Recall\n"
     ]
    },
    {
     "name": "stderr",
     "output_type": "stream",
     "text": [
      "100%|██████████| 10000/10000 [00:18<00:00, 533.53it/s]\n"
     ]
    },
    {
     "name": "stdout",
     "output_type": "stream",
     "text": [
      "OK!\n",
      "Calibration KL\n"
     ]
    },
    {
     "name": "stderr",
     "output_type": "stream",
     "text": [
      "100%|██████████| 10000/10000 [01:37<00:00, 102.31it/s]\n"
     ]
    },
    {
     "name": "stdout",
     "output_type": "stream",
     "text": [
      "OK!\n",
      "Calibration Hellinger\n"
     ]
    },
    {
     "name": "stderr",
     "output_type": "stream",
     "text": [
      "100%|██████████| 10000/10000 [01:44<00:00, 95.48it/s]\n"
     ]
    },
    {
     "name": "stdout",
     "output_type": "stream",
     "text": [
      "OK!\n",
      "Pre-processing...\n"
     ]
    },
    {
     "name": "stderr",
     "output_type": "stream",
     "text": [
      "\u001b[39mINFO\u001b[0m - Performing evaluation on metrics chosen\n"
     ]
    },
    {
     "name": "stdout",
     "output_type": "stream",
     "text": [
      "OK!\n",
      "Accuracy metrics...\n"
     ]
    },
    {
     "name": "stderr",
     "output_type": "stream",
     "text": [
      "Performing NDCG@20:  80%|████████  | 4/5 [02:27<00:36]             C:\\Users\\ctreuill.BIDOUILLE\\AppData\\Roaming\\Python\\Python39\\site-packages\\clayrs\\evaluation\\metrics\\ranking_metrics.py:205: RuntimeWarning: invalid value encountered in double_scalars\n",
      "  return actual / ideal\n",
      "Performing NDCG@20:  100%|██████████| 5/5 [03:01<00:00]\n"
     ]
    },
    {
     "name": "stdout",
     "output_type": "stream",
     "text": [
      "OK!\n",
      "ILS...\n"
     ]
    },
    {
     "name": "stderr",
     "output_type": "stream",
     "text": [
      "100%|██████████| 10000/10000 [02:30<00:00, 66.42it/s]\n"
     ]
    },
    {
     "name": "stdout",
     "output_type": "stream",
     "text": [
      "OK!\n",
      "alpha NDCG\n"
     ]
    },
    {
     "name": "stderr",
     "output_type": "stream",
     "text": [
      "100%|██████████| 10000/10000 [00:33<00:00, 299.07it/s]\n"
     ]
    },
    {
     "name": "stdout",
     "output_type": "stream",
     "text": [
      "OK!\n",
      "NDCG IA\n"
     ]
    },
    {
     "name": "stderr",
     "output_type": "stream",
     "text": [
      "100%|██████████| 10000/10000 [00:44<00:00, 224.36it/s]\n"
     ]
    },
    {
     "name": "stdout",
     "output_type": "stream",
     "text": [
      "OK!\n",
      "S-Recall\n"
     ]
    },
    {
     "name": "stderr",
     "output_type": "stream",
     "text": [
      "100%|██████████| 10000/10000 [00:18<00:00, 530.85it/s]\n"
     ]
    },
    {
     "name": "stdout",
     "output_type": "stream",
     "text": [
      "OK!\n",
      "Calibration KL\n"
     ]
    },
    {
     "name": "stderr",
     "output_type": "stream",
     "text": [
      "100%|██████████| 10000/10000 [01:35<00:00, 104.82it/s]\n"
     ]
    },
    {
     "name": "stdout",
     "output_type": "stream",
     "text": [
      "OK!\n",
      "Calibration Hellinger\n"
     ]
    },
    {
     "name": "stderr",
     "output_type": "stream",
     "text": [
      "100%|██████████| 10000/10000 [01:50<00:00, 90.41it/s]\n"
     ]
    },
    {
     "name": "stdout",
     "output_type": "stream",
     "text": [
      "OK!\n",
      "Pre-processing...\n"
     ]
    },
    {
     "name": "stderr",
     "output_type": "stream",
     "text": [
      "\u001b[39mINFO\u001b[0m - Performing evaluation on metrics chosen\n"
     ]
    },
    {
     "name": "stdout",
     "output_type": "stream",
     "text": [
      "OK!\n",
      "Accuracy metrics...\n"
     ]
    },
    {
     "name": "stderr",
     "output_type": "stream",
     "text": [
      "Performing NDCG@20:  80%|████████  | 4/5 [03:04<00:46]             C:\\Users\\ctreuill.BIDOUILLE\\AppData\\Roaming\\Python\\Python39\\site-packages\\clayrs\\evaluation\\metrics\\ranking_metrics.py:205: RuntimeWarning: invalid value encountered in double_scalars\n",
      "  return actual / ideal\n",
      "Performing NDCG@20:  100%|██████████| 5/5 [03:53<00:00]\n"
     ]
    },
    {
     "name": "stdout",
     "output_type": "stream",
     "text": [
      "OK!\n",
      "ILS...\n"
     ]
    },
    {
     "name": "stderr",
     "output_type": "stream",
     "text": [
      "100%|██████████| 10000/10000 [03:07<00:00, 53.43it/s]\n"
     ]
    },
    {
     "name": "stdout",
     "output_type": "stream",
     "text": [
      "OK!\n",
      "alpha NDCG\n"
     ]
    },
    {
     "name": "stderr",
     "output_type": "stream",
     "text": [
      "100%|██████████| 10000/10000 [00:45<00:00, 218.47it/s]\n"
     ]
    },
    {
     "name": "stdout",
     "output_type": "stream",
     "text": [
      "OK!\n",
      "NDCG IA\n"
     ]
    },
    {
     "name": "stderr",
     "output_type": "stream",
     "text": [
      "100%|██████████| 10000/10000 [00:49<00:00, 202.65it/s]\n"
     ]
    },
    {
     "name": "stdout",
     "output_type": "stream",
     "text": [
      "OK!\n",
      "S-Recall\n"
     ]
    },
    {
     "name": "stderr",
     "output_type": "stream",
     "text": [
      "100%|██████████| 10000/10000 [00:19<00:00, 522.95it/s]\n"
     ]
    },
    {
     "name": "stdout",
     "output_type": "stream",
     "text": [
      "OK!\n",
      "Calibration KL\n"
     ]
    },
    {
     "name": "stderr",
     "output_type": "stream",
     "text": [
      "100%|██████████| 10000/10000 [01:50<00:00, 90.76it/s]\n"
     ]
    },
    {
     "name": "stdout",
     "output_type": "stream",
     "text": [
      "OK!\n",
      "Calibration Hellinger\n"
     ]
    },
    {
     "name": "stderr",
     "output_type": "stream",
     "text": [
      "100%|██████████| 10000/10000 [02:15<00:00, 74.04it/s]\n"
     ]
    },
    {
     "name": "stdout",
     "output_type": "stream",
     "text": [
      "OK!\n",
      "Pre-processing...\n"
     ]
    },
    {
     "name": "stderr",
     "output_type": "stream",
     "text": [
      "\u001b[39mINFO\u001b[0m - Performing evaluation on metrics chosen\n"
     ]
    },
    {
     "name": "stdout",
     "output_type": "stream",
     "text": [
      "OK!\n",
      "Accuracy metrics...\n"
     ]
    },
    {
     "name": "stderr",
     "output_type": "stream",
     "text": [
      "Performing NDCG@20:  80%|████████  | 4/5 [03:07<00:45]             C:\\Users\\ctreuill.BIDOUILLE\\AppData\\Roaming\\Python\\Python39\\site-packages\\clayrs\\evaluation\\metrics\\ranking_metrics.py:205: RuntimeWarning: invalid value encountered in double_scalars\n",
      "  return actual / ideal\n",
      "Performing NDCG@20:  100%|██████████| 5/5 [03:51<00:00]\n"
     ]
    },
    {
     "name": "stdout",
     "output_type": "stream",
     "text": [
      "OK!\n",
      "ILS...\n"
     ]
    },
    {
     "name": "stderr",
     "output_type": "stream",
     "text": [
      "100%|██████████| 10000/10000 [02:44<00:00, 60.79it/s]\n"
     ]
    },
    {
     "name": "stdout",
     "output_type": "stream",
     "text": [
      "OK!\n",
      "alpha NDCG\n"
     ]
    },
    {
     "name": "stderr",
     "output_type": "stream",
     "text": [
      "100%|██████████| 10000/10000 [00:33<00:00, 294.71it/s]\n"
     ]
    },
    {
     "name": "stdout",
     "output_type": "stream",
     "text": [
      "OK!\n",
      "NDCG IA\n"
     ]
    },
    {
     "name": "stderr",
     "output_type": "stream",
     "text": [
      "100%|██████████| 10000/10000 [00:43<00:00, 227.32it/s]\n"
     ]
    },
    {
     "name": "stdout",
     "output_type": "stream",
     "text": [
      "OK!\n",
      "S-Recall\n"
     ]
    },
    {
     "name": "stderr",
     "output_type": "stream",
     "text": [
      "100%|██████████| 10000/10000 [00:19<00:00, 507.13it/s]\n"
     ]
    },
    {
     "name": "stdout",
     "output_type": "stream",
     "text": [
      "OK!\n",
      "Calibration KL\n"
     ]
    },
    {
     "name": "stderr",
     "output_type": "stream",
     "text": [
      "100%|██████████| 10000/10000 [01:39<00:00, 100.07it/s]\n"
     ]
    },
    {
     "name": "stdout",
     "output_type": "stream",
     "text": [
      "OK!\n",
      "Calibration Hellinger\n"
     ]
    },
    {
     "name": "stderr",
     "output_type": "stream",
     "text": [
      "100%|██████████| 10000/10000 [01:41<00:00, 98.70it/s]\n"
     ]
    },
    {
     "name": "stdout",
     "output_type": "stream",
     "text": [
      "OK!\n",
      "Pre-processing...\n"
     ]
    },
    {
     "name": "stderr",
     "output_type": "stream",
     "text": [
      "\u001b[39mINFO\u001b[0m - Performing evaluation on metrics chosen\n"
     ]
    },
    {
     "name": "stdout",
     "output_type": "stream",
     "text": [
      "OK!\n",
      "Accuracy metrics...\n"
     ]
    },
    {
     "name": "stderr",
     "output_type": "stream",
     "text": [
      "Performing NDCG@20:  80%|████████  | 4/5 [02:19<00:34]             C:\\Users\\ctreuill.BIDOUILLE\\AppData\\Roaming\\Python\\Python39\\site-packages\\clayrs\\evaluation\\metrics\\ranking_metrics.py:205: RuntimeWarning: invalid value encountered in double_scalars\n",
      "  return actual / ideal\n",
      "Performing NDCG@20:  100%|██████████| 5/5 [02:57<00:00]\n"
     ]
    },
    {
     "name": "stdout",
     "output_type": "stream",
     "text": [
      "OK!\n",
      "ILS...\n"
     ]
    },
    {
     "name": "stderr",
     "output_type": "stream",
     "text": [
      "100%|██████████| 10000/10000 [02:29<00:00, 66.95it/s]\n"
     ]
    },
    {
     "name": "stdout",
     "output_type": "stream",
     "text": [
      "OK!\n",
      "alpha NDCG\n"
     ]
    },
    {
     "name": "stderr",
     "output_type": "stream",
     "text": [
      "100%|██████████| 10000/10000 [00:33<00:00, 300.65it/s]\n"
     ]
    },
    {
     "name": "stdout",
     "output_type": "stream",
     "text": [
      "OK!\n",
      "NDCG IA\n"
     ]
    },
    {
     "name": "stderr",
     "output_type": "stream",
     "text": [
      "100%|██████████| 10000/10000 [00:48<00:00, 205.19it/s]\n"
     ]
    },
    {
     "name": "stdout",
     "output_type": "stream",
     "text": [
      "OK!\n",
      "S-Recall\n"
     ]
    },
    {
     "name": "stderr",
     "output_type": "stream",
     "text": [
      "100%|██████████| 10000/10000 [00:18<00:00, 535.06it/s]\n"
     ]
    },
    {
     "name": "stdout",
     "output_type": "stream",
     "text": [
      "OK!\n",
      "Calibration KL\n"
     ]
    },
    {
     "name": "stderr",
     "output_type": "stream",
     "text": [
      "100%|██████████| 10000/10000 [01:36<00:00, 103.71it/s]\n"
     ]
    },
    {
     "name": "stdout",
     "output_type": "stream",
     "text": [
      "OK!\n",
      "Calibration Hellinger\n"
     ]
    },
    {
     "name": "stderr",
     "output_type": "stream",
     "text": [
      "100%|██████████| 10000/10000 [01:38<00:00, 102.00it/s]\n"
     ]
    },
    {
     "name": "stdout",
     "output_type": "stream",
     "text": [
      "OK!\n",
      "Pre-processing...\n"
     ]
    },
    {
     "name": "stderr",
     "output_type": "stream",
     "text": [
      "\u001b[39mINFO\u001b[0m - Performing evaluation on metrics chosen\n"
     ]
    },
    {
     "name": "stdout",
     "output_type": "stream",
     "text": [
      "OK!\n",
      "Accuracy metrics...\n"
     ]
    },
    {
     "name": "stderr",
     "output_type": "stream",
     "text": [
      "Performing NDCG@20:  80%|████████  | 4/5 [02:17<00:34]             C:\\Users\\ctreuill.BIDOUILLE\\AppData\\Roaming\\Python\\Python39\\site-packages\\clayrs\\evaluation\\metrics\\ranking_metrics.py:205: RuntimeWarning: invalid value encountered in double_scalars\n",
      "  return actual / ideal\n",
      "Performing NDCG@20:  100%|██████████| 5/5 [02:39<00:00]\n"
     ]
    },
    {
     "name": "stdout",
     "output_type": "stream",
     "text": [
      "OK!\n",
      "ILS...\n"
     ]
    },
    {
     "name": "stderr",
     "output_type": "stream",
     "text": [
      "100%|██████████| 10000/10000 [01:53<00:00, 88.23it/s]\n"
     ]
    },
    {
     "name": "stdout",
     "output_type": "stream",
     "text": [
      "OK!\n",
      "alpha NDCG\n"
     ]
    },
    {
     "name": "stderr",
     "output_type": "stream",
     "text": [
      "100%|██████████| 10000/10000 [00:16<00:00, 605.13it/s]\n"
     ]
    },
    {
     "name": "stdout",
     "output_type": "stream",
     "text": [
      "OK!\n",
      "NDCG IA\n"
     ]
    },
    {
     "name": "stderr",
     "output_type": "stream",
     "text": [
      "100%|██████████| 10000/10000 [00:24<00:00, 407.46it/s]\n"
     ]
    },
    {
     "name": "stdout",
     "output_type": "stream",
     "text": [
      "OK!\n",
      "S-Recall\n"
     ]
    },
    {
     "name": "stderr",
     "output_type": "stream",
     "text": [
      "100%|██████████| 10000/10000 [00:09<00:00, 1016.86it/s]\n"
     ]
    },
    {
     "name": "stdout",
     "output_type": "stream",
     "text": [
      "OK!\n",
      "Calibration KL\n"
     ]
    },
    {
     "name": "stderr",
     "output_type": "stream",
     "text": [
      "100%|██████████| 10000/10000 [00:46<00:00, 213.04it/s]\n"
     ]
    },
    {
     "name": "stdout",
     "output_type": "stream",
     "text": [
      "OK!\n",
      "Calibration Hellinger\n"
     ]
    },
    {
     "name": "stderr",
     "output_type": "stream",
     "text": [
      "100%|██████████| 10000/10000 [00:54<00:00, 184.90it/s]\n"
     ]
    },
    {
     "name": "stdout",
     "output_type": "stream",
     "text": [
      "OK!\n",
      "Pre-processing...\n"
     ]
    },
    {
     "name": "stderr",
     "output_type": "stream",
     "text": [
      "\u001b[39mINFO\u001b[0m - Performing evaluation on metrics chosen\n"
     ]
    },
    {
     "name": "stdout",
     "output_type": "stream",
     "text": [
      "OK!\n",
      "Accuracy metrics...\n"
     ]
    },
    {
     "name": "stderr",
     "output_type": "stream",
     "text": [
      "Performing NDCG@20:  80%|████████  | 4/5 [01:24<00:21]             C:\\Users\\ctreuill.BIDOUILLE\\AppData\\Roaming\\Python\\Python39\\site-packages\\clayrs\\evaluation\\metrics\\ranking_metrics.py:205: RuntimeWarning: invalid value encountered in double_scalars\n",
      "  return actual / ideal\n",
      "Performing NDCG@20:  100%|██████████| 5/5 [01:47<00:00]\n"
     ]
    },
    {
     "name": "stdout",
     "output_type": "stream",
     "text": [
      "OK!\n",
      "ILS...\n"
     ]
    },
    {
     "name": "stderr",
     "output_type": "stream",
     "text": [
      "100%|██████████| 10000/10000 [01:23<00:00, 119.32it/s]\n"
     ]
    },
    {
     "name": "stdout",
     "output_type": "stream",
     "text": [
      "OK!\n",
      "alpha NDCG\n"
     ]
    },
    {
     "name": "stderr",
     "output_type": "stream",
     "text": [
      "100%|██████████| 10000/10000 [00:17<00:00, 573.38it/s]\n"
     ]
    },
    {
     "name": "stdout",
     "output_type": "stream",
     "text": [
      "OK!\n",
      "NDCG IA\n"
     ]
    },
    {
     "name": "stderr",
     "output_type": "stream",
     "text": [
      "100%|██████████| 10000/10000 [00:21<00:00, 467.25it/s]\n"
     ]
    },
    {
     "name": "stdout",
     "output_type": "stream",
     "text": [
      "OK!\n",
      "S-Recall\n"
     ]
    },
    {
     "name": "stderr",
     "output_type": "stream",
     "text": [
      "100%|██████████| 10000/10000 [00:09<00:00, 1091.37it/s]\n"
     ]
    },
    {
     "name": "stdout",
     "output_type": "stream",
     "text": [
      "OK!\n",
      "Calibration KL\n"
     ]
    },
    {
     "name": "stderr",
     "output_type": "stream",
     "text": [
      "100%|██████████| 10000/10000 [00:46<00:00, 215.95it/s]\n"
     ]
    },
    {
     "name": "stdout",
     "output_type": "stream",
     "text": [
      "OK!\n",
      "Calibration Hellinger\n"
     ]
    },
    {
     "name": "stderr",
     "output_type": "stream",
     "text": [
      "100%|██████████| 10000/10000 [00:47<00:00, 211.75it/s]\n"
     ]
    },
    {
     "name": "stdout",
     "output_type": "stream",
     "text": [
      "OK!\n",
      "Pre-processing...\n"
     ]
    },
    {
     "name": "stderr",
     "output_type": "stream",
     "text": [
      "\u001b[39mINFO\u001b[0m - Performing evaluation on metrics chosen\n"
     ]
    },
    {
     "name": "stdout",
     "output_type": "stream",
     "text": [
      "OK!\n",
      "Accuracy metrics...\n"
     ]
    },
    {
     "name": "stderr",
     "output_type": "stream",
     "text": [
      "Performing NDCG@20:  80%|████████  | 4/5 [01:22<00:20]             C:\\Users\\ctreuill.BIDOUILLE\\AppData\\Roaming\\Python\\Python39\\site-packages\\clayrs\\evaluation\\metrics\\ranking_metrics.py:205: RuntimeWarning: invalid value encountered in double_scalars\n",
      "  return actual / ideal\n",
      "Performing NDCG@20:  100%|██████████| 5/5 [01:43<00:00]\n"
     ]
    },
    {
     "name": "stdout",
     "output_type": "stream",
     "text": [
      "OK!\n",
      "ILS...\n"
     ]
    },
    {
     "name": "stderr",
     "output_type": "stream",
     "text": [
      "100%|██████████| 10000/10000 [01:21<00:00, 122.22it/s]\n"
     ]
    },
    {
     "name": "stdout",
     "output_type": "stream",
     "text": [
      "OK!\n",
      "alpha NDCG\n"
     ]
    },
    {
     "name": "stderr",
     "output_type": "stream",
     "text": [
      "100%|██████████| 10000/10000 [00:17<00:00, 561.55it/s]\n"
     ]
    },
    {
     "name": "stdout",
     "output_type": "stream",
     "text": [
      "OK!\n",
      "NDCG IA\n"
     ]
    },
    {
     "name": "stderr",
     "output_type": "stream",
     "text": [
      "100%|██████████| 10000/10000 [00:21<00:00, 462.96it/s]\n"
     ]
    },
    {
     "name": "stdout",
     "output_type": "stream",
     "text": [
      "OK!\n",
      "S-Recall\n"
     ]
    },
    {
     "name": "stderr",
     "output_type": "stream",
     "text": [
      "100%|██████████| 10000/10000 [00:09<00:00, 1052.17it/s]\n"
     ]
    },
    {
     "name": "stdout",
     "output_type": "stream",
     "text": [
      "OK!\n",
      "Calibration KL\n"
     ]
    },
    {
     "name": "stderr",
     "output_type": "stream",
     "text": [
      "100%|██████████| 10000/10000 [00:45<00:00, 220.06it/s]\n"
     ]
    },
    {
     "name": "stdout",
     "output_type": "stream",
     "text": [
      "OK!\n",
      "Calibration Hellinger\n"
     ]
    },
    {
     "name": "stderr",
     "output_type": "stream",
     "text": [
      "100%|██████████| 10000/10000 [00:45<00:00, 218.49it/s]\n"
     ]
    },
    {
     "name": "stdout",
     "output_type": "stream",
     "text": [
      "OK!\n",
      "Pre-processing...\n"
     ]
    },
    {
     "name": "stderr",
     "output_type": "stream",
     "text": [
      "\u001b[39mINFO\u001b[0m - Performing evaluation on metrics chosen\n"
     ]
    },
    {
     "name": "stdout",
     "output_type": "stream",
     "text": [
      "OK!\n",
      "Accuracy metrics...\n"
     ]
    },
    {
     "name": "stderr",
     "output_type": "stream",
     "text": [
      "Performing NDCG@20:  80%|████████  | 4/5 [01:22<00:20]             C:\\Users\\ctreuill.BIDOUILLE\\AppData\\Roaming\\Python\\Python39\\site-packages\\clayrs\\evaluation\\metrics\\ranking_metrics.py:205: RuntimeWarning: invalid value encountered in double_scalars\n",
      "  return actual / ideal\n",
      "Performing NDCG@20:  100%|██████████| 5/5 [01:43<00:00]\n"
     ]
    },
    {
     "name": "stdout",
     "output_type": "stream",
     "text": [
      "OK!\n",
      "ILS...\n"
     ]
    },
    {
     "name": "stderr",
     "output_type": "stream",
     "text": [
      "100%|██████████| 10000/10000 [01:23<00:00, 119.56it/s]\n"
     ]
    },
    {
     "name": "stdout",
     "output_type": "stream",
     "text": [
      "OK!\n",
      "alpha NDCG\n"
     ]
    },
    {
     "name": "stderr",
     "output_type": "stream",
     "text": [
      "100%|██████████| 10000/10000 [00:26<00:00, 374.96it/s]\n"
     ]
    },
    {
     "name": "stdout",
     "output_type": "stream",
     "text": [
      "OK!\n",
      "NDCG IA\n"
     ]
    },
    {
     "name": "stderr",
     "output_type": "stream",
     "text": [
      "100%|██████████| 10000/10000 [00:23<00:00, 428.29it/s]\n"
     ]
    },
    {
     "name": "stdout",
     "output_type": "stream",
     "text": [
      "OK!\n",
      "S-Recall\n"
     ]
    },
    {
     "name": "stderr",
     "output_type": "stream",
     "text": [
      "100%|██████████| 10000/10000 [00:09<00:00, 1024.52it/s]\n"
     ]
    },
    {
     "name": "stdout",
     "output_type": "stream",
     "text": [
      "OK!\n",
      "Calibration KL\n"
     ]
    },
    {
     "name": "stderr",
     "output_type": "stream",
     "text": [
      "100%|██████████| 10000/10000 [00:55<00:00, 179.68it/s]\n"
     ]
    },
    {
     "name": "stdout",
     "output_type": "stream",
     "text": [
      "OK!\n",
      "Calibration Hellinger\n"
     ]
    },
    {
     "name": "stderr",
     "output_type": "stream",
     "text": [
      "100%|██████████| 10000/10000 [00:52<00:00, 189.99it/s]\n"
     ]
    },
    {
     "name": "stdout",
     "output_type": "stream",
     "text": [
      "OK!\n",
      "Pre-processing...\n"
     ]
    },
    {
     "name": "stderr",
     "output_type": "stream",
     "text": [
      "\u001b[39mINFO\u001b[0m - Performing evaluation on metrics chosen\n"
     ]
    },
    {
     "name": "stdout",
     "output_type": "stream",
     "text": [
      "OK!\n",
      "Accuracy metrics...\n"
     ]
    },
    {
     "name": "stderr",
     "output_type": "stream",
     "text": [
      "Performing NDCG@20:  80%|████████  | 4/5 [01:26<00:21]             C:\\Users\\ctreuill.BIDOUILLE\\AppData\\Roaming\\Python\\Python39\\site-packages\\clayrs\\evaluation\\metrics\\ranking_metrics.py:205: RuntimeWarning: invalid value encountered in double_scalars\n",
      "  return actual / ideal\n",
      "Performing NDCG@20:  100%|██████████| 5/5 [01:49<00:00]\n"
     ]
    },
    {
     "name": "stdout",
     "output_type": "stream",
     "text": [
      "OK!\n",
      "ILS...\n"
     ]
    },
    {
     "name": "stderr",
     "output_type": "stream",
     "text": [
      "100%|██████████| 10000/10000 [02:09<00:00, 77.21it/s]\n"
     ]
    },
    {
     "name": "stdout",
     "output_type": "stream",
     "text": [
      "OK!\n",
      "alpha NDCG\n"
     ]
    },
    {
     "name": "stderr",
     "output_type": "stream",
     "text": [
      "100%|██████████| 10000/10000 [00:26<00:00, 374.83it/s]\n"
     ]
    },
    {
     "name": "stdout",
     "output_type": "stream",
     "text": [
      "OK!\n",
      "NDCG IA\n"
     ]
    },
    {
     "name": "stderr",
     "output_type": "stream",
     "text": [
      "100%|██████████| 10000/10000 [00:36<00:00, 272.78it/s]\n"
     ]
    },
    {
     "name": "stdout",
     "output_type": "stream",
     "text": [
      "OK!\n",
      "S-Recall\n"
     ]
    },
    {
     "name": "stderr",
     "output_type": "stream",
     "text": [
      "100%|██████████| 10000/10000 [00:13<00:00, 737.51it/s]\n"
     ]
    },
    {
     "name": "stdout",
     "output_type": "stream",
     "text": [
      "OK!\n",
      "Calibration KL\n"
     ]
    },
    {
     "name": "stderr",
     "output_type": "stream",
     "text": [
      "100%|██████████| 10000/10000 [01:11<00:00, 139.54it/s]\n"
     ]
    },
    {
     "name": "stdout",
     "output_type": "stream",
     "text": [
      "OK!\n",
      "Calibration Hellinger\n"
     ]
    },
    {
     "name": "stderr",
     "output_type": "stream",
     "text": [
      "100%|██████████| 10000/10000 [01:13<00:00, 136.25it/s]\n"
     ]
    },
    {
     "name": "stdout",
     "output_type": "stream",
     "text": [
      "OK!\n"
     ]
    }
   ],
   "source": [
    "eval_greedy_0, eval_greedy_0_ind = get_all_results(results_greedy_0, test_set, users_list, users_interest, similarity_matrix, categories_list, 'greedy_0', k=20)\n",
    "eval_greedy_01, eval_greedy_01_ind = get_all_results(results_greedy_01, test_set, users_list, users_interest, similarity_matrix, categories_list, 'greedy_01', k=20)\n",
    "eval_greedy_02, eval_greedy_02_ind = get_all_results(results_greedy_02, test_set, users_list, users_interest, similarity_matrix, categories_list, 'greedy_02', k=20)\n",
    "eval_greedy_03, eval_greedy_03_ind = get_all_results(results_greedy_03, test_set, users_list, users_interest, similarity_matrix, categories_list, 'greedy_03', k=20)\n",
    "eval_greedy_04, eval_greedy_04_ind = get_all_results(results_greedy_04, test_set, users_list, users_interest, similarity_matrix, categories_list, 'greedy_04', k=20)\n",
    "eval_greedy_05, eval_greedy_05_ind = get_all_results(results_greedy_05, test_set, users_list, users_interest, similarity_matrix, categories_list, 'greedy_05', k=20)\n",
    "eval_greedy_06, eval_greedy_06_ind = get_all_results(results_greedy_06, test_set, users_list, users_interest, similarity_matrix, categories_list, 'greedy_06', k=20)\n",
    "eval_greedy_07, eval_greedy_07_ind = get_all_results(results_greedy_07, test_set, users_list, users_interest, similarity_matrix, categories_list, 'greedy_07', k=20)\n",
    "eval_greedy_08, eval_greedy_08_ind = get_all_results(results_greedy_08, test_set, users_list, users_interest, similarity_matrix, categories_list, 'greedy_08', k=20)\n",
    "eval_greedy_09, eval_greedy_09_ind = get_all_results(results_greedy_09, test_set, users_list, users_interest, similarity_matrix, categories_list, 'greedy_09', k=20)\n",
    "eval_greedy_1, eval_greedy_1_ind = get_all_results(results_greedy_1, test_set, users_list, users_interest, similarity_matrix, categories_list, 'greedy_1', k=20)"
   ]
  },
  {
   "cell_type": "code",
   "execution_count": 395,
   "metadata": {},
   "outputs": [],
   "source": [
    "complete_results_greedy = pd.concat([eval_greedy_0, eval_greedy_01, eval_greedy_02, eval_greedy_03, eval_greedy_04, eval_greedy_05, eval_greedy_06, eval_greedy_07, eval_greedy_08, eval_greedy_09, eval_greedy_1])"
   ]
  },
  {
   "cell_type": "code",
   "execution_count": 396,
   "metadata": {},
   "outputs": [
    {
     "data": {
      "text/html": [
       "<div>\n",
       "<style scoped>\n",
       "    .dataframe tbody tr th:only-of-type {\n",
       "        vertical-align: middle;\n",
       "    }\n",
       "\n",
       "    .dataframe tbody tr th {\n",
       "        vertical-align: top;\n",
       "    }\n",
       "\n",
       "    .dataframe thead th {\n",
       "        text-align: right;\n",
       "    }\n",
       "</style>\n",
       "<table border=\"1\" class=\"dataframe\">\n",
       "  <thead>\n",
       "    <tr style=\"text-align: right;\">\n",
       "      <th></th>\n",
       "      <th>Precision</th>\n",
       "      <th>Recall</th>\n",
       "      <th>F1-score</th>\n",
       "      <th>MRR</th>\n",
       "      <th>NDCG</th>\n",
       "      <th>ILS</th>\n",
       "      <th>alpha_ndcg</th>\n",
       "      <th>ndcg_ia</th>\n",
       "      <th>s_recall</th>\n",
       "      <th>c_kl</th>\n",
       "      <th>c_hell</th>\n",
       "    </tr>\n",
       "    <tr>\n",
       "      <th>a_value</th>\n",
       "      <th></th>\n",
       "      <th></th>\n",
       "      <th></th>\n",
       "      <th></th>\n",
       "      <th></th>\n",
       "      <th></th>\n",
       "      <th></th>\n",
       "      <th></th>\n",
       "      <th></th>\n",
       "      <th></th>\n",
       "      <th></th>\n",
       "    </tr>\n",
       "  </thead>\n",
       "  <tbody>\n",
       "    <tr>\n",
       "      <th>greedy_0</th>\n",
       "      <td>0.224</td>\n",
       "      <td>0.670</td>\n",
       "      <td>0.282</td>\n",
       "      <td>0.425</td>\n",
       "      <td>0.563</td>\n",
       "      <td>0.550</td>\n",
       "      <td>0.890</td>\n",
       "      <td>0.518</td>\n",
       "      <td>0.383</td>\n",
       "      <td>0.797</td>\n",
       "      <td>0.364</td>\n",
       "    </tr>\n",
       "    <tr>\n",
       "      <th>greedy_01</th>\n",
       "      <td>0.224</td>\n",
       "      <td>0.670</td>\n",
       "      <td>0.282</td>\n",
       "      <td>0.425</td>\n",
       "      <td>0.563</td>\n",
       "      <td>0.550</td>\n",
       "      <td>0.890</td>\n",
       "      <td>0.518</td>\n",
       "      <td>0.383</td>\n",
       "      <td>0.796</td>\n",
       "      <td>0.363</td>\n",
       "    </tr>\n",
       "    <tr>\n",
       "      <th>greedy_02</th>\n",
       "      <td>0.224</td>\n",
       "      <td>0.670</td>\n",
       "      <td>0.282</td>\n",
       "      <td>0.426</td>\n",
       "      <td>0.564</td>\n",
       "      <td>0.549</td>\n",
       "      <td>0.890</td>\n",
       "      <td>0.519</td>\n",
       "      <td>0.383</td>\n",
       "      <td>0.793</td>\n",
       "      <td>0.363</td>\n",
       "    </tr>\n",
       "    <tr>\n",
       "      <th>greedy_03</th>\n",
       "      <td>0.225</td>\n",
       "      <td>0.671</td>\n",
       "      <td>0.282</td>\n",
       "      <td>0.427</td>\n",
       "      <td>0.564</td>\n",
       "      <td>0.548</td>\n",
       "      <td>0.890</td>\n",
       "      <td>0.519</td>\n",
       "      <td>0.384</td>\n",
       "      <td>0.789</td>\n",
       "      <td>0.362</td>\n",
       "    </tr>\n",
       "    <tr>\n",
       "      <th>greedy_04</th>\n",
       "      <td>0.225</td>\n",
       "      <td>0.672</td>\n",
       "      <td>0.282</td>\n",
       "      <td>0.430</td>\n",
       "      <td>0.565</td>\n",
       "      <td>0.545</td>\n",
       "      <td>0.890</td>\n",
       "      <td>0.520</td>\n",
       "      <td>0.386</td>\n",
       "      <td>0.775</td>\n",
       "      <td>0.359</td>\n",
       "    </tr>\n",
       "    <tr>\n",
       "      <th>greedy_05</th>\n",
       "      <td>0.224</td>\n",
       "      <td>0.671</td>\n",
       "      <td>0.282</td>\n",
       "      <td>0.420</td>\n",
       "      <td>0.557</td>\n",
       "      <td>0.528</td>\n",
       "      <td>0.886</td>\n",
       "      <td>0.522</td>\n",
       "      <td>0.395</td>\n",
       "      <td>0.741</td>\n",
       "      <td>0.353</td>\n",
       "    </tr>\n",
       "    <tr>\n",
       "      <th>greedy_06</th>\n",
       "      <td>0.223</td>\n",
       "      <td>0.669</td>\n",
       "      <td>0.281</td>\n",
       "      <td>0.415</td>\n",
       "      <td>0.553</td>\n",
       "      <td>0.519</td>\n",
       "      <td>0.887</td>\n",
       "      <td>0.522</td>\n",
       "      <td>0.399</td>\n",
       "      <td>0.736</td>\n",
       "      <td>0.352</td>\n",
       "    </tr>\n",
       "    <tr>\n",
       "      <th>greedy_07</th>\n",
       "      <td>0.223</td>\n",
       "      <td>0.669</td>\n",
       "      <td>0.280</td>\n",
       "      <td>0.411</td>\n",
       "      <td>0.550</td>\n",
       "      <td>0.508</td>\n",
       "      <td>0.886</td>\n",
       "      <td>0.524</td>\n",
       "      <td>0.406</td>\n",
       "      <td>0.714</td>\n",
       "      <td>0.348</td>\n",
       "    </tr>\n",
       "    <tr>\n",
       "      <th>greedy_08</th>\n",
       "      <td>0.222</td>\n",
       "      <td>0.667</td>\n",
       "      <td>0.279</td>\n",
       "      <td>0.401</td>\n",
       "      <td>0.541</td>\n",
       "      <td>0.475</td>\n",
       "      <td>0.875</td>\n",
       "      <td>0.523</td>\n",
       "      <td>0.427</td>\n",
       "      <td>0.668</td>\n",
       "      <td>0.339</td>\n",
       "    </tr>\n",
       "    <tr>\n",
       "      <th>greedy_09</th>\n",
       "      <td>0.217</td>\n",
       "      <td>0.649</td>\n",
       "      <td>0.273</td>\n",
       "      <td>0.385</td>\n",
       "      <td>0.526</td>\n",
       "      <td>0.386</td>\n",
       "      <td>0.829</td>\n",
       "      <td>0.515</td>\n",
       "      <td>0.492</td>\n",
       "      <td>0.568</td>\n",
       "      <td>0.324</td>\n",
       "    </tr>\n",
       "    <tr>\n",
       "      <th>greedy_1</th>\n",
       "      <td>0.173</td>\n",
       "      <td>0.473</td>\n",
       "      <td>0.212</td>\n",
       "      <td>0.358</td>\n",
       "      <td>0.529</td>\n",
       "      <td>0.152</td>\n",
       "      <td>0.676</td>\n",
       "      <td>0.422</td>\n",
       "      <td>0.613</td>\n",
       "      <td>0.758</td>\n",
       "      <td>0.414</td>\n",
       "    </tr>\n",
       "  </tbody>\n",
       "</table>\n",
       "</div>"
      ],
      "text/plain": [
       "           Precision  Recall  F1-score    MRR   NDCG    ILS  alpha_ndcg  \\\n",
       "a_value                                                                   \n",
       "greedy_0       0.224   0.670     0.282  0.425  0.563  0.550       0.890   \n",
       "greedy_01      0.224   0.670     0.282  0.425  0.563  0.550       0.890   \n",
       "greedy_02      0.224   0.670     0.282  0.426  0.564  0.549       0.890   \n",
       "greedy_03      0.225   0.671     0.282  0.427  0.564  0.548       0.890   \n",
       "greedy_04      0.225   0.672     0.282  0.430  0.565  0.545       0.890   \n",
       "greedy_05      0.224   0.671     0.282  0.420  0.557  0.528       0.886   \n",
       "greedy_06      0.223   0.669     0.281  0.415  0.553  0.519       0.887   \n",
       "greedy_07      0.223   0.669     0.280  0.411  0.550  0.508       0.886   \n",
       "greedy_08      0.222   0.667     0.279  0.401  0.541  0.475       0.875   \n",
       "greedy_09      0.217   0.649     0.273  0.385  0.526  0.386       0.829   \n",
       "greedy_1       0.173   0.473     0.212  0.358  0.529  0.152       0.676   \n",
       "\n",
       "           ndcg_ia  s_recall   c_kl  c_hell  \n",
       "a_value                                      \n",
       "greedy_0     0.518     0.383  0.797   0.364  \n",
       "greedy_01    0.518     0.383  0.796   0.363  \n",
       "greedy_02    0.519     0.383  0.793   0.363  \n",
       "greedy_03    0.519     0.384  0.789   0.362  \n",
       "greedy_04    0.520     0.386  0.775   0.359  \n",
       "greedy_05    0.522     0.395  0.741   0.353  \n",
       "greedy_06    0.522     0.399  0.736   0.352  \n",
       "greedy_07    0.524     0.406  0.714   0.348  \n",
       "greedy_08    0.523     0.427  0.668   0.339  \n",
       "greedy_09    0.515     0.492  0.568   0.324  \n",
       "greedy_1     0.422     0.613  0.758   0.414  "
      ]
     },
     "execution_count": 396,
     "metadata": {},
     "output_type": "execute_result"
    }
   ],
   "source": [
    "complete_results_greedy"
   ]
  },
  {
   "cell_type": "code",
   "execution_count": 398,
   "metadata": {},
   "outputs": [],
   "source": [
    "complete_results_greedy.to_csv('results_perfs/greedy/complete_greedy.csv')"
   ]
  },
  {
   "cell_type": "code",
   "execution_count": 538,
   "metadata": {},
   "outputs": [],
   "source": [
    "a = 0\n",
    "for i in [eval_greedy_0_ind, eval_greedy_01_ind, eval_greedy_02_ind, eval_greedy_03_ind, eval_greedy_04_ind, eval_greedy_05_ind, eval_greedy_06_ind, eval_greedy_07_ind, eval_greedy_08_ind, eval_greedy_09_ind, eval_greedy_1_ind]:\n",
    "    i = i.round(3)\n",
    "    path = 'results_perfs/greedy/indiv/ind_a_0'+str(a)+'.csv'\n",
    "    i.to_csv(path)\n",
    "    a = a+1"
   ]
  },
  {
   "cell_type": "markdown",
   "metadata": {},
   "source": [
    "# Comparison distributions"
   ]
  },
  {
   "cell_type": "code",
   "execution_count": 515,
   "metadata": {},
   "outputs": [],
   "source": [
    "def compare_distrib(recos, users_list, users_interest_df):\n",
    "    recos = get_results_categories(recos)\n",
    "    dict_ch_smooth = {}\n",
    "    for u in tqdm(users_list):\n",
    "        best_ch = 10\n",
    "        recos_user = recos[recos['user_id']==u].reset_index(drop=True)\n",
    "        interest_user = users_interest_df.loc[u].values.tolist()\n",
    "        distrib_cat_recos = []\n",
    "        for c in categories_list:\n",
    "            prop_cat = len(recos_user[recos_user['category']==c])\n",
    "            distrib_cat_recos.append(prop_cat/len(recos_user))\n",
    "        for l in np.arange(0, 1.1, 0.1):\n",
    "            new_distrib = homogeneization(interest_user, param=round(l,1))\n",
    "            c_h = hellinger(distrib_cat_recos,new_distrib)\n",
    "            if c_h < best_ch:\n",
    "                best_ch = c_h\n",
    "                optimal_lambda = l\n",
    "        dict_key = {u:best_ch}\n",
    "        dict_ch_smooth.update(dict_key)\n",
    "    return dict_ch_smooth"
   ]
  },
  {
   "cell_type": "code",
   "execution_count": 516,
   "metadata": {},
   "outputs": [
    {
     "name": "stderr",
     "output_type": "stream",
     "text": [
      "  0%|          | 0/10000 [00:00<?, ?it/s]"
     ]
    },
    {
     "name": "stderr",
     "output_type": "stream",
     "text": [
      "100%|██████████| 10000/10000 [01:39<00:00, 100.56it/s]\n",
      "100%|██████████| 10000/10000 [01:33<00:00, 106.74it/s]\n",
      "100%|██████████| 10000/10000 [01:32<00:00, 107.82it/s]\n",
      "100%|██████████| 10000/10000 [01:18<00:00, 126.74it/s]\n",
      "100%|██████████| 10000/10000 [01:00<00:00, 165.61it/s]\n",
      "100%|██████████| 10000/10000 [01:08<00:00, 146.95it/s]\n",
      "100%|██████████| 10000/10000 [01:09<00:00, 144.54it/s]\n",
      "100%|██████████| 10000/10000 [01:00<00:00, 164.28it/s]\n",
      "100%|██████████| 10000/10000 [01:01<00:00, 162.57it/s]\n",
      "100%|██████████| 10000/10000 [01:01<00:00, 162.20it/s]\n",
      "100%|██████████| 10000/10000 [01:00<00:00, 164.29it/s]\n",
      "100%|██████████| 10000/10000 [01:03<00:00, 157.47it/s]\n"
     ]
    }
   ],
   "source": [
    "ch_baseline = compare_distrib(results_baseline_k20, users_list, users_interest)\n",
    "\n",
    "ch_greedy0 = compare_distrib(results_greedy_0, users_list, users_interest)\n",
    "ch_greedy01 = compare_distrib(results_greedy_01, users_list, users_interest)\n",
    "ch_greedy02 = compare_distrib(results_greedy_02, users_list, users_interest)\n",
    "ch_greedy03 = compare_distrib(results_greedy_03, users_list, users_interest)\n",
    "ch_greedy04 = compare_distrib(results_greedy_04, users_list, users_interest)\n",
    "ch_greedy05 = compare_distrib(results_greedy_05, users_list, users_interest)\n",
    "ch_greedy06 = compare_distrib(results_greedy_06, users_list, users_interest)\n",
    "ch_greedy07 = compare_distrib(results_greedy_07, users_list, users_interest)\n",
    "ch_greedy08 = compare_distrib(results_greedy_08, users_list, users_interest)\n",
    "ch_greedy09 = compare_distrib(results_greedy_09, users_list, users_interest)\n",
    "ch_greedy1 = compare_distrib(results_greedy_1, users_list, users_interest)"
   ]
  },
  {
   "cell_type": "code",
   "execution_count": 517,
   "metadata": {},
   "outputs": [],
   "source": [
    "chl_greedy0 = np.mean(list(ch_greedy0.values())).round(3)\n",
    "chl_greedy01 = np.mean(list(ch_greedy01.values())).round(3)\n",
    "chl_greedy02 = np.mean(list(ch_greedy02.values())).round(3)\n",
    "chl_greedy03 = np.mean(list(ch_greedy03.values())).round(3)\n",
    "chl_greedy04 = np.mean(list(ch_greedy04.values())).round(3)\n",
    "chl_greedy05 = np.mean(list(ch_greedy05.values())).round(3)\n",
    "chl_greedy06 = np.mean(list(ch_greedy06.values())).round(3)\n",
    "chl_greedy07 = np.mean(list(ch_greedy07.values())).round(3)\n",
    "chl_greedy08 = np.mean(list(ch_greedy08.values())).round(3)\n",
    "chl_greedy09 = np.mean(list(ch_greedy09.values())).round(3)\n",
    "chl_greedy1 = np.mean(list(ch_greedy1.values())).round(3)\n",
    "\n",
    "chl_baseline = np.mean(list(ch_baseline.values())).round(3)\n"
   ]
  },
  {
   "cell_type": "code",
   "execution_count": 518,
   "metadata": {},
   "outputs": [],
   "source": [
    "chl_greedy_complete = [chl_greedy0, chl_greedy01, chl_greedy02, chl_greedy03, chl_greedy04, chl_greedy05, chl_greedy06, chl_greedy07, chl_greedy08, chl_greedy09, chl_greedy1]"
   ]
  },
  {
   "cell_type": "code",
   "execution_count": 519,
   "metadata": {},
   "outputs": [
    {
     "data": {
      "text/plain": [
       "[0.36, 0.36, 0.359, 0.359, 0.356, 0.349, 0.348, 0.344, 0.335, 0.316, 0.37]"
      ]
     },
     "execution_count": 519,
     "metadata": {},
     "output_type": "execute_result"
    }
   ],
   "source": [
    "chl_greedy_complete"
   ]
  },
  {
   "cell_type": "code",
   "execution_count": 520,
   "metadata": {},
   "outputs": [],
   "source": [
    "complete_results_greedy['c_hell_target'] = chl_greedy_complete"
   ]
  },
  {
   "cell_type": "code",
   "execution_count": 521,
   "metadata": {},
   "outputs": [
    {
     "data": {
      "text/html": [
       "<div>\n",
       "<style scoped>\n",
       "    .dataframe tbody tr th:only-of-type {\n",
       "        vertical-align: middle;\n",
       "    }\n",
       "\n",
       "    .dataframe tbody tr th {\n",
       "        vertical-align: top;\n",
       "    }\n",
       "\n",
       "    .dataframe thead th {\n",
       "        text-align: right;\n",
       "    }\n",
       "</style>\n",
       "<table border=\"1\" class=\"dataframe\">\n",
       "  <thead>\n",
       "    <tr style=\"text-align: right;\">\n",
       "      <th></th>\n",
       "      <th>Precision</th>\n",
       "      <th>Recall</th>\n",
       "      <th>F1-score</th>\n",
       "      <th>MRR</th>\n",
       "      <th>NDCG</th>\n",
       "      <th>ILS</th>\n",
       "      <th>alpha_ndcg</th>\n",
       "      <th>ndcg_ia</th>\n",
       "      <th>s_recall</th>\n",
       "      <th>c_kl</th>\n",
       "      <th>c_hell</th>\n",
       "      <th>c_hell_target</th>\n",
       "    </tr>\n",
       "    <tr>\n",
       "      <th>a_value</th>\n",
       "      <th></th>\n",
       "      <th></th>\n",
       "      <th></th>\n",
       "      <th></th>\n",
       "      <th></th>\n",
       "      <th></th>\n",
       "      <th></th>\n",
       "      <th></th>\n",
       "      <th></th>\n",
       "      <th></th>\n",
       "      <th></th>\n",
       "      <th></th>\n",
       "    </tr>\n",
       "  </thead>\n",
       "  <tbody>\n",
       "    <tr>\n",
       "      <th>greedy_0</th>\n",
       "      <td>0.224</td>\n",
       "      <td>0.670</td>\n",
       "      <td>0.282</td>\n",
       "      <td>0.425</td>\n",
       "      <td>0.563</td>\n",
       "      <td>0.550</td>\n",
       "      <td>0.890</td>\n",
       "      <td>0.518</td>\n",
       "      <td>0.383</td>\n",
       "      <td>0.797</td>\n",
       "      <td>0.364</td>\n",
       "      <td>0.360</td>\n",
       "    </tr>\n",
       "    <tr>\n",
       "      <th>greedy_01</th>\n",
       "      <td>0.224</td>\n",
       "      <td>0.670</td>\n",
       "      <td>0.282</td>\n",
       "      <td>0.425</td>\n",
       "      <td>0.563</td>\n",
       "      <td>0.550</td>\n",
       "      <td>0.890</td>\n",
       "      <td>0.518</td>\n",
       "      <td>0.383</td>\n",
       "      <td>0.796</td>\n",
       "      <td>0.363</td>\n",
       "      <td>0.360</td>\n",
       "    </tr>\n",
       "    <tr>\n",
       "      <th>greedy_02</th>\n",
       "      <td>0.224</td>\n",
       "      <td>0.670</td>\n",
       "      <td>0.282</td>\n",
       "      <td>0.426</td>\n",
       "      <td>0.564</td>\n",
       "      <td>0.549</td>\n",
       "      <td>0.890</td>\n",
       "      <td>0.519</td>\n",
       "      <td>0.383</td>\n",
       "      <td>0.793</td>\n",
       "      <td>0.363</td>\n",
       "      <td>0.359</td>\n",
       "    </tr>\n",
       "    <tr>\n",
       "      <th>greedy_03</th>\n",
       "      <td>0.225</td>\n",
       "      <td>0.671</td>\n",
       "      <td>0.282</td>\n",
       "      <td>0.427</td>\n",
       "      <td>0.564</td>\n",
       "      <td>0.548</td>\n",
       "      <td>0.890</td>\n",
       "      <td>0.519</td>\n",
       "      <td>0.384</td>\n",
       "      <td>0.789</td>\n",
       "      <td>0.362</td>\n",
       "      <td>0.359</td>\n",
       "    </tr>\n",
       "    <tr>\n",
       "      <th>greedy_04</th>\n",
       "      <td>0.225</td>\n",
       "      <td>0.672</td>\n",
       "      <td>0.282</td>\n",
       "      <td>0.430</td>\n",
       "      <td>0.565</td>\n",
       "      <td>0.545</td>\n",
       "      <td>0.890</td>\n",
       "      <td>0.520</td>\n",
       "      <td>0.386</td>\n",
       "      <td>0.775</td>\n",
       "      <td>0.359</td>\n",
       "      <td>0.356</td>\n",
       "    </tr>\n",
       "    <tr>\n",
       "      <th>greedy_05</th>\n",
       "      <td>0.224</td>\n",
       "      <td>0.671</td>\n",
       "      <td>0.282</td>\n",
       "      <td>0.420</td>\n",
       "      <td>0.557</td>\n",
       "      <td>0.528</td>\n",
       "      <td>0.886</td>\n",
       "      <td>0.522</td>\n",
       "      <td>0.395</td>\n",
       "      <td>0.741</td>\n",
       "      <td>0.353</td>\n",
       "      <td>0.349</td>\n",
       "    </tr>\n",
       "    <tr>\n",
       "      <th>greedy_06</th>\n",
       "      <td>0.223</td>\n",
       "      <td>0.669</td>\n",
       "      <td>0.281</td>\n",
       "      <td>0.415</td>\n",
       "      <td>0.553</td>\n",
       "      <td>0.519</td>\n",
       "      <td>0.887</td>\n",
       "      <td>0.522</td>\n",
       "      <td>0.399</td>\n",
       "      <td>0.736</td>\n",
       "      <td>0.352</td>\n",
       "      <td>0.348</td>\n",
       "    </tr>\n",
       "    <tr>\n",
       "      <th>greedy_07</th>\n",
       "      <td>0.223</td>\n",
       "      <td>0.669</td>\n",
       "      <td>0.280</td>\n",
       "      <td>0.411</td>\n",
       "      <td>0.550</td>\n",
       "      <td>0.508</td>\n",
       "      <td>0.886</td>\n",
       "      <td>0.524</td>\n",
       "      <td>0.406</td>\n",
       "      <td>0.714</td>\n",
       "      <td>0.348</td>\n",
       "      <td>0.344</td>\n",
       "    </tr>\n",
       "    <tr>\n",
       "      <th>greedy_08</th>\n",
       "      <td>0.222</td>\n",
       "      <td>0.667</td>\n",
       "      <td>0.279</td>\n",
       "      <td>0.401</td>\n",
       "      <td>0.541</td>\n",
       "      <td>0.475</td>\n",
       "      <td>0.875</td>\n",
       "      <td>0.523</td>\n",
       "      <td>0.427</td>\n",
       "      <td>0.668</td>\n",
       "      <td>0.339</td>\n",
       "      <td>0.335</td>\n",
       "    </tr>\n",
       "    <tr>\n",
       "      <th>greedy_09</th>\n",
       "      <td>0.217</td>\n",
       "      <td>0.649</td>\n",
       "      <td>0.273</td>\n",
       "      <td>0.385</td>\n",
       "      <td>0.526</td>\n",
       "      <td>0.386</td>\n",
       "      <td>0.829</td>\n",
       "      <td>0.515</td>\n",
       "      <td>0.492</td>\n",
       "      <td>0.568</td>\n",
       "      <td>0.324</td>\n",
       "      <td>0.316</td>\n",
       "    </tr>\n",
       "    <tr>\n",
       "      <th>greedy_1</th>\n",
       "      <td>0.173</td>\n",
       "      <td>0.473</td>\n",
       "      <td>0.212</td>\n",
       "      <td>0.358</td>\n",
       "      <td>0.529</td>\n",
       "      <td>0.152</td>\n",
       "      <td>0.676</td>\n",
       "      <td>0.422</td>\n",
       "      <td>0.613</td>\n",
       "      <td>0.758</td>\n",
       "      <td>0.414</td>\n",
       "      <td>0.370</td>\n",
       "    </tr>\n",
       "  </tbody>\n",
       "</table>\n",
       "</div>"
      ],
      "text/plain": [
       "           Precision  Recall  F1-score    MRR   NDCG    ILS  alpha_ndcg  \\\n",
       "a_value                                                                   \n",
       "greedy_0       0.224   0.670     0.282  0.425  0.563  0.550       0.890   \n",
       "greedy_01      0.224   0.670     0.282  0.425  0.563  0.550       0.890   \n",
       "greedy_02      0.224   0.670     0.282  0.426  0.564  0.549       0.890   \n",
       "greedy_03      0.225   0.671     0.282  0.427  0.564  0.548       0.890   \n",
       "greedy_04      0.225   0.672     0.282  0.430  0.565  0.545       0.890   \n",
       "greedy_05      0.224   0.671     0.282  0.420  0.557  0.528       0.886   \n",
       "greedy_06      0.223   0.669     0.281  0.415  0.553  0.519       0.887   \n",
       "greedy_07      0.223   0.669     0.280  0.411  0.550  0.508       0.886   \n",
       "greedy_08      0.222   0.667     0.279  0.401  0.541  0.475       0.875   \n",
       "greedy_09      0.217   0.649     0.273  0.385  0.526  0.386       0.829   \n",
       "greedy_1       0.173   0.473     0.212  0.358  0.529  0.152       0.676   \n",
       "\n",
       "           ndcg_ia  s_recall   c_kl  c_hell  c_hell_target  \n",
       "a_value                                                     \n",
       "greedy_0     0.518     0.383  0.797   0.364          0.360  \n",
       "greedy_01    0.518     0.383  0.796   0.363          0.360  \n",
       "greedy_02    0.519     0.383  0.793   0.363          0.359  \n",
       "greedy_03    0.519     0.384  0.789   0.362          0.359  \n",
       "greedy_04    0.520     0.386  0.775   0.359          0.356  \n",
       "greedy_05    0.522     0.395  0.741   0.353          0.349  \n",
       "greedy_06    0.522     0.399  0.736   0.352          0.348  \n",
       "greedy_07    0.524     0.406  0.714   0.348          0.344  \n",
       "greedy_08    0.523     0.427  0.668   0.339          0.335  \n",
       "greedy_09    0.515     0.492  0.568   0.324          0.316  \n",
       "greedy_1     0.422     0.613  0.758   0.414          0.370  "
      ]
     },
     "execution_count": 521,
     "metadata": {},
     "output_type": "execute_result"
    }
   ],
   "source": [
    "complete_results_greedy"
   ]
  },
  {
   "cell_type": "code",
   "execution_count": 523,
   "metadata": {},
   "outputs": [],
   "source": [
    "complete_results_greedy.to_csv('results_perfs/greedy/complete_greedy.csv')"
   ]
  },
  {
   "cell_type": "code",
   "execution_count": 483,
   "metadata": {},
   "outputs": [],
   "source": [
    "eval_baseline_k20_global['c_hell_target'] = chl_baseline"
   ]
  },
  {
   "cell_type": "code",
   "execution_count": 525,
   "metadata": {},
   "outputs": [
    {
     "data": {
      "text/html": [
       "<div>\n",
       "<style scoped>\n",
       "    .dataframe tbody tr th:only-of-type {\n",
       "        vertical-align: middle;\n",
       "    }\n",
       "\n",
       "    .dataframe tbody tr th {\n",
       "        vertical-align: top;\n",
       "    }\n",
       "\n",
       "    .dataframe thead th {\n",
       "        text-align: right;\n",
       "    }\n",
       "</style>\n",
       "<table border=\"1\" class=\"dataframe\">\n",
       "  <thead>\n",
       "    <tr style=\"text-align: right;\">\n",
       "      <th></th>\n",
       "      <th>Precision</th>\n",
       "      <th>Recall</th>\n",
       "      <th>F1-score</th>\n",
       "      <th>MRR</th>\n",
       "      <th>NDCG</th>\n",
       "      <th>ILS</th>\n",
       "      <th>alpha_ndcg</th>\n",
       "      <th>ndcg_ia</th>\n",
       "      <th>s_recall</th>\n",
       "      <th>c_kl</th>\n",
       "      <th>c_hell</th>\n",
       "      <th>c_hell_target</th>\n",
       "    </tr>\n",
       "    <tr>\n",
       "      <th>a_value</th>\n",
       "      <th></th>\n",
       "      <th></th>\n",
       "      <th></th>\n",
       "      <th></th>\n",
       "      <th></th>\n",
       "      <th></th>\n",
       "      <th></th>\n",
       "      <th></th>\n",
       "      <th></th>\n",
       "      <th></th>\n",
       "      <th></th>\n",
       "      <th></th>\n",
       "    </tr>\n",
       "  </thead>\n",
       "  <tbody>\n",
       "    <tr>\n",
       "      <th>baseline_k20</th>\n",
       "      <td>0.224</td>\n",
       "      <td>0.67</td>\n",
       "      <td>0.282</td>\n",
       "      <td>0.425</td>\n",
       "      <td>0.563</td>\n",
       "      <td>0.55</td>\n",
       "      <td>0.89</td>\n",
       "      <td>0.518</td>\n",
       "      <td>0.383</td>\n",
       "      <td>0.797</td>\n",
       "      <td>0.364</td>\n",
       "      <td>0.364</td>\n",
       "    </tr>\n",
       "  </tbody>\n",
       "</table>\n",
       "</div>"
      ],
      "text/plain": [
       "              Precision  Recall  F1-score    MRR   NDCG   ILS  alpha_ndcg  \\\n",
       "a_value                                                                     \n",
       "baseline_k20      0.224    0.67     0.282  0.425  0.563  0.55        0.89   \n",
       "\n",
       "              ndcg_ia  s_recall   c_kl  c_hell  c_hell_target  \n",
       "a_value                                                        \n",
       "baseline_k20    0.518     0.383  0.797   0.364          0.364  "
      ]
     },
     "execution_count": 525,
     "metadata": {},
     "output_type": "execute_result"
    }
   ],
   "source": [
    "eval_baseline_k20_global"
   ]
  },
  {
   "cell_type": "code",
   "execution_count": 524,
   "metadata": {},
   "outputs": [],
   "source": [
    "eval_baseline_k20_global.to_csv('results_perfs/baseline/global_baseline.csv')"
   ]
  },
  {
   "cell_type": "markdown",
   "metadata": {},
   "source": [
    "# Clusters evaluation"
   ]
  },
  {
   "cell_type": "code",
   "execution_count": 193,
   "metadata": {},
   "outputs": [],
   "source": [
    "clusters = pd.read_csv('cluster_users.csv', index_col=0)"
   ]
  },
  {
   "cell_type": "code",
   "execution_count": 194,
   "metadata": {},
   "outputs": [
    {
     "data": {
      "text/html": [
       "<div>\n",
       "<style scoped>\n",
       "    .dataframe tbody tr th:only-of-type {\n",
       "        vertical-align: middle;\n",
       "    }\n",
       "\n",
       "    .dataframe tbody tr th {\n",
       "        vertical-align: top;\n",
       "    }\n",
       "\n",
       "    .dataframe thead th {\n",
       "        text-align: right;\n",
       "    }\n",
       "</style>\n",
       "<table border=\"1\" class=\"dataframe\">\n",
       "  <thead>\n",
       "    <tr style=\"text-align: right;\">\n",
       "      <th></th>\n",
       "      <th>entropy</th>\n",
       "      <th>cluster_fix</th>\n",
       "    </tr>\n",
       "  </thead>\n",
       "  <tbody>\n",
       "    <tr>\n",
       "      <th>504290</th>\n",
       "      <td>0.57</td>\n",
       "      <td>4</td>\n",
       "    </tr>\n",
       "    <tr>\n",
       "      <th>219624</th>\n",
       "      <td>0.67</td>\n",
       "      <td>5</td>\n",
       "    </tr>\n",
       "    <tr>\n",
       "      <th>10420</th>\n",
       "      <td>0.70</td>\n",
       "      <td>5</td>\n",
       "    </tr>\n",
       "    <tr>\n",
       "      <th>511303</th>\n",
       "      <td>0.69</td>\n",
       "      <td>5</td>\n",
       "    </tr>\n",
       "    <tr>\n",
       "      <th>184564</th>\n",
       "      <td>0.72</td>\n",
       "      <td>6</td>\n",
       "    </tr>\n",
       "  </tbody>\n",
       "</table>\n",
       "</div>"
      ],
      "text/plain": [
       "        entropy  cluster_fix\n",
       "504290     0.57            4\n",
       "219624     0.67            5\n",
       "10420      0.70            5\n",
       "511303     0.69            5\n",
       "184564     0.72            6"
      ]
     },
     "execution_count": 194,
     "metadata": {},
     "output_type": "execute_result"
    }
   ],
   "source": [
    "clusters.head()"
   ]
  },
  {
   "cell_type": "code",
   "execution_count": 134,
   "metadata": {},
   "outputs": [],
   "source": [
    "def evaluation_clusters(clusters_df, results, test_set, interest, similarity_matrix, categories_list, name_parameters, k=10):\n",
    "    #création de deux dataframes vides où seront stockés les résultats pour chaque cluster (global et indiv)\n",
    "    global_results = pd.DataFrame()\n",
    "    indiv_results = pd.DataFrame()\n",
    "    #Itération sur chaque cluster\n",
    "    for c in range(0, clusters_df['cluster_fix'].nunique(), 1):\n",
    "        #Création de liste des users d'un cluster\n",
    "        users_c = clusters_df[clusters_df['cluster_fix']==c].index.tolist()\n",
    "        #Filtrage données du cluster\n",
    "        results_c = results[results['user_id'].isin(users_c)]\n",
    "        test_c = test_set[test_set['user_id'].isin(users_c)]\n",
    "        #Calcul des performances pour ce cluster\n",
    "        name_parameters_c = name_parameters+'_c'+str(c)\n",
    "        cluster_global, cluster_ind = get_all_results(results_c, test_c, users_c, users_interest, similarity_matrix, categories_list, name_parameters_c, k=k)\n",
    "        cluster_ind.index = [str(x)+('_c')+str(c) for x in cluster_ind.index.tolist()]\n",
    "        if c == 0:\n",
    "            global_results = cluster_global.copy()\n",
    "            indiv_results = cluster_ind.copy()\n",
    "        else:\n",
    "            global_results = pd.concat([global_results, cluster_global])\n",
    "            indiv_results = pd.concat([indiv_results, cluster_ind])\n",
    "    return global_results, indiv_results"
   ]
  },
  {
   "cell_type": "markdown",
   "metadata": {},
   "source": [
    "## Baseline"
   ]
  },
  {
   "cell_type": "code",
   "execution_count": 204,
   "metadata": {},
   "outputs": [
    {
     "name": "stderr",
     "output_type": "stream",
     "text": [
      "\u001b[39mINFO\u001b[0m - Performing evaluation on metrics chosen\n"
     ]
    },
    {
     "name": "stdout",
     "output_type": "stream",
     "text": [
      "Pre-processing...\n",
      "OK!\n",
      "Accuracy metrics...\n"
     ]
    },
    {
     "name": "stderr",
     "output_type": "stream",
     "text": [
      "Performing NDCG@20:  100%|██████████| 5/5 [00:00<00:00]       \n"
     ]
    },
    {
     "name": "stdout",
     "output_type": "stream",
     "text": [
      "OK!\n",
      "ILS...\n"
     ]
    },
    {
     "name": "stderr",
     "output_type": "stream",
     "text": [
      "100%|██████████| 3/3 [00:00<00:00, 194.32it/s]\n"
     ]
    },
    {
     "name": "stdout",
     "output_type": "stream",
     "text": [
      "OK!\n",
      "alpha NDCG\n"
     ]
    },
    {
     "name": "stderr",
     "output_type": "stream",
     "text": [
      "100%|██████████| 3/3 [00:00<00:00, 847.22it/s]\n"
     ]
    },
    {
     "name": "stdout",
     "output_type": "stream",
     "text": [
      "OK!\n",
      "NDCG IA\n"
     ]
    },
    {
     "name": "stderr",
     "output_type": "stream",
     "text": [
      "100%|██████████| 3/3 [00:00<00:00, 554.88it/s]\n"
     ]
    },
    {
     "name": "stdout",
     "output_type": "stream",
     "text": [
      "OK!\n",
      "S-Recall\n"
     ]
    },
    {
     "name": "stderr",
     "output_type": "stream",
     "text": [
      "100%|██████████| 3/3 [00:00<00:00, 1500.29it/s]\n"
     ]
    },
    {
     "name": "stdout",
     "output_type": "stream",
     "text": [
      "OK!\n",
      "Calibration KL\n"
     ]
    },
    {
     "name": "stderr",
     "output_type": "stream",
     "text": [
      "100%|██████████| 3/3 [00:00<00:00, 269.55it/s]\n"
     ]
    },
    {
     "name": "stdout",
     "output_type": "stream",
     "text": [
      "OK!\n",
      "Calibration Hellinger\n"
     ]
    },
    {
     "name": "stderr",
     "output_type": "stream",
     "text": [
      "100%|██████████| 3/3 [00:00<00:00, 182.26it/s]\n",
      "\u001b[39mINFO\u001b[0m - Performing evaluation on metrics chosen\n"
     ]
    },
    {
     "name": "stdout",
     "output_type": "stream",
     "text": [
      "OK!\n",
      "Pre-processing...\n",
      "OK!\n",
      "Accuracy metrics...\n"
     ]
    },
    {
     "name": "stderr",
     "output_type": "stream",
     "text": [
      "Performing NDCG@20:  0%|          | 0/5 [00:00<?]             C:\\Users\\ctreuill.BIDOUILLE\\AppData\\Roaming\\Python\\Python39\\site-packages\\clayrs\\evaluation\\metrics\\ranking_metrics.py:205: RuntimeWarning: invalid value encountered in double_scalars\n",
      "  return actual / ideal\n",
      "Performing NDCG@20:  100%|██████████| 5/5 [00:00<00:00]\n"
     ]
    },
    {
     "name": "stdout",
     "output_type": "stream",
     "text": [
      "OK!\n",
      "ILS...\n"
     ]
    },
    {
     "name": "stderr",
     "output_type": "stream",
     "text": [
      "100%|██████████| 24/24 [00:00<00:00, 125.76it/s]\n"
     ]
    },
    {
     "name": "stdout",
     "output_type": "stream",
     "text": [
      "OK!\n",
      "alpha NDCG\n"
     ]
    },
    {
     "name": "stderr",
     "output_type": "stream",
     "text": [
      "100%|██████████| 24/24 [00:00<00:00, 1288.29it/s]\n"
     ]
    },
    {
     "name": "stdout",
     "output_type": "stream",
     "text": [
      "OK!\n",
      "NDCG IA\n"
     ]
    },
    {
     "name": "stderr",
     "output_type": "stream",
     "text": [
      "100%|██████████| 24/24 [00:00<00:00, 847.00it/s]\n"
     ]
    },
    {
     "name": "stdout",
     "output_type": "stream",
     "text": [
      "OK!\n",
      "S-Recall\n"
     ]
    },
    {
     "name": "stderr",
     "output_type": "stream",
     "text": [
      "100%|██████████| 24/24 [00:00<00:00, 2612.93it/s]\n"
     ]
    },
    {
     "name": "stdout",
     "output_type": "stream",
     "text": [
      "OK!\n",
      "Calibration KL\n"
     ]
    },
    {
     "name": "stderr",
     "output_type": "stream",
     "text": [
      "100%|██████████| 24/24 [00:00<00:00, 406.04it/s]\n"
     ]
    },
    {
     "name": "stdout",
     "output_type": "stream",
     "text": [
      "OK!\n",
      "Calibration Hellinger\n"
     ]
    },
    {
     "name": "stderr",
     "output_type": "stream",
     "text": [
      "100%|██████████| 24/24 [00:00<00:00, 359.28it/s]\n"
     ]
    },
    {
     "name": "stdout",
     "output_type": "stream",
     "text": [
      "OK!\n",
      "Pre-processing...\n"
     ]
    },
    {
     "name": "stderr",
     "output_type": "stream",
     "text": [
      "\u001b[39mINFO\u001b[0m - Performing evaluation on metrics chosen\n"
     ]
    },
    {
     "name": "stdout",
     "output_type": "stream",
     "text": [
      "OK!\n",
      "Accuracy metrics...\n"
     ]
    },
    {
     "name": "stderr",
     "output_type": "stream",
     "text": [
      "Performing NDCG@20:  0%|          | 0/5 [00:00<?]             C:\\Users\\ctreuill.BIDOUILLE\\AppData\\Roaming\\Python\\Python39\\site-packages\\clayrs\\evaluation\\metrics\\ranking_metrics.py:205: RuntimeWarning: invalid value encountered in double_scalars\n",
      "  return actual / ideal\n",
      "Performing NDCG@20:  100%|██████████| 5/5 [00:00<00:00]\n"
     ]
    },
    {
     "name": "stdout",
     "output_type": "stream",
     "text": [
      "OK!\n",
      "ILS...\n"
     ]
    },
    {
     "name": "stderr",
     "output_type": "stream",
     "text": [
      "100%|██████████| 133/133 [00:00<00:00, 220.70it/s]\n"
     ]
    },
    {
     "name": "stdout",
     "output_type": "stream",
     "text": [
      "OK!\n",
      "alpha NDCG\n"
     ]
    },
    {
     "name": "stderr",
     "output_type": "stream",
     "text": [
      "100%|██████████| 133/133 [00:00<00:00, 1636.16it/s]\n"
     ]
    },
    {
     "name": "stdout",
     "output_type": "stream",
     "text": [
      "OK!\n",
      "NDCG IA\n"
     ]
    },
    {
     "name": "stderr",
     "output_type": "stream",
     "text": [
      "100%|██████████| 133/133 [00:00<00:00, 1322.98it/s]\n"
     ]
    },
    {
     "name": "stdout",
     "output_type": "stream",
     "text": [
      "OK!\n",
      "S-Recall\n"
     ]
    },
    {
     "name": "stderr",
     "output_type": "stream",
     "text": [
      "100%|██████████| 133/133 [00:00<00:00, 3651.54it/s]\n"
     ]
    },
    {
     "name": "stdout",
     "output_type": "stream",
     "text": [
      "OK!\n",
      "Calibration KL\n"
     ]
    },
    {
     "name": "stderr",
     "output_type": "stream",
     "text": [
      "100%|██████████| 133/133 [00:00<00:00, 469.99it/s]\n"
     ]
    },
    {
     "name": "stdout",
     "output_type": "stream",
     "text": [
      "OK!\n",
      "Calibration Hellinger\n"
     ]
    },
    {
     "name": "stderr",
     "output_type": "stream",
     "text": [
      "100%|██████████| 133/133 [00:00<00:00, 461.93it/s]\n"
     ]
    },
    {
     "name": "stdout",
     "output_type": "stream",
     "text": [
      "OK!\n",
      "Pre-processing...\n"
     ]
    },
    {
     "name": "stderr",
     "output_type": "stream",
     "text": [
      "\u001b[39mINFO\u001b[0m - Performing evaluation on metrics chosen\n"
     ]
    },
    {
     "name": "stdout",
     "output_type": "stream",
     "text": [
      "OK!\n",
      "Accuracy metrics...\n"
     ]
    },
    {
     "name": "stderr",
     "output_type": "stream",
     "text": [
      "Performing NDCG@20:  80%|████████  | 4/5 [00:00<00:00]          C:\\Users\\ctreuill.BIDOUILLE\\AppData\\Roaming\\Python\\Python39\\site-packages\\clayrs\\evaluation\\metrics\\ranking_metrics.py:205: RuntimeWarning: invalid value encountered in double_scalars\n",
      "  return actual / ideal\n",
      "Performing NDCG@20:  100%|██████████| 5/5 [00:00<00:00]\n"
     ]
    },
    {
     "name": "stdout",
     "output_type": "stream",
     "text": [
      "OK!\n",
      "ILS...\n"
     ]
    },
    {
     "name": "stderr",
     "output_type": "stream",
     "text": [
      "100%|██████████| 525/525 [00:02<00:00, 232.05it/s]\n"
     ]
    },
    {
     "name": "stdout",
     "output_type": "stream",
     "text": [
      "OK!\n",
      "alpha NDCG\n"
     ]
    },
    {
     "name": "stderr",
     "output_type": "stream",
     "text": [
      "100%|██████████| 525/525 [00:00<00:00, 1631.88it/s]\n"
     ]
    },
    {
     "name": "stdout",
     "output_type": "stream",
     "text": [
      "OK!\n",
      "NDCG IA\n"
     ]
    },
    {
     "name": "stderr",
     "output_type": "stream",
     "text": [
      "100%|██████████| 525/525 [00:00<00:00, 1086.04it/s]\n"
     ]
    },
    {
     "name": "stdout",
     "output_type": "stream",
     "text": [
      "OK!\n",
      "S-Recall\n"
     ]
    },
    {
     "name": "stderr",
     "output_type": "stream",
     "text": [
      "100%|██████████| 525/525 [00:00<00:00, 4266.12it/s]\n"
     ]
    },
    {
     "name": "stdout",
     "output_type": "stream",
     "text": [
      "OK!\n",
      "Calibration KL\n"
     ]
    },
    {
     "name": "stderr",
     "output_type": "stream",
     "text": [
      "100%|██████████| 525/525 [00:01<00:00, 476.74it/s]\n"
     ]
    },
    {
     "name": "stdout",
     "output_type": "stream",
     "text": [
      "OK!\n",
      "Calibration Hellinger\n"
     ]
    },
    {
     "name": "stderr",
     "output_type": "stream",
     "text": [
      "100%|██████████| 525/525 [00:01<00:00, 440.52it/s]\n"
     ]
    },
    {
     "name": "stdout",
     "output_type": "stream",
     "text": [
      "OK!\n",
      "Pre-processing...\n"
     ]
    },
    {
     "name": "stderr",
     "output_type": "stream",
     "text": [
      "\u001b[39mINFO\u001b[0m - Performing evaluation on metrics chosen\n"
     ]
    },
    {
     "name": "stdout",
     "output_type": "stream",
     "text": [
      "OK!\n",
      "Accuracy metrics...\n"
     ]
    },
    {
     "name": "stderr",
     "output_type": "stream",
     "text": [
      "Performing NDCG@20:  80%|████████  | 4/5 [00:01<00:00]             C:\\Users\\ctreuill.BIDOUILLE\\AppData\\Roaming\\Python\\Python39\\site-packages\\clayrs\\evaluation\\metrics\\ranking_metrics.py:205: RuntimeWarning: invalid value encountered in double_scalars\n",
      "  return actual / ideal\n",
      "Performing NDCG@20:  100%|██████████| 5/5 [00:02<00:00]\n"
     ]
    },
    {
     "name": "stdout",
     "output_type": "stream",
     "text": [
      "OK!\n",
      "ILS...\n"
     ]
    },
    {
     "name": "stderr",
     "output_type": "stream",
     "text": [
      "100%|██████████| 1964/1964 [00:11<00:00, 171.58it/s]\n"
     ]
    },
    {
     "name": "stdout",
     "output_type": "stream",
     "text": [
      "OK!\n",
      "alpha NDCG\n"
     ]
    },
    {
     "name": "stderr",
     "output_type": "stream",
     "text": [
      "100%|██████████| 1964/1964 [00:01<00:00, 1266.87it/s]\n"
     ]
    },
    {
     "name": "stdout",
     "output_type": "stream",
     "text": [
      "OK!\n",
      "NDCG IA\n"
     ]
    },
    {
     "name": "stderr",
     "output_type": "stream",
     "text": [
      "100%|██████████| 1964/1964 [00:02<00:00, 936.29it/s] \n"
     ]
    },
    {
     "name": "stdout",
     "output_type": "stream",
     "text": [
      "OK!\n",
      "S-Recall\n"
     ]
    },
    {
     "name": "stderr",
     "output_type": "stream",
     "text": [
      "100%|██████████| 1964/1964 [00:00<00:00, 3121.60it/s]\n"
     ]
    },
    {
     "name": "stdout",
     "output_type": "stream",
     "text": [
      "OK!\n",
      "Calibration KL\n"
     ]
    },
    {
     "name": "stderr",
     "output_type": "stream",
     "text": [
      "100%|██████████| 1964/1964 [00:05<00:00, 383.08it/s]\n"
     ]
    },
    {
     "name": "stdout",
     "output_type": "stream",
     "text": [
      "OK!\n",
      "Calibration Hellinger\n"
     ]
    },
    {
     "name": "stderr",
     "output_type": "stream",
     "text": [
      "100%|██████████| 1964/1964 [00:05<00:00, 361.18it/s]\n"
     ]
    },
    {
     "name": "stdout",
     "output_type": "stream",
     "text": [
      "OK!\n",
      "Pre-processing...\n"
     ]
    },
    {
     "name": "stderr",
     "output_type": "stream",
     "text": [
      "\u001b[39mINFO\u001b[0m - Performing evaluation on metrics chosen\n"
     ]
    },
    {
     "name": "stdout",
     "output_type": "stream",
     "text": [
      "OK!\n",
      "Accuracy metrics...\n"
     ]
    },
    {
     "name": "stderr",
     "output_type": "stream",
     "text": [
      "Performing NDCG@20:  80%|████████  | 4/5 [00:10<00:02]             C:\\Users\\ctreuill.BIDOUILLE\\AppData\\Roaming\\Python\\Python39\\site-packages\\clayrs\\evaluation\\metrics\\ranking_metrics.py:205: RuntimeWarning: invalid value encountered in double_scalars\n",
      "  return actual / ideal\n",
      "Performing NDCG@20:  100%|██████████| 5/5 [00:13<00:00]\n"
     ]
    },
    {
     "name": "stdout",
     "output_type": "stream",
     "text": [
      "OK!\n",
      "ILS...\n"
     ]
    },
    {
     "name": "stderr",
     "output_type": "stream",
     "text": [
      "100%|██████████| 4250/4250 [00:21<00:00, 202.34it/s]\n"
     ]
    },
    {
     "name": "stdout",
     "output_type": "stream",
     "text": [
      "OK!\n",
      "alpha NDCG\n"
     ]
    },
    {
     "name": "stderr",
     "output_type": "stream",
     "text": [
      "100%|██████████| 4250/4250 [00:03<00:00, 1116.51it/s]\n"
     ]
    },
    {
     "name": "stdout",
     "output_type": "stream",
     "text": [
      "OK!\n",
      "NDCG IA\n"
     ]
    },
    {
     "name": "stderr",
     "output_type": "stream",
     "text": [
      "100%|██████████| 4250/4250 [00:04<00:00, 885.44it/s]\n"
     ]
    },
    {
     "name": "stdout",
     "output_type": "stream",
     "text": [
      "OK!\n",
      "S-Recall\n"
     ]
    },
    {
     "name": "stderr",
     "output_type": "stream",
     "text": [
      "100%|██████████| 4250/4250 [00:01<00:00, 2351.55it/s]\n"
     ]
    },
    {
     "name": "stdout",
     "output_type": "stream",
     "text": [
      "OK!\n",
      "Calibration KL\n"
     ]
    },
    {
     "name": "stderr",
     "output_type": "stream",
     "text": [
      "100%|██████████| 4250/4250 [00:11<00:00, 358.19it/s]\n"
     ]
    },
    {
     "name": "stdout",
     "output_type": "stream",
     "text": [
      "OK!\n",
      "Calibration Hellinger\n"
     ]
    },
    {
     "name": "stderr",
     "output_type": "stream",
     "text": [
      "100%|██████████| 4250/4250 [00:11<00:00, 362.06it/s]\n"
     ]
    },
    {
     "name": "stdout",
     "output_type": "stream",
     "text": [
      "OK!\n",
      "Pre-processing...\n"
     ]
    },
    {
     "name": "stderr",
     "output_type": "stream",
     "text": [
      "\u001b[39mINFO\u001b[0m - Performing evaluation on metrics chosen\n"
     ]
    },
    {
     "name": "stdout",
     "output_type": "stream",
     "text": [
      "OK!\n",
      "Accuracy metrics...\n"
     ]
    },
    {
     "name": "stderr",
     "output_type": "stream",
     "text": [
      "Performing NDCG@20:  80%|████████  | 4/5 [00:04<00:01]             C:\\Users\\ctreuill.BIDOUILLE\\AppData\\Roaming\\Python\\Python39\\site-packages\\clayrs\\evaluation\\metrics\\ranking_metrics.py:205: RuntimeWarning: invalid value encountered in double_scalars\n",
      "  return actual / ideal\n",
      "Performing NDCG@20:  100%|██████████| 5/5 [00:06<00:00]\n"
     ]
    },
    {
     "name": "stdout",
     "output_type": "stream",
     "text": [
      "OK!\n",
      "ILS...\n"
     ]
    },
    {
     "name": "stderr",
     "output_type": "stream",
     "text": [
      "100%|██████████| 2894/2894 [00:14<00:00, 199.44it/s]\n"
     ]
    },
    {
     "name": "stdout",
     "output_type": "stream",
     "text": [
      "OK!\n",
      "alpha NDCG\n"
     ]
    },
    {
     "name": "stderr",
     "output_type": "stream",
     "text": [
      "100%|██████████| 2894/2894 [00:02<00:00, 1073.49it/s]\n"
     ]
    },
    {
     "name": "stdout",
     "output_type": "stream",
     "text": [
      "OK!\n",
      "NDCG IA\n"
     ]
    },
    {
     "name": "stderr",
     "output_type": "stream",
     "text": [
      "100%|██████████| 2894/2894 [00:03<00:00, 881.21it/s]\n"
     ]
    },
    {
     "name": "stdout",
     "output_type": "stream",
     "text": [
      "OK!\n",
      "S-Recall\n"
     ]
    },
    {
     "name": "stderr",
     "output_type": "stream",
     "text": [
      "100%|██████████| 2894/2894 [00:00<00:00, 2951.53it/s]\n"
     ]
    },
    {
     "name": "stdout",
     "output_type": "stream",
     "text": [
      "OK!\n",
      "Calibration KL\n"
     ]
    },
    {
     "name": "stderr",
     "output_type": "stream",
     "text": [
      "100%|██████████| 2894/2894 [00:07<00:00, 362.97it/s]\n"
     ]
    },
    {
     "name": "stdout",
     "output_type": "stream",
     "text": [
      "OK!\n",
      "Calibration Hellinger\n"
     ]
    },
    {
     "name": "stderr",
     "output_type": "stream",
     "text": [
      "100%|██████████| 2894/2894 [00:08<00:00, 360.49it/s]\n",
      "\u001b[39mINFO\u001b[0m - Performing evaluation on metrics chosen\n"
     ]
    },
    {
     "name": "stdout",
     "output_type": "stream",
     "text": [
      "OK!\n",
      "Pre-processing...\n",
      "OK!\n",
      "Accuracy metrics...\n"
     ]
    },
    {
     "name": "stderr",
     "output_type": "stream",
     "text": [
      "Performing NDCG@20:  80%|████████  | 4/5 [00:00<00:00]        C:\\Users\\ctreuill.BIDOUILLE\\AppData\\Roaming\\Python\\Python39\\site-packages\\clayrs\\evaluation\\metrics\\ranking_metrics.py:205: RuntimeWarning: invalid value encountered in double_scalars\n",
      "  return actual / ideal\n",
      "Performing NDCG@20:  100%|██████████| 5/5 [00:00<00:00]\n"
     ]
    },
    {
     "name": "stdout",
     "output_type": "stream",
     "text": [
      "OK!\n",
      "ILS...\n"
     ]
    },
    {
     "name": "stderr",
     "output_type": "stream",
     "text": [
      "100%|██████████| 207/207 [00:00<00:00, 208.45it/s]\n"
     ]
    },
    {
     "name": "stdout",
     "output_type": "stream",
     "text": [
      "OK!\n",
      "alpha NDCG\n"
     ]
    },
    {
     "name": "stderr",
     "output_type": "stream",
     "text": [
      "100%|██████████| 207/207 [00:00<00:00, 1351.70it/s]\n"
     ]
    },
    {
     "name": "stdout",
     "output_type": "stream",
     "text": [
      "OK!\n",
      "NDCG IA\n"
     ]
    },
    {
     "name": "stderr",
     "output_type": "stream",
     "text": [
      "100%|██████████| 207/207 [00:00<00:00, 934.45it/s]\n"
     ]
    },
    {
     "name": "stdout",
     "output_type": "stream",
     "text": [
      "OK!\n",
      "S-Recall\n"
     ]
    },
    {
     "name": "stderr",
     "output_type": "stream",
     "text": [
      "100%|██████████| 207/207 [00:00<00:00, 3446.91it/s]\n"
     ]
    },
    {
     "name": "stdout",
     "output_type": "stream",
     "text": [
      "OK!\n",
      "Calibration KL\n"
     ]
    },
    {
     "name": "stderr",
     "output_type": "stream",
     "text": [
      "100%|██████████| 207/207 [00:00<00:00, 380.27it/s]\n"
     ]
    },
    {
     "name": "stdout",
     "output_type": "stream",
     "text": [
      "OK!\n",
      "Calibration Hellinger\n"
     ]
    },
    {
     "name": "stderr",
     "output_type": "stream",
     "text": [
      "100%|██████████| 207/207 [00:00<00:00, 367.36it/s]"
     ]
    },
    {
     "name": "stdout",
     "output_type": "stream",
     "text": [
      "OK!\n"
     ]
    },
    {
     "name": "stderr",
     "output_type": "stream",
     "text": [
      "\n"
     ]
    }
   ],
   "source": [
    "eval_cluster_baseline, eval_indiv_cluster_baseline = evaluation_clusters(clusters, results_baseline_k20, test_baseline_k20, users_interest, similarity_matrix, categories_list, 'baseline', k=20)"
   ]
  },
  {
   "cell_type": "markdown",
   "metadata": {},
   "source": [
    "## ADF"
   ]
  },
  {
   "cell_type": "code",
   "execution_count": 201,
   "metadata": {},
   "outputs": [
    {
     "name": "stderr",
     "output_type": "stream",
     "text": [
      "\u001b[39mINFO\u001b[0m - Performing evaluation on metrics chosen\n"
     ]
    },
    {
     "name": "stdout",
     "output_type": "stream",
     "text": [
      "Pre-processing...\n",
      "OK!\n",
      "Accuracy metrics...\n"
     ]
    },
    {
     "name": "stderr",
     "output_type": "stream",
     "text": [
      "Performing NDCG@20:  0%|          | 0/5 [00:00<?]             C:\\Users\\ctreuill.BIDOUILLE\\AppData\\Roaming\\Python\\Python39\\site-packages\\clayrs\\evaluation\\metrics\\ranking_metrics.py:205: RuntimeWarning: invalid value encountered in double_scalars\n",
      "  return actual / ideal\n",
      "Performing NDCG@20:  100%|██████████| 5/5 [00:00<00:00]\n"
     ]
    },
    {
     "name": "stdout",
     "output_type": "stream",
     "text": [
      "OK!\n",
      "ILS...\n"
     ]
    },
    {
     "name": "stderr",
     "output_type": "stream",
     "text": [
      "  0%|          | 0/3 [00:00<?, ?it/s]"
     ]
    },
    {
     "name": "stderr",
     "output_type": "stream",
     "text": [
      "100%|██████████| 3/3 [00:00<00:00, 180.10it/s]\n"
     ]
    },
    {
     "name": "stdout",
     "output_type": "stream",
     "text": [
      "OK!\n",
      "alpha NDCG\n"
     ]
    },
    {
     "name": "stderr",
     "output_type": "stream",
     "text": [
      "100%|██████████| 3/3 [00:00<00:00, 668.20it/s]\n"
     ]
    },
    {
     "name": "stdout",
     "output_type": "stream",
     "text": [
      "OK!\n",
      "NDCG IA\n"
     ]
    },
    {
     "name": "stderr",
     "output_type": "stream",
     "text": [
      "100%|██████████| 3/3 [00:00<00:00, 486.18it/s]\n"
     ]
    },
    {
     "name": "stdout",
     "output_type": "stream",
     "text": [
      "OK!\n",
      "S-Recall\n"
     ]
    },
    {
     "name": "stderr",
     "output_type": "stream",
     "text": [
      "100%|██████████| 3/3 [00:00<00:00, 1504.95it/s]\n"
     ]
    },
    {
     "name": "stdout",
     "output_type": "stream",
     "text": [
      "OK!\n",
      "Calibration KL\n"
     ]
    },
    {
     "name": "stderr",
     "output_type": "stream",
     "text": [
      "100%|██████████| 3/3 [00:00<00:00, 259.41it/s]\n"
     ]
    },
    {
     "name": "stdout",
     "output_type": "stream",
     "text": [
      "OK!\n",
      "Calibration Hellinger\n"
     ]
    },
    {
     "name": "stderr",
     "output_type": "stream",
     "text": [
      "100%|██████████| 3/3 [00:00<00:00, 203.43it/s]\n",
      "\u001b[39mINFO\u001b[0m - Performing evaluation on metrics chosen\n"
     ]
    },
    {
     "name": "stdout",
     "output_type": "stream",
     "text": [
      "OK!\n",
      "Pre-processing...\n",
      "OK!\n",
      "Accuracy metrics...\n"
     ]
    },
    {
     "name": "stderr",
     "output_type": "stream",
     "text": [
      "Performing NDCG@20:  0%|          | 0/5 [00:00<?]             C:\\Users\\ctreuill.BIDOUILLE\\AppData\\Roaming\\Python\\Python39\\site-packages\\clayrs\\evaluation\\metrics\\ranking_metrics.py:205: RuntimeWarning: invalid value encountered in double_scalars\n",
      "  return actual / ideal\n",
      "Performing NDCG@20:  100%|██████████| 5/5 [00:00<00:00]\n"
     ]
    },
    {
     "name": "stdout",
     "output_type": "stream",
     "text": [
      "OK!\n",
      "ILS...\n"
     ]
    },
    {
     "name": "stderr",
     "output_type": "stream",
     "text": [
      "100%|██████████| 24/24 [00:00<00:00, 196.26it/s]\n"
     ]
    },
    {
     "name": "stdout",
     "output_type": "stream",
     "text": [
      "OK!\n",
      "alpha NDCG\n"
     ]
    },
    {
     "name": "stderr",
     "output_type": "stream",
     "text": [
      "100%|██████████| 24/24 [00:00<00:00, 1585.75it/s]\n"
     ]
    },
    {
     "name": "stdout",
     "output_type": "stream",
     "text": [
      "OK!\n",
      "NDCG IA\n"
     ]
    },
    {
     "name": "stderr",
     "output_type": "stream",
     "text": [
      "100%|██████████| 24/24 [00:00<00:00, 1147.16it/s]\n"
     ]
    },
    {
     "name": "stdout",
     "output_type": "stream",
     "text": [
      "OK!\n",
      "S-Recall\n"
     ]
    },
    {
     "name": "stderr",
     "output_type": "stream",
     "text": [
      "100%|██████████| 24/24 [00:00<00:00, 2006.56it/s]\n"
     ]
    },
    {
     "name": "stdout",
     "output_type": "stream",
     "text": [
      "OK!\n",
      "Calibration KL\n"
     ]
    },
    {
     "name": "stderr",
     "output_type": "stream",
     "text": [
      "100%|██████████| 24/24 [00:00<00:00, 240.54it/s]\n"
     ]
    },
    {
     "name": "stdout",
     "output_type": "stream",
     "text": [
      "OK!\n",
      "Calibration Hellinger\n"
     ]
    },
    {
     "name": "stderr",
     "output_type": "stream",
     "text": [
      "100%|██████████| 24/24 [00:00<00:00, 414.98it/s]\n"
     ]
    },
    {
     "name": "stdout",
     "output_type": "stream",
     "text": [
      "OK!\n",
      "Pre-processing...\n"
     ]
    },
    {
     "name": "stderr",
     "output_type": "stream",
     "text": [
      "\u001b[39mINFO\u001b[0m - Performing evaluation on metrics chosen\n"
     ]
    },
    {
     "name": "stdout",
     "output_type": "stream",
     "text": [
      "OK!\n",
      "Accuracy metrics...\n"
     ]
    },
    {
     "name": "stderr",
     "output_type": "stream",
     "text": [
      "Performing NDCG@20:  0%|          | 0/5 [00:00<?]             C:\\Users\\ctreuill.BIDOUILLE\\AppData\\Roaming\\Python\\Python39\\site-packages\\clayrs\\evaluation\\metrics\\ranking_metrics.py:205: RuntimeWarning: invalid value encountered in double_scalars\n",
      "  return actual / ideal\n",
      "Performing NDCG@20:  100%|██████████| 5/5 [00:00<00:00]\n"
     ]
    },
    {
     "name": "stdout",
     "output_type": "stream",
     "text": [
      "OK!\n",
      "ILS...\n"
     ]
    },
    {
     "name": "stderr",
     "output_type": "stream",
     "text": [
      "100%|██████████| 133/133 [00:00<00:00, 191.71it/s]\n"
     ]
    },
    {
     "name": "stdout",
     "output_type": "stream",
     "text": [
      "OK!\n",
      "alpha NDCG\n"
     ]
    },
    {
     "name": "stderr",
     "output_type": "stream",
     "text": [
      "100%|██████████| 133/133 [00:00<00:00, 1478.52it/s]\n"
     ]
    },
    {
     "name": "stdout",
     "output_type": "stream",
     "text": [
      "OK!\n",
      "NDCG IA\n"
     ]
    },
    {
     "name": "stderr",
     "output_type": "stream",
     "text": [
      "100%|██████████| 133/133 [00:00<00:00, 1028.67it/s]\n"
     ]
    },
    {
     "name": "stdout",
     "output_type": "stream",
     "text": [
      "OK!\n",
      "S-Recall\n"
     ]
    },
    {
     "name": "stderr",
     "output_type": "stream",
     "text": [
      "100%|██████████| 133/133 [00:00<00:00, 3493.09it/s]\n"
     ]
    },
    {
     "name": "stdout",
     "output_type": "stream",
     "text": [
      "OK!\n",
      "Calibration KL\n"
     ]
    },
    {
     "name": "stderr",
     "output_type": "stream",
     "text": [
      "100%|██████████| 133/133 [00:00<00:00, 383.40it/s]\n"
     ]
    },
    {
     "name": "stdout",
     "output_type": "stream",
     "text": [
      "OK!\n",
      "Calibration Hellinger\n"
     ]
    },
    {
     "name": "stderr",
     "output_type": "stream",
     "text": [
      "100%|██████████| 133/133 [00:00<00:00, 406.77it/s]\n"
     ]
    },
    {
     "name": "stdout",
     "output_type": "stream",
     "text": [
      "OK!\n",
      "Pre-processing...\n"
     ]
    },
    {
     "name": "stderr",
     "output_type": "stream",
     "text": [
      "\u001b[39mINFO\u001b[0m - Performing evaluation on metrics chosen\n"
     ]
    },
    {
     "name": "stdout",
     "output_type": "stream",
     "text": [
      "OK!\n",
      "Accuracy metrics...\n"
     ]
    },
    {
     "name": "stderr",
     "output_type": "stream",
     "text": [
      "Performing NDCG@20:  80%|████████  | 4/5 [00:00<00:00]          C:\\Users\\ctreuill.BIDOUILLE\\AppData\\Roaming\\Python\\Python39\\site-packages\\clayrs\\evaluation\\metrics\\ranking_metrics.py:205: RuntimeWarning: invalid value encountered in double_scalars\n",
      "  return actual / ideal\n",
      "Performing NDCG@20:  100%|██████████| 5/5 [00:00<00:00]\n"
     ]
    },
    {
     "name": "stdout",
     "output_type": "stream",
     "text": [
      "OK!\n",
      "ILS...\n"
     ]
    },
    {
     "name": "stderr",
     "output_type": "stream",
     "text": [
      "100%|██████████| 525/525 [00:02<00:00, 192.76it/s]\n"
     ]
    },
    {
     "name": "stdout",
     "output_type": "stream",
     "text": [
      "OK!\n",
      "alpha NDCG\n"
     ]
    },
    {
     "name": "stderr",
     "output_type": "stream",
     "text": [
      "100%|██████████| 525/525 [00:00<00:00, 1348.09it/s]\n"
     ]
    },
    {
     "name": "stdout",
     "output_type": "stream",
     "text": [
      "OK!\n",
      "NDCG IA\n"
     ]
    },
    {
     "name": "stderr",
     "output_type": "stream",
     "text": [
      "100%|██████████| 525/525 [00:00<00:00, 828.70it/s]\n"
     ]
    },
    {
     "name": "stdout",
     "output_type": "stream",
     "text": [
      "OK!\n",
      "S-Recall\n"
     ]
    },
    {
     "name": "stderr",
     "output_type": "stream",
     "text": [
      "100%|██████████| 525/525 [00:00<00:00, 3060.20it/s]\n"
     ]
    },
    {
     "name": "stdout",
     "output_type": "stream",
     "text": [
      "OK!\n",
      "Calibration KL\n"
     ]
    },
    {
     "name": "stderr",
     "output_type": "stream",
     "text": [
      "100%|██████████| 525/525 [00:01<00:00, 450.34it/s]\n"
     ]
    },
    {
     "name": "stdout",
     "output_type": "stream",
     "text": [
      "OK!\n",
      "Calibration Hellinger\n"
     ]
    },
    {
     "name": "stderr",
     "output_type": "stream",
     "text": [
      "100%|██████████| 525/525 [00:01<00:00, 474.50it/s]\n"
     ]
    },
    {
     "name": "stdout",
     "output_type": "stream",
     "text": [
      "OK!\n",
      "Pre-processing...\n"
     ]
    },
    {
     "name": "stderr",
     "output_type": "stream",
     "text": [
      "\u001b[39mINFO\u001b[0m - Performing evaluation on metrics chosen\n"
     ]
    },
    {
     "name": "stdout",
     "output_type": "stream",
     "text": [
      "OK!\n",
      "Accuracy metrics...\n"
     ]
    },
    {
     "name": "stderr",
     "output_type": "stream",
     "text": [
      "Performing NDCG@20:  80%|████████  | 4/5 [00:01<00:00]             C:\\Users\\ctreuill.BIDOUILLE\\AppData\\Roaming\\Python\\Python39\\site-packages\\clayrs\\evaluation\\metrics\\ranking_metrics.py:205: RuntimeWarning: invalid value encountered in double_scalars\n",
      "  return actual / ideal\n",
      "Performing NDCG@20:  100%|██████████| 5/5 [00:02<00:00]\n"
     ]
    },
    {
     "name": "stdout",
     "output_type": "stream",
     "text": [
      "OK!\n",
      "ILS...\n"
     ]
    },
    {
     "name": "stderr",
     "output_type": "stream",
     "text": [
      "100%|██████████| 1964/1964 [00:09<00:00, 204.20it/s]\n"
     ]
    },
    {
     "name": "stdout",
     "output_type": "stream",
     "text": [
      "OK!\n",
      "alpha NDCG\n"
     ]
    },
    {
     "name": "stderr",
     "output_type": "stream",
     "text": [
      "100%|██████████| 1964/1964 [00:01<00:00, 1657.07it/s]\n"
     ]
    },
    {
     "name": "stdout",
     "output_type": "stream",
     "text": [
      "OK!\n",
      "NDCG IA\n"
     ]
    },
    {
     "name": "stderr",
     "output_type": "stream",
     "text": [
      "100%|██████████| 1964/1964 [00:01<00:00, 1127.47it/s]\n"
     ]
    },
    {
     "name": "stdout",
     "output_type": "stream",
     "text": [
      "OK!\n",
      "S-Recall\n"
     ]
    },
    {
     "name": "stderr",
     "output_type": "stream",
     "text": [
      "100%|██████████| 1964/1964 [00:00<00:00, 3122.07it/s]\n"
     ]
    },
    {
     "name": "stdout",
     "output_type": "stream",
     "text": [
      "OK!\n",
      "Calibration KL\n"
     ]
    },
    {
     "name": "stderr",
     "output_type": "stream",
     "text": [
      "100%|██████████| 1964/1964 [00:04<00:00, 424.35it/s]\n"
     ]
    },
    {
     "name": "stdout",
     "output_type": "stream",
     "text": [
      "OK!\n",
      "Calibration Hellinger\n"
     ]
    },
    {
     "name": "stderr",
     "output_type": "stream",
     "text": [
      "100%|██████████| 1964/1964 [00:04<00:00, 427.45it/s]\n"
     ]
    },
    {
     "name": "stdout",
     "output_type": "stream",
     "text": [
      "OK!\n",
      "Pre-processing...\n"
     ]
    },
    {
     "name": "stderr",
     "output_type": "stream",
     "text": [
      "\u001b[39mINFO\u001b[0m - Performing evaluation on metrics chosen\n"
     ]
    },
    {
     "name": "stdout",
     "output_type": "stream",
     "text": [
      "OK!\n",
      "Accuracy metrics...\n"
     ]
    },
    {
     "name": "stderr",
     "output_type": "stream",
     "text": [
      "Performing NDCG@20:  80%|████████  | 4/5 [00:08<00:02]             C:\\Users\\ctreuill.BIDOUILLE\\AppData\\Roaming\\Python\\Python39\\site-packages\\clayrs\\evaluation\\metrics\\ranking_metrics.py:205: RuntimeWarning: invalid value encountered in double_scalars\n",
      "  return actual / ideal\n",
      "Performing NDCG@20:  100%|██████████| 5/5 [00:11<00:00]\n"
     ]
    },
    {
     "name": "stdout",
     "output_type": "stream",
     "text": [
      "OK!\n",
      "ILS...\n"
     ]
    },
    {
     "name": "stderr",
     "output_type": "stream",
     "text": [
      "100%|██████████| 4250/4250 [00:19<00:00, 215.33it/s]\n"
     ]
    },
    {
     "name": "stdout",
     "output_type": "stream",
     "text": [
      "OK!\n",
      "alpha NDCG\n"
     ]
    },
    {
     "name": "stderr",
     "output_type": "stream",
     "text": [
      "100%|██████████| 4250/4250 [00:03<00:00, 1352.99it/s]\n"
     ]
    },
    {
     "name": "stdout",
     "output_type": "stream",
     "text": [
      "OK!\n",
      "NDCG IA\n"
     ]
    },
    {
     "name": "stderr",
     "output_type": "stream",
     "text": [
      "100%|██████████| 4250/4250 [00:04<00:00, 1014.49it/s]\n"
     ]
    },
    {
     "name": "stdout",
     "output_type": "stream",
     "text": [
      "OK!\n",
      "S-Recall\n"
     ]
    },
    {
     "name": "stderr",
     "output_type": "stream",
     "text": [
      "100%|██████████| 4250/4250 [00:01<00:00, 2962.88it/s]\n"
     ]
    },
    {
     "name": "stdout",
     "output_type": "stream",
     "text": [
      "OK!\n",
      "Calibration KL\n"
     ]
    },
    {
     "name": "stderr",
     "output_type": "stream",
     "text": [
      "100%|██████████| 4250/4250 [00:10<00:00, 422.40it/s]\n"
     ]
    },
    {
     "name": "stdout",
     "output_type": "stream",
     "text": [
      "OK!\n",
      "Calibration Hellinger\n"
     ]
    },
    {
     "name": "stderr",
     "output_type": "stream",
     "text": [
      "100%|██████████| 4250/4250 [00:10<00:00, 409.11it/s]\n"
     ]
    },
    {
     "name": "stdout",
     "output_type": "stream",
     "text": [
      "OK!\n",
      "Pre-processing...\n"
     ]
    },
    {
     "name": "stderr",
     "output_type": "stream",
     "text": [
      "\u001b[39mINFO\u001b[0m - Performing evaluation on metrics chosen\n"
     ]
    },
    {
     "name": "stdout",
     "output_type": "stream",
     "text": [
      "OK!\n",
      "Accuracy metrics...\n"
     ]
    },
    {
     "name": "stderr",
     "output_type": "stream",
     "text": [
      "Performing NDCG@20:  80%|████████  | 4/5 [00:03<00:01]             C:\\Users\\ctreuill.BIDOUILLE\\AppData\\Roaming\\Python\\Python39\\site-packages\\clayrs\\evaluation\\metrics\\ranking_metrics.py:205: RuntimeWarning: invalid value encountered in double_scalars\n",
      "  return actual / ideal\n",
      "Performing NDCG@20:  100%|██████████| 5/5 [00:04<00:00]\n"
     ]
    },
    {
     "name": "stdout",
     "output_type": "stream",
     "text": [
      "OK!\n",
      "ILS...\n"
     ]
    },
    {
     "name": "stderr",
     "output_type": "stream",
     "text": [
      "100%|██████████| 2894/2894 [00:14<00:00, 202.95it/s]\n"
     ]
    },
    {
     "name": "stdout",
     "output_type": "stream",
     "text": [
      "OK!\n",
      "alpha NDCG\n"
     ]
    },
    {
     "name": "stderr",
     "output_type": "stream",
     "text": [
      "100%|██████████| 2894/2894 [00:02<00:00, 1312.82it/s]\n"
     ]
    },
    {
     "name": "stdout",
     "output_type": "stream",
     "text": [
      "OK!\n",
      "NDCG IA\n"
     ]
    },
    {
     "name": "stderr",
     "output_type": "stream",
     "text": [
      "100%|██████████| 2894/2894 [00:03<00:00, 960.87it/s] \n"
     ]
    },
    {
     "name": "stdout",
     "output_type": "stream",
     "text": [
      "OK!\n",
      "S-Recall\n"
     ]
    },
    {
     "name": "stderr",
     "output_type": "stream",
     "text": [
      "100%|██████████| 2894/2894 [00:00<00:00, 3023.72it/s]\n"
     ]
    },
    {
     "name": "stdout",
     "output_type": "stream",
     "text": [
      "OK!\n",
      "Calibration KL\n"
     ]
    },
    {
     "name": "stderr",
     "output_type": "stream",
     "text": [
      "100%|██████████| 2894/2894 [00:07<00:00, 398.88it/s]\n"
     ]
    },
    {
     "name": "stdout",
     "output_type": "stream",
     "text": [
      "OK!\n",
      "Calibration Hellinger\n"
     ]
    },
    {
     "name": "stderr",
     "output_type": "stream",
     "text": [
      "100%|██████████| 2894/2894 [00:07<00:00, 398.08it/s]\n",
      "\u001b[39mINFO\u001b[0m - Performing evaluation on metrics chosen\n"
     ]
    },
    {
     "name": "stdout",
     "output_type": "stream",
     "text": [
      "OK!\n",
      "Pre-processing...\n",
      "OK!\n",
      "Accuracy metrics...\n"
     ]
    },
    {
     "name": "stderr",
     "output_type": "stream",
     "text": [
      "Performing NDCG@20:  80%|████████  | 4/5 [00:00<00:00]        C:\\Users\\ctreuill.BIDOUILLE\\AppData\\Roaming\\Python\\Python39\\site-packages\\clayrs\\evaluation\\metrics\\ranking_metrics.py:205: RuntimeWarning: invalid value encountered in double_scalars\n",
      "  return actual / ideal\n",
      "Performing NDCG@20:  100%|██████████| 5/5 [00:00<00:00]\n"
     ]
    },
    {
     "name": "stdout",
     "output_type": "stream",
     "text": [
      "OK!\n",
      "ILS...\n"
     ]
    },
    {
     "name": "stderr",
     "output_type": "stream",
     "text": [
      "100%|██████████| 207/207 [00:01<00:00, 204.47it/s]\n"
     ]
    },
    {
     "name": "stdout",
     "output_type": "stream",
     "text": [
      "OK!\n",
      "alpha NDCG\n"
     ]
    },
    {
     "name": "stderr",
     "output_type": "stream",
     "text": [
      "100%|██████████| 207/207 [00:00<00:00, 1222.25it/s]\n"
     ]
    },
    {
     "name": "stdout",
     "output_type": "stream",
     "text": [
      "OK!\n",
      "NDCG IA\n"
     ]
    },
    {
     "name": "stderr",
     "output_type": "stream",
     "text": [
      "100%|██████████| 207/207 [00:00<00:00, 969.13it/s]\n"
     ]
    },
    {
     "name": "stdout",
     "output_type": "stream",
     "text": [
      "OK!\n",
      "S-Recall\n"
     ]
    },
    {
     "name": "stderr",
     "output_type": "stream",
     "text": [
      "100%|██████████| 207/207 [00:00<00:00, 3423.23it/s]\n"
     ]
    },
    {
     "name": "stdout",
     "output_type": "stream",
     "text": [
      "OK!\n",
      "Calibration KL\n"
     ]
    },
    {
     "name": "stderr",
     "output_type": "stream",
     "text": [
      "100%|██████████| 207/207 [00:00<00:00, 325.34it/s]\n"
     ]
    },
    {
     "name": "stdout",
     "output_type": "stream",
     "text": [
      "OK!\n",
      "Calibration Hellinger\n"
     ]
    },
    {
     "name": "stderr",
     "output_type": "stream",
     "text": [
      "100%|██████████| 207/207 [00:00<00:00, 379.90it/s]\n",
      "\u001b[39mINFO\u001b[0m - Performing evaluation on metrics chosen\n"
     ]
    },
    {
     "name": "stdout",
     "output_type": "stream",
     "text": [
      "OK!\n",
      "Pre-processing...\n",
      "OK!\n",
      "Accuracy metrics...\n"
     ]
    },
    {
     "name": "stderr",
     "output_type": "stream",
     "text": [
      "Performing NDCG@20:  100%|██████████| 5/5 [00:00<00:00]       \n"
     ]
    },
    {
     "name": "stdout",
     "output_type": "stream",
     "text": [
      "OK!\n",
      "ILS...\n"
     ]
    },
    {
     "name": "stderr",
     "output_type": "stream",
     "text": [
      "100%|██████████| 3/3 [00:00<00:00, 179.06it/s]\n"
     ]
    },
    {
     "name": "stdout",
     "output_type": "stream",
     "text": [
      "OK!\n",
      "alpha NDCG\n"
     ]
    },
    {
     "name": "stderr",
     "output_type": "stream",
     "text": [
      "100%|██████████| 3/3 [00:00<00:00, 582.46it/s]\n"
     ]
    },
    {
     "name": "stdout",
     "output_type": "stream",
     "text": [
      "OK!\n",
      "NDCG IA\n"
     ]
    },
    {
     "name": "stderr",
     "output_type": "stream",
     "text": [
      "100%|██████████| 3/3 [00:00<00:00, 489.00it/s]\n"
     ]
    },
    {
     "name": "stdout",
     "output_type": "stream",
     "text": [
      "OK!\n",
      "S-Recall\n"
     ]
    },
    {
     "name": "stderr",
     "output_type": "stream",
     "text": [
      "100%|██████████| 3/3 [00:00<00:00, 1505.31it/s]\n"
     ]
    },
    {
     "name": "stdout",
     "output_type": "stream",
     "text": [
      "OK!\n",
      "Calibration KL\n"
     ]
    },
    {
     "name": "stderr",
     "output_type": "stream",
     "text": [
      "100%|██████████| 3/3 [00:00<00:00, 235.79it/s]\n"
     ]
    },
    {
     "name": "stdout",
     "output_type": "stream",
     "text": [
      "OK!\n",
      "Calibration Hellinger\n"
     ]
    },
    {
     "name": "stderr",
     "output_type": "stream",
     "text": [
      "100%|██████████| 3/3 [00:00<00:00, 206.98it/s]\n",
      "\u001b[39mINFO\u001b[0m - Performing evaluation on metrics chosen\n"
     ]
    },
    {
     "name": "stdout",
     "output_type": "stream",
     "text": [
      "OK!\n",
      "Pre-processing...\n",
      "OK!\n",
      "Accuracy metrics...\n"
     ]
    },
    {
     "name": "stderr",
     "output_type": "stream",
     "text": [
      "Performing NDCG@20:  0%|          | 0/5 [00:00<?]             C:\\Users\\ctreuill.BIDOUILLE\\AppData\\Roaming\\Python\\Python39\\site-packages\\clayrs\\evaluation\\metrics\\ranking_metrics.py:205: RuntimeWarning: invalid value encountered in double_scalars\n",
      "  return actual / ideal\n",
      "Performing NDCG@20:  100%|██████████| 5/5 [00:00<00:00]\n"
     ]
    },
    {
     "name": "stdout",
     "output_type": "stream",
     "text": [
      "OK!\n",
      "ILS...\n"
     ]
    },
    {
     "name": "stderr",
     "output_type": "stream",
     "text": [
      "100%|██████████| 24/24 [00:00<00:00, 161.91it/s]\n"
     ]
    },
    {
     "name": "stdout",
     "output_type": "stream",
     "text": [
      "OK!\n",
      "alpha NDCG\n"
     ]
    },
    {
     "name": "stderr",
     "output_type": "stream",
     "text": [
      "100%|██████████| 24/24 [00:00<00:00, 1047.27it/s]\n"
     ]
    },
    {
     "name": "stdout",
     "output_type": "stream",
     "text": [
      "OK!\n",
      "NDCG IA\n"
     ]
    },
    {
     "name": "stderr",
     "output_type": "stream",
     "text": [
      "100%|██████████| 24/24 [00:00<00:00, 947.17it/s]\n"
     ]
    },
    {
     "name": "stdout",
     "output_type": "stream",
     "text": [
      "OK!\n",
      "S-Recall\n"
     ]
    },
    {
     "name": "stderr",
     "output_type": "stream",
     "text": [
      "100%|██████████| 24/24 [00:00<00:00, 2675.58it/s]\n"
     ]
    },
    {
     "name": "stdout",
     "output_type": "stream",
     "text": [
      "OK!\n",
      "Calibration KL\n"
     ]
    },
    {
     "name": "stderr",
     "output_type": "stream",
     "text": [
      "100%|██████████| 24/24 [00:00<00:00, 261.55it/s]\n"
     ]
    },
    {
     "name": "stdout",
     "output_type": "stream",
     "text": [
      "OK!\n",
      "Calibration Hellinger\n"
     ]
    },
    {
     "name": "stderr",
     "output_type": "stream",
     "text": [
      "100%|██████████| 24/24 [00:00<00:00, 221.72it/s]\n"
     ]
    },
    {
     "name": "stdout",
     "output_type": "stream",
     "text": [
      "OK!\n",
      "Pre-processing...\n"
     ]
    },
    {
     "name": "stderr",
     "output_type": "stream",
     "text": [
      "\u001b[39mINFO\u001b[0m - Performing evaluation on metrics chosen\n"
     ]
    },
    {
     "name": "stdout",
     "output_type": "stream",
     "text": [
      "OK!\n",
      "Accuracy metrics...\n"
     ]
    },
    {
     "name": "stderr",
     "output_type": "stream",
     "text": [
      "Performing NDCG@20:  80%|████████  | 4/5 [00:00<00:00]        C:\\Users\\ctreuill.BIDOUILLE\\AppData\\Roaming\\Python\\Python39\\site-packages\\clayrs\\evaluation\\metrics\\ranking_metrics.py:205: RuntimeWarning: invalid value encountered in double_scalars\n",
      "  return actual / ideal\n",
      "Performing NDCG@20:  100%|██████████| 5/5 [00:00<00:00]\n"
     ]
    },
    {
     "name": "stdout",
     "output_type": "stream",
     "text": [
      "OK!\n",
      "ILS...\n"
     ]
    },
    {
     "name": "stderr",
     "output_type": "stream",
     "text": [
      "100%|██████████| 133/133 [00:00<00:00, 189.99it/s]\n"
     ]
    },
    {
     "name": "stdout",
     "output_type": "stream",
     "text": [
      "OK!\n",
      "alpha NDCG\n"
     ]
    },
    {
     "name": "stderr",
     "output_type": "stream",
     "text": [
      "100%|██████████| 133/133 [00:00<00:00, 1276.87it/s]\n"
     ]
    },
    {
     "name": "stdout",
     "output_type": "stream",
     "text": [
      "OK!\n",
      "NDCG IA\n"
     ]
    },
    {
     "name": "stderr",
     "output_type": "stream",
     "text": [
      "100%|██████████| 133/133 [00:00<00:00, 999.27it/s]\n"
     ]
    },
    {
     "name": "stdout",
     "output_type": "stream",
     "text": [
      "OK!\n",
      "S-Recall\n"
     ]
    },
    {
     "name": "stderr",
     "output_type": "stream",
     "text": [
      "100%|██████████| 133/133 [00:00<00:00, 3399.55it/s]\n"
     ]
    },
    {
     "name": "stdout",
     "output_type": "stream",
     "text": [
      "OK!\n",
      "Calibration KL\n"
     ]
    },
    {
     "name": "stderr",
     "output_type": "stream",
     "text": [
      "100%|██████████| 133/133 [00:00<00:00, 363.64it/s]\n"
     ]
    },
    {
     "name": "stdout",
     "output_type": "stream",
     "text": [
      "OK!\n",
      "Calibration Hellinger\n"
     ]
    },
    {
     "name": "stderr",
     "output_type": "stream",
     "text": [
      "100%|██████████| 133/133 [00:00<00:00, 367.05it/s]\n"
     ]
    },
    {
     "name": "stdout",
     "output_type": "stream",
     "text": [
      "OK!\n",
      "Pre-processing...\n"
     ]
    },
    {
     "name": "stderr",
     "output_type": "stream",
     "text": [
      "\u001b[39mINFO\u001b[0m - Performing evaluation on metrics chosen\n"
     ]
    },
    {
     "name": "stdout",
     "output_type": "stream",
     "text": [
      "OK!\n",
      "Accuracy metrics...\n"
     ]
    },
    {
     "name": "stderr",
     "output_type": "stream",
     "text": [
      "Performing NDCG@20:  80%|████████  | 4/5 [00:00<00:00]          C:\\Users\\ctreuill.BIDOUILLE\\AppData\\Roaming\\Python\\Python39\\site-packages\\clayrs\\evaluation\\metrics\\ranking_metrics.py:205: RuntimeWarning: invalid value encountered in double_scalars\n",
      "  return actual / ideal\n",
      "Performing NDCG@20:  100%|██████████| 5/5 [00:00<00:00]\n"
     ]
    },
    {
     "name": "stdout",
     "output_type": "stream",
     "text": [
      "OK!\n",
      "ILS...\n"
     ]
    },
    {
     "name": "stderr",
     "output_type": "stream",
     "text": [
      "100%|██████████| 525/525 [00:02<00:00, 215.33it/s]\n"
     ]
    },
    {
     "name": "stdout",
     "output_type": "stream",
     "text": [
      "OK!\n",
      "alpha NDCG\n"
     ]
    },
    {
     "name": "stderr",
     "output_type": "stream",
     "text": [
      "100%|██████████| 525/525 [00:00<00:00, 1458.81it/s]\n"
     ]
    },
    {
     "name": "stdout",
     "output_type": "stream",
     "text": [
      "OK!\n",
      "NDCG IA\n"
     ]
    },
    {
     "name": "stderr",
     "output_type": "stream",
     "text": [
      "100%|██████████| 525/525 [00:00<00:00, 1115.83it/s]\n"
     ]
    },
    {
     "name": "stdout",
     "output_type": "stream",
     "text": [
      "OK!\n",
      "S-Recall\n"
     ]
    },
    {
     "name": "stderr",
     "output_type": "stream",
     "text": [
      "100%|██████████| 525/525 [00:00<00:00, 3266.81it/s]\n"
     ]
    },
    {
     "name": "stdout",
     "output_type": "stream",
     "text": [
      "OK!\n",
      "Calibration KL\n"
     ]
    },
    {
     "name": "stderr",
     "output_type": "stream",
     "text": [
      "100%|██████████| 525/525 [00:01<00:00, 408.63it/s]\n"
     ]
    },
    {
     "name": "stdout",
     "output_type": "stream",
     "text": [
      "OK!\n",
      "Calibration Hellinger\n"
     ]
    },
    {
     "name": "stderr",
     "output_type": "stream",
     "text": [
      "100%|██████████| 525/525 [00:01<00:00, 414.14it/s]\n"
     ]
    },
    {
     "name": "stdout",
     "output_type": "stream",
     "text": [
      "OK!\n",
      "Pre-processing...\n"
     ]
    },
    {
     "name": "stderr",
     "output_type": "stream",
     "text": [
      "\u001b[39mINFO\u001b[0m - Performing evaluation on metrics chosen\n"
     ]
    },
    {
     "name": "stdout",
     "output_type": "stream",
     "text": [
      "OK!\n",
      "Accuracy metrics...\n"
     ]
    },
    {
     "name": "stderr",
     "output_type": "stream",
     "text": [
      "Performing NDCG@20:  80%|████████  | 4/5 [00:01<00:00]             C:\\Users\\ctreuill.BIDOUILLE\\AppData\\Roaming\\Python\\Python39\\site-packages\\clayrs\\evaluation\\metrics\\ranking_metrics.py:205: RuntimeWarning: invalid value encountered in double_scalars\n",
      "  return actual / ideal\n",
      "Performing NDCG@20:  100%|██████████| 5/5 [00:02<00:00]\n"
     ]
    },
    {
     "name": "stdout",
     "output_type": "stream",
     "text": [
      "OK!\n",
      "ILS...\n"
     ]
    },
    {
     "name": "stderr",
     "output_type": "stream",
     "text": [
      "100%|██████████| 1964/1964 [00:08<00:00, 227.72it/s]\n"
     ]
    },
    {
     "name": "stdout",
     "output_type": "stream",
     "text": [
      "OK!\n",
      "alpha NDCG\n"
     ]
    },
    {
     "name": "stderr",
     "output_type": "stream",
     "text": [
      "100%|██████████| 1964/1964 [00:01<00:00, 1305.65it/s]\n"
     ]
    },
    {
     "name": "stdout",
     "output_type": "stream",
     "text": [
      "OK!\n",
      "NDCG IA\n"
     ]
    },
    {
     "name": "stderr",
     "output_type": "stream",
     "text": [
      "100%|██████████| 1964/1964 [00:01<00:00, 1104.43it/s]\n"
     ]
    },
    {
     "name": "stdout",
     "output_type": "stream",
     "text": [
      "OK!\n",
      "S-Recall\n"
     ]
    },
    {
     "name": "stderr",
     "output_type": "stream",
     "text": [
      "100%|██████████| 1964/1964 [00:00<00:00, 3270.45it/s]\n"
     ]
    },
    {
     "name": "stdout",
     "output_type": "stream",
     "text": [
      "OK!\n",
      "Calibration KL\n"
     ]
    },
    {
     "name": "stderr",
     "output_type": "stream",
     "text": [
      "100%|██████████| 1964/1964 [00:04<00:00, 395.02it/s]\n"
     ]
    },
    {
     "name": "stdout",
     "output_type": "stream",
     "text": [
      "OK!\n",
      "Calibration Hellinger\n"
     ]
    },
    {
     "name": "stderr",
     "output_type": "stream",
     "text": [
      "100%|██████████| 1964/1964 [00:04<00:00, 397.20it/s]\n"
     ]
    },
    {
     "name": "stdout",
     "output_type": "stream",
     "text": [
      "OK!\n",
      "Pre-processing...\n"
     ]
    },
    {
     "name": "stderr",
     "output_type": "stream",
     "text": [
      "\u001b[39mINFO\u001b[0m - Performing evaluation on metrics chosen\n"
     ]
    },
    {
     "name": "stdout",
     "output_type": "stream",
     "text": [
      "OK!\n",
      "Accuracy metrics...\n"
     ]
    },
    {
     "name": "stderr",
     "output_type": "stream",
     "text": [
      "Performing NDCG@20:  80%|████████  | 4/5 [00:09<00:02]             C:\\Users\\ctreuill.BIDOUILLE\\AppData\\Roaming\\Python\\Python39\\site-packages\\clayrs\\evaluation\\metrics\\ranking_metrics.py:205: RuntimeWarning: invalid value encountered in double_scalars\n",
      "  return actual / ideal\n",
      "Performing NDCG@20:  100%|██████████| 5/5 [00:12<00:00]\n"
     ]
    },
    {
     "name": "stdout",
     "output_type": "stream",
     "text": [
      "OK!\n",
      "ILS...\n"
     ]
    },
    {
     "name": "stderr",
     "output_type": "stream",
     "text": [
      "100%|██████████| 4250/4250 [00:28<00:00, 151.64it/s]\n"
     ]
    },
    {
     "name": "stdout",
     "output_type": "stream",
     "text": [
      "OK!\n",
      "alpha NDCG\n"
     ]
    },
    {
     "name": "stderr",
     "output_type": "stream",
     "text": [
      "100%|██████████| 4250/4250 [00:06<00:00, 656.69it/s]\n"
     ]
    },
    {
     "name": "stdout",
     "output_type": "stream",
     "text": [
      "OK!\n",
      "NDCG IA\n"
     ]
    },
    {
     "name": "stderr",
     "output_type": "stream",
     "text": [
      "100%|██████████| 4250/4250 [00:07<00:00, 542.97it/s]\n"
     ]
    },
    {
     "name": "stdout",
     "output_type": "stream",
     "text": [
      "OK!\n",
      "S-Recall\n"
     ]
    },
    {
     "name": "stderr",
     "output_type": "stream",
     "text": [
      "100%|██████████| 4250/4250 [00:02<00:00, 1575.33it/s]\n"
     ]
    },
    {
     "name": "stdout",
     "output_type": "stream",
     "text": [
      "OK!\n",
      "Calibration KL\n"
     ]
    },
    {
     "name": "stderr",
     "output_type": "stream",
     "text": [
      "100%|██████████| 4250/4250 [00:19<00:00, 215.56it/s]\n"
     ]
    },
    {
     "name": "stdout",
     "output_type": "stream",
     "text": [
      "OK!\n",
      "Calibration Hellinger\n"
     ]
    },
    {
     "name": "stderr",
     "output_type": "stream",
     "text": [
      "100%|██████████| 4250/4250 [00:18<00:00, 231.58it/s]\n"
     ]
    },
    {
     "name": "stdout",
     "output_type": "stream",
     "text": [
      "OK!\n",
      "Pre-processing...\n"
     ]
    },
    {
     "name": "stderr",
     "output_type": "stream",
     "text": [
      "\u001b[39mINFO\u001b[0m - Performing evaluation on metrics chosen\n"
     ]
    },
    {
     "name": "stdout",
     "output_type": "stream",
     "text": [
      "OK!\n",
      "Accuracy metrics...\n"
     ]
    },
    {
     "name": "stderr",
     "output_type": "stream",
     "text": [
      "Performing NDCG@20:  80%|████████  | 4/5 [00:07<00:01]             C:\\Users\\ctreuill.BIDOUILLE\\AppData\\Roaming\\Python\\Python39\\site-packages\\clayrs\\evaluation\\metrics\\ranking_metrics.py:205: RuntimeWarning: invalid value encountered in double_scalars\n",
      "  return actual / ideal\n",
      "Performing NDCG@20:  100%|██████████| 5/5 [00:09<00:00]\n"
     ]
    },
    {
     "name": "stdout",
     "output_type": "stream",
     "text": [
      "OK!\n",
      "ILS...\n"
     ]
    },
    {
     "name": "stderr",
     "output_type": "stream",
     "text": [
      "100%|██████████| 2894/2894 [00:22<00:00, 129.80it/s]\n"
     ]
    },
    {
     "name": "stdout",
     "output_type": "stream",
     "text": [
      "OK!\n",
      "alpha NDCG\n"
     ]
    },
    {
     "name": "stderr",
     "output_type": "stream",
     "text": [
      "100%|██████████| 2894/2894 [00:04<00:00, 613.84it/s]\n"
     ]
    },
    {
     "name": "stdout",
     "output_type": "stream",
     "text": [
      "OK!\n",
      "NDCG IA\n"
     ]
    },
    {
     "name": "stderr",
     "output_type": "stream",
     "text": [
      "100%|██████████| 2894/2894 [00:06<00:00, 468.22it/s]\n"
     ]
    },
    {
     "name": "stdout",
     "output_type": "stream",
     "text": [
      "OK!\n",
      "S-Recall\n"
     ]
    },
    {
     "name": "stderr",
     "output_type": "stream",
     "text": [
      "100%|██████████| 2894/2894 [00:02<00:00, 1401.60it/s]\n"
     ]
    },
    {
     "name": "stdout",
     "output_type": "stream",
     "text": [
      "OK!\n",
      "Calibration KL\n"
     ]
    },
    {
     "name": "stderr",
     "output_type": "stream",
     "text": [
      "100%|██████████| 2894/2894 [00:14<00:00, 199.43it/s]\n"
     ]
    },
    {
     "name": "stdout",
     "output_type": "stream",
     "text": [
      "OK!\n",
      "Calibration Hellinger\n"
     ]
    },
    {
     "name": "stderr",
     "output_type": "stream",
     "text": [
      "100%|██████████| 2894/2894 [00:11<00:00, 242.41it/s]\n",
      "\u001b[39mINFO\u001b[0m - Performing evaluation on metrics chosen\n"
     ]
    },
    {
     "name": "stdout",
     "output_type": "stream",
     "text": [
      "OK!\n",
      "Pre-processing...\n",
      "OK!\n",
      "Accuracy metrics...\n"
     ]
    },
    {
     "name": "stderr",
     "output_type": "stream",
     "text": [
      "Performing NDCG@20:  60%|██████    | 3/5 [00:00<00:00]        C:\\Users\\ctreuill.BIDOUILLE\\AppData\\Roaming\\Python\\Python39\\site-packages\\clayrs\\evaluation\\metrics\\ranking_metrics.py:205: RuntimeWarning: invalid value encountered in double_scalars\n",
      "  return actual / ideal\n",
      "Performing NDCG@20:  100%|██████████| 5/5 [00:00<00:00]\n"
     ]
    },
    {
     "name": "stdout",
     "output_type": "stream",
     "text": [
      "OK!\n",
      "ILS...\n"
     ]
    },
    {
     "name": "stderr",
     "output_type": "stream",
     "text": [
      "100%|██████████| 207/207 [00:01<00:00, 112.01it/s]\n"
     ]
    },
    {
     "name": "stdout",
     "output_type": "stream",
     "text": [
      "OK!\n",
      "alpha NDCG\n"
     ]
    },
    {
     "name": "stderr",
     "output_type": "stream",
     "text": [
      "100%|██████████| 207/207 [00:00<00:00, 923.50it/s] \n"
     ]
    },
    {
     "name": "stdout",
     "output_type": "stream",
     "text": [
      "OK!\n",
      "NDCG IA\n"
     ]
    },
    {
     "name": "stderr",
     "output_type": "stream",
     "text": [
      "100%|██████████| 207/207 [00:00<00:00, 575.91it/s]\n"
     ]
    },
    {
     "name": "stdout",
     "output_type": "stream",
     "text": [
      "OK!\n",
      "S-Recall\n"
     ]
    },
    {
     "name": "stderr",
     "output_type": "stream",
     "text": [
      "100%|██████████| 207/207 [00:00<00:00, 1580.14it/s]\n"
     ]
    },
    {
     "name": "stdout",
     "output_type": "stream",
     "text": [
      "OK!\n",
      "Calibration KL\n"
     ]
    },
    {
     "name": "stderr",
     "output_type": "stream",
     "text": [
      "100%|██████████| 207/207 [00:01<00:00, 203.75it/s]\n"
     ]
    },
    {
     "name": "stdout",
     "output_type": "stream",
     "text": [
      "OK!\n",
      "Calibration Hellinger\n"
     ]
    },
    {
     "name": "stderr",
     "output_type": "stream",
     "text": [
      "100%|██████████| 207/207 [00:00<00:00, 234.59it/s]\n",
      "\u001b[39mINFO\u001b[0m - Performing evaluation on metrics chosen\n"
     ]
    },
    {
     "name": "stdout",
     "output_type": "stream",
     "text": [
      "OK!\n",
      "Pre-processing...\n",
      "OK!\n",
      "Accuracy metrics...\n"
     ]
    },
    {
     "name": "stderr",
     "output_type": "stream",
     "text": [
      "Performing NDCG@20:  100%|██████████| 5/5 [00:00<00:00]       \n"
     ]
    },
    {
     "name": "stdout",
     "output_type": "stream",
     "text": [
      "OK!\n",
      "ILS...\n"
     ]
    },
    {
     "name": "stderr",
     "output_type": "stream",
     "text": [
      "100%|██████████| 3/3 [00:00<00:00, 144.21it/s]\n"
     ]
    },
    {
     "name": "stdout",
     "output_type": "stream",
     "text": [
      "OK!\n",
      "alpha NDCG\n"
     ]
    },
    {
     "name": "stderr",
     "output_type": "stream",
     "text": [
      "100%|██████████| 3/3 [00:00<00:00, 752.61it/s]\n"
     ]
    },
    {
     "name": "stdout",
     "output_type": "stream",
     "text": [
      "OK!\n",
      "NDCG IA\n"
     ]
    },
    {
     "name": "stderr",
     "output_type": "stream",
     "text": [
      "100%|██████████| 3/3 [00:00<00:00, 451.45it/s]\n"
     ]
    },
    {
     "name": "stdout",
     "output_type": "stream",
     "text": [
      "OK!\n",
      "S-Recall\n"
     ]
    },
    {
     "name": "stderr",
     "output_type": "stream",
     "text": [
      "100%|██████████| 3/3 [00:00<00:00, 1504.41it/s]\n"
     ]
    },
    {
     "name": "stdout",
     "output_type": "stream",
     "text": [
      "OK!\n",
      "Calibration KL\n"
     ]
    },
    {
     "name": "stderr",
     "output_type": "stream",
     "text": [
      "100%|██████████| 3/3 [00:00<00:00, 231.54it/s]\n"
     ]
    },
    {
     "name": "stdout",
     "output_type": "stream",
     "text": [
      "OK!\n",
      "Calibration Hellinger\n"
     ]
    },
    {
     "name": "stderr",
     "output_type": "stream",
     "text": [
      "100%|██████████| 3/3 [00:00<00:00, 239.73it/s]\n"
     ]
    },
    {
     "name": "stdout",
     "output_type": "stream",
     "text": [
      "OK!\n",
      "Pre-processing...\n",
      "OK!"
     ]
    },
    {
     "name": "stderr",
     "output_type": "stream",
     "text": [
      "\u001b[39mINFO\u001b[0m - Performing evaluation on metrics chosen\n"
     ]
    },
    {
     "name": "stdout",
     "output_type": "stream",
     "text": [
      "\n",
      "Accuracy metrics...\n"
     ]
    },
    {
     "name": "stderr",
     "output_type": "stream",
     "text": [
      "Performing NDCG@20:  0%|          | 0/5 [00:00<?]             C:\\Users\\ctreuill.BIDOUILLE\\AppData\\Roaming\\Python\\Python39\\site-packages\\clayrs\\evaluation\\metrics\\ranking_metrics.py:205: RuntimeWarning: invalid value encountered in double_scalars\n",
      "  return actual / ideal\n",
      "Performing NDCG@20:  100%|██████████| 5/5 [00:00<00:00]\n"
     ]
    },
    {
     "name": "stdout",
     "output_type": "stream",
     "text": [
      "OK!\n",
      "ILS...\n"
     ]
    },
    {
     "name": "stderr",
     "output_type": "stream",
     "text": [
      "100%|██████████| 24/24 [00:00<00:00, 125.41it/s]\n"
     ]
    },
    {
     "name": "stdout",
     "output_type": "stream",
     "text": [
      "OK!\n",
      "alpha NDCG\n"
     ]
    },
    {
     "name": "stderr",
     "output_type": "stream",
     "text": [
      "100%|██████████| 24/24 [00:00<00:00, 899.04it/s]\n"
     ]
    },
    {
     "name": "stdout",
     "output_type": "stream",
     "text": [
      "OK!\n",
      "NDCG IA\n"
     ]
    },
    {
     "name": "stderr",
     "output_type": "stream",
     "text": [
      "100%|██████████| 24/24 [00:00<00:00, 623.20it/s]\n"
     ]
    },
    {
     "name": "stdout",
     "output_type": "stream",
     "text": [
      "OK!\n",
      "S-Recall\n"
     ]
    },
    {
     "name": "stderr",
     "output_type": "stream",
     "text": [
      "100%|██████████| 24/24 [00:00<00:00, 1707.11it/s]\n"
     ]
    },
    {
     "name": "stdout",
     "output_type": "stream",
     "text": [
      "OK!\n",
      "Calibration KL\n"
     ]
    },
    {
     "name": "stderr",
     "output_type": "stream",
     "text": [
      "100%|██████████| 24/24 [00:00<00:00, 192.27it/s]\n"
     ]
    },
    {
     "name": "stdout",
     "output_type": "stream",
     "text": [
      "OK!\n",
      "Calibration Hellinger\n"
     ]
    },
    {
     "name": "stderr",
     "output_type": "stream",
     "text": [
      "100%|██████████| 24/24 [00:00<00:00, 194.16it/s]\n"
     ]
    },
    {
     "name": "stdout",
     "output_type": "stream",
     "text": [
      "OK!\n",
      "Pre-processing...\n"
     ]
    },
    {
     "name": "stderr",
     "output_type": "stream",
     "text": [
      "\u001b[39mINFO\u001b[0m - Performing evaluation on metrics chosen\n"
     ]
    },
    {
     "name": "stdout",
     "output_type": "stream",
     "text": [
      "OK!\n",
      "Accuracy metrics...\n"
     ]
    },
    {
     "name": "stderr",
     "output_type": "stream",
     "text": [
      "Performing NDCG@20:  40%|████      | 2/5 [00:00<00:00]          C:\\Users\\ctreuill.BIDOUILLE\\AppData\\Roaming\\Python\\Python39\\site-packages\\clayrs\\evaluation\\metrics\\ranking_metrics.py:205: RuntimeWarning: invalid value encountered in double_scalars\n",
      "  return actual / ideal\n",
      "Performing NDCG@20:  100%|██████████| 5/5 [00:00<00:00]\n"
     ]
    },
    {
     "name": "stdout",
     "output_type": "stream",
     "text": [
      "OK!\n",
      "ILS...\n"
     ]
    },
    {
     "name": "stderr",
     "output_type": "stream",
     "text": [
      "100%|██████████| 133/133 [00:01<00:00, 126.37it/s]\n"
     ]
    },
    {
     "name": "stdout",
     "output_type": "stream",
     "text": [
      "OK!\n",
      "alpha NDCG\n"
     ]
    },
    {
     "name": "stderr",
     "output_type": "stream",
     "text": [
      "100%|██████████| 133/133 [00:00<00:00, 1087.67it/s]\n"
     ]
    },
    {
     "name": "stdout",
     "output_type": "stream",
     "text": [
      "OK!\n",
      "NDCG IA\n"
     ]
    },
    {
     "name": "stderr",
     "output_type": "stream",
     "text": [
      "100%|██████████| 133/133 [00:00<00:00, 743.28it/s]\n"
     ]
    },
    {
     "name": "stdout",
     "output_type": "stream",
     "text": [
      "OK!\n",
      "S-Recall\n"
     ]
    },
    {
     "name": "stderr",
     "output_type": "stream",
     "text": [
      "100%|██████████| 133/133 [00:00<00:00, 2042.56it/s]\n"
     ]
    },
    {
     "name": "stdout",
     "output_type": "stream",
     "text": [
      "OK!\n",
      "Calibration KL\n"
     ]
    },
    {
     "name": "stderr",
     "output_type": "stream",
     "text": [
      "100%|██████████| 133/133 [00:00<00:00, 311.98it/s]\n"
     ]
    },
    {
     "name": "stdout",
     "output_type": "stream",
     "text": [
      "OK!\n",
      "Calibration Hellinger\n"
     ]
    },
    {
     "name": "stderr",
     "output_type": "stream",
     "text": [
      "100%|██████████| 133/133 [00:00<00:00, 336.56it/s]\n"
     ]
    },
    {
     "name": "stdout",
     "output_type": "stream",
     "text": [
      "OK!\n",
      "Pre-processing...\n"
     ]
    },
    {
     "name": "stderr",
     "output_type": "stream",
     "text": [
      "\u001b[39mINFO\u001b[0m - Performing evaluation on metrics chosen\n"
     ]
    },
    {
     "name": "stdout",
     "output_type": "stream",
     "text": [
      "OK!\n",
      "Accuracy metrics...\n"
     ]
    },
    {
     "name": "stderr",
     "output_type": "stream",
     "text": [
      "Performing NDCG@20:  80%|████████  | 4/5 [00:00<00:00]          C:\\Users\\ctreuill.BIDOUILLE\\AppData\\Roaming\\Python\\Python39\\site-packages\\clayrs\\evaluation\\metrics\\ranking_metrics.py:205: RuntimeWarning: invalid value encountered in double_scalars\n",
      "  return actual / ideal\n",
      "Performing NDCG@20:  100%|██████████| 5/5 [00:00<00:00]\n"
     ]
    },
    {
     "name": "stdout",
     "output_type": "stream",
     "text": [
      "OK!\n",
      "ILS...\n"
     ]
    },
    {
     "name": "stderr",
     "output_type": "stream",
     "text": [
      "100%|██████████| 525/525 [00:02<00:00, 184.26it/s]\n"
     ]
    },
    {
     "name": "stdout",
     "output_type": "stream",
     "text": [
      "OK!\n",
      "alpha NDCG\n"
     ]
    },
    {
     "name": "stderr",
     "output_type": "stream",
     "text": [
      "100%|██████████| 525/525 [00:00<00:00, 1329.93it/s]\n"
     ]
    },
    {
     "name": "stdout",
     "output_type": "stream",
     "text": [
      "OK!\n",
      "NDCG IA\n"
     ]
    },
    {
     "name": "stderr",
     "output_type": "stream",
     "text": [
      "100%|██████████| 525/525 [00:00<00:00, 910.97it/s]\n"
     ]
    },
    {
     "name": "stdout",
     "output_type": "stream",
     "text": [
      "OK!\n",
      "S-Recall\n"
     ]
    },
    {
     "name": "stderr",
     "output_type": "stream",
     "text": [
      "100%|██████████| 525/525 [00:00<00:00, 2265.11it/s]\n"
     ]
    },
    {
     "name": "stdout",
     "output_type": "stream",
     "text": [
      "OK!\n",
      "Calibration KL\n"
     ]
    },
    {
     "name": "stderr",
     "output_type": "stream",
     "text": [
      "100%|██████████| 525/525 [00:02<00:00, 232.47it/s]\n"
     ]
    },
    {
     "name": "stdout",
     "output_type": "stream",
     "text": [
      "OK!\n",
      "Calibration Hellinger\n"
     ]
    },
    {
     "name": "stderr",
     "output_type": "stream",
     "text": [
      "100%|██████████| 525/525 [00:01<00:00, 292.04it/s]\n"
     ]
    },
    {
     "name": "stdout",
     "output_type": "stream",
     "text": [
      "OK!\n",
      "Pre-processing...\n"
     ]
    },
    {
     "name": "stderr",
     "output_type": "stream",
     "text": [
      "\u001b[39mINFO\u001b[0m - Performing evaluation on metrics chosen\n"
     ]
    },
    {
     "name": "stdout",
     "output_type": "stream",
     "text": [
      "OK!\n",
      "Accuracy metrics...\n"
     ]
    },
    {
     "name": "stderr",
     "output_type": "stream",
     "text": [
      "Performing NDCG@20:  80%|████████  | 4/5 [00:02<00:00]             C:\\Users\\ctreuill.BIDOUILLE\\AppData\\Roaming\\Python\\Python39\\site-packages\\clayrs\\evaluation\\metrics\\ranking_metrics.py:205: RuntimeWarning: invalid value encountered in double_scalars\n",
      "  return actual / ideal\n",
      "Performing NDCG@20:  100%|██████████| 5/5 [00:02<00:00]\n"
     ]
    },
    {
     "name": "stdout",
     "output_type": "stream",
     "text": [
      "OK!\n",
      "ILS...\n"
     ]
    },
    {
     "name": "stderr",
     "output_type": "stream",
     "text": [
      "100%|██████████| 1964/1964 [00:10<00:00, 186.58it/s]\n"
     ]
    },
    {
     "name": "stdout",
     "output_type": "stream",
     "text": [
      "OK!\n",
      "alpha NDCG\n"
     ]
    },
    {
     "name": "stderr",
     "output_type": "stream",
     "text": [
      "100%|██████████| 1964/1964 [00:01<00:00, 1274.67it/s]\n"
     ]
    },
    {
     "name": "stdout",
     "output_type": "stream",
     "text": [
      "OK!\n",
      "NDCG IA\n"
     ]
    },
    {
     "name": "stderr",
     "output_type": "stream",
     "text": [
      "100%|██████████| 1964/1964 [00:02<00:00, 926.23it/s] \n"
     ]
    },
    {
     "name": "stdout",
     "output_type": "stream",
     "text": [
      "OK!\n",
      "S-Recall\n"
     ]
    },
    {
     "name": "stderr",
     "output_type": "stream",
     "text": [
      "100%|██████████| 1964/1964 [00:00<00:00, 2221.01it/s]\n"
     ]
    },
    {
     "name": "stdout",
     "output_type": "stream",
     "text": [
      "OK!\n",
      "Calibration KL\n"
     ]
    },
    {
     "name": "stderr",
     "output_type": "stream",
     "text": [
      "100%|██████████| 1964/1964 [00:06<00:00, 291.24it/s]\n"
     ]
    },
    {
     "name": "stdout",
     "output_type": "stream",
     "text": [
      "OK!\n",
      "Calibration Hellinger\n"
     ]
    },
    {
     "name": "stderr",
     "output_type": "stream",
     "text": [
      "100%|██████████| 1964/1964 [00:06<00:00, 310.18it/s]\n"
     ]
    },
    {
     "name": "stdout",
     "output_type": "stream",
     "text": [
      "OK!\n",
      "Pre-processing...\n"
     ]
    },
    {
     "name": "stderr",
     "output_type": "stream",
     "text": [
      "\u001b[39mINFO\u001b[0m - Performing evaluation on metrics chosen\n"
     ]
    },
    {
     "name": "stdout",
     "output_type": "stream",
     "text": [
      "OK!\n",
      "Accuracy metrics...\n"
     ]
    },
    {
     "name": "stderr",
     "output_type": "stream",
     "text": [
      "Performing NDCG@20:  80%|████████  | 4/5 [00:10<00:02]             C:\\Users\\ctreuill.BIDOUILLE\\AppData\\Roaming\\Python\\Python39\\site-packages\\clayrs\\evaluation\\metrics\\ranking_metrics.py:205: RuntimeWarning: invalid value encountered in double_scalars\n",
      "  return actual / ideal\n",
      "Performing NDCG@20:  100%|██████████| 5/5 [00:13<00:00]\n"
     ]
    },
    {
     "name": "stdout",
     "output_type": "stream",
     "text": [
      "OK!\n",
      "ILS...\n"
     ]
    },
    {
     "name": "stderr",
     "output_type": "stream",
     "text": [
      "100%|██████████| 4250/4250 [00:22<00:00, 192.19it/s]\n"
     ]
    },
    {
     "name": "stdout",
     "output_type": "stream",
     "text": [
      "OK!\n",
      "alpha NDCG\n"
     ]
    },
    {
     "name": "stderr",
     "output_type": "stream",
     "text": [
      "100%|██████████| 4250/4250 [00:03<00:00, 1189.95it/s]\n"
     ]
    },
    {
     "name": "stdout",
     "output_type": "stream",
     "text": [
      "OK!\n",
      "NDCG IA\n"
     ]
    },
    {
     "name": "stderr",
     "output_type": "stream",
     "text": [
      "100%|██████████| 4250/4250 [00:04<00:00, 860.42it/s]\n"
     ]
    },
    {
     "name": "stdout",
     "output_type": "stream",
     "text": [
      "OK!\n",
      "S-Recall\n"
     ]
    },
    {
     "name": "stderr",
     "output_type": "stream",
     "text": [
      "100%|██████████| 4250/4250 [00:01<00:00, 2470.24it/s]\n"
     ]
    },
    {
     "name": "stdout",
     "output_type": "stream",
     "text": [
      "OK!\n",
      "Calibration KL\n"
     ]
    },
    {
     "name": "stderr",
     "output_type": "stream",
     "text": [
      "100%|██████████| 4250/4250 [00:14<00:00, 289.15it/s]\n"
     ]
    },
    {
     "name": "stdout",
     "output_type": "stream",
     "text": [
      "OK!\n",
      "Calibration Hellinger\n"
     ]
    },
    {
     "name": "stderr",
     "output_type": "stream",
     "text": [
      "100%|██████████| 4250/4250 [00:16<00:00, 258.56it/s]\n"
     ]
    },
    {
     "name": "stdout",
     "output_type": "stream",
     "text": [
      "OK!\n",
      "Pre-processing...\n"
     ]
    },
    {
     "name": "stderr",
     "output_type": "stream",
     "text": [
      "\u001b[39mINFO\u001b[0m - Performing evaluation on metrics chosen\n"
     ]
    },
    {
     "name": "stdout",
     "output_type": "stream",
     "text": [
      "OK!\n",
      "Accuracy metrics...\n"
     ]
    },
    {
     "name": "stderr",
     "output_type": "stream",
     "text": [
      "Performing NDCG@20:  80%|████████  | 4/5 [00:06<00:01]             C:\\Users\\ctreuill.BIDOUILLE\\AppData\\Roaming\\Python\\Python39\\site-packages\\clayrs\\evaluation\\metrics\\ranking_metrics.py:205: RuntimeWarning: invalid value encountered in double_scalars\n",
      "  return actual / ideal\n",
      "Performing NDCG@20:  100%|██████████| 5/5 [00:07<00:00]\n"
     ]
    },
    {
     "name": "stdout",
     "output_type": "stream",
     "text": [
      "OK!\n",
      "ILS...\n"
     ]
    },
    {
     "name": "stderr",
     "output_type": "stream",
     "text": [
      "100%|██████████| 2894/2894 [00:15<00:00, 190.89it/s]\n"
     ]
    },
    {
     "name": "stdout",
     "output_type": "stream",
     "text": [
      "OK!\n",
      "alpha NDCG\n"
     ]
    },
    {
     "name": "stderr",
     "output_type": "stream",
     "text": [
      "100%|██████████| 2894/2894 [00:03<00:00, 921.41it/s] \n"
     ]
    },
    {
     "name": "stdout",
     "output_type": "stream",
     "text": [
      "OK!\n",
      "NDCG IA\n"
     ]
    },
    {
     "name": "stderr",
     "output_type": "stream",
     "text": [
      "100%|██████████| 2894/2894 [00:04<00:00, 663.68it/s]\n"
     ]
    },
    {
     "name": "stdout",
     "output_type": "stream",
     "text": [
      "OK!\n",
      "S-Recall\n"
     ]
    },
    {
     "name": "stderr",
     "output_type": "stream",
     "text": [
      "100%|██████████| 2894/2894 [00:02<00:00, 1187.69it/s]\n"
     ]
    },
    {
     "name": "stdout",
     "output_type": "stream",
     "text": [
      "OK!\n",
      "Calibration KL\n"
     ]
    },
    {
     "name": "stderr",
     "output_type": "stream",
     "text": [
      "100%|██████████| 2894/2894 [00:10<00:00, 264.11it/s]\n"
     ]
    },
    {
     "name": "stdout",
     "output_type": "stream",
     "text": [
      "OK!\n",
      "Calibration Hellinger\n"
     ]
    },
    {
     "name": "stderr",
     "output_type": "stream",
     "text": [
      "100%|██████████| 2894/2894 [00:10<00:00, 275.91it/s]\n",
      "\u001b[39mINFO\u001b[0m - Performing evaluation on metrics chosen\n"
     ]
    },
    {
     "name": "stdout",
     "output_type": "stream",
     "text": [
      "OK!\n",
      "Pre-processing...\n",
      "OK!\n",
      "Accuracy metrics...\n"
     ]
    },
    {
     "name": "stderr",
     "output_type": "stream",
     "text": [
      "Performing NDCG@20:  80%|████████  | 4/5 [00:00<00:00]        C:\\Users\\ctreuill.BIDOUILLE\\AppData\\Roaming\\Python\\Python39\\site-packages\\clayrs\\evaluation\\metrics\\ranking_metrics.py:205: RuntimeWarning: invalid value encountered in double_scalars\n",
      "  return actual / ideal\n",
      "Performing NDCG@20:  100%|██████████| 5/5 [00:00<00:00]\n"
     ]
    },
    {
     "name": "stdout",
     "output_type": "stream",
     "text": [
      "OK!\n",
      "ILS...\n"
     ]
    },
    {
     "name": "stderr",
     "output_type": "stream",
     "text": [
      "100%|██████████| 207/207 [00:01<00:00, 192.39it/s]\n"
     ]
    },
    {
     "name": "stdout",
     "output_type": "stream",
     "text": [
      "OK!\n",
      "alpha NDCG\n"
     ]
    },
    {
     "name": "stderr",
     "output_type": "stream",
     "text": [
      "100%|██████████| 207/207 [00:00<00:00, 955.13it/s]\n"
     ]
    },
    {
     "name": "stdout",
     "output_type": "stream",
     "text": [
      "OK!\n",
      "NDCG IA\n"
     ]
    },
    {
     "name": "stderr",
     "output_type": "stream",
     "text": [
      "100%|██████████| 207/207 [00:00<00:00, 725.94it/s]\n"
     ]
    },
    {
     "name": "stdout",
     "output_type": "stream",
     "text": [
      "OK!\n",
      "S-Recall\n"
     ]
    },
    {
     "name": "stderr",
     "output_type": "stream",
     "text": [
      "100%|██████████| 207/207 [00:00<00:00, 2609.53it/s]\n"
     ]
    },
    {
     "name": "stdout",
     "output_type": "stream",
     "text": [
      "OK!\n",
      "Calibration KL\n"
     ]
    },
    {
     "name": "stderr",
     "output_type": "stream",
     "text": [
      "100%|██████████| 207/207 [00:00<00:00, 333.38it/s]\n"
     ]
    },
    {
     "name": "stdout",
     "output_type": "stream",
     "text": [
      "OK!\n",
      "Calibration Hellinger\n"
     ]
    },
    {
     "name": "stderr",
     "output_type": "stream",
     "text": [
      "100%|██████████| 207/207 [00:00<00:00, 327.36it/s]\n",
      "\u001b[39mINFO\u001b[0m - Performing evaluation on metrics chosen\n"
     ]
    },
    {
     "name": "stdout",
     "output_type": "stream",
     "text": [
      "OK!\n",
      "Pre-processing...\n",
      "OK!\n",
      "Accuracy metrics...\n"
     ]
    },
    {
     "name": "stderr",
     "output_type": "stream",
     "text": [
      "Performing NDCG@20:  100%|██████████| 5/5 [00:00<00:00]       \n"
     ]
    },
    {
     "name": "stdout",
     "output_type": "stream",
     "text": [
      "OK!\n",
      "ILS...\n"
     ]
    },
    {
     "name": "stderr",
     "output_type": "stream",
     "text": [
      "100%|██████████| 3/3 [00:00<00:00, 200.61it/s]\n"
     ]
    },
    {
     "name": "stdout",
     "output_type": "stream",
     "text": [
      "OK!\n",
      "alpha NDCG\n"
     ]
    },
    {
     "name": "stderr",
     "output_type": "stream",
     "text": [
      "100%|██████████| 3/3 [00:00<00:00, 1191.68it/s]\n"
     ]
    },
    {
     "name": "stdout",
     "output_type": "stream",
     "text": [
      "OK!\n",
      "NDCG IA\n"
     ]
    },
    {
     "name": "stderr",
     "output_type": "stream",
     "text": [
      "100%|██████████| 3/3 [00:00<00:00, 535.53it/s]\n"
     ]
    },
    {
     "name": "stdout",
     "output_type": "stream",
     "text": [
      "OK!\n",
      "S-Recall\n"
     ]
    },
    {
     "name": "stderr",
     "output_type": "stream",
     "text": [
      "100%|██████████| 3/3 [00:00<00:00, 3010.27it/s]\n"
     ]
    },
    {
     "name": "stdout",
     "output_type": "stream",
     "text": [
      "OK!\n",
      "Calibration KL\n"
     ]
    },
    {
     "name": "stderr",
     "output_type": "stream",
     "text": [
      "100%|██████████| 3/3 [00:00<00:00, 202.74it/s]\n"
     ]
    },
    {
     "name": "stdout",
     "output_type": "stream",
     "text": [
      "OK!\n",
      "Calibration Hellinger\n"
     ]
    },
    {
     "name": "stderr",
     "output_type": "stream",
     "text": [
      "100%|██████████| 3/3 [00:00<00:00, 165.38it/s]\n"
     ]
    },
    {
     "name": "stdout",
     "output_type": "stream",
     "text": [
      "OK!\n",
      "Pre-processing...\n"
     ]
    },
    {
     "name": "stderr",
     "output_type": "stream",
     "text": [
      "\u001b[39mINFO\u001b[0m - Performing evaluation on metrics chosen\n"
     ]
    },
    {
     "name": "stdout",
     "output_type": "stream",
     "text": [
      "OK!\n",
      "Accuracy metrics...\n"
     ]
    },
    {
     "name": "stderr",
     "output_type": "stream",
     "text": [
      "Performing NDCG@20:  0%|          | 0/5 [00:00<?]             C:\\Users\\ctreuill.BIDOUILLE\\AppData\\Roaming\\Python\\Python39\\site-packages\\clayrs\\evaluation\\metrics\\ranking_metrics.py:205: RuntimeWarning: invalid value encountered in double_scalars\n",
      "  return actual / ideal\n",
      "Performing NDCG@20:  100%|██████████| 5/5 [00:00<00:00]\n"
     ]
    },
    {
     "name": "stdout",
     "output_type": "stream",
     "text": [
      "OK!\n",
      "ILS...\n"
     ]
    },
    {
     "name": "stderr",
     "output_type": "stream",
     "text": [
      "100%|██████████| 24/24 [00:00<00:00, 127.41it/s]\n"
     ]
    },
    {
     "name": "stdout",
     "output_type": "stream",
     "text": [
      "OK!\n",
      "alpha NDCG\n"
     ]
    },
    {
     "name": "stderr",
     "output_type": "stream",
     "text": [
      "100%|██████████| 24/24 [00:00<00:00, 914.51it/s]\n"
     ]
    },
    {
     "name": "stdout",
     "output_type": "stream",
     "text": [
      "OK!\n",
      "NDCG IA\n"
     ]
    },
    {
     "name": "stderr",
     "output_type": "stream",
     "text": [
      "100%|██████████| 24/24 [00:00<00:00, 510.38it/s]\n"
     ]
    },
    {
     "name": "stdout",
     "output_type": "stream",
     "text": [
      "OK!\n",
      "S-Recall\n"
     ]
    },
    {
     "name": "stderr",
     "output_type": "stream",
     "text": [
      "100%|██████████| 24/24 [00:00<00:00, 1834.11it/s]\n"
     ]
    },
    {
     "name": "stdout",
     "output_type": "stream",
     "text": [
      "OK!\n",
      "Calibration KL\n"
     ]
    },
    {
     "name": "stderr",
     "output_type": "stream",
     "text": [
      "100%|██████████| 24/24 [00:00<00:00, 247.84it/s]\n"
     ]
    },
    {
     "name": "stdout",
     "output_type": "stream",
     "text": [
      "OK!\n",
      "Calibration Hellinger\n"
     ]
    },
    {
     "name": "stderr",
     "output_type": "stream",
     "text": [
      "100%|██████████| 24/24 [00:00<00:00, 242.43it/s]\n"
     ]
    },
    {
     "name": "stdout",
     "output_type": "stream",
     "text": [
      "OK!\n",
      "Pre-processing...\n"
     ]
    },
    {
     "name": "stderr",
     "output_type": "stream",
     "text": [
      "\u001b[39mINFO\u001b[0m - Performing evaluation on metrics chosen\n"
     ]
    },
    {
     "name": "stdout",
     "output_type": "stream",
     "text": [
      "OK!\n",
      "Accuracy metrics...\n"
     ]
    },
    {
     "name": "stderr",
     "output_type": "stream",
     "text": [
      "Performing NDCG@20:  0%|          | 0/5 [00:00<?]             C:\\Users\\ctreuill.BIDOUILLE\\AppData\\Roaming\\Python\\Python39\\site-packages\\clayrs\\evaluation\\metrics\\ranking_metrics.py:205: RuntimeWarning: invalid value encountered in double_scalars\n",
      "  return actual / ideal\n",
      "Performing NDCG@20:  100%|██████████| 5/5 [00:00<00:00]\n"
     ]
    },
    {
     "name": "stdout",
     "output_type": "stream",
     "text": [
      "OK!\n",
      "ILS...\n"
     ]
    },
    {
     "name": "stderr",
     "output_type": "stream",
     "text": [
      "100%|██████████| 133/133 [00:01<00:00, 111.47it/s]\n"
     ]
    },
    {
     "name": "stdout",
     "output_type": "stream",
     "text": [
      "OK!\n",
      "alpha NDCG\n"
     ]
    },
    {
     "name": "stderr",
     "output_type": "stream",
     "text": [
      "100%|██████████| 133/133 [00:00<00:00, 706.06it/s]\n"
     ]
    },
    {
     "name": "stdout",
     "output_type": "stream",
     "text": [
      "OK!\n",
      "NDCG IA\n"
     ]
    },
    {
     "name": "stderr",
     "output_type": "stream",
     "text": [
      "100%|██████████| 133/133 [00:00<00:00, 710.76it/s]\n"
     ]
    },
    {
     "name": "stdout",
     "output_type": "stream",
     "text": [
      "OK!\n",
      "S-Recall\n"
     ]
    },
    {
     "name": "stderr",
     "output_type": "stream",
     "text": [
      "100%|██████████| 133/133 [00:00<00:00, 2138.73it/s]\n"
     ]
    },
    {
     "name": "stdout",
     "output_type": "stream",
     "text": [
      "OK!\n",
      "Calibration KL\n"
     ]
    },
    {
     "name": "stderr",
     "output_type": "stream",
     "text": [
      "100%|██████████| 133/133 [00:00<00:00, 210.33it/s]\n"
     ]
    },
    {
     "name": "stdout",
     "output_type": "stream",
     "text": [
      "OK!\n",
      "Calibration Hellinger\n"
     ]
    },
    {
     "name": "stderr",
     "output_type": "stream",
     "text": [
      "100%|██████████| 133/133 [00:00<00:00, 212.74it/s]\n"
     ]
    },
    {
     "name": "stdout",
     "output_type": "stream",
     "text": [
      "OK!\n",
      "Pre-processing...\n"
     ]
    },
    {
     "name": "stderr",
     "output_type": "stream",
     "text": [
      "\u001b[39mINFO\u001b[0m - Performing evaluation on metrics chosen\n"
     ]
    },
    {
     "name": "stdout",
     "output_type": "stream",
     "text": [
      "OK!\n",
      "Accuracy metrics...\n"
     ]
    },
    {
     "name": "stderr",
     "output_type": "stream",
     "text": [
      "Performing NDCG@20:  80%|████████  | 4/5 [00:00<00:00]             C:\\Users\\ctreuill.BIDOUILLE\\AppData\\Roaming\\Python\\Python39\\site-packages\\clayrs\\evaluation\\metrics\\ranking_metrics.py:205: RuntimeWarning: invalid value encountered in double_scalars\n",
      "  return actual / ideal\n",
      "Performing NDCG@20:  100%|██████████| 5/5 [00:00<00:00]\n"
     ]
    },
    {
     "name": "stdout",
     "output_type": "stream",
     "text": [
      "OK!\n",
      "ILS...\n"
     ]
    },
    {
     "name": "stderr",
     "output_type": "stream",
     "text": [
      "100%|██████████| 525/525 [00:03<00:00, 159.25it/s]\n"
     ]
    },
    {
     "name": "stdout",
     "output_type": "stream",
     "text": [
      "OK!\n",
      "alpha NDCG\n"
     ]
    },
    {
     "name": "stderr",
     "output_type": "stream",
     "text": [
      "100%|██████████| 525/525 [00:00<00:00, 1000.49it/s]\n"
     ]
    },
    {
     "name": "stdout",
     "output_type": "stream",
     "text": [
      "OK!\n",
      "NDCG IA\n"
     ]
    },
    {
     "name": "stderr",
     "output_type": "stream",
     "text": [
      "100%|██████████| 525/525 [00:01<00:00, 426.74it/s]\n"
     ]
    },
    {
     "name": "stdout",
     "output_type": "stream",
     "text": [
      "OK!\n",
      "S-Recall\n"
     ]
    },
    {
     "name": "stderr",
     "output_type": "stream",
     "text": [
      "100%|██████████| 525/525 [00:00<00:00, 973.33it/s] \n"
     ]
    },
    {
     "name": "stdout",
     "output_type": "stream",
     "text": [
      "OK!\n",
      "Calibration KL\n"
     ]
    },
    {
     "name": "stderr",
     "output_type": "stream",
     "text": [
      "100%|██████████| 525/525 [00:03<00:00, 167.17it/s]\n"
     ]
    },
    {
     "name": "stdout",
     "output_type": "stream",
     "text": [
      "OK!\n",
      "Calibration Hellinger\n"
     ]
    },
    {
     "name": "stderr",
     "output_type": "stream",
     "text": [
      "100%|██████████| 525/525 [00:02<00:00, 209.51it/s]\n"
     ]
    },
    {
     "name": "stdout",
     "output_type": "stream",
     "text": [
      "OK!\n",
      "Pre-processing...\n"
     ]
    },
    {
     "name": "stderr",
     "output_type": "stream",
     "text": [
      "\u001b[39mINFO\u001b[0m - Performing evaluation on metrics chosen\n"
     ]
    },
    {
     "name": "stdout",
     "output_type": "stream",
     "text": [
      "OK!\n",
      "Accuracy metrics...\n"
     ]
    },
    {
     "name": "stderr",
     "output_type": "stream",
     "text": [
      "Performing NDCG@20:  80%|████████  | 4/5 [00:09<00:03]             C:\\Users\\ctreuill.BIDOUILLE\\AppData\\Roaming\\Python\\Python39\\site-packages\\clayrs\\evaluation\\metrics\\ranking_metrics.py:205: RuntimeWarning: invalid value encountered in double_scalars\n",
      "  return actual / ideal\n",
      "Performing NDCG@20:  100%|██████████| 5/5 [00:13<00:00]\n"
     ]
    },
    {
     "name": "stdout",
     "output_type": "stream",
     "text": [
      "OK!\n",
      "ILS...\n"
     ]
    },
    {
     "name": "stderr",
     "output_type": "stream",
     "text": [
      "100%|██████████| 1964/1964 [00:21<00:00, 89.32it/s] \n"
     ]
    },
    {
     "name": "stdout",
     "output_type": "stream",
     "text": [
      "OK!\n",
      "alpha NDCG\n"
     ]
    },
    {
     "name": "stderr",
     "output_type": "stream",
     "text": [
      "100%|██████████| 1964/1964 [00:01<00:00, 1398.89it/s]\n"
     ]
    },
    {
     "name": "stdout",
     "output_type": "stream",
     "text": [
      "OK!\n",
      "NDCG IA\n"
     ]
    },
    {
     "name": "stderr",
     "output_type": "stream",
     "text": [
      "100%|██████████| 1964/1964 [00:01<00:00, 1294.23it/s]\n"
     ]
    },
    {
     "name": "stdout",
     "output_type": "stream",
     "text": [
      "OK!\n",
      "S-Recall\n"
     ]
    },
    {
     "name": "stderr",
     "output_type": "stream",
     "text": [
      "100%|██████████| 1964/1964 [00:00<00:00, 3876.09it/s]\n"
     ]
    },
    {
     "name": "stdout",
     "output_type": "stream",
     "text": [
      "OK!\n",
      "Calibration KL\n"
     ]
    },
    {
     "name": "stderr",
     "output_type": "stream",
     "text": [
      "100%|██████████| 1964/1964 [00:04<00:00, 463.52it/s]\n"
     ]
    },
    {
     "name": "stdout",
     "output_type": "stream",
     "text": [
      "OK!\n",
      "Calibration Hellinger\n"
     ]
    },
    {
     "name": "stderr",
     "output_type": "stream",
     "text": [
      "100%|██████████| 1964/1964 [00:04<00:00, 464.91it/s]\n"
     ]
    },
    {
     "name": "stdout",
     "output_type": "stream",
     "text": [
      "OK!\n",
      "Pre-processing...\n"
     ]
    },
    {
     "name": "stderr",
     "output_type": "stream",
     "text": [
      "\u001b[39mINFO\u001b[0m - Performing evaluation on metrics chosen\n"
     ]
    },
    {
     "name": "stdout",
     "output_type": "stream",
     "text": [
      "OK!\n",
      "Accuracy metrics...\n"
     ]
    },
    {
     "name": "stderr",
     "output_type": "stream",
     "text": [
      "Performing NDCG@20:  80%|████████  | 4/5 [00:07<00:01]             C:\\Users\\ctreuill.BIDOUILLE\\AppData\\Roaming\\Python\\Python39\\site-packages\\clayrs\\evaluation\\metrics\\ranking_metrics.py:205: RuntimeWarning: invalid value encountered in double_scalars\n",
      "  return actual / ideal\n",
      "Performing NDCG@20:  100%|██████████| 5/5 [00:09<00:00]\n"
     ]
    },
    {
     "name": "stdout",
     "output_type": "stream",
     "text": [
      "OK!\n",
      "ILS...\n"
     ]
    },
    {
     "name": "stderr",
     "output_type": "stream",
     "text": [
      "100%|██████████| 4250/4250 [00:16<00:00, 251.91it/s]\n"
     ]
    },
    {
     "name": "stdout",
     "output_type": "stream",
     "text": [
      "OK!\n",
      "alpha NDCG\n"
     ]
    },
    {
     "name": "stderr",
     "output_type": "stream",
     "text": [
      "100%|██████████| 4250/4250 [00:02<00:00, 1448.86it/s]\n"
     ]
    },
    {
     "name": "stdout",
     "output_type": "stream",
     "text": [
      "OK!\n",
      "NDCG IA\n"
     ]
    },
    {
     "name": "stderr",
     "output_type": "stream",
     "text": [
      "100%|██████████| 4250/4250 [00:03<00:00, 1111.02it/s]\n"
     ]
    },
    {
     "name": "stdout",
     "output_type": "stream",
     "text": [
      "OK!\n",
      "S-Recall\n"
     ]
    },
    {
     "name": "stderr",
     "output_type": "stream",
     "text": [
      "100%|██████████| 4250/4250 [00:01<00:00, 3215.21it/s]\n"
     ]
    },
    {
     "name": "stdout",
     "output_type": "stream",
     "text": [
      "OK!\n",
      "Calibration KL\n"
     ]
    },
    {
     "name": "stderr",
     "output_type": "stream",
     "text": [
      "100%|██████████| 4250/4250 [00:09<00:00, 464.77it/s]\n"
     ]
    },
    {
     "name": "stdout",
     "output_type": "stream",
     "text": [
      "OK!\n",
      "Calibration Hellinger\n"
     ]
    },
    {
     "name": "stderr",
     "output_type": "stream",
     "text": [
      "100%|██████████| 4250/4250 [00:09<00:00, 426.17it/s]\n"
     ]
    },
    {
     "name": "stdout",
     "output_type": "stream",
     "text": [
      "OK!\n",
      "Pre-processing...\n"
     ]
    },
    {
     "name": "stderr",
     "output_type": "stream",
     "text": [
      "\u001b[39mINFO\u001b[0m - Performing evaluation on metrics chosen\n"
     ]
    },
    {
     "name": "stdout",
     "output_type": "stream",
     "text": [
      "OK!\n",
      "Accuracy metrics...\n"
     ]
    },
    {
     "name": "stderr",
     "output_type": "stream",
     "text": [
      "Performing NDCG@20:  80%|████████  | 4/5 [00:03<00:00]             C:\\Users\\ctreuill.BIDOUILLE\\AppData\\Roaming\\Python\\Python39\\site-packages\\clayrs\\evaluation\\metrics\\ranking_metrics.py:205: RuntimeWarning: invalid value encountered in double_scalars\n",
      "  return actual / ideal\n",
      "Performing NDCG@20:  100%|██████████| 5/5 [00:04<00:00]\n"
     ]
    },
    {
     "name": "stdout",
     "output_type": "stream",
     "text": [
      "OK!\n",
      "ILS...\n"
     ]
    },
    {
     "name": "stderr",
     "output_type": "stream",
     "text": [
      "100%|██████████| 2894/2894 [00:11<00:00, 252.40it/s]\n"
     ]
    },
    {
     "name": "stdout",
     "output_type": "stream",
     "text": [
      "OK!\n",
      "alpha NDCG\n"
     ]
    },
    {
     "name": "stderr",
     "output_type": "stream",
     "text": [
      "100%|██████████| 2894/2894 [00:01<00:00, 1456.46it/s]\n"
     ]
    },
    {
     "name": "stdout",
     "output_type": "stream",
     "text": [
      "OK!\n",
      "NDCG IA\n"
     ]
    },
    {
     "name": "stderr",
     "output_type": "stream",
     "text": [
      "100%|██████████| 2894/2894 [00:02<00:00, 1142.09it/s]\n"
     ]
    },
    {
     "name": "stdout",
     "output_type": "stream",
     "text": [
      "OK!\n",
      "S-Recall\n"
     ]
    },
    {
     "name": "stderr",
     "output_type": "stream",
     "text": [
      "100%|██████████| 2894/2894 [00:00<00:00, 3755.60it/s]\n"
     ]
    },
    {
     "name": "stdout",
     "output_type": "stream",
     "text": [
      "OK!\n",
      "Calibration KL\n"
     ]
    },
    {
     "name": "stderr",
     "output_type": "stream",
     "text": [
      "100%|██████████| 2894/2894 [00:06<00:00, 465.53it/s]\n"
     ]
    },
    {
     "name": "stdout",
     "output_type": "stream",
     "text": [
      "OK!\n",
      "Calibration Hellinger\n"
     ]
    },
    {
     "name": "stderr",
     "output_type": "stream",
     "text": [
      "100%|██████████| 2894/2894 [00:06<00:00, 456.91it/s]\n",
      "\u001b[39mINFO\u001b[0m - Performing evaluation on metrics chosen\n"
     ]
    },
    {
     "name": "stdout",
     "output_type": "stream",
     "text": [
      "OK!\n",
      "Pre-processing...\n",
      "OK!\n",
      "Accuracy metrics...\n"
     ]
    },
    {
     "name": "stderr",
     "output_type": "stream",
     "text": [
      "Performing NDCG@20:  0%|          | 0/5 [00:00<?]             C:\\Users\\ctreuill.BIDOUILLE\\AppData\\Roaming\\Python\\Python39\\site-packages\\clayrs\\evaluation\\metrics\\ranking_metrics.py:205: RuntimeWarning: invalid value encountered in double_scalars\n",
      "  return actual / ideal\n",
      "Performing NDCG@20:  100%|██████████| 5/5 [00:00<00:00]\n"
     ]
    },
    {
     "name": "stdout",
     "output_type": "stream",
     "text": [
      "OK!\n",
      "ILS...\n"
     ]
    },
    {
     "name": "stderr",
     "output_type": "stream",
     "text": [
      "100%|██████████| 207/207 [00:00<00:00, 254.36it/s]\n"
     ]
    },
    {
     "name": "stdout",
     "output_type": "stream",
     "text": [
      "OK!\n",
      "alpha NDCG\n"
     ]
    },
    {
     "name": "stderr",
     "output_type": "stream",
     "text": [
      "100%|██████████| 207/207 [00:00<00:00, 1470.79it/s]\n"
     ]
    },
    {
     "name": "stdout",
     "output_type": "stream",
     "text": [
      "OK!\n",
      "NDCG IA\n"
     ]
    },
    {
     "name": "stderr",
     "output_type": "stream",
     "text": [
      "100%|██████████| 207/207 [00:00<00:00, 932.62it/s] \n"
     ]
    },
    {
     "name": "stdout",
     "output_type": "stream",
     "text": [
      "OK!\n",
      "S-Recall\n"
     ]
    },
    {
     "name": "stderr",
     "output_type": "stream",
     "text": [
      "100%|██████████| 207/207 [00:00<00:00, 3182.07it/s]\n"
     ]
    },
    {
     "name": "stdout",
     "output_type": "stream",
     "text": [
      "OK!\n",
      "Calibration KL\n"
     ]
    },
    {
     "name": "stderr",
     "output_type": "stream",
     "text": [
      "100%|██████████| 207/207 [00:00<00:00, 430.52it/s]\n"
     ]
    },
    {
     "name": "stdout",
     "output_type": "stream",
     "text": [
      "OK!\n",
      "Calibration Hellinger\n"
     ]
    },
    {
     "name": "stderr",
     "output_type": "stream",
     "text": [
      "100%|██████████| 207/207 [00:00<00:00, 474.74it/s]\n",
      "\u001b[39mINFO\u001b[0m - Performing evaluation on metrics chosen\n"
     ]
    },
    {
     "name": "stdout",
     "output_type": "stream",
     "text": [
      "OK!\n",
      "Pre-processing...\n",
      "OK!\n",
      "Accuracy metrics...\n"
     ]
    },
    {
     "name": "stderr",
     "output_type": "stream",
     "text": [
      "Performing NDCG@20:  100%|██████████| 5/5 [00:00<00:00]       \n"
     ]
    },
    {
     "name": "stdout",
     "output_type": "stream",
     "text": [
      "OK!\n",
      "ILS...\n"
     ]
    },
    {
     "name": "stderr",
     "output_type": "stream",
     "text": [
      "100%|██████████| 3/3 [00:00<00:00, 271.64it/s]\n"
     ]
    },
    {
     "name": "stdout",
     "output_type": "stream",
     "text": [
      "OK!\n",
      "alpha NDCG\n"
     ]
    },
    {
     "name": "stderr",
     "output_type": "stream",
     "text": [
      "100%|██████████| 3/3 [00:00<00:00, 1506.21it/s]\n"
     ]
    },
    {
     "name": "stdout",
     "output_type": "stream",
     "text": [
      "OK!\n",
      "NDCG IA\n"
     ]
    },
    {
     "name": "stderr",
     "output_type": "stream",
     "text": [
      "100%|██████████| 3/3 [00:00<00:00, 957.24it/s]\n"
     ]
    },
    {
     "name": "stdout",
     "output_type": "stream",
     "text": [
      "OK!\n",
      "S-Recall\n"
     ]
    },
    {
     "name": "stderr",
     "output_type": "stream",
     "text": [
      "100%|██████████| 3/3 [00:00<00:00, 1495.12it/s]\n"
     ]
    },
    {
     "name": "stdout",
     "output_type": "stream",
     "text": [
      "OK!\n",
      "Calibration KL\n"
     ]
    },
    {
     "name": "stderr",
     "output_type": "stream",
     "text": [
      "100%|██████████| 3/3 [00:00<00:00, 430.05it/s]\n"
     ]
    },
    {
     "name": "stdout",
     "output_type": "stream",
     "text": [
      "OK!\n",
      "Calibration Hellinger\n"
     ]
    },
    {
     "name": "stderr",
     "output_type": "stream",
     "text": [
      "100%|██████████| 3/3 [00:00<00:00, 376.27it/s]\n",
      "\u001b[39mINFO\u001b[0m - Performing evaluation on metrics chosen\n"
     ]
    },
    {
     "name": "stdout",
     "output_type": "stream",
     "text": [
      "OK!\n",
      "Pre-processing...\n",
      "OK!\n",
      "Accuracy metrics...\n"
     ]
    },
    {
     "name": "stderr",
     "output_type": "stream",
     "text": [
      "Performing NDCG@20:  0%|          | 0/5 [00:00<?]             C:\\Users\\ctreuill.BIDOUILLE\\AppData\\Roaming\\Python\\Python39\\site-packages\\clayrs\\evaluation\\metrics\\ranking_metrics.py:205: RuntimeWarning: invalid value encountered in double_scalars\n",
      "  return actual / ideal\n",
      "Performing NDCG@20:  100%|██████████| 5/5 [00:00<00:00]"
     ]
    },
    {
     "name": "stdout",
     "output_type": "stream",
     "text": [
      "OK!"
     ]
    },
    {
     "name": "stderr",
     "output_type": "stream",
     "text": [
      "\n"
     ]
    },
    {
     "name": "stdout",
     "output_type": "stream",
     "text": [
      "\n",
      "ILS...\n"
     ]
    },
    {
     "name": "stderr",
     "output_type": "stream",
     "text": [
      "100%|██████████| 24/24 [00:00<00:00, 241.47it/s]\n"
     ]
    },
    {
     "name": "stdout",
     "output_type": "stream",
     "text": [
      "OK!\n",
      "alpha NDCG\n"
     ]
    },
    {
     "name": "stderr",
     "output_type": "stream",
     "text": [
      "100%|██████████| 24/24 [00:00<00:00, 1505.09it/s]\n"
     ]
    },
    {
     "name": "stdout",
     "output_type": "stream",
     "text": [
      "OK!\n",
      "NDCG IA\n"
     ]
    },
    {
     "name": "stderr",
     "output_type": "stream",
     "text": [
      "100%|██████████| 24/24 [00:00<00:00, 983.97it/s]\n"
     ]
    },
    {
     "name": "stdout",
     "output_type": "stream",
     "text": [
      "OK!\n",
      "S-Recall\n"
     ]
    },
    {
     "name": "stderr",
     "output_type": "stream",
     "text": [
      "100%|██████████| 24/24 [00:00<00:00, 3406.43it/s]\n"
     ]
    },
    {
     "name": "stdout",
     "output_type": "stream",
     "text": [
      "OK!\n",
      "Calibration KL\n"
     ]
    },
    {
     "name": "stderr",
     "output_type": "stream",
     "text": [
      "100%|██████████| 24/24 [00:00<00:00, 392.53it/s]\n"
     ]
    },
    {
     "name": "stdout",
     "output_type": "stream",
     "text": [
      "OK!\n",
      "Calibration Hellinger\n"
     ]
    },
    {
     "name": "stderr",
     "output_type": "stream",
     "text": [
      "100%|██████████| 24/24 [00:00<00:00, 401.34it/s]\n"
     ]
    },
    {
     "name": "stdout",
     "output_type": "stream",
     "text": [
      "OK!\n",
      "Pre-processing...\n"
     ]
    },
    {
     "name": "stderr",
     "output_type": "stream",
     "text": [
      "\u001b[39mINFO\u001b[0m - Performing evaluation on metrics chosen\n"
     ]
    },
    {
     "name": "stdout",
     "output_type": "stream",
     "text": [
      "OK!\n",
      "Accuracy metrics...\n"
     ]
    },
    {
     "name": "stderr",
     "output_type": "stream",
     "text": [
      "Performing NDCG@20:  0%|          | 0/5 [00:00<?]             C:\\Users\\ctreuill.BIDOUILLE\\AppData\\Roaming\\Python\\Python39\\site-packages\\clayrs\\evaluation\\metrics\\ranking_metrics.py:205: RuntimeWarning: invalid value encountered in double_scalars\n",
      "  return actual / ideal\n",
      "Performing NDCG@20:  100%|██████████| 5/5 [00:00<00:00]\n"
     ]
    },
    {
     "name": "stdout",
     "output_type": "stream",
     "text": [
      "OK!\n",
      "ILS...\n"
     ]
    },
    {
     "name": "stderr",
     "output_type": "stream",
     "text": [
      "100%|██████████| 133/133 [00:00<00:00, 276.65it/s]\n"
     ]
    },
    {
     "name": "stdout",
     "output_type": "stream",
     "text": [
      "OK!\n",
      "alpha NDCG\n"
     ]
    },
    {
     "name": "stderr",
     "output_type": "stream",
     "text": [
      "100%|██████████| 133/133 [00:00<00:00, 1823.31it/s]\n"
     ]
    },
    {
     "name": "stdout",
     "output_type": "stream",
     "text": [
      "OK!\n",
      "NDCG IA\n"
     ]
    },
    {
     "name": "stderr",
     "output_type": "stream",
     "text": [
      "100%|██████████| 133/133 [00:00<00:00, 1475.51it/s]\n"
     ]
    },
    {
     "name": "stdout",
     "output_type": "stream",
     "text": [
      "OK!\n",
      "S-Recall\n"
     ]
    },
    {
     "name": "stderr",
     "output_type": "stream",
     "text": [
      "100%|██████████| 133/133 [00:00<00:00, 4295.09it/s]\n"
     ]
    },
    {
     "name": "stdout",
     "output_type": "stream",
     "text": [
      "OK!\n",
      "Calibration KL\n"
     ]
    },
    {
     "name": "stderr",
     "output_type": "stream",
     "text": [
      "100%|██████████| 133/133 [00:00<00:00, 463.48it/s]\n"
     ]
    },
    {
     "name": "stdout",
     "output_type": "stream",
     "text": [
      "OK!\n",
      "Calibration Hellinger\n"
     ]
    },
    {
     "name": "stderr",
     "output_type": "stream",
     "text": [
      "100%|██████████| 133/133 [00:00<00:00, 314.55it/s]\n"
     ]
    },
    {
     "name": "stdout",
     "output_type": "stream",
     "text": [
      "OK!\n",
      "Pre-processing...\n"
     ]
    },
    {
     "name": "stderr",
     "output_type": "stream",
     "text": [
      "\u001b[39mINFO\u001b[0m - Performing evaluation on metrics chosen\n"
     ]
    },
    {
     "name": "stdout",
     "output_type": "stream",
     "text": [
      "OK!\n",
      "Accuracy metrics...\n"
     ]
    },
    {
     "name": "stderr",
     "output_type": "stream",
     "text": [
      "Performing NDCG@20:  80%|████████  | 4/5 [00:00<00:00]          C:\\Users\\ctreuill.BIDOUILLE\\AppData\\Roaming\\Python\\Python39\\site-packages\\clayrs\\evaluation\\metrics\\ranking_metrics.py:205: RuntimeWarning: invalid value encountered in double_scalars\n",
      "  return actual / ideal\n",
      "Performing NDCG@20:  100%|██████████| 5/5 [00:00<00:00]\n"
     ]
    },
    {
     "name": "stdout",
     "output_type": "stream",
     "text": [
      "OK!\n",
      "ILS...\n"
     ]
    },
    {
     "name": "stderr",
     "output_type": "stream",
     "text": [
      "100%|██████████| 525/525 [00:01<00:00, 291.28it/s]\n"
     ]
    },
    {
     "name": "stdout",
     "output_type": "stream",
     "text": [
      "OK!\n",
      "alpha NDCG\n"
     ]
    },
    {
     "name": "stderr",
     "output_type": "stream",
     "text": [
      "100%|██████████| 525/525 [00:00<00:00, 1960.61it/s]\n"
     ]
    },
    {
     "name": "stdout",
     "output_type": "stream",
     "text": [
      "OK!\n",
      "NDCG IA\n"
     ]
    },
    {
     "name": "stderr",
     "output_type": "stream",
     "text": [
      "100%|██████████| 525/525 [00:00<00:00, 1443.67it/s]\n"
     ]
    },
    {
     "name": "stdout",
     "output_type": "stream",
     "text": [
      "OK!\n",
      "S-Recall\n"
     ]
    },
    {
     "name": "stderr",
     "output_type": "stream",
     "text": [
      "100%|██████████| 525/525 [00:00<00:00, 4267.94it/s]\n"
     ]
    },
    {
     "name": "stdout",
     "output_type": "stream",
     "text": [
      "OK!\n",
      "Calibration KL\n"
     ]
    },
    {
     "name": "stderr",
     "output_type": "stream",
     "text": [
      "100%|██████████| 525/525 [00:01<00:00, 469.87it/s]\n"
     ]
    },
    {
     "name": "stdout",
     "output_type": "stream",
     "text": [
      "OK!\n",
      "Calibration Hellinger\n"
     ]
    },
    {
     "name": "stderr",
     "output_type": "stream",
     "text": [
      "100%|██████████| 525/525 [00:01<00:00, 454.84it/s]\n"
     ]
    },
    {
     "name": "stdout",
     "output_type": "stream",
     "text": [
      "OK!\n",
      "Pre-processing...\n"
     ]
    },
    {
     "name": "stderr",
     "output_type": "stream",
     "text": [
      "\u001b[39mINFO\u001b[0m - Performing evaluation on metrics chosen\n"
     ]
    },
    {
     "name": "stdout",
     "output_type": "stream",
     "text": [
      "OK!\n",
      "Accuracy metrics...\n"
     ]
    },
    {
     "name": "stderr",
     "output_type": "stream",
     "text": [
      "Performing NDCG@20:  80%|████████  | 4/5 [00:01<00:00]             C:\\Users\\ctreuill.BIDOUILLE\\AppData\\Roaming\\Python\\Python39\\site-packages\\clayrs\\evaluation\\metrics\\ranking_metrics.py:205: RuntimeWarning: invalid value encountered in double_scalars\n",
      "  return actual / ideal\n",
      "Performing NDCG@20:  100%|██████████| 5/5 [00:01<00:00]\n"
     ]
    },
    {
     "name": "stdout",
     "output_type": "stream",
     "text": [
      "OK!\n",
      "ILS...\n"
     ]
    },
    {
     "name": "stderr",
     "output_type": "stream",
     "text": [
      "100%|██████████| 1964/1964 [00:07<00:00, 274.47it/s]\n"
     ]
    },
    {
     "name": "stdout",
     "output_type": "stream",
     "text": [
      "OK!\n",
      "alpha NDCG\n"
     ]
    },
    {
     "name": "stderr",
     "output_type": "stream",
     "text": [
      "100%|██████████| 1964/1964 [00:01<00:00, 1912.07it/s]\n"
     ]
    },
    {
     "name": "stdout",
     "output_type": "stream",
     "text": [
      "OK!\n",
      "NDCG IA\n"
     ]
    },
    {
     "name": "stderr",
     "output_type": "stream",
     "text": [
      "100%|██████████| 1964/1964 [00:01<00:00, 1295.51it/s]\n"
     ]
    },
    {
     "name": "stdout",
     "output_type": "stream",
     "text": [
      "OK!\n",
      "S-Recall\n"
     ]
    },
    {
     "name": "stderr",
     "output_type": "stream",
     "text": [
      "100%|██████████| 1964/1964 [00:00<00:00, 4028.74it/s]\n"
     ]
    },
    {
     "name": "stdout",
     "output_type": "stream",
     "text": [
      "OK!\n",
      "Calibration KL\n"
     ]
    },
    {
     "name": "stderr",
     "output_type": "stream",
     "text": [
      "100%|██████████| 1964/1964 [00:04<00:00, 468.49it/s]\n"
     ]
    },
    {
     "name": "stdout",
     "output_type": "stream",
     "text": [
      "OK!\n",
      "Calibration Hellinger\n"
     ]
    },
    {
     "name": "stderr",
     "output_type": "stream",
     "text": [
      "100%|██████████| 1964/1964 [00:04<00:00, 470.01it/s]\n"
     ]
    },
    {
     "name": "stdout",
     "output_type": "stream",
     "text": [
      "OK!\n",
      "Pre-processing...\n"
     ]
    },
    {
     "name": "stderr",
     "output_type": "stream",
     "text": [
      "\u001b[39mINFO\u001b[0m - Performing evaluation on metrics chosen\n"
     ]
    },
    {
     "name": "stdout",
     "output_type": "stream",
     "text": [
      "OK!\n",
      "Accuracy metrics...\n"
     ]
    },
    {
     "name": "stderr",
     "output_type": "stream",
     "text": [
      "Performing NDCG@20:  80%|████████  | 4/5 [00:07<00:01]             C:\\Users\\ctreuill.BIDOUILLE\\AppData\\Roaming\\Python\\Python39\\site-packages\\clayrs\\evaluation\\metrics\\ranking_metrics.py:205: RuntimeWarning: invalid value encountered in double_scalars\n",
      "  return actual / ideal\n",
      "Performing NDCG@20:  100%|██████████| 5/5 [00:09<00:00]\n"
     ]
    },
    {
     "name": "stdout",
     "output_type": "stream",
     "text": [
      "OK!\n",
      "ILS...\n"
     ]
    },
    {
     "name": "stderr",
     "output_type": "stream",
     "text": [
      "100%|██████████| 4250/4250 [00:15<00:00, 275.54it/s]\n"
     ]
    },
    {
     "name": "stdout",
     "output_type": "stream",
     "text": [
      "OK!\n",
      "alpha NDCG\n"
     ]
    },
    {
     "name": "stderr",
     "output_type": "stream",
     "text": [
      "100%|██████████| 4250/4250 [00:02<00:00, 1668.98it/s]\n"
     ]
    },
    {
     "name": "stdout",
     "output_type": "stream",
     "text": [
      "OK!\n",
      "NDCG IA\n"
     ]
    },
    {
     "name": "stderr",
     "output_type": "stream",
     "text": [
      "100%|██████████| 4250/4250 [00:03<00:00, 1271.21it/s]\n"
     ]
    },
    {
     "name": "stdout",
     "output_type": "stream",
     "text": [
      "OK!\n",
      "S-Recall\n"
     ]
    },
    {
     "name": "stderr",
     "output_type": "stream",
     "text": [
      "100%|██████████| 4250/4250 [00:01<00:00, 3117.66it/s]\n"
     ]
    },
    {
     "name": "stdout",
     "output_type": "stream",
     "text": [
      "OK!\n",
      "Calibration KL\n"
     ]
    },
    {
     "name": "stderr",
     "output_type": "stream",
     "text": [
      "100%|██████████| 4250/4250 [00:09<00:00, 458.52it/s]\n"
     ]
    },
    {
     "name": "stdout",
     "output_type": "stream",
     "text": [
      "OK!\n",
      "Calibration Hellinger\n"
     ]
    },
    {
     "name": "stderr",
     "output_type": "stream",
     "text": [
      "100%|██████████| 4250/4250 [00:09<00:00, 453.44it/s]\n"
     ]
    },
    {
     "name": "stdout",
     "output_type": "stream",
     "text": [
      "OK!\n",
      "Pre-processing...\n"
     ]
    },
    {
     "name": "stderr",
     "output_type": "stream",
     "text": [
      "\u001b[39mINFO\u001b[0m - Performing evaluation on metrics chosen\n"
     ]
    },
    {
     "name": "stdout",
     "output_type": "stream",
     "text": [
      "OK!\n",
      "Accuracy metrics...\n"
     ]
    },
    {
     "name": "stderr",
     "output_type": "stream",
     "text": [
      "Performing NDCG@20:  80%|████████  | 4/5 [00:03<00:00]             C:\\Users\\ctreuill.BIDOUILLE\\AppData\\Roaming\\Python\\Python39\\site-packages\\clayrs\\evaluation\\metrics\\ranking_metrics.py:205: RuntimeWarning: invalid value encountered in double_scalars\n",
      "  return actual / ideal\n",
      "Performing NDCG@20:  100%|██████████| 5/5 [00:04<00:00]\n"
     ]
    },
    {
     "name": "stdout",
     "output_type": "stream",
     "text": [
      "OK!\n",
      "ILS...\n"
     ]
    },
    {
     "name": "stderr",
     "output_type": "stream",
     "text": [
      "100%|██████████| 2894/2894 [00:10<00:00, 263.96it/s]\n"
     ]
    },
    {
     "name": "stdout",
     "output_type": "stream",
     "text": [
      "OK!\n",
      "alpha NDCG\n"
     ]
    },
    {
     "name": "stderr",
     "output_type": "stream",
     "text": [
      "100%|██████████| 2894/2894 [00:01<00:00, 1716.11it/s]\n"
     ]
    },
    {
     "name": "stdout",
     "output_type": "stream",
     "text": [
      "OK!\n",
      "NDCG IA\n"
     ]
    },
    {
     "name": "stderr",
     "output_type": "stream",
     "text": [
      "100%|██████████| 2894/2894 [00:02<00:00, 1230.41it/s]\n"
     ]
    },
    {
     "name": "stdout",
     "output_type": "stream",
     "text": [
      "OK!\n",
      "S-Recall\n"
     ]
    },
    {
     "name": "stderr",
     "output_type": "stream",
     "text": [
      "100%|██████████| 2894/2894 [00:00<00:00, 3781.43it/s]\n"
     ]
    },
    {
     "name": "stdout",
     "output_type": "stream",
     "text": [
      "OK!\n",
      "Calibration KL\n"
     ]
    },
    {
     "name": "stderr",
     "output_type": "stream",
     "text": [
      "100%|██████████| 2894/2894 [00:06<00:00, 464.18it/s]\n"
     ]
    },
    {
     "name": "stdout",
     "output_type": "stream",
     "text": [
      "OK!\n",
      "Calibration Hellinger\n"
     ]
    },
    {
     "name": "stderr",
     "output_type": "stream",
     "text": [
      "100%|██████████| 2894/2894 [00:06<00:00, 453.55it/s]\n",
      "\u001b[39mINFO\u001b[0m - Performing evaluation on metrics chosen\n"
     ]
    },
    {
     "name": "stdout",
     "output_type": "stream",
     "text": [
      "OK!\n",
      "Pre-processing...\n",
      "OK!\n",
      "Accuracy metrics...\n"
     ]
    },
    {
     "name": "stderr",
     "output_type": "stream",
     "text": [
      "Performing NDCG@20:  80%|████████  | 4/5 [00:00<00:00]        C:\\Users\\ctreuill.BIDOUILLE\\AppData\\Roaming\\Python\\Python39\\site-packages\\clayrs\\evaluation\\metrics\\ranking_metrics.py:205: RuntimeWarning: invalid value encountered in double_scalars\n",
      "  return actual / ideal\n",
      "Performing NDCG@20:  100%|██████████| 5/5 [00:00<00:00]\n"
     ]
    },
    {
     "name": "stdout",
     "output_type": "stream",
     "text": [
      "OK!\n",
      "ILS...\n"
     ]
    },
    {
     "name": "stderr",
     "output_type": "stream",
     "text": [
      "100%|██████████| 207/207 [00:00<00:00, 261.33it/s]\n"
     ]
    },
    {
     "name": "stdout",
     "output_type": "stream",
     "text": [
      "OK!\n",
      "alpha NDCG\n"
     ]
    },
    {
     "name": "stderr",
     "output_type": "stream",
     "text": [
      "100%|██████████| 207/207 [00:00<00:00, 1720.19it/s]\n"
     ]
    },
    {
     "name": "stdout",
     "output_type": "stream",
     "text": [
      "OK!\n",
      "NDCG IA\n"
     ]
    },
    {
     "name": "stderr",
     "output_type": "stream",
     "text": [
      "100%|██████████| 207/207 [00:00<00:00, 1287.83it/s]\n"
     ]
    },
    {
     "name": "stdout",
     "output_type": "stream",
     "text": [
      "OK!\n",
      "S-Recall\n"
     ]
    },
    {
     "name": "stderr",
     "output_type": "stream",
     "text": [
      "100%|██████████| 207/207 [00:00<00:00, 2116.73it/s]\n"
     ]
    },
    {
     "name": "stdout",
     "output_type": "stream",
     "text": [
      "OK!\n",
      "Calibration KL\n"
     ]
    },
    {
     "name": "stderr",
     "output_type": "stream",
     "text": [
      "100%|██████████| 207/207 [00:00<00:00, 446.57it/s]\n"
     ]
    },
    {
     "name": "stdout",
     "output_type": "stream",
     "text": [
      "OK!\n",
      "Calibration Hellinger\n"
     ]
    },
    {
     "name": "stderr",
     "output_type": "stream",
     "text": [
      "100%|██████████| 207/207 [00:00<00:00, 417.14it/s]\n",
      "\u001b[39mINFO\u001b[0m - Performing evaluation on metrics chosen\n"
     ]
    },
    {
     "name": "stdout",
     "output_type": "stream",
     "text": [
      "OK!\n",
      "Pre-processing...\n",
      "OK!\n",
      "Accuracy metrics...\n"
     ]
    },
    {
     "name": "stderr",
     "output_type": "stream",
     "text": [
      "Performing NDCG@20:  100%|██████████| 5/5 [00:00<00:00]       \n"
     ]
    },
    {
     "name": "stdout",
     "output_type": "stream",
     "text": [
      "OK!\n",
      "ILS...\n"
     ]
    },
    {
     "name": "stderr",
     "output_type": "stream",
     "text": [
      "100%|██████████| 3/3 [00:00<00:00, 273.32it/s]\n"
     ]
    },
    {
     "name": "stdout",
     "output_type": "stream",
     "text": [
      "OK!\n",
      "alpha NDCG\n"
     ]
    },
    {
     "name": "stderr",
     "output_type": "stream",
     "text": [
      "100%|██████████| 3/3 [00:00<00:00, 1507.30it/s]\n"
     ]
    },
    {
     "name": "stdout",
     "output_type": "stream",
     "text": [
      "OK!\n",
      "NDCG IA\n"
     ]
    },
    {
     "name": "stderr",
     "output_type": "stream",
     "text": [
      "100%|██████████| 3/3 [00:00<00:00, 811.17it/s]\n"
     ]
    },
    {
     "name": "stdout",
     "output_type": "stream",
     "text": [
      "OK!\n",
      "S-Recall\n"
     ]
    },
    {
     "name": "stderr",
     "output_type": "stream",
     "text": [
      "100%|██████████| 3/3 [00:00<00:00, 2273.75it/s]\n"
     ]
    },
    {
     "name": "stdout",
     "output_type": "stream",
     "text": [
      "OK!\n",
      "Calibration KL\n"
     ]
    },
    {
     "name": "stderr",
     "output_type": "stream",
     "text": [
      "100%|██████████| 3/3 [00:00<00:00, 334.13it/s]\n"
     ]
    },
    {
     "name": "stdout",
     "output_type": "stream",
     "text": [
      "OK!\n",
      "Calibration Hellinger\n"
     ]
    },
    {
     "name": "stderr",
     "output_type": "stream",
     "text": [
      "100%|██████████| 3/3 [00:00<00:00, 337.57it/s]\n",
      "\u001b[39mINFO\u001b[0m - Performing evaluation on metrics chosen\n"
     ]
    },
    {
     "name": "stdout",
     "output_type": "stream",
     "text": [
      "OK!\n",
      "Pre-processing...\n",
      "OK!\n",
      "Accuracy metrics...\n"
     ]
    },
    {
     "name": "stderr",
     "output_type": "stream",
     "text": [
      "Performing NDCG@20:  0%|          | 0/5 [00:00<?]             C:\\Users\\ctreuill.BIDOUILLE\\AppData\\Roaming\\Python\\Python39\\site-packages\\clayrs\\evaluation\\metrics\\ranking_metrics.py:205: RuntimeWarning: invalid value encountered in double_scalars\n",
      "  return actual / ideal\n",
      "Performing NDCG@20:  100%|██████████| 5/5 [00:00<00:00]\n"
     ]
    },
    {
     "name": "stdout",
     "output_type": "stream",
     "text": [
      "OK!\n",
      "ILS...\n"
     ]
    },
    {
     "name": "stderr",
     "output_type": "stream",
     "text": [
      "100%|██████████| 24/24 [00:00<00:00, 246.56it/s]\n"
     ]
    },
    {
     "name": "stdout",
     "output_type": "stream",
     "text": [
      "OK!\n",
      "alpha NDCG\n"
     ]
    },
    {
     "name": "stderr",
     "output_type": "stream",
     "text": [
      "100%|██████████| 24/24 [00:00<00:00, 1711.41it/s]\n"
     ]
    },
    {
     "name": "stdout",
     "output_type": "stream",
     "text": [
      "OK!\n",
      "NDCG IA\n"
     ]
    },
    {
     "name": "stderr",
     "output_type": "stream",
     "text": [
      "100%|██████████| 24/24 [00:00<00:00, 1247.27it/s]\n"
     ]
    },
    {
     "name": "stdout",
     "output_type": "stream",
     "text": [
      "OK!\n",
      "S-Recall\n"
     ]
    },
    {
     "name": "stderr",
     "output_type": "stream",
     "text": [
      "100%|██████████| 24/24 [00:00<00:00, 2422.00it/s]\n"
     ]
    },
    {
     "name": "stdout",
     "output_type": "stream",
     "text": [
      "OK!\n",
      "Calibration KL\n"
     ]
    },
    {
     "name": "stderr",
     "output_type": "stream",
     "text": [
      "100%|██████████| 24/24 [00:00<00:00, 331.16it/s]\n"
     ]
    },
    {
     "name": "stdout",
     "output_type": "stream",
     "text": [
      "OK!\n",
      "Calibration Hellinger\n"
     ]
    },
    {
     "name": "stderr",
     "output_type": "stream",
     "text": [
      "100%|██████████| 24/24 [00:00<00:00, 378.01it/s]\n"
     ]
    },
    {
     "name": "stdout",
     "output_type": "stream",
     "text": [
      "OK!\n",
      "Pre-processing...\n"
     ]
    },
    {
     "name": "stderr",
     "output_type": "stream",
     "text": [
      "\u001b[39mINFO\u001b[0m - Performing evaluation on metrics chosen\n"
     ]
    },
    {
     "name": "stdout",
     "output_type": "stream",
     "text": [
      "OK!\n",
      "Accuracy metrics...\n"
     ]
    },
    {
     "name": "stderr",
     "output_type": "stream",
     "text": [
      "Performing NDCG@20:  0%|          | 0/5 [00:00<?]             C:\\Users\\ctreuill.BIDOUILLE\\AppData\\Roaming\\Python\\Python39\\site-packages\\clayrs\\evaluation\\metrics\\ranking_metrics.py:205: RuntimeWarning: invalid value encountered in double_scalars\n",
      "  return actual / ideal\n",
      "Performing NDCG@20:  100%|██████████| 5/5 [00:00<00:00]\n"
     ]
    },
    {
     "name": "stdout",
     "output_type": "stream",
     "text": [
      "OK!\n",
      "ILS...\n"
     ]
    },
    {
     "name": "stderr",
     "output_type": "stream",
     "text": [
      "100%|██████████| 133/133 [00:00<00:00, 249.34it/s]\n"
     ]
    },
    {
     "name": "stdout",
     "output_type": "stream",
     "text": [
      "OK!\n",
      "alpha NDCG\n"
     ]
    },
    {
     "name": "stderr",
     "output_type": "stream",
     "text": [
      "100%|██████████| 133/133 [00:00<00:00, 1829.44it/s]\n"
     ]
    },
    {
     "name": "stdout",
     "output_type": "stream",
     "text": [
      "OK!\n",
      "NDCG IA\n"
     ]
    },
    {
     "name": "stderr",
     "output_type": "stream",
     "text": [
      "100%|██████████| 133/133 [00:00<00:00, 930.71it/s]\n"
     ]
    },
    {
     "name": "stdout",
     "output_type": "stream",
     "text": [
      "OK!\n",
      "S-Recall\n"
     ]
    },
    {
     "name": "stderr",
     "output_type": "stream",
     "text": [
      "100%|██████████| 133/133 [00:00<00:00, 3231.90it/s]\n"
     ]
    },
    {
     "name": "stdout",
     "output_type": "stream",
     "text": [
      "OK!\n",
      "Calibration KL\n"
     ]
    },
    {
     "name": "stderr",
     "output_type": "stream",
     "text": [
      "100%|██████████| 133/133 [00:00<00:00, 401.05it/s]\n"
     ]
    },
    {
     "name": "stdout",
     "output_type": "stream",
     "text": [
      "OK!\n",
      "Calibration Hellinger\n"
     ]
    },
    {
     "name": "stderr",
     "output_type": "stream",
     "text": [
      "100%|██████████| 133/133 [00:00<00:00, 441.42it/s]\n"
     ]
    },
    {
     "name": "stdout",
     "output_type": "stream",
     "text": [
      "OK!\n",
      "Pre-processing...\n"
     ]
    },
    {
     "name": "stderr",
     "output_type": "stream",
     "text": [
      "\u001b[39mINFO\u001b[0m - Performing evaluation on metrics chosen\n"
     ]
    },
    {
     "name": "stdout",
     "output_type": "stream",
     "text": [
      "OK!\n",
      "Accuracy metrics...\n"
     ]
    },
    {
     "name": "stderr",
     "output_type": "stream",
     "text": [
      "Performing NDCG@20:  80%|████████  | 4/5 [00:00<00:00]          C:\\Users\\ctreuill.BIDOUILLE\\AppData\\Roaming\\Python\\Python39\\site-packages\\clayrs\\evaluation\\metrics\\ranking_metrics.py:205: RuntimeWarning: invalid value encountered in double_scalars\n",
      "  return actual / ideal\n",
      "Performing NDCG@20:  100%|██████████| 5/5 [00:00<00:00]\n"
     ]
    },
    {
     "name": "stdout",
     "output_type": "stream",
     "text": [
      "OK!\n",
      "ILS...\n"
     ]
    },
    {
     "name": "stderr",
     "output_type": "stream",
     "text": [
      "100%|██████████| 525/525 [00:01<00:00, 283.47it/s]\n"
     ]
    },
    {
     "name": "stdout",
     "output_type": "stream",
     "text": [
      "OK!\n",
      "alpha NDCG\n"
     ]
    },
    {
     "name": "stderr",
     "output_type": "stream",
     "text": [
      "100%|██████████| 525/525 [00:00<00:00, 1970.87it/s]\n"
     ]
    },
    {
     "name": "stdout",
     "output_type": "stream",
     "text": [
      "OK!\n",
      "NDCG IA\n"
     ]
    },
    {
     "name": "stderr",
     "output_type": "stream",
     "text": [
      "100%|██████████| 525/525 [00:00<00:00, 1453.68it/s]\n"
     ]
    },
    {
     "name": "stdout",
     "output_type": "stream",
     "text": [
      "OK!\n",
      "S-Recall\n"
     ]
    },
    {
     "name": "stderr",
     "output_type": "stream",
     "text": [
      "100%|██████████| 525/525 [00:00<00:00, 4101.94it/s]\n"
     ]
    },
    {
     "name": "stdout",
     "output_type": "stream",
     "text": [
      "OK!\n",
      "Calibration KL\n"
     ]
    },
    {
     "name": "stderr",
     "output_type": "stream",
     "text": [
      "100%|██████████| 525/525 [00:01<00:00, 466.61it/s]\n"
     ]
    },
    {
     "name": "stdout",
     "output_type": "stream",
     "text": [
      "OK!\n",
      "Calibration Hellinger\n"
     ]
    },
    {
     "name": "stderr",
     "output_type": "stream",
     "text": [
      "100%|██████████| 525/525 [00:01<00:00, 494.84it/s]\n"
     ]
    },
    {
     "name": "stdout",
     "output_type": "stream",
     "text": [
      "OK!\n",
      "Pre-processing...\n"
     ]
    },
    {
     "name": "stderr",
     "output_type": "stream",
     "text": [
      "\u001b[39mINFO\u001b[0m - Performing evaluation on metrics chosen\n"
     ]
    },
    {
     "name": "stdout",
     "output_type": "stream",
     "text": [
      "OK!\n",
      "Accuracy metrics...\n"
     ]
    },
    {
     "name": "stderr",
     "output_type": "stream",
     "text": [
      "Performing NDCG@20:  80%|████████  | 4/5 [00:01<00:00]             C:\\Users\\ctreuill.BIDOUILLE\\AppData\\Roaming\\Python\\Python39\\site-packages\\clayrs\\evaluation\\metrics\\ranking_metrics.py:205: RuntimeWarning: invalid value encountered in double_scalars\n",
      "  return actual / ideal\n",
      "Performing NDCG@20:  100%|██████████| 5/5 [00:02<00:00]\n"
     ]
    },
    {
     "name": "stdout",
     "output_type": "stream",
     "text": [
      "OK!\n",
      "ILS...\n"
     ]
    },
    {
     "name": "stderr",
     "output_type": "stream",
     "text": [
      "100%|██████████| 1964/1964 [00:07<00:00, 272.46it/s]\n"
     ]
    },
    {
     "name": "stdout",
     "output_type": "stream",
     "text": [
      "OK!\n",
      "alpha NDCG\n"
     ]
    },
    {
     "name": "stderr",
     "output_type": "stream",
     "text": [
      "100%|██████████| 1964/1964 [00:01<00:00, 1794.45it/s]\n"
     ]
    },
    {
     "name": "stdout",
     "output_type": "stream",
     "text": [
      "OK!\n",
      "NDCG IA\n"
     ]
    },
    {
     "name": "stderr",
     "output_type": "stream",
     "text": [
      "100%|██████████| 1964/1964 [00:01<00:00, 1410.17it/s]\n"
     ]
    },
    {
     "name": "stdout",
     "output_type": "stream",
     "text": [
      "OK!\n",
      "S-Recall\n"
     ]
    },
    {
     "name": "stderr",
     "output_type": "stream",
     "text": [
      "100%|██████████| 1964/1964 [00:00<00:00, 3094.41it/s]\n"
     ]
    },
    {
     "name": "stdout",
     "output_type": "stream",
     "text": [
      "OK!\n",
      "Calibration KL\n"
     ]
    },
    {
     "name": "stderr",
     "output_type": "stream",
     "text": [
      "100%|██████████| 1964/1964 [00:04<00:00, 477.06it/s]\n"
     ]
    },
    {
     "name": "stdout",
     "output_type": "stream",
     "text": [
      "OK!\n",
      "Calibration Hellinger\n"
     ]
    },
    {
     "name": "stderr",
     "output_type": "stream",
     "text": [
      "100%|██████████| 1964/1964 [00:04<00:00, 448.15it/s]\n"
     ]
    },
    {
     "name": "stdout",
     "output_type": "stream",
     "text": [
      "OK!\n",
      "Pre-processing...\n"
     ]
    },
    {
     "name": "stderr",
     "output_type": "stream",
     "text": [
      "\u001b[39mINFO\u001b[0m - Performing evaluation on metrics chosen\n"
     ]
    },
    {
     "name": "stdout",
     "output_type": "stream",
     "text": [
      "OK!\n",
      "Accuracy metrics...\n"
     ]
    },
    {
     "name": "stderr",
     "output_type": "stream",
     "text": [
      "Performing NDCG@20:  80%|████████  | 4/5 [00:07<00:01]             C:\\Users\\ctreuill.BIDOUILLE\\AppData\\Roaming\\Python\\Python39\\site-packages\\clayrs\\evaluation\\metrics\\ranking_metrics.py:205: RuntimeWarning: invalid value encountered in double_scalars\n",
      "  return actual / ideal\n",
      "Performing NDCG@20:  100%|██████████| 5/5 [00:09<00:00]\n"
     ]
    },
    {
     "name": "stdout",
     "output_type": "stream",
     "text": [
      "OK!\n",
      "ILS...\n"
     ]
    },
    {
     "name": "stderr",
     "output_type": "stream",
     "text": [
      "100%|██████████| 4250/4250 [00:16<00:00, 256.75it/s]\n"
     ]
    },
    {
     "name": "stdout",
     "output_type": "stream",
     "text": [
      "OK!\n",
      "alpha NDCG\n"
     ]
    },
    {
     "name": "stderr",
     "output_type": "stream",
     "text": [
      "100%|██████████| 4250/4250 [00:02<00:00, 1532.87it/s]\n"
     ]
    },
    {
     "name": "stdout",
     "output_type": "stream",
     "text": [
      "OK!\n",
      "NDCG IA\n"
     ]
    },
    {
     "name": "stderr",
     "output_type": "stream",
     "text": [
      "100%|██████████| 4250/4250 [00:03<00:00, 1241.14it/s]\n"
     ]
    },
    {
     "name": "stdout",
     "output_type": "stream",
     "text": [
      "OK!\n",
      "S-Recall\n"
     ]
    },
    {
     "name": "stderr",
     "output_type": "stream",
     "text": [
      "100%|██████████| 4250/4250 [00:01<00:00, 3258.44it/s]\n"
     ]
    },
    {
     "name": "stdout",
     "output_type": "stream",
     "text": [
      "OK!\n",
      "Calibration KL\n"
     ]
    },
    {
     "name": "stderr",
     "output_type": "stream",
     "text": [
      "100%|██████████| 4250/4250 [00:09<00:00, 464.76it/s]\n"
     ]
    },
    {
     "name": "stdout",
     "output_type": "stream",
     "text": [
      "OK!\n",
      "Calibration Hellinger\n"
     ]
    },
    {
     "name": "stderr",
     "output_type": "stream",
     "text": [
      "100%|██████████| 4250/4250 [00:09<00:00, 450.94it/s]\n"
     ]
    },
    {
     "name": "stdout",
     "output_type": "stream",
     "text": [
      "OK!\n",
      "Pre-processing...\n"
     ]
    },
    {
     "name": "stderr",
     "output_type": "stream",
     "text": [
      "\u001b[39mINFO\u001b[0m - Performing evaluation on metrics chosen\n"
     ]
    },
    {
     "name": "stdout",
     "output_type": "stream",
     "text": [
      "OK!\n",
      "Accuracy metrics...\n"
     ]
    },
    {
     "name": "stderr",
     "output_type": "stream",
     "text": [
      "Performing NDCG@20:  80%|████████  | 4/5 [00:03<00:00]             C:\\Users\\ctreuill.BIDOUILLE\\AppData\\Roaming\\Python\\Python39\\site-packages\\clayrs\\evaluation\\metrics\\ranking_metrics.py:205: RuntimeWarning: invalid value encountered in double_scalars\n",
      "  return actual / ideal\n",
      "Performing NDCG@20:  100%|██████████| 5/5 [00:04<00:00]\n"
     ]
    },
    {
     "name": "stdout",
     "output_type": "stream",
     "text": [
      "OK!\n",
      "ILS...\n"
     ]
    },
    {
     "name": "stderr",
     "output_type": "stream",
     "text": [
      "100%|██████████| 2894/2894 [00:10<00:00, 269.15it/s]\n"
     ]
    },
    {
     "name": "stdout",
     "output_type": "stream",
     "text": [
      "OK!\n",
      "alpha NDCG\n"
     ]
    },
    {
     "name": "stderr",
     "output_type": "stream",
     "text": [
      "100%|██████████| 2894/2894 [00:01<00:00, 1719.70it/s]\n"
     ]
    },
    {
     "name": "stdout",
     "output_type": "stream",
     "text": [
      "OK!\n",
      "NDCG IA\n"
     ]
    },
    {
     "name": "stderr",
     "output_type": "stream",
     "text": [
      "100%|██████████| 2894/2894 [00:02<00:00, 1247.35it/s]\n"
     ]
    },
    {
     "name": "stdout",
     "output_type": "stream",
     "text": [
      "OK!\n",
      "S-Recall\n"
     ]
    },
    {
     "name": "stderr",
     "output_type": "stream",
     "text": [
      "100%|██████████| 2894/2894 [00:00<00:00, 3639.98it/s]\n"
     ]
    },
    {
     "name": "stdout",
     "output_type": "stream",
     "text": [
      "OK!\n",
      "Calibration KL\n"
     ]
    },
    {
     "name": "stderr",
     "output_type": "stream",
     "text": [
      "100%|██████████| 2894/2894 [00:06<00:00, 464.53it/s]\n"
     ]
    },
    {
     "name": "stdout",
     "output_type": "stream",
     "text": [
      "OK!\n",
      "Calibration Hellinger\n"
     ]
    },
    {
     "name": "stderr",
     "output_type": "stream",
     "text": [
      "100%|██████████| 2894/2894 [00:06<00:00, 460.73it/s]\n",
      "\u001b[39mINFO\u001b[0m - Performing evaluation on metrics chosen\n"
     ]
    },
    {
     "name": "stdout",
     "output_type": "stream",
     "text": [
      "OK!\n",
      "Pre-processing...\n",
      "OK!\n",
      "Accuracy metrics...\n"
     ]
    },
    {
     "name": "stderr",
     "output_type": "stream",
     "text": [
      "Performing NDCG@20:  80%|████████  | 4/5 [00:00<00:00]        C:\\Users\\ctreuill.BIDOUILLE\\AppData\\Roaming\\Python\\Python39\\site-packages\\clayrs\\evaluation\\metrics\\ranking_metrics.py:205: RuntimeWarning: invalid value encountered in double_scalars\n",
      "  return actual / ideal\n",
      "Performing NDCG@20:  100%|██████████| 5/5 [00:00<00:00]\n"
     ]
    },
    {
     "name": "stdout",
     "output_type": "stream",
     "text": [
      "OK!\n",
      "ILS...\n"
     ]
    },
    {
     "name": "stderr",
     "output_type": "stream",
     "text": [
      "100%|██████████| 207/207 [00:00<00:00, 270.16it/s]\n"
     ]
    },
    {
     "name": "stdout",
     "output_type": "stream",
     "text": [
      "OK!\n",
      "alpha NDCG\n"
     ]
    },
    {
     "name": "stderr",
     "output_type": "stream",
     "text": [
      "100%|██████████| 207/207 [00:00<00:00, 1800.95it/s]\n"
     ]
    },
    {
     "name": "stdout",
     "output_type": "stream",
     "text": [
      "OK!\n",
      "NDCG IA\n"
     ]
    },
    {
     "name": "stderr",
     "output_type": "stream",
     "text": [
      "100%|██████████| 207/207 [00:00<00:00, 1256.56it/s]\n"
     ]
    },
    {
     "name": "stdout",
     "output_type": "stream",
     "text": [
      "OK!\n",
      "S-Recall\n"
     ]
    },
    {
     "name": "stderr",
     "output_type": "stream",
     "text": [
      "100%|██████████| 207/207 [00:00<00:00, 3090.40it/s]\n"
     ]
    },
    {
     "name": "stdout",
     "output_type": "stream",
     "text": [
      "OK!\n",
      "Calibration KL\n"
     ]
    },
    {
     "name": "stderr",
     "output_type": "stream",
     "text": [
      "100%|██████████| 207/207 [00:00<00:00, 434.62it/s]\n"
     ]
    },
    {
     "name": "stdout",
     "output_type": "stream",
     "text": [
      "OK!\n",
      "Calibration Hellinger\n"
     ]
    },
    {
     "name": "stderr",
     "output_type": "stream",
     "text": [
      "100%|██████████| 207/207 [00:00<00:00, 440.63it/s]\n",
      "\u001b[39mINFO\u001b[0m - Performing evaluation on metrics chosen\n"
     ]
    },
    {
     "name": "stdout",
     "output_type": "stream",
     "text": [
      "OK!\n",
      "Pre-processing...\n",
      "OK!\n",
      "Accuracy metrics...\n"
     ]
    },
    {
     "name": "stderr",
     "output_type": "stream",
     "text": [
      "Performing NDCG@20:  100%|██████████| 5/5 [00:00<00:00]       \n"
     ]
    },
    {
     "name": "stdout",
     "output_type": "stream",
     "text": [
      "OK!\n",
      "ILS...\n"
     ]
    },
    {
     "name": "stderr",
     "output_type": "stream",
     "text": [
      "100%|██████████| 3/3 [00:00<00:00, 290.08it/s]\n"
     ]
    },
    {
     "name": "stdout",
     "output_type": "stream",
     "text": [
      "OK!\n",
      "alpha NDCG\n"
     ]
    },
    {
     "name": "stderr",
     "output_type": "stream",
     "text": [
      "100%|██████████| 3/3 [00:00<00:00, 1504.95it/s]\n"
     ]
    },
    {
     "name": "stdout",
     "output_type": "stream",
     "text": [
      "OK!\n",
      "NDCG IA\n"
     ]
    },
    {
     "name": "stderr",
     "output_type": "stream",
     "text": [
      "100%|██████████| 3/3 [00:00<00:00, 1003.50it/s]\n"
     ]
    },
    {
     "name": "stdout",
     "output_type": "stream",
     "text": [
      "OK!\n",
      "S-Recall\n"
     ]
    },
    {
     "name": "stderr",
     "output_type": "stream",
     "text": [
      "100%|██████████| 3/3 [00:00<00:00, 3009.55it/s]\n"
     ]
    },
    {
     "name": "stdout",
     "output_type": "stream",
     "text": [
      "OK!\n",
      "Calibration KL\n"
     ]
    },
    {
     "name": "stderr",
     "output_type": "stream",
     "text": [
      "100%|██████████| 3/3 [00:00<00:00, 285.77it/s]\n"
     ]
    },
    {
     "name": "stdout",
     "output_type": "stream",
     "text": [
      "OK!\n",
      "Calibration Hellinger\n"
     ]
    },
    {
     "name": "stderr",
     "output_type": "stream",
     "text": [
      "100%|██████████| 3/3 [00:00<00:00, 376.33it/s]\n",
      "\u001b[39mINFO\u001b[0m - Performing evaluation on metrics chosen\n"
     ]
    },
    {
     "name": "stdout",
     "output_type": "stream",
     "text": [
      "OK!\n",
      "Pre-processing...\n",
      "OK!\n",
      "Accuracy metrics...\n"
     ]
    },
    {
     "name": "stderr",
     "output_type": "stream",
     "text": [
      "Performing NDCG@20:  0%|          | 0/5 [00:00<?]             C:\\Users\\ctreuill.BIDOUILLE\\AppData\\Roaming\\Python\\Python39\\site-packages\\clayrs\\evaluation\\metrics\\ranking_metrics.py:205: RuntimeWarning: invalid value encountered in double_scalars\n",
      "  return actual / ideal\n",
      "Performing NDCG@20:  100%|██████████| 5/5 [00:00<00:00]\n"
     ]
    },
    {
     "name": "stdout",
     "output_type": "stream",
     "text": [
      "OK!\n",
      "ILS...\n"
     ]
    },
    {
     "name": "stderr",
     "output_type": "stream",
     "text": [
      "100%|██████████| 24/24 [00:00<00:00, 257.66it/s]\n"
     ]
    },
    {
     "name": "stdout",
     "output_type": "stream",
     "text": [
      "OK!\n",
      "alpha NDCG\n"
     ]
    },
    {
     "name": "stderr",
     "output_type": "stream",
     "text": [
      "100%|██████████| 24/24 [00:00<00:00, 1605.35it/s]\n"
     ]
    },
    {
     "name": "stdout",
     "output_type": "stream",
     "text": [
      "OK!\n",
      "NDCG IA\n"
     ]
    },
    {
     "name": "stderr",
     "output_type": "stream",
     "text": [
      "100%|██████████| 24/24 [00:00<00:00, 367.02it/s]\n"
     ]
    },
    {
     "name": "stdout",
     "output_type": "stream",
     "text": [
      "OK!\n",
      "S-Recall\n"
     ]
    },
    {
     "name": "stderr",
     "output_type": "stream",
     "text": [
      "100%|██████████| 24/24 [00:00<00:00, 1563.17it/s]\n"
     ]
    },
    {
     "name": "stdout",
     "output_type": "stream",
     "text": [
      "OK!\n",
      "Calibration KL\n"
     ]
    },
    {
     "name": "stderr",
     "output_type": "stream",
     "text": [
      "100%|██████████| 24/24 [00:00<00:00, 301.39it/s]\n"
     ]
    },
    {
     "name": "stdout",
     "output_type": "stream",
     "text": [
      "OK!\n",
      "Calibration Hellinger\n"
     ]
    },
    {
     "name": "stderr",
     "output_type": "stream",
     "text": [
      "100%|██████████| 24/24 [00:00<00:00, 366.41it/s]\n"
     ]
    },
    {
     "name": "stdout",
     "output_type": "stream",
     "text": [
      "OK!\n",
      "Pre-processing...\n"
     ]
    },
    {
     "name": "stderr",
     "output_type": "stream",
     "text": [
      "\u001b[39mINFO\u001b[0m - Performing evaluation on metrics chosen\n"
     ]
    },
    {
     "name": "stdout",
     "output_type": "stream",
     "text": [
      "OK!\n",
      "Accuracy metrics...\n"
     ]
    },
    {
     "name": "stderr",
     "output_type": "stream",
     "text": [
      "Performing NDCG@20:  0%|          | 0/5 [00:00<?]             C:\\Users\\ctreuill.BIDOUILLE\\AppData\\Roaming\\Python\\Python39\\site-packages\\clayrs\\evaluation\\metrics\\ranking_metrics.py:205: RuntimeWarning: invalid value encountered in double_scalars\n",
      "  return actual / ideal\n",
      "Performing NDCG@20:  100%|██████████| 5/5 [00:00<00:00]\n"
     ]
    },
    {
     "name": "stdout",
     "output_type": "stream",
     "text": [
      "OK!\n",
      "ILS...\n"
     ]
    },
    {
     "name": "stderr",
     "output_type": "stream",
     "text": [
      "100%|██████████| 133/133 [00:00<00:00, 267.61it/s]\n"
     ]
    },
    {
     "name": "stdout",
     "output_type": "stream",
     "text": [
      "OK!\n",
      "alpha NDCG\n"
     ]
    },
    {
     "name": "stderr",
     "output_type": "stream",
     "text": [
      "100%|██████████| 133/133 [00:00<00:00, 1904.41it/s]\n"
     ]
    },
    {
     "name": "stdout",
     "output_type": "stream",
     "text": [
      "OK!\n",
      "NDCG IA\n"
     ]
    },
    {
     "name": "stderr",
     "output_type": "stream",
     "text": [
      "100%|██████████| 133/133 [00:00<00:00, 1399.18it/s]\n"
     ]
    },
    {
     "name": "stdout",
     "output_type": "stream",
     "text": [
      "OK!\n",
      "S-Recall\n"
     ]
    },
    {
     "name": "stderr",
     "output_type": "stream",
     "text": [
      "100%|██████████| 133/133 [00:00<00:00, 4043.77it/s]\n"
     ]
    },
    {
     "name": "stdout",
     "output_type": "stream",
     "text": [
      "OK!\n",
      "Calibration KL\n"
     ]
    },
    {
     "name": "stderr",
     "output_type": "stream",
     "text": [
      "100%|██████████| 133/133 [00:00<00:00, 448.26it/s]\n"
     ]
    },
    {
     "name": "stdout",
     "output_type": "stream",
     "text": [
      "OK!\n",
      "Calibration Hellinger\n"
     ]
    },
    {
     "name": "stderr",
     "output_type": "stream",
     "text": [
      "100%|██████████| 133/133 [00:00<00:00, 442.49it/s]\n"
     ]
    },
    {
     "name": "stdout",
     "output_type": "stream",
     "text": [
      "OK!\n",
      "Pre-processing...\n"
     ]
    },
    {
     "name": "stderr",
     "output_type": "stream",
     "text": [
      "\u001b[39mINFO\u001b[0m - Performing evaluation on metrics chosen\n"
     ]
    },
    {
     "name": "stdout",
     "output_type": "stream",
     "text": [
      "OK!\n",
      "Accuracy metrics...\n"
     ]
    },
    {
     "name": "stderr",
     "output_type": "stream",
     "text": [
      "Performing NDCG@20:  80%|████████  | 4/5 [00:00<00:00]          C:\\Users\\ctreuill.BIDOUILLE\\AppData\\Roaming\\Python\\Python39\\site-packages\\clayrs\\evaluation\\metrics\\ranking_metrics.py:205: RuntimeWarning: invalid value encountered in double_scalars\n",
      "  return actual / ideal\n",
      "Performing NDCG@20:  100%|██████████| 5/5 [00:00<00:00]\n"
     ]
    },
    {
     "name": "stdout",
     "output_type": "stream",
     "text": [
      "OK!\n",
      "ILS...\n"
     ]
    },
    {
     "name": "stderr",
     "output_type": "stream",
     "text": [
      "100%|██████████| 525/525 [00:01<00:00, 269.49it/s]\n"
     ]
    },
    {
     "name": "stdout",
     "output_type": "stream",
     "text": [
      "OK!\n",
      "alpha NDCG\n"
     ]
    },
    {
     "name": "stderr",
     "output_type": "stream",
     "text": [
      "100%|██████████| 525/525 [00:00<00:00, 1985.61it/s]\n"
     ]
    },
    {
     "name": "stdout",
     "output_type": "stream",
     "text": [
      "OK!\n",
      "NDCG IA\n"
     ]
    },
    {
     "name": "stderr",
     "output_type": "stream",
     "text": [
      "100%|██████████| 525/525 [00:00<00:00, 1439.48it/s]\n"
     ]
    },
    {
     "name": "stdout",
     "output_type": "stream",
     "text": [
      "OK!\n",
      "S-Recall\n"
     ]
    },
    {
     "name": "stderr",
     "output_type": "stream",
     "text": [
      "100%|██████████| 525/525 [00:00<00:00, 3927.86it/s]\n"
     ]
    },
    {
     "name": "stdout",
     "output_type": "stream",
     "text": [
      "OK!\n",
      "Calibration KL\n"
     ]
    },
    {
     "name": "stderr",
     "output_type": "stream",
     "text": [
      "100%|██████████| 525/525 [00:01<00:00, 422.36it/s]\n"
     ]
    },
    {
     "name": "stdout",
     "output_type": "stream",
     "text": [
      "OK!\n",
      "Calibration Hellinger\n"
     ]
    },
    {
     "name": "stderr",
     "output_type": "stream",
     "text": [
      "100%|██████████| 525/525 [00:01<00:00, 475.43it/s]\n"
     ]
    },
    {
     "name": "stdout",
     "output_type": "stream",
     "text": [
      "OK!\n",
      "Pre-processing...\n"
     ]
    },
    {
     "name": "stderr",
     "output_type": "stream",
     "text": [
      "\u001b[39mINFO\u001b[0m - Performing evaluation on metrics chosen\n"
     ]
    },
    {
     "name": "stdout",
     "output_type": "stream",
     "text": [
      "OK!\n",
      "Accuracy metrics...\n"
     ]
    },
    {
     "name": "stderr",
     "output_type": "stream",
     "text": [
      "Performing NDCG@20:  80%|████████  | 4/5 [00:01<00:00]             C:\\Users\\ctreuill.BIDOUILLE\\AppData\\Roaming\\Python\\Python39\\site-packages\\clayrs\\evaluation\\metrics\\ranking_metrics.py:205: RuntimeWarning: invalid value encountered in double_scalars\n",
      "  return actual / ideal\n",
      "Performing NDCG@20:  100%|██████████| 5/5 [00:01<00:00]\n"
     ]
    },
    {
     "name": "stdout",
     "output_type": "stream",
     "text": [
      "OK!\n",
      "ILS...\n"
     ]
    },
    {
     "name": "stderr",
     "output_type": "stream",
     "text": [
      "100%|██████████| 1964/1964 [00:07<00:00, 273.79it/s]\n"
     ]
    },
    {
     "name": "stdout",
     "output_type": "stream",
     "text": [
      "OK!\n",
      "alpha NDCG\n"
     ]
    },
    {
     "name": "stderr",
     "output_type": "stream",
     "text": [
      "100%|██████████| 1964/1964 [00:01<00:00, 1655.03it/s]\n"
     ]
    },
    {
     "name": "stdout",
     "output_type": "stream",
     "text": [
      "OK!\n",
      "NDCG IA\n"
     ]
    },
    {
     "name": "stderr",
     "output_type": "stream",
     "text": [
      "100%|██████████| 1964/1964 [00:01<00:00, 1392.59it/s]\n"
     ]
    },
    {
     "name": "stdout",
     "output_type": "stream",
     "text": [
      "OK!\n",
      "S-Recall\n"
     ]
    },
    {
     "name": "stderr",
     "output_type": "stream",
     "text": [
      "100%|██████████| 1964/1964 [00:00<00:00, 3812.49it/s]\n"
     ]
    },
    {
     "name": "stdout",
     "output_type": "stream",
     "text": [
      "OK!\n",
      "Calibration KL\n"
     ]
    },
    {
     "name": "stderr",
     "output_type": "stream",
     "text": [
      "100%|██████████| 1964/1964 [00:04<00:00, 469.45it/s]\n"
     ]
    },
    {
     "name": "stdout",
     "output_type": "stream",
     "text": [
      "OK!\n",
      "Calibration Hellinger\n"
     ]
    },
    {
     "name": "stderr",
     "output_type": "stream",
     "text": [
      "100%|██████████| 1964/1964 [00:04<00:00, 448.11it/s]\n"
     ]
    },
    {
     "name": "stdout",
     "output_type": "stream",
     "text": [
      "OK!\n",
      "Pre-processing...\n"
     ]
    },
    {
     "name": "stderr",
     "output_type": "stream",
     "text": [
      "\u001b[39mINFO\u001b[0m - Performing evaluation on metrics chosen\n"
     ]
    },
    {
     "name": "stdout",
     "output_type": "stream",
     "text": [
      "OK!\n",
      "Accuracy metrics...\n"
     ]
    },
    {
     "name": "stderr",
     "output_type": "stream",
     "text": [
      "Performing NDCG@20:  80%|████████  | 4/5 [00:07<00:02]             C:\\Users\\ctreuill.BIDOUILLE\\AppData\\Roaming\\Python\\Python39\\site-packages\\clayrs\\evaluation\\metrics\\ranking_metrics.py:205: RuntimeWarning: invalid value encountered in double_scalars\n",
      "  return actual / ideal\n",
      "Performing NDCG@20:  100%|██████████| 5/5 [00:09<00:00]\n"
     ]
    },
    {
     "name": "stdout",
     "output_type": "stream",
     "text": [
      "OK!\n",
      "ILS...\n"
     ]
    },
    {
     "name": "stderr",
     "output_type": "stream",
     "text": [
      "100%|██████████| 4250/4250 [00:18<00:00, 227.47it/s]\n"
     ]
    },
    {
     "name": "stdout",
     "output_type": "stream",
     "text": [
      "OK!\n",
      "alpha NDCG\n"
     ]
    },
    {
     "name": "stderr",
     "output_type": "stream",
     "text": [
      "100%|██████████| 4250/4250 [00:04<00:00, 1001.94it/s]\n"
     ]
    },
    {
     "name": "stdout",
     "output_type": "stream",
     "text": [
      "OK!\n",
      "NDCG IA\n"
     ]
    },
    {
     "name": "stderr",
     "output_type": "stream",
     "text": [
      "100%|██████████| 4250/4250 [00:03<00:00, 1086.72it/s]\n"
     ]
    },
    {
     "name": "stdout",
     "output_type": "stream",
     "text": [
      "OK!\n",
      "S-Recall\n"
     ]
    },
    {
     "name": "stderr",
     "output_type": "stream",
     "text": [
      "100%|██████████| 4250/4250 [00:01<00:00, 2697.93it/s]\n"
     ]
    },
    {
     "name": "stdout",
     "output_type": "stream",
     "text": [
      "OK!\n",
      "Calibration KL\n"
     ]
    },
    {
     "name": "stderr",
     "output_type": "stream",
     "text": [
      "100%|██████████| 4250/4250 [00:11<00:00, 365.48it/s]\n"
     ]
    },
    {
     "name": "stdout",
     "output_type": "stream",
     "text": [
      "OK!\n",
      "Calibration Hellinger\n"
     ]
    },
    {
     "name": "stderr",
     "output_type": "stream",
     "text": [
      "100%|██████████| 4250/4250 [00:11<00:00, 359.05it/s]\n"
     ]
    },
    {
     "name": "stdout",
     "output_type": "stream",
     "text": [
      "OK!\n",
      "Pre-processing...\n"
     ]
    },
    {
     "name": "stderr",
     "output_type": "stream",
     "text": [
      "\u001b[39mINFO\u001b[0m - Performing evaluation on metrics chosen\n"
     ]
    },
    {
     "name": "stdout",
     "output_type": "stream",
     "text": [
      "OK!\n",
      "Accuracy metrics...\n"
     ]
    },
    {
     "name": "stderr",
     "output_type": "stream",
     "text": [
      "Performing NDCG@20:  80%|████████  | 4/5 [00:03<00:00]             C:\\Users\\ctreuill.BIDOUILLE\\AppData\\Roaming\\Python\\Python39\\site-packages\\clayrs\\evaluation\\metrics\\ranking_metrics.py:205: RuntimeWarning: invalid value encountered in double_scalars\n",
      "  return actual / ideal\n",
      "Performing NDCG@20:  100%|██████████| 5/5 [00:04<00:00]\n"
     ]
    },
    {
     "name": "stdout",
     "output_type": "stream",
     "text": [
      "OK!\n",
      "ILS...\n"
     ]
    },
    {
     "name": "stderr",
     "output_type": "stream",
     "text": [
      "100%|██████████| 2894/2894 [00:13<00:00, 211.31it/s]\n"
     ]
    },
    {
     "name": "stdout",
     "output_type": "stream",
     "text": [
      "OK!\n",
      "alpha NDCG\n"
     ]
    },
    {
     "name": "stderr",
     "output_type": "stream",
     "text": [
      "100%|██████████| 2894/2894 [00:01<00:00, 1657.01it/s]\n"
     ]
    },
    {
     "name": "stdout",
     "output_type": "stream",
     "text": [
      "OK!\n",
      "NDCG IA\n"
     ]
    },
    {
     "name": "stderr",
     "output_type": "stream",
     "text": [
      "100%|██████████| 2894/2894 [00:03<00:00, 845.26it/s]\n"
     ]
    },
    {
     "name": "stdout",
     "output_type": "stream",
     "text": [
      "OK!\n",
      "S-Recall\n"
     ]
    },
    {
     "name": "stderr",
     "output_type": "stream",
     "text": [
      "100%|██████████| 2894/2894 [00:00<00:00, 3010.83it/s]\n"
     ]
    },
    {
     "name": "stdout",
     "output_type": "stream",
     "text": [
      "OK!\n",
      "Calibration KL\n"
     ]
    },
    {
     "name": "stderr",
     "output_type": "stream",
     "text": [
      "100%|██████████| 2894/2894 [00:07<00:00, 410.58it/s]\n"
     ]
    },
    {
     "name": "stdout",
     "output_type": "stream",
     "text": [
      "OK!\n",
      "Calibration Hellinger\n"
     ]
    },
    {
     "name": "stderr",
     "output_type": "stream",
     "text": [
      "100%|██████████| 2894/2894 [00:06<00:00, 415.32it/s]\n",
      "\u001b[39mINFO\u001b[0m - Performing evaluation on metrics chosen\n"
     ]
    },
    {
     "name": "stdout",
     "output_type": "stream",
     "text": [
      "OK!\n",
      "Pre-processing...\n",
      "OK!\n",
      "Accuracy metrics...\n"
     ]
    },
    {
     "name": "stderr",
     "output_type": "stream",
     "text": [
      "Performing NDCG@20:  80%|████████  | 4/5 [00:00<00:00]        C:\\Users\\ctreuill.BIDOUILLE\\AppData\\Roaming\\Python\\Python39\\site-packages\\clayrs\\evaluation\\metrics\\ranking_metrics.py:205: RuntimeWarning: invalid value encountered in double_scalars\n",
      "  return actual / ideal\n",
      "Performing NDCG@20:  100%|██████████| 5/5 [00:00<00:00]\n"
     ]
    },
    {
     "name": "stdout",
     "output_type": "stream",
     "text": [
      "OK!\n",
      "ILS...\n"
     ]
    },
    {
     "name": "stderr",
     "output_type": "stream",
     "text": [
      "100%|██████████| 207/207 [00:00<00:00, 254.09it/s]\n"
     ]
    },
    {
     "name": "stdout",
     "output_type": "stream",
     "text": [
      "OK!\n",
      "alpha NDCG\n"
     ]
    },
    {
     "name": "stderr",
     "output_type": "stream",
     "text": [
      "100%|██████████| 207/207 [00:00<00:00, 1633.50it/s]\n"
     ]
    },
    {
     "name": "stdout",
     "output_type": "stream",
     "text": [
      "OK!\n",
      "NDCG IA\n"
     ]
    },
    {
     "name": "stderr",
     "output_type": "stream",
     "text": [
      "100%|██████████| 207/207 [00:00<00:00, 977.39it/s]\n"
     ]
    },
    {
     "name": "stdout",
     "output_type": "stream",
     "text": [
      "OK!\n",
      "S-Recall\n"
     ]
    },
    {
     "name": "stderr",
     "output_type": "stream",
     "text": [
      "100%|██████████| 207/207 [00:00<00:00, 3782.42it/s]\n"
     ]
    },
    {
     "name": "stdout",
     "output_type": "stream",
     "text": [
      "OK!\n",
      "Calibration KL\n"
     ]
    },
    {
     "name": "stderr",
     "output_type": "stream",
     "text": [
      "100%|██████████| 207/207 [00:00<00:00, 404.48it/s]\n"
     ]
    },
    {
     "name": "stdout",
     "output_type": "stream",
     "text": [
      "OK!\n",
      "Calibration Hellinger\n"
     ]
    },
    {
     "name": "stderr",
     "output_type": "stream",
     "text": [
      "100%|██████████| 207/207 [00:00<00:00, 356.97it/s]\n",
      "\u001b[39mINFO\u001b[0m - Performing evaluation on metrics chosen\n"
     ]
    },
    {
     "name": "stdout",
     "output_type": "stream",
     "text": [
      "OK!\n",
      "Pre-processing...\n",
      "OK!\n",
      "Accuracy metrics...\n"
     ]
    },
    {
     "name": "stderr",
     "output_type": "stream",
     "text": [
      "Performing NDCG@20:  100%|██████████| 5/5 [00:00<00:00]       \n"
     ]
    },
    {
     "name": "stdout",
     "output_type": "stream",
     "text": [
      "OK!\n",
      "ILS...\n"
     ]
    },
    {
     "name": "stderr",
     "output_type": "stream",
     "text": [
      "100%|██████████| 3/3 [00:00<00:00, 249.12it/s]\n"
     ]
    },
    {
     "name": "stdout",
     "output_type": "stream",
     "text": [
      "OK!\n",
      "alpha NDCG\n"
     ]
    },
    {
     "name": "stderr",
     "output_type": "stream",
     "text": [
      "100%|██████████| 3/3 [00:00<00:00, 1110.39it/s]\n"
     ]
    },
    {
     "name": "stdout",
     "output_type": "stream",
     "text": [
      "OK!\n",
      "NDCG IA\n"
     ]
    },
    {
     "name": "stderr",
     "output_type": "stream",
     "text": [
      "100%|██████████| 3/3 [00:00<00:00, 550.70it/s]\n"
     ]
    },
    {
     "name": "stdout",
     "output_type": "stream",
     "text": [
      "OK!\n",
      "S-Recall\n"
     ]
    },
    {
     "name": "stderr",
     "output_type": "stream",
     "text": [
      "100%|██████████| 3/3 [00:00<00:00, 3010.27it/s]\n"
     ]
    },
    {
     "name": "stdout",
     "output_type": "stream",
     "text": [
      "OK!\n",
      "Calibration KL\n"
     ]
    },
    {
     "name": "stderr",
     "output_type": "stream",
     "text": [
      "100%|██████████| 3/3 [00:00<00:00, 334.41it/s]\n"
     ]
    },
    {
     "name": "stdout",
     "output_type": "stream",
     "text": [
      "OK!\n",
      "Calibration Hellinger\n"
     ]
    },
    {
     "name": "stderr",
     "output_type": "stream",
     "text": [
      "100%|██████████| 3/3 [00:00<00:00, 286.54it/s]\n",
      "\u001b[39mINFO\u001b[0m - Performing evaluation on metrics chosen\n"
     ]
    },
    {
     "name": "stdout",
     "output_type": "stream",
     "text": [
      "OK!\n",
      "Pre-processing...\n",
      "OK!\n",
      "Accuracy metrics...\n"
     ]
    },
    {
     "name": "stderr",
     "output_type": "stream",
     "text": [
      "Performing NDCG@20:  0%|          | 0/5 [00:00<?]             C:\\Users\\ctreuill.BIDOUILLE\\AppData\\Roaming\\Python\\Python39\\site-packages\\clayrs\\evaluation\\metrics\\ranking_metrics.py:205: RuntimeWarning: invalid value encountered in double_scalars\n",
      "  return actual / ideal\n",
      "Performing NDCG@20:  100%|██████████| 5/5 [00:00<00:00]\n"
     ]
    },
    {
     "name": "stdout",
     "output_type": "stream",
     "text": [
      "OK!\n",
      "ILS...\n"
     ]
    },
    {
     "name": "stderr",
     "output_type": "stream",
     "text": [
      "100%|██████████| 24/24 [00:00<00:00, 221.36it/s]\n"
     ]
    },
    {
     "name": "stdout",
     "output_type": "stream",
     "text": [
      "OK!\n",
      "alpha NDCG\n"
     ]
    },
    {
     "name": "stderr",
     "output_type": "stream",
     "text": [
      "100%|██████████| 24/24 [00:00<00:00, 1154.79it/s]\n"
     ]
    },
    {
     "name": "stdout",
     "output_type": "stream",
     "text": [
      "OK!\n",
      "NDCG IA\n"
     ]
    },
    {
     "name": "stderr",
     "output_type": "stream",
     "text": [
      "100%|██████████| 24/24 [00:00<00:00, 1091.18it/s]\n"
     ]
    },
    {
     "name": "stdout",
     "output_type": "stream",
     "text": [
      "OK!\n",
      "S-Recall\n"
     ]
    },
    {
     "name": "stderr",
     "output_type": "stream",
     "text": [
      "100%|██████████| 24/24 [00:00<00:00, 2672.03it/s]\n"
     ]
    },
    {
     "name": "stdout",
     "output_type": "stream",
     "text": [
      "OK!\n",
      "Calibration KL\n"
     ]
    },
    {
     "name": "stderr",
     "output_type": "stream",
     "text": [
      "100%|██████████| 24/24 [00:00<00:00, 357.37it/s]\n"
     ]
    },
    {
     "name": "stdout",
     "output_type": "stream",
     "text": [
      "OK!\n",
      "Calibration Hellinger\n"
     ]
    },
    {
     "name": "stderr",
     "output_type": "stream",
     "text": [
      "100%|██████████| 24/24 [00:00<00:00, 343.47it/s]\n"
     ]
    },
    {
     "name": "stdout",
     "output_type": "stream",
     "text": [
      "OK!\n",
      "Pre-processing...\n"
     ]
    },
    {
     "name": "stderr",
     "output_type": "stream",
     "text": [
      "\u001b[39mINFO\u001b[0m - Performing evaluation on metrics chosen\n"
     ]
    },
    {
     "name": "stdout",
     "output_type": "stream",
     "text": [
      "OK!\n",
      "Accuracy metrics...\n"
     ]
    },
    {
     "name": "stderr",
     "output_type": "stream",
     "text": [
      "Performing NDCG@20:  0%|          | 0/5 [00:00<?]             C:\\Users\\ctreuill.BIDOUILLE\\AppData\\Roaming\\Python\\Python39\\site-packages\\clayrs\\evaluation\\metrics\\ranking_metrics.py:205: RuntimeWarning: invalid value encountered in double_scalars\n",
      "  return actual / ideal\n",
      "Performing NDCG@20:  100%|██████████| 5/5 [00:00<00:00]\n"
     ]
    },
    {
     "name": "stdout",
     "output_type": "stream",
     "text": [
      "OK!\n",
      "ILS...\n"
     ]
    },
    {
     "name": "stderr",
     "output_type": "stream",
     "text": [
      "100%|██████████| 133/133 [00:00<00:00, 253.26it/s]\n"
     ]
    },
    {
     "name": "stdout",
     "output_type": "stream",
     "text": [
      "OK!\n",
      "alpha NDCG\n"
     ]
    },
    {
     "name": "stderr",
     "output_type": "stream",
     "text": [
      "100%|██████████| 133/133 [00:00<00:00, 1197.78it/s]\n"
     ]
    },
    {
     "name": "stdout",
     "output_type": "stream",
     "text": [
      "OK!\n",
      "NDCG IA\n"
     ]
    },
    {
     "name": "stderr",
     "output_type": "stream",
     "text": [
      "100%|██████████| 133/133 [00:00<00:00, 952.68it/s]\n"
     ]
    },
    {
     "name": "stdout",
     "output_type": "stream",
     "text": [
      "OK!\n",
      "S-Recall\n"
     ]
    },
    {
     "name": "stderr",
     "output_type": "stream",
     "text": [
      "100%|██████████| 133/133 [00:00<00:00, 2537.40it/s]\n"
     ]
    },
    {
     "name": "stdout",
     "output_type": "stream",
     "text": [
      "OK!\n",
      "Calibration KL\n"
     ]
    },
    {
     "name": "stderr",
     "output_type": "stream",
     "text": [
      "100%|██████████| 133/133 [00:00<00:00, 304.92it/s]\n"
     ]
    },
    {
     "name": "stdout",
     "output_type": "stream",
     "text": [
      "OK!\n",
      "Calibration Hellinger\n"
     ]
    },
    {
     "name": "stderr",
     "output_type": "stream",
     "text": [
      "100%|██████████| 133/133 [00:00<00:00, 435.68it/s]\n"
     ]
    },
    {
     "name": "stdout",
     "output_type": "stream",
     "text": [
      "OK!\n",
      "Pre-processing...\n"
     ]
    },
    {
     "name": "stderr",
     "output_type": "stream",
     "text": [
      "\u001b[39mINFO\u001b[0m - Performing evaluation on metrics chosen\n"
     ]
    },
    {
     "name": "stdout",
     "output_type": "stream",
     "text": [
      "OK!\n",
      "Accuracy metrics...\n"
     ]
    },
    {
     "name": "stderr",
     "output_type": "stream",
     "text": [
      "Performing NDCG@20:  80%|████████  | 4/5 [00:00<00:00]          C:\\Users\\ctreuill.BIDOUILLE\\AppData\\Roaming\\Python\\Python39\\site-packages\\clayrs\\evaluation\\metrics\\ranking_metrics.py:205: RuntimeWarning: invalid value encountered in double_scalars\n",
      "  return actual / ideal\n",
      "Performing NDCG@20:  100%|██████████| 5/5 [00:00<00:00]\n"
     ]
    },
    {
     "name": "stdout",
     "output_type": "stream",
     "text": [
      "OK!\n",
      "ILS...\n"
     ]
    },
    {
     "name": "stderr",
     "output_type": "stream",
     "text": [
      "100%|██████████| 525/525 [00:02<00:00, 259.32it/s]\n"
     ]
    },
    {
     "name": "stdout",
     "output_type": "stream",
     "text": [
      "OK!\n",
      "alpha NDCG\n"
     ]
    },
    {
     "name": "stderr",
     "output_type": "stream",
     "text": [
      "100%|██████████| 525/525 [00:00<00:00, 1290.66it/s]\n"
     ]
    },
    {
     "name": "stdout",
     "output_type": "stream",
     "text": [
      "OK!\n",
      "NDCG IA\n"
     ]
    },
    {
     "name": "stderr",
     "output_type": "stream",
     "text": [
      "100%|██████████| 525/525 [00:00<00:00, 906.48it/s]\n"
     ]
    },
    {
     "name": "stdout",
     "output_type": "stream",
     "text": [
      "OK!\n",
      "S-Recall\n"
     ]
    },
    {
     "name": "stderr",
     "output_type": "stream",
     "text": [
      "100%|██████████| 525/525 [00:00<00:00, 3333.96it/s]\n"
     ]
    },
    {
     "name": "stdout",
     "output_type": "stream",
     "text": [
      "OK!\n",
      "Calibration KL\n"
     ]
    },
    {
     "name": "stderr",
     "output_type": "stream",
     "text": [
      "100%|██████████| 525/525 [00:01<00:00, 435.25it/s]\n"
     ]
    },
    {
     "name": "stdout",
     "output_type": "stream",
     "text": [
      "OK!\n",
      "Calibration Hellinger\n"
     ]
    },
    {
     "name": "stderr",
     "output_type": "stream",
     "text": [
      "100%|██████████| 525/525 [00:01<00:00, 432.30it/s]\n"
     ]
    },
    {
     "name": "stdout",
     "output_type": "stream",
     "text": [
      "OK!\n",
      "Pre-processing...\n"
     ]
    },
    {
     "name": "stderr",
     "output_type": "stream",
     "text": [
      "\u001b[39mINFO\u001b[0m - Performing evaluation on metrics chosen\n"
     ]
    },
    {
     "name": "stdout",
     "output_type": "stream",
     "text": [
      "OK!\n",
      "Accuracy metrics...\n"
     ]
    },
    {
     "name": "stderr",
     "output_type": "stream",
     "text": [
      "Performing NDCG@20:  80%|████████  | 4/5 [00:01<00:00]             C:\\Users\\ctreuill.BIDOUILLE\\AppData\\Roaming\\Python\\Python39\\site-packages\\clayrs\\evaluation\\metrics\\ranking_metrics.py:205: RuntimeWarning: invalid value encountered in double_scalars\n",
      "  return actual / ideal\n",
      "Performing NDCG@20:  100%|██████████| 5/5 [00:02<00:00]\n"
     ]
    },
    {
     "name": "stdout",
     "output_type": "stream",
     "text": [
      "OK!\n",
      "ILS...\n"
     ]
    },
    {
     "name": "stderr",
     "output_type": "stream",
     "text": [
      "100%|██████████| 1964/1964 [00:07<00:00, 277.04it/s]\n"
     ]
    },
    {
     "name": "stdout",
     "output_type": "stream",
     "text": [
      "OK!\n",
      "alpha NDCG\n"
     ]
    },
    {
     "name": "stderr",
     "output_type": "stream",
     "text": [
      "100%|██████████| 1964/1964 [00:01<00:00, 1632.88it/s]\n"
     ]
    },
    {
     "name": "stdout",
     "output_type": "stream",
     "text": [
      "OK!\n",
      "NDCG IA\n"
     ]
    },
    {
     "name": "stderr",
     "output_type": "stream",
     "text": [
      "100%|██████████| 1964/1964 [00:01<00:00, 1334.41it/s]\n"
     ]
    },
    {
     "name": "stdout",
     "output_type": "stream",
     "text": [
      "OK!\n",
      "S-Recall\n"
     ]
    },
    {
     "name": "stderr",
     "output_type": "stream",
     "text": [
      "100%|██████████| 1964/1964 [00:00<00:00, 3396.38it/s]\n"
     ]
    },
    {
     "name": "stdout",
     "output_type": "stream",
     "text": [
      "OK!\n",
      "Calibration KL\n"
     ]
    },
    {
     "name": "stderr",
     "output_type": "stream",
     "text": [
      "100%|██████████| 1964/1964 [00:04<00:00, 471.94it/s]\n"
     ]
    },
    {
     "name": "stdout",
     "output_type": "stream",
     "text": [
      "OK!\n",
      "Calibration Hellinger\n"
     ]
    },
    {
     "name": "stderr",
     "output_type": "stream",
     "text": [
      "100%|██████████| 1964/1964 [00:04<00:00, 423.52it/s]\n"
     ]
    },
    {
     "name": "stdout",
     "output_type": "stream",
     "text": [
      "OK!\n",
      "Pre-processing...\n"
     ]
    },
    {
     "name": "stderr",
     "output_type": "stream",
     "text": [
      "\u001b[39mINFO\u001b[0m - Performing evaluation on metrics chosen\n"
     ]
    },
    {
     "name": "stdout",
     "output_type": "stream",
     "text": [
      "OK!\n",
      "Accuracy metrics...\n"
     ]
    },
    {
     "name": "stderr",
     "output_type": "stream",
     "text": [
      "Performing NDCG@20:  80%|████████  | 4/5 [00:08<00:02]             C:\\Users\\ctreuill.BIDOUILLE\\AppData\\Roaming\\Python\\Python39\\site-packages\\clayrs\\evaluation\\metrics\\ranking_metrics.py:205: RuntimeWarning: invalid value encountered in double_scalars\n",
      "  return actual / ideal\n",
      "Performing NDCG@20:  100%|██████████| 5/5 [00:10<00:00]\n"
     ]
    },
    {
     "name": "stdout",
     "output_type": "stream",
     "text": [
      "OK!\n",
      "ILS...\n"
     ]
    },
    {
     "name": "stderr",
     "output_type": "stream",
     "text": [
      "100%|██████████| 4250/4250 [00:15<00:00, 271.86it/s]\n"
     ]
    },
    {
     "name": "stdout",
     "output_type": "stream",
     "text": [
      "OK!\n",
      "alpha NDCG\n"
     ]
    },
    {
     "name": "stderr",
     "output_type": "stream",
     "text": [
      "100%|██████████| 4250/4250 [00:02<00:00, 1594.12it/s]\n"
     ]
    },
    {
     "name": "stdout",
     "output_type": "stream",
     "text": [
      "OK!\n",
      "NDCG IA\n"
     ]
    },
    {
     "name": "stderr",
     "output_type": "stream",
     "text": [
      "100%|██████████| 4250/4250 [00:03<00:00, 1276.32it/s]\n"
     ]
    },
    {
     "name": "stdout",
     "output_type": "stream",
     "text": [
      "OK!\n",
      "S-Recall\n"
     ]
    },
    {
     "name": "stderr",
     "output_type": "stream",
     "text": [
      "100%|██████████| 4250/4250 [00:01<00:00, 3420.52it/s]\n"
     ]
    },
    {
     "name": "stdout",
     "output_type": "stream",
     "text": [
      "OK!\n",
      "Calibration KL\n"
     ]
    },
    {
     "name": "stderr",
     "output_type": "stream",
     "text": [
      "100%|██████████| 4250/4250 [00:09<00:00, 469.56it/s]\n"
     ]
    },
    {
     "name": "stdout",
     "output_type": "stream",
     "text": [
      "OK!\n",
      "Calibration Hellinger\n"
     ]
    },
    {
     "name": "stderr",
     "output_type": "stream",
     "text": [
      "100%|██████████| 4250/4250 [00:09<00:00, 459.21it/s]\n"
     ]
    },
    {
     "name": "stdout",
     "output_type": "stream",
     "text": [
      "OK!\n",
      "Pre-processing...\n"
     ]
    },
    {
     "name": "stderr",
     "output_type": "stream",
     "text": [
      "\u001b[39mINFO\u001b[0m - Performing evaluation on metrics chosen\n"
     ]
    },
    {
     "name": "stdout",
     "output_type": "stream",
     "text": [
      "OK!\n",
      "Accuracy metrics...\n"
     ]
    },
    {
     "name": "stderr",
     "output_type": "stream",
     "text": [
      "Performing NDCG@20:  80%|████████  | 4/5 [00:03<00:00]             C:\\Users\\ctreuill.BIDOUILLE\\AppData\\Roaming\\Python\\Python39\\site-packages\\clayrs\\evaluation\\metrics\\ranking_metrics.py:205: RuntimeWarning: invalid value encountered in double_scalars\n",
      "  return actual / ideal\n",
      "Performing NDCG@20:  100%|██████████| 5/5 [00:04<00:00]\n"
     ]
    },
    {
     "name": "stdout",
     "output_type": "stream",
     "text": [
      "OK!\n",
      "ILS...\n"
     ]
    },
    {
     "name": "stderr",
     "output_type": "stream",
     "text": [
      "100%|██████████| 2894/2894 [00:10<00:00, 268.91it/s]\n"
     ]
    },
    {
     "name": "stdout",
     "output_type": "stream",
     "text": [
      "OK!\n",
      "alpha NDCG\n"
     ]
    },
    {
     "name": "stderr",
     "output_type": "stream",
     "text": [
      "100%|██████████| 2894/2894 [00:01<00:00, 1579.36it/s]\n"
     ]
    },
    {
     "name": "stdout",
     "output_type": "stream",
     "text": [
      "OK!\n",
      "NDCG IA\n"
     ]
    },
    {
     "name": "stderr",
     "output_type": "stream",
     "text": [
      "100%|██████████| 2894/2894 [00:02<00:00, 1126.39it/s]\n"
     ]
    },
    {
     "name": "stdout",
     "output_type": "stream",
     "text": [
      "OK!\n",
      "S-Recall\n"
     ]
    },
    {
     "name": "stderr",
     "output_type": "stream",
     "text": [
      "100%|██████████| 2894/2894 [00:00<00:00, 3449.39it/s]\n"
     ]
    },
    {
     "name": "stdout",
     "output_type": "stream",
     "text": [
      "OK!\n",
      "Calibration KL\n"
     ]
    },
    {
     "name": "stderr",
     "output_type": "stream",
     "text": [
      "100%|██████████| 2894/2894 [00:06<00:00, 476.51it/s]\n"
     ]
    },
    {
     "name": "stdout",
     "output_type": "stream",
     "text": [
      "OK!\n",
      "Calibration Hellinger\n"
     ]
    },
    {
     "name": "stderr",
     "output_type": "stream",
     "text": [
      "100%|██████████| 2894/2894 [00:06<00:00, 464.44it/s]\n",
      "\u001b[39mINFO\u001b[0m - Performing evaluation on metrics chosen\n"
     ]
    },
    {
     "name": "stdout",
     "output_type": "stream",
     "text": [
      "OK!\n",
      "Pre-processing...\n",
      "OK!\n",
      "Accuracy metrics...\n"
     ]
    },
    {
     "name": "stderr",
     "output_type": "stream",
     "text": [
      "Performing NDCG@20:  0%|          | 0/5 [00:00<?]             C:\\Users\\ctreuill.BIDOUILLE\\AppData\\Roaming\\Python\\Python39\\site-packages\\clayrs\\evaluation\\metrics\\ranking_metrics.py:205: RuntimeWarning: invalid value encountered in double_scalars\n",
      "  return actual / ideal\n",
      "Performing NDCG@20:  100%|██████████| 5/5 [00:00<00:00]\n"
     ]
    },
    {
     "name": "stdout",
     "output_type": "stream",
     "text": [
      "OK!\n",
      "ILS...\n"
     ]
    },
    {
     "name": "stderr",
     "output_type": "stream",
     "text": [
      "100%|██████████| 207/207 [00:00<00:00, 246.52it/s]\n"
     ]
    },
    {
     "name": "stdout",
     "output_type": "stream",
     "text": [
      "OK!\n",
      "alpha NDCG\n"
     ]
    },
    {
     "name": "stderr",
     "output_type": "stream",
     "text": [
      "100%|██████████| 207/207 [00:00<00:00, 1737.48it/s]\n"
     ]
    },
    {
     "name": "stdout",
     "output_type": "stream",
     "text": [
      "OK!\n",
      "NDCG IA\n"
     ]
    },
    {
     "name": "stderr",
     "output_type": "stream",
     "text": [
      "100%|██████████| 207/207 [00:00<00:00, 1272.45it/s]\n"
     ]
    },
    {
     "name": "stdout",
     "output_type": "stream",
     "text": [
      "OK!\n",
      "S-Recall\n"
     ]
    },
    {
     "name": "stderr",
     "output_type": "stream",
     "text": [
      "100%|██████████| 207/207 [00:00<00:00, 4224.61it/s]\n"
     ]
    },
    {
     "name": "stdout",
     "output_type": "stream",
     "text": [
      "OK!\n",
      "Calibration KL\n"
     ]
    },
    {
     "name": "stderr",
     "output_type": "stream",
     "text": [
      "100%|██████████| 207/207 [00:00<00:00, 465.64it/s]\n"
     ]
    },
    {
     "name": "stdout",
     "output_type": "stream",
     "text": [
      "OK!\n",
      "Calibration Hellinger\n"
     ]
    },
    {
     "name": "stderr",
     "output_type": "stream",
     "text": [
      "100%|██████████| 207/207 [00:00<00:00, 463.98it/s]\n",
      "\u001b[39mINFO\u001b[0m - Performing evaluation on metrics chosen\n"
     ]
    },
    {
     "name": "stdout",
     "output_type": "stream",
     "text": [
      "OK!\n",
      "Pre-processing...\n",
      "OK!\n",
      "Accuracy metrics...\n"
     ]
    },
    {
     "name": "stderr",
     "output_type": "stream",
     "text": [
      "Performing NDCG@20:  100%|██████████| 5/5 [00:00<00:00]       \n"
     ]
    },
    {
     "name": "stdout",
     "output_type": "stream",
     "text": [
      "OK!\n",
      "ILS...\n"
     ]
    },
    {
     "name": "stderr",
     "output_type": "stream",
     "text": [
      "100%|██████████| 3/3 [00:00<00:00, 229.81it/s]\n"
     ]
    },
    {
     "name": "stdout",
     "output_type": "stream",
     "text": [
      "OK!\n",
      "alpha NDCG\n"
     ]
    },
    {
     "name": "stderr",
     "output_type": "stream",
     "text": [
      "100%|██████████| 3/3 [00:00<00:00, 1002.22it/s]\n"
     ]
    },
    {
     "name": "stdout",
     "output_type": "stream",
     "text": [
      "OK!\n",
      "NDCG IA\n"
     ]
    },
    {
     "name": "stderr",
     "output_type": "stream",
     "text": [
      "100%|██████████| 3/3 [00:00<00:00, 480.92it/s]\n"
     ]
    },
    {
     "name": "stdout",
     "output_type": "stream",
     "text": [
      "OK!\n",
      "S-Recall\n"
     ]
    },
    {
     "name": "stderr",
     "output_type": "stream",
     "text": [
      "100%|██████████| 3/3 [00:00<00:00, 1521.70it/s]\n"
     ]
    },
    {
     "name": "stdout",
     "output_type": "stream",
     "text": [
      "OK!\n",
      "Calibration KL\n"
     ]
    },
    {
     "name": "stderr",
     "output_type": "stream",
     "text": [
      "100%|██████████| 3/3 [00:00<00:00, 247.91it/s]\n"
     ]
    },
    {
     "name": "stdout",
     "output_type": "stream",
     "text": [
      "OK!\n",
      "Calibration Hellinger\n"
     ]
    },
    {
     "name": "stderr",
     "output_type": "stream",
     "text": [
      "100%|██████████| 3/3 [00:00<00:00, 313.61it/s]\n",
      "\u001b[39mINFO\u001b[0m - Performing evaluation on metrics chosen\n"
     ]
    },
    {
     "name": "stdout",
     "output_type": "stream",
     "text": [
      "OK!\n",
      "Pre-processing...\n",
      "OK!\n",
      "Accuracy metrics...\n"
     ]
    },
    {
     "name": "stderr",
     "output_type": "stream",
     "text": [
      "Performing NDCG@20:  0%|          | 0/5 [00:00<?]             C:\\Users\\ctreuill.BIDOUILLE\\AppData\\Roaming\\Python\\Python39\\site-packages\\clayrs\\evaluation\\metrics\\ranking_metrics.py:205: RuntimeWarning: invalid value encountered in double_scalars\n",
      "  return actual / ideal\n",
      "Performing NDCG@20:  100%|██████████| 5/5 [00:00<00:00]\n"
     ]
    },
    {
     "name": "stdout",
     "output_type": "stream",
     "text": [
      "OK!\n",
      "ILS...\n"
     ]
    },
    {
     "name": "stderr",
     "output_type": "stream",
     "text": [
      "100%|██████████| 24/24 [00:00<00:00, 205.56it/s]\n"
     ]
    },
    {
     "name": "stdout",
     "output_type": "stream",
     "text": [
      "OK!\n",
      "alpha NDCG\n"
     ]
    },
    {
     "name": "stderr",
     "output_type": "stream",
     "text": [
      "100%|██████████| 24/24 [00:00<00:00, 1085.03it/s]\n"
     ]
    },
    {
     "name": "stdout",
     "output_type": "stream",
     "text": [
      "OK!\n",
      "NDCG IA\n"
     ]
    },
    {
     "name": "stderr",
     "output_type": "stream",
     "text": [
      "100%|██████████| 24/24 [00:00<00:00, 677.32it/s]\n"
     ]
    },
    {
     "name": "stdout",
     "output_type": "stream",
     "text": [
      "OK!\n",
      "S-Recall\n"
     ]
    },
    {
     "name": "stderr",
     "output_type": "stream",
     "text": [
      "100%|██████████| 24/24 [00:00<00:00, 2114.20it/s]\n"
     ]
    },
    {
     "name": "stdout",
     "output_type": "stream",
     "text": [
      "OK!\n",
      "Calibration KL\n"
     ]
    },
    {
     "name": "stderr",
     "output_type": "stream",
     "text": [
      "100%|██████████| 24/24 [00:00<00:00, 250.89it/s]\n"
     ]
    },
    {
     "name": "stdout",
     "output_type": "stream",
     "text": [
      "OK!\n",
      "Calibration Hellinger\n"
     ]
    },
    {
     "name": "stderr",
     "output_type": "stream",
     "text": [
      "100%|██████████| 24/24 [00:00<00:00, 281.84it/s]\n",
      "\u001b[39mINFO\u001b[0m - Performing evaluation on metrics chosen\n"
     ]
    },
    {
     "name": "stdout",
     "output_type": "stream",
     "text": [
      "OK!\n",
      "Pre-processing...\n",
      "OK!\n",
      "Accuracy metrics...\n"
     ]
    },
    {
     "name": "stderr",
     "output_type": "stream",
     "text": [
      "Performing NDCG@20:  0%|          | 0/5 [00:00<?]             C:\\Users\\ctreuill.BIDOUILLE\\AppData\\Roaming\\Python\\Python39\\site-packages\\clayrs\\evaluation\\metrics\\ranking_metrics.py:205: RuntimeWarning: invalid value encountered in double_scalars\n",
      "  return actual / ideal\n",
      "Performing NDCG@20:  100%|██████████| 5/5 [00:00<00:00]\n"
     ]
    },
    {
     "name": "stdout",
     "output_type": "stream",
     "text": [
      "OK!\n",
      "ILS...\n"
     ]
    },
    {
     "name": "stderr",
     "output_type": "stream",
     "text": [
      "100%|██████████| 133/133 [00:00<00:00, 261.65it/s]\n"
     ]
    },
    {
     "name": "stdout",
     "output_type": "stream",
     "text": [
      "OK!\n",
      "alpha NDCG\n"
     ]
    },
    {
     "name": "stderr",
     "output_type": "stream",
     "text": [
      "100%|██████████| 133/133 [00:00<00:00, 1813.31it/s]\n"
     ]
    },
    {
     "name": "stdout",
     "output_type": "stream",
     "text": [
      "OK!\n",
      "NDCG IA\n"
     ]
    },
    {
     "name": "stderr",
     "output_type": "stream",
     "text": [
      "100%|██████████| 133/133 [00:00<00:00, 1213.19it/s]\n"
     ]
    },
    {
     "name": "stdout",
     "output_type": "stream",
     "text": [
      "OK!\n",
      "S-Recall\n"
     ]
    },
    {
     "name": "stderr",
     "output_type": "stream",
     "text": [
      "100%|██████████| 133/133 [00:00<00:00, 3706.94it/s]\n"
     ]
    },
    {
     "name": "stdout",
     "output_type": "stream",
     "text": [
      "OK!\n",
      "Calibration KL\n"
     ]
    },
    {
     "name": "stderr",
     "output_type": "stream",
     "text": [
      "100%|██████████| 133/133 [00:00<00:00, 426.42it/s]\n"
     ]
    },
    {
     "name": "stdout",
     "output_type": "stream",
     "text": [
      "OK!\n",
      "Calibration Hellinger\n"
     ]
    },
    {
     "name": "stderr",
     "output_type": "stream",
     "text": [
      "100%|██████████| 133/133 [00:00<00:00, 462.31it/s]\n"
     ]
    },
    {
     "name": "stdout",
     "output_type": "stream",
     "text": [
      "OK!\n",
      "Pre-processing...\n"
     ]
    },
    {
     "name": "stderr",
     "output_type": "stream",
     "text": [
      "\u001b[39mINFO\u001b[0m - Performing evaluation on metrics chosen\n"
     ]
    },
    {
     "name": "stdout",
     "output_type": "stream",
     "text": [
      "OK!\n",
      "Accuracy metrics...\n"
     ]
    },
    {
     "name": "stderr",
     "output_type": "stream",
     "text": [
      "Performing NDCG@20:  80%|████████  | 4/5 [00:00<00:00]          C:\\Users\\ctreuill.BIDOUILLE\\AppData\\Roaming\\Python\\Python39\\site-packages\\clayrs\\evaluation\\metrics\\ranking_metrics.py:205: RuntimeWarning: invalid value encountered in double_scalars\n",
      "  return actual / ideal\n",
      "Performing NDCG@20:  100%|██████████| 5/5 [00:00<00:00]\n"
     ]
    },
    {
     "name": "stdout",
     "output_type": "stream",
     "text": [
      "OK!\n",
      "ILS...\n"
     ]
    },
    {
     "name": "stderr",
     "output_type": "stream",
     "text": [
      "100%|██████████| 525/525 [00:01<00:00, 292.13it/s]\n"
     ]
    },
    {
     "name": "stdout",
     "output_type": "stream",
     "text": [
      "OK!\n",
      "alpha NDCG\n"
     ]
    },
    {
     "name": "stderr",
     "output_type": "stream",
     "text": [
      "100%|██████████| 525/525 [00:00<00:00, 1400.46it/s]\n"
     ]
    },
    {
     "name": "stdout",
     "output_type": "stream",
     "text": [
      "OK!\n",
      "NDCG IA\n"
     ]
    },
    {
     "name": "stderr",
     "output_type": "stream",
     "text": [
      "100%|██████████| 525/525 [00:00<00:00, 1367.58it/s]\n"
     ]
    },
    {
     "name": "stdout",
     "output_type": "stream",
     "text": [
      "OK!\n",
      "S-Recall\n"
     ]
    },
    {
     "name": "stderr",
     "output_type": "stream",
     "text": [
      "100%|██████████| 525/525 [00:00<00:00, 4083.38it/s]\n"
     ]
    },
    {
     "name": "stdout",
     "output_type": "stream",
     "text": [
      "OK!\n",
      "Calibration KL\n"
     ]
    },
    {
     "name": "stderr",
     "output_type": "stream",
     "text": [
      "100%|██████████| 525/525 [00:01<00:00, 482.84it/s]\n"
     ]
    },
    {
     "name": "stdout",
     "output_type": "stream",
     "text": [
      "OK!\n",
      "Calibration Hellinger\n"
     ]
    },
    {
     "name": "stderr",
     "output_type": "stream",
     "text": [
      "100%|██████████| 525/525 [00:01<00:00, 477.04it/s]\n"
     ]
    },
    {
     "name": "stdout",
     "output_type": "stream",
     "text": [
      "OK!\n",
      "Pre-processing...\n"
     ]
    },
    {
     "name": "stderr",
     "output_type": "stream",
     "text": [
      "\u001b[39mINFO\u001b[0m - Performing evaluation on metrics chosen\n"
     ]
    },
    {
     "name": "stdout",
     "output_type": "stream",
     "text": [
      "OK!\n",
      "Accuracy metrics...\n"
     ]
    },
    {
     "name": "stderr",
     "output_type": "stream",
     "text": [
      "Performing NDCG@20:  80%|████████  | 4/5 [00:01<00:00]             C:\\Users\\ctreuill.BIDOUILLE\\AppData\\Roaming\\Python\\Python39\\site-packages\\clayrs\\evaluation\\metrics\\ranking_metrics.py:205: RuntimeWarning: invalid value encountered in double_scalars\n",
      "  return actual / ideal\n",
      "Performing NDCG@20:  100%|██████████| 5/5 [00:02<00:00]\n"
     ]
    },
    {
     "name": "stdout",
     "output_type": "stream",
     "text": [
      "OK!\n",
      "ILS...\n"
     ]
    },
    {
     "name": "stderr",
     "output_type": "stream",
     "text": [
      "100%|██████████| 1964/1964 [00:06<00:00, 281.27it/s]\n"
     ]
    },
    {
     "name": "stdout",
     "output_type": "stream",
     "text": [
      "OK!\n",
      "alpha NDCG\n"
     ]
    },
    {
     "name": "stderr",
     "output_type": "stream",
     "text": [
      "100%|██████████| 1964/1964 [00:01<00:00, 1800.13it/s]\n"
     ]
    },
    {
     "name": "stdout",
     "output_type": "stream",
     "text": [
      "OK!\n",
      "NDCG IA\n"
     ]
    },
    {
     "name": "stderr",
     "output_type": "stream",
     "text": [
      "100%|██████████| 1964/1964 [00:01<00:00, 1358.87it/s]\n"
     ]
    },
    {
     "name": "stdout",
     "output_type": "stream",
     "text": [
      "OK!\n",
      "S-Recall\n"
     ]
    },
    {
     "name": "stderr",
     "output_type": "stream",
     "text": [
      "100%|██████████| 1964/1964 [00:00<00:00, 3852.03it/s]\n"
     ]
    },
    {
     "name": "stdout",
     "output_type": "stream",
     "text": [
      "OK!\n",
      "Calibration KL\n"
     ]
    },
    {
     "name": "stderr",
     "output_type": "stream",
     "text": [
      "100%|██████████| 1964/1964 [00:04<00:00, 474.71it/s]\n"
     ]
    },
    {
     "name": "stdout",
     "output_type": "stream",
     "text": [
      "OK!\n",
      "Calibration Hellinger\n"
     ]
    },
    {
     "name": "stderr",
     "output_type": "stream",
     "text": [
      "100%|██████████| 1964/1964 [00:04<00:00, 468.36it/s]\n"
     ]
    },
    {
     "name": "stdout",
     "output_type": "stream",
     "text": [
      "OK!\n",
      "Pre-processing...\n"
     ]
    },
    {
     "name": "stderr",
     "output_type": "stream",
     "text": [
      "\u001b[39mINFO\u001b[0m - Performing evaluation on metrics chosen\n"
     ]
    },
    {
     "name": "stdout",
     "output_type": "stream",
     "text": [
      "OK!\n",
      "Accuracy metrics...\n"
     ]
    },
    {
     "name": "stderr",
     "output_type": "stream",
     "text": [
      "Performing NDCG@20:  80%|████████  | 4/5 [00:07<00:01]             C:\\Users\\ctreuill.BIDOUILLE\\AppData\\Roaming\\Python\\Python39\\site-packages\\clayrs\\evaluation\\metrics\\ranking_metrics.py:205: RuntimeWarning: invalid value encountered in double_scalars\n",
      "  return actual / ideal\n",
      "Performing NDCG@20:  100%|██████████| 5/5 [00:09<00:00]\n"
     ]
    },
    {
     "name": "stdout",
     "output_type": "stream",
     "text": [
      "OK!\n",
      "ILS...\n"
     ]
    },
    {
     "name": "stderr",
     "output_type": "stream",
     "text": [
      "100%|██████████| 4250/4250 [00:15<00:00, 273.74it/s]\n"
     ]
    },
    {
     "name": "stdout",
     "output_type": "stream",
     "text": [
      "OK!\n",
      "alpha NDCG\n"
     ]
    },
    {
     "name": "stderr",
     "output_type": "stream",
     "text": [
      "100%|██████████| 4250/4250 [00:02<00:00, 1678.24it/s]\n"
     ]
    },
    {
     "name": "stdout",
     "output_type": "stream",
     "text": [
      "OK!\n",
      "NDCG IA\n"
     ]
    },
    {
     "name": "stderr",
     "output_type": "stream",
     "text": [
      "100%|██████████| 4250/4250 [00:03<00:00, 1210.98it/s]\n"
     ]
    },
    {
     "name": "stdout",
     "output_type": "stream",
     "text": [
      "OK!\n",
      "S-Recall\n"
     ]
    },
    {
     "name": "stderr",
     "output_type": "stream",
     "text": [
      "100%|██████████| 4250/4250 [00:01<00:00, 2946.41it/s]\n"
     ]
    },
    {
     "name": "stdout",
     "output_type": "stream",
     "text": [
      "OK!\n",
      "Calibration KL\n"
     ]
    },
    {
     "name": "stderr",
     "output_type": "stream",
     "text": [
      "100%|██████████| 4250/4250 [00:09<00:00, 470.24it/s]\n"
     ]
    },
    {
     "name": "stdout",
     "output_type": "stream",
     "text": [
      "OK!\n",
      "Calibration Hellinger\n"
     ]
    },
    {
     "name": "stderr",
     "output_type": "stream",
     "text": [
      "100%|██████████| 4250/4250 [00:09<00:00, 462.41it/s]\n"
     ]
    },
    {
     "name": "stdout",
     "output_type": "stream",
     "text": [
      "OK!\n",
      "Pre-processing...\n"
     ]
    },
    {
     "name": "stderr",
     "output_type": "stream",
     "text": [
      "\u001b[39mINFO\u001b[0m - Performing evaluation on metrics chosen\n"
     ]
    },
    {
     "name": "stdout",
     "output_type": "stream",
     "text": [
      "OK!\n",
      "Accuracy metrics...\n"
     ]
    },
    {
     "name": "stderr",
     "output_type": "stream",
     "text": [
      "Performing NDCG@20:  80%|████████  | 4/5 [00:03<00:00]             C:\\Users\\ctreuill.BIDOUILLE\\AppData\\Roaming\\Python\\Python39\\site-packages\\clayrs\\evaluation\\metrics\\ranking_metrics.py:205: RuntimeWarning: invalid value encountered in double_scalars\n",
      "  return actual / ideal\n",
      "Performing NDCG@20:  100%|██████████| 5/5 [00:04<00:00]\n"
     ]
    },
    {
     "name": "stdout",
     "output_type": "stream",
     "text": [
      "OK!\n",
      "ILS...\n"
     ]
    },
    {
     "name": "stderr",
     "output_type": "stream",
     "text": [
      "100%|██████████| 2894/2894 [00:10<00:00, 270.37it/s]\n"
     ]
    },
    {
     "name": "stdout",
     "output_type": "stream",
     "text": [
      "OK!\n",
      "alpha NDCG\n"
     ]
    },
    {
     "name": "stderr",
     "output_type": "stream",
     "text": [
      "100%|██████████| 2894/2894 [00:01<00:00, 1652.19it/s]\n"
     ]
    },
    {
     "name": "stdout",
     "output_type": "stream",
     "text": [
      "OK!\n",
      "NDCG IA\n"
     ]
    },
    {
     "name": "stderr",
     "output_type": "stream",
     "text": [
      "100%|██████████| 2894/2894 [00:02<00:00, 1232.02it/s]\n"
     ]
    },
    {
     "name": "stdout",
     "output_type": "stream",
     "text": [
      "OK!\n",
      "S-Recall\n"
     ]
    },
    {
     "name": "stderr",
     "output_type": "stream",
     "text": [
      "100%|██████████| 2894/2894 [00:00<00:00, 3717.21it/s]\n"
     ]
    },
    {
     "name": "stdout",
     "output_type": "stream",
     "text": [
      "OK!\n",
      "Calibration KL\n"
     ]
    },
    {
     "name": "stderr",
     "output_type": "stream",
     "text": [
      "100%|██████████| 2894/2894 [00:06<00:00, 471.83it/s]\n"
     ]
    },
    {
     "name": "stdout",
     "output_type": "stream",
     "text": [
      "OK!\n",
      "Calibration Hellinger\n"
     ]
    },
    {
     "name": "stderr",
     "output_type": "stream",
     "text": [
      "100%|██████████| 2894/2894 [00:06<00:00, 466.35it/s]\n",
      "\u001b[39mINFO\u001b[0m - Performing evaluation on metrics chosen\n"
     ]
    },
    {
     "name": "stdout",
     "output_type": "stream",
     "text": [
      "OK!\n",
      "Pre-processing...\n",
      "OK!\n",
      "Accuracy metrics...\n"
     ]
    },
    {
     "name": "stderr",
     "output_type": "stream",
     "text": [
      "Performing NDCG@20:  0%|          | 0/5 [00:00<?]             C:\\Users\\ctreuill.BIDOUILLE\\AppData\\Roaming\\Python\\Python39\\site-packages\\clayrs\\evaluation\\metrics\\ranking_metrics.py:205: RuntimeWarning: invalid value encountered in double_scalars\n",
      "  return actual / ideal\n",
      "Performing NDCG@20:  100%|██████████| 5/5 [00:00<00:00]\n"
     ]
    },
    {
     "name": "stdout",
     "output_type": "stream",
     "text": [
      "OK!\n",
      "ILS...\n"
     ]
    },
    {
     "name": "stderr",
     "output_type": "stream",
     "text": [
      "100%|██████████| 207/207 [00:00<00:00, 254.88it/s]\n"
     ]
    },
    {
     "name": "stdout",
     "output_type": "stream",
     "text": [
      "OK!\n",
      "alpha NDCG\n"
     ]
    },
    {
     "name": "stderr",
     "output_type": "stream",
     "text": [
      "100%|██████████| 207/207 [00:00<00:00, 1569.82it/s]\n"
     ]
    },
    {
     "name": "stdout",
     "output_type": "stream",
     "text": [
      "OK!\n",
      "NDCG IA\n"
     ]
    },
    {
     "name": "stderr",
     "output_type": "stream",
     "text": [
      "100%|██████████| 207/207 [00:00<00:00, 1195.87it/s]\n"
     ]
    },
    {
     "name": "stdout",
     "output_type": "stream",
     "text": [
      "OK!\n",
      "S-Recall\n"
     ]
    },
    {
     "name": "stderr",
     "output_type": "stream",
     "text": [
      "100%|██████████| 207/207 [00:00<00:00, 3900.82it/s]\n"
     ]
    },
    {
     "name": "stdout",
     "output_type": "stream",
     "text": [
      "OK!\n",
      "Calibration KL\n"
     ]
    },
    {
     "name": "stderr",
     "output_type": "stream",
     "text": [
      "100%|██████████| 207/207 [00:00<00:00, 467.47it/s]\n"
     ]
    },
    {
     "name": "stdout",
     "output_type": "stream",
     "text": [
      "OK!\n",
      "Calibration Hellinger\n"
     ]
    },
    {
     "name": "stderr",
     "output_type": "stream",
     "text": [
      "100%|██████████| 207/207 [00:00<00:00, 463.99it/s]\n",
      "\u001b[39mINFO\u001b[0m - Performing evaluation on metrics chosen\n"
     ]
    },
    {
     "name": "stdout",
     "output_type": "stream",
     "text": [
      "OK!\n",
      "Pre-processing...\n",
      "OK!\n",
      "Accuracy metrics...\n"
     ]
    },
    {
     "name": "stderr",
     "output_type": "stream",
     "text": [
      "Performing NDCG@20:  100%|██████████| 5/5 [00:00<00:00]       \n"
     ]
    },
    {
     "name": "stdout",
     "output_type": "stream",
     "text": [
      "OK!\n",
      "ILS...\n"
     ]
    },
    {
     "name": "stderr",
     "output_type": "stream",
     "text": [
      "100%|██████████| 3/3 [00:00<00:00, 234.76it/s]\n"
     ]
    },
    {
     "name": "stdout",
     "output_type": "stream",
     "text": [
      "OK!\n",
      "alpha NDCG\n"
     ]
    },
    {
     "name": "stderr",
     "output_type": "stream",
     "text": [
      "100%|██████████| 3/3 [00:00<00:00, 1505.49it/s]\n"
     ]
    },
    {
     "name": "stdout",
     "output_type": "stream",
     "text": [
      "OK!\n",
      "NDCG IA\n"
     ]
    },
    {
     "name": "stderr",
     "output_type": "stream",
     "text": [
      "100%|██████████| 3/3 [00:00<00:00, 1003.58it/s]\n"
     ]
    },
    {
     "name": "stdout",
     "output_type": "stream",
     "text": [
      "OK!\n",
      "S-Recall\n"
     ]
    },
    {
     "name": "stderr",
     "output_type": "stream",
     "text": [
      "100%|██████████| 3/3 [00:00<00:00, 2696.72it/s]\n"
     ]
    },
    {
     "name": "stdout",
     "output_type": "stream",
     "text": [
      "OK!\n",
      "Calibration KL\n"
     ]
    },
    {
     "name": "stderr",
     "output_type": "stream",
     "text": [
      "100%|██████████| 3/3 [00:00<00:00, 372.47it/s]\n"
     ]
    },
    {
     "name": "stdout",
     "output_type": "stream",
     "text": [
      "OK!\n",
      "Calibration Hellinger\n"
     ]
    },
    {
     "name": "stderr",
     "output_type": "stream",
     "text": [
      "100%|██████████| 3/3 [00:00<00:00, 280.02it/s]\n",
      "\u001b[39mINFO\u001b[0m - Performing evaluation on metrics chosen\n"
     ]
    },
    {
     "name": "stdout",
     "output_type": "stream",
     "text": [
      "OK!\n",
      "Pre-processing...\n",
      "OK!\n",
      "Accuracy metrics...\n"
     ]
    },
    {
     "name": "stderr",
     "output_type": "stream",
     "text": [
      "Performing NDCG@20:  0%|          | 0/5 [00:00<?]             C:\\Users\\ctreuill.BIDOUILLE\\AppData\\Roaming\\Python\\Python39\\site-packages\\clayrs\\evaluation\\metrics\\ranking_metrics.py:205: RuntimeWarning: invalid value encountered in double_scalars\n",
      "  return actual / ideal\n",
      "Performing NDCG@20:  100%|██████████| 5/5 [00:00<00:00]\n"
     ]
    },
    {
     "name": "stdout",
     "output_type": "stream",
     "text": [
      "OK!\n",
      "ILS...\n"
     ]
    },
    {
     "name": "stderr",
     "output_type": "stream",
     "text": [
      "100%|██████████| 24/24 [00:00<00:00, 181.91it/s]\n"
     ]
    },
    {
     "name": "stdout",
     "output_type": "stream",
     "text": [
      "OK!\n",
      "alpha NDCG\n"
     ]
    },
    {
     "name": "stderr",
     "output_type": "stream",
     "text": [
      "100%|██████████| 24/24 [00:00<00:00, 1488.77it/s]\n"
     ]
    },
    {
     "name": "stdout",
     "output_type": "stream",
     "text": [
      "OK!\n",
      "NDCG IA\n"
     ]
    },
    {
     "name": "stderr",
     "output_type": "stream",
     "text": [
      "100%|██████████| 24/24 [00:00<00:00, 1067.75it/s]\n"
     ]
    },
    {
     "name": "stdout",
     "output_type": "stream",
     "text": [
      "OK!\n",
      "S-Recall\n"
     ]
    },
    {
     "name": "stderr",
     "output_type": "stream",
     "text": [
      "100%|██████████| 24/24 [00:00<00:00, 3440.66it/s]\n"
     ]
    },
    {
     "name": "stdout",
     "output_type": "stream",
     "text": [
      "OK!\n",
      "Calibration KL\n"
     ]
    },
    {
     "name": "stderr",
     "output_type": "stream",
     "text": [
      "100%|██████████| 24/24 [00:00<00:00, 197.75it/s]\n"
     ]
    },
    {
     "name": "stdout",
     "output_type": "stream",
     "text": [
      "OK!\n",
      "Calibration Hellinger\n"
     ]
    },
    {
     "name": "stderr",
     "output_type": "stream",
     "text": [
      "100%|██████████| 24/24 [00:00<00:00, 257.50it/s]\n"
     ]
    },
    {
     "name": "stdout",
     "output_type": "stream",
     "text": [
      "OK!\n",
      "Pre-processing...\n"
     ]
    },
    {
     "name": "stderr",
     "output_type": "stream",
     "text": [
      "\u001b[39mINFO\u001b[0m - Performing evaluation on metrics chosen\n"
     ]
    },
    {
     "name": "stdout",
     "output_type": "stream",
     "text": [
      "OK!\n",
      "Accuracy metrics...\n"
     ]
    },
    {
     "name": "stderr",
     "output_type": "stream",
     "text": [
      "Performing NDCG@20:  0%|          | 0/5 [00:00<?]             C:\\Users\\ctreuill.BIDOUILLE\\AppData\\Roaming\\Python\\Python39\\site-packages\\clayrs\\evaluation\\metrics\\ranking_metrics.py:205: RuntimeWarning: invalid value encountered in double_scalars\n",
      "  return actual / ideal\n",
      "Performing NDCG@20:  100%|██████████| 5/5 [00:00<00:00]\n"
     ]
    },
    {
     "name": "stdout",
     "output_type": "stream",
     "text": [
      "OK!\n",
      "ILS...\n"
     ]
    },
    {
     "name": "stderr",
     "output_type": "stream",
     "text": [
      "100%|██████████| 133/133 [00:00<00:00, 267.96it/s]\n"
     ]
    },
    {
     "name": "stdout",
     "output_type": "stream",
     "text": [
      "OK!\n",
      "alpha NDCG\n"
     ]
    },
    {
     "name": "stderr",
     "output_type": "stream",
     "text": [
      "100%|██████████| 133/133 [00:00<00:00, 1877.61it/s]\n"
     ]
    },
    {
     "name": "stdout",
     "output_type": "stream",
     "text": [
      "OK!\n",
      "NDCG IA\n"
     ]
    },
    {
     "name": "stderr",
     "output_type": "stream",
     "text": [
      "100%|██████████| 133/133 [00:00<00:00, 1406.75it/s]\n"
     ]
    },
    {
     "name": "stdout",
     "output_type": "stream",
     "text": [
      "OK!\n",
      "S-Recall\n"
     ]
    },
    {
     "name": "stderr",
     "output_type": "stream",
     "text": [
      "100%|██████████| 133/133 [00:00<00:00, 3760.77it/s]\n"
     ]
    },
    {
     "name": "stdout",
     "output_type": "stream",
     "text": [
      "OK!\n",
      "Calibration KL\n"
     ]
    },
    {
     "name": "stderr",
     "output_type": "stream",
     "text": [
      "100%|██████████| 133/133 [00:00<00:00, 428.22it/s]\n"
     ]
    },
    {
     "name": "stdout",
     "output_type": "stream",
     "text": [
      "OK!\n",
      "Calibration Hellinger\n"
     ]
    },
    {
     "name": "stderr",
     "output_type": "stream",
     "text": [
      "100%|██████████| 133/133 [00:00<00:00, 437.04it/s]\n"
     ]
    },
    {
     "name": "stdout",
     "output_type": "stream",
     "text": [
      "OK!\n",
      "Pre-processing...\n"
     ]
    },
    {
     "name": "stderr",
     "output_type": "stream",
     "text": [
      "\u001b[39mINFO\u001b[0m - Performing evaluation on metrics chosen\n"
     ]
    },
    {
     "name": "stdout",
     "output_type": "stream",
     "text": [
      "OK!\n",
      "Accuracy metrics...\n"
     ]
    },
    {
     "name": "stderr",
     "output_type": "stream",
     "text": [
      "Performing NDCG@20:  80%|████████  | 4/5 [00:00<00:00]          C:\\Users\\ctreuill.BIDOUILLE\\AppData\\Roaming\\Python\\Python39\\site-packages\\clayrs\\evaluation\\metrics\\ranking_metrics.py:205: RuntimeWarning: invalid value encountered in double_scalars\n",
      "  return actual / ideal\n",
      "Performing NDCG@20:  100%|██████████| 5/5 [00:00<00:00]\n"
     ]
    },
    {
     "name": "stdout",
     "output_type": "stream",
     "text": [
      "OK!\n",
      "ILS...\n"
     ]
    },
    {
     "name": "stderr",
     "output_type": "stream",
     "text": [
      "100%|██████████| 525/525 [00:02<00:00, 257.73it/s]\n"
     ]
    },
    {
     "name": "stdout",
     "output_type": "stream",
     "text": [
      "OK!\n",
      "alpha NDCG\n"
     ]
    },
    {
     "name": "stderr",
     "output_type": "stream",
     "text": [
      "100%|██████████| 525/525 [00:00<00:00, 1506.14it/s]\n"
     ]
    },
    {
     "name": "stdout",
     "output_type": "stream",
     "text": [
      "OK!\n",
      "NDCG IA\n"
     ]
    },
    {
     "name": "stderr",
     "output_type": "stream",
     "text": [
      "100%|██████████| 525/525 [00:00<00:00, 1380.43it/s]\n"
     ]
    },
    {
     "name": "stdout",
     "output_type": "stream",
     "text": [
      "OK!\n",
      "S-Recall\n"
     ]
    },
    {
     "name": "stderr",
     "output_type": "stream",
     "text": [
      "100%|██████████| 525/525 [00:00<00:00, 4334.91it/s]\n"
     ]
    },
    {
     "name": "stdout",
     "output_type": "stream",
     "text": [
      "OK!\n",
      "Calibration KL\n"
     ]
    },
    {
     "name": "stderr",
     "output_type": "stream",
     "text": [
      "100%|██████████| 525/525 [00:01<00:00, 497.13it/s]\n"
     ]
    },
    {
     "name": "stdout",
     "output_type": "stream",
     "text": [
      "OK!\n",
      "Calibration Hellinger\n"
     ]
    },
    {
     "name": "stderr",
     "output_type": "stream",
     "text": [
      "100%|██████████| 525/525 [00:01<00:00, 472.34it/s]\n"
     ]
    },
    {
     "name": "stdout",
     "output_type": "stream",
     "text": [
      "OK!\n",
      "Pre-processing...\n"
     ]
    },
    {
     "name": "stderr",
     "output_type": "stream",
     "text": [
      "\u001b[39mINFO\u001b[0m - Performing evaluation on metrics chosen\n"
     ]
    },
    {
     "name": "stdout",
     "output_type": "stream",
     "text": [
      "OK!\n",
      "Accuracy metrics...\n"
     ]
    },
    {
     "name": "stderr",
     "output_type": "stream",
     "text": [
      "Performing NDCG@20:  80%|████████  | 4/5 [00:01<00:00]             C:\\Users\\ctreuill.BIDOUILLE\\AppData\\Roaming\\Python\\Python39\\site-packages\\clayrs\\evaluation\\metrics\\ranking_metrics.py:205: RuntimeWarning: invalid value encountered in double_scalars\n",
      "  return actual / ideal\n",
      "Performing NDCG@20:  100%|██████████| 5/5 [00:01<00:00]\n"
     ]
    },
    {
     "name": "stdout",
     "output_type": "stream",
     "text": [
      "OK!\n",
      "ILS...\n"
     ]
    },
    {
     "name": "stderr",
     "output_type": "stream",
     "text": [
      "100%|██████████| 1964/1964 [00:07<00:00, 279.99it/s]\n"
     ]
    },
    {
     "name": "stdout",
     "output_type": "stream",
     "text": [
      "OK!\n",
      "alpha NDCG\n"
     ]
    },
    {
     "name": "stderr",
     "output_type": "stream",
     "text": [
      "100%|██████████| 1964/1964 [00:01<00:00, 1773.98it/s]\n"
     ]
    },
    {
     "name": "stdout",
     "output_type": "stream",
     "text": [
      "OK!\n",
      "NDCG IA\n"
     ]
    },
    {
     "name": "stderr",
     "output_type": "stream",
     "text": [
      "100%|██████████| 1964/1964 [00:01<00:00, 1249.90it/s]\n"
     ]
    },
    {
     "name": "stdout",
     "output_type": "stream",
     "text": [
      "OK!\n",
      "S-Recall\n"
     ]
    },
    {
     "name": "stderr",
     "output_type": "stream",
     "text": [
      "100%|██████████| 1964/1964 [00:00<00:00, 3763.02it/s]\n"
     ]
    },
    {
     "name": "stdout",
     "output_type": "stream",
     "text": [
      "OK!\n",
      "Calibration KL\n"
     ]
    },
    {
     "name": "stderr",
     "output_type": "stream",
     "text": [
      "100%|██████████| 1964/1964 [00:03<00:00, 492.55it/s]\n"
     ]
    },
    {
     "name": "stdout",
     "output_type": "stream",
     "text": [
      "OK!\n",
      "Calibration Hellinger\n"
     ]
    },
    {
     "name": "stderr",
     "output_type": "stream",
     "text": [
      "100%|██████████| 1964/1964 [00:04<00:00, 466.76it/s]\n"
     ]
    },
    {
     "name": "stdout",
     "output_type": "stream",
     "text": [
      "OK!\n",
      "Pre-processing...\n"
     ]
    },
    {
     "name": "stderr",
     "output_type": "stream",
     "text": [
      "\u001b[39mINFO\u001b[0m - Performing evaluation on metrics chosen\n"
     ]
    },
    {
     "name": "stdout",
     "output_type": "stream",
     "text": [
      "OK!\n",
      "Accuracy metrics...\n"
     ]
    },
    {
     "name": "stderr",
     "output_type": "stream",
     "text": [
      "Performing NDCG@20:  80%|████████  | 4/5 [00:07<00:01]             C:\\Users\\ctreuill.BIDOUILLE\\AppData\\Roaming\\Python\\Python39\\site-packages\\clayrs\\evaluation\\metrics\\ranking_metrics.py:205: RuntimeWarning: invalid value encountered in double_scalars\n",
      "  return actual / ideal\n",
      "Performing NDCG@20:  100%|██████████| 5/5 [00:09<00:00]\n"
     ]
    },
    {
     "name": "stdout",
     "output_type": "stream",
     "text": [
      "OK!\n",
      "ILS...\n"
     ]
    },
    {
     "name": "stderr",
     "output_type": "stream",
     "text": [
      "100%|██████████| 4250/4250 [00:15<00:00, 276.68it/s]\n"
     ]
    },
    {
     "name": "stdout",
     "output_type": "stream",
     "text": [
      "OK!\n",
      "alpha NDCG\n"
     ]
    },
    {
     "name": "stderr",
     "output_type": "stream",
     "text": [
      "100%|██████████| 4250/4250 [00:02<00:00, 1618.85it/s]\n"
     ]
    },
    {
     "name": "stdout",
     "output_type": "stream",
     "text": [
      "OK!\n",
      "NDCG IA\n"
     ]
    },
    {
     "name": "stderr",
     "output_type": "stream",
     "text": [
      "100%|██████████| 4250/4250 [00:03<00:00, 1212.37it/s]\n"
     ]
    },
    {
     "name": "stdout",
     "output_type": "stream",
     "text": [
      "OK!\n",
      "S-Recall\n"
     ]
    },
    {
     "name": "stderr",
     "output_type": "stream",
     "text": [
      "100%|██████████| 4250/4250 [00:01<00:00, 3364.76it/s]\n"
     ]
    },
    {
     "name": "stdout",
     "output_type": "stream",
     "text": [
      "OK!\n",
      "Calibration KL\n"
     ]
    },
    {
     "name": "stderr",
     "output_type": "stream",
     "text": [
      "100%|██████████| 4250/4250 [00:09<00:00, 460.60it/s]\n"
     ]
    },
    {
     "name": "stdout",
     "output_type": "stream",
     "text": [
      "OK!\n",
      "Calibration Hellinger\n"
     ]
    },
    {
     "name": "stderr",
     "output_type": "stream",
     "text": [
      "100%|██████████| 4250/4250 [00:09<00:00, 467.11it/s]\n"
     ]
    },
    {
     "name": "stdout",
     "output_type": "stream",
     "text": [
      "OK!\n",
      "Pre-processing...\n"
     ]
    },
    {
     "name": "stderr",
     "output_type": "stream",
     "text": [
      "\u001b[39mINFO\u001b[0m - Performing evaluation on metrics chosen\n"
     ]
    },
    {
     "name": "stdout",
     "output_type": "stream",
     "text": [
      "OK!\n",
      "Accuracy metrics...\n"
     ]
    },
    {
     "name": "stderr",
     "output_type": "stream",
     "text": [
      "Performing NDCG@20:  80%|████████  | 4/5 [00:04<00:01]             C:\\Users\\ctreuill.BIDOUILLE\\AppData\\Roaming\\Python\\Python39\\site-packages\\clayrs\\evaluation\\metrics\\ranking_metrics.py:205: RuntimeWarning: invalid value encountered in double_scalars\n",
      "  return actual / ideal\n",
      "Performing NDCG@20:  100%|██████████| 5/5 [00:05<00:00]\n"
     ]
    },
    {
     "name": "stdout",
     "output_type": "stream",
     "text": [
      "OK!\n",
      "ILS...\n"
     ]
    },
    {
     "name": "stderr",
     "output_type": "stream",
     "text": [
      "100%|██████████| 2894/2894 [00:10<00:00, 265.67it/s]\n"
     ]
    },
    {
     "name": "stdout",
     "output_type": "stream",
     "text": [
      "OK!\n",
      "alpha NDCG\n"
     ]
    },
    {
     "name": "stderr",
     "output_type": "stream",
     "text": [
      "100%|██████████| 2894/2894 [00:01<00:00, 1611.43it/s]\n"
     ]
    },
    {
     "name": "stdout",
     "output_type": "stream",
     "text": [
      "OK!\n",
      "NDCG IA\n"
     ]
    },
    {
     "name": "stderr",
     "output_type": "stream",
     "text": [
      "100%|██████████| 2894/2894 [00:02<00:00, 1223.90it/s]\n"
     ]
    },
    {
     "name": "stdout",
     "output_type": "stream",
     "text": [
      "OK!\n",
      "S-Recall\n"
     ]
    },
    {
     "name": "stderr",
     "output_type": "stream",
     "text": [
      "100%|██████████| 2894/2894 [00:00<00:00, 3536.63it/s]\n"
     ]
    },
    {
     "name": "stdout",
     "output_type": "stream",
     "text": [
      "OK!\n",
      "Calibration KL\n"
     ]
    },
    {
     "name": "stderr",
     "output_type": "stream",
     "text": [
      "100%|██████████| 2894/2894 [00:06<00:00, 465.93it/s]\n"
     ]
    },
    {
     "name": "stdout",
     "output_type": "stream",
     "text": [
      "OK!\n",
      "Calibration Hellinger\n"
     ]
    },
    {
     "name": "stderr",
     "output_type": "stream",
     "text": [
      "100%|██████████| 2894/2894 [00:06<00:00, 457.49it/s]\n",
      "\u001b[39mINFO\u001b[0m - Performing evaluation on metrics chosen\n"
     ]
    },
    {
     "name": "stdout",
     "output_type": "stream",
     "text": [
      "OK!\n",
      "Pre-processing...\n",
      "OK!\n",
      "Accuracy metrics...\n"
     ]
    },
    {
     "name": "stderr",
     "output_type": "stream",
     "text": [
      "Performing NDCG@20:  0%|          | 0/5 [00:00<?]             C:\\Users\\ctreuill.BIDOUILLE\\AppData\\Roaming\\Python\\Python39\\site-packages\\clayrs\\evaluation\\metrics\\ranking_metrics.py:205: RuntimeWarning: invalid value encountered in double_scalars\n",
      "  return actual / ideal\n",
      "Performing NDCG@20:  100%|██████████| 5/5 [00:00<00:00]\n"
     ]
    },
    {
     "name": "stdout",
     "output_type": "stream",
     "text": [
      "OK!\n",
      "ILS...\n"
     ]
    },
    {
     "name": "stderr",
     "output_type": "stream",
     "text": [
      "100%|██████████| 207/207 [00:00<00:00, 262.66it/s]\n"
     ]
    },
    {
     "name": "stdout",
     "output_type": "stream",
     "text": [
      "OK!\n",
      "alpha NDCG\n"
     ]
    },
    {
     "name": "stderr",
     "output_type": "stream",
     "text": [
      "100%|██████████| 207/207 [00:00<00:00, 1780.87it/s]\n"
     ]
    },
    {
     "name": "stdout",
     "output_type": "stream",
     "text": [
      "OK!\n",
      "NDCG IA\n"
     ]
    },
    {
     "name": "stderr",
     "output_type": "stream",
     "text": [
      "100%|██████████| 207/207 [00:00<00:00, 1237.88it/s]\n"
     ]
    },
    {
     "name": "stdout",
     "output_type": "stream",
     "text": [
      "OK!\n",
      "S-Recall\n"
     ]
    },
    {
     "name": "stderr",
     "output_type": "stream",
     "text": [
      "100%|██████████| 207/207 [00:00<00:00, 3914.63it/s]\n"
     ]
    },
    {
     "name": "stdout",
     "output_type": "stream",
     "text": [
      "OK!\n",
      "Calibration KL\n"
     ]
    },
    {
     "name": "stderr",
     "output_type": "stream",
     "text": [
      "100%|██████████| 207/207 [00:00<00:00, 482.63it/s]\n"
     ]
    },
    {
     "name": "stdout",
     "output_type": "stream",
     "text": [
      "OK!\n",
      "Calibration Hellinger\n"
     ]
    },
    {
     "name": "stderr",
     "output_type": "stream",
     "text": [
      "100%|██████████| 207/207 [00:00<00:00, 424.01it/s]\n",
      "\u001b[39mINFO\u001b[0m - Performing evaluation on metrics chosen\n"
     ]
    },
    {
     "name": "stdout",
     "output_type": "stream",
     "text": [
      "OK!\n",
      "Pre-processing...\n",
      "OK!\n",
      "Accuracy metrics...\n"
     ]
    },
    {
     "name": "stderr",
     "output_type": "stream",
     "text": [
      "Performing NDCG@20:  100%|██████████| 5/5 [00:00<00:00]       \n"
     ]
    },
    {
     "name": "stdout",
     "output_type": "stream",
     "text": [
      "OK!\n",
      "ILS...\n"
     ]
    },
    {
     "name": "stderr",
     "output_type": "stream",
     "text": [
      "100%|██████████| 3/3 [00:00<00:00, 273.48it/s]\n"
     ]
    },
    {
     "name": "stdout",
     "output_type": "stream",
     "text": [
      "OK!\n",
      "alpha NDCG\n"
     ]
    },
    {
     "name": "stderr",
     "output_type": "stream",
     "text": [
      "100%|██████████| 3/3 [00:00<00:00, 1496.54it/s]\n"
     ]
    },
    {
     "name": "stdout",
     "output_type": "stream",
     "text": [
      "OK!\n",
      "NDCG IA\n"
     ]
    },
    {
     "name": "stderr",
     "output_type": "stream",
     "text": [
      "100%|██████████| 3/3 [00:00<00:00, 1003.58it/s]\n"
     ]
    },
    {
     "name": "stdout",
     "output_type": "stream",
     "text": [
      "OK!\n",
      "S-Recall\n"
     ]
    },
    {
     "name": "stderr",
     "output_type": "stream",
     "text": [
      "100%|██████████| 3/3 [00:00<00:00, 3014.59it/s]\n"
     ]
    },
    {
     "name": "stdout",
     "output_type": "stream",
     "text": [
      "OK!\n",
      "Calibration KL\n"
     ]
    },
    {
     "name": "stderr",
     "output_type": "stream",
     "text": [
      "100%|██████████| 3/3 [00:00<00:00, 343.35it/s]\n"
     ]
    },
    {
     "name": "stdout",
     "output_type": "stream",
     "text": [
      "OK!\n",
      "Calibration Hellinger\n"
     ]
    },
    {
     "name": "stderr",
     "output_type": "stream",
     "text": [
      "100%|██████████| 3/3 [00:00<00:00, 301.06it/s]\n",
      "\u001b[39mINFO\u001b[0m - Performing evaluation on metrics chosen\n"
     ]
    },
    {
     "name": "stdout",
     "output_type": "stream",
     "text": [
      "OK!\n",
      "Pre-processing...\n",
      "OK!\n",
      "Accuracy metrics...\n"
     ]
    },
    {
     "name": "stderr",
     "output_type": "stream",
     "text": [
      "Performing NDCG@20:  0%|          | 0/5 [00:00<?]             C:\\Users\\ctreuill.BIDOUILLE\\AppData\\Roaming\\Python\\Python39\\site-packages\\clayrs\\evaluation\\metrics\\ranking_metrics.py:205: RuntimeWarning: invalid value encountered in double_scalars\n",
      "  return actual / ideal\n",
      "Performing NDCG@20:  100%|██████████| 5/5 [00:00<00:00]\n"
     ]
    },
    {
     "name": "stdout",
     "output_type": "stream",
     "text": [
      "OK!\n",
      "ILS...\n"
     ]
    },
    {
     "name": "stderr",
     "output_type": "stream",
     "text": [
      "100%|██████████| 24/24 [00:00<00:00, 160.94it/s]\n"
     ]
    },
    {
     "name": "stdout",
     "output_type": "stream",
     "text": [
      "OK!\n",
      "alpha NDCG\n"
     ]
    },
    {
     "name": "stderr",
     "output_type": "stream",
     "text": [
      "100%|██████████| 24/24 [00:00<00:00, 1416.44it/s]\n"
     ]
    },
    {
     "name": "stdout",
     "output_type": "stream",
     "text": [
      "OK!\n",
      "NDCG IA\n"
     ]
    },
    {
     "name": "stderr",
     "output_type": "stream",
     "text": [
      "100%|██████████| 24/24 [00:00<00:00, 963.29it/s]\n"
     ]
    },
    {
     "name": "stdout",
     "output_type": "stream",
     "text": [
      "OK!\n",
      "S-Recall\n"
     ]
    },
    {
     "name": "stderr",
     "output_type": "stream",
     "text": [
      "100%|██████████| 24/24 [00:00<00:00, 2012.98it/s]\n"
     ]
    },
    {
     "name": "stdout",
     "output_type": "stream",
     "text": [
      "OK!\n",
      "Calibration KL\n"
     ]
    },
    {
     "name": "stderr",
     "output_type": "stream",
     "text": [
      "100%|██████████| 24/24 [00:00<00:00, 346.33it/s]\n"
     ]
    },
    {
     "name": "stdout",
     "output_type": "stream",
     "text": [
      "OK!\n",
      "Calibration Hellinger\n"
     ]
    },
    {
     "name": "stderr",
     "output_type": "stream",
     "text": [
      "100%|██████████| 24/24 [00:00<00:00, 355.62it/s]\n"
     ]
    },
    {
     "name": "stdout",
     "output_type": "stream",
     "text": [
      "OK!\n",
      "Pre-processing...\n"
     ]
    },
    {
     "name": "stderr",
     "output_type": "stream",
     "text": [
      "\u001b[39mINFO\u001b[0m - Performing evaluation on metrics chosen\n"
     ]
    },
    {
     "name": "stdout",
     "output_type": "stream",
     "text": [
      "OK!\n",
      "Accuracy metrics...\n"
     ]
    },
    {
     "name": "stderr",
     "output_type": "stream",
     "text": [
      "Performing NDCG@20:  0%|          | 0/5 [00:00<?]             C:\\Users\\ctreuill.BIDOUILLE\\AppData\\Roaming\\Python\\Python39\\site-packages\\clayrs\\evaluation\\metrics\\ranking_metrics.py:205: RuntimeWarning: invalid value encountered in double_scalars\n",
      "  return actual / ideal\n",
      "Performing NDCG@20:  100%|██████████| 5/5 [00:00<00:00]\n"
     ]
    },
    {
     "name": "stdout",
     "output_type": "stream",
     "text": [
      "OK!\n",
      "ILS...\n"
     ]
    },
    {
     "name": "stderr",
     "output_type": "stream",
     "text": [
      "100%|██████████| 133/133 [00:00<00:00, 274.43it/s]\n"
     ]
    },
    {
     "name": "stdout",
     "output_type": "stream",
     "text": [
      "OK!\n",
      "alpha NDCG\n"
     ]
    },
    {
     "name": "stderr",
     "output_type": "stream",
     "text": [
      "100%|██████████| 133/133 [00:00<00:00, 1595.25it/s]\n"
     ]
    },
    {
     "name": "stdout",
     "output_type": "stream",
     "text": [
      "OK!\n",
      "NDCG IA\n"
     ]
    },
    {
     "name": "stderr",
     "output_type": "stream",
     "text": [
      "100%|██████████| 133/133 [00:00<00:00, 1231.56it/s]\n"
     ]
    },
    {
     "name": "stdout",
     "output_type": "stream",
     "text": [
      "OK!\n",
      "S-Recall\n"
     ]
    },
    {
     "name": "stderr",
     "output_type": "stream",
     "text": [
      "100%|██████████| 133/133 [00:00<00:00, 3385.25it/s]\n"
     ]
    },
    {
     "name": "stdout",
     "output_type": "stream",
     "text": [
      "OK!\n",
      "Calibration KL\n"
     ]
    },
    {
     "name": "stderr",
     "output_type": "stream",
     "text": [
      "100%|██████████| 133/133 [00:00<00:00, 404.84it/s]\n"
     ]
    },
    {
     "name": "stdout",
     "output_type": "stream",
     "text": [
      "OK!\n",
      "Calibration Hellinger\n"
     ]
    },
    {
     "name": "stderr",
     "output_type": "stream",
     "text": [
      "100%|██████████| 133/133 [00:00<00:00, 454.18it/s]\n"
     ]
    },
    {
     "name": "stdout",
     "output_type": "stream",
     "text": [
      "OK!\n",
      "Pre-processing...\n"
     ]
    },
    {
     "name": "stderr",
     "output_type": "stream",
     "text": [
      "\u001b[39mINFO\u001b[0m - Performing evaluation on metrics chosen\n"
     ]
    },
    {
     "name": "stdout",
     "output_type": "stream",
     "text": [
      "OK!\n",
      "Accuracy metrics...\n"
     ]
    },
    {
     "name": "stderr",
     "output_type": "stream",
     "text": [
      "Performing NDCG@20:  80%|████████  | 4/5 [00:00<00:00]          C:\\Users\\ctreuill.BIDOUILLE\\AppData\\Roaming\\Python\\Python39\\site-packages\\clayrs\\evaluation\\metrics\\ranking_metrics.py:205: RuntimeWarning: invalid value encountered in double_scalars\n",
      "  return actual / ideal\n",
      "Performing NDCG@20:  100%|██████████| 5/5 [00:00<00:00]\n"
     ]
    },
    {
     "name": "stdout",
     "output_type": "stream",
     "text": [
      "OK!\n",
      "ILS...\n"
     ]
    },
    {
     "name": "stderr",
     "output_type": "stream",
     "text": [
      "100%|██████████| 525/525 [00:01<00:00, 287.18it/s]\n"
     ]
    },
    {
     "name": "stdout",
     "output_type": "stream",
     "text": [
      "OK!\n",
      "alpha NDCG\n"
     ]
    },
    {
     "name": "stderr",
     "output_type": "stream",
     "text": [
      "100%|██████████| 525/525 [00:00<00:00, 1895.70it/s]\n"
     ]
    },
    {
     "name": "stdout",
     "output_type": "stream",
     "text": [
      "OK!\n",
      "NDCG IA\n"
     ]
    },
    {
     "name": "stderr",
     "output_type": "stream",
     "text": [
      "100%|██████████| 525/525 [00:00<00:00, 1198.36it/s]\n"
     ]
    },
    {
     "name": "stdout",
     "output_type": "stream",
     "text": [
      "OK!\n",
      "S-Recall\n"
     ]
    },
    {
     "name": "stderr",
     "output_type": "stream",
     "text": [
      "100%|██████████| 525/525 [00:00<00:00, 3358.38it/s]\n"
     ]
    },
    {
     "name": "stdout",
     "output_type": "stream",
     "text": [
      "OK!\n",
      "Calibration KL\n"
     ]
    },
    {
     "name": "stderr",
     "output_type": "stream",
     "text": [
      "100%|██████████| 525/525 [00:01<00:00, 462.75it/s]\n"
     ]
    },
    {
     "name": "stdout",
     "output_type": "stream",
     "text": [
      "OK!\n",
      "Calibration Hellinger\n"
     ]
    },
    {
     "name": "stderr",
     "output_type": "stream",
     "text": [
      "100%|██████████| 525/525 [00:01<00:00, 492.93it/s]\n"
     ]
    },
    {
     "name": "stdout",
     "output_type": "stream",
     "text": [
      "OK!\n",
      "Pre-processing...\n"
     ]
    },
    {
     "name": "stderr",
     "output_type": "stream",
     "text": [
      "\u001b[39mINFO\u001b[0m - Performing evaluation on metrics chosen\n"
     ]
    },
    {
     "name": "stdout",
     "output_type": "stream",
     "text": [
      "OK!\n",
      "Accuracy metrics...\n"
     ]
    },
    {
     "name": "stderr",
     "output_type": "stream",
     "text": [
      "Performing NDCG@20:  80%|████████  | 4/5 [00:01<00:00]             C:\\Users\\ctreuill.BIDOUILLE\\AppData\\Roaming\\Python\\Python39\\site-packages\\clayrs\\evaluation\\metrics\\ranking_metrics.py:205: RuntimeWarning: invalid value encountered in double_scalars\n",
      "  return actual / ideal\n",
      "Performing NDCG@20:  100%|██████████| 5/5 [00:01<00:00]\n"
     ]
    },
    {
     "name": "stdout",
     "output_type": "stream",
     "text": [
      "OK!\n",
      "ILS...\n"
     ]
    },
    {
     "name": "stderr",
     "output_type": "stream",
     "text": [
      "100%|██████████| 1964/1964 [00:06<00:00, 283.75it/s]\n"
     ]
    },
    {
     "name": "stdout",
     "output_type": "stream",
     "text": [
      "OK!\n",
      "alpha NDCG\n"
     ]
    },
    {
     "name": "stderr",
     "output_type": "stream",
     "text": [
      "100%|██████████| 1964/1964 [00:01<00:00, 1778.53it/s]\n"
     ]
    },
    {
     "name": "stdout",
     "output_type": "stream",
     "text": [
      "OK!\n",
      "NDCG IA\n"
     ]
    },
    {
     "name": "stderr",
     "output_type": "stream",
     "text": [
      "100%|██████████| 1964/1964 [00:01<00:00, 1352.71it/s]\n"
     ]
    },
    {
     "name": "stdout",
     "output_type": "stream",
     "text": [
      "OK!\n",
      "S-Recall\n"
     ]
    },
    {
     "name": "stderr",
     "output_type": "stream",
     "text": [
      "100%|██████████| 1964/1964 [00:00<00:00, 3916.58it/s]\n"
     ]
    },
    {
     "name": "stdout",
     "output_type": "stream",
     "text": [
      "OK!\n",
      "Calibration KL\n"
     ]
    },
    {
     "name": "stderr",
     "output_type": "stream",
     "text": [
      "100%|██████████| 1964/1964 [00:04<00:00, 462.36it/s]\n"
     ]
    },
    {
     "name": "stdout",
     "output_type": "stream",
     "text": [
      "OK!\n",
      "Calibration Hellinger\n"
     ]
    },
    {
     "name": "stderr",
     "output_type": "stream",
     "text": [
      "100%|██████████| 1964/1964 [00:04<00:00, 467.23it/s]\n"
     ]
    },
    {
     "name": "stdout",
     "output_type": "stream",
     "text": [
      "OK!\n",
      "Pre-processing...\n"
     ]
    },
    {
     "name": "stderr",
     "output_type": "stream",
     "text": [
      "\u001b[39mINFO\u001b[0m - Performing evaluation on metrics chosen\n"
     ]
    },
    {
     "name": "stdout",
     "output_type": "stream",
     "text": [
      "OK!\n",
      "Accuracy metrics...\n"
     ]
    },
    {
     "name": "stderr",
     "output_type": "stream",
     "text": [
      "Performing NDCG@20:  80%|████████  | 4/5 [00:07<00:01]             C:\\Users\\ctreuill.BIDOUILLE\\AppData\\Roaming\\Python\\Python39\\site-packages\\clayrs\\evaluation\\metrics\\ranking_metrics.py:205: RuntimeWarning: invalid value encountered in double_scalars\n",
      "  return actual / ideal\n",
      "Performing NDCG@20:  100%|██████████| 5/5 [00:09<00:00]\n"
     ]
    },
    {
     "name": "stdout",
     "output_type": "stream",
     "text": [
      "OK!\n",
      "ILS...\n"
     ]
    },
    {
     "name": "stderr",
     "output_type": "stream",
     "text": [
      "100%|██████████| 4250/4250 [00:15<00:00, 276.39it/s]\n"
     ]
    },
    {
     "name": "stdout",
     "output_type": "stream",
     "text": [
      "OK!\n",
      "alpha NDCG\n"
     ]
    },
    {
     "name": "stderr",
     "output_type": "stream",
     "text": [
      "100%|██████████| 4250/4250 [00:02<00:00, 1598.32it/s]\n"
     ]
    },
    {
     "name": "stdout",
     "output_type": "stream",
     "text": [
      "OK!\n",
      "NDCG IA\n"
     ]
    },
    {
     "name": "stderr",
     "output_type": "stream",
     "text": [
      "100%|██████████| 4250/4250 [00:03<00:00, 1201.96it/s]\n"
     ]
    },
    {
     "name": "stdout",
     "output_type": "stream",
     "text": [
      "OK!\n",
      "S-Recall\n"
     ]
    },
    {
     "name": "stderr",
     "output_type": "stream",
     "text": [
      "100%|██████████| 4250/4250 [00:01<00:00, 3319.40it/s]\n"
     ]
    },
    {
     "name": "stdout",
     "output_type": "stream",
     "text": [
      "OK!\n",
      "Calibration KL\n"
     ]
    },
    {
     "name": "stderr",
     "output_type": "stream",
     "text": [
      "100%|██████████| 4250/4250 [00:09<00:00, 466.99it/s]\n"
     ]
    },
    {
     "name": "stdout",
     "output_type": "stream",
     "text": [
      "OK!\n",
      "Calibration Hellinger\n"
     ]
    },
    {
     "name": "stderr",
     "output_type": "stream",
     "text": [
      "100%|██████████| 4250/4250 [00:09<00:00, 468.47it/s]\n"
     ]
    },
    {
     "name": "stdout",
     "output_type": "stream",
     "text": [
      "OK!\n",
      "Pre-processing...\n"
     ]
    },
    {
     "name": "stderr",
     "output_type": "stream",
     "text": [
      "\u001b[39mINFO\u001b[0m - Performing evaluation on metrics chosen\n"
     ]
    },
    {
     "name": "stdout",
     "output_type": "stream",
     "text": [
      "OK!\n",
      "Accuracy metrics...\n"
     ]
    },
    {
     "name": "stderr",
     "output_type": "stream",
     "text": [
      "Performing NDCG@20:  80%|████████  | 4/5 [00:03<00:00]             C:\\Users\\ctreuill.BIDOUILLE\\AppData\\Roaming\\Python\\Python39\\site-packages\\clayrs\\evaluation\\metrics\\ranking_metrics.py:205: RuntimeWarning: invalid value encountered in double_scalars\n",
      "  return actual / ideal\n",
      "Performing NDCG@20:  100%|██████████| 5/5 [00:04<00:00]\n"
     ]
    },
    {
     "name": "stdout",
     "output_type": "stream",
     "text": [
      "OK!\n",
      "ILS...\n"
     ]
    },
    {
     "name": "stderr",
     "output_type": "stream",
     "text": [
      "100%|██████████| 2894/2894 [00:10<00:00, 276.31it/s]\n"
     ]
    },
    {
     "name": "stdout",
     "output_type": "stream",
     "text": [
      "OK!\n",
      "alpha NDCG\n"
     ]
    },
    {
     "name": "stderr",
     "output_type": "stream",
     "text": [
      "100%|██████████| 2894/2894 [00:01<00:00, 1670.56it/s]\n"
     ]
    },
    {
     "name": "stdout",
     "output_type": "stream",
     "text": [
      "OK!\n",
      "NDCG IA\n"
     ]
    },
    {
     "name": "stderr",
     "output_type": "stream",
     "text": [
      "100%|██████████| 2894/2894 [00:02<00:00, 1222.47it/s]\n"
     ]
    },
    {
     "name": "stdout",
     "output_type": "stream",
     "text": [
      "OK!\n",
      "S-Recall\n"
     ]
    },
    {
     "name": "stderr",
     "output_type": "stream",
     "text": [
      "100%|██████████| 2894/2894 [00:00<00:00, 3705.71it/s]\n"
     ]
    },
    {
     "name": "stdout",
     "output_type": "stream",
     "text": [
      "OK!\n",
      "Calibration KL\n"
     ]
    },
    {
     "name": "stderr",
     "output_type": "stream",
     "text": [
      "100%|██████████| 2894/2894 [00:06<00:00, 472.35it/s]\n"
     ]
    },
    {
     "name": "stdout",
     "output_type": "stream",
     "text": [
      "OK!\n",
      "Calibration Hellinger\n"
     ]
    },
    {
     "name": "stderr",
     "output_type": "stream",
     "text": [
      "100%|██████████| 2894/2894 [00:06<00:00, 466.89it/s]\n",
      "\u001b[39mINFO\u001b[0m - Performing evaluation on metrics chosen\n"
     ]
    },
    {
     "name": "stdout",
     "output_type": "stream",
     "text": [
      "OK!\n",
      "Pre-processing...\n",
      "OK!\n",
      "Accuracy metrics...\n"
     ]
    },
    {
     "name": "stderr",
     "output_type": "stream",
     "text": [
      "Performing NDCG@20:  0%|          | 0/5 [00:00<?]             C:\\Users\\ctreuill.BIDOUILLE\\AppData\\Roaming\\Python\\Python39\\site-packages\\clayrs\\evaluation\\metrics\\ranking_metrics.py:205: RuntimeWarning: invalid value encountered in double_scalars\n",
      "  return actual / ideal\n",
      "Performing NDCG@20:  100%|██████████| 5/5 [00:00<00:00]\n"
     ]
    },
    {
     "name": "stdout",
     "output_type": "stream",
     "text": [
      "OK!\n",
      "ILS...\n"
     ]
    },
    {
     "name": "stderr",
     "output_type": "stream",
     "text": [
      "100%|██████████| 207/207 [00:00<00:00, 270.33it/s]\n"
     ]
    },
    {
     "name": "stdout",
     "output_type": "stream",
     "text": [
      "OK!\n",
      "alpha NDCG\n"
     ]
    },
    {
     "name": "stderr",
     "output_type": "stream",
     "text": [
      "100%|██████████| 207/207 [00:00<00:00, 1089.49it/s]\n"
     ]
    },
    {
     "name": "stdout",
     "output_type": "stream",
     "text": [
      "OK!\n",
      "NDCG IA\n"
     ]
    },
    {
     "name": "stderr",
     "output_type": "stream",
     "text": [
      "100%|██████████| 207/207 [00:00<00:00, 1079.49it/s]\n"
     ]
    },
    {
     "name": "stdout",
     "output_type": "stream",
     "text": [
      "OK!\n",
      "S-Recall\n"
     ]
    },
    {
     "name": "stderr",
     "output_type": "stream",
     "text": [
      "100%|██████████| 207/207 [00:00<00:00, 3877.41it/s]\n"
     ]
    },
    {
     "name": "stdout",
     "output_type": "stream",
     "text": [
      "OK!\n",
      "Calibration KL\n"
     ]
    },
    {
     "name": "stderr",
     "output_type": "stream",
     "text": [
      "100%|██████████| 207/207 [00:00<00:00, 448.32it/s]\n"
     ]
    },
    {
     "name": "stdout",
     "output_type": "stream",
     "text": [
      "OK!\n",
      "Calibration Hellinger\n"
     ]
    },
    {
     "name": "stderr",
     "output_type": "stream",
     "text": [
      "100%|██████████| 207/207 [00:00<00:00, 477.96it/s]"
     ]
    },
    {
     "name": "stdout",
     "output_type": "stream",
     "text": [
      "OK!\n"
     ]
    },
    {
     "name": "stderr",
     "output_type": "stream",
     "text": [
      "\n"
     ]
    }
   ],
   "source": [
    "eval_cluster_a0, eval_indiv_cluster_a0 = evaluation_clusters(clusters, results_a_0_k20, test_set, users_interest, similarity_matrix, categories_list, 'a_0_k20', k=20)\n",
    "eval_cluster_a01, eval_indiv_cluster_a01 = evaluation_clusters(clusters, results_a_01_k20, test_set, users_interest, similarity_matrix, categories_list, 'a_01_k20', k=20)\n",
    "eval_cluster_a02, eval_indiv_cluster_a02 = evaluation_clusters(clusters, results_a_02_k20, test_set, users_interest, similarity_matrix, categories_list, 'a_02_k20', k=20)\n",
    "eval_cluster_a03, eval_indiv_cluster_a03 = evaluation_clusters(clusters, results_a_03_k20, test_set, users_interest, similarity_matrix, categories_list, 'a_03_k20', k=20)\n",
    "eval_cluster_a04, eval_indiv_cluster_a04 = evaluation_clusters(clusters, results_a_04_k20, test_set, users_interest, similarity_matrix, categories_list, 'a_04_k20', k=20)\n",
    "eval_cluster_a05, eval_indiv_cluster_a05 = evaluation_clusters(clusters, results_a_05_k20, test_set, users_interest, similarity_matrix, categories_list, 'a_05_k20', k=20)\n",
    "eval_cluster_a06, eval_indiv_cluster_a06 = evaluation_clusters(clusters, results_a_06_k20, test_set, users_interest, similarity_matrix, categories_list, 'a_06_k20', k=20)\n",
    "eval_cluster_a07, eval_indiv_cluster_a07 = evaluation_clusters(clusters, results_a_07_k20, test_set, users_interest, similarity_matrix, categories_list, 'a_07_k20', k=20)\n",
    "eval_cluster_a08, eval_indiv_cluster_a08 = evaluation_clusters(clusters, results_a_08_k20, test_set, users_interest, similarity_matrix, categories_list, 'a_08_k20', k=20)\n",
    "eval_cluster_a09, eval_indiv_cluster_a09 = evaluation_clusters(clusters, results_a_09_k20, test_set, users_interest, similarity_matrix, categories_list, 'a_09_k20', k=20)\n",
    "eval_cluster_a1, eval_indiv_cluster_a1 = evaluation_clusters(clusters, results_a_1_k20, test_set, users_interest, similarity_matrix, categories_list, 'a_1_k20', k=20)"
   ]
  },
  {
   "cell_type": "code",
   "execution_count": 231,
   "metadata": {},
   "outputs": [],
   "source": [
    "# a = 0\n",
    "# for i in [eval_indiv_cluster_a0, eval_indiv_cluster_a01, eval_indiv_cluster_a02, eval_indiv_cluster_a03, eval_indiv_cluster_a04, eval_indiv_cluster_a05, eval_indiv_cluster_a06, eval_indiv_cluster_a07, eval_indiv_cluster_a08, eval_indiv_cluster_a09, eval_indiv_cluster_a1]:\n",
    "#     i = i.round(3)\n",
    "#     path = 'results_perfs/indiv/clusters/ind_a_0'+str(a)+'.csv'\n",
    "#     i.to_csv(path)\n",
    "#     a = a+1"
   ]
  },
  {
   "cell_type": "code",
   "execution_count": 315,
   "metadata": {},
   "outputs": [],
   "source": [
    "results_complete_c0 = pd.concat([eval_cluster_baseline.iloc[:1, :],eval_cluster_a0.iloc[:1, :],eval_cluster_a01.iloc[:1, :],eval_cluster_a02.iloc[:1, :],eval_cluster_a03.iloc[:1, :],eval_cluster_a04.iloc[:1, :],eval_cluster_a05.iloc[:1, :],eval_cluster_a06.iloc[:1, :],eval_cluster_a07.iloc[:1, :],eval_cluster_a08.iloc[:1, :],eval_cluster_a09.iloc[:1, :],eval_cluster_a1.iloc[:1, :]])\n",
    "results_complete_c1 = pd.concat([eval_cluster_baseline.iloc[1:2, :],eval_cluster_a0.iloc[1:2, :],eval_cluster_a01.iloc[1:2, :],eval_cluster_a02.iloc[1:2, :],eval_cluster_a03.iloc[1:2, :],eval_cluster_a04.iloc[1:2, :],eval_cluster_a05.iloc[1:2, :],eval_cluster_a06.iloc[1:2, :],eval_cluster_a07.iloc[1:2, :],eval_cluster_a08.iloc[1:2, :],eval_cluster_a09.iloc[1:2, :],eval_cluster_a1.iloc[1:2, :]])\n",
    "results_complete_c2 = pd.concat([eval_cluster_baseline.iloc[2:3, :],eval_cluster_a0.iloc[2:3, :],eval_cluster_a01.iloc[2:3, :],eval_cluster_a02.iloc[2:3, :],eval_cluster_a03.iloc[2:3, :],eval_cluster_a04.iloc[2:3, :],eval_cluster_a05.iloc[2:3, :],eval_cluster_a06.iloc[2:3, :],eval_cluster_a07.iloc[2:3, :],eval_cluster_a08.iloc[2:3, :],eval_cluster_a09.iloc[2:3, :],eval_cluster_a1.iloc[2:3, :]])\n",
    "results_complete_c3 = pd.concat([eval_cluster_baseline.iloc[3:4, :],eval_cluster_a0.iloc[3:4, :],eval_cluster_a01.iloc[3:4, :],eval_cluster_a02.iloc[3:4, :],eval_cluster_a03.iloc[3:4, :],eval_cluster_a04.iloc[3:4, :],eval_cluster_a05.iloc[3:4, :],eval_cluster_a06.iloc[3:4, :],eval_cluster_a07.iloc[3:4, :],eval_cluster_a08.iloc[3:4, :],eval_cluster_a09.iloc[3:4, :],eval_cluster_a1.iloc[3:4, :]])\n",
    "results_complete_c4 = pd.concat([eval_cluster_baseline.iloc[4:5, :],eval_cluster_a0.iloc[4:5, :],eval_cluster_a01.iloc[4:5, :],eval_cluster_a02.iloc[4:5, :],eval_cluster_a03.iloc[4:5, :],eval_cluster_a04.iloc[4:5, :],eval_cluster_a05.iloc[4:5, :],eval_cluster_a06.iloc[4:5, :],eval_cluster_a07.iloc[4:5, :],eval_cluster_a08.iloc[4:5, :],eval_cluster_a09.iloc[4:5, :],eval_cluster_a1.iloc[4:5, :]])\n",
    "results_complete_c5 = pd.concat([eval_cluster_baseline.iloc[5:6, :],eval_cluster_a0.iloc[5:6, :],eval_cluster_a01.iloc[5:6, :],eval_cluster_a02.iloc[5:6, :],eval_cluster_a03.iloc[5:6, :],eval_cluster_a04.iloc[5:6, :],eval_cluster_a05.iloc[5:6, :],eval_cluster_a06.iloc[5:6, :],eval_cluster_a07.iloc[5:6, :],eval_cluster_a08.iloc[5:6, :],eval_cluster_a09.iloc[5:6, :],eval_cluster_a1.iloc[5:6, :]])\n",
    "results_complete_c6 = pd.concat([eval_cluster_baseline.iloc[6:7, :],eval_cluster_a0.iloc[6:7, :],eval_cluster_a01.iloc[6:7, :],eval_cluster_a02.iloc[6:7, :],eval_cluster_a03.iloc[6:7, :],eval_cluster_a04.iloc[6:7, :],eval_cluster_a05.iloc[6:7, :],eval_cluster_a06.iloc[6:7, :],eval_cluster_a07.iloc[6:7, :],eval_cluster_a08.iloc[6:7, :],eval_cluster_a09.iloc[6:7, :],eval_cluster_a1.iloc[6:7, :]])\n",
    "results_complete_c7 = pd.concat([eval_cluster_baseline.iloc[7:8, :],eval_cluster_a0.iloc[7:8, :],eval_cluster_a01.iloc[7:8, :],eval_cluster_a02.iloc[7:8, :],eval_cluster_a03.iloc[7:8, :],eval_cluster_a04.iloc[7:8, :],eval_cluster_a05.iloc[7:8, :],eval_cluster_a06.iloc[7:8, :],eval_cluster_a07.iloc[7:8, :],eval_cluster_a08.iloc[7:8, :],eval_cluster_a09.iloc[7:8, :],eval_cluster_a1.iloc[7:8, :]])"
   ]
  },
  {
   "cell_type": "code",
   "execution_count": 316,
   "metadata": {},
   "outputs": [],
   "source": [
    "results_complete_c0.to_csv('results_perfs/clusters/cluster_0.csv')\n",
    "results_complete_c1.to_csv('results_perfs/clusters/cluster_1.csv')\n",
    "results_complete_c2.to_csv('results_perfs/clusters/cluster_2.csv')\n",
    "results_complete_c3.to_csv('results_perfs/clusters/cluster_3.csv')\n",
    "results_complete_c4.to_csv('results_perfs/clusters/cluster_4.csv')\n",
    "results_complete_c5.to_csv('results_perfs/clusters/cluster_5.csv')\n",
    "results_complete_c6.to_csv('results_perfs/clusters/cluster_6.csv')\n",
    "results_complete_c7.to_csv('results_perfs/clusters/cluster_7.csv')"
   ]
  },
  {
   "cell_type": "markdown",
   "metadata": {},
   "source": [
    "## No pers"
   ]
  },
  {
   "cell_type": "code",
   "execution_count": 309,
   "metadata": {},
   "outputs": [
    {
     "name": "stderr",
     "output_type": "stream",
     "text": [
      "\u001b[39mINFO\u001b[0m - Performing evaluation on metrics chosen\n"
     ]
    },
    {
     "name": "stdout",
     "output_type": "stream",
     "text": [
      "Pre-processing...\n",
      "OK!\n",
      "Accuracy metrics...\n"
     ]
    },
    {
     "name": "stderr",
     "output_type": "stream",
     "text": [
      "Performing NDCG@20:  100%|██████████| 5/5 [00:00<00:00]       \n"
     ]
    },
    {
     "name": "stdout",
     "output_type": "stream",
     "text": [
      "OK!\n",
      "ILS...\n"
     ]
    },
    {
     "name": "stderr",
     "output_type": "stream",
     "text": [
      "100%|██████████| 3/3 [00:00<00:00, 116.63it/s]\n"
     ]
    },
    {
     "name": "stdout",
     "output_type": "stream",
     "text": [
      "OK!\n",
      "alpha NDCG\n"
     ]
    },
    {
     "name": "stderr",
     "output_type": "stream",
     "text": [
      "100%|██████████| 3/3 [00:00<00:00, 916.25it/s]\n"
     ]
    },
    {
     "name": "stdout",
     "output_type": "stream",
     "text": [
      "OK!\n",
      "NDCG IA\n"
     ]
    },
    {
     "name": "stderr",
     "output_type": "stream",
     "text": [
      "100%|██████████| 3/3 [00:00<00:00, 927.46it/s]\n"
     ]
    },
    {
     "name": "stdout",
     "output_type": "stream",
     "text": [
      "OK!\n",
      "S-Recall\n"
     ]
    },
    {
     "name": "stderr",
     "output_type": "stream",
     "text": [
      "100%|██████████| 3/3 [00:00<00:00, 1527.61it/s]\n"
     ]
    },
    {
     "name": "stdout",
     "output_type": "stream",
     "text": [
      "OK!\n",
      "Calibration KL\n"
     ]
    },
    {
     "name": "stderr",
     "output_type": "stream",
     "text": [
      "100%|██████████| 3/3 [00:00<00:00, 413.61it/s]\n"
     ]
    },
    {
     "name": "stdout",
     "output_type": "stream",
     "text": [
      "OK!\n",
      "Calibration Hellinger\n"
     ]
    },
    {
     "name": "stderr",
     "output_type": "stream",
     "text": [
      "100%|██████████| 3/3 [00:00<00:00, 227.42it/s]"
     ]
    },
    {
     "name": "stdout",
     "output_type": "stream",
     "text": [
      "OK!\n",
      "Pre-processing...\n"
     ]
    },
    {
     "name": "stderr",
     "output_type": "stream",
     "text": [
      "\n",
      "\u001b[39mINFO\u001b[0m - Performing evaluation on metrics chosen\n"
     ]
    },
    {
     "name": "stdout",
     "output_type": "stream",
     "text": [
      "OK!\n",
      "Accuracy metrics...\n"
     ]
    },
    {
     "name": "stderr",
     "output_type": "stream",
     "text": [
      "Performing NDCG@20:  0%|          | 0/5 [00:00<?]             C:\\Users\\ctreuill.BIDOUILLE\\AppData\\Roaming\\Python\\Python39\\site-packages\\clayrs\\evaluation\\metrics\\ranking_metrics.py:205: RuntimeWarning: invalid value encountered in double_scalars\n",
      "  return actual / ideal\n",
      "Performing NDCG@20:  100%|██████████| 5/5 [00:00<00:00]\n"
     ]
    },
    {
     "name": "stdout",
     "output_type": "stream",
     "text": [
      "OK!\n",
      "ILS...\n"
     ]
    },
    {
     "name": "stderr",
     "output_type": "stream",
     "text": [
      "100%|██████████| 24/24 [00:00<00:00, 89.39it/s] \n"
     ]
    },
    {
     "name": "stdout",
     "output_type": "stream",
     "text": [
      "OK!\n",
      "alpha NDCG\n"
     ]
    },
    {
     "name": "stderr",
     "output_type": "stream",
     "text": [
      "100%|██████████| 24/24 [00:00<00:00, 749.94it/s]\n"
     ]
    },
    {
     "name": "stdout",
     "output_type": "stream",
     "text": [
      "OK!\n",
      "NDCG IA\n"
     ]
    },
    {
     "name": "stderr",
     "output_type": "stream",
     "text": [
      "100%|██████████| 24/24 [00:00<00:00, 665.44it/s]\n"
     ]
    },
    {
     "name": "stdout",
     "output_type": "stream",
     "text": [
      "OK!\n",
      "S-Recall\n"
     ]
    },
    {
     "name": "stderr",
     "output_type": "stream",
     "text": [
      "100%|██████████| 24/24 [00:00<00:00, 2261.39it/s]\n"
     ]
    },
    {
     "name": "stdout",
     "output_type": "stream",
     "text": [
      "OK!\n",
      "Calibration KL\n"
     ]
    },
    {
     "name": "stderr",
     "output_type": "stream",
     "text": [
      "100%|██████████| 24/24 [00:00<00:00, 215.24it/s]\n"
     ]
    },
    {
     "name": "stdout",
     "output_type": "stream",
     "text": [
      "OK!\n",
      "Calibration Hellinger\n"
     ]
    },
    {
     "name": "stderr",
     "output_type": "stream",
     "text": [
      "100%|██████████| 24/24 [00:00<00:00, 221.84it/s]\n"
     ]
    },
    {
     "name": "stdout",
     "output_type": "stream",
     "text": [
      "OK!\n",
      "Pre-processing...\n"
     ]
    },
    {
     "name": "stderr",
     "output_type": "stream",
     "text": [
      "\u001b[39mINFO\u001b[0m - Performing evaluation on metrics chosen\n"
     ]
    },
    {
     "name": "stdout",
     "output_type": "stream",
     "text": [
      "OK!\n",
      "Accuracy metrics...\n"
     ]
    },
    {
     "name": "stderr",
     "output_type": "stream",
     "text": [
      "Performing NDCG@20:  80%|████████  | 4/5 [00:00<00:00]        C:\\Users\\ctreuill.BIDOUILLE\\AppData\\Roaming\\Python\\Python39\\site-packages\\clayrs\\evaluation\\metrics\\ranking_metrics.py:205: RuntimeWarning: invalid value encountered in double_scalars\n",
      "  return actual / ideal\n",
      "Performing NDCG@20:  100%|██████████| 5/5 [00:00<00:00]\n"
     ]
    },
    {
     "name": "stdout",
     "output_type": "stream",
     "text": [
      "OK!\n",
      "ILS...\n"
     ]
    },
    {
     "name": "stderr",
     "output_type": "stream",
     "text": [
      "100%|██████████| 133/133 [00:01<00:00, 120.91it/s]\n"
     ]
    },
    {
     "name": "stdout",
     "output_type": "stream",
     "text": [
      "OK!\n",
      "alpha NDCG\n"
     ]
    },
    {
     "name": "stderr",
     "output_type": "stream",
     "text": [
      "100%|██████████| 133/133 [00:00<00:00, 1179.41it/s]\n"
     ]
    },
    {
     "name": "stdout",
     "output_type": "stream",
     "text": [
      "OK!\n",
      "NDCG IA\n"
     ]
    },
    {
     "name": "stderr",
     "output_type": "stream",
     "text": [
      "100%|██████████| 133/133 [00:00<00:00, 695.64it/s]\n"
     ]
    },
    {
     "name": "stdout",
     "output_type": "stream",
     "text": [
      "OK!\n",
      "S-Recall\n"
     ]
    },
    {
     "name": "stderr",
     "output_type": "stream",
     "text": [
      "100%|██████████| 133/133 [00:00<00:00, 1198.05it/s]\n"
     ]
    },
    {
     "name": "stdout",
     "output_type": "stream",
     "text": [
      "OK!\n",
      "Calibration KL\n"
     ]
    },
    {
     "name": "stderr",
     "output_type": "stream",
     "text": [
      "100%|██████████| 133/133 [00:00<00:00, 262.23it/s]\n"
     ]
    },
    {
     "name": "stdout",
     "output_type": "stream",
     "text": [
      "OK!\n",
      "Calibration Hellinger\n"
     ]
    },
    {
     "name": "stderr",
     "output_type": "stream",
     "text": [
      "100%|██████████| 133/133 [00:00<00:00, 345.39it/s]\n"
     ]
    },
    {
     "name": "stdout",
     "output_type": "stream",
     "text": [
      "OK!\n",
      "Pre-processing...\n"
     ]
    },
    {
     "name": "stderr",
     "output_type": "stream",
     "text": [
      "\u001b[39mINFO\u001b[0m - Performing evaluation on metrics chosen\n"
     ]
    },
    {
     "name": "stdout",
     "output_type": "stream",
     "text": [
      "OK!\n",
      "Accuracy metrics...\n"
     ]
    },
    {
     "name": "stderr",
     "output_type": "stream",
     "text": [
      "Performing NDCG@20:  80%|████████  | 4/5 [00:00<00:00]          C:\\Users\\ctreuill.BIDOUILLE\\AppData\\Roaming\\Python\\Python39\\site-packages\\clayrs\\evaluation\\metrics\\ranking_metrics.py:205: RuntimeWarning: invalid value encountered in double_scalars\n",
      "  return actual / ideal\n",
      "Performing NDCG@20:  100%|██████████| 5/5 [00:00<00:00]\n"
     ]
    },
    {
     "name": "stdout",
     "output_type": "stream",
     "text": [
      "OK!\n",
      "ILS...\n"
     ]
    },
    {
     "name": "stderr",
     "output_type": "stream",
     "text": [
      "100%|██████████| 525/525 [00:03<00:00, 159.32it/s]\n"
     ]
    },
    {
     "name": "stdout",
     "output_type": "stream",
     "text": [
      "OK!\n",
      "alpha NDCG\n"
     ]
    },
    {
     "name": "stderr",
     "output_type": "stream",
     "text": [
      "100%|██████████| 525/525 [00:00<00:00, 1396.66it/s]\n"
     ]
    },
    {
     "name": "stdout",
     "output_type": "stream",
     "text": [
      "OK!\n",
      "NDCG IA\n"
     ]
    },
    {
     "name": "stderr",
     "output_type": "stream",
     "text": [
      "100%|██████████| 525/525 [00:00<00:00, 1046.21it/s]\n"
     ]
    },
    {
     "name": "stdout",
     "output_type": "stream",
     "text": [
      "OK!\n",
      "S-Recall\n"
     ]
    },
    {
     "name": "stderr",
     "output_type": "stream",
     "text": [
      "100%|██████████| 525/525 [00:00<00:00, 3202.73it/s]\n"
     ]
    },
    {
     "name": "stdout",
     "output_type": "stream",
     "text": [
      "OK!\n",
      "Calibration KL\n"
     ]
    },
    {
     "name": "stderr",
     "output_type": "stream",
     "text": [
      "100%|██████████| 525/525 [00:01<00:00, 319.48it/s]\n"
     ]
    },
    {
     "name": "stdout",
     "output_type": "stream",
     "text": [
      "OK!\n",
      "Calibration Hellinger\n"
     ]
    },
    {
     "name": "stderr",
     "output_type": "stream",
     "text": [
      "100%|██████████| 525/525 [00:01<00:00, 330.48it/s]\n"
     ]
    },
    {
     "name": "stdout",
     "output_type": "stream",
     "text": [
      "OK!\n",
      "Pre-processing...\n"
     ]
    },
    {
     "name": "stderr",
     "output_type": "stream",
     "text": [
      "\u001b[39mINFO\u001b[0m - Performing evaluation on metrics chosen\n"
     ]
    },
    {
     "name": "stdout",
     "output_type": "stream",
     "text": [
      "OK!\n",
      "Accuracy metrics...\n"
     ]
    },
    {
     "name": "stderr",
     "output_type": "stream",
     "text": [
      "Performing NDCG@20:  80%|████████  | 4/5 [00:02<00:00]             C:\\Users\\ctreuill.BIDOUILLE\\AppData\\Roaming\\Python\\Python39\\site-packages\\clayrs\\evaluation\\metrics\\ranking_metrics.py:205: RuntimeWarning: invalid value encountered in double_scalars\n",
      "  return actual / ideal\n",
      "Performing NDCG@20:  100%|██████████| 5/5 [00:02<00:00]\n"
     ]
    },
    {
     "name": "stdout",
     "output_type": "stream",
     "text": [
      "OK!\n",
      "ILS...\n"
     ]
    },
    {
     "name": "stderr",
     "output_type": "stream",
     "text": [
      "100%|██████████| 1964/1964 [00:11<00:00, 166.59it/s]\n"
     ]
    },
    {
     "name": "stdout",
     "output_type": "stream",
     "text": [
      "OK!\n",
      "alpha NDCG\n"
     ]
    },
    {
     "name": "stderr",
     "output_type": "stream",
     "text": [
      "100%|██████████| 1964/1964 [00:02<00:00, 780.27it/s]\n"
     ]
    },
    {
     "name": "stdout",
     "output_type": "stream",
     "text": [
      "OK!\n",
      "NDCG IA\n"
     ]
    },
    {
     "name": "stderr",
     "output_type": "stream",
     "text": [
      "100%|██████████| 1964/1964 [00:03<00:00, 603.12it/s]\n"
     ]
    },
    {
     "name": "stdout",
     "output_type": "stream",
     "text": [
      "OK!\n",
      "S-Recall\n"
     ]
    },
    {
     "name": "stderr",
     "output_type": "stream",
     "text": [
      "100%|██████████| 1964/1964 [00:00<00:00, 1974.70it/s]\n"
     ]
    },
    {
     "name": "stdout",
     "output_type": "stream",
     "text": [
      "OK!\n",
      "Calibration KL\n"
     ]
    },
    {
     "name": "stderr",
     "output_type": "stream",
     "text": [
      "100%|██████████| 1964/1964 [00:07<00:00, 265.25it/s]\n"
     ]
    },
    {
     "name": "stdout",
     "output_type": "stream",
     "text": [
      "OK!\n",
      "Calibration Hellinger\n"
     ]
    },
    {
     "name": "stderr",
     "output_type": "stream",
     "text": [
      "100%|██████████| 1964/1964 [00:07<00:00, 270.87it/s]\n"
     ]
    },
    {
     "name": "stdout",
     "output_type": "stream",
     "text": [
      "OK!\n",
      "Pre-processing...\n"
     ]
    },
    {
     "name": "stderr",
     "output_type": "stream",
     "text": [
      "\u001b[39mINFO\u001b[0m - Performing evaluation on metrics chosen\n"
     ]
    },
    {
     "name": "stdout",
     "output_type": "stream",
     "text": [
      "OK!\n",
      "Accuracy metrics...\n"
     ]
    },
    {
     "name": "stderr",
     "output_type": "stream",
     "text": [
      "Performing NDCG@20:  80%|████████  | 4/5 [00:13<00:03]             C:\\Users\\ctreuill.BIDOUILLE\\AppData\\Roaming\\Python\\Python39\\site-packages\\clayrs\\evaluation\\metrics\\ranking_metrics.py:205: RuntimeWarning: invalid value encountered in double_scalars\n",
      "  return actual / ideal\n",
      "Performing NDCG@20:  100%|██████████| 5/5 [00:16<00:00]\n"
     ]
    },
    {
     "name": "stdout",
     "output_type": "stream",
     "text": [
      "OK!\n",
      "ILS...\n"
     ]
    },
    {
     "name": "stderr",
     "output_type": "stream",
     "text": [
      "100%|██████████| 4250/4250 [00:30<00:00, 140.80it/s]\n"
     ]
    },
    {
     "name": "stdout",
     "output_type": "stream",
     "text": [
      "OK!\n",
      "alpha NDCG\n"
     ]
    },
    {
     "name": "stderr",
     "output_type": "stream",
     "text": [
      "100%|██████████| 4250/4250 [00:04<00:00, 890.51it/s] \n"
     ]
    },
    {
     "name": "stdout",
     "output_type": "stream",
     "text": [
      "OK!\n",
      "NDCG IA\n"
     ]
    },
    {
     "name": "stderr",
     "output_type": "stream",
     "text": [
      "100%|██████████| 4250/4250 [00:06<00:00, 677.80it/s]\n"
     ]
    },
    {
     "name": "stdout",
     "output_type": "stream",
     "text": [
      "OK!\n",
      "S-Recall\n"
     ]
    },
    {
     "name": "stderr",
     "output_type": "stream",
     "text": [
      "100%|██████████| 4250/4250 [00:02<00:00, 1844.02it/s]\n"
     ]
    },
    {
     "name": "stdout",
     "output_type": "stream",
     "text": [
      "OK!\n",
      "Calibration KL\n"
     ]
    },
    {
     "name": "stderr",
     "output_type": "stream",
     "text": [
      "100%|██████████| 4250/4250 [00:21<00:00, 193.74it/s]\n"
     ]
    },
    {
     "name": "stdout",
     "output_type": "stream",
     "text": [
      "OK!\n",
      "Calibration Hellinger\n"
     ]
    },
    {
     "name": "stderr",
     "output_type": "stream",
     "text": [
      "100%|██████████| 4250/4250 [00:19<00:00, 223.39it/s]\n"
     ]
    },
    {
     "name": "stdout",
     "output_type": "stream",
     "text": [
      "OK!\n",
      "Pre-processing...\n"
     ]
    },
    {
     "name": "stderr",
     "output_type": "stream",
     "text": [
      "\u001b[39mINFO\u001b[0m - Performing evaluation on metrics chosen\n"
     ]
    },
    {
     "name": "stdout",
     "output_type": "stream",
     "text": [
      "OK!\n",
      "Accuracy metrics...\n"
     ]
    },
    {
     "name": "stderr",
     "output_type": "stream",
     "text": [
      "Performing NDCG@20:  80%|████████  | 4/5 [00:06<00:01]             C:\\Users\\ctreuill.BIDOUILLE\\AppData\\Roaming\\Python\\Python39\\site-packages\\clayrs\\evaluation\\metrics\\ranking_metrics.py:205: RuntimeWarning: invalid value encountered in double_scalars\n",
      "  return actual / ideal\n",
      "Performing NDCG@20:  100%|██████████| 5/5 [00:07<00:00]\n"
     ]
    },
    {
     "name": "stdout",
     "output_type": "stream",
     "text": [
      "OK!\n",
      "ILS...\n"
     ]
    },
    {
     "name": "stderr",
     "output_type": "stream",
     "text": [
      "100%|██████████| 2894/2894 [00:23<00:00, 120.98it/s]\n"
     ]
    },
    {
     "name": "stdout",
     "output_type": "stream",
     "text": [
      "OK!\n",
      "alpha NDCG\n"
     ]
    },
    {
     "name": "stderr",
     "output_type": "stream",
     "text": [
      "100%|██████████| 2894/2894 [00:05<00:00, 512.03it/s]\n"
     ]
    },
    {
     "name": "stdout",
     "output_type": "stream",
     "text": [
      "OK!\n",
      "NDCG IA\n"
     ]
    },
    {
     "name": "stderr",
     "output_type": "stream",
     "text": [
      "100%|██████████| 2894/2894 [00:07<00:00, 401.26it/s]\n"
     ]
    },
    {
     "name": "stdout",
     "output_type": "stream",
     "text": [
      "OK!\n",
      "S-Recall\n"
     ]
    },
    {
     "name": "stderr",
     "output_type": "stream",
     "text": [
      "100%|██████████| 2894/2894 [00:02<00:00, 1223.39it/s]\n"
     ]
    },
    {
     "name": "stdout",
     "output_type": "stream",
     "text": [
      "OK!\n",
      "Calibration KL\n"
     ]
    },
    {
     "name": "stderr",
     "output_type": "stream",
     "text": [
      "100%|██████████| 2894/2894 [00:17<00:00, 166.66it/s]\n"
     ]
    },
    {
     "name": "stdout",
     "output_type": "stream",
     "text": [
      "OK!\n",
      "Calibration Hellinger\n"
     ]
    },
    {
     "name": "stderr",
     "output_type": "stream",
     "text": [
      "100%|██████████| 2894/2894 [00:14<00:00, 200.65it/s]\n"
     ]
    },
    {
     "name": "stdout",
     "output_type": "stream",
     "text": [
      "OK!\n",
      "Pre-processing...\n"
     ]
    },
    {
     "name": "stderr",
     "output_type": "stream",
     "text": [
      "\u001b[39mINFO\u001b[0m - Performing evaluation on metrics chosen\n"
     ]
    },
    {
     "name": "stdout",
     "output_type": "stream",
     "text": [
      "OK!\n",
      "Accuracy metrics...\n"
     ]
    },
    {
     "name": "stderr",
     "output_type": "stream",
     "text": [
      "Performing NDCG@20:  80%|████████  | 4/5 [00:00<00:00]          C:\\Users\\ctreuill.BIDOUILLE\\AppData\\Roaming\\Python\\Python39\\site-packages\\clayrs\\evaluation\\metrics\\ranking_metrics.py:205: RuntimeWarning: invalid value encountered in double_scalars\n",
      "  return actual / ideal\n",
      "Performing NDCG@20:  100%|██████████| 5/5 [00:00<00:00]\n"
     ]
    },
    {
     "name": "stdout",
     "output_type": "stream",
     "text": [
      "OK!\n",
      "ILS...\n"
     ]
    },
    {
     "name": "stderr",
     "output_type": "stream",
     "text": [
      "100%|██████████| 207/207 [00:02<00:00, 102.10it/s]\n"
     ]
    },
    {
     "name": "stdout",
     "output_type": "stream",
     "text": [
      "OK!\n",
      "alpha NDCG\n"
     ]
    },
    {
     "name": "stderr",
     "output_type": "stream",
     "text": [
      "100%|██████████| 207/207 [00:00<00:00, 847.76it/s]\n"
     ]
    },
    {
     "name": "stdout",
     "output_type": "stream",
     "text": [
      "OK!\n",
      "NDCG IA\n"
     ]
    },
    {
     "name": "stderr",
     "output_type": "stream",
     "text": [
      "100%|██████████| 207/207 [00:00<00:00, 572.64it/s]\n"
     ]
    },
    {
     "name": "stdout",
     "output_type": "stream",
     "text": [
      "OK!\n",
      "S-Recall\n"
     ]
    },
    {
     "name": "stderr",
     "output_type": "stream",
     "text": [
      "100%|██████████| 207/207 [00:00<00:00, 1148.66it/s]\n"
     ]
    },
    {
     "name": "stdout",
     "output_type": "stream",
     "text": [
      "OK!\n",
      "Calibration KL\n"
     ]
    },
    {
     "name": "stderr",
     "output_type": "stream",
     "text": [
      "100%|██████████| 207/207 [00:01<00:00, 180.01it/s]\n"
     ]
    },
    {
     "name": "stdout",
     "output_type": "stream",
     "text": [
      "OK!\n",
      "Calibration Hellinger\n"
     ]
    },
    {
     "name": "stderr",
     "output_type": "stream",
     "text": [
      "100%|██████████| 207/207 [00:01<00:00, 192.08it/s]\n",
      "\u001b[39mINFO\u001b[0m - Performing evaluation on metrics chosen\n"
     ]
    },
    {
     "name": "stdout",
     "output_type": "stream",
     "text": [
      "OK!\n",
      "Pre-processing...\n",
      "OK!\n",
      "Accuracy metrics...\n"
     ]
    },
    {
     "name": "stderr",
     "output_type": "stream",
     "text": [
      "Performing NDCG@20:  100%|██████████| 5/5 [00:00<00:00]       \n"
     ]
    },
    {
     "name": "stdout",
     "output_type": "stream",
     "text": [
      "OK!\n",
      "ILS...\n"
     ]
    },
    {
     "name": "stderr",
     "output_type": "stream",
     "text": [
      "100%|██████████| 3/3 [00:00<00:00, 68.66it/s]\n"
     ]
    },
    {
     "name": "stdout",
     "output_type": "stream",
     "text": [
      "OK!\n",
      "alpha NDCG\n"
     ]
    },
    {
     "name": "stderr",
     "output_type": "stream",
     "text": [
      "100%|██████████| 3/3 [00:00<00:00, 419.30it/s]\n"
     ]
    },
    {
     "name": "stdout",
     "output_type": "stream",
     "text": [
      "OK!\n",
      "NDCG IA\n"
     ]
    },
    {
     "name": "stderr",
     "output_type": "stream",
     "text": [
      "100%|██████████| 3/3 [00:00<00:00, 234.80it/s]\n"
     ]
    },
    {
     "name": "stdout",
     "output_type": "stream",
     "text": [
      "OK!\n",
      "S-Recall\n"
     ]
    },
    {
     "name": "stderr",
     "output_type": "stream",
     "text": [
      "100%|██████████| 3/3 [00:00<00:00, 1274.48it/s]\n"
     ]
    },
    {
     "name": "stdout",
     "output_type": "stream",
     "text": [
      "OK!\n",
      "Calibration KL\n"
     ]
    },
    {
     "name": "stderr",
     "output_type": "stream",
     "text": [
      "100%|██████████| 3/3 [00:00<00:00, 121.36it/s]\n"
     ]
    },
    {
     "name": "stdout",
     "output_type": "stream",
     "text": [
      "OK!\n",
      "Calibration Hellinger\n"
     ]
    },
    {
     "name": "stderr",
     "output_type": "stream",
     "text": [
      "100%|██████████| 3/3 [00:00<00:00, 130.56it/s]\n"
     ]
    },
    {
     "name": "stdout",
     "output_type": "stream",
     "text": [
      "OK!\n",
      "Pre-processing...\n"
     ]
    },
    {
     "name": "stderr",
     "output_type": "stream",
     "text": [
      "\u001b[39mINFO\u001b[0m - Performing evaluation on metrics chosen\n"
     ]
    },
    {
     "name": "stdout",
     "output_type": "stream",
     "text": [
      "OK!\n",
      "Accuracy metrics...\n"
     ]
    },
    {
     "name": "stderr",
     "output_type": "stream",
     "text": [
      "Performing NDCG@20:  0%|          | 0/5 [00:00<?]             C:\\Users\\ctreuill.BIDOUILLE\\AppData\\Roaming\\Python\\Python39\\site-packages\\clayrs\\evaluation\\metrics\\ranking_metrics.py:205: RuntimeWarning: invalid value encountered in double_scalars\n",
      "  return actual / ideal\n",
      "Performing NDCG@20:  100%|██████████| 5/5 [00:00<00:00]\n"
     ]
    },
    {
     "name": "stdout",
     "output_type": "stream",
     "text": [
      "OK!\n",
      "ILS...\n"
     ]
    },
    {
     "name": "stderr",
     "output_type": "stream",
     "text": [
      "100%|██████████| 24/24 [00:00<00:00, 66.72it/s]\n"
     ]
    },
    {
     "name": "stdout",
     "output_type": "stream",
     "text": [
      "OK!\n",
      "alpha NDCG\n"
     ]
    },
    {
     "name": "stderr",
     "output_type": "stream",
     "text": [
      "100%|██████████| 24/24 [00:00<00:00, 386.69it/s]\n"
     ]
    },
    {
     "name": "stdout",
     "output_type": "stream",
     "text": [
      "OK!\n",
      "NDCG IA\n"
     ]
    },
    {
     "name": "stderr",
     "output_type": "stream",
     "text": [
      "100%|██████████| 24/24 [00:00<00:00, 348.10it/s]\n"
     ]
    },
    {
     "name": "stdout",
     "output_type": "stream",
     "text": [
      "OK!\n",
      "S-Recall\n"
     ]
    },
    {
     "name": "stderr",
     "output_type": "stream",
     "text": [
      "100%|██████████| 24/24 [00:00<00:00, 1298.45it/s]\n"
     ]
    },
    {
     "name": "stdout",
     "output_type": "stream",
     "text": [
      "OK!\n",
      "Calibration KL\n"
     ]
    },
    {
     "name": "stderr",
     "output_type": "stream",
     "text": [
      "100%|██████████| 24/24 [00:00<00:00, 129.50it/s]\n"
     ]
    },
    {
     "name": "stdout",
     "output_type": "stream",
     "text": [
      "OK!\n",
      "Calibration Hellinger\n"
     ]
    },
    {
     "name": "stderr",
     "output_type": "stream",
     "text": [
      "100%|██████████| 24/24 [00:00<00:00, 122.05it/s]\n",
      "\u001b[39mINFO\u001b[0m - Performing evaluation on metrics chosen\n"
     ]
    },
    {
     "name": "stdout",
     "output_type": "stream",
     "text": [
      "OK!\n",
      "Pre-processing...\n",
      "OK!\n",
      "Accuracy metrics...\n"
     ]
    },
    {
     "name": "stderr",
     "output_type": "stream",
     "text": [
      "Performing NDCG@20:  60%|██████    | 3/5 [00:00<00:00]        C:\\Users\\ctreuill.BIDOUILLE\\AppData\\Roaming\\Python\\Python39\\site-packages\\clayrs\\evaluation\\metrics\\ranking_metrics.py:205: RuntimeWarning: invalid value encountered in double_scalars\n",
      "  return actual / ideal\n",
      "Performing NDCG@20:  100%|██████████| 5/5 [00:00<00:00]\n"
     ]
    },
    {
     "name": "stdout",
     "output_type": "stream",
     "text": [
      "OK!\n",
      "ILS...\n"
     ]
    },
    {
     "name": "stderr",
     "output_type": "stream",
     "text": [
      "100%|██████████| 133/133 [00:01<00:00, 107.77it/s]\n"
     ]
    },
    {
     "name": "stdout",
     "output_type": "stream",
     "text": [
      "OK!\n",
      "alpha NDCG\n"
     ]
    },
    {
     "name": "stderr",
     "output_type": "stream",
     "text": [
      "100%|██████████| 133/133 [00:00<00:00, 718.85it/s]\n"
     ]
    },
    {
     "name": "stdout",
     "output_type": "stream",
     "text": [
      "OK!\n",
      "NDCG IA\n"
     ]
    },
    {
     "name": "stderr",
     "output_type": "stream",
     "text": [
      "100%|██████████| 133/133 [00:00<00:00, 552.40it/s]\n"
     ]
    },
    {
     "name": "stdout",
     "output_type": "stream",
     "text": [
      "OK!\n",
      "S-Recall\n"
     ]
    },
    {
     "name": "stderr",
     "output_type": "stream",
     "text": [
      "100%|██████████| 133/133 [00:00<00:00, 1899.36it/s]\n"
     ]
    },
    {
     "name": "stdout",
     "output_type": "stream",
     "text": [
      "OK!\n",
      "Calibration KL\n"
     ]
    },
    {
     "name": "stderr",
     "output_type": "stream",
     "text": [
      "100%|██████████| 133/133 [00:00<00:00, 175.74it/s]\n"
     ]
    },
    {
     "name": "stdout",
     "output_type": "stream",
     "text": [
      "OK!\n",
      "Calibration Hellinger\n"
     ]
    },
    {
     "name": "stderr",
     "output_type": "stream",
     "text": [
      "100%|██████████| 133/133 [00:00<00:00, 244.35it/s]\n"
     ]
    },
    {
     "name": "stdout",
     "output_type": "stream",
     "text": [
      "OK!\n",
      "Pre-processing...\n"
     ]
    },
    {
     "name": "stderr",
     "output_type": "stream",
     "text": [
      "\u001b[39mINFO\u001b[0m - Performing evaluation on metrics chosen\n"
     ]
    },
    {
     "name": "stdout",
     "output_type": "stream",
     "text": [
      "OK!\n",
      "Accuracy metrics...\n"
     ]
    },
    {
     "name": "stderr",
     "output_type": "stream",
     "text": [
      "Performing NDCG@20:  80%|████████  | 4/5 [00:00<00:00]             C:\\Users\\ctreuill.BIDOUILLE\\AppData\\Roaming\\Python\\Python39\\site-packages\\clayrs\\evaluation\\metrics\\ranking_metrics.py:205: RuntimeWarning: invalid value encountered in double_scalars\n",
      "  return actual / ideal\n",
      "Performing NDCG@20:  100%|██████████| 5/5 [00:00<00:00]\n"
     ]
    },
    {
     "name": "stdout",
     "output_type": "stream",
     "text": [
      "OK!\n",
      "ILS...\n"
     ]
    },
    {
     "name": "stderr",
     "output_type": "stream",
     "text": [
      "100%|██████████| 525/525 [00:04<00:00, 121.62it/s]\n"
     ]
    },
    {
     "name": "stdout",
     "output_type": "stream",
     "text": [
      "OK!\n",
      "alpha NDCG\n"
     ]
    },
    {
     "name": "stderr",
     "output_type": "stream",
     "text": [
      "100%|██████████| 525/525 [00:00<00:00, 992.12it/s] \n"
     ]
    },
    {
     "name": "stdout",
     "output_type": "stream",
     "text": [
      "OK!\n",
      "NDCG IA\n"
     ]
    },
    {
     "name": "stderr",
     "output_type": "stream",
     "text": [
      "100%|██████████| 525/525 [00:00<00:00, 593.66it/s]\n"
     ]
    },
    {
     "name": "stdout",
     "output_type": "stream",
     "text": [
      "OK!\n",
      "S-Recall\n"
     ]
    },
    {
     "name": "stderr",
     "output_type": "stream",
     "text": [
      "100%|██████████| 525/525 [00:00<00:00, 2056.69it/s]\n"
     ]
    },
    {
     "name": "stdout",
     "output_type": "stream",
     "text": [
      "OK!\n",
      "Calibration KL\n"
     ]
    },
    {
     "name": "stderr",
     "output_type": "stream",
     "text": [
      "100%|██████████| 525/525 [00:02<00:00, 260.67it/s]\n"
     ]
    },
    {
     "name": "stdout",
     "output_type": "stream",
     "text": [
      "OK!\n",
      "Calibration Hellinger\n"
     ]
    },
    {
     "name": "stderr",
     "output_type": "stream",
     "text": [
      "100%|██████████| 525/525 [00:01<00:00, 268.09it/s]\n"
     ]
    },
    {
     "name": "stdout",
     "output_type": "stream",
     "text": [
      "OK!\n",
      "Pre-processing...\n"
     ]
    },
    {
     "name": "stderr",
     "output_type": "stream",
     "text": [
      "\u001b[39mINFO\u001b[0m - Performing evaluation on metrics chosen\n"
     ]
    },
    {
     "name": "stdout",
     "output_type": "stream",
     "text": [
      "OK!\n",
      "Accuracy metrics...\n"
     ]
    },
    {
     "name": "stderr",
     "output_type": "stream",
     "text": [
      "Performing NDCG@20:  80%|████████  | 4/5 [00:02<00:00]             C:\\Users\\ctreuill.BIDOUILLE\\AppData\\Roaming\\Python\\Python39\\site-packages\\clayrs\\evaluation\\metrics\\ranking_metrics.py:205: RuntimeWarning: invalid value encountered in double_scalars\n",
      "  return actual / ideal\n",
      "Performing NDCG@20:  100%|██████████| 5/5 [00:03<00:00]\n"
     ]
    },
    {
     "name": "stdout",
     "output_type": "stream",
     "text": [
      "OK!\n",
      "ILS...\n"
     ]
    },
    {
     "name": "stderr",
     "output_type": "stream",
     "text": [
      "100%|██████████| 1964/1964 [00:12<00:00, 152.59it/s]\n"
     ]
    },
    {
     "name": "stdout",
     "output_type": "stream",
     "text": [
      "OK!\n",
      "alpha NDCG\n"
     ]
    },
    {
     "name": "stderr",
     "output_type": "stream",
     "text": [
      "100%|██████████| 1964/1964 [00:02<00:00, 891.33it/s] \n"
     ]
    },
    {
     "name": "stdout",
     "output_type": "stream",
     "text": [
      "OK!\n",
      "NDCG IA\n"
     ]
    },
    {
     "name": "stderr",
     "output_type": "stream",
     "text": [
      "100%|██████████| 1964/1964 [00:02<00:00, 739.66it/s]\n"
     ]
    },
    {
     "name": "stdout",
     "output_type": "stream",
     "text": [
      "OK!\n",
      "S-Recall\n"
     ]
    },
    {
     "name": "stderr",
     "output_type": "stream",
     "text": [
      "100%|██████████| 1964/1964 [00:00<00:00, 2138.69it/s]\n"
     ]
    },
    {
     "name": "stdout",
     "output_type": "stream",
     "text": [
      "OK!\n",
      "Calibration KL\n"
     ]
    },
    {
     "name": "stderr",
     "output_type": "stream",
     "text": [
      "100%|██████████| 1964/1964 [00:06<00:00, 282.09it/s]\n"
     ]
    },
    {
     "name": "stdout",
     "output_type": "stream",
     "text": [
      "OK!\n",
      "Calibration Hellinger\n"
     ]
    },
    {
     "name": "stderr",
     "output_type": "stream",
     "text": [
      "100%|██████████| 1964/1964 [00:08<00:00, 244.55it/s]\n"
     ]
    },
    {
     "name": "stdout",
     "output_type": "stream",
     "text": [
      "OK!\n",
      "Pre-processing...\n"
     ]
    },
    {
     "name": "stderr",
     "output_type": "stream",
     "text": [
      "\u001b[39mINFO\u001b[0m - Performing evaluation on metrics chosen\n"
     ]
    },
    {
     "name": "stdout",
     "output_type": "stream",
     "text": [
      "OK!\n",
      "Accuracy metrics...\n"
     ]
    },
    {
     "name": "stderr",
     "output_type": "stream",
     "text": [
      "Performing NDCG@20:  80%|████████  | 4/5 [00:12<00:03]             C:\\Users\\ctreuill.BIDOUILLE\\AppData\\Roaming\\Python\\Python39\\site-packages\\clayrs\\evaluation\\metrics\\ranking_metrics.py:205: RuntimeWarning: invalid value encountered in double_scalars\n",
      "  return actual / ideal\n",
      "Performing NDCG@20:  100%|██████████| 5/5 [00:15<00:00]\n"
     ]
    },
    {
     "name": "stdout",
     "output_type": "stream",
     "text": [
      "OK!\n",
      "ILS...\n"
     ]
    },
    {
     "name": "stderr",
     "output_type": "stream",
     "text": [
      "100%|██████████| 4250/4250 [00:28<00:00, 146.75it/s]\n"
     ]
    },
    {
     "name": "stdout",
     "output_type": "stream",
     "text": [
      "OK!\n",
      "alpha NDCG\n"
     ]
    },
    {
     "name": "stderr",
     "output_type": "stream",
     "text": [
      "100%|██████████| 4250/4250 [00:05<00:00, 831.19it/s] \n"
     ]
    },
    {
     "name": "stdout",
     "output_type": "stream",
     "text": [
      "OK!\n",
      "NDCG IA\n"
     ]
    },
    {
     "name": "stderr",
     "output_type": "stream",
     "text": [
      "100%|██████████| 4250/4250 [00:08<00:00, 481.65it/s]\n"
     ]
    },
    {
     "name": "stdout",
     "output_type": "stream",
     "text": [
      "OK!\n",
      "S-Recall\n"
     ]
    },
    {
     "name": "stderr",
     "output_type": "stream",
     "text": [
      "100%|██████████| 4250/4250 [00:03<00:00, 1124.86it/s]\n"
     ]
    },
    {
     "name": "stdout",
     "output_type": "stream",
     "text": [
      "OK!\n",
      "Calibration KL\n"
     ]
    },
    {
     "name": "stderr",
     "output_type": "stream",
     "text": [
      "100%|██████████| 4250/4250 [00:22<00:00, 192.21it/s]\n"
     ]
    },
    {
     "name": "stdout",
     "output_type": "stream",
     "text": [
      "OK!\n",
      "Calibration Hellinger\n"
     ]
    },
    {
     "name": "stderr",
     "output_type": "stream",
     "text": [
      "100%|██████████| 4250/4250 [00:18<00:00, 235.49it/s]\n"
     ]
    },
    {
     "name": "stdout",
     "output_type": "stream",
     "text": [
      "OK!\n",
      "Pre-processing...\n"
     ]
    },
    {
     "name": "stderr",
     "output_type": "stream",
     "text": [
      "\u001b[39mINFO\u001b[0m - Performing evaluation on metrics chosen\n"
     ]
    },
    {
     "name": "stdout",
     "output_type": "stream",
     "text": [
      "OK!\n",
      "Accuracy metrics...\n"
     ]
    },
    {
     "name": "stderr",
     "output_type": "stream",
     "text": [
      "Performing NDCG@20:  80%|████████  | 4/5 [00:06<00:01]             C:\\Users\\ctreuill.BIDOUILLE\\AppData\\Roaming\\Python\\Python39\\site-packages\\clayrs\\evaluation\\metrics\\ranking_metrics.py:205: RuntimeWarning: invalid value encountered in double_scalars\n",
      "  return actual / ideal\n",
      "Performing NDCG@20:  100%|██████████| 5/5 [00:07<00:00]\n"
     ]
    },
    {
     "name": "stdout",
     "output_type": "stream",
     "text": [
      "OK!\n",
      "ILS...\n"
     ]
    },
    {
     "name": "stderr",
     "output_type": "stream",
     "text": [
      "100%|██████████| 2894/2894 [00:20<00:00, 141.26it/s]\n"
     ]
    },
    {
     "name": "stdout",
     "output_type": "stream",
     "text": [
      "OK!\n",
      "alpha NDCG\n"
     ]
    },
    {
     "name": "stderr",
     "output_type": "stream",
     "text": [
      "100%|██████████| 2894/2894 [00:03<00:00, 923.53it/s] \n"
     ]
    },
    {
     "name": "stdout",
     "output_type": "stream",
     "text": [
      "OK!\n",
      "NDCG IA\n"
     ]
    },
    {
     "name": "stderr",
     "output_type": "stream",
     "text": [
      "100%|██████████| 2894/2894 [00:04<00:00, 626.26it/s]\n"
     ]
    },
    {
     "name": "stdout",
     "output_type": "stream",
     "text": [
      "OK!\n",
      "S-Recall\n"
     ]
    },
    {
     "name": "stderr",
     "output_type": "stream",
     "text": [
      "100%|██████████| 2894/2894 [00:01<00:00, 1834.06it/s]\n"
     ]
    },
    {
     "name": "stdout",
     "output_type": "stream",
     "text": [
      "OK!\n",
      "Calibration KL\n"
     ]
    },
    {
     "name": "stderr",
     "output_type": "stream",
     "text": [
      "100%|██████████| 2894/2894 [00:10<00:00, 265.35it/s]\n"
     ]
    },
    {
     "name": "stdout",
     "output_type": "stream",
     "text": [
      "OK!\n",
      "Calibration Hellinger\n"
     ]
    },
    {
     "name": "stderr",
     "output_type": "stream",
     "text": [
      "100%|██████████| 2894/2894 [00:10<00:00, 263.50it/s]\n"
     ]
    },
    {
     "name": "stdout",
     "output_type": "stream",
     "text": [
      "OK!\n",
      "Pre-processing...\n"
     ]
    },
    {
     "name": "stderr",
     "output_type": "stream",
     "text": [
      "\u001b[39mINFO\u001b[0m - Performing evaluation on metrics chosen\n"
     ]
    },
    {
     "name": "stdout",
     "output_type": "stream",
     "text": [
      "OK!\n",
      "Accuracy metrics...\n"
     ]
    },
    {
     "name": "stderr",
     "output_type": "stream",
     "text": [
      "Performing NDCG@20:  60%|██████    | 3/5 [00:00<00:00]        C:\\Users\\ctreuill.BIDOUILLE\\AppData\\Roaming\\Python\\Python39\\site-packages\\clayrs\\evaluation\\metrics\\ranking_metrics.py:205: RuntimeWarning: invalid value encountered in double_scalars\n",
      "  return actual / ideal\n",
      "Performing NDCG@20:  100%|██████████| 5/5 [00:00<00:00]\n"
     ]
    },
    {
     "name": "stdout",
     "output_type": "stream",
     "text": [
      "OK!\n",
      "ILS...\n"
     ]
    },
    {
     "name": "stderr",
     "output_type": "stream",
     "text": [
      "100%|██████████| 207/207 [00:01<00:00, 133.03it/s]\n"
     ]
    },
    {
     "name": "stdout",
     "output_type": "stream",
     "text": [
      "OK!\n",
      "alpha NDCG\n"
     ]
    },
    {
     "name": "stderr",
     "output_type": "stream",
     "text": [
      "100%|██████████| 207/207 [00:00<00:00, 1047.75it/s]\n"
     ]
    },
    {
     "name": "stdout",
     "output_type": "stream",
     "text": [
      "OK!\n",
      "NDCG IA\n"
     ]
    },
    {
     "name": "stderr",
     "output_type": "stream",
     "text": [
      "100%|██████████| 207/207 [00:00<00:00, 804.00it/s]\n"
     ]
    },
    {
     "name": "stdout",
     "output_type": "stream",
     "text": [
      "OK!\n",
      "S-Recall\n"
     ]
    },
    {
     "name": "stderr",
     "output_type": "stream",
     "text": [
      "100%|██████████| 207/207 [00:00<00:00, 2703.79it/s]\n"
     ]
    },
    {
     "name": "stdout",
     "output_type": "stream",
     "text": [
      "OK!\n",
      "Calibration KL\n"
     ]
    },
    {
     "name": "stderr",
     "output_type": "stream",
     "text": [
      "100%|██████████| 207/207 [00:00<00:00, 234.95it/s]\n"
     ]
    },
    {
     "name": "stdout",
     "output_type": "stream",
     "text": [
      "OK!\n",
      "Calibration Hellinger\n"
     ]
    },
    {
     "name": "stderr",
     "output_type": "stream",
     "text": [
      "100%|██████████| 207/207 [00:00<00:00, 259.59it/s]\n",
      "\u001b[39mINFO\u001b[0m - Performing evaluation on metrics chosen\n"
     ]
    },
    {
     "name": "stdout",
     "output_type": "stream",
     "text": [
      "OK!\n",
      "Pre-processing...\n",
      "OK!\n",
      "Accuracy metrics...\n"
     ]
    },
    {
     "name": "stderr",
     "output_type": "stream",
     "text": [
      "Performing NDCG@20:  100%|██████████| 5/5 [00:00<00:00]       \n"
     ]
    },
    {
     "name": "stdout",
     "output_type": "stream",
     "text": [
      "OK!\n",
      "ILS...\n"
     ]
    },
    {
     "name": "stderr",
     "output_type": "stream",
     "text": [
      "100%|██████████| 3/3 [00:00<00:00, 132.99it/s]\n"
     ]
    },
    {
     "name": "stdout",
     "output_type": "stream",
     "text": [
      "OK!\n",
      "alpha NDCG\n"
     ]
    },
    {
     "name": "stderr",
     "output_type": "stream",
     "text": [
      "100%|██████████| 3/3 [00:00<00:00, 750.19it/s]\n"
     ]
    },
    {
     "name": "stdout",
     "output_type": "stream",
     "text": [
      "OK!\n",
      "NDCG IA\n"
     ]
    },
    {
     "name": "stderr",
     "output_type": "stream",
     "text": [
      "100%|██████████| 3/3 [00:00<00:00, 539.34it/s]\n"
     ]
    },
    {
     "name": "stdout",
     "output_type": "stream",
     "text": [
      "OK!\n",
      "S-Recall\n"
     ]
    },
    {
     "name": "stderr",
     "output_type": "stream",
     "text": [
      "100%|██████████| 3/3 [00:00<00:00, 670.09it/s]\n"
     ]
    },
    {
     "name": "stdout",
     "output_type": "stream",
     "text": [
      "OK!\n",
      "Calibration KL\n"
     ]
    },
    {
     "name": "stderr",
     "output_type": "stream",
     "text": [
      "100%|██████████| 3/3 [00:00<00:00, 174.94it/s]\n"
     ]
    },
    {
     "name": "stdout",
     "output_type": "stream",
     "text": [
      "OK!\n",
      "Calibration Hellinger\n"
     ]
    },
    {
     "name": "stderr",
     "output_type": "stream",
     "text": [
      "100%|██████████| 3/3 [00:00<00:00, 124.72it/s]\n",
      "\u001b[39mINFO\u001b[0m - Performing evaluation on metrics chosen\n"
     ]
    },
    {
     "name": "stdout",
     "output_type": "stream",
     "text": [
      "OK!\n",
      "Pre-processing...\n",
      "OK!\n",
      "Accuracy metrics...\n"
     ]
    },
    {
     "name": "stderr",
     "output_type": "stream",
     "text": [
      "Performing NDCG@20:  0%|          | 0/5 [00:00<?]             C:\\Users\\ctreuill.BIDOUILLE\\AppData\\Roaming\\Python\\Python39\\site-packages\\clayrs\\evaluation\\metrics\\ranking_metrics.py:205: RuntimeWarning: invalid value encountered in double_scalars\n",
      "  return actual / ideal\n",
      "Performing NDCG@20:  100%|██████████| 5/5 [00:00<00:00]\n"
     ]
    },
    {
     "name": "stdout",
     "output_type": "stream",
     "text": [
      "OK!\n",
      "ILS...\n"
     ]
    },
    {
     "name": "stderr",
     "output_type": "stream",
     "text": [
      "100%|██████████| 24/24 [00:00<00:00, 76.69it/s]\n"
     ]
    },
    {
     "name": "stdout",
     "output_type": "stream",
     "text": [
      "OK!\n",
      "alpha NDCG\n"
     ]
    },
    {
     "name": "stderr",
     "output_type": "stream",
     "text": [
      "100%|██████████| 24/24 [00:00<00:00, 441.33it/s]\n"
     ]
    },
    {
     "name": "stdout",
     "output_type": "stream",
     "text": [
      "OK!\n",
      "NDCG IA\n"
     ]
    },
    {
     "name": "stderr",
     "output_type": "stream",
     "text": [
      "100%|██████████| 24/24 [00:00<00:00, 340.06it/s]\n"
     ]
    },
    {
     "name": "stdout",
     "output_type": "stream",
     "text": [
      "OK!\n",
      "S-Recall\n"
     ]
    },
    {
     "name": "stderr",
     "output_type": "stream",
     "text": [
      "100%|██████████| 24/24 [00:00<00:00, 847.19it/s]\n"
     ]
    },
    {
     "name": "stdout",
     "output_type": "stream",
     "text": [
      "OK!\n",
      "Calibration KL\n"
     ]
    },
    {
     "name": "stderr",
     "output_type": "stream",
     "text": [
      "100%|██████████| 24/24 [00:00<00:00, 127.74it/s]\n"
     ]
    },
    {
     "name": "stdout",
     "output_type": "stream",
     "text": [
      "OK!\n",
      "Calibration Hellinger\n"
     ]
    },
    {
     "name": "stderr",
     "output_type": "stream",
     "text": [
      "100%|██████████| 24/24 [00:00<00:00, 138.04it/s]\n",
      "\u001b[39mINFO\u001b[0m - Performing evaluation on metrics chosen\n"
     ]
    },
    {
     "name": "stdout",
     "output_type": "stream",
     "text": [
      "OK!\n",
      "Pre-processing...\n",
      "OK!\n",
      "Accuracy metrics...\n"
     ]
    },
    {
     "name": "stderr",
     "output_type": "stream",
     "text": [
      "Performing NDCG@20:  40%|████      | 2/5 [00:00<00:00]          C:\\Users\\ctreuill.BIDOUILLE\\AppData\\Roaming\\Python\\Python39\\site-packages\\clayrs\\evaluation\\metrics\\ranking_metrics.py:205: RuntimeWarning: invalid value encountered in double_scalars\n",
      "  return actual / ideal\n",
      "Performing NDCG@20:  100%|██████████| 5/5 [00:00<00:00]\n"
     ]
    },
    {
     "name": "stdout",
     "output_type": "stream",
     "text": [
      "OK!\n",
      "ILS...\n"
     ]
    },
    {
     "name": "stderr",
     "output_type": "stream",
     "text": [
      "100%|██████████| 133/133 [00:01<00:00, 116.76it/s]\n"
     ]
    },
    {
     "name": "stdout",
     "output_type": "stream",
     "text": [
      "OK!\n",
      "alpha NDCG\n"
     ]
    },
    {
     "name": "stderr",
     "output_type": "stream",
     "text": [
      "100%|██████████| 133/133 [00:00<00:00, 517.69it/s]\n"
     ]
    },
    {
     "name": "stdout",
     "output_type": "stream",
     "text": [
      "OK!\n",
      "NDCG IA\n"
     ]
    },
    {
     "name": "stderr",
     "output_type": "stream",
     "text": [
      "100%|██████████| 133/133 [00:00<00:00, 479.80it/s]\n"
     ]
    },
    {
     "name": "stdout",
     "output_type": "stream",
     "text": [
      "OK!\n",
      "S-Recall\n"
     ]
    },
    {
     "name": "stderr",
     "output_type": "stream",
     "text": [
      "100%|██████████| 133/133 [00:00<00:00, 2188.75it/s]\n"
     ]
    },
    {
     "name": "stdout",
     "output_type": "stream",
     "text": [
      "OK!\n",
      "Calibration KL\n"
     ]
    },
    {
     "name": "stderr",
     "output_type": "stream",
     "text": [
      "100%|██████████| 133/133 [00:00<00:00, 243.25it/s]\n"
     ]
    },
    {
     "name": "stdout",
     "output_type": "stream",
     "text": [
      "OK!\n",
      "Calibration Hellinger\n"
     ]
    },
    {
     "name": "stderr",
     "output_type": "stream",
     "text": [
      "100%|██████████| 133/133 [00:00<00:00, 209.95it/s]\n"
     ]
    },
    {
     "name": "stdout",
     "output_type": "stream",
     "text": [
      "OK!\n",
      "Pre-processing...\n"
     ]
    },
    {
     "name": "stderr",
     "output_type": "stream",
     "text": [
      "\u001b[39mINFO\u001b[0m - Performing evaluation on metrics chosen\n"
     ]
    },
    {
     "name": "stdout",
     "output_type": "stream",
     "text": [
      "OK!\n",
      "Accuracy metrics...\n"
     ]
    },
    {
     "name": "stderr",
     "output_type": "stream",
     "text": [
      "Performing NDCG@20:  80%|████████  | 4/5 [00:00<00:00]             C:\\Users\\ctreuill.BIDOUILLE\\AppData\\Roaming\\Python\\Python39\\site-packages\\clayrs\\evaluation\\metrics\\ranking_metrics.py:205: RuntimeWarning: invalid value encountered in double_scalars\n",
      "  return actual / ideal\n",
      "Performing NDCG@20:  100%|██████████| 5/5 [00:00<00:00]\n"
     ]
    },
    {
     "name": "stdout",
     "output_type": "stream",
     "text": [
      "OK!\n",
      "ILS...\n"
     ]
    },
    {
     "name": "stderr",
     "output_type": "stream",
     "text": [
      "100%|██████████| 525/525 [00:04<00:00, 128.88it/s]\n"
     ]
    },
    {
     "name": "stdout",
     "output_type": "stream",
     "text": [
      "OK!\n",
      "alpha NDCG\n"
     ]
    },
    {
     "name": "stderr",
     "output_type": "stream",
     "text": [
      "100%|██████████| 525/525 [00:00<00:00, 666.89it/s]\n"
     ]
    },
    {
     "name": "stdout",
     "output_type": "stream",
     "text": [
      "OK!\n",
      "NDCG IA\n"
     ]
    },
    {
     "name": "stderr",
     "output_type": "stream",
     "text": [
      "100%|██████████| 525/525 [00:00<00:00, 609.76it/s]\n"
     ]
    },
    {
     "name": "stdout",
     "output_type": "stream",
     "text": [
      "OK!\n",
      "S-Recall\n"
     ]
    },
    {
     "name": "stderr",
     "output_type": "stream",
     "text": [
      "100%|██████████| 525/525 [00:00<00:00, 1610.69it/s]\n"
     ]
    },
    {
     "name": "stdout",
     "output_type": "stream",
     "text": [
      "OK!\n",
      "Calibration KL\n"
     ]
    },
    {
     "name": "stderr",
     "output_type": "stream",
     "text": [
      "100%|██████████| 525/525 [00:01<00:00, 267.58it/s]\n"
     ]
    },
    {
     "name": "stdout",
     "output_type": "stream",
     "text": [
      "OK!\n",
      "Calibration Hellinger\n"
     ]
    },
    {
     "name": "stderr",
     "output_type": "stream",
     "text": [
      "100%|██████████| 525/525 [00:01<00:00, 299.01it/s]\n"
     ]
    },
    {
     "name": "stdout",
     "output_type": "stream",
     "text": [
      "OK!\n",
      "Pre-processing...\n"
     ]
    },
    {
     "name": "stderr",
     "output_type": "stream",
     "text": [
      "\u001b[39mINFO\u001b[0m - Performing evaluation on metrics chosen\n"
     ]
    },
    {
     "name": "stdout",
     "output_type": "stream",
     "text": [
      "OK!\n",
      "Accuracy metrics...\n"
     ]
    },
    {
     "name": "stderr",
     "output_type": "stream",
     "text": [
      "Performing NDCG@20:  80%|████████  | 4/5 [00:02<00:00]             C:\\Users\\ctreuill.BIDOUILLE\\AppData\\Roaming\\Python\\Python39\\site-packages\\clayrs\\evaluation\\metrics\\ranking_metrics.py:205: RuntimeWarning: invalid value encountered in double_scalars\n",
      "  return actual / ideal\n",
      "Performing NDCG@20:  100%|██████████| 5/5 [00:03<00:00]\n"
     ]
    },
    {
     "name": "stdout",
     "output_type": "stream",
     "text": [
      "OK!\n",
      "ILS...\n"
     ]
    },
    {
     "name": "stderr",
     "output_type": "stream",
     "text": [
      "100%|██████████| 1964/1964 [00:14<00:00, 133.47it/s]\n"
     ]
    },
    {
     "name": "stdout",
     "output_type": "stream",
     "text": [
      "OK!\n",
      "alpha NDCG\n"
     ]
    },
    {
     "name": "stderr",
     "output_type": "stream",
     "text": [
      "100%|██████████| 1964/1964 [00:02<00:00, 886.76it/s]\n"
     ]
    },
    {
     "name": "stdout",
     "output_type": "stream",
     "text": [
      "OK!\n",
      "NDCG IA\n"
     ]
    },
    {
     "name": "stderr",
     "output_type": "stream",
     "text": [
      "100%|██████████| 1964/1964 [00:02<00:00, 667.76it/s]\n"
     ]
    },
    {
     "name": "stdout",
     "output_type": "stream",
     "text": [
      "OK!\n",
      "S-Recall\n"
     ]
    },
    {
     "name": "stderr",
     "output_type": "stream",
     "text": [
      "100%|██████████| 1964/1964 [00:01<00:00, 1882.07it/s]\n"
     ]
    },
    {
     "name": "stdout",
     "output_type": "stream",
     "text": [
      "OK!\n",
      "Calibration KL\n"
     ]
    },
    {
     "name": "stderr",
     "output_type": "stream",
     "text": [
      "100%|██████████| 1964/1964 [00:07<00:00, 271.30it/s]\n"
     ]
    },
    {
     "name": "stdout",
     "output_type": "stream",
     "text": [
      "OK!\n",
      "Calibration Hellinger\n"
     ]
    },
    {
     "name": "stderr",
     "output_type": "stream",
     "text": [
      "100%|██████████| 1964/1964 [00:07<00:00, 265.88it/s]\n"
     ]
    },
    {
     "name": "stdout",
     "output_type": "stream",
     "text": [
      "OK!\n",
      "Pre-processing...\n"
     ]
    },
    {
     "name": "stderr",
     "output_type": "stream",
     "text": [
      "\u001b[39mINFO\u001b[0m - Performing evaluation on metrics chosen\n"
     ]
    },
    {
     "name": "stdout",
     "output_type": "stream",
     "text": [
      "OK!\n",
      "Accuracy metrics...\n"
     ]
    },
    {
     "name": "stderr",
     "output_type": "stream",
     "text": [
      "Performing NDCG@20:  80%|████████  | 4/5 [00:14<00:03]             C:\\Users\\ctreuill.BIDOUILLE\\AppData\\Roaming\\Python\\Python39\\site-packages\\clayrs\\evaluation\\metrics\\ranking_metrics.py:205: RuntimeWarning: invalid value encountered in double_scalars\n",
      "  return actual / ideal\n",
      "Performing NDCG@20:  100%|██████████| 5/5 [00:18<00:00]\n"
     ]
    },
    {
     "name": "stdout",
     "output_type": "stream",
     "text": [
      "OK!\n",
      "ILS...\n"
     ]
    },
    {
     "name": "stderr",
     "output_type": "stream",
     "text": [
      "100%|██████████| 4250/4250 [00:42<00:00, 100.65it/s]\n"
     ]
    },
    {
     "name": "stdout",
     "output_type": "stream",
     "text": [
      "OK!\n",
      "alpha NDCG\n"
     ]
    },
    {
     "name": "stderr",
     "output_type": "stream",
     "text": [
      "100%|██████████| 4250/4250 [00:03<00:00, 1131.31it/s]\n"
     ]
    },
    {
     "name": "stdout",
     "output_type": "stream",
     "text": [
      "OK!\n",
      "NDCG IA\n"
     ]
    },
    {
     "name": "stderr",
     "output_type": "stream",
     "text": [
      "100%|██████████| 4250/4250 [00:04<00:00, 875.52it/s]\n"
     ]
    },
    {
     "name": "stdout",
     "output_type": "stream",
     "text": [
      "OK!\n",
      "S-Recall\n"
     ]
    },
    {
     "name": "stderr",
     "output_type": "stream",
     "text": [
      "100%|██████████| 4250/4250 [00:01<00:00, 2162.05it/s]\n"
     ]
    },
    {
     "name": "stdout",
     "output_type": "stream",
     "text": [
      "OK!\n",
      "Calibration KL\n"
     ]
    },
    {
     "name": "stderr",
     "output_type": "stream",
     "text": [
      "100%|██████████| 4250/4250 [00:19<00:00, 212.79it/s]\n"
     ]
    },
    {
     "name": "stdout",
     "output_type": "stream",
     "text": [
      "OK!\n",
      "Calibration Hellinger\n"
     ]
    },
    {
     "name": "stderr",
     "output_type": "stream",
     "text": [
      "100%|██████████| 4250/4250 [00:21<00:00, 200.41it/s]\n"
     ]
    },
    {
     "name": "stdout",
     "output_type": "stream",
     "text": [
      "OK!\n",
      "Pre-processing...\n"
     ]
    },
    {
     "name": "stderr",
     "output_type": "stream",
     "text": [
      "\u001b[39mINFO\u001b[0m - Performing evaluation on metrics chosen\n"
     ]
    },
    {
     "name": "stdout",
     "output_type": "stream",
     "text": [
      "OK!\n",
      "Accuracy metrics...\n"
     ]
    },
    {
     "name": "stderr",
     "output_type": "stream",
     "text": [
      "Performing NDCG@20:  80%|████████  | 4/5 [00:13<00:03]             C:\\Users\\ctreuill.BIDOUILLE\\AppData\\Roaming\\Python\\Python39\\site-packages\\clayrs\\evaluation\\metrics\\ranking_metrics.py:205: RuntimeWarning: invalid value encountered in double_scalars\n",
      "  return actual / ideal\n",
      "Performing NDCG@20:  100%|██████████| 5/5 [00:14<00:00]\n"
     ]
    },
    {
     "name": "stdout",
     "output_type": "stream",
     "text": [
      "OK!\n",
      "ILS...\n"
     ]
    },
    {
     "name": "stderr",
     "output_type": "stream",
     "text": [
      "100%|██████████| 2894/2894 [00:21<00:00, 135.35it/s]\n"
     ]
    },
    {
     "name": "stdout",
     "output_type": "stream",
     "text": [
      "OK!\n",
      "alpha NDCG\n"
     ]
    },
    {
     "name": "stderr",
     "output_type": "stream",
     "text": [
      "100%|██████████| 2894/2894 [00:03<00:00, 855.31it/s]\n"
     ]
    },
    {
     "name": "stdout",
     "output_type": "stream",
     "text": [
      "OK!\n",
      "NDCG IA\n"
     ]
    },
    {
     "name": "stderr",
     "output_type": "stream",
     "text": [
      "100%|██████████| 2894/2894 [00:07<00:00, 377.10it/s]\n"
     ]
    },
    {
     "name": "stdout",
     "output_type": "stream",
     "text": [
      "OK!\n",
      "S-Recall\n"
     ]
    },
    {
     "name": "stderr",
     "output_type": "stream",
     "text": [
      "100%|██████████| 2894/2894 [00:04<00:00, 581.31it/s]\n"
     ]
    },
    {
     "name": "stdout",
     "output_type": "stream",
     "text": [
      "OK!\n",
      "Calibration KL\n"
     ]
    },
    {
     "name": "stderr",
     "output_type": "stream",
     "text": [
      "100%|██████████| 2894/2894 [27:46<00:00,  1.74it/s] \n"
     ]
    },
    {
     "name": "stdout",
     "output_type": "stream",
     "text": [
      "OK!\n",
      "Calibration Hellinger\n"
     ]
    },
    {
     "name": "stderr",
     "output_type": "stream",
     "text": [
      "100%|██████████| 2894/2894 [00:13<00:00, 208.59it/s]\n",
      "\u001b[39mINFO\u001b[0m - Performing evaluation on metrics chosen\n"
     ]
    },
    {
     "name": "stdout",
     "output_type": "stream",
     "text": [
      "OK!\n",
      "Pre-processing...\n",
      "OK!\n",
      "Accuracy metrics...\n"
     ]
    },
    {
     "name": "stderr",
     "output_type": "stream",
     "text": [
      "Performing NDCG@20:  60%|██████    | 3/5 [00:00<00:00]        C:\\Users\\ctreuill.BIDOUILLE\\AppData\\Roaming\\Python\\Python39\\site-packages\\clayrs\\evaluation\\metrics\\ranking_metrics.py:205: RuntimeWarning: invalid value encountered in double_scalars\n",
      "  return actual / ideal\n",
      "Performing NDCG@20:  100%|██████████| 5/5 [00:00<00:00]\n"
     ]
    },
    {
     "name": "stdout",
     "output_type": "stream",
     "text": [
      "OK!\n",
      "ILS...\n"
     ]
    },
    {
     "name": "stderr",
     "output_type": "stream",
     "text": [
      "100%|██████████| 207/207 [00:02<00:00, 95.94it/s] \n"
     ]
    },
    {
     "name": "stdout",
     "output_type": "stream",
     "text": [
      "OK!\n",
      "alpha NDCG\n"
     ]
    },
    {
     "name": "stderr",
     "output_type": "stream",
     "text": [
      "100%|██████████| 207/207 [00:00<00:00, 843.13it/s]\n"
     ]
    },
    {
     "name": "stdout",
     "output_type": "stream",
     "text": [
      "OK!\n",
      "NDCG IA\n"
     ]
    },
    {
     "name": "stderr",
     "output_type": "stream",
     "text": [
      "100%|██████████| 207/207 [00:00<00:00, 465.36it/s]\n"
     ]
    },
    {
     "name": "stdout",
     "output_type": "stream",
     "text": [
      "OK!\n",
      "S-Recall\n"
     ]
    },
    {
     "name": "stderr",
     "output_type": "stream",
     "text": [
      "100%|██████████| 207/207 [00:00<00:00, 1744.48it/s]\n"
     ]
    },
    {
     "name": "stdout",
     "output_type": "stream",
     "text": [
      "OK!\n",
      "Calibration KL\n"
     ]
    },
    {
     "name": "stderr",
     "output_type": "stream",
     "text": [
      "100%|██████████| 207/207 [00:01<00:00, 191.49it/s]\n"
     ]
    },
    {
     "name": "stdout",
     "output_type": "stream",
     "text": [
      "OK!\n",
      "Calibration Hellinger\n"
     ]
    },
    {
     "name": "stderr",
     "output_type": "stream",
     "text": [
      "100%|██████████| 207/207 [00:01<00:00, 175.65it/s]\n",
      "\u001b[39mINFO\u001b[0m - Performing evaluation on metrics chosen\n"
     ]
    },
    {
     "name": "stdout",
     "output_type": "stream",
     "text": [
      "OK!\n",
      "Pre-processing...\n",
      "OK!\n",
      "Accuracy metrics...\n"
     ]
    },
    {
     "name": "stderr",
     "output_type": "stream",
     "text": [
      "Performing NDCG@20:  0%|          | 0/5 [00:00<?]             C:\\Users\\ctreuill.BIDOUILLE\\AppData\\Roaming\\Python\\Python39\\site-packages\\clayrs\\evaluation\\metrics\\ranking_metrics.py:205: RuntimeWarning: invalid value encountered in double_scalars\n",
      "  return actual / ideal\n",
      "Performing NDCG@20:  100%|██████████| 5/5 [00:00<00:00]\n"
     ]
    },
    {
     "name": "stdout",
     "output_type": "stream",
     "text": [
      "OK!\n",
      "ILS...\n"
     ]
    },
    {
     "name": "stderr",
     "output_type": "stream",
     "text": [
      "100%|██████████| 3/3 [00:00<00:00, 121.28it/s]\n"
     ]
    },
    {
     "name": "stdout",
     "output_type": "stream",
     "text": [
      "OK!\n",
      "alpha NDCG\n"
     ]
    },
    {
     "name": "stderr",
     "output_type": "stream",
     "text": [
      "100%|██████████| 3/3 [00:00<00:00, 589.28it/s]\n"
     ]
    },
    {
     "name": "stdout",
     "output_type": "stream",
     "text": [
      "OK!\n",
      "NDCG IA\n"
     ]
    },
    {
     "name": "stderr",
     "output_type": "stream",
     "text": [
      "100%|██████████| 3/3 [00:00<00:00, 601.97it/s]\n"
     ]
    },
    {
     "name": "stdout",
     "output_type": "stream",
     "text": [
      "OK!\n",
      "S-Recall\n"
     ]
    },
    {
     "name": "stderr",
     "output_type": "stream",
     "text": [
      "100%|██████████| 3/3 [00:00<00:00, 573.25it/s]\n"
     ]
    },
    {
     "name": "stdout",
     "output_type": "stream",
     "text": [
      "OK!\n",
      "Calibration KL\n"
     ]
    },
    {
     "name": "stderr",
     "output_type": "stream",
     "text": [
      "100%|██████████| 3/3 [00:00<00:00, 152.93it/s]\n"
     ]
    },
    {
     "name": "stdout",
     "output_type": "stream",
     "text": [
      "OK!\n",
      "Calibration Hellinger\n"
     ]
    },
    {
     "name": "stderr",
     "output_type": "stream",
     "text": [
      "100%|██████████| 3/3 [00:00<00:00, 223.05it/s]\n",
      "\u001b[39mINFO\u001b[0m - Performing evaluation on metrics chosen\n"
     ]
    },
    {
     "name": "stdout",
     "output_type": "stream",
     "text": [
      "OK!\n",
      "Pre-processing...\n",
      "OK!\n",
      "Accuracy metrics...\n"
     ]
    },
    {
     "name": "stderr",
     "output_type": "stream",
     "text": [
      "Performing NDCG@20:  0%|          | 0/5 [00:00<?]             C:\\Users\\ctreuill.BIDOUILLE\\AppData\\Roaming\\Python\\Python39\\site-packages\\clayrs\\evaluation\\metrics\\ranking_metrics.py:205: RuntimeWarning: invalid value encountered in double_scalars\n",
      "  return actual / ideal\n",
      "Performing NDCG@20:  100%|██████████| 5/5 [00:00<00:00]\n"
     ]
    },
    {
     "name": "stdout",
     "output_type": "stream",
     "text": [
      "OK!\n",
      "ILS...\n"
     ]
    },
    {
     "name": "stderr",
     "output_type": "stream",
     "text": [
      "100%|██████████| 24/24 [00:00<00:00, 89.41it/s]\n"
     ]
    },
    {
     "name": "stdout",
     "output_type": "stream",
     "text": [
      "OK!\n",
      "alpha NDCG\n"
     ]
    },
    {
     "name": "stderr",
     "output_type": "stream",
     "text": [
      "100%|██████████| 24/24 [00:00<00:00, 575.71it/s]\n"
     ]
    },
    {
     "name": "stdout",
     "output_type": "stream",
     "text": [
      "OK!\n",
      "NDCG IA\n"
     ]
    },
    {
     "name": "stderr",
     "output_type": "stream",
     "text": [
      "100%|██████████| 24/24 [00:00<00:00, 434.85it/s]\n"
     ]
    },
    {
     "name": "stdout",
     "output_type": "stream",
     "text": [
      "OK!\n",
      "S-Recall\n"
     ]
    },
    {
     "name": "stderr",
     "output_type": "stream",
     "text": [
      "100%|██████████| 24/24 [00:00<00:00, 2121.82it/s]\n"
     ]
    },
    {
     "name": "stdout",
     "output_type": "stream",
     "text": [
      "OK!\n",
      "Calibration KL\n"
     ]
    },
    {
     "name": "stderr",
     "output_type": "stream",
     "text": [
      "100%|██████████| 24/24 [00:00<00:00, 184.08it/s]\n"
     ]
    },
    {
     "name": "stdout",
     "output_type": "stream",
     "text": [
      "OK!\n",
      "Calibration Hellinger\n"
     ]
    },
    {
     "name": "stderr",
     "output_type": "stream",
     "text": [
      "100%|██████████| 24/24 [00:00<00:00, 207.48it/s]\n"
     ]
    },
    {
     "name": "stdout",
     "output_type": "stream",
     "text": [
      "OK!\n",
      "Pre-processing...\n"
     ]
    },
    {
     "name": "stderr",
     "output_type": "stream",
     "text": [
      "\u001b[39mINFO\u001b[0m - Performing evaluation on metrics chosen\n"
     ]
    },
    {
     "name": "stdout",
     "output_type": "stream",
     "text": [
      "OK!\n",
      "Accuracy metrics...\n"
     ]
    },
    {
     "name": "stderr",
     "output_type": "stream",
     "text": [
      "Performing NDCG@20:  80%|████████  | 4/5 [00:00<00:00]        C:\\Users\\ctreuill.BIDOUILLE\\AppData\\Roaming\\Python\\Python39\\site-packages\\clayrs\\evaluation\\metrics\\ranking_metrics.py:205: RuntimeWarning: invalid value encountered in double_scalars\n",
      "  return actual / ideal\n",
      "Performing NDCG@20:  100%|██████████| 5/5 [00:00<00:00]\n"
     ]
    },
    {
     "name": "stdout",
     "output_type": "stream",
     "text": [
      "OK!\n",
      "ILS...\n"
     ]
    },
    {
     "name": "stderr",
     "output_type": "stream",
     "text": [
      "100%|██████████| 133/133 [00:01<00:00, 82.48it/s] \n"
     ]
    },
    {
     "name": "stdout",
     "output_type": "stream",
     "text": [
      "OK!\n",
      "alpha NDCG\n"
     ]
    },
    {
     "name": "stderr",
     "output_type": "stream",
     "text": [
      "100%|██████████| 133/133 [00:00<00:00, 474.65it/s]\n"
     ]
    },
    {
     "name": "stdout",
     "output_type": "stream",
     "text": [
      "OK!\n",
      "NDCG IA\n"
     ]
    },
    {
     "name": "stderr",
     "output_type": "stream",
     "text": [
      "100%|██████████| 133/133 [00:00<00:00, 338.11it/s]\n"
     ]
    },
    {
     "name": "stdout",
     "output_type": "stream",
     "text": [
      "OK!\n",
      "S-Recall\n"
     ]
    },
    {
     "name": "stderr",
     "output_type": "stream",
     "text": [
      "100%|██████████| 133/133 [00:00<00:00, 2120.69it/s]\n"
     ]
    },
    {
     "name": "stdout",
     "output_type": "stream",
     "text": [
      "OK!\n",
      "Calibration KL\n"
     ]
    },
    {
     "name": "stderr",
     "output_type": "stream",
     "text": [
      "100%|██████████| 133/133 [00:00<00:00, 246.55it/s]\n"
     ]
    },
    {
     "name": "stdout",
     "output_type": "stream",
     "text": [
      "OK!\n",
      "Calibration Hellinger\n"
     ]
    },
    {
     "name": "stderr",
     "output_type": "stream",
     "text": [
      "100%|██████████| 133/133 [00:00<00:00, 216.79it/s]\n"
     ]
    },
    {
     "name": "stdout",
     "output_type": "stream",
     "text": [
      "OK!\n",
      "Pre-processing...\n"
     ]
    },
    {
     "name": "stderr",
     "output_type": "stream",
     "text": [
      "\u001b[39mINFO\u001b[0m - Performing evaluation on metrics chosen\n"
     ]
    },
    {
     "name": "stdout",
     "output_type": "stream",
     "text": [
      "OK!\n",
      "Accuracy metrics...\n"
     ]
    },
    {
     "name": "stderr",
     "output_type": "stream",
     "text": [
      "Performing NDCG@20:  80%|████████  | 4/5 [00:00<00:00]             C:\\Users\\ctreuill.BIDOUILLE\\AppData\\Roaming\\Python\\Python39\\site-packages\\clayrs\\evaluation\\metrics\\ranking_metrics.py:205: RuntimeWarning: invalid value encountered in double_scalars\n",
      "  return actual / ideal\n",
      "Performing NDCG@20:  100%|██████████| 5/5 [00:00<00:00]\n"
     ]
    },
    {
     "name": "stdout",
     "output_type": "stream",
     "text": [
      "OK!\n",
      "ILS...\n"
     ]
    },
    {
     "name": "stderr",
     "output_type": "stream",
     "text": [
      "100%|██████████| 525/525 [00:04<00:00, 128.22it/s]\n"
     ]
    },
    {
     "name": "stdout",
     "output_type": "stream",
     "text": [
      "OK!\n",
      "alpha NDCG\n"
     ]
    },
    {
     "name": "stderr",
     "output_type": "stream",
     "text": [
      "100%|██████████| 525/525 [00:00<00:00, 920.89it/s] \n"
     ]
    },
    {
     "name": "stdout",
     "output_type": "stream",
     "text": [
      "OK!\n",
      "NDCG IA\n"
     ]
    },
    {
     "name": "stderr",
     "output_type": "stream",
     "text": [
      "100%|██████████| 525/525 [00:00<00:00, 637.91it/s]\n"
     ]
    },
    {
     "name": "stdout",
     "output_type": "stream",
     "text": [
      "OK!\n",
      "S-Recall\n"
     ]
    },
    {
     "name": "stderr",
     "output_type": "stream",
     "text": [
      "100%|██████████| 525/525 [00:00<00:00, 2237.13it/s]\n"
     ]
    },
    {
     "name": "stdout",
     "output_type": "stream",
     "text": [
      "OK!\n",
      "Calibration KL\n"
     ]
    },
    {
     "name": "stderr",
     "output_type": "stream",
     "text": [
      "100%|██████████| 525/525 [00:01<00:00, 265.56it/s]\n"
     ]
    },
    {
     "name": "stdout",
     "output_type": "stream",
     "text": [
      "OK!\n",
      "Calibration Hellinger\n"
     ]
    },
    {
     "name": "stderr",
     "output_type": "stream",
     "text": [
      "100%|██████████| 525/525 [00:02<00:00, 249.62it/s]\n"
     ]
    },
    {
     "name": "stdout",
     "output_type": "stream",
     "text": [
      "OK!\n",
      "Pre-processing...\n"
     ]
    },
    {
     "name": "stderr",
     "output_type": "stream",
     "text": [
      "\u001b[39mINFO\u001b[0m - Performing evaluation on metrics chosen\n"
     ]
    },
    {
     "name": "stdout",
     "output_type": "stream",
     "text": [
      "OK!\n",
      "Accuracy metrics...\n"
     ]
    },
    {
     "name": "stderr",
     "output_type": "stream",
     "text": [
      "Performing NDCG@20:  80%|████████  | 4/5 [00:02<00:00]             C:\\Users\\ctreuill.BIDOUILLE\\AppData\\Roaming\\Python\\Python39\\site-packages\\clayrs\\evaluation\\metrics\\ranking_metrics.py:205: RuntimeWarning: invalid value encountered in double_scalars\n",
      "  return actual / ideal\n",
      "Performing NDCG@20:  100%|██████████| 5/5 [00:03<00:00]\n"
     ]
    },
    {
     "name": "stdout",
     "output_type": "stream",
     "text": [
      "OK!\n",
      "ILS...\n"
     ]
    },
    {
     "name": "stderr",
     "output_type": "stream",
     "text": [
      "100%|██████████| 1964/1964 [00:15<00:00, 130.65it/s]\n"
     ]
    },
    {
     "name": "stdout",
     "output_type": "stream",
     "text": [
      "OK!\n",
      "alpha NDCG\n"
     ]
    },
    {
     "name": "stderr",
     "output_type": "stream",
     "text": [
      "100%|██████████| 1964/1964 [00:02<00:00, 848.13it/s]\n"
     ]
    },
    {
     "name": "stdout",
     "output_type": "stream",
     "text": [
      "OK!\n",
      "NDCG IA\n"
     ]
    },
    {
     "name": "stderr",
     "output_type": "stream",
     "text": [
      "100%|██████████| 1964/1964 [00:02<00:00, 691.11it/s]\n"
     ]
    },
    {
     "name": "stdout",
     "output_type": "stream",
     "text": [
      "OK!\n",
      "S-Recall\n"
     ]
    },
    {
     "name": "stderr",
     "output_type": "stream",
     "text": [
      "100%|██████████| 1964/1964 [00:00<00:00, 2065.51it/s]\n"
     ]
    },
    {
     "name": "stdout",
     "output_type": "stream",
     "text": [
      "OK!\n",
      "Calibration KL\n"
     ]
    },
    {
     "name": "stderr",
     "output_type": "stream",
     "text": [
      "100%|██████████| 1964/1964 [00:07<00:00, 261.45it/s]\n"
     ]
    },
    {
     "name": "stdout",
     "output_type": "stream",
     "text": [
      "OK!\n",
      "Calibration Hellinger\n"
     ]
    },
    {
     "name": "stderr",
     "output_type": "stream",
     "text": [
      "100%|██████████| 1964/1964 [00:07<00:00, 271.88it/s]\n"
     ]
    },
    {
     "name": "stdout",
     "output_type": "stream",
     "text": [
      "OK!\n",
      "Pre-processing...\n"
     ]
    },
    {
     "name": "stderr",
     "output_type": "stream",
     "text": [
      "\u001b[39mINFO\u001b[0m - Performing evaluation on metrics chosen\n"
     ]
    },
    {
     "name": "stdout",
     "output_type": "stream",
     "text": [
      "OK!\n",
      "Accuracy metrics...\n"
     ]
    },
    {
     "name": "stderr",
     "output_type": "stream",
     "text": [
      "Performing NDCG@20:  80%|████████  | 4/5 [00:11<00:02]             C:\\Users\\ctreuill.BIDOUILLE\\AppData\\Roaming\\Python\\Python39\\site-packages\\clayrs\\evaluation\\metrics\\ranking_metrics.py:205: RuntimeWarning: invalid value encountered in double_scalars\n",
      "  return actual / ideal\n",
      "Performing NDCG@20:  100%|██████████| 5/5 [00:13<00:00]\n"
     ]
    },
    {
     "name": "stdout",
     "output_type": "stream",
     "text": [
      "OK!\n",
      "ILS...\n"
     ]
    },
    {
     "name": "stderr",
     "output_type": "stream",
     "text": [
      "100%|██████████| 4250/4250 [00:22<00:00, 188.30it/s]\n"
     ]
    },
    {
     "name": "stdout",
     "output_type": "stream",
     "text": [
      "OK!\n",
      "alpha NDCG\n"
     ]
    },
    {
     "name": "stderr",
     "output_type": "stream",
     "text": [
      "100%|██████████| 4250/4250 [00:03<00:00, 1276.64it/s]\n"
     ]
    },
    {
     "name": "stdout",
     "output_type": "stream",
     "text": [
      "OK!\n",
      "NDCG IA\n"
     ]
    },
    {
     "name": "stderr",
     "output_type": "stream",
     "text": [
      "100%|██████████| 4250/4250 [00:04<00:00, 976.58it/s] \n"
     ]
    },
    {
     "name": "stdout",
     "output_type": "stream",
     "text": [
      "OK!\n",
      "S-Recall\n"
     ]
    },
    {
     "name": "stderr",
     "output_type": "stream",
     "text": [
      "100%|██████████| 4250/4250 [00:01<00:00, 2997.32it/s]\n"
     ]
    },
    {
     "name": "stdout",
     "output_type": "stream",
     "text": [
      "OK!\n",
      "Calibration KL\n"
     ]
    },
    {
     "name": "stderr",
     "output_type": "stream",
     "text": [
      "100%|██████████| 4250/4250 [00:09<00:00, 433.21it/s]\n"
     ]
    },
    {
     "name": "stdout",
     "output_type": "stream",
     "text": [
      "OK!\n",
      "Calibration Hellinger\n"
     ]
    },
    {
     "name": "stderr",
     "output_type": "stream",
     "text": [
      "100%|██████████| 4250/4250 [00:09<00:00, 442.03it/s]\n"
     ]
    },
    {
     "name": "stdout",
     "output_type": "stream",
     "text": [
      "OK!\n",
      "Pre-processing...\n"
     ]
    },
    {
     "name": "stderr",
     "output_type": "stream",
     "text": [
      "\u001b[39mINFO\u001b[0m - Performing evaluation on metrics chosen\n"
     ]
    },
    {
     "name": "stdout",
     "output_type": "stream",
     "text": [
      "OK!\n",
      "Accuracy metrics...\n"
     ]
    },
    {
     "name": "stderr",
     "output_type": "stream",
     "text": [
      "Performing NDCG@20:  80%|████████  | 4/5 [00:03<00:00]             C:\\Users\\ctreuill.BIDOUILLE\\AppData\\Roaming\\Python\\Python39\\site-packages\\clayrs\\evaluation\\metrics\\ranking_metrics.py:205: RuntimeWarning: invalid value encountered in double_scalars\n",
      "  return actual / ideal\n",
      "Performing NDCG@20:  100%|██████████| 5/5 [00:04<00:00]\n"
     ]
    },
    {
     "name": "stdout",
     "output_type": "stream",
     "text": [
      "OK!\n",
      "ILS...\n"
     ]
    },
    {
     "name": "stderr",
     "output_type": "stream",
     "text": [
      "100%|██████████| 2894/2894 [00:12<00:00, 225.75it/s]\n"
     ]
    },
    {
     "name": "stdout",
     "output_type": "stream",
     "text": [
      "OK!\n",
      "alpha NDCG\n"
     ]
    },
    {
     "name": "stderr",
     "output_type": "stream",
     "text": [
      "100%|██████████| 2894/2894 [00:02<00:00, 1446.90it/s]\n"
     ]
    },
    {
     "name": "stdout",
     "output_type": "stream",
     "text": [
      "OK!\n",
      "NDCG IA\n"
     ]
    },
    {
     "name": "stderr",
     "output_type": "stream",
     "text": [
      "100%|██████████| 2894/2894 [00:02<00:00, 1121.12it/s]\n"
     ]
    },
    {
     "name": "stdout",
     "output_type": "stream",
     "text": [
      "OK!\n",
      "S-Recall\n"
     ]
    },
    {
     "name": "stderr",
     "output_type": "stream",
     "text": [
      "100%|██████████| 2894/2894 [00:00<00:00, 3386.98it/s]\n"
     ]
    },
    {
     "name": "stdout",
     "output_type": "stream",
     "text": [
      "OK!\n",
      "Calibration KL\n"
     ]
    },
    {
     "name": "stderr",
     "output_type": "stream",
     "text": [
      "100%|██████████| 2894/2894 [00:06<00:00, 469.23it/s]\n"
     ]
    },
    {
     "name": "stdout",
     "output_type": "stream",
     "text": [
      "OK!\n",
      "Calibration Hellinger\n"
     ]
    },
    {
     "name": "stderr",
     "output_type": "stream",
     "text": [
      "100%|██████████| 2894/2894 [00:06<00:00, 455.07it/s]\n",
      "\u001b[39mINFO\u001b[0m - Performing evaluation on metrics chosen\n"
     ]
    },
    {
     "name": "stdout",
     "output_type": "stream",
     "text": [
      "OK!\n",
      "Pre-processing...\n",
      "OK!\n",
      "Accuracy metrics...\n"
     ]
    },
    {
     "name": "stderr",
     "output_type": "stream",
     "text": [
      "Performing NDCG@20:  80%|████████  | 4/5 [00:00<00:00]        C:\\Users\\ctreuill.BIDOUILLE\\AppData\\Roaming\\Python\\Python39\\site-packages\\clayrs\\evaluation\\metrics\\ranking_metrics.py:205: RuntimeWarning: invalid value encountered in double_scalars\n",
      "  return actual / ideal\n",
      "Performing NDCG@20:  100%|██████████| 5/5 [00:00<00:00]\n"
     ]
    },
    {
     "name": "stdout",
     "output_type": "stream",
     "text": [
      "OK!\n",
      "ILS...\n"
     ]
    },
    {
     "name": "stderr",
     "output_type": "stream",
     "text": [
      "100%|██████████| 207/207 [00:01<00:00, 206.65it/s]\n"
     ]
    },
    {
     "name": "stdout",
     "output_type": "stream",
     "text": [
      "OK!\n",
      "alpha NDCG\n"
     ]
    },
    {
     "name": "stderr",
     "output_type": "stream",
     "text": [
      "100%|██████████| 207/207 [00:00<00:00, 1782.40it/s]\n"
     ]
    },
    {
     "name": "stdout",
     "output_type": "stream",
     "text": [
      "OK!\n",
      "NDCG IA\n"
     ]
    },
    {
     "name": "stderr",
     "output_type": "stream",
     "text": [
      "100%|██████████| 207/207 [00:00<00:00, 1213.15it/s]\n"
     ]
    },
    {
     "name": "stdout",
     "output_type": "stream",
     "text": [
      "OK!\n",
      "S-Recall\n"
     ]
    },
    {
     "name": "stderr",
     "output_type": "stream",
     "text": [
      "100%|██████████| 207/207 [00:00<00:00, 4597.17it/s]\n"
     ]
    },
    {
     "name": "stdout",
     "output_type": "stream",
     "text": [
      "OK!\n",
      "Calibration KL\n"
     ]
    },
    {
     "name": "stderr",
     "output_type": "stream",
     "text": [
      "100%|██████████| 207/207 [00:00<00:00, 492.93it/s]\n"
     ]
    },
    {
     "name": "stdout",
     "output_type": "stream",
     "text": [
      "OK!\n",
      "Calibration Hellinger\n"
     ]
    },
    {
     "name": "stderr",
     "output_type": "stream",
     "text": [
      "100%|██████████| 207/207 [00:00<00:00, 399.92it/s]\n",
      "\u001b[39mINFO\u001b[0m - Performing evaluation on metrics chosen\n"
     ]
    },
    {
     "name": "stdout",
     "output_type": "stream",
     "text": [
      "OK!\n",
      "Pre-processing...\n",
      "OK!\n",
      "Accuracy metrics...\n"
     ]
    },
    {
     "name": "stderr",
     "output_type": "stream",
     "text": [
      "Performing NDCG@20:  0%|          | 0/5 [00:00<?]             C:\\Users\\ctreuill.BIDOUILLE\\AppData\\Roaming\\Python\\Python39\\site-packages\\clayrs\\evaluation\\metrics\\ranking_metrics.py:205: RuntimeWarning: invalid value encountered in double_scalars\n",
      "  return actual / ideal\n",
      "Performing NDCG@20:  100%|██████████| 5/5 [00:00<00:00]\n"
     ]
    },
    {
     "name": "stdout",
     "output_type": "stream",
     "text": [
      "OK!\n",
      "ILS...\n"
     ]
    },
    {
     "name": "stderr",
     "output_type": "stream",
     "text": [
      "100%|██████████| 3/3 [00:00<00:00, 177.35it/s]\n"
     ]
    },
    {
     "name": "stdout",
     "output_type": "stream",
     "text": [
      "OK!\n",
      "alpha NDCG\n"
     ]
    },
    {
     "name": "stderr",
     "output_type": "stream",
     "text": [
      "100%|██████████| 3/3 [00:00<00:00, 1504.77it/s]\n"
     ]
    },
    {
     "name": "stdout",
     "output_type": "stream",
     "text": [
      "OK!\n",
      "NDCG IA\n"
     ]
    },
    {
     "name": "stderr",
     "output_type": "stream",
     "text": [
      "100%|██████████| 3/3 [00:00<00:00, 216.58it/s]\n"
     ]
    },
    {
     "name": "stdout",
     "output_type": "stream",
     "text": [
      "OK!\n",
      "S-Recall\n"
     ]
    },
    {
     "name": "stderr",
     "output_type": "stream",
     "text": [
      "100%|██████████| 3/3 [00:00<00:00, 602.00it/s]\n"
     ]
    },
    {
     "name": "stdout",
     "output_type": "stream",
     "text": [
      "OK!\n",
      "Calibration KL\n"
     ]
    },
    {
     "name": "stderr",
     "output_type": "stream",
     "text": [
      "100%|██████████| 3/3 [00:00<00:00, 267.86it/s]\n"
     ]
    },
    {
     "name": "stdout",
     "output_type": "stream",
     "text": [
      "OK!\n",
      "Calibration Hellinger\n"
     ]
    },
    {
     "name": "stderr",
     "output_type": "stream",
     "text": [
      "100%|██████████| 3/3 [00:00<00:00, 291.55it/s]\n"
     ]
    },
    {
     "name": "stdout",
     "output_type": "stream",
     "text": [
      "OK!\n",
      "Pre-processing...\n"
     ]
    },
    {
     "name": "stderr",
     "output_type": "stream",
     "text": [
      "\u001b[39mINFO\u001b[0m - Performing evaluation on metrics chosen\n"
     ]
    },
    {
     "name": "stdout",
     "output_type": "stream",
     "text": [
      "OK!\n",
      "Accuracy metrics...\n"
     ]
    },
    {
     "name": "stderr",
     "output_type": "stream",
     "text": [
      "Performing NDCG@20:  0%|          | 0/5 [00:00<?]             C:\\Users\\ctreuill.BIDOUILLE\\AppData\\Roaming\\Python\\Python39\\site-packages\\clayrs\\evaluation\\metrics\\ranking_metrics.py:205: RuntimeWarning: invalid value encountered in double_scalars\n",
      "  return actual / ideal\n",
      "Performing NDCG@20:  100%|██████████| 5/5 [00:00<00:00]\n"
     ]
    },
    {
     "name": "stdout",
     "output_type": "stream",
     "text": [
      "OK!\n",
      "ILS...\n"
     ]
    },
    {
     "name": "stderr",
     "output_type": "stream",
     "text": [
      "100%|██████████| 24/24 [00:00<00:00, 157.69it/s]\n"
     ]
    },
    {
     "name": "stdout",
     "output_type": "stream",
     "text": [
      "OK!\n",
      "alpha NDCG\n"
     ]
    },
    {
     "name": "stderr",
     "output_type": "stream",
     "text": [
      "100%|██████████| 24/24 [00:00<00:00, 1243.80it/s]\n"
     ]
    },
    {
     "name": "stdout",
     "output_type": "stream",
     "text": [
      "OK!\n",
      "NDCG IA\n"
     ]
    },
    {
     "name": "stderr",
     "output_type": "stream",
     "text": [
      "100%|██████████| 24/24 [00:00<00:00, 790.56it/s]\n"
     ]
    },
    {
     "name": "stdout",
     "output_type": "stream",
     "text": [
      "OK!\n",
      "S-Recall\n"
     ]
    },
    {
     "name": "stderr",
     "output_type": "stream",
     "text": [
      "100%|██████████| 24/24 [00:00<00:00, 3440.54it/s]\n"
     ]
    },
    {
     "name": "stdout",
     "output_type": "stream",
     "text": [
      "OK!\n",
      "Calibration KL\n"
     ]
    },
    {
     "name": "stderr",
     "output_type": "stream",
     "text": [
      "100%|██████████| 24/24 [00:00<00:00, 213.38it/s]\n"
     ]
    },
    {
     "name": "stdout",
     "output_type": "stream",
     "text": [
      "OK!\n",
      "Calibration Hellinger\n"
     ]
    },
    {
     "name": "stderr",
     "output_type": "stream",
     "text": [
      "100%|██████████| 24/24 [00:00<00:00, 295.02it/s]\n",
      "\u001b[39mINFO\u001b[0m - Performing evaluation on metrics chosen\n"
     ]
    },
    {
     "name": "stdout",
     "output_type": "stream",
     "text": [
      "OK!\n",
      "Pre-processing...\n",
      "OK!\n",
      "Accuracy metrics...\n"
     ]
    },
    {
     "name": "stderr",
     "output_type": "stream",
     "text": [
      "Performing NDCG@20:  0%|          | 0/5 [00:00<?]             C:\\Users\\ctreuill.BIDOUILLE\\AppData\\Roaming\\Python\\Python39\\site-packages\\clayrs\\evaluation\\metrics\\ranking_metrics.py:205: RuntimeWarning: invalid value encountered in double_scalars\n",
      "  return actual / ideal\n",
      "Performing NDCG@20:  100%|██████████| 5/5 [00:00<00:00]\n"
     ]
    },
    {
     "name": "stdout",
     "output_type": "stream",
     "text": [
      "OK!\n",
      "ILS...\n"
     ]
    },
    {
     "name": "stderr",
     "output_type": "stream",
     "text": [
      "100%|██████████| 133/133 [00:00<00:00, 215.58it/s]\n"
     ]
    },
    {
     "name": "stdout",
     "output_type": "stream",
     "text": [
      "OK!\n",
      "alpha NDCG\n"
     ]
    },
    {
     "name": "stderr",
     "output_type": "stream",
     "text": [
      "100%|██████████| 133/133 [00:00<00:00, 1732.11it/s]\n"
     ]
    },
    {
     "name": "stdout",
     "output_type": "stream",
     "text": [
      "OK!\n",
      "NDCG IA\n"
     ]
    },
    {
     "name": "stderr",
     "output_type": "stream",
     "text": [
      "100%|██████████| 133/133 [00:00<00:00, 1305.71it/s]\n"
     ]
    },
    {
     "name": "stdout",
     "output_type": "stream",
     "text": [
      "OK!\n",
      "S-Recall\n"
     ]
    },
    {
     "name": "stderr",
     "output_type": "stream",
     "text": [
      "100%|██████████| 133/133 [00:00<00:00, 1199.79it/s]\n"
     ]
    },
    {
     "name": "stdout",
     "output_type": "stream",
     "text": [
      "OK!\n",
      "Calibration KL\n"
     ]
    },
    {
     "name": "stderr",
     "output_type": "stream",
     "text": [
      "100%|██████████| 133/133 [00:00<00:00, 458.40it/s]\n"
     ]
    },
    {
     "name": "stdout",
     "output_type": "stream",
     "text": [
      "OK!\n",
      "Calibration Hellinger\n"
     ]
    },
    {
     "name": "stderr",
     "output_type": "stream",
     "text": [
      "100%|██████████| 133/133 [00:00<00:00, 472.43it/s]\n"
     ]
    },
    {
     "name": "stdout",
     "output_type": "stream",
     "text": [
      "OK!\n",
      "Pre-processing...\n"
     ]
    },
    {
     "name": "stderr",
     "output_type": "stream",
     "text": [
      "\u001b[39mINFO\u001b[0m - Performing evaluation on metrics chosen\n"
     ]
    },
    {
     "name": "stdout",
     "output_type": "stream",
     "text": [
      "OK!\n",
      "Accuracy metrics...\n"
     ]
    },
    {
     "name": "stderr",
     "output_type": "stream",
     "text": [
      "Performing NDCG@20:  80%|████████  | 4/5 [00:00<00:00]          C:\\Users\\ctreuill.BIDOUILLE\\AppData\\Roaming\\Python\\Python39\\site-packages\\clayrs\\evaluation\\metrics\\ranking_metrics.py:205: RuntimeWarning: invalid value encountered in double_scalars\n",
      "  return actual / ideal\n",
      "Performing NDCG@20:  100%|██████████| 5/5 [00:00<00:00]\n"
     ]
    },
    {
     "name": "stdout",
     "output_type": "stream",
     "text": [
      "OK!\n",
      "ILS...\n"
     ]
    },
    {
     "name": "stderr",
     "output_type": "stream",
     "text": [
      "100%|██████████| 525/525 [00:02<00:00, 215.81it/s]\n"
     ]
    },
    {
     "name": "stdout",
     "output_type": "stream",
     "text": [
      "OK!\n",
      "alpha NDCG\n"
     ]
    },
    {
     "name": "stderr",
     "output_type": "stream",
     "text": [
      "100%|██████████| 525/525 [00:00<00:00, 1344.88it/s]\n"
     ]
    },
    {
     "name": "stdout",
     "output_type": "stream",
     "text": [
      "OK!\n",
      "NDCG IA\n"
     ]
    },
    {
     "name": "stderr",
     "output_type": "stream",
     "text": [
      "100%|██████████| 525/525 [00:00<00:00, 1362.66it/s]\n"
     ]
    },
    {
     "name": "stdout",
     "output_type": "stream",
     "text": [
      "OK!\n",
      "S-Recall\n"
     ]
    },
    {
     "name": "stderr",
     "output_type": "stream",
     "text": [
      "100%|██████████| 525/525 [00:00<00:00, 3935.50it/s]\n"
     ]
    },
    {
     "name": "stdout",
     "output_type": "stream",
     "text": [
      "OK!\n",
      "Calibration KL\n"
     ]
    },
    {
     "name": "stderr",
     "output_type": "stream",
     "text": [
      "100%|██████████| 525/525 [00:01<00:00, 456.21it/s]\n"
     ]
    },
    {
     "name": "stdout",
     "output_type": "stream",
     "text": [
      "OK!\n",
      "Calibration Hellinger\n"
     ]
    },
    {
     "name": "stderr",
     "output_type": "stream",
     "text": [
      "100%|██████████| 525/525 [00:01<00:00, 482.25it/s]\n"
     ]
    },
    {
     "name": "stdout",
     "output_type": "stream",
     "text": [
      "OK!\n",
      "Pre-processing...\n"
     ]
    },
    {
     "name": "stderr",
     "output_type": "stream",
     "text": [
      "\u001b[39mINFO\u001b[0m - Performing evaluation on metrics chosen\n"
     ]
    },
    {
     "name": "stdout",
     "output_type": "stream",
     "text": [
      "OK!\n",
      "Accuracy metrics...\n"
     ]
    },
    {
     "name": "stderr",
     "output_type": "stream",
     "text": [
      "Performing NDCG@20:  80%|████████  | 4/5 [00:01<00:00]             C:\\Users\\ctreuill.BIDOUILLE\\AppData\\Roaming\\Python\\Python39\\site-packages\\clayrs\\evaluation\\metrics\\ranking_metrics.py:205: RuntimeWarning: invalid value encountered in double_scalars\n",
      "  return actual / ideal\n",
      "Performing NDCG@20:  100%|██████████| 5/5 [00:02<00:00]\n"
     ]
    },
    {
     "name": "stdout",
     "output_type": "stream",
     "text": [
      "OK!\n",
      "ILS...\n"
     ]
    },
    {
     "name": "stderr",
     "output_type": "stream",
     "text": [
      "100%|██████████| 1964/1964 [00:08<00:00, 219.99it/s]\n"
     ]
    },
    {
     "name": "stdout",
     "output_type": "stream",
     "text": [
      "OK!\n",
      "alpha NDCG\n"
     ]
    },
    {
     "name": "stderr",
     "output_type": "stream",
     "text": [
      "100%|██████████| 1964/1964 [00:01<00:00, 1475.16it/s]\n"
     ]
    },
    {
     "name": "stdout",
     "output_type": "stream",
     "text": [
      "OK!\n",
      "NDCG IA\n"
     ]
    },
    {
     "name": "stderr",
     "output_type": "stream",
     "text": [
      "100%|██████████| 1964/1964 [00:01<00:00, 1182.34it/s]\n"
     ]
    },
    {
     "name": "stdout",
     "output_type": "stream",
     "text": [
      "OK!\n",
      "S-Recall\n"
     ]
    },
    {
     "name": "stderr",
     "output_type": "stream",
     "text": [
      "100%|██████████| 1964/1964 [00:00<00:00, 3864.14it/s]\n"
     ]
    },
    {
     "name": "stdout",
     "output_type": "stream",
     "text": [
      "OK!\n",
      "Calibration KL\n"
     ]
    },
    {
     "name": "stderr",
     "output_type": "stream",
     "text": [
      "100%|██████████| 1964/1964 [00:04<00:00, 473.84it/s]\n"
     ]
    },
    {
     "name": "stdout",
     "output_type": "stream",
     "text": [
      "OK!\n",
      "Calibration Hellinger\n"
     ]
    },
    {
     "name": "stderr",
     "output_type": "stream",
     "text": [
      "100%|██████████| 1964/1964 [00:04<00:00, 466.75it/s]\n"
     ]
    },
    {
     "name": "stdout",
     "output_type": "stream",
     "text": [
      "OK!\n",
      "Pre-processing...\n"
     ]
    },
    {
     "name": "stderr",
     "output_type": "stream",
     "text": [
      "\u001b[39mINFO\u001b[0m - Performing evaluation on metrics chosen\n"
     ]
    },
    {
     "name": "stdout",
     "output_type": "stream",
     "text": [
      "OK!\n",
      "Accuracy metrics...\n"
     ]
    },
    {
     "name": "stderr",
     "output_type": "stream",
     "text": [
      "Performing NDCG@20:  80%|████████  | 4/5 [00:08<00:02]             C:\\Users\\ctreuill.BIDOUILLE\\AppData\\Roaming\\Python\\Python39\\site-packages\\clayrs\\evaluation\\metrics\\ranking_metrics.py:205: RuntimeWarning: invalid value encountered in double_scalars\n",
      "  return actual / ideal\n",
      "Performing NDCG@20:  100%|██████████| 5/5 [00:10<00:00]\n"
     ]
    },
    {
     "name": "stdout",
     "output_type": "stream",
     "text": [
      "OK!\n",
      "ILS...\n"
     ]
    },
    {
     "name": "stderr",
     "output_type": "stream",
     "text": [
      "100%|██████████| 4250/4250 [00:19<00:00, 214.68it/s]\n"
     ]
    },
    {
     "name": "stdout",
     "output_type": "stream",
     "text": [
      "OK!\n",
      "alpha NDCG\n"
     ]
    },
    {
     "name": "stderr",
     "output_type": "stream",
     "text": [
      "100%|██████████| 4250/4250 [00:03<00:00, 1398.30it/s]\n"
     ]
    },
    {
     "name": "stdout",
     "output_type": "stream",
     "text": [
      "OK!\n",
      "NDCG IA\n"
     ]
    },
    {
     "name": "stderr",
     "output_type": "stream",
     "text": [
      "100%|██████████| 4250/4250 [00:03<00:00, 1076.78it/s]\n"
     ]
    },
    {
     "name": "stdout",
     "output_type": "stream",
     "text": [
      "OK!\n",
      "S-Recall\n"
     ]
    },
    {
     "name": "stderr",
     "output_type": "stream",
     "text": [
      "100%|██████████| 4250/4250 [00:01<00:00, 3036.60it/s]\n"
     ]
    },
    {
     "name": "stdout",
     "output_type": "stream",
     "text": [
      "OK!\n",
      "Calibration KL\n"
     ]
    },
    {
     "name": "stderr",
     "output_type": "stream",
     "text": [
      "100%|██████████| 4250/4250 [00:09<00:00, 460.52it/s]\n"
     ]
    },
    {
     "name": "stdout",
     "output_type": "stream",
     "text": [
      "OK!\n",
      "Calibration Hellinger\n"
     ]
    },
    {
     "name": "stderr",
     "output_type": "stream",
     "text": [
      "100%|██████████| 4250/4250 [00:09<00:00, 444.92it/s]\n"
     ]
    },
    {
     "name": "stdout",
     "output_type": "stream",
     "text": [
      "OK!\n",
      "Pre-processing...\n"
     ]
    },
    {
     "name": "stderr",
     "output_type": "stream",
     "text": [
      "\u001b[39mINFO\u001b[0m - Performing evaluation on metrics chosen\n"
     ]
    },
    {
     "name": "stdout",
     "output_type": "stream",
     "text": [
      "OK!\n",
      "Accuracy metrics...\n"
     ]
    },
    {
     "name": "stderr",
     "output_type": "stream",
     "text": [
      "Performing NDCG@20:  80%|████████  | 4/5 [00:03<00:00]             C:\\Users\\ctreuill.BIDOUILLE\\AppData\\Roaming\\Python\\Python39\\site-packages\\clayrs\\evaluation\\metrics\\ranking_metrics.py:205: RuntimeWarning: invalid value encountered in double_scalars\n",
      "  return actual / ideal\n",
      "Performing NDCG@20:  100%|██████████| 5/5 [00:04<00:00]\n"
     ]
    },
    {
     "name": "stdout",
     "output_type": "stream",
     "text": [
      "OK!\n",
      "ILS...\n"
     ]
    },
    {
     "name": "stderr",
     "output_type": "stream",
     "text": [
      "100%|██████████| 2894/2894 [00:13<00:00, 216.42it/s]\n"
     ]
    },
    {
     "name": "stdout",
     "output_type": "stream",
     "text": [
      "OK!\n",
      "alpha NDCG\n"
     ]
    },
    {
     "name": "stderr",
     "output_type": "stream",
     "text": [
      "100%|██████████| 2894/2894 [00:01<00:00, 1478.68it/s]\n"
     ]
    },
    {
     "name": "stdout",
     "output_type": "stream",
     "text": [
      "OK!\n",
      "NDCG IA\n"
     ]
    },
    {
     "name": "stderr",
     "output_type": "stream",
     "text": [
      "100%|██████████| 2894/2894 [00:03<00:00, 930.96it/s] \n"
     ]
    },
    {
     "name": "stdout",
     "output_type": "stream",
     "text": [
      "OK!\n",
      "S-Recall\n"
     ]
    },
    {
     "name": "stderr",
     "output_type": "stream",
     "text": [
      "100%|██████████| 2894/2894 [00:00<00:00, 2937.69it/s]\n"
     ]
    },
    {
     "name": "stdout",
     "output_type": "stream",
     "text": [
      "OK!\n",
      "Calibration KL\n"
     ]
    },
    {
     "name": "stderr",
     "output_type": "stream",
     "text": [
      "100%|██████████| 2894/2894 [00:08<00:00, 350.12it/s]\n"
     ]
    },
    {
     "name": "stdout",
     "output_type": "stream",
     "text": [
      "OK!\n",
      "Calibration Hellinger\n"
     ]
    },
    {
     "name": "stderr",
     "output_type": "stream",
     "text": [
      "100%|██████████| 2894/2894 [00:08<00:00, 327.24it/s]\n",
      "\u001b[39mINFO\u001b[0m - Performing evaluation on metrics chosen\n"
     ]
    },
    {
     "name": "stdout",
     "output_type": "stream",
     "text": [
      "OK!\n",
      "Pre-processing...\n",
      "OK!\n",
      "Accuracy metrics...\n"
     ]
    },
    {
     "name": "stderr",
     "output_type": "stream",
     "text": [
      "Performing NDCG@20:  80%|████████  | 4/5 [00:00<00:00]        C:\\Users\\ctreuill.BIDOUILLE\\AppData\\Roaming\\Python\\Python39\\site-packages\\clayrs\\evaluation\\metrics\\ranking_metrics.py:205: RuntimeWarning: invalid value encountered in double_scalars\n",
      "  return actual / ideal\n",
      "Performing NDCG@20:  100%|██████████| 5/5 [00:00<00:00]\n"
     ]
    },
    {
     "name": "stdout",
     "output_type": "stream",
     "text": [
      "OK!\n",
      "ILS...\n"
     ]
    },
    {
     "name": "stderr",
     "output_type": "stream",
     "text": [
      "100%|██████████| 207/207 [00:01<00:00, 158.36it/s]\n"
     ]
    },
    {
     "name": "stdout",
     "output_type": "stream",
     "text": [
      "OK!\n",
      "alpha NDCG\n"
     ]
    },
    {
     "name": "stderr",
     "output_type": "stream",
     "text": [
      "100%|██████████| 207/207 [00:00<00:00, 1362.30it/s]\n"
     ]
    },
    {
     "name": "stdout",
     "output_type": "stream",
     "text": [
      "OK!\n",
      "NDCG IA\n"
     ]
    },
    {
     "name": "stderr",
     "output_type": "stream",
     "text": [
      "100%|██████████| 207/207 [00:00<00:00, 942.40it/s]\n"
     ]
    },
    {
     "name": "stdout",
     "output_type": "stream",
     "text": [
      "OK!\n",
      "S-Recall\n"
     ]
    },
    {
     "name": "stderr",
     "output_type": "stream",
     "text": [
      "100%|██████████| 207/207 [00:00<00:00, 3512.11it/s]\n"
     ]
    },
    {
     "name": "stdout",
     "output_type": "stream",
     "text": [
      "OK!\n",
      "Calibration KL\n"
     ]
    },
    {
     "name": "stderr",
     "output_type": "stream",
     "text": [
      "100%|██████████| 207/207 [00:00<00:00, 355.17it/s]\n"
     ]
    },
    {
     "name": "stdout",
     "output_type": "stream",
     "text": [
      "OK!\n",
      "Calibration Hellinger\n"
     ]
    },
    {
     "name": "stderr",
     "output_type": "stream",
     "text": [
      "100%|██████████| 207/207 [00:00<00:00, 345.76it/s]"
     ]
    },
    {
     "name": "stdout",
     "output_type": "stream",
     "text": [
      "OK!\n"
     ]
    },
    {
     "name": "stderr",
     "output_type": "stream",
     "text": [
      "\n"
     ]
    }
   ],
   "source": [
    "eval_cluster_06_nopers, eval_indiv_cluster_06_nopers = evaluation_clusters(clusters, results_glob_a06, test_set, users_interest, similarity_matrix, categories_list, 'h_06_k20', k=20)\n",
    "eval_cluster_07_nopers, eval_indiv_cluster_07_nopers = evaluation_clusters(clusters, results_glob_a07, test_set, users_interest, similarity_matrix, categories_list, 'h_07_k20', k=20)\n",
    "eval_cluster_08_nopers, eval_indiv_cluster_08_nopers = evaluation_clusters(clusters, results_glob_a08, test_set, users_interest, similarity_matrix, categories_list, 'h_08_k20', k=20)\n",
    "eval_cluster_09_nopers, eval_indiv_cluster_09_nopers = evaluation_clusters(clusters, results_glob_a09, test_set, users_interest, similarity_matrix, categories_list, 'h_09_k20', k=20)\n",
    "eval_cluster_1_nopers, eval_indiv_cluster_1_nopers = evaluation_clusters(clusters, results_glob_a1, test_set, users_interest, similarity_matrix, categories_list, 'h_1_k20', k=20)"
   ]
  },
  {
   "cell_type": "code",
   "execution_count": 311,
   "metadata": {},
   "outputs": [],
   "source": [
    "# a = 0\n",
    "# for i in [eval_indiv_cluster_a0, eval_indiv_cluster_a01, eval_indiv_cluster_a02, eval_indiv_cluster_a03, eval_indiv_cluster_a04, eval_indiv_cluster_a05, eval_indiv_cluster_a06, eval_indiv_cluster_a07, eval_indiv_cluster_a08, eval_indiv_cluster_a09, eval_indiv_cluster_a1]:\n",
    "#     i = i.round(3)\n",
    "#     path = 'results_perfs/indiv/clusters/ind_a_0'+str(a)+'.csv'\n",
    "#     i.to_csv(path)\n",
    "#     a = a+1"
   ]
  },
  {
   "cell_type": "code",
   "execution_count": 312,
   "metadata": {},
   "outputs": [
    {
     "data": {
      "text/html": [
       "<div>\n",
       "<style scoped>\n",
       "    .dataframe tbody tr th:only-of-type {\n",
       "        vertical-align: middle;\n",
       "    }\n",
       "\n",
       "    .dataframe tbody tr th {\n",
       "        vertical-align: top;\n",
       "    }\n",
       "\n",
       "    .dataframe thead th {\n",
       "        text-align: right;\n",
       "    }\n",
       "</style>\n",
       "<table border=\"1\" class=\"dataframe\">\n",
       "  <thead>\n",
       "    <tr style=\"text-align: right;\">\n",
       "      <th></th>\n",
       "      <th>Precision</th>\n",
       "      <th>Recall</th>\n",
       "      <th>F1-score</th>\n",
       "      <th>MRR</th>\n",
       "      <th>NDCG</th>\n",
       "      <th>ILS</th>\n",
       "      <th>alpha_ndcg</th>\n",
       "      <th>ndcg_ia</th>\n",
       "      <th>s_recall</th>\n",
       "      <th>c_kl</th>\n",
       "      <th>c_hell</th>\n",
       "    </tr>\n",
       "    <tr>\n",
       "      <th>a_value</th>\n",
       "      <th></th>\n",
       "      <th></th>\n",
       "      <th></th>\n",
       "      <th></th>\n",
       "      <th></th>\n",
       "      <th></th>\n",
       "      <th></th>\n",
       "      <th></th>\n",
       "      <th></th>\n",
       "      <th></th>\n",
       "      <th></th>\n",
       "    </tr>\n",
       "  </thead>\n",
       "  <tbody>\n",
       "    <tr>\n",
       "      <th>h_06_k20_c0</th>\n",
       "      <td>0.201</td>\n",
       "      <td>0.694</td>\n",
       "      <td>0.269</td>\n",
       "      <td>0.217</td>\n",
       "      <td>0.423</td>\n",
       "      <td>0.340</td>\n",
       "      <td>0.525</td>\n",
       "      <td>0.615</td>\n",
       "      <td>0.692</td>\n",
       "      <td>0.491</td>\n",
       "      <td>0.409</td>\n",
       "    </tr>\n",
       "    <tr>\n",
       "      <th>h_06_k20_c1</th>\n",
       "      <td>0.212</td>\n",
       "      <td>0.653</td>\n",
       "      <td>0.293</td>\n",
       "      <td>0.359</td>\n",
       "      <td>0.546</td>\n",
       "      <td>0.666</td>\n",
       "      <td>0.909</td>\n",
       "      <td>0.795</td>\n",
       "      <td>0.417</td>\n",
       "      <td>0.062</td>\n",
       "      <td>0.129</td>\n",
       "    </tr>\n",
       "    <tr>\n",
       "      <th>h_06_k20_c2</th>\n",
       "      <td>0.274</td>\n",
       "      <td>0.738</td>\n",
       "      <td>0.347</td>\n",
       "      <td>0.391</td>\n",
       "      <td>0.555</td>\n",
       "      <td>0.566</td>\n",
       "      <td>0.793</td>\n",
       "      <td>0.711</td>\n",
       "      <td>0.429</td>\n",
       "      <td>0.068</td>\n",
       "      <td>0.122</td>\n",
       "    </tr>\n",
       "    <tr>\n",
       "      <th>h_06_k20_c3</th>\n",
       "      <td>0.259</td>\n",
       "      <td>0.698</td>\n",
       "      <td>0.323</td>\n",
       "      <td>0.424</td>\n",
       "      <td>0.563</td>\n",
       "      <td>0.541</td>\n",
       "      <td>0.835</td>\n",
       "      <td>0.660</td>\n",
       "      <td>0.439</td>\n",
       "      <td>0.087</td>\n",
       "      <td>0.124</td>\n",
       "    </tr>\n",
       "    <tr>\n",
       "      <th>h_06_k20_c4</th>\n",
       "      <td>0.243</td>\n",
       "      <td>0.676</td>\n",
       "      <td>0.303</td>\n",
       "      <td>0.419</td>\n",
       "      <td>0.561</td>\n",
       "      <td>0.493</td>\n",
       "      <td>0.844</td>\n",
       "      <td>0.604</td>\n",
       "      <td>0.454</td>\n",
       "      <td>0.119</td>\n",
       "      <td>0.134</td>\n",
       "    </tr>\n",
       "    <tr>\n",
       "      <th>h_06_k20_c5</th>\n",
       "      <td>0.224</td>\n",
       "      <td>0.632</td>\n",
       "      <td>0.277</td>\n",
       "      <td>0.439</td>\n",
       "      <td>0.570</td>\n",
       "      <td>0.428</td>\n",
       "      <td>0.902</td>\n",
       "      <td>0.560</td>\n",
       "      <td>0.516</td>\n",
       "      <td>0.137</td>\n",
       "      <td>0.140</td>\n",
       "    </tr>\n",
       "    <tr>\n",
       "      <th>h_06_k20_c6</th>\n",
       "      <td>0.214</td>\n",
       "      <td>0.586</td>\n",
       "      <td>0.261</td>\n",
       "      <td>0.413</td>\n",
       "      <td>0.562</td>\n",
       "      <td>0.379</td>\n",
       "      <td>0.906</td>\n",
       "      <td>0.519</td>\n",
       "      <td>0.603</td>\n",
       "      <td>0.142</td>\n",
       "      <td>0.143</td>\n",
       "    </tr>\n",
       "    <tr>\n",
       "      <th>h_06_k20_c7</th>\n",
       "      <td>0.172</td>\n",
       "      <td>0.543</td>\n",
       "      <td>0.216</td>\n",
       "      <td>0.337</td>\n",
       "      <td>0.520</td>\n",
       "      <td>0.341</td>\n",
       "      <td>0.875</td>\n",
       "      <td>0.476</td>\n",
       "      <td>0.710</td>\n",
       "      <td>0.133</td>\n",
       "      <td>0.140</td>\n",
       "    </tr>\n",
       "  </tbody>\n",
       "</table>\n",
       "</div>"
      ],
      "text/plain": [
       "             Precision  Recall  F1-score    MRR   NDCG    ILS  alpha_ndcg  \\\n",
       "a_value                                                                     \n",
       "h_06_k20_c0      0.201   0.694     0.269  0.217  0.423  0.340       0.525   \n",
       "h_06_k20_c1      0.212   0.653     0.293  0.359  0.546  0.666       0.909   \n",
       "h_06_k20_c2      0.274   0.738     0.347  0.391  0.555  0.566       0.793   \n",
       "h_06_k20_c3      0.259   0.698     0.323  0.424  0.563  0.541       0.835   \n",
       "h_06_k20_c4      0.243   0.676     0.303  0.419  0.561  0.493       0.844   \n",
       "h_06_k20_c5      0.224   0.632     0.277  0.439  0.570  0.428       0.902   \n",
       "h_06_k20_c6      0.214   0.586     0.261  0.413  0.562  0.379       0.906   \n",
       "h_06_k20_c7      0.172   0.543     0.216  0.337  0.520  0.341       0.875   \n",
       "\n",
       "             ndcg_ia  s_recall   c_kl  c_hell  \n",
       "a_value                                        \n",
       "h_06_k20_c0    0.615     0.692  0.491   0.409  \n",
       "h_06_k20_c1    0.795     0.417  0.062   0.129  \n",
       "h_06_k20_c2    0.711     0.429  0.068   0.122  \n",
       "h_06_k20_c3    0.660     0.439  0.087   0.124  \n",
       "h_06_k20_c4    0.604     0.454  0.119   0.134  \n",
       "h_06_k20_c5    0.560     0.516  0.137   0.140  \n",
       "h_06_k20_c6    0.519     0.603  0.142   0.143  \n",
       "h_06_k20_c7    0.476     0.710  0.133   0.140  "
      ]
     },
     "execution_count": 312,
     "metadata": {},
     "output_type": "execute_result"
    }
   ],
   "source": [
    "eval_cluster_06_nopers"
   ]
  },
  {
   "cell_type": "code",
   "execution_count": 317,
   "metadata": {},
   "outputs": [],
   "source": [
    "results_complete_c0_no_pers = pd.concat([eval_cluster_06_nopers.iloc[:1, :],eval_cluster_07_nopers.iloc[:1, :],eval_cluster_08_nopers.iloc[:1, :],eval_cluster_09_nopers.iloc[:1, :],eval_cluster_1_nopers.iloc[:1, :]])\n",
    "results_complete_c1_no_pers = pd.concat([eval_cluster_06_nopers.iloc[1:2, :],eval_cluster_07_nopers.iloc[1:2, :],eval_cluster_08_nopers.iloc[1:2, :],eval_cluster_09_nopers.iloc[1:2, :],eval_cluster_1_nopers.iloc[1:2, :]])\n",
    "results_complete_c2_no_pers = pd.concat([eval_cluster_06_nopers.iloc[2:3, :],eval_cluster_07_nopers.iloc[2:3, :],eval_cluster_08_nopers.iloc[2:3, :],eval_cluster_09_nopers.iloc[2:3, :],eval_cluster_1_nopers.iloc[2:3, :]])  \n",
    "results_complete_c3_no_pers = pd.concat([eval_cluster_06_nopers.iloc[3:4, :],eval_cluster_07_nopers.iloc[3:4, :],eval_cluster_08_nopers.iloc[3:4, :],eval_cluster_09_nopers.iloc[3:4, :],eval_cluster_1_nopers.iloc[3:4, :]])  \n",
    "results_complete_c4_no_pers = pd.concat([eval_cluster_06_nopers.iloc[4:5, :],eval_cluster_07_nopers.iloc[4:5, :],eval_cluster_08_nopers.iloc[4:5, :],eval_cluster_09_nopers.iloc[4:5, :],eval_cluster_1_nopers.iloc[4:5, :]])  \n",
    "results_complete_c5_no_pers = pd.concat([eval_cluster_06_nopers.iloc[5:6, :],eval_cluster_07_nopers.iloc[5:6, :],eval_cluster_08_nopers.iloc[5:6, :],eval_cluster_09_nopers.iloc[5:6, :],eval_cluster_1_nopers.iloc[5:6, :]])  \n",
    "results_complete_c6_no_pers = pd.concat([eval_cluster_06_nopers.iloc[6:7, :],eval_cluster_07_nopers.iloc[6:7, :],eval_cluster_08_nopers.iloc[6:7, :],eval_cluster_09_nopers.iloc[6:7, :],eval_cluster_1_nopers.iloc[6:7, :]])  \n",
    "results_complete_c7_no_pers = pd.concat([eval_cluster_06_nopers.iloc[7:8, :],eval_cluster_07_nopers.iloc[7:8, :],eval_cluster_08_nopers.iloc[7:8, :],eval_cluster_09_nopers.iloc[7:8, :],eval_cluster_1_nopers.iloc[7:8, :]])  "
   ]
  },
  {
   "cell_type": "code",
   "execution_count": 326,
   "metadata": {},
   "outputs": [],
   "source": [
    "results_complete_c0_no_pers.to_csv('results_perfs/no_pers/clusters/cluster_0.csv')\n",
    "results_complete_c1_no_pers.to_csv('results_perfs/no_pers/clusters/cluster_1.csv')\n",
    "results_complete_c2_no_pers.to_csv('results_perfs/no_pers/clusters/cluster_2.csv')\n",
    "results_complete_c3_no_pers.to_csv('results_perfs/no_pers/clusters/cluster_3.csv')\n",
    "results_complete_c4_no_pers.to_csv('results_perfs/no_pers/clusters/cluster_4.csv')\n",
    "results_complete_c5_no_pers.to_csv('results_perfs/no_pers/clusters/cluster_5.csv')\n",
    "results_complete_c6_no_pers.to_csv('results_perfs/no_pers/clusters/cluster_6.csv')\n",
    "results_complete_c7_no_pers.to_csv('results_perfs/no_pers/clusters/cluster_7.csv')"
   ]
  }
 ],
 "metadata": {
  "kernelspec": {
   "display_name": "base",
   "language": "python",
   "name": "python3"
  },
  "language_info": {
   "codemirror_mode": {
    "name": "ipython",
    "version": 3
   },
   "file_extension": ".py",
   "mimetype": "text/x-python",
   "name": "python",
   "nbconvert_exporter": "python",
   "pygments_lexer": "ipython3",
   "version": "3.9.7"
  }
 },
 "nbformat": 4,
 "nbformat_minor": 2
}
