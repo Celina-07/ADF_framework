{
 "cells": [
  {
   "cell_type": "code",
   "execution_count": 1,
   "metadata": {},
   "outputs": [],
   "source": [
    "import pandas as pd\n",
    "import json \n",
    "import numpy as np\n",
    "from tqdm import tqdm\n",
    "import ast\n",
    "import seaborn as sns\n",
    "from matplotlib import pyplot as plt\n",
    "import math"
   ]
  },
  {
   "cell_type": "code",
   "execution_count": 13,
   "metadata": {},
   "outputs": [],
   "source": [
    "from scipy.stats import mannwhitneyu\n",
    "from scipy.stats import wilcoxon\n",
    "from scipy.stats import ttest_rel\n",
    "from scipy.stats import ttest_ind\n",
    "from scipy.stats import pearsonr\n",
    "from scipy.stats import shapiro"
   ]
  },
  {
   "cell_type": "markdown",
   "metadata": {},
   "source": [
    "# Données"
   ]
  },
  {
   "cell_type": "code",
   "execution_count": 3,
   "metadata": {},
   "outputs": [],
   "source": [
    "ind_baseline = pd.read_csv('results_perfs/baseline/indiv/ind_baseline.csv', index_col=0)\n",
    "ind_a0 = pd.read_csv('results_perfs/ADF/indiv/ind_a_0.csv', index_col=0)\n",
    "ind_a01 = pd.read_csv('results_perfs/ADF/indiv/ind_a_01.csv', index_col=0)\n",
    "ind_a02 = pd.read_csv('results_perfs/ADF/indiv/ind_a_02.csv', index_col=0)\n",
    "ind_a03 = pd.read_csv('results_perfs/ADF/indiv/ind_a_03.csv', index_col=0)\n",
    "ind_a04 = pd.read_csv('results_perfs/ADF/indiv/ind_a_04.csv', index_col=0)\n",
    "ind_a05 = pd.read_csv('results_perfs/ADF/indiv/ind_a_05.csv', index_col=0)\n",
    "ind_a06 = pd.read_csv('results_perfs/ADF/indiv/ind_a_06.csv', index_col=0)\n",
    "ind_a07 = pd.read_csv('results_perfs/ADF/indiv/ind_a_07.csv', index_col=0)\n",
    "ind_a08 = pd.read_csv('results_perfs/ADF/indiv/ind_a_08.csv', index_col=0)\n",
    "ind_a09 = pd.read_csv('results_perfs/ADF/indiv/ind_a_09.csv', index_col=0)\n",
    "ind_a1 = pd.read_csv('results_perfs/ADF/indiv/ind_a_1.csv', index_col=0)"
   ]
  },
  {
   "cell_type": "code",
   "execution_count": 4,
   "metadata": {},
   "outputs": [],
   "source": [
    "ind_greedy_0 = pd.read_csv('results_perfs/greedy/indiv/ind_a_0.csv', index_col=0)\n",
    "ind_greedy_01 = pd.read_csv('results_perfs/greedy/indiv/ind_a_01.csv', index_col=0)\n",
    "ind_greedy_02 = pd.read_csv('results_perfs/greedy/indiv/ind_a_02.csv', index_col=0)\n",
    "ind_greedy_03 = pd.read_csv('results_perfs/greedy/indiv/ind_a_03.csv', index_col=0)\n",
    "ind_greedy_04 = pd.read_csv('results_perfs/greedy/indiv/ind_a_04.csv', index_col=0)\n",
    "ind_greedy_05 = pd.read_csv('results_perfs/greedy/indiv/ind_a_05.csv', index_col=0)\n",
    "ind_greedy_06 = pd.read_csv('results_perfs/greedy/indiv/ind_a_06.csv', index_col=0)\n",
    "ind_greedy_07 = pd.read_csv('results_perfs/greedy/indiv/ind_a_07.csv', index_col=0)\n",
    "ind_greedy_08 = pd.read_csv('results_perfs/greedy/indiv/ind_a_08.csv', index_col=0)\n",
    "ind_greedy_09 = pd.read_csv('results_perfs/greedy/indiv/ind_a_09.csv', index_col=0)\n",
    "ind_greedy_1 = pd.read_csv('results_perfs/greedy/indiv/ind_a_1.csv', index_col=0)"
   ]
  },
  {
   "cell_type": "code",
   "execution_count": 46,
   "metadata": {},
   "outputs": [],
   "source": [
    "no_pers_h06 = pd.read_csv('results_perfs/no_pers/indiv/ind_h06.csv', index_col=0)\n",
    "no_pers_h07 = pd.read_csv('results_perfs/no_pers/indiv/ind_h07.csv', index_col=0)\n",
    "no_pers_h08 = pd.read_csv('results_perfs/no_pers/indiv/ind_h08.csv', index_col=0)\n",
    "no_pers_h09 = pd.read_csv('results_perfs/no_pers/indiv/ind_h09.csv', index_col=0)\n",
    "no_pers_h1 = pd.read_csv('results_perfs/no_pers/indiv/ind_h1.csv', index_col=0)\n"
   ]
  },
  {
   "cell_type": "markdown",
   "metadata": {},
   "source": [
    "# Fonctions"
   ]
  },
  {
   "cell_type": "code",
   "execution_count": 6,
   "metadata": {},
   "outputs": [],
   "source": [
    "#Effect size\n",
    "#Cohen's to measures the difference between the mean from two Gaussian-distributed variables. \n",
    "# function to calculate Cohen's d for independent samples\n",
    "def cohen_d_independent(group1, group2):\n",
    "    mean1, mean2 = np.mean(group1), np.mean(group2)\n",
    "    std1, std2 = np.std(group1, ddof=1), np.std(group2, ddof=1)\n",
    "    n1, n2 = len(group1), len(group2)\n",
    "    \n",
    "    pooled_std = np.sqrt(((n1 - 1) * std1**2 + (n2 - 1) * std2**2) / (n1 + n2 - 2))\n",
    "    cohen_d = (mean1 - mean2) / pooled_std\n",
    "    \n",
    "    return cohen_d\n",
    "\n",
    "# function to calculate Cohen's d for dependent samples\n",
    "def cohen_d_dependent(sample1, sample2):\n",
    "    mean1, mean2 = np.mean(sample1), np.mean(sample2)\n",
    "    diff = sample1 - sample2\n",
    "    pooled_std = np.std(diff, ddof=1)\n",
    "    cohen_d = np.mean(diff) / pooled_std\n",
    "    \n",
    "    return cohen_d"
   ]
  },
  {
   "cell_type": "code",
   "execution_count": 63,
   "metadata": {},
   "outputs": [],
   "source": [
    "def p_values(ind_1, ind_2):\n",
    "    users_ndcg_1 = set(ind_1[~ind_1['NDCG'].isna()].index.tolist())\n",
    "    user_ndcg_2 = set(ind_2[~ind_2['NDCG'].isna()].index.tolist())\n",
    "    final_set = list(users_ndcg_1.intersection(user_ndcg_2))\n",
    "    print('P_values')\n",
    "    print('Precision')\n",
    "    print(wilcoxon(np.array(ind_1['Precision'].tolist()), ind_2['Precision'].tolist(), alternative='two-sided').pvalue)\n",
    "\n",
    "    # print('\\nRecall')\n",
    "    # print(ttest_rel(np.array(ind_1['Recall'].tolist()), ind_2['Recall'].tolist(), alternative='two-sided').pvalue)\n",
    "\n",
    "    # print('\\nF1-score')\n",
    "    # print(ttest_rel(np.array(ind_1['F1-score'].tolist()), ind_2['F1-score'].tolist(), alternative='two-sided').pvalue)\n",
    "\n",
    "    # print('\\nNDCG')\n",
    "    # print(ttest_rel(np.array(ind_1[ind_1.index.isin(final_set)]['NDCG'].tolist()), ind_2['NDCG'][ind_2.index.isin(final_set)].tolist(), alternative='two-sided').pvalue)\n",
    "\n",
    "    print('\\nILS')\n",
    "    print(wilcoxon(np.array(ind_1['ILS'].tolist()), ind_2['ILS'].tolist(), alternative='two-sided').pvalue)\n",
    "\n",
    "    # print('\\nalpha NDCG')\n",
    "    # print(ttest_rel(np.array(ind_1['alpha_ndcg'].tolist()), ind_2['alpha_ndcg'].tolist(), alternative='two-sided').pvalue)\n",
    "\n",
    "    # print('\\nNDCG IA')\n",
    "    # print(ttest_rel(np.array(ind_1['ndcg_ia'].tolist()), ind_2['ndcg_ia'].tolist(), alternative='two-sided').pvalue)\n",
    "\n",
    "    print('\\nS-Recall')\n",
    "    print(wilcoxon(np.array(ind_1['s_recall'].tolist()), ind_2['s_recall'].tolist(), alternative='two-sided').pvalue)\n",
    "\n",
    "    # print('\\nC_KL')\n",
    "    # print(ttest_rel(np.array(ind_1['c_kl'].tolist()), ind_2['c_kl'].tolist(), alternative='two-sided').pvalue)\n",
    "\n",
    "    print('\\nC_Hellinger')\n",
    "    print(wilcoxon(np.array(ind_1['c_hell'].tolist()), ind_2['c_hell'].tolist(), alternative='two-sided').pvalue)"
   ]
  },
  {
   "cell_type": "code",
   "execution_count": 30,
   "metadata": {},
   "outputs": [],
   "source": [
    "def cohen_d(ind_1, ind_2):\n",
    "    users_ndcg_1 = set(ind_1[~ind_1['NDCG'].isna()].index.tolist())\n",
    "    user_ndcg_2 = set(ind_2[~ind_2['NDCG'].isna()].index.tolist())\n",
    "    final_set = list(users_ndcg_1.intersection(user_ndcg_2))\n",
    "    print('Cohen\\'s d')\n",
    "    print('Precision')\n",
    "    print(cohen_d_independent(np.array(ind_1['Precision'].tolist()), ind_2['Precision'].tolist()))\n",
    "\n",
    "    # print('\\nRecall')\n",
    "    # print(cohen_d_independent(np.array(ind_1['Recall'].tolist()), ind_2['Recall'].tolist()))\n",
    "\n",
    "    # print('\\nF1-score')\n",
    "    # print(cohen_d_independent(np.array(ind_1['F1-score'].tolist()), ind_2['F1-score'].tolist()))\n",
    "\n",
    "    # print('\\nNDCG')\n",
    "    # print(cohen_d_independent(np.array(ind_1[ind_1.index.isin(final_set)]['NDCG'].tolist()), ind_2['NDCG'][ind_2.index.isin(final_set)].tolist()))\n",
    "\n",
    "    print('\\nILS')\n",
    "    print(cohen_d_independent(np.array(ind_1['ILS'].tolist()), ind_2['ILS'].tolist()))\n",
    "\n",
    "    # print('\\nalpha NDCG')\n",
    "    # print(cohen_d_independent(np.array(ind_1['alpha_ndcg'].tolist()), ind_2['alpha_ndcg'].tolist()))\n",
    "\n",
    "    # print('\\nNDCG IA')\n",
    "    # print(cohen_d_independent(np.array(ind_1['ndcg_ia'].tolist()), ind_2['ndcg_ia'].tolist()))\n",
    "\n",
    "    print('\\nS-Recall')\n",
    "    print(cohen_d_independent(np.array(ind_1['s_recall'].tolist()), ind_2['s_recall'].tolist()))\n",
    "\n",
    "    # print('\\nC_KL')\n",
    "    # print(cohen_d_independent(np.array(ind_1['c_kl'].tolist()), ind_2['c_kl'].tolist()))\n",
    "\n",
    "    print('\\nC_Hellinger')\n",
    "    print(cohen_d_independent(np.array(ind_1['c_hell'].tolist()), ind_2['c_hell'].tolist()))"
   ]
  },
  {
   "cell_type": "markdown",
   "metadata": {},
   "source": [
    "# Distribution normale des données ?"
   ]
  },
  {
   "cell_type": "markdown",
   "metadata": {},
   "source": [
    "# Application test\n",
    "\n",
    "Test de Wilcoxon pour comparaisondes positions observées sur deux échantillons dépendants (même utilisateurs)\n",
    "\n",
    "Plusieurs alternatives du test:\n",
    "* 'Two-sided' (default) : un groupe produit systématiquement des valeurs plus ou moins grande que l'autre.\n",
    "* 'Greater' : le premier groupe produit tend à produire des valeurs plus larges que le second. \n",
    "* 'Less' : le premier groupe produit tend à produire des valeurs moins larges que le second."
   ]
  },
  {
   "cell_type": "code",
   "execution_count": 64,
   "metadata": {},
   "outputs": [
    {
     "name": "stdout",
     "output_type": "stream",
     "text": [
      "P_values\n",
      "Precision\n",
      "5.601224013849681e-10\n",
      "\n",
      "ILS\n",
      "0.0\n",
      "\n",
      "S-Recall\n",
      "0.0\n",
      "\n",
      "C_Hellinger\n",
      "0.0\n"
     ]
    }
   ],
   "source": [
    "p_values(ind_baseline, ind_greedy_08)"
   ]
  },
  {
   "cell_type": "code",
   "execution_count": 75,
   "metadata": {},
   "outputs": [
    {
     "name": "stdout",
     "output_type": "stream",
     "text": [
      "P_values\n",
      "Precision\n",
      "0.038449282990302064\n",
      "\n",
      "ILS\n",
      "0.0\n",
      "\n",
      "S-Recall\n",
      "1.0197602036468874e-42\n",
      "\n",
      "C_Hellinger\n",
      "4.71076008717375e-137\n"
     ]
    }
   ],
   "source": [
    "p_values(ind_baseline, ind_greedy_04)"
   ]
  },
  {
   "cell_type": "code",
   "execution_count": 62,
   "metadata": {},
   "outputs": [
    {
     "name": "stdout",
     "output_type": "stream",
     "text": [
      "Cohen's d\n",
      "Precision\n",
      "0.010094194557181323\n",
      "\n",
      "ILS\n",
      "0.4669822935632935\n",
      "\n",
      "S-Recall\n",
      "-0.4241486161714674\n",
      "\n",
      "C_Hellinger\n",
      "0.28603377318157397\n"
     ]
    }
   ],
   "source": [
    "cohen_d(ind_baseline, ind_greedy_08)"
   ]
  },
  {
   "cell_type": "code",
   "execution_count": 60,
   "metadata": {},
   "outputs": [],
   "source": [
    "# p_values(no_pers_h1, ind_a0)"
   ]
  },
  {
   "cell_type": "code",
   "execution_count": 59,
   "metadata": {},
   "outputs": [
    {
     "data": {
      "text/plain": [
       "user_id\n",
       "1         True\n",
       "100005    True\n",
       "100050    True\n",
       "100077    True\n",
       "100130    True\n",
       "          ... \n",
       "99566     True\n",
       "99669     True\n",
       "99843     True\n",
       "99875     True\n",
       "999       True\n",
       "Name: Precision, Length: 10000, dtype: bool"
      ]
     },
     "execution_count": 59,
     "metadata": {},
     "output_type": "execute_result"
    }
   ],
   "source": [
    "no_pers_h1['Precision'] == ind_a0['Precision']"
   ]
  },
  {
   "cell_type": "code",
   "execution_count": 51,
   "metadata": {},
   "outputs": [
    {
     "name": "stdout",
     "output_type": "stream",
     "text": [
      "Cohen's d\n",
      "Precision\n",
      "0.18219702262148582\n",
      "\n",
      "ILS\n",
      "1.0627054407644647\n",
      "\n",
      "S-Recall\n",
      "-2.7657570728844276\n",
      "\n",
      "C_Hellinger\n",
      "-2.4515506322834018\n"
     ]
    }
   ],
   "source": [
    "cohen_d(no_pers_h09, ind_a03)"
   ]
  },
  {
   "cell_type": "code",
   "execution_count": null,
   "metadata": {},
   "outputs": [],
   "source": []
  }
 ],
 "metadata": {
  "kernelspec": {
   "display_name": "base",
   "language": "python",
   "name": "python3"
  },
  "language_info": {
   "codemirror_mode": {
    "name": "ipython",
    "version": 3
   },
   "file_extension": ".py",
   "mimetype": "text/x-python",
   "name": "python",
   "nbconvert_exporter": "python",
   "pygments_lexer": "ipython3",
   "version": "3.9.7"
  }
 },
 "nbformat": 4,
 "nbformat_minor": 2
}
