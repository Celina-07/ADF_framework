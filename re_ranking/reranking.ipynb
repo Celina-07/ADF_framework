{
 "cells": [
  {
   "cell_type": "code",
   "execution_count": 1,
   "metadata": {},
   "outputs": [],
   "source": [
    "import pandas as pd\n",
    "import json \n",
    "from tqdm import tqdm\n",
    "import random\n",
    "import numpy as np"
   ]
  },
  {
   "cell_type": "code",
   "execution_count": 2,
   "metadata": {},
   "outputs": [],
   "source": [
    "import warnings\n",
    "warnings.filterwarnings(\"ignore\")"
   ]
  },
  {
   "cell_type": "markdown",
   "metadata": {},
   "source": [
    "# Re-ranking recommendations\n",
    "\n",
    "For each sub_profiles, 50 recommendations are computed. The final recommendation list contains 10 recommendations."
   ]
  },
  {
   "cell_type": "markdown",
   "metadata": {},
   "source": [
    "## Data import"
   ]
  },
  {
   "cell_type": "code",
   "execution_count": 3,
   "metadata": {},
   "outputs": [],
   "source": [
    "results_cv = pd.read_csv('../../baseline/report_baseline_10k_cv_complete/CentroidVector_1/rs_rank_split0.csv')"
   ]
  },
  {
   "cell_type": "code",
   "execution_count": 4,
   "metadata": {},
   "outputs": [
    {
     "data": {
      "text/html": [
       "<div>\n",
       "<style scoped>\n",
       "    .dataframe tbody tr th:only-of-type {\n",
       "        vertical-align: middle;\n",
       "    }\n",
       "\n",
       "    .dataframe tbody tr th {\n",
       "        vertical-align: top;\n",
       "    }\n",
       "\n",
       "    .dataframe thead th {\n",
       "        text-align: right;\n",
       "    }\n",
       "</style>\n",
       "<table border=\"1\" class=\"dataframe\">\n",
       "  <thead>\n",
       "    <tr style=\"text-align: right;\">\n",
       "      <th></th>\n",
       "      <th>user_id</th>\n",
       "      <th>item_id</th>\n",
       "      <th>score</th>\n",
       "    </tr>\n",
       "  </thead>\n",
       "  <tbody>\n",
       "    <tr>\n",
       "      <th>0</th>\n",
       "      <td>504290</td>\n",
       "      <td>41248</td>\n",
       "      <td>0.957390</td>\n",
       "    </tr>\n",
       "    <tr>\n",
       "      <th>1</th>\n",
       "      <td>504290</td>\n",
       "      <td>94453</td>\n",
       "      <td>0.955447</td>\n",
       "    </tr>\n",
       "    <tr>\n",
       "      <th>2</th>\n",
       "      <td>504290</td>\n",
       "      <td>15928</td>\n",
       "      <td>0.909462</td>\n",
       "    </tr>\n",
       "    <tr>\n",
       "      <th>3</th>\n",
       "      <td>504290</td>\n",
       "      <td>47925</td>\n",
       "      <td>0.902574</td>\n",
       "    </tr>\n",
       "    <tr>\n",
       "      <th>4</th>\n",
       "      <td>504290</td>\n",
       "      <td>64914</td>\n",
       "      <td>0.880959</td>\n",
       "    </tr>\n",
       "    <tr>\n",
       "      <th>...</th>\n",
       "      <td>...</td>\n",
       "      <td>...</td>\n",
       "      <td>...</td>\n",
       "    </tr>\n",
       "    <tr>\n",
       "      <th>445710</th>\n",
       "      <td>375980</td>\n",
       "      <td>82798</td>\n",
       "      <td>0.121524</td>\n",
       "    </tr>\n",
       "    <tr>\n",
       "      <th>445711</th>\n",
       "      <td>375980</td>\n",
       "      <td>70432</td>\n",
       "      <td>0.102459</td>\n",
       "    </tr>\n",
       "    <tr>\n",
       "      <th>445712</th>\n",
       "      <td>375980</td>\n",
       "      <td>46801</td>\n",
       "      <td>0.078437</td>\n",
       "    </tr>\n",
       "    <tr>\n",
       "      <th>445713</th>\n",
       "      <td>375980</td>\n",
       "      <td>2892</td>\n",
       "      <td>0.027459</td>\n",
       "    </tr>\n",
       "    <tr>\n",
       "      <th>445714</th>\n",
       "      <td>375980</td>\n",
       "      <td>102426</td>\n",
       "      <td>0.025432</td>\n",
       "    </tr>\n",
       "  </tbody>\n",
       "</table>\n",
       "<p>445715 rows × 3 columns</p>\n",
       "</div>"
      ],
      "text/plain": [
       "        user_id  item_id     score\n",
       "0        504290    41248  0.957390\n",
       "1        504290    94453  0.955447\n",
       "2        504290    15928  0.909462\n",
       "3        504290    47925  0.902574\n",
       "4        504290    64914  0.880959\n",
       "...         ...      ...       ...\n",
       "445710   375980    82798  0.121524\n",
       "445711   375980    70432  0.102459\n",
       "445712   375980    46801  0.078437\n",
       "445713   375980     2892  0.027459\n",
       "445714   375980   102426  0.025432\n",
       "\n",
       "[445715 rows x 3 columns]"
      ]
     },
     "execution_count": 4,
     "metadata": {},
     "output_type": "execute_result"
    }
   ],
   "source": [
    "results_cv"
   ]
  },
  {
   "cell_type": "code",
   "execution_count": 9,
   "metadata": {},
   "outputs": [],
   "source": [
    "#Définition de la liste des ids des utilisateurs\n",
    "users_list = results_cv['user_id'].unique().tolist()"
   ]
  },
  {
   "cell_type": "code",
   "execution_count": 10,
   "metadata": {},
   "outputs": [],
   "source": [
    "users_list = [int(i) for i in users_list]"
   ]
  },
  {
   "cell_type": "code",
   "execution_count": 11,
   "metadata": {},
   "outputs": [
    {
     "data": {
      "text/plain": [
       "10000"
      ]
     },
     "execution_count": 11,
     "metadata": {},
     "output_type": "execute_result"
    }
   ],
   "source": [
    "len(users_list)"
   ]
  },
  {
   "cell_type": "code",
   "execution_count": 12,
   "metadata": {},
   "outputs": [],
   "source": [
    "test_set = pd.read_csv('../../baseline/report_baseline_10k_cv_complete/HoldOutPartitioning_test_split0.csv')"
   ]
  },
  {
   "cell_type": "code",
   "execution_count": 13,
   "metadata": {},
   "outputs": [
    {
     "data": {
      "text/html": [
       "<div>\n",
       "<style scoped>\n",
       "    .dataframe tbody tr th:only-of-type {\n",
       "        vertical-align: middle;\n",
       "    }\n",
       "\n",
       "    .dataframe tbody tr th {\n",
       "        vertical-align: top;\n",
       "    }\n",
       "\n",
       "    .dataframe thead th {\n",
       "        text-align: right;\n",
       "    }\n",
       "</style>\n",
       "<table border=\"1\" class=\"dataframe\">\n",
       "  <thead>\n",
       "    <tr style=\"text-align: right;\">\n",
       "      <th></th>\n",
       "      <th>user_id</th>\n",
       "      <th>item_id</th>\n",
       "      <th>score</th>\n",
       "    </tr>\n",
       "  </thead>\n",
       "  <tbody>\n",
       "    <tr>\n",
       "      <th>0</th>\n",
       "      <td>504290</td>\n",
       "      <td>32215</td>\n",
       "      <td>1.0</td>\n",
       "    </tr>\n",
       "    <tr>\n",
       "      <th>1</th>\n",
       "      <td>504290</td>\n",
       "      <td>74453</td>\n",
       "      <td>0.0</td>\n",
       "    </tr>\n",
       "    <tr>\n",
       "      <th>2</th>\n",
       "      <td>504290</td>\n",
       "      <td>58342</td>\n",
       "      <td>0.0</td>\n",
       "    </tr>\n",
       "    <tr>\n",
       "      <th>3</th>\n",
       "      <td>504290</td>\n",
       "      <td>127836</td>\n",
       "      <td>0.0</td>\n",
       "    </tr>\n",
       "    <tr>\n",
       "      <th>4</th>\n",
       "      <td>504290</td>\n",
       "      <td>110175</td>\n",
       "      <td>0.0</td>\n",
       "    </tr>\n",
       "    <tr>\n",
       "      <th>...</th>\n",
       "      <td>...</td>\n",
       "      <td>...</td>\n",
       "      <td>...</td>\n",
       "    </tr>\n",
       "    <tr>\n",
       "      <th>516778</th>\n",
       "      <td>375980</td>\n",
       "      <td>54368</td>\n",
       "      <td>0.0</td>\n",
       "    </tr>\n",
       "    <tr>\n",
       "      <th>516779</th>\n",
       "      <td>375980</td>\n",
       "      <td>24735</td>\n",
       "      <td>0.0</td>\n",
       "    </tr>\n",
       "    <tr>\n",
       "      <th>516780</th>\n",
       "      <td>375980</td>\n",
       "      <td>17565</td>\n",
       "      <td>0.0</td>\n",
       "    </tr>\n",
       "    <tr>\n",
       "      <th>516781</th>\n",
       "      <td>375980</td>\n",
       "      <td>988</td>\n",
       "      <td>0.0</td>\n",
       "    </tr>\n",
       "    <tr>\n",
       "      <th>516782</th>\n",
       "      <td>375980</td>\n",
       "      <td>43</td>\n",
       "      <td>0.0</td>\n",
       "    </tr>\n",
       "  </tbody>\n",
       "</table>\n",
       "<p>516783 rows × 3 columns</p>\n",
       "</div>"
      ],
      "text/plain": [
       "        user_id  item_id  score\n",
       "0        504290    32215    1.0\n",
       "1        504290    74453    0.0\n",
       "2        504290    58342    0.0\n",
       "3        504290   127836    0.0\n",
       "4        504290   110175    0.0\n",
       "...         ...      ...    ...\n",
       "516778   375980    54368    0.0\n",
       "516779   375980    24735    0.0\n",
       "516780   375980    17565    0.0\n",
       "516781   375980      988    0.0\n",
       "516782   375980       43    0.0\n",
       "\n",
       "[516783 rows x 3 columns]"
      ]
     },
     "execution_count": 13,
     "metadata": {},
     "output_type": "execute_result"
    }
   ],
   "source": [
    "test_set"
   ]
  },
  {
   "cell_type": "code",
   "execution_count": 14,
   "metadata": {},
   "outputs": [],
   "source": [
    "news = pd.read_csv('../../thematic_clustering/lda_128_large/news_thematic_clustering_large_final.csv', index_col=0)\n",
    "news['cluster_hdbscan'] = news['cluster_hdbscan']+1"
   ]
  },
  {
   "cell_type": "code",
   "execution_count": 24,
   "metadata": {},
   "outputs": [],
   "source": [
    "#Get initial interactions of the train set\n",
    "behaviors = pd.read_csv('../../baseline/report_baseline_10k_cv_complete/HoldOutPartitioning_train_split0.csv')"
   ]
  },
  {
   "cell_type": "code",
   "execution_count": 26,
   "metadata": {},
   "outputs": [],
   "source": [
    "train = behaviors.merge(news.rename(columns={'NewsID':'item_id','cluster_hdbscan':'category'})[['item_id','category']], on='item_id')"
   ]
  },
  {
   "cell_type": "code",
   "execution_count": 27,
   "metadata": {},
   "outputs": [
    {
     "data": {
      "text/html": [
       "<div>\n",
       "<style scoped>\n",
       "    .dataframe tbody tr th:only-of-type {\n",
       "        vertical-align: middle;\n",
       "    }\n",
       "\n",
       "    .dataframe tbody tr th {\n",
       "        vertical-align: top;\n",
       "    }\n",
       "\n",
       "    .dataframe thead th {\n",
       "        text-align: right;\n",
       "    }\n",
       "</style>\n",
       "<table border=\"1\" class=\"dataframe\">\n",
       "  <thead>\n",
       "    <tr style=\"text-align: right;\">\n",
       "      <th></th>\n",
       "      <th>user_id</th>\n",
       "      <th>item_id</th>\n",
       "      <th>score</th>\n",
       "      <th>category</th>\n",
       "    </tr>\n",
       "  </thead>\n",
       "  <tbody>\n",
       "    <tr>\n",
       "      <th>0</th>\n",
       "      <td>504290</td>\n",
       "      <td>106909</td>\n",
       "      <td>0.0</td>\n",
       "      <td>11</td>\n",
       "    </tr>\n",
       "    <tr>\n",
       "      <th>1</th>\n",
       "      <td>421234</td>\n",
       "      <td>106909</td>\n",
       "      <td>0.0</td>\n",
       "      <td>11</td>\n",
       "    </tr>\n",
       "    <tr>\n",
       "      <th>2</th>\n",
       "      <td>421234</td>\n",
       "      <td>106909</td>\n",
       "      <td>0.0</td>\n",
       "      <td>11</td>\n",
       "    </tr>\n",
       "    <tr>\n",
       "      <th>3</th>\n",
       "      <td>421234</td>\n",
       "      <td>106909</td>\n",
       "      <td>0.0</td>\n",
       "      <td>11</td>\n",
       "    </tr>\n",
       "    <tr>\n",
       "      <th>4</th>\n",
       "      <td>52970</td>\n",
       "      <td>106909</td>\n",
       "      <td>0.0</td>\n",
       "      <td>11</td>\n",
       "    </tr>\n",
       "    <tr>\n",
       "      <th>...</th>\n",
       "      <td>...</td>\n",
       "      <td>...</td>\n",
       "      <td>...</td>\n",
       "      <td>...</td>\n",
       "    </tr>\n",
       "    <tr>\n",
       "      <th>1535263</th>\n",
       "      <td>401192</td>\n",
       "      <td>34953</td>\n",
       "      <td>1.0</td>\n",
       "      <td>2</td>\n",
       "    </tr>\n",
       "    <tr>\n",
       "      <th>1535264</th>\n",
       "      <td>401192</td>\n",
       "      <td>117749</td>\n",
       "      <td>1.0</td>\n",
       "      <td>2</td>\n",
       "    </tr>\n",
       "    <tr>\n",
       "      <th>1535265</th>\n",
       "      <td>401192</td>\n",
       "      <td>6885</td>\n",
       "      <td>1.0</td>\n",
       "      <td>4</td>\n",
       "    </tr>\n",
       "    <tr>\n",
       "      <th>1535266</th>\n",
       "      <td>596721</td>\n",
       "      <td>92984</td>\n",
       "      <td>1.0</td>\n",
       "      <td>0</td>\n",
       "    </tr>\n",
       "    <tr>\n",
       "      <th>1535267</th>\n",
       "      <td>353542</td>\n",
       "      <td>58709</td>\n",
       "      <td>0.0</td>\n",
       "      <td>9</td>\n",
       "    </tr>\n",
       "  </tbody>\n",
       "</table>\n",
       "<p>1535268 rows × 4 columns</p>\n",
       "</div>"
      ],
      "text/plain": [
       "         user_id  item_id  score  category\n",
       "0         504290   106909    0.0        11\n",
       "1         421234   106909    0.0        11\n",
       "2         421234   106909    0.0        11\n",
       "3         421234   106909    0.0        11\n",
       "4          52970   106909    0.0        11\n",
       "...          ...      ...    ...       ...\n",
       "1535263   401192    34953    1.0         2\n",
       "1535264   401192   117749    1.0         2\n",
       "1535265   401192     6885    1.0         4\n",
       "1535266   596721    92984    1.0         0\n",
       "1535267   353542    58709    0.0         9\n",
       "\n",
       "[1535268 rows x 4 columns]"
      ]
     },
     "execution_count": 27,
     "metadata": {},
     "output_type": "execute_result"
    }
   ],
   "source": [
    "train"
   ]
  },
  {
   "cell_type": "code",
   "execution_count": 28,
   "metadata": {},
   "outputs": [],
   "source": [
    "categories_distribution_subprofiles = pd.read_csv('../categories_distribution_subprofiles_10k.csv', index_col=0)"
   ]
  },
  {
   "cell_type": "code",
   "execution_count": 54,
   "metadata": {},
   "outputs": [
    {
     "data": {
      "text/html": [
       "<div>\n",
       "<style scoped>\n",
       "    .dataframe tbody tr th:only-of-type {\n",
       "        vertical-align: middle;\n",
       "    }\n",
       "\n",
       "    .dataframe tbody tr th {\n",
       "        vertical-align: top;\n",
       "    }\n",
       "\n",
       "    .dataframe thead th {\n",
       "        text-align: right;\n",
       "    }\n",
       "</style>\n",
       "<table border=\"1\" class=\"dataframe\">\n",
       "  <thead>\n",
       "    <tr style=\"text-align: right;\">\n",
       "      <th></th>\n",
       "      <th>0</th>\n",
       "      <th>1</th>\n",
       "      <th>2</th>\n",
       "      <th>3</th>\n",
       "      <th>4</th>\n",
       "      <th>5</th>\n",
       "      <th>6</th>\n",
       "      <th>7</th>\n",
       "      <th>8</th>\n",
       "      <th>9</th>\n",
       "      <th>10</th>\n",
       "      <th>11</th>\n",
       "      <th>12</th>\n",
       "    </tr>\n",
       "  </thead>\n",
       "  <tbody>\n",
       "    <tr>\n",
       "      <th>504290</th>\n",
       "      <td>0.371146</td>\n",
       "      <td>0.000000</td>\n",
       "      <td>0.0</td>\n",
       "      <td>0.026510</td>\n",
       "      <td>0.073689</td>\n",
       "      <td>0.000000</td>\n",
       "      <td>0.121311</td>\n",
       "      <td>0.362576</td>\n",
       "      <td>0.000000</td>\n",
       "      <td>0.018257</td>\n",
       "      <td>0.000000</td>\n",
       "      <td>0.000000</td>\n",
       "      <td>0.02651</td>\n",
       "    </tr>\n",
       "    <tr>\n",
       "      <th>219624</th>\n",
       "      <td>0.338185</td>\n",
       "      <td>0.024156</td>\n",
       "      <td>0.0</td>\n",
       "      <td>0.022688</td>\n",
       "      <td>0.048312</td>\n",
       "      <td>0.000000</td>\n",
       "      <td>0.151739</td>\n",
       "      <td>0.286625</td>\n",
       "      <td>0.000000</td>\n",
       "      <td>0.058824</td>\n",
       "      <td>0.048312</td>\n",
       "      <td>0.021158</td>\n",
       "      <td>0.00000</td>\n",
       "    </tr>\n",
       "    <tr>\n",
       "      <th>10420</th>\n",
       "      <td>0.338911</td>\n",
       "      <td>0.000000</td>\n",
       "      <td>0.0</td>\n",
       "      <td>0.000000</td>\n",
       "      <td>0.217548</td>\n",
       "      <td>0.021182</td>\n",
       "      <td>0.037526</td>\n",
       "      <td>0.042364</td>\n",
       "      <td>0.021182</td>\n",
       "      <td>0.185595</td>\n",
       "      <td>0.081045</td>\n",
       "      <td>0.054647</td>\n",
       "      <td>0.00000</td>\n",
       "    </tr>\n",
       "  </tbody>\n",
       "</table>\n",
       "</div>"
      ],
      "text/plain": [
       "               0         1    2         3         4         5         6  \\\n",
       "504290  0.371146  0.000000  0.0  0.026510  0.073689  0.000000  0.121311   \n",
       "219624  0.338185  0.024156  0.0  0.022688  0.048312  0.000000  0.151739   \n",
       "10420   0.338911  0.000000  0.0  0.000000  0.217548  0.021182  0.037526   \n",
       "\n",
       "               7         8         9        10        11       12  \n",
       "504290  0.362576  0.000000  0.018257  0.000000  0.000000  0.02651  \n",
       "219624  0.286625  0.000000  0.058824  0.048312  0.021158  0.00000  \n",
       "10420   0.042364  0.021182  0.185595  0.081045  0.054647  0.00000  "
      ]
     },
     "execution_count": 54,
     "metadata": {},
     "output_type": "execute_result"
    }
   ],
   "source": [
    "categories_distribution_subprofiles.head(3)"
   ]
  },
  {
   "cell_type": "code",
   "execution_count": 30,
   "metadata": {},
   "outputs": [],
   "source": [
    "list_categories = categories_distribution_subprofiles.columns.tolist()"
   ]
  },
  {
   "cell_type": "code",
   "execution_count": 31,
   "metadata": {},
   "outputs": [
    {
     "data": {
      "text/plain": [
       "['0', '1', '2', '3', '4', '5', '6', '7', '8', '9', '10', '11', '12']"
      ]
     },
     "execution_count": 31,
     "metadata": {},
     "output_type": "execute_result"
    }
   ],
   "source": [
    "list_categories"
   ]
  },
  {
   "cell_type": "markdown",
   "metadata": {},
   "source": [
    "# Controlled and personalized re-ranking"
   ]
  },
  {
   "cell_type": "code",
   "execution_count": 33,
   "metadata": {},
   "outputs": [],
   "source": [
    "import matplotlib as mpl\n",
    "import matplotlib.pyplot as plt\n",
    "import seaborn as sns"
   ]
  },
  {
   "cell_type": "code",
   "execution_count": 34,
   "metadata": {},
   "outputs": [],
   "source": [
    "from scipy.stats import entropy"
   ]
  },
  {
   "cell_type": "markdown",
   "metadata": {},
   "source": [
    "## Compute initial entropy"
   ]
  },
  {
   "cell_type": "code",
   "execution_count": 35,
   "metadata": {},
   "outputs": [],
   "source": [
    "def normalized_entropy(distribution):\n",
    "    return entropy(distribution, base=2)/np.log2(len(distribution))"
   ]
  },
  {
   "cell_type": "code",
   "execution_count": 36,
   "metadata": {},
   "outputs": [],
   "source": [
    "u_values = pd.DataFrame(index=users_list)"
   ]
  },
  {
   "cell_type": "code",
   "execution_count": 37,
   "metadata": {},
   "outputs": [
    {
     "name": "stderr",
     "output_type": "stream",
     "text": [
      "  0%|          | 0/10000 [00:00<?, ?it/s]"
     ]
    },
    {
     "name": "stderr",
     "output_type": "stream",
     "text": [
      "100%|██████████| 10000/10000 [00:01<00:00, 9906.98it/s]\n"
     ]
    }
   ],
   "source": [
    "for u in tqdm(users_list):\n",
    "    distrib_user = categories_distribution_subprofiles.loc[u].values.tolist()\n",
    "    entropy_value = normalized_entropy(distrib_user)\n",
    "    u_values.loc[u,'entropy'] = entropy_value"
   ]
  },
  {
   "cell_type": "markdown",
   "metadata": {},
   "source": [
    "## Homogenization"
   ]
  },
  {
   "cell_type": "code",
   "execution_count": 38,
   "metadata": {},
   "outputs": [],
   "source": [
    "def div(x, a, b):\n",
    "    return (1-b)*(x**a)+b"
   ]
  },
  {
   "cell_type": "code",
   "execution_count": 39,
   "metadata": {},
   "outputs": [],
   "source": [
    "def homogeneization(distrib, param=0.5):\n",
    "    n = len(distrib)\n",
    "    new_distrib = [((1-param)*p)+(param/n) for p in distrib]\n",
    "    return new_distrib"
   ]
  },
  {
   "cell_type": "code",
   "execution_count": 40,
   "metadata": {},
   "outputs": [
    {
     "data": {
      "text/html": [
       "<div>\n",
       "<style scoped>\n",
       "    .dataframe tbody tr th:only-of-type {\n",
       "        vertical-align: middle;\n",
       "    }\n",
       "\n",
       "    .dataframe tbody tr th {\n",
       "        vertical-align: top;\n",
       "    }\n",
       "\n",
       "    .dataframe thead th {\n",
       "        text-align: right;\n",
       "    }\n",
       "</style>\n",
       "<table border=\"1\" class=\"dataframe\">\n",
       "  <thead>\n",
       "    <tr style=\"text-align: right;\">\n",
       "      <th></th>\n",
       "      <th>user_id</th>\n",
       "      <th>item_id</th>\n",
       "      <th>score</th>\n",
       "      <th>category</th>\n",
       "    </tr>\n",
       "  </thead>\n",
       "  <tbody>\n",
       "    <tr>\n",
       "      <th>0</th>\n",
       "      <td>504290</td>\n",
       "      <td>106909</td>\n",
       "      <td>0.0</td>\n",
       "      <td>11</td>\n",
       "    </tr>\n",
       "    <tr>\n",
       "      <th>1</th>\n",
       "      <td>421234</td>\n",
       "      <td>106909</td>\n",
       "      <td>0.0</td>\n",
       "      <td>11</td>\n",
       "    </tr>\n",
       "    <tr>\n",
       "      <th>2</th>\n",
       "      <td>421234</td>\n",
       "      <td>106909</td>\n",
       "      <td>0.0</td>\n",
       "      <td>11</td>\n",
       "    </tr>\n",
       "    <tr>\n",
       "      <th>3</th>\n",
       "      <td>421234</td>\n",
       "      <td>106909</td>\n",
       "      <td>0.0</td>\n",
       "      <td>11</td>\n",
       "    </tr>\n",
       "    <tr>\n",
       "      <th>4</th>\n",
       "      <td>52970</td>\n",
       "      <td>106909</td>\n",
       "      <td>0.0</td>\n",
       "      <td>11</td>\n",
       "    </tr>\n",
       "    <tr>\n",
       "      <th>...</th>\n",
       "      <td>...</td>\n",
       "      <td>...</td>\n",
       "      <td>...</td>\n",
       "      <td>...</td>\n",
       "    </tr>\n",
       "    <tr>\n",
       "      <th>1535263</th>\n",
       "      <td>401192</td>\n",
       "      <td>34953</td>\n",
       "      <td>1.0</td>\n",
       "      <td>2</td>\n",
       "    </tr>\n",
       "    <tr>\n",
       "      <th>1535264</th>\n",
       "      <td>401192</td>\n",
       "      <td>117749</td>\n",
       "      <td>1.0</td>\n",
       "      <td>2</td>\n",
       "    </tr>\n",
       "    <tr>\n",
       "      <th>1535265</th>\n",
       "      <td>401192</td>\n",
       "      <td>6885</td>\n",
       "      <td>1.0</td>\n",
       "      <td>4</td>\n",
       "    </tr>\n",
       "    <tr>\n",
       "      <th>1535266</th>\n",
       "      <td>596721</td>\n",
       "      <td>92984</td>\n",
       "      <td>1.0</td>\n",
       "      <td>0</td>\n",
       "    </tr>\n",
       "    <tr>\n",
       "      <th>1535267</th>\n",
       "      <td>353542</td>\n",
       "      <td>58709</td>\n",
       "      <td>0.0</td>\n",
       "      <td>9</td>\n",
       "    </tr>\n",
       "  </tbody>\n",
       "</table>\n",
       "<p>1535268 rows × 4 columns</p>\n",
       "</div>"
      ],
      "text/plain": [
       "         user_id  item_id  score  category\n",
       "0         504290   106909    0.0        11\n",
       "1         421234   106909    0.0        11\n",
       "2         421234   106909    0.0        11\n",
       "3         421234   106909    0.0        11\n",
       "4          52970   106909    0.0        11\n",
       "...          ...      ...    ...       ...\n",
       "1535263   401192    34953    1.0         2\n",
       "1535264   401192   117749    1.0         2\n",
       "1535265   401192     6885    1.0         4\n",
       "1535266   596721    92984    1.0         0\n",
       "1535267   353542    58709    0.0         9\n",
       "\n",
       "[1535268 rows x 4 columns]"
      ]
     },
     "execution_count": 40,
     "metadata": {},
     "output_type": "execute_result"
    }
   ],
   "source": [
    "train"
   ]
  },
  {
   "cell_type": "code",
   "execution_count": 42,
   "metadata": {},
   "outputs": [
    {
     "data": {
      "text/html": [
       "<div>\n",
       "<style scoped>\n",
       "    .dataframe tbody tr th:only-of-type {\n",
       "        vertical-align: middle;\n",
       "    }\n",
       "\n",
       "    .dataframe tbody tr th {\n",
       "        vertical-align: top;\n",
       "    }\n",
       "\n",
       "    .dataframe thead th {\n",
       "        text-align: right;\n",
       "    }\n",
       "</style>\n",
       "<table border=\"1\" class=\"dataframe\">\n",
       "  <thead>\n",
       "    <tr style=\"text-align: right;\">\n",
       "      <th></th>\n",
       "      <th>user_id</th>\n",
       "      <th>item_id</th>\n",
       "      <th>score</th>\n",
       "    </tr>\n",
       "  </thead>\n",
       "  <tbody>\n",
       "    <tr>\n",
       "      <th>0</th>\n",
       "      <td>504290</td>\n",
       "      <td>41248</td>\n",
       "      <td>0.957390</td>\n",
       "    </tr>\n",
       "    <tr>\n",
       "      <th>1</th>\n",
       "      <td>504290</td>\n",
       "      <td>94453</td>\n",
       "      <td>0.955447</td>\n",
       "    </tr>\n",
       "    <tr>\n",
       "      <th>2</th>\n",
       "      <td>504290</td>\n",
       "      <td>15928</td>\n",
       "      <td>0.909462</td>\n",
       "    </tr>\n",
       "    <tr>\n",
       "      <th>3</th>\n",
       "      <td>504290</td>\n",
       "      <td>47925</td>\n",
       "      <td>0.902574</td>\n",
       "    </tr>\n",
       "    <tr>\n",
       "      <th>4</th>\n",
       "      <td>504290</td>\n",
       "      <td>64914</td>\n",
       "      <td>0.880959</td>\n",
       "    </tr>\n",
       "  </tbody>\n",
       "</table>\n",
       "</div>"
      ],
      "text/plain": [
       "   user_id  item_id     score\n",
       "0   504290    41248  0.957390\n",
       "1   504290    94453  0.955447\n",
       "2   504290    15928  0.909462\n",
       "3   504290    47925  0.902574\n",
       "4   504290    64914  0.880959"
      ]
     },
     "execution_count": 42,
     "metadata": {},
     "output_type": "execute_result"
    }
   ],
   "source": [
    "results_cv.head()"
   ]
  },
  {
   "cell_type": "code",
   "execution_count": 44,
   "metadata": {},
   "outputs": [],
   "source": [
    "def get_results_categories(initial_results):\n",
    "    results_categories = initial_results.copy()\n",
    "    results_categories = results_categories.rename(columns={'item_id':'NewsID'})\n",
    "    results_categories = results_categories.merge(news[['NewsID','cluster_hdbscan','proba']], on='NewsID').rename(columns={'cluster_hdbscan':'category'})\n",
    "    results_categories['proba'] = results_categories['proba'].replace(0, 1)\n",
    "    return results_categories"
   ]
  },
  {
   "cell_type": "code",
   "execution_count": 65,
   "metadata": {},
   "outputs": [],
   "source": [
    "results_cv_categories = get_results_categories(results_cv)"
   ]
  },
  {
   "cell_type": "code",
   "execution_count": 66,
   "metadata": {},
   "outputs": [],
   "source": [
    "results_cv_categories = results_cv_categories.rename(columns={'NewsID':'item_id'})\n",
    "results_cv_categories = results_cv_categories[['user_id','item_id','score','category']]"
   ]
  },
  {
   "cell_type": "code",
   "execution_count": 67,
   "metadata": {},
   "outputs": [
    {
     "data": {
      "text/html": [
       "<div>\n",
       "<style scoped>\n",
       "    .dataframe tbody tr th:only-of-type {\n",
       "        vertical-align: middle;\n",
       "    }\n",
       "\n",
       "    .dataframe tbody tr th {\n",
       "        vertical-align: top;\n",
       "    }\n",
       "\n",
       "    .dataframe thead th {\n",
       "        text-align: right;\n",
       "    }\n",
       "</style>\n",
       "<table border=\"1\" class=\"dataframe\">\n",
       "  <thead>\n",
       "    <tr style=\"text-align: right;\">\n",
       "      <th></th>\n",
       "      <th>user_id</th>\n",
       "      <th>item_id</th>\n",
       "      <th>score</th>\n",
       "      <th>category</th>\n",
       "    </tr>\n",
       "  </thead>\n",
       "  <tbody>\n",
       "    <tr>\n",
       "      <th>0</th>\n",
       "      <td>504290</td>\n",
       "      <td>41248</td>\n",
       "      <td>0.957390</td>\n",
       "      <td>6</td>\n",
       "    </tr>\n",
       "    <tr>\n",
       "      <th>1</th>\n",
       "      <td>607886</td>\n",
       "      <td>41248</td>\n",
       "      <td>0.152114</td>\n",
       "      <td>6</td>\n",
       "    </tr>\n",
       "    <tr>\n",
       "      <th>2</th>\n",
       "      <td>372542</td>\n",
       "      <td>41248</td>\n",
       "      <td>0.976418</td>\n",
       "      <td>6</td>\n",
       "    </tr>\n",
       "    <tr>\n",
       "      <th>3</th>\n",
       "      <td>292183</td>\n",
       "      <td>41248</td>\n",
       "      <td>0.271897</td>\n",
       "      <td>6</td>\n",
       "    </tr>\n",
       "    <tr>\n",
       "      <th>4</th>\n",
       "      <td>158723</td>\n",
       "      <td>41248</td>\n",
       "      <td>0.879657</td>\n",
       "      <td>6</td>\n",
       "    </tr>\n",
       "  </tbody>\n",
       "</table>\n",
       "</div>"
      ],
      "text/plain": [
       "   user_id  item_id     score  category\n",
       "0   504290    41248  0.957390         6\n",
       "1   607886    41248  0.152114         6\n",
       "2   372542    41248  0.976418         6\n",
       "3   292183    41248  0.271897         6\n",
       "4   158723    41248  0.879657         6"
      ]
     },
     "execution_count": 67,
     "metadata": {},
     "output_type": "execute_result"
    }
   ],
   "source": [
    "results_cv_categories.head()"
   ]
  },
  {
   "cell_type": "code",
   "execution_count": 48,
   "metadata": {},
   "outputs": [],
   "source": [
    "test_u = results_cv_categories[results_cv_categories['user_id']==504290]"
   ]
  },
  {
   "cell_type": "code",
   "execution_count": 51,
   "metadata": {},
   "outputs": [
    {
     "data": {
      "text/plain": [
       "[6, 7, 0, 9, 4, 10, 11, 5]"
      ]
     },
     "execution_count": 51,
     "metadata": {},
     "output_type": "execute_result"
    }
   ],
   "source": [
    "test_u['category'].unique().tolist()"
   ]
  },
  {
   "cell_type": "code",
   "execution_count": 190,
   "metadata": {},
   "outputs": [],
   "source": [
    "def rerank_perso_lambda_base(df, entropy_df, list_users, proportions_df, a, b, news, behaviors, k=10, save = False):\n",
    "    results_entropy = entropy_df.copy()\n",
    "    final_results = pd.DataFrame()\n",
    "    for u in tqdm(list_users):\n",
    "        #interactions de l'utilisateur\n",
    "        accessed_news = behaviors[behaviors['user_id']==u]['item_id'].tolist()\n",
    "        #recos faites à l'utilisateur\n",
    "        data = df[df['user_id']==u]\n",
    "        #list des catégories recommandées à l'utilisateur\n",
    "        list_recommended_categories = data['category'].unique().tolist()\n",
    "        #distribution de l'intérêt de l'utilisateur\n",
    "        proportions_user = proportions_df.loc[u].tolist()\n",
    "        #entropie dans les consommations de l'utilisateur\n",
    "        entropy_user = u_values.loc[u].values[0]\n",
    "        #entropie cible pour l'utilisateur, en fonction des valeurs de a et b\n",
    "        target_entropy = div(entropy_user, a, b)\n",
    "        #enregistrement de cette nouvelle valeur d'entropie cible dans le df associé\n",
    "        results_entropy.loc[u,'target_entropy'] = target_entropy\n",
    "        #instanciation d'un dictionnaire vide pour y ajouter les valeurs de lambda propres à l'utilisateur\n",
    "        dict_lambda_user = {}\n",
    "        for l in np.arange(0, 1.05, 0.05):\n",
    "            #calcul de la nouvelle distribution avec application d'une certaine valeur de lambda\n",
    "            new_distrib = homogeneization(proportions_user, param=round(l, 2))\n",
    "            #calcul de l'entropie correspondante\n",
    "            new_entropy = normalized_entropy(new_distrib)\n",
    "            #calcul de l'erreur entre entropie de la nouvelle distribution et entropie cible\n",
    "            delta = target_entropy - new_entropy\n",
    "            #enregistrement de cette nouvelle valeur dans le dictionnaire\n",
    "            dict_key = {round(l,2):abs(delta)}\n",
    "            dict_lambda_user.update(dict_key)\n",
    "        #identification de la valeur optimale de lambda\n",
    "        optimal_lambda = min(dict_lambda_user, key=dict_lambda_user.get)\n",
    "        results_entropy.loc[u,'optimal_lambda'] = optimal_lambda\n",
    "        #définition de la nouvelle distribution optimale, contrainte (avec valeur optimale de lambda)\n",
    "        new_proportion = homogeneization(proportions_user, param = optimal_lambda)\n",
    "        for c in range(len(new_proportion)):\n",
    "            prop = new_proportion[c]\n",
    "            nb_recos = int(round(prop*k, 0))\n",
    "            # sub_profile_id = str(u)+'-'+str(c)\n",
    "            if c in list_recommended_categories:\n",
    "                data_sub = data[data['category']==c].sort_values(by='score', ascending=False)[:nb_recos]\n",
    "            else: \n",
    "                data_sub = pd.DataFrame(columns=['user_id','item_id','score','category'])\n",
    "                news_to_select = news[~news['NewsID'].isin(accessed_news)]\n",
    "                cat_news = news_to_select[news_to_select['cluster_hdbscan']==c]['NewsID'].tolist()\n",
    "                selected_news = random.sample(cat_news, k=nb_recos)\n",
    "                for n in selected_news:\n",
    "                    new_row = {'user_id':u, 'item_id':n, 'score':0, 'category':c}\n",
    "                    data_sub = data_sub.append(new_row, ignore_index=True)\n",
    "            data_sub['category'] = c\n",
    "            final_results = pd.concat([final_results, data_sub])\n",
    "            final_results = final_results.reset_index(drop=True)\n",
    "    if save == True:\n",
    "        path_rank = 're_ranking_results/ADF/re_ranking/div_a_'+str(a).replace('.','')+'_k'+str(k)+'.csv'\n",
    "        path_entropy = 're_ranking_results/ADF/entropy/entropy_a_'+str(a).replace('.','')+'_k'+str(k)+'.csv'\n",
    "        final_results.to_csv(path_rank, index=False)\n",
    "        results_entropy.to_csv(path_entropy)\n",
    "    return final_results, results_entropy"
   ]
  },
  {
   "cell_type": "code",
   "execution_count": 189,
   "metadata": {},
   "outputs": [],
   "source": [
    "re_ranking_a_0_20_base, entropy_0_20_base = rerank_perso_lambda_base(results_cv_categories, u_values, users_list, categories_distribution_subprofiles, 0, 0, news, train, k=20, save=True)\n",
    "re_ranking_a_01_20_base, entropy_01_20_base = rerank_perso_lambda_base(results_cv_categories, u_values, users_list, categories_distribution_subprofiles, 0.1, 0, news, train, k=20, save=True)\n",
    "re_ranking_a_02_20_base, entropy_02_20_base = rerank_perso_lambda_base(results_cv_categories, u_values, users_list, categories_distribution_subprofiles, 0.2, 0, news, train, k=20, save=True)\n",
    "re_ranking_a_03_20_base, entropy_03_20_base = rerank_perso_lambda_base(results_cv_categories, u_values, users_list, categories_distribution_subprofiles, 0.3, 0, news, train, k=20, save=True)\n",
    "re_ranking_a_04_20_base, entropy_04_20_base = rerank_perso_lambda_base(results_cv_categories, u_values, users_list, categories_distribution_subprofiles, 0.4, 0, news, train, k=20, save=True)\n",
    "re_ranking_a_05_20_base, entropy_05_20_base = rerank_perso_lambda_base(results_cv_categories, u_values, users_list, categories_distribution_subprofiles, 0.5, 0, news, train, k=20, save=True)\n",
    "re_ranking_a_06_20_base, entropy_06_20_base = rerank_perso_lambda_base(results_cv_categories, u_values, users_list, categories_distribution_subprofiles, 0.6, 0, news, train, k=20, save=True)\n",
    "re_ranking_a_07_20_base, entropy_07_20_base = rerank_perso_lambda_base(results_cv_categories, u_values, users_list, categories_distribution_subprofiles, 0.7, 0, news, train, k=20, save=True)\n",
    "re_ranking_a_08_20_base, entropy_08_20_base = rerank_perso_lambda_base(results_cv_categories, u_values, users_list, categories_distribution_subprofiles, 0.8, 0, news, train, k=20, save=True)\n",
    "re_ranking_a_09_20_base, entropy_09_20_base = rerank_perso_lambda_base(results_cv_categories, u_values, users_list, categories_distribution_subprofiles, 0.9, 0, news, train, k=20, save=True)\n",
    "re_ranking_a_1_20_base, entropy_1_20_base = rerank_perso_lambda_base(results_cv_categories, u_values, users_list, categories_distribution_subprofiles, 1, 0, news, train, k=20, save=True)"
   ]
  },
  {
   "cell_type": "markdown",
   "metadata": {},
   "source": [
    "# Not personalized diversity"
   ]
  },
  {
   "cell_type": "code",
   "execution_count": 300,
   "metadata": {},
   "outputs": [],
   "source": [
    "def rerank_no_pers(df, entropy_df, list_users, proportions_df, news, behaviors, target_entropy, k=10, save = False):\n",
    "    results_entropy = entropy_df.copy()\n",
    "    final_results = pd.DataFrame()\n",
    "    for u in tqdm(list_users):\n",
    "        #interactions de l'utilisateur\n",
    "        accessed_news = behaviors[behaviors['user_id']==u]['item_id'].tolist()\n",
    "        #recos faites à l'utilisateur\n",
    "        data = df[df['user_id']==u]\n",
    "        #list des catégories recommandées à l'utilisateur\n",
    "        list_recommended_categories = data['category'].unique().tolist()\n",
    "        #distribution de l'intérêt de l'utilisateur\n",
    "        proportions_user = proportions_df.loc[u].tolist()\n",
    "        #entropie dans les consommations de l'utilisateur\n",
    "        entropy_user = u_values.loc[u].values[0]\n",
    "        #enregistrement de cette nouvelle valeur d'entropie cible dans le df associé\n",
    "        results_entropy.loc[u,'target_entropy'] = target_entropy\n",
    "        #instanciation d'un dictionnaire vide pour y ajouter les valeurs de lambda propres à l'utilisateur\n",
    "        dict_lambda_user = {}\n",
    "        for l in np.arange(0, 1.05, 0.05):\n",
    "            #calcul de la nouvelle distribution avec application d'une certaine valeur de lambda\n",
    "            new_distrib = homogeneization(proportions_user, param=round(l, 2))\n",
    "            #calcul de l'entropie correspondante\n",
    "            new_entropy = normalized_entropy(new_distrib)\n",
    "            #calcul de l'erreur entre entropie de la nouvelle distribution et entropie cible\n",
    "            delta = target_entropy - new_entropy\n",
    "            #enregistrement de cette nouvelle valeur dans le dictionnaire\n",
    "            dict_key = {round(l,2):abs(delta)}\n",
    "            dict_lambda_user.update(dict_key)\n",
    "        #identification de la valeur optimale de lambda\n",
    "        optimal_lambda = min(dict_lambda_user, key=dict_lambda_user.get)\n",
    "        results_entropy.loc[u,'optimal_lambda'] = optimal_lambda\n",
    "        #définition de la nouvelle distribution optimale, contrainte (avec valeur optimale de lambda)\n",
    "        new_proportion = homogeneization(proportions_user, param = optimal_lambda)\n",
    "        for c in range(len(new_proportion)):\n",
    "            prop = new_proportion[c]\n",
    "            nb_recos = int(round(prop*k, 0))\n",
    "            # sub_profile_id = str(u)+'-'+str(c)\n",
    "            if c in list_recommended_categories:\n",
    "                data_sub = data[data['category']==c].sort_values(by='score', ascending=False)[:nb_recos]\n",
    "            else: \n",
    "                data_sub = pd.DataFrame(columns=['user_id','item_id','score','category'])\n",
    "                news_to_select = news[~news['NewsID'].isin(accessed_news)]\n",
    "                cat_news = news_to_select[news_to_select['cluster_hdbscan']==c]['NewsID'].tolist()\n",
    "                selected_news = random.sample(cat_news, k=nb_recos)\n",
    "                for n in selected_news:\n",
    "                    new_row = {'user_id':u, 'item_id':n, 'score':0, 'category':c}\n",
    "                    data_sub = data_sub.append(new_row, ignore_index=True)\n",
    "            data_sub['category'] = c\n",
    "            final_results = pd.concat([final_results, data_sub])\n",
    "            final_results = final_results.reset_index(drop=True)\n",
    "    if save == True:\n",
    "        path_rank = 're_ranking_results/no_pers/re_ranking/div_no_pers_'+str(target_entropy)+'_k'+str(k)+'.csv'\n",
    "        path_entropy = 're_ranking_results/no_pers/entropy/entropy_no_pers_'+str(target_entropy)+'_k'+str(k)+'.csv'\n",
    "        final_results.to_csv(path_rank, index=False)\n",
    "        results_entropy.to_csv(path_entropy)\n",
    "    return final_results, results_entropy"
   ]
  },
  {
   "cell_type": "code",
   "execution_count": 184,
   "metadata": {},
   "outputs": [],
   "source": [
    "# re_ranking_a_06_20_global, entropy_06_20_global = rerank_no_pers(results_cv_categories, u_values, users_list, categories_distribution_subprofiles,news, train, 0.6 , k=20, save=True)\n",
    "# re_ranking_a_07_20_global, entropy_07_20_global = rerank_no_pers(results_cv_categories, u_values, users_list, categories_distribution_subprofiles,news, train, 0.7, k=20, save=True)\n",
    "# re_ranking_a_08_20_global, entropy_08_20_global = rerank_no_pers(results_cv_categories, u_values, users_list, categories_distribution_subprofiles,news, train, 0.8, k=20, save=True)\n",
    "# re_ranking_a_09_20_global, entropy_09_20_global = rerank_no_pers(results_cv_categories, u_values, users_list, categories_distribution_subprofiles,news, train, 0.9, k=20, save=True)\n",
    "# re_ranking_a_1_20_global, entropy_1_20_global = rerank_no_pers(results_cv_categories, u_values, users_list, categories_distribution_subprofiles, news, train, 1, k=20, save=True)"
   ]
  },
  {
   "cell_type": "markdown",
   "metadata": {},
   "source": [
    "# Greedy re-ranking"
   ]
  },
  {
   "cell_type": "code",
   "execution_count": 121,
   "metadata": {},
   "outputs": [],
   "source": [
    "from sklearn.metrics.pairwise import cosine_similarity\n",
    "import math\n",
    "import ast\n",
    "import numpy as np"
   ]
  },
  {
   "cell_type": "code",
   "execution_count": 122,
   "metadata": {},
   "outputs": [],
   "source": [
    "def embeddings_to_df(e):\n",
    "    e_list = e.tolist()\n",
    "    df_e = pd.DataFrame(e_list)\n",
    "    return df_e"
   ]
  },
  {
   "cell_type": "code",
   "execution_count": 123,
   "metadata": {},
   "outputs": [],
   "source": [
    "def triangular_matrix(m):\n",
    "    m_tri = m.where(np.triu(np.ones(m.shape),k=1).astype(bool))\n",
    "    return m_tri"
   ]
  },
  {
   "cell_type": "code",
   "execution_count": 124,
   "metadata": {},
   "outputs": [],
   "source": [
    "def ILD(m):\n",
    "    m_tri = triangular_matrix(m).stack().reset_index()\n",
    "    m_tri.columns = ['i','j','dissimilarity']\n",
    "    ild = (m_tri['dissimilarity'].sum())/len(m_tri)\n",
    "    return ild"
   ]
  },
  {
   "cell_type": "code",
   "execution_count": 127,
   "metadata": {},
   "outputs": [],
   "source": [
    "embeddings_lda_128 = pd.read_json('../../baseline/news_codified_lda_128/contents.json')\n",
    "embeddings_lda_128['lda_128#0'] = embeddings_lda_128['lda_128#0'].apply(ast.literal_eval)\n",
    "news_embeddings_lda = embeddings_to_df(embeddings_lda_128['lda_128#0'])\n",
    "news_embeddings_lda.index = embeddings_lda_128['content_id']"
   ]
  },
  {
   "cell_type": "code",
   "execution_count": 128,
   "metadata": {},
   "outputs": [],
   "source": [
    "similarity_matrix = pd.DataFrame(cosine_similarity(news_embeddings_lda))\n",
    "similarity_matrix.index = news_embeddings_lda.index.tolist()\n",
    "similarity_matrix.columns = news_embeddings_lda.index.tolist()"
   ]
  },
  {
   "cell_type": "code",
   "execution_count": 129,
   "metadata": {},
   "outputs": [],
   "source": [
    "diversity_matrix = 1 - similarity_matrix"
   ]
  },
  {
   "cell_type": "code",
   "execution_count": 399,
   "metadata": {},
   "outputs": [],
   "source": [
    "def greedy_reranking(recos, users_list, diversity_matrix, alpha, k=10, save=False):\n",
    "    final_results = pd.DataFrame()\n",
    "    for u in tqdm(users_list):\n",
    "        recos_user = recos[recos['user_id']==u]\n",
    "        recos_list_user = recos_user['item_id'].tolist()\n",
    "        pertinence_scores = recos_user['score'].tolist()\n",
    "        diversity_matrix_user = diversity_matrix[diversity_matrix.index.isin(recos_list_user)][recos_list_user]\n",
    "        \n",
    "        selected_items = []\n",
    "        remaining_items = recos_user['item_id'].tolist()\n",
    "\n",
    "        while len(selected_items) < k and remaining_items:\n",
    "            best_i = None\n",
    "            best_score = -1\n",
    "            print('\\n')\n",
    "            for candidate in remaining_items:\n",
    "                accuracy = recos_user[recos_user['item_id']==candidate]['score'].values[0]\n",
    "                temporary_list = selected_items.copy()\n",
    "                temporary_list.append(candidate)\n",
    "                temporary_list_sorted = temporary_list.copy()\n",
    "                temporary_list_sorted.sort()\n",
    "                # div_score = np.mean([diversity_matrix_user[candidate, s] for s in selected_items]) if selected_items else 0\n",
    "                div_score = ILD(diversity_matrix_user[diversity_matrix_user.index.isin(temporary_list)][temporary_list_sorted]) if selected_items else 0 \n",
    "                score = ((1-alpha)*accuracy)+(alpha*div_score) \n",
    "                print('taille liste:', len(selected_items), 'taille liste temp',len(temporary_list), 'candidate news', candidate, 'accuracy',accuracy, 'diversity',div_score, 'score total',score)\n",
    "                if score > best_score:\n",
    "                    best_score=score\n",
    "                    best_item=candidate\n",
    "            \n",
    "            if best_score >= 0:\n",
    "                selected_items.append(best_item)\n",
    "                remaining_items.remove(best_item)\n",
    "            else:\n",
    "                break\n",
    "\n",
    "        recos_user_final = recos_user[recos_user['item_id'].isin(selected_items)]\n",
    "        recos_user_final.set_index('item_id', inplace=True)\n",
    "        recos_user_final = recos_user_final.reindex(selected_items)\n",
    "        recos_user_final.reset_index(inplace=True)\n",
    "        recos_user_final = recos_user_final[['user_id','item_id','score']]\n",
    "        final_results = pd.concat([final_results, recos_user_final])\n",
    "    final_results['item_id'] = final_results['item_id'].astype(int)\n",
    "    if save == True:\n",
    "        path = 're_ranking_results/greedy/greedy_lambda_'+str(alpha).replace('.','')+'.csv'\n",
    "        final_results.to_csv(path, index=False)\n",
    "    return final_results"
   ]
  },
  {
   "cell_type": "code",
   "execution_count": 292,
   "metadata": {},
   "outputs": [
    {
     "name": "stderr",
     "output_type": "stream",
     "text": [
      "100%|██████████| 5/5 [00:23<00:00,  4.63s/it]\n"
     ]
    }
   ],
   "source": [
    "# greedy_0 = greedy_reranking(results_cv, users_list, diversity_matrix, alpha=0, k=20, save=True)\n",
    "# greedy_01 = greedy_reranking(results_cv, users_list, diversity_matrix, alpha=0.1, k=20, save=True)\n",
    "# greedy_02 = greedy_reranking(results_cv, users_list, diversity_matrix, alpha=0.2, k=20, save=True)\n",
    "# greedy_03 = greedy_reranking(results_cv, users_list, diversity_matrix, alpha=0.3, k=20, save=True)\n",
    "# greedy_04 = greedy_reranking(results_cv, users_list, diversity_matrix, alpha=0.4, k=20, save=True)\n",
    "# greedy_05 = greedy_reranking(results_cv, users_list, diversity_matrix, alpha=0.5, k=20, save=True)\n",
    "# greedy_06 = greedy_reranking(results_cv, users_list, diversity_matrix, alpha=0.6, k=20, save=True)\n",
    "# greedy_07 = greedy_reranking(results_cv, users_list, diversity_matrix, alpha=0.7, k=20, save=True)\n",
    "# greedy_08 = greedy_reranking(results_cv, users_list, diversity_matrix, alpha=0.8, k=20, save=True)\n",
    "# greedy_09 = greedy_reranking(results_cv, users_list, diversity_matrix, alpha=0.9, k=20, save=True)\n",
    "# greedy_1 = greedy_reranking(results_cv, users_list[:5], diversity_matrix, alpha=1, k=20, save=False)"
   ]
  },
  {
   "cell_type": "markdown",
   "metadata": {},
   "source": [
    "# Comparison distribution greedy / smooth"
   ]
  },
  {
   "cell_type": "code",
   "execution_count": 400,
   "metadata": {},
   "outputs": [],
   "source": [
    "from gensim.matutils import hellinger"
   ]
  },
  {
   "cell_type": "code",
   "execution_count": null,
   "metadata": {},
   "outputs": [],
   "source": [
    "def calibration_hellinger_target(lambda_values, list_users, users_interest_df):\n",
    "    dict_ch = {}\n",
    "    for u in tqdm(list_users):\n",
    "        interest_user = users_interest_df.loc[u].values.tolist()\n",
    "        #get optimal lambda\n",
    "        optimal_lambda = lambda_values.loc[u]['optimal_lambda']\n",
    "        new_proportion = homogeneization(interest_user, param = optimal_lambda)\n",
    "        # recos_user = recos[recos['user_id']==u].reset_index(drop=True)\n",
    "        # distrib_categories = []\n",
    "        # for c in categories_list:\n",
    "        #     prop_cat = len(recos_user[recos_user['category']==c])\n",
    "        #     distrib_categories.append(prop_cat/len(recos_user))\n",
    "        c_h_user = hellinger(interest_user, new_proportion).sum()\n",
    "        dict_key = {u:c_h_user}\n",
    "        dict_ch.update(dict_key)\n",
    "    return dict_ch"
   ]
  },
  {
   "cell_type": "code",
   "execution_count": null,
   "metadata": {},
   "outputs": [],
   "source": [
    "        for l in np.arange(0, 1.05, 0.05):\n",
    "            #calcul de la nouvelle distribution avec application d'une certaine valeur de lambda\n",
    "            new_distrib = homogeneization(proportions_user, param=round(l, 2))\n",
    "            #calcul de l'entropie correspondante\n",
    "            new_entropy = normalized_entropy(new_distrib)\n",
    "            #calcul de l'erreur entre entropie de la nouvelle distribution et entropie cible\n",
    "            delta = target_entropy - new_entropy\n",
    "            #enregistrement de cette nouvelle valeur dans le dictionnaire\n",
    "            dict_key = {round(l,2):abs(delta)}\n",
    "            dict_lambda_user.update(dict_key)"
   ]
  },
  {
   "cell_type": "code",
   "execution_count": null,
   "metadata": {},
   "outputs": [],
   "source": [
    "def compare_distrib(recos, users_list, users_interest_df):\n",
    "    dict_ch_smooth = {}\n",
    "    for u in users_list:\n",
    "        best_ch = 10\n",
    "        recos_user = recos[recos['user_id']==u].reset_index(drop=True)\n",
    "        interest_user = users_interest_df.loc[u].values.tolist()\n",
    "        distrib_cat_recos = []\n",
    "        for c in categories_list:\n",
    "            prop_cat = len(recos_user[recos_user['category']==c])\n",
    "            distrib_cat_recos.append(prop_cat/len(recos_user))\n",
    "        for l in np.arange(0, 1.1, 0.1):\n",
    "            new_distrib = homogeneization(distrib_cat_recos, param=round(l,1))\n",
    "            c_h = hellinger(distrib_cat_recos, , new_distrib)\n",
    "            if c_h < best_ch:\n",
    "                best_ch = c_h\n",
    "                optimal_lambda = l\n",
    "        smoothed_distrib_user = homogeneization(distrib_cat_recos, param=round(optimal_lambda, 1))\n",
    "        c_h_final = hellinger(interest_user, smoothed_distrib_user).sum()\n",
    "        dict_key = {u:c_h_final}\n",
    "        dict_ch_smooth.update(dict_key)\n",
    "    return dict_ch_smooth\n"
   ]
  }
 ],
 "metadata": {
  "kernelspec": {
   "display_name": "base",
   "language": "python",
   "name": "python3"
  },
  "language_info": {
   "codemirror_mode": {
    "name": "ipython",
    "version": 3
   },
   "file_extension": ".py",
   "mimetype": "text/x-python",
   "name": "python",
   "nbconvert_exporter": "python",
   "pygments_lexer": "ipython3",
   "version": "3.9.7"
  }
 },
 "nbformat": 4,
 "nbformat_minor": 2
}
